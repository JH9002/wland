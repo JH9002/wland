{
 "cells": [
  {
   "cell_type": "code",
   "execution_count": 70,
   "metadata": {},
   "outputs": [
    {
     "name": "stdout",
     "output_type": "stream",
     "text": [
      "{'j': ['서울', '서울', '서울', '서울', '서울', '서울', '서울', '서울', '서울', '서울', '부산', '부산', '부산', '부산', '부산', '부산', '부산', '부산', '부산', '부산', '제주', '제주', '제주', '제주', '제주', '제주', '제주', '제주', '제주', '제주'], 'd': ['2023-01-01', '2023-01-02', '2023-01-03', '2023-01-04', '2023-01-05', '2023-01-06', '2023-01-07', '2023-01-08', '2023-01-09', '2023-01-10', '2023-01-01', '2023-01-02', '2023-01-03', '2023-01-04', '2023-01-05', '2023-01-06', '2023-01-07', '2023-01-08', '2023-01-09', '2023-01-10', '2023-01-01', '2023-01-02', '2023-01-03', '2023-01-04', '2023-01-05', '2023-01-06', '2023-01-07', '2023-01-08', '2023-01-09', '2023-01-10'], 'm': ['3.8', '-0.4', '0.6', '3.3', '3.6', '5.7', '3.8', '6.3', '7.0', '9.1', '3.8', '-0.4', '0.6', '3.3', '3.6', '5.7', '3.8', '6.3', '7.0', '9.1', '3.8', '-0.4', '0.6', '3.3', '3.6', '5.7', '3.8', '6.3', '7.0', '9.1'], 'n': ['-4.3', '-7.4', '-9.0', '-5.7', '-5.6', '-4.7', '-1.4', '-3.7', '-1.3', '-3.9', '-4.3', '-7.4', '-9.0', '-5.7', '-5.6', '-4.7', '-1.4', '-3.7', '-1.3', '-3.9', '-4.3', '-7.4', '-9.0', '-5.7', '-5.6', '-4.7', '-1.4', '-3.7', '-1.3', '-3.9'], 'r': ['', '', '', '', '', '3.9', '0.1', '', '', '', '', '', '', '', '', '3.9', '0.1', '', '', '', '', '', '', '', '', '3.9', '0.1', '', '', '']}\n"
     ]
    }
   ],
   "source": [
    "# json파일\n",
    "import json\n",
    "\n",
    "# JSON 파일 경로\n",
    "json_file_path = \"C:/Users/jh/OneDrive - 연세대학교 (Yonsei University)/000 취업사관학교/새싹 프로그램) 강의 시작/240103/weatherData.json\"\n",
    "\n",
    "# JSON 파일 읽기\n",
    "with open(json_file_path, 'r', encoding='utf-8') as json_file:\n",
    "    json_data = json.load(json_file)\n",
    "\n",
    "# 읽어온 데이터 출력\n",
    "print(json_data)"
   ]
  },
  {
   "cell_type": "code",
   "execution_count": 74,
   "metadata": {},
   "outputs": [
    {
     "data": {
      "text/plain": [
       "['서울',\n",
       " '서울',\n",
       " '서울',\n",
       " '서울',\n",
       " '서울',\n",
       " '서울',\n",
       " '서울',\n",
       " '서울',\n",
       " '서울',\n",
       " '서울',\n",
       " '부산',\n",
       " '부산',\n",
       " '부산',\n",
       " '부산',\n",
       " '부산',\n",
       " '부산',\n",
       " '부산',\n",
       " '부산',\n",
       " '부산',\n",
       " '부산',\n",
       " '제주',\n",
       " '제주',\n",
       " '제주',\n",
       " '제주',\n",
       " '제주',\n",
       " '제주',\n",
       " '제주',\n",
       " '제주',\n",
       " '제주',\n",
       " '제주']"
      ]
     },
     "execution_count": 74,
     "metadata": {},
     "output_type": "execute_result"
    }
   ],
   "source": [
    "json_data['j']"
   ]
  },
  {
   "cell_type": "code",
   "execution_count": 73,
   "metadata": {},
   "outputs": [
    {
     "data": {
      "text/plain": [
       "'서울'"
      ]
     },
     "execution_count": 73,
     "metadata": {},
     "output_type": "execute_result"
    }
   ],
   "source": [
    "json_data['j'][0]"
   ]
  },
  {
   "cell_type": "code",
   "execution_count": null,
   "metadata": {},
   "outputs": [],
   "source": []
  },
  {
   "cell_type": "code",
   "execution_count": 60,
   "metadata": {},
   "outputs": [
    {
     "data": {
      "text/html": [
       "<div>\n",
       "<style scoped>\n",
       "    .dataframe tbody tr th:only-of-type {\n",
       "        vertical-align: middle;\n",
       "    }\n",
       "\n",
       "    .dataframe tbody tr th {\n",
       "        vertical-align: top;\n",
       "    }\n",
       "\n",
       "    .dataframe thead th {\n",
       "        text-align: right;\n",
       "    }\n",
       "</style>\n",
       "<table border=\"1\" class=\"dataframe\">\n",
       "  <thead>\n",
       "    <tr style=\"text-align: right;\">\n",
       "      <th></th>\n",
       "      <th>지점명</th>\n",
       "      <th>날짜</th>\n",
       "      <th>최저기온</th>\n",
       "      <th>최고기온</th>\n",
       "      <th>강수량</th>\n",
       "    </tr>\n",
       "  </thead>\n",
       "  <tbody>\n",
       "    <tr>\n",
       "      <th>0</th>\n",
       "      <td>서울</td>\n",
       "      <td>2023-01-01</td>\n",
       "      <td>3.8</td>\n",
       "      <td>-4.3</td>\n",
       "      <td>NaN</td>\n",
       "    </tr>\n",
       "    <tr>\n",
       "      <th>1</th>\n",
       "      <td>서울</td>\n",
       "      <td>2023-01-02</td>\n",
       "      <td>-0.4</td>\n",
       "      <td>-7.4</td>\n",
       "      <td>NaN</td>\n",
       "    </tr>\n",
       "    <tr>\n",
       "      <th>2</th>\n",
       "      <td>서울</td>\n",
       "      <td>2023-01-03</td>\n",
       "      <td>0.6</td>\n",
       "      <td>-9</td>\n",
       "      <td>NaN</td>\n",
       "    </tr>\n",
       "    <tr>\n",
       "      <th>3</th>\n",
       "      <td>서울</td>\n",
       "      <td>2023-01-04</td>\n",
       "      <td>3.3</td>\n",
       "      <td>-5.7</td>\n",
       "      <td>NaN</td>\n",
       "    </tr>\n",
       "    <tr>\n",
       "      <th>4</th>\n",
       "      <td>서울</td>\n",
       "      <td>2023-01-05</td>\n",
       "      <td>3.6</td>\n",
       "      <td>-5.6</td>\n",
       "      <td>NaN</td>\n",
       "    </tr>\n",
       "    <tr>\n",
       "      <th>5</th>\n",
       "      <td>서울</td>\n",
       "      <td>2023-01-06</td>\n",
       "      <td>5.7</td>\n",
       "      <td>-4.7</td>\n",
       "      <td>NaN</td>\n",
       "    </tr>\n",
       "    <tr>\n",
       "      <th>6</th>\n",
       "      <td>서울</td>\n",
       "      <td>2023-01-07</td>\n",
       "      <td>3.8</td>\n",
       "      <td>-1.4</td>\n",
       "      <td>NaN</td>\n",
       "    </tr>\n",
       "    <tr>\n",
       "      <th>7</th>\n",
       "      <td>서울</td>\n",
       "      <td>2023-01-08</td>\n",
       "      <td>6.3</td>\n",
       "      <td>-3.7</td>\n",
       "      <td>NaN</td>\n",
       "    </tr>\n",
       "    <tr>\n",
       "      <th>8</th>\n",
       "      <td>서울</td>\n",
       "      <td>2023-01-09</td>\n",
       "      <td>7</td>\n",
       "      <td>-1.3</td>\n",
       "      <td>3.9</td>\n",
       "    </tr>\n",
       "    <tr>\n",
       "      <th>9</th>\n",
       "      <td>서울</td>\n",
       "      <td>2023-01-10</td>\n",
       "      <td>9.1</td>\n",
       "      <td>-3.9</td>\n",
       "      <td>0.1</td>\n",
       "    </tr>\n",
       "    <tr>\n",
       "      <th>10</th>\n",
       "      <td>부산</td>\n",
       "      <td>2023-01-01</td>\n",
       "      <td>3.8</td>\n",
       "      <td>-4.3</td>\n",
       "      <td>NaN</td>\n",
       "    </tr>\n",
       "    <tr>\n",
       "      <th>11</th>\n",
       "      <td>부산</td>\n",
       "      <td>2023-01-02</td>\n",
       "      <td>-0.4</td>\n",
       "      <td>-7.4</td>\n",
       "      <td>NaN</td>\n",
       "    </tr>\n",
       "    <tr>\n",
       "      <th>12</th>\n",
       "      <td>부산</td>\n",
       "      <td>2023-01-03</td>\n",
       "      <td>0.6</td>\n",
       "      <td>-9</td>\n",
       "      <td>NaN</td>\n",
       "    </tr>\n",
       "    <tr>\n",
       "      <th>13</th>\n",
       "      <td>부산</td>\n",
       "      <td>2023-01-04</td>\n",
       "      <td>3.3</td>\n",
       "      <td>-5.7</td>\n",
       "      <td>NaN</td>\n",
       "    </tr>\n",
       "    <tr>\n",
       "      <th>14</th>\n",
       "      <td>부산</td>\n",
       "      <td>2023-01-05</td>\n",
       "      <td>3.6</td>\n",
       "      <td>-5.6</td>\n",
       "      <td>NaN</td>\n",
       "    </tr>\n",
       "    <tr>\n",
       "      <th>15</th>\n",
       "      <td>부산</td>\n",
       "      <td>2023-01-06</td>\n",
       "      <td>5.7</td>\n",
       "      <td>-4.7</td>\n",
       "      <td>NaN</td>\n",
       "    </tr>\n",
       "    <tr>\n",
       "      <th>16</th>\n",
       "      <td>부산</td>\n",
       "      <td>2023-01-07</td>\n",
       "      <td>3.8</td>\n",
       "      <td>-1.4</td>\n",
       "      <td>NaN</td>\n",
       "    </tr>\n",
       "    <tr>\n",
       "      <th>17</th>\n",
       "      <td>부산</td>\n",
       "      <td>2023-01-08</td>\n",
       "      <td>6.3</td>\n",
       "      <td>-3.7</td>\n",
       "      <td>NaN</td>\n",
       "    </tr>\n",
       "    <tr>\n",
       "      <th>18</th>\n",
       "      <td>부산</td>\n",
       "      <td>2023-01-09</td>\n",
       "      <td>7</td>\n",
       "      <td>-1.3</td>\n",
       "      <td>3.9</td>\n",
       "    </tr>\n",
       "    <tr>\n",
       "      <th>19</th>\n",
       "      <td>부산</td>\n",
       "      <td>2023-01-10</td>\n",
       "      <td>9.1</td>\n",
       "      <td>-3.9</td>\n",
       "      <td>0.1</td>\n",
       "    </tr>\n",
       "    <tr>\n",
       "      <th>20</th>\n",
       "      <td>제주</td>\n",
       "      <td>2023-01-01</td>\n",
       "      <td>3.8</td>\n",
       "      <td>-4.3</td>\n",
       "      <td>NaN</td>\n",
       "    </tr>\n",
       "    <tr>\n",
       "      <th>21</th>\n",
       "      <td>제주</td>\n",
       "      <td>2023-01-02</td>\n",
       "      <td>-0.4</td>\n",
       "      <td>-7.4</td>\n",
       "      <td>NaN</td>\n",
       "    </tr>\n",
       "    <tr>\n",
       "      <th>22</th>\n",
       "      <td>제주</td>\n",
       "      <td>2023-01-03</td>\n",
       "      <td>0.6</td>\n",
       "      <td>-9</td>\n",
       "      <td>NaN</td>\n",
       "    </tr>\n",
       "    <tr>\n",
       "      <th>23</th>\n",
       "      <td>제주</td>\n",
       "      <td>2023-01-04</td>\n",
       "      <td>3.3</td>\n",
       "      <td>-5.7</td>\n",
       "      <td>NaN</td>\n",
       "    </tr>\n",
       "    <tr>\n",
       "      <th>24</th>\n",
       "      <td>제주</td>\n",
       "      <td>2023-01-05</td>\n",
       "      <td>3.6</td>\n",
       "      <td>-5.6</td>\n",
       "      <td>NaN</td>\n",
       "    </tr>\n",
       "    <tr>\n",
       "      <th>25</th>\n",
       "      <td>제주</td>\n",
       "      <td>2023-01-06</td>\n",
       "      <td>5.7</td>\n",
       "      <td>-4.7</td>\n",
       "      <td>NaN</td>\n",
       "    </tr>\n",
       "    <tr>\n",
       "      <th>26</th>\n",
       "      <td>제주</td>\n",
       "      <td>2023-01-07</td>\n",
       "      <td>3.8</td>\n",
       "      <td>-1.4</td>\n",
       "      <td>NaN</td>\n",
       "    </tr>\n",
       "    <tr>\n",
       "      <th>27</th>\n",
       "      <td>제주</td>\n",
       "      <td>2023-01-08</td>\n",
       "      <td>6.3</td>\n",
       "      <td>-3.7</td>\n",
       "      <td>NaN</td>\n",
       "    </tr>\n",
       "    <tr>\n",
       "      <th>28</th>\n",
       "      <td>제주</td>\n",
       "      <td>2023-01-09</td>\n",
       "      <td>7</td>\n",
       "      <td>-1.3</td>\n",
       "      <td>3.9</td>\n",
       "    </tr>\n",
       "    <tr>\n",
       "      <th>29</th>\n",
       "      <td>제주</td>\n",
       "      <td>2023-01-10</td>\n",
       "      <td>9.1</td>\n",
       "      <td>-3.9</td>\n",
       "      <td>0.1</td>\n",
       "    </tr>\n",
       "  </tbody>\n",
       "</table>\n",
       "</div>"
      ],
      "text/plain": [
       "   지점명          날짜         최저기온          최고기온  강수량\n",
       "0   서울  2023-01-01          3.8          -4.3  NaN\n",
       "1   서울  2023-01-02         -0.4          -7.4  NaN\n",
       "2   서울  2023-01-03          0.6            -9  NaN\n",
       "3   서울  2023-01-04          3.3          -5.7  NaN\n",
       "4   서울  2023-01-05          3.6          -5.6  NaN\n",
       "5   서울  2023-01-06          5.7          -4.7  NaN\n",
       "6   서울  2023-01-07          3.8          -1.4  NaN\n",
       "7   서울  2023-01-08          6.3          -3.7  NaN\n",
       "8   서울  2023-01-09            7          -1.3  3.9\n",
       "9   서울  2023-01-10          9.1          -3.9  0.1\n",
       "10  부산  2023-01-01          3.8          -4.3  NaN\n",
       "11  부산  2023-01-02         -0.4          -7.4  NaN\n",
       "12  부산  2023-01-03          0.6            -9  NaN\n",
       "13  부산  2023-01-04          3.3          -5.7  NaN\n",
       "14  부산  2023-01-05          3.6          -5.6  NaN\n",
       "15  부산  2023-01-06          5.7          -4.7  NaN\n",
       "16  부산  2023-01-07          3.8          -1.4  NaN\n",
       "17  부산  2023-01-08          6.3          -3.7  NaN\n",
       "18  부산  2023-01-09            7          -1.3  3.9\n",
       "19  부산  2023-01-10          9.1          -3.9  0.1\n",
       "20  제주  2023-01-01          3.8          -4.3  NaN\n",
       "21  제주  2023-01-02         -0.4          -7.4  NaN\n",
       "22  제주  2023-01-03          0.6            -9  NaN\n",
       "23  제주  2023-01-04          3.3          -5.7  NaN\n",
       "24  제주  2023-01-05          3.6          -5.6  NaN\n",
       "25  제주  2023-01-06          5.7          -4.7  NaN\n",
       "26  제주  2023-01-07          3.8          -1.4  NaN\n",
       "27  제주  2023-01-08          6.3          -3.7  NaN\n",
       "28  제주  2023-01-09            7          -1.3  3.9\n",
       "29  제주  2023-01-10       9.1             -3.9  0.1" 
      ]
     },
     "execution_count": 60,
     "metadata": {},
     "output_type": "execute_result"
    }
   ],
   "source": [
    "ㅁ"
   ]
  },
  {
   "cell_type": "code",
   "execution_count": null,
   "metadata": {},
   "outputs": [],
   "source": []
  },
  {
   "cell_type": "code",
   "execution_count": 113,
   "metadata": {},
   "outputs": [
    {
     "data": {
      "text/html": [
       "<div>\n",
       "<style scoped>\n",
       "    .dataframe tbody tr th:only-of-type {\n",
       "        vertical-align: middle;\n",
       "    }\n",
       "\n",
       "    .dataframe tbody tr th {\n",
       "        vertical-align: top;\n",
       "    }\n",
       "\n",
       "    .dataframe thead th {\n",
       "        text-align: right;\n",
       "    }\n",
       "</style>\n",
       "<table border=\"1\" class=\"dataframe\">\n",
       "  <thead>\n",
       "    <tr style=\"text-align: right;\">\n",
       "      <th></th>\n",
       "      <th>지점명</th>\n",
       "      <th>관측시간</th>\n",
       "      <th>최고기온</th>\n",
       "      <th>최저기온</th>\n",
       "      <th>강수량</th>\n",
       "    </tr>\n",
       "  </thead>\n",
       "  <tbody>\n",
       "    <tr>\n",
       "      <th>0</th>\n",
       "      <td>서울</td>\n",
       "      <td>2023-01-01</td>\n",
       "      <td>3.8</td>\n",
       "      <td>-4.3</td>\n",
       "      <td>NaN</td>\n",
       "    </tr>\n",
       "    <tr>\n",
       "      <th>1</th>\n",
       "      <td>서울</td>\n",
       "      <td>2023-01-02</td>\n",
       "      <td>-0.4</td>\n",
       "      <td>-7.4</td>\n",
       "      <td>NaN</td>\n",
       "    </tr>\n",
       "    <tr>\n",
       "      <th>2</th>\n",
       "      <td>서울</td>\n",
       "      <td>2023-01-03</td>\n",
       "      <td>0.6</td>\n",
       "      <td>-9.0</td>\n",
       "      <td>NaN</td>\n",
       "    </tr>\n",
       "    <tr>\n",
       "      <th>3</th>\n",
       "      <td>서울</td>\n",
       "      <td>2023-01-04</td>\n",
       "      <td>3.3</td>\n",
       "      <td>-5.7</td>\n",
       "      <td>NaN</td>\n",
       "    </tr>\n",
       "    <tr>\n",
       "      <th>4</th>\n",
       "      <td>서울</td>\n",
       "      <td>2023-01-05</td>\n",
       "      <td>3.6</td>\n",
       "      <td>-5.6</td>\n",
       "      <td>NaN</td>\n",
       "    </tr>\n",
       "    <tr>\n",
       "      <th>...</th>\n",
       "      <td>...</td>\n",
       "      <td>...</td>\n",
       "      <td>...</td>\n",
       "      <td>...</td>\n",
       "      <td>...</td>\n",
       "    </tr>\n",
       "    <tr>\n",
       "      <th>85</th>\n",
       "      <td>제주</td>\n",
       "      <td>2023-01-26</td>\n",
       "      <td>9.6</td>\n",
       "      <td>0.4</td>\n",
       "      <td>0.5</td>\n",
       "    </tr>\n",
       "    <tr>\n",
       "      <th>86</th>\n",
       "      <td>제주</td>\n",
       "      <td>2023-01-27</td>\n",
       "      <td>6.1</td>\n",
       "      <td>-0.1</td>\n",
       "      <td>4.8</td>\n",
       "    </tr>\n",
       "    <tr>\n",
       "      <th>87</th>\n",
       "      <td>제주</td>\n",
       "      <td>2023-01-28</td>\n",
       "      <td>4.7</td>\n",
       "      <td>-0.7</td>\n",
       "      <td>0.8</td>\n",
       "    </tr>\n",
       "    <tr>\n",
       "      <th>88</th>\n",
       "      <td>제주</td>\n",
       "      <td>2023-01-29</td>\n",
       "      <td>8.3</td>\n",
       "      <td>4.4</td>\n",
       "      <td>0.0</td>\n",
       "    </tr>\n",
       "    <tr>\n",
       "      <th>89</th>\n",
       "      <td>제주</td>\n",
       "      <td>2023-01-30</td>\n",
       "      <td>9.5</td>\n",
       "      <td>2.5</td>\n",
       "      <td>NaN</td>\n",
       "    </tr>\n",
       "  </tbody>\n",
       "</table>\n",
       "<p>90 rows × 5 columns</p>\n",
       "</div>"
      ],
      "text/plain": [
       "   지점명        관측시간  최고기온  최저기온  강수량\n",
       "0   서울  2023-01-01   3.8  -4.3  NaN\n",
       "1   서울  2023-01-02  -0.4  -7.4  NaN\n",
       "2   서울  2023-01-03   0.6  -9.0  NaN\n",
       "3   서울  2023-01-04   3.3  -5.7  NaN\n",
       "4   서울  2023-01-05   3.6  -5.6  NaN\n",
       "..  ..         ...   ...   ...  ...\n",
       "85  제주  2023-01-26   9.6   0.4  0.5\n",
       "86  제주  2023-01-27   6.1  -0.1  4.8\n",
       "87  제주  2023-01-28   4.7  -0.7  0.8\n",
       "88  제주  2023-01-29   8.3   4.4  0.0\n",
       "89  제주  2023-01-30   9.5   2.5  NaN\n",
       "\n",
       "[90 rows x 5 columns]"
      ]
     },
     "execution_count": 113,
     "metadata": {},
     "output_type": "execute_result"
    }
   ],
   "source": [
    "# csv 파일\n",
    "import pandas as pd\n",
    "data=pd.read_csv(\"C:/Users/jh/OneDrive - 연세대학교 (Yonsei University)/000 취업사관학교/새싹 프로그램) 강의 시작/240103/날씨정보.csv\", encoding='utf-8')\n",
    "data"
   ]
  },
  {
   "cell_type": "code",
   "execution_count": null,
   "metadata": {},
   "outputs": [],
   "source": []
  },
  {
   "cell_type": "code",
   "execution_count": 114,
   "metadata": {},
   "outputs": [
    {
     "data": {
      "text/plain": [
       "array(['서울', '부산', '제주'], dtype=object)"
      ]
     },
     "execution_count": 114,
     "metadata": {},
     "output_type": "execute_result"
    }
   ],
   "source": [
    "filtered_data = data[data['지점명'].isin(['서울', '부산', '제주'])]\n",
    "\n",
    "# 필터링된 결과에서 '지점명' 열의 중복되지 않는(unique) 값 출력\n",
    "unique_locations = filtered_data['지점명'].unique()\n",
    "unique_locations"
   ]
  },
  {
   "cell_type": "code",
   "execution_count": null,
   "metadata": {},
   "outputs": [],
   "source": []
  },
  {
   "cell_type": "code",
   "execution_count": 115,
   "metadata": {},
   "outputs": [
    {
     "data": {
      "text/html": [
       "<div>\n",
       "<style scoped>\n",
       "    .dataframe tbody tr th:only-of-type {\n",
       "        vertical-align: middle;\n",
       "    }\n",
       "\n",
       "    .dataframe tbody tr th {\n",
       "        vertical-align: top;\n",
       "    }\n",
       "\n",
       "    .dataframe thead th {\n",
       "        text-align: right;\n",
       "    }\n",
       "</style>\n",
       "<table border=\"1\" class=\"dataframe\">\n",
       "  <thead>\n",
       "    <tr style=\"text-align: right;\">\n",
       "      <th></th>\n",
       "      <th>최고기온</th>\n",
       "      <th>최저기온</th>\n",
       "      <th>강수량</th>\n",
       "    </tr>\n",
       "  </thead>\n",
       "  <tbody>\n",
       "    <tr>\n",
       "      <th>count</th>\n",
       "      <td>90.000000</td>\n",
       "      <td>90.000000</td>\n",
       "      <td>39.000000</td>\n",
       "    </tr>\n",
       "    <tr>\n",
       "      <th>mean</th>\n",
       "      <td>7.174444</td>\n",
       "      <td>-1.468889</td>\n",
       "      <td>4.407692</td>\n",
       "    </tr>\n",
       "    <tr>\n",
       "      <th>std</th>\n",
       "      <td>5.413976</td>\n",
       "      <td>6.018280</td>\n",
       "      <td>13.930209</td>\n",
       "    </tr>\n",
       "    <tr>\n",
       "      <th>min</th>\n",
       "      <td>-6.900000</td>\n",
       "      <td>-17.300000</td>\n",
       "      <td>0.000000</td>\n",
       "    </tr>\n",
       "    <tr>\n",
       "      <th>25%</th>\n",
       "      <td>3.850000</td>\n",
       "      <td>-5.375000</td>\n",
       "      <td>0.000000</td>\n",
       "    </tr>\n",
       "    <tr>\n",
       "      <th>50%</th>\n",
       "      <td>7.250000</td>\n",
       "      <td>-1.900000</td>\n",
       "      <td>0.200000</td>\n",
       "    </tr>\n",
       "    <tr>\n",
       "      <th>75%</th>\n",
       "      <td>10.050000</td>\n",
       "      <td>3.450000</td>\n",
       "      <td>2.250000</td>\n",
       "    </tr>\n",
       "    <tr>\n",
       "      <th>max</th>\n",
       "      <td>20.700000</td>\n",
       "      <td>14.500000</td>\n",
       "      <td>79.400000</td>\n",
       "    </tr>\n",
       "  </tbody>\n",
       "</table>\n",
       "</div>"
      ],
      "text/plain": [
       "            최고기온       최저기온        강수량\n",
       "count  90.000000  90.000000  39.000000\n",
       "mean    7.174444  -1.468889   4.407692\n",
       "std     5.413976   6.018280  13.930209\n",
       "min    -6.900000 -17.300000   0.000000\n",
       "25%     3.850000  -5.375000   0.000000\n",
       "50%     7.250000  -1.900000   0.200000\n",
       "75%    10.050000   3.450000   2.250000\n",
       "max    20.700000  14.500000  79.400000"
      ]
     },
     "execution_count": 115,
     "metadata": {},
     "output_type": "execute_result"
    }
   ],
   "source": [
    "data.describe()"
   ]
  },
  {
   "cell_type": "code",
   "execution_count": null,
   "metadata": {},
   "outputs": [],
   "source": []
  },
  {
   "cell_type": "code",
   "execution_count": 116,
   "metadata": {},
   "outputs": [
    {
     "data": {
      "text/plain": [
       "count     90\n",
       "unique     3\n",
       "top       서울\n",
       "freq      30\n",
       "Name: 지점명, dtype: object"
      ]
     },
     "execution_count": 116,
     "metadata": {},
     "output_type": "execute_result"
    }
   ],
   "source": [
    "data['지점명'].describe()"
   ]
  },
  {
   "cell_type": "code",
   "execution_count": 117,
   "metadata": {},
   "outputs": [
    {
     "data": {
      "text/plain": [
       "Index(['지점명', '관측시간', '최고기온', '최저기온', '강수량'], dtype='object')"
      ]
     },
     "execution_count": 117,
     "metadata": {},
     "output_type": "execute_result"
    }
   ],
   "source": [
    "data.columns"
   ]
  },
  {
   "cell_type": "code",
   "execution_count": 118,
   "metadata": {},
   "outputs": [
    {
     "name": "stdout",
     "output_type": "stream",
     "text": [
      "20.7\n"
     ]
    }
   ],
   "source": [
    "print(max(data['최고기온']))"
   ]
  },
  {
   "cell_type": "code",
   "execution_count": 119,
   "metadata": {},
   "outputs": [
    {
     "data": {
      "text/plain": [
       "20.7"
      ]
     },
     "execution_count": 119,
     "metadata": {},
     "output_type": "execute_result"
    }
   ],
   "source": [
    "data['최고기온'].max()"
   ]
  },
  {
   "cell_type": "code",
   "execution_count": 122,
   "metadata": {},
   "outputs": [
    {
     "data": {
      "text/plain": [
       "0     2023-01-01\n",
       "1     2023-01-02\n",
       "2     2023-01-03\n",
       "3     2023-01-04\n",
       "4     2023-01-05\n",
       "         ...    \n",
       "85    2023-01-26\n",
       "86    2023-01-27\n",
       "87    2023-01-28\n",
       "88    2023-01-29\n",
       "89    2023-01-30\n",
       "Name: 관측시간, Length: 90, dtype: object"
      ]
     },
     "execution_count": 122,
     "metadata": {},
     "output_type": "execute_result"
    }
   ],
   "source": [
    "data['관측시간']"
   ]
  },
  {
   "cell_type": "code",
   "execution_count": null,
   "metadata": {},
   "outputs": [],
   "source": []
  },
  {
   "cell_type": "code",
   "execution_count": 142,
   "metadata": {},
   "outputs": [
    {
     "data": {
      "text/html": [
       "<div>\n",
       "<style scoped>\n",
       "    .dataframe tbody tr th:only-of-type {\n",
       "        vertical-align: middle;\n",
       "    }\n",
       "\n",
       "    .dataframe tbody tr th {\n",
       "        vertical-align: top;\n",
       "    }\n",
       "\n",
       "    .dataframe thead th {\n",
       "        text-align: right;\n",
       "    }\n",
       "</style>\n",
       "<table border=\"1\" class=\"dataframe\">\n",
       "  <thead>\n",
       "    <tr style=\"text-align: right;\">\n",
       "      <th></th>\n",
       "      <th>지점명</th>\n",
       "      <th>관측시간</th>\n",
       "      <th>최고기온</th>\n",
       "      <th>최저기온</th>\n",
       "      <th>강수량</th>\n",
       "    </tr>\n",
       "  </thead>\n",
       "  <tbody>\n",
       "    <tr>\n",
       "      <th>0</th>\n",
       "      <td>서울</td>\n",
       "      <td>2023-01-01</td>\n",
       "      <td>3.8</td>\n",
       "      <td>-4.3</td>\n",
       "      <td>NaN</td>\n",
       "    </tr>\n",
       "    <tr>\n",
       "      <th>1</th>\n",
       "      <td>서울</td>\n",
       "      <td>2023-01-02</td>\n",
       "      <td>-0.4</td>\n",
       "      <td>-7.4</td>\n",
       "      <td>NaN</td>\n",
       "    </tr>\n",
       "    <tr>\n",
       "      <th>30</th>\n",
       "      <td>부산</td>\n",
       "      <td>2023-01-01</td>\n",
       "      <td>8.7</td>\n",
       "      <td>-2.5</td>\n",
       "      <td>NaN</td>\n",
       "    </tr>\n",
       "    <tr>\n",
       "      <th>31</th>\n",
       "      <td>부산</td>\n",
       "      <td>2023-01-02</td>\n",
       "      <td>6.4</td>\n",
       "      <td>-1.8</td>\n",
       "      <td>NaN</td>\n",
       "    </tr>\n",
       "    <tr>\n",
       "      <th>60</th>\n",
       "      <td>제주</td>\n",
       "      <td>2023-01-01</td>\n",
       "      <td>10.9</td>\n",
       "      <td>5.2</td>\n",
       "      <td>NaN</td>\n",
       "    </tr>\n",
       "    <tr>\n",
       "      <th>61</th>\n",
       "      <td>제주</td>\n",
       "      <td>2023-01-02</td>\n",
       "      <td>7.8</td>\n",
       "      <td>3.7</td>\n",
       "      <td>NaN</td>\n",
       "    </tr>\n",
       "  </tbody>\n",
       "</table>\n",
       "</div>"
      ],
      "text/plain": [
       "   지점명        관측시간  최고기온  최저기온  강수량\n",
       "0   서울  2023-01-01   3.8  -4.3  NaN\n",
       "1   서울  2023-01-02  -0.4  -7.4  NaN\n",
       "30  부산  2023-01-01   8.7  -2.5  NaN\n",
       "31  부산  2023-01-02   6.4  -1.8  NaN\n",
       "60  제주  2023-01-01  10.9   5.2  NaN\n",
       "61  제주  2023-01-02   7.8   3.7  NaN"
      ]
     },
     "execution_count": 142,
     "metadata": {},
     "output_type": "execute_result"
    }
   ],
   "source": [
    "a=data[(data['관측시간'] == '2023-01-01') | (data['관측시간'] == '2023-01-02')]\n",
    "a"
   ]
  },
  {
   "cell_type": "code",
   "execution_count": null,
   "metadata": {},
   "outputs": [],
   "source": []
  },
  {
   "cell_type": "code",
   "execution_count": 147,
   "metadata": {},
   "outputs": [
    {
     "data": {
      "text/plain": [
       "10.9"
      ]
     },
     "execution_count": 147,
     "metadata": {},
     "output_type": "execute_result"
    }
   ],
   "source": [
    "data[data['관측시간'] == '2023-01-01']['최고기온'].max()"
   ]
  },
  {
   "cell_type": "code",
   "execution_count": null,
   "metadata": {},
   "outputs": [],
   "source": []
  },
  {
   "cell_type": "code",
   "execution_count": 124,
   "metadata": {},
   "outputs": [
    {
     "data": {
      "text/plain": [
       "Index(['지점명', '관측시간', '최고기온', '최저기온', '강수량'], dtype='object')"
      ]
     },
     "execution_count": 124,
     "metadata": {},
     "output_type": "execute_result"
    }
   ],
   "source": [
    "data.columns"
   ]
  },
  {
   "cell_type": "code",
   "execution_count": 139,
   "metadata": {},
   "outputs": [
    {
     "data": {
      "text/html": [
       "<div>\n",
       "<style scoped>\n",
       "    .dataframe tbody tr th:only-of-type {\n",
       "        vertical-align: middle;\n",
       "    }\n",
       "\n",
       "    .dataframe tbody tr th {\n",
       "        vertical-align: top;\n",
       "    }\n",
       "\n",
       "    .dataframe thead th {\n",
       "        text-align: right;\n",
       "    }\n",
       "</style>\n",
       "<table border=\"1\" class=\"dataframe\">\n",
       "  <thead>\n",
       "    <tr style=\"text-align: right;\">\n",
       "      <th></th>\n",
       "      <th>관측시간</th>\n",
       "      <th>최고기온</th>\n",
       "    </tr>\n",
       "  </thead>\n",
       "  <tbody>\n",
       "    <tr>\n",
       "      <th>0</th>\n",
       "      <td>2023-01-01</td>\n",
       "      <td>3.8</td>\n",
       "    </tr>\n",
       "    <tr>\n",
       "      <th>1</th>\n",
       "      <td>2023-01-02</td>\n",
       "      <td>-0.4</td>\n",
       "    </tr>\n",
       "    <tr>\n",
       "      <th>30</th>\n",
       "      <td>2023-01-01</td>\n",
       "      <td>8.7</td>\n",
       "    </tr>\n",
       "    <tr>\n",
       "      <th>31</th>\n",
       "      <td>2023-01-02</td>\n",
       "      <td>6.4</td>\n",
       "    </tr>\n",
       "    <tr>\n",
       "      <th>60</th>\n",
       "      <td>2023-01-01</td>\n",
       "      <td>10.9</td>\n",
       "    </tr>\n",
       "    <tr>\n",
       "      <th>61</th>\n",
       "      <td>2023-01-02</td>\n",
       "      <td>7.8</td>\n",
       "    </tr>\n",
       "  </tbody>\n",
       "</table>\n",
       "</div>"
      ],
      "text/plain": [
       "          관측시간  최고기온\n",
       "0   2023-01-01   3.8\n",
       "1   2023-01-02  -0.4\n",
       "30  2023-01-01   8.7\n",
       "31  2023-01-02   6.4\n",
       "60  2023-01-01  10.9\n",
       "61  2023-01-02   7.8"
      ]
     },
     "execution_count": 139,
     "metadata": {},
     "output_type": "execute_result"
    }
   ],
   "source": [
    "data[(data['관측시간'] == '2023-01-01') | (data['관측시간'] == '2023-01-02')][['관측시간','최고기온']]\n"
   ]
  },
  {
   "cell_type": "code",
   "execution_count": 140,
   "metadata": {},
   "outputs": [
    {
     "data": {
      "text/plain": [
       "[<matplotlib.lines.Line2D at 0x1cb695108f0>]"
      ]
     },
     "execution_count": 140,
     "metadata": {},
     "output_type": "execute_result"
    },
    {
     "data": {
      "image/png": "[encoded data removed]",
      "text/plain": [
       "<Figure size 640x480 with 1 Axes>"
      ]
     },
     "metadata": {},
     "output_type": "display_data"
    }
   ],
   "source": [
    "plt.plot(a['관측시간'], a['최고기온'], marker='o')"
   ]
  },
  {
   "cell_type": "code",
   "execution_count": null,
   "metadata": {},
   "outputs": [],
   "source": []
  },
  {
   "cell_type": "code",
   "execution_count": null,
   "metadata": {},
   "outputs": [],
   "source": [
    "# ================================================================================="
   ]
  },
  {
   "cell_type": "code",
   "execution_count": 149,
   "metadata": {},
   "outputs": [
    {
     "data": {
      "text/plain": [
       "0      NaN\n",
       "1      NaN\n",
       "2      NaN\n",
       "3      NaN\n",
       "4      NaN\n",
       "      ... \n",
       "85    10.5\n",
       "86    14.8\n",
       "87    10.8\n",
       "88    10.0\n",
       "89     NaN\n",
       "Name: 강수량, Length: 90, dtype: float64"
      ]
     },
     "execution_count": 149,
     "metadata": {},
     "output_type": "execute_result"
    }
   ],
   "source": [
    "data['강수량']+10"
   ]
  },
  {
   "cell_type": "code",
   "execution_count": 153,
   "metadata": {},
   "outputs": [
    {
     "data": {
      "text/plain": [
       "0     NaN\n",
       "1     NaN\n",
       "2     NaN\n",
       "3     NaN\n",
       "4     NaN\n",
       "     ... \n",
       "85    0.5\n",
       "86    4.8\n",
       "87    0.8\n",
       "88    0.0\n",
       "89    NaN\n",
       "Name: 강수량, Length: 90, dtype: float64"
      ]
     },
     "execution_count": 153,
     "metadata": {},
     "output_type": "execute_result"
    }
   ],
   "source": [
    "data['강수량']"
   ]
  },
  {
   "cell_type": "code",
   "execution_count": 151,
   "metadata": {},
   "outputs": [
    {
     "data": {
      "text/plain": [
       "0     0.0\n",
       "1     0.0\n",
       "2     0.0\n",
       "3     0.0\n",
       "4     0.0\n",
       "     ... \n",
       "85    0.5\n",
       "86    4.8\n",
       "87    0.8\n",
       "88    0.0\n",
       "89    0.0\n",
       "Name: 강수량, Length: 90, dtype: float64"
      ]
     },
     "execution_count": 151,
     "metadata": {},
     "output_type": "execute_result"
    }
   ],
   "source": [
    "data['강수량'].fillna(0)"
   ]
  },
  {
   "cell_type": "code",
   "execution_count": null,
   "metadata": {},
   "outputs": [],
   "source": []
  },
  {
   "cell_type": "code",
   "execution_count": 168,
   "metadata": {},
   "outputs": [
    {
     "data": {
      "image/png": "[encoded data removed]",
      "text/plain": [
       "<Figure size 1000x300 with 1 Axes>"
      ]
     },
     "metadata": {},
     "output_type": "display_data"
    }
   ],
   "source": [
    "import matplotlib.pyplot as plt\n",
    "plt.rcParams['font.family'] = 'Malgun Gothic'\n",
    "\n",
    "\n",
    "서울, 부산, 제주 = data[:30], data[31:60], data[60:]\n",
    "\n",
    "plt.figure(figsize=(10,3))\n",
    "\n",
    "def mychart(datax,title,위치=1, ymin=0,ymax=80):\n",
    "    plt.subplot(1,3,위치)\n",
    "    plt.plot(datax)\n",
    "    plt.title(title)\n",
    "    plt.ylim([ymin,ymax])\n",
    "\n",
    "    plt.subplot(1,3,위치)\n",
    "    plt.plot(datax)\n",
    "    plt.title(title)\n",
    "    plt.ylim([ymin,ymax])\n",
    "\n",
    "    plt.subplot(1,3,위치)\n",
    "    plt.plot(datax)\n",
    "    plt.title(title)\n",
    "    plt.ylim([ymin,ymax])\n",
    "\n",
    "mychart(서울,'서울강수량',1)\n"
   ]
  },
  {
   "cell_type": "code",
   "execution_count": 169,
   "metadata": {},
   "outputs": [
    {
     "data": {
      "image/png": "[encoded data removed]",
      "text/plain": [
       "<Figure size 1000x300 with 1 Axes>"
      ]
     },
     "metadata": {},
     "output_type": "display_data"
    },
    {
     "data": {
      "image/png": "[encoded data removed]",
      "text/plain": [
       "<Figure size 1000x300 with 1 Axes>"
      ]
     },
     "metadata": {},
     "output_type": "display_data"
    },
    {
     "data": {
      "image/png": "[encoded data removed]",
      "text/plain": [
       "<Figure size 1000x300 with 1 Axes>"
      ]
     },
     "metadata": {},
     "output_type": "display_data"
    }
   ],
   "source": [
    "import matplotlib.pyplot as plt\n",
    "plt.rcParams['font.family'] = 'Malgun Gothic'\n",
    "\n",
    "\n",
    "서울, 부산, 제주 = data[:30], data[31:60], data[60:]\n",
    "def mychart(datax,title,위치=1, ymin=0,ymax=80):\n",
    "    plt.figure(figsize=(10,3))\n",
    "    plt.subplot(1,3,위치)\n",
    "    plt.plot(datax)\n",
    "    plt.title(title)\n",
    "    plt.ylim([ymin,ymax])\n",
    "\n",
    "자료=[서울,부산,제주]\n",
    "타이틀=['서울강수량','부산강수량','제주강수량']\n",
    "\n",
    "cnt=0\n",
    "for x,y in zip(자료,타이틀):\n",
    "    cnt+=1\n",
    "    mychart(x,y,cnt)\n"
   ]
  },
  {
   "cell_type": "code",
   "execution_count": null,
   "metadata": {},
   "outputs": [],
   "source": [
    "# ================================================================================="
   ]
  },
  {
   "cell_type": "code",
   "execution_count": 17,
   "metadata": {},
   "outputs": [
    {
     "data": {
      "text/plain": [
       "6"
      ]
     },
     "execution_count": 17,
     "metadata": {},
     "output_type": "execute_result"
    }
   ],
   "source": [
    "def mysum(*args):\n",
    "    sum=0\n",
    "    for x in args:\n",
    "        sum+=x\n",
    "    return sum\n",
    "mysum(1,2,3)"
   ]
  },
  {
   "cell_type": "code",
   "execution_count": null,
   "metadata": {},
   "outputs": [],
   "source": []
  },
  {
   "cell_type": "code",
   "execution_count": 34,
   "metadata": {},
   "outputs": [
    {
     "data": {
      "text/plain": [
       "1"
      ]
     },
     "execution_count": 34,
     "metadata": {},
     "output_type": "execute_result"
    }
   ],
   "source": [
    "# p593~\n",
    "class cal:\n",
    "    def mysum(*args):\n",
    "        sum=0\n",
    "        for x in args:\n",
    "            sum+=x\n",
    "        return sum\n",
    "    \n",
    "    def mymat(*args):\n",
    "        sum=1\n",
    "        for x in args:\n",
    "            sum*=x\n",
    "        return sum\n",
    "my=cal\n",
    "# cal.mysum(1,2,3)\n",
    "my.mymat(1,2,3)"
   ]
  },
  {
   "cell_type": "code",
   "execution_count": null,
   "metadata": {},
   "outputs": [],
   "source": []
  },
  {
   "cell_type": "code",
   "execution_count": 43,
   "metadata": {},
   "outputs": [
    {
     "name": "stdout",
     "output_type": "stream",
     "text": [
      "----------------\n",
      "3 4\n"
     ]
    },
    {
     "data": {
      "text/plain": [
       "<__main__.cal at 0x1cb617aa2d0>"
      ]
     },
     "execution_count": 43,
     "metadata": {},
     "output_type": "execute_result"
    }
   ],
   "source": [
    "## 파이썬 2.x에서는 class에서 반드시 __init__필요\n",
    "\n",
    "class cal:\n",
    "    def __init__(self,a,b):\n",
    "        self.a=a\n",
    "        self.b=b\n",
    "        print('----------------')\n",
    "        print(self.a, self.b)\n",
    "        \n",
    "    def mysum(*args):\n",
    "        sum=0\n",
    "        for x in args:\n",
    "            sum+=x\n",
    "        return sum\n",
    "    \n",
    "    def mymat(*args):\n",
    "        sum=1\n",
    "        for x in args:\n",
    "            sum*=x\n",
    "        return sum\n",
    "my=cal(3,4)\n",
    "my"
   ]
  },
  {
   "cell_type": "code",
   "execution_count": 42,
   "metadata": {},
   "outputs": [
    {
     "data": {
      "text/plain": [
       "6"
      ]
     },
     "execution_count": 42,
     "metadata": {},
     "output_type": "execute_result"
    }
   ],
   "source": [
    "def mymat(*args):\n",
    "    sum=1\n",
    "    for x in args:\n",
    "        sum*=x\n",
    "    return sum\n",
    "mymat(1,2,3)"
   ]
  },
  {
   "cell_type": "code",
   "execution_count": 40,
   "metadata": {},
   "outputs": [
    {
     "name": "stdout",
     "output_type": "stream",
     "text": [
      "----------------\n",
      "5\n",
      "----------------\n",
      "14\n",
      "13\n"
     ]
    }
   ],
   "source": [
    "class cal:\n",
    "    def __init__(self,v1=3,v2=2): # 크르래스 인스턴스를 생성하는 순간 자동으로 맨처음 실행되는 함수\n",
    "        print('----------------')\n",
    "        self.x=v1\n",
    "        self.y=v2\n",
    "        print(self.x+self.y)\n",
    "\n",
    "    def test(x=2):\n",
    "        print(x+5)\n",
    "    \n",
    "cal()\n",
    "cal(6,8)\n",
    "cal.test(8)"
   ]
  },
  {
   "cell_type": "code",
   "execution_count": null,
   "metadata": {},
   "outputs": [],
   "source": []
  },
  {
   "cell_type": "code",
   "execution_count": 48,
   "metadata": {},
   "outputs": [
    {
     "name": "stdout",
     "output_type": "stream",
     "text": [
      "----------------\n",
      "na사용자가 작업합니다.\n",
      "사용자 na input에 5를 더하면 7\n"
     ]
    }
   ],
   "source": [
    "class cal:\n",
    "    def __init__(self,username='na'): # 크르래스 인스턴스를 생성하는 순간 자동으로 맨처음 실행되는 함수\n",
    "        print('----------------')\n",
    "        self.name=username\n",
    "        print(self.name+ \"사용자가 작업합니다.\")\n",
    "    def test(self,x=2):\n",
    "        print('사용자',self.name,'input에 5를 더하면',x+5)\n",
    "\n",
    "aa=cal() # cal().test() // cal.test() xx\n",
    "aa.test()"
   ]
  },
  {
   "cell_type": "code",
   "execution_count": null,
   "metadata": {},
   "outputs": [],
   "source": []
  },
  {
   "cell_type": "code",
   "execution_count": 51,
   "metadata": {},
   "outputs": [
    {
     "name": "stdout",
     "output_type": "stream",
     "text": [
      "----------------\n",
      "na사용자가 작업합니다.\n",
      "2\n",
      "----------------\n",
      "na사용자가 작업합니다.\n",
      "2\n"
     ]
    }
   ],
   "source": [
    "class cal:\n",
    "    def __init__(self,username='na'): # 크르래스 인스턴스를 생성하는 순간 자동으로 맨처음 실행되는 함수\n",
    "        print('----------------')\n",
    "        self.name=username\n",
    "        print(self.name+ \"사용자가 작업합니다.\")\n",
    "    def test(self,x=2):\n",
    "        if self.name !='na':\n",
    "            print(x*20)\n",
    "        else:\n",
    "            print(x)\n",
    "\n",
    "aa=cal() # cal().test() // cal.test() xx\n",
    "aa.test()\n",
    "\n",
    "bb=cal('dddddd') # cal().test() // cal.test() xx\n",
    "bb.test()"
   ]
  },
  {
   "cell_type": "code",
   "execution_count": null,
   "metadata": {},
   "outputs": [],
   "source": []
  },
  {
   "cell_type": "code",
   "execution_count": 55,
   "metadata": {},
   "outputs": [
    {
     "name": "stdout",
     "output_type": "stream",
     "text": [
      "----------------\n",
      "na사용자가 작업합니다.\n",
      "1\n",
      "----------------\n",
      "na사용자가 작업합니다.\n",
      "2\n",
      "2\n",
      "----------------\n",
      "na사용자가 작업합니다.\n",
      "3\n",
      "2\n"
     ]
    }
   ],
   "source": [
    "class cal: ############\n",
    "    total=0\n",
    "    def __init__(self,username='na'): # 크르래스 인스턴스를 생성하는 순간 자동으로 맨처음 실행되는 함수\n",
    "        print('----------------')\n",
    "        self.name=username\n",
    "        print(self.name+ \"사용자가 작업합니다.\")\n",
    "        cal.total+=1 # cal.total=cal.total+1\n",
    "        print(cal.total)\n",
    "\n",
    "\n",
    "    def test(self,x=2):\n",
    "        if self.name !='na':\n",
    "            print(x*20)\n",
    "        else:\n",
    "            print(x)\n",
    "\n",
    "bu=cal() # cal().test() // cal.test() xx\n",
    "cal().test()\n",
    "cal().test()\n",
    "\n",
    "# bu.test()\n",
    "# bu.test()\n",
    "\n",
    "# cal() # 교재\n",
    "# cal()"
   ]
  },
  {
   "cell_type": "code",
   "execution_count": null,
   "metadata": {},
   "outputs": [],
   "source": []
  },
  {
   "cell_type": "code",
   "execution_count": null,
   "metadata": {},
   "outputs": [],
   "source": []
  },
  {
   "cell_type": "code",
   "execution_count": null,
   "metadata": {},
   "outputs": [],
   "source": []
  },
  {
   "cell_type": "code",
   "execution_count": null,
   "metadata": {},
   "outputs": [],
   "source": []
  },
  {
   "cell_type": "code",
   "execution_count": null,
   "metadata": {},
   "outputs": [],
   "source": []
  },
  {
   "cell_type": "code",
   "execution_count": null,
   "metadata": {},
   "outputs": [],
   "source": []
  },
  {
   "cell_type": "code",
   "execution_count": null,
   "metadata": {},
   "outputs": [],
   "source": []
  },
  {
   "cell_type": "code",
   "execution_count": null,
   "metadata": {},
   "outputs": [],
   "source": []
  },
  {
   "cell_type": "code",
   "execution_count": null,
   "metadata": {},
   "outputs": [],
   "source": []
  },
  {
   "cell_type": "code",
   "execution_count": null,
   "metadata": {},
   "outputs": [],
   "source": []
  },
  {
   "cell_type": "code",
   "execution_count": null,
   "metadata": {},
   "outputs": [],
   "source": []
  },
  {
   "cell_type": "code",
   "execution_count": null,
   "metadata": {},
   "outputs": [],
   "source": []
  },
  {
   "cell_type": "code",
   "execution_count": null,
   "metadata": {},
   "outputs": [],
   "source": []
  },
  {
   "cell_type": "code",
   "execution_count": null,
   "metadata": {},
   "outputs": [],
   "source": []
  },
  {
   "cell_type": "code",
   "execution_count": null,
   "metadata": {},
   "outputs": [],
   "source": []
  },
  {
   "cell_type": "code",
   "execution_count": null,
   "metadata": {},
   "outputs": [],
   "source": []
  },
  {
   "cell_type": "code",
   "execution_count": null,
   "metadata": {},
   "outputs": [],
   "source": []
  },
  {
   "cell_type": "code",
   "execution_count": null,
   "metadata": {},
   "outputs": [],
   "source": []
  },
  {
   "cell_type": "code",
   "execution_count": null,
   "metadata": {},
   "outputs": [],
   "source": []
  },
  {
   "cell_type": "code",
   "execution_count": null,
   "metadata": {},
   "outputs": [],
   "source": []
  },
  {
   "cell_type": "code",
   "execution_count": null,
   "metadata": {},
   "outputs": [],
   "source": []
  },
  {
   "cell_type": "code",
   "execution_count": null,
   "metadata": {},
   "outputs": [],
   "source": []
  },
  {
   "cell_type": "code",
   "execution_count": null,
   "metadata": {},
   "outputs": [],
   "source": []
  },
  {
   "cell_type": "code",
   "execution_count": null,
   "metadata": {},
   "outputs": [],
   "source": []
  }
 ],
 "metadata": {
  "kernelspec": {
   "display_name": "OpenAI",
   "language": "python",
   "name": "python3"
  },
  "language_info": {
   "codemirror_mode": {
    "name": "ipython",
    "version": 3
   },
   "file_extension": ".py",
   "mimetype": "text/x-python",
   "name": "python",
   "nbconvert_exporter": "python",
   "pygments_lexer": "ipython3",
   "version": "3.12.0"
  }
 },
 "nbformat": 4,
 "nbformat_minor": 2
}
