{
 "cells": [
  {
   "cell_type": "markdown",
   "metadata": {},
   "source": [
    "# For문"
   ]
  },
  {
   "cell_type": "code",
   "execution_count": 3,
   "metadata": {},
   "outputs": [
    {
     "data": {
      "text/plain": [
       "[0, 0, 0, 0, 0, 0, 0, 0, 0]"
      ]
     },
     "execution_count": 3,
     "metadata": {},
     "output_type": "execute_result"
    }
   ],
   "source": [
    "a=[1,2,3,3,4,4,5,6,7]\n",
    "\n",
    "\n",
    "for i in range(len(a)):\n",
    "    a[i]=0\n",
    "a"
   ]
  },
  {
   "cell_type": "code",
   "execution_count": 4,
   "metadata": {},
   "outputs": [
    {
     "name": "stdout",
     "output_type": "stream",
     "text": [
      "0\n",
      "1\n",
      "2\n"
     ]
    }
   ],
   "source": [
    "for i in range(3):\n",
    "    print(i)"
   ]
  },
  {
   "cell_type": "code",
   "execution_count": 5,
   "metadata": {},
   "outputs": [
    {
     "name": "stdout",
     "output_type": "stream",
     "text": [
      "0\n",
      "1\n",
      "2\n"
     ]
    }
   ],
   "source": [
    "for i in range(0,3):\n",
    "    print(i)"
   ]
  },
  {
   "cell_type": "code",
   "execution_count": null,
   "metadata": {},
   "outputs": [],
   "source": []
  },
  {
   "cell_type": "markdown",
   "metadata": {},
   "source": [
    "## random 함수"
   ]
  },
  {
   "cell_type": "code",
   "execution_count": 13,
   "metadata": {},
   "outputs": [
    {
     "name": "stdout",
     "output_type": "stream",
     "text": [
      "0.9872190729191894\n"
     ]
    }
   ],
   "source": [
    "import random\n",
    "print(random.random())"
   ]
  },
  {
   "cell_type": "code",
   "execution_count": 23,
   "metadata": {},
   "outputs": [
    {
     "data": {
      "text/plain": [
       "3"
      ]
     },
     "execution_count": 23,
     "metadata": {},
     "output_type": "execute_result"
    }
   ],
   "source": [
    "# 1~7중에서 랜덤생성\n",
    "random.randrange(1,7)\n",
    "\n"
   ]
  },
  {
   "cell_type": "code",
   "execution_count": 21,
   "metadata": {},
   "outputs": [
    {
     "data": {
      "text/plain": [
       "79"
      ]
     },
     "execution_count": 21,
     "metadata": {},
     "output_type": "execute_result"
    }
   ],
   "source": [
    "from random import randint\n",
    "n=randint(1,100)\n",
    "n"
   ]
  },
  {
   "cell_type": "code",
   "execution_count": 25,
   "metadata": {},
   "outputs": [
    {
     "name": "stdout",
     "output_type": "stream",
     "text": [
      "43/33/7/40/30/15/"
     ]
    }
   ],
   "source": [
    "\n",
    "for i in range(6):\n",
    "    num=random.randrange(1,46) # 복원추출\n",
    "    print(num, end='/')"
   ]
  },
  {
   "cell_type": "code",
   "execution_count": null,
   "metadata": {},
   "outputs": [],
   "source": []
  },
  {
   "cell_type": "code",
   "execution_count": 57,
   "metadata": {},
   "outputs": [
    {
     "data": {
      "text/plain": [
       "['김동현', '김규리', '김근환', '김태호', '김동민', '권용희']"
      ]
     },
     "execution_count": 57,
     "metadata": {},
     "output_type": "execute_result"
    }
   ],
   "source": [
    "# 중복없이 출력\n",
    "name = '권용희,김규리,김근환,김동민,김동현,김태호'\n",
    "nameList = name.split(',')\n",
    "\n",
    "random.shuffle(nameList)\n",
    "nameList\n"
   ]
  },
  {
   "cell_type": "code",
   "execution_count": null,
   "metadata": {},
   "outputs": [],
   "source": []
  },
  {
   "cell_type": "code",
   "execution_count": 47,
   "metadata": {},
   "outputs": [
    {
     "name": "stdout",
     "output_type": "stream",
     "text": [
      "월 요일에는 김동민 님이 당첨되었습니다.\n",
      "화 요일에는 김규리 님이 당첨되었습니다.\n",
      "수 요일에는 김태호 님이 당첨되었습니다.\n",
      "목 요일에는 김동민 님이 당첨되었습니다.\n",
      "금 요일에는 김동현 님이 당첨되었습니다.\n"
     ]
    }
   ],
   "source": [
    "name='권용희,김규리,김근환,김동민,김동현,김태호'\n",
    "nameList=name.split(',')\n",
    "# print(nameList)\n",
    "\n",
    "dayList='월,화,수,목,금'.split(',')\n",
    "# print(dayList)\n",
    "\n",
    "nameLen=len(nameList)\n",
    "\n",
    "for inx, day in enumerate(dayList):\n",
    "    randomNum = random.choice(nameList)\n",
    "    print(day,'요일에는',randomNum, \"님이 당첨되었습니다.\")"
   ]
  },
  {
   "cell_type": "code",
   "execution_count": null,
   "metadata": {},
   "outputs": [],
   "source": []
  },
  {
   "cell_type": "code",
   "execution_count": 46,
   "metadata": {},
   "outputs": [
    {
     "name": "stdout",
     "output_type": "stream",
     "text": [
      "1 번 월요일 김동현 님이 당첨되었습니다.\n",
      "2 번 화요일 권용희 님이 당첨되었습니다.\n",
      "3 번 수요일 권용희 님이 당첨되었습니다.\n",
      "4 번 목요일 김동현 님이 당첨되었습니다.\n",
      "5 번 금요일 김규리 님이 당첨되었습니다.\n"
     ]
    }
   ],
   "source": [
    "name='권용희,김규리,김근환,김동민,김동현,김태호'\n",
    "nameList=name.split(',')\n",
    "# print(nameList)\n",
    "\n",
    "dayList='월,화,수,목,금'.split(',')\n",
    "# print(dayList)\n",
    "\n",
    "nameLen=len(nameList)\n",
    "\n",
    "for inx, day in enumerate(dayList):\n",
    "    randomNum = random.randrange(0,nameLen)\n",
    "    namePrn=nameList[randomNum]\n",
    "    print(inx+1,'번',day+\"요일\", namePrn, \"님이 당첨되었습니다.\")"
   ]
  },
  {
   "cell_type": "code",
   "execution_count": null,
   "metadata": {},
   "outputs": [],
   "source": []
  },
  {
   "cell_type": "markdown",
   "metadata": {},
   "source": [
    "## zip함수 활용"
   ]
  },
  {
   "cell_type": "code",
   "execution_count": 60,
   "metadata": {},
   "outputs": [
    {
     "name": "stdout",
     "output_type": "stream",
     "text": [
      "권용희 월\n",
      "김규리 화\n",
      "김근환 수\n",
      "김동민 목\n",
      "김동현 금\n"
     ]
    }
   ],
   "source": [
    "name='''권용희,김규리,김근환,김동민,김동현,김태호'''\n",
    "nameList=name.split(',')\n",
    "dayList='월/화/수/목/금'.split('/')\n",
    "\n",
    "for name, day in zip(nameList, dayList):\n",
    "    print(name, day)"
   ]
  },
  {
   "cell_type": "code",
   "execution_count": null,
   "metadata": {},
   "outputs": [],
   "source": []
  },
  {
   "cell_type": "code",
   "execution_count": 61,
   "metadata": {},
   "outputs": [
    {
     "data": {
      "text/plain": [
       "'권용희,김규리,김근환,김동민,김동현,김태호,\\n박주형, 박호정'"
      ]
     },
     "execution_count": 61,
     "metadata": {},
     "output_type": "execute_result"
    }
   ],
   "source": [
    "# |n\n",
    "name='''권용희,김규리,김근환,김동민,김동현,김태호,\n",
    "박주형, 박호정'''\n",
    "name"
   ]
  },
  {
   "cell_type": "code",
   "execution_count": null,
   "metadata": {},
   "outputs": [],
   "source": []
  },
  {
   "cell_type": "code",
   "execution_count": null,
   "metadata": {},
   "outputs": [],
   "source": [
    "# 스칼라, 벡터, array, 텐서\n",
    "\n",
    "a=1   # 스칼라\n",
    "a=[1] # 벡터 = 리스트, 방향과 크기를 갖고있음\n",
    "\n",
    "a=[ [1,2,3],\n",
    "    [2,3,4]  ]      # array=[리스트]\n",
    "\n",
    "a=[ \n",
    "    [\n",
    "        [1,2,3],\n",
    "        [2,3,4]  ]\n",
    " ]                # 텐서=[array]"
   ]
  },
  {
   "cell_type": "code",
   "execution_count": null,
   "metadata": {},
   "outputs": [],
   "source": []
  },
  {
   "cell_type": "code",
   "execution_count": null,
   "metadata": {},
   "outputs": [],
   "source": []
  },
  {
   "cell_type": "markdown",
   "metadata": {},
   "source": [
    "# List문"
   ]
  },
  {
   "cell_type": "code",
   "execution_count": 64,
   "metadata": {},
   "outputs": [
    {
     "data": {
      "text/plain": [
       "[4, 5, 6]"
      ]
     },
     "execution_count": 64,
     "metadata": {},
     "output_type": "execute_result"
    }
   ],
   "source": [
    "a=[1,2,3]\n",
    "# a+3 # 연산불가능->numpy / 리스트는 +추가, *반복만 가능\n",
    "\n",
    "anew=[]\n",
    "for i in a:\n",
    "    anew.append(i+3)\n",
    "anew"
   ]
  },
  {
   "cell_type": "code",
   "execution_count": 65,
   "metadata": {},
   "outputs": [
    {
     "data": {
      "text/plain": [
       "array([4, 5, 6])"
      ]
     },
     "execution_count": 65,
     "metadata": {},
     "output_type": "execute_result"
    }
   ],
   "source": [
    "import numpy\n",
    "a=numpy.array(a)\n",
    "type(a)\n",
    "anew=a+3\n",
    "anew"
   ]
  }
 ],
 "metadata": {
  "kernelspec": {
   "display_name": "OpenAI",
   "language": "python",
   "name": "python3"
  },
  "language_info": {
   "codemirror_mode": {
    "name": "ipython",
    "version": 3
   },
   "file_extension": ".py",
   "mimetype": "text/x-python",
   "name": "python",
   "nbconvert_exporter": "python",
   "pygments_lexer": "ipython3",
   "version": "3.12.0"
  }
 },
 "nbformat": 4,
 "nbformat_minor": 2
}
