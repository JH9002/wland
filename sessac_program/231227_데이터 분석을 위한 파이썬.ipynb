{
 "cells": [
  {
   "cell_type": "markdown",
   "metadata": {},
   "source": [
    "# <데이터 분석을 위한 파이썬>"
   ]
  },
  {
   "cell_type": "markdown",
   "metadata": {},
   "source": [
    "### 마크다운 이용\n",
    "- 문서화에 필요한 입력할 수 있어요\n",
    "    - 구글검색 \"파이썬 마크다운\""
   ]
  },
  {
   "cell_type": "code",
   "execution_count": null,
   "metadata": {},
   "outputs": [],
   "source": []
  },
  {
   "cell_type": "markdown",
   "metadata": {},
   "source": [
    "### print"
   ]
  },
  {
   "cell_type": "code",
   "execution_count": null,
   "metadata": {},
   "outputs": [],
   "source": [
    "a=1\n",
    "b=2\n",
    "c=3\n",
    "\n",
    "print(a)"
   ]
  },
  {
   "cell_type": "code",
   "execution_count": 10,
   "metadata": {},
   "outputs": [
    {
     "name": "stdout",
     "output_type": "stream",
     "text": [
      "1 2 ===============> 1#2\n",
      "\n"
     ]
    }
   ],
   "source": [
    "print(1,2,end=' ===============> ')\n",
    "print(1,2,sep=\"#\")\n",
    "print()"
   ]
  },
  {
   "cell_type": "code",
   "execution_count": null,
   "metadata": {},
   "outputs": [
    {
     "name": "stdout",
     "output_type": "stream",
     "text": [
      "Help on built-in function print in module builtins:\n",
      "\n",
      "print(*args, sep=' ', end='\\n', file=None, flush=False)\n",
      "    Prints the values to a stream, or to sys.stdout by default.\n",
      "\n",
      "    sep\n",
      "      string inserted between values, default a space.\n",
      "    end\n",
      "      string appended after the last value, default a newline.\n",
      "    file\n",
      "      a file-like object (stream); defaults to the current sys.stdout.\n",
      "    flush\n",
      "      whether to forcibly flush the stream.\n",
      "\n"
     ]
    }
   ],
   "source": [
    "help() # 오른쪽 마우스 go to definition"
   ]
  },
  {
   "cell_type": "code",
   "execution_count": null,
   "metadata": {},
   "outputs": [],
   "source": []
  },
  {
   "cell_type": "markdown",
   "metadata": {},
   "source": [
    "### numpy 체험"
   ]
  },
  {
   "cell_type": "code",
   "execution_count": null,
   "metadata": {},
   "outputs": [],
   "source": [
    "# pip install numpy"
   ]
  },
  {
   "cell_type": "code",
   "execution_count": 28,
   "metadata": {},
   "outputs": [
    {
     "data": {
      "text/plain": [
       "3600"
      ]
     },
     "execution_count": 28,
     "metadata": {},
     "output_type": "execute_result"
    }
   ],
   "source": [
    "from PIL import Image # pil 폴더가서 image 가져오기\n",
    "import numpy as np\n",
    "\n",
    "a=Image.open('./231227_다운로드.png')\n",
    "a=np.array(a)\n",
    "a+100\n",
    "a.size\n"
   ]
  },
  {
   "cell_type": "code",
   "execution_count": null,
   "metadata": {},
   "outputs": [],
   "source": []
  },
  {
   "cell_type": "markdown",
   "metadata": {},
   "source": [
    "### matplotlib 체험"
   ]
  },
  {
   "cell_type": "code",
   "execution_count": 6,
   "metadata": {},
   "outputs": [],
   "source": [
    "# pip install matplotlib"
   ]
  },
  {
   "cell_type": "code",
   "execution_count": 7,
   "metadata": {},
   "outputs": [
    {
     "data": {
      "text/plain": [
       "<matplotlib.image.AxesImage at 0x2b7629184c0>"
      ]
     },
     "execution_count": 7,
     "metadata": {},
     "output_type": "execute_result"
    },
    {
     "data": {
      "image/png": "[encoded data removed]",
      "text/plain": [
       "<Figure size 640x480 with 1 Axes>"
      ]
     },
     "metadata": {},
     "output_type": "display_data"
    }
   ],
   "source": [
    "import matplotlib.pyplot as plt\n",
    "plt.imshow(a)"
   ]
  },
  {
   "cell_type": "code",
   "execution_count": null,
   "metadata": {},
   "outputs": [],
   "source": []
  },
  {
   "cell_type": "markdown",
   "metadata": {},
   "source": [
    "### 타입변환 =형변환"
   ]
  },
  {
   "cell_type": "code",
   "execution_count": 10,
   "metadata": {},
   "outputs": [
    {
     "data": {
      "text/plain": [
       "5"
      ]
     },
     "execution_count": 10,
     "metadata": {},
     "output_type": "execute_result"
    }
   ],
   "source": [
    "int(3.0)\n",
    "int(5.55)"
   ]
  },
  {
   "cell_type": "code",
   "execution_count": 11,
   "metadata": {},
   "outputs": [
    {
     "name": "stdout",
     "output_type": "stream",
     "text": [
      "3*4.0=12.0\n",
      "3*4=12.000000\n"
     ]
    }
   ],
   "source": [
    "# p85 ★\n",
    "a=3\n",
    "b=4.0\n",
    "\n",
    "print('{}*{}={}'.format(a,b,a*b))\n",
    "print('%d*%d=%f'%(a,b,a*b))"
   ]
  },
  {
   "cell_type": "code",
   "execution_count": null,
   "metadata": {},
   "outputs": [],
   "source": []
  },
  {
   "cell_type": "markdown",
   "metadata": {},
   "source": [
    "### 메모리 삭제"
   ]
  },
  {
   "cell_type": "code",
   "execution_count": 2,
   "metadata": {},
   "outputs": [
    {
     "name": "stdout",
     "output_type": "stream",
     "text": [
      "3\n"
     ]
    }
   ],
   "source": [
    "errrrr = 3\n",
    "print(errrrr)\n",
    "\n",
    "del errrrr # 메모리 잘못잡은거 제거 / 한번만 실행\n",
    "# print(errrrr) # 삭제되어 출력되지 않음\n"
   ]
  },
  {
   "cell_type": "code",
   "execution_count": 11,
   "metadata": {},
   "outputs": [],
   "source": [
    "for name in list(globals().keys()):\n",
    "    if not name.startswith('_'):\n",
    "        del globals()[name]"
   ]
  },
  {
   "cell_type": "code",
   "execution_count": null,
   "metadata": {},
   "outputs": [],
   "source": []
  },
  {
   "cell_type": "markdown",
   "metadata": {},
   "source": [
    "### 타입확인"
   ]
  },
  {
   "cell_type": "code",
   "execution_count": 20,
   "metadata": {},
   "outputs": [
    {
     "data": {
      "text/plain": [
       "list"
      ]
     },
     "execution_count": 20,
     "metadata": {},
     "output_type": "execute_result"
    }
   ],
   "source": [
    "a=[2,3]\n",
    "type(a)"
   ]
  },
  {
   "cell_type": "code",
   "execution_count": 21,
   "metadata": {},
   "outputs": [
    {
     "data": {
      "text/plain": [
       "(tuple, (2, 3, 2, 3, 2, 3))"
      ]
     },
     "execution_count": 21,
     "metadata": {},
     "output_type": "execute_result"
    }
   ],
   "source": [
    "a=[2,3]\n",
    "a=tuple(a)\n",
    "type(a), a*3"
   ]
  },
  {
   "cell_type": "code",
   "execution_count": null,
   "metadata": {},
   "outputs": [],
   "source": [
    "# 튜플은 값수정 안됨"
   ]
  },
  {
   "cell_type": "code",
   "execution_count": null,
   "metadata": {},
   "outputs": [],
   "source": []
  },
  {
   "cell_type": "markdown",
   "metadata": {},
   "source": [
    "### 타입변환"
   ]
  },
  {
   "cell_type": "code",
   "execution_count": 17,
   "metadata": {},
   "outputs": [
    {
     "name": "stdout",
     "output_type": "stream",
     "text": [
      "<class 'str'>\n"
     ]
    },
    {
     "data": {
      "text/plain": [
       "5"
      ]
     },
     "execution_count": 17,
     "metadata": {},
     "output_type": "execute_result"
    }
   ],
   "source": [
    "x=input()\n",
    "print(type(x))\n",
    "\n",
    "# 형변환\n",
    "x=int(x) # astype\n",
    "x+3"
   ]
  },
  {
   "cell_type": "code",
   "execution_count": 18,
   "metadata": {},
   "outputs": [
    {
     "name": "stdout",
     "output_type": "stream",
     "text": [
      "<class 'str'>\n",
      "5\n",
      "<class 'int'>\n"
     ]
    }
   ],
   "source": [
    "def printtype(x): # 함수선언\n",
    "\n",
    "val=input()\n",
    "print(type(val))\n",
    "\n",
    "# 형변환\n",
    "val=int(val)\n",
    "print(val+3)\n",
    "\n",
    "printtype(val)"
   ]
  },
  {
   "cell_type": "code",
   "execution_count": 19,
   "metadata": {},
   "outputs": [
    {
     "name": "stdout",
     "output_type": "stream",
     "text": [
      "<class 'str'>\n",
      "10\n",
      "\n",
      "입력한 값 7의 type은 <class 'int'> 입니다.\n"
     ]
    }
   ],
   "source": [
    "def printtype(x): # 함수선언\n",
    "    print('\\n입력한 값 {}의 type은 {} 입니다.'.format(x,type(x)))\n",
    "\n",
    "val=input()\n",
    "print(type(val))\n",
    "\n",
    "# 형변환\n",
    "val=int(val)\n",
    "print(val+3)\n",
    "\n",
    "printtype(val)"
   ]
  },
  {
   "cell_type": "code",
   "execution_count": null,
   "metadata": {},
   "outputs": [],
   "source": []
  },
  {
   "cell_type": "markdown",
   "metadata": {},
   "source": [
    "### try, except문"
   ]
  },
  {
   "cell_type": "code",
   "execution_count": 25,
   "metadata": {},
   "outputs": [
    {
     "name": "stdout",
     "output_type": "stream",
     "text": [
      "숫자값 1-9를 확인하세요\n"
     ]
    }
   ],
   "source": [
    "try:\n",
    "    x=int(input('1-9까지의 수입력'))\n",
    "    print(x*5)\n",
    "    \n",
    "except:\n",
    "    print('숫자값 1-9를 확인하세요')"
   ]
  },
  {
   "cell_type": "code",
   "execution_count": null,
   "metadata": {},
   "outputs": [],
   "source": []
  },
  {
   "cell_type": "markdown",
   "metadata": {},
   "source": [
    "### 외부자료 확인하기"
   ]
  },
  {
   "cell_type": "code",
   "execution_count": 27,
   "metadata": {},
   "outputs": [
    {
     "name": "stdout",
     "output_type": "stream",
     "text": [
      "['id', 'pass']\n",
      "--------------------------------------------------\n",
      "['a', '1']\n",
      "--------------------------------------------------\n",
      "['b', '2']\n",
      "--------------------------------------------------\n",
      "['c', '3']\n",
      "--------------------------------------------------\n"
     ]
    }
   ],
   "source": [
    "import csv\n",
    "with open('231227_userinfo.csv', newline='') as csvfile:\n",
    "    csvreader = csv.reader(csvfile, delimiter='\\t')\n",
    "    for row in csvreader:\n",
    "        print(row)\n",
    "        print('-'*50)"
   ]
  },
  {
   "cell_type": "code",
   "execution_count": 30,
   "metadata": {},
   "outputs": [
    {
     "name": "stdout",
     "output_type": "stream",
     "text": [
      "id:c, pass:5 로 로그인 실패하였습니다\n"
     ]
    }
   ],
   "source": [
    "id,passWord='c',5\n",
    "chk=0\n",
    "\n",
    "with open('231227_userinfo.csv', newline='') as csvfile:\n",
    "    csvreader = csv.reader(csvfile, delimiter='\\t')\n",
    "    for row in csvreader:\n",
    "        \n",
    "        if id==row[0] and passWord==int(row[1]):\n",
    "            print('id:%s, pass:%d 로 로그인하였습니다'%(id,passWord))\n",
    "            chk=1\n",
    "            break\n",
    "if chk!=1:\n",
    "    print('id:%s, pass:%d 로 로그인 실패하였습니다'%(id,passWord))\n",
    "        \n"
   ]
  },
  {
   "cell_type": "code",
   "execution_count": null,
   "metadata": {},
   "outputs": [],
   "source": []
  },
  {
   "cell_type": "markdown",
   "metadata": {},
   "source": [
    "# <함수와 모듈의 이해>\n",
    "- 모듈이란 함수나 변수 또는 클래스를 모아 놓은 파이썬 파일이다\n",
    "- 모듈은 다른 파이썬 프로그램에서 불러와 사용할 수 있도록 만든 파이썬 파일이라고 할 수 있다"
   ]
  },
  {
   "cell_type": "code",
   "execution_count": 31,
   "metadata": {},
   "outputs": [
    {
     "name": "stdout",
     "output_type": "stream",
     "text": [
      "5*0=0\n",
      "5*1=5\n",
      "5*2=10\n",
      "5*3=15\n",
      "5*4=20\n",
      "5*5=25\n",
      "5*6=30\n",
      "5*7=35\n",
      "5*8=40\n"
     ]
    }
   ],
   "source": [
    "####################################################\n",
    "# guguDan.py 내용\n",
    "# 함수를 미리 실행하여 봅니다.  def 함수명(): 파일\n",
    "####################################################\n",
    "\n",
    "def gugu():\n",
    "    x=input('출력할 구구단의 단을 선택해주세요. 1~9')\n",
    "    x=int(x)\n",
    "    for num in range(9):\n",
    "        print('%d*%d=%d'%(x,num,x*num))\n",
    "\n",
    "gugu() # 실행한후 숫자를 입력합니다. "
   ]
  },
  {
   "cell_type": "code",
   "execution_count": null,
   "metadata": {},
   "outputs": [],
   "source": []
  },
  {
   "cell_type": "code",
   "execution_count": 32,
   "metadata": {},
   "outputs": [
    {
     "name": "stdout",
     "output_type": "stream",
     "text": [
      "--------------------\n",
      " ver: python 3.8 \n",
      "              year: 2023\n",
      "        \n",
      "--------------------\n",
      "이번과정은 파이썬의 모듈 연습입니다.\n",
      "--------------------\n"
     ]
    }
   ],
   "source": [
    "####################################################\n",
    "# __init__.py 파일 내용\n",
    "####################################################\n",
    "# import guguDan  # 이 작업은 __init__.py 에서만 실행가능함으로 주석처리함\n",
    "\n",
    "def title():\n",
    "    print(''' ver: python 3.8 \n",
    "              year: 2023\n",
    "        ''')\n",
    "\n",
    "def line():\n",
    "    print('-'*20)\n",
    "    \n",
    "def bu():\n",
    "    line()\n",
    "    title()\n",
    "    line()\n",
    "    print('이번과정은 파이썬의 모듈 연습입니다.')\n",
    "    line()\n",
    "\t\n",
    "bu()"
   ]
  },
  {
   "cell_type": "code",
   "execution_count": null,
   "metadata": {},
   "outputs": [],
   "source": []
  },
  {
   "cell_type": "code",
   "execution_count": 7,
   "metadata": {},
   "outputs": [
    {
     "name": "stdout",
     "output_type": "stream",
     "text": [
      "##################################################\n"
     ]
    }
   ],
   "source": [
    "def line(x='-',y=50):\n",
    "    print(x*y)\n",
    "\n",
    "line('#',50)"
   ]
  },
  {
   "cell_type": "code",
   "execution_count": 8,
   "metadata": {},
   "outputs": [
    {
     "name": "stdout",
     "output_type": "stream",
     "text": [
      "--------------------------------------------------\n",
      "\n",
      "          파이썬에서 작성함\n",
      "          \n",
      "##################################################\n"
     ]
    }
   ],
   "source": [
    "def line(x='-',y=50):\n",
    "    print(x*y)\n",
    "\n",
    "def ti():\n",
    "    print('''\n",
    "          파이썬에서 작성함\n",
    "          ''')\n",
    "line()\n",
    "ti()\n",
    "line('#',50)"
   ]
  },
  {
   "cell_type": "code",
   "execution_count": 10,
   "metadata": {},
   "outputs": [
    {
     "name": "stdout",
     "output_type": "stream",
     "text": [
      "10\n",
      "20\n"
     ]
    }
   ],
   "source": [
    "# class : 객체(Object)를 생성하기 위한 템플릿 / 함수모음\n",
    "class prn():\n",
    "    def gu(dan=1):\n",
    "        print(dan*1)\n",
    "        print(dan*2)\n",
    "\n",
    "prn.gu(10)"
   ]
  },
  {
   "cell_type": "code",
   "execution_count": null,
   "metadata": {},
   "outputs": [],
   "source": []
  }
 ],
 "metadata": {
  "kernelspec": {
   "display_name": "base",
   "language": "python",
   "name": "python3"
  },
  "language_info": {
   "codemirror_mode": {
    "name": "ipython",
    "version": 3
   },
   "file_extension": ".py",
   "mimetype": "text/x-python",
   "name": "python",
   "nbconvert_exporter": "python",
   "pygments_lexer": "ipython3",
   "version": "3.9.7"
  }
 },
 "nbformat": 4,
 "nbformat_minor": 2
}
