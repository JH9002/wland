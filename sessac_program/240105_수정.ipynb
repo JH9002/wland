{
 "cells": [
  {
   "cell_type": "markdown",
   "metadata": {},
   "source": [
    "# 컴퓨터 비전"
   ]
  },
  {
   "cell_type": "code",
   "execution_count": null,
   "metadata": {},
   "outputs": [],
   "source": []
  },
  {
   "cell_type": "code",
   "execution_count": 2,
   "metadata": {},
   "outputs": [
    {
     "ename": "KeyboardInterrupt",
     "evalue": "",
     "output_type": "error",
     "traceback": [
      "\u001b[1;31m---------------------------------------------------------------------------\u001b[0m",
      "\u001b[1;31mKeyboardInterrupt\u001b[0m                         Traceback (most recent call last)",
      "Cell \u001b[1;32mIn[2], line 8\u001b[0m\n\u001b[0;32m      5\u001b[0m cv2\u001b[38;5;241m.\u001b[39mimshow(\u001b[38;5;124m'\u001b[39m\u001b[38;5;124mtitle\u001b[39m\u001b[38;5;124m'\u001b[39m,img)\n\u001b[0;32m      7\u001b[0m \u001b[38;5;28;01mwhile\u001b[39;00m \u001b[38;5;28;01mTrue\u001b[39;00m:\n\u001b[1;32m----> 8\u001b[0m     \u001b[38;5;28;01mif\u001b[39;00m \u001b[43mcv2\u001b[49m\u001b[38;5;241;43m.\u001b[39;49m\u001b[43mwaitKey\u001b[49m\u001b[43m(\u001b[49m\u001b[43m)\u001b[49m\u001b[38;5;241m==\u001b[39m\u001b[38;5;241m27\u001b[39m:\n\u001b[0;32m      9\u001b[0m         \u001b[38;5;28;01mbreak\u001b[39;00m\n\u001b[0;32m     11\u001b[0m cv2\u001b[38;5;241m.\u001b[39mdestroyAllWindeows()\n",
      "\u001b[1;31mKeyboardInterrupt\u001b[0m: "
     ]
    }
   ],
   "source": [
    "import numpy as np\n",
    "import cv2\n",
    "\n",
    "img=np.full((300,300,3), 255, dtype=np.uint8)\n",
    "cv2.imshow('title',img)\n",
    "\n",
    "while True:\n",
    "    if cv2.waitKey()==27:\n",
    "        break\n",
    "\n",
    "cv2.destroyAllWindeows()\n"
   ]
  },
  {
   "cell_type": "code",
   "execution_count": 3,
   "metadata": {},
   "outputs": [
    {
     "data": {
      "text/plain": [
       "<matplotlib.image.AxesImage at 0x1fd05cc3140>"
      ]
     },
     "execution_count": 3,
     "metadata": {},
     "output_type": "execute_result"
    },
    {
     "data": {
      "image/png": "[encoded data removed]",
      "text/plain": [
       "<Figure size 640x480 with 1 Axes>"
      ]
     },
     "metadata": {},
     "output_type": "display_data"
    }
   ],
   "source": [
    "import numpy as np\n",
    "import cv2\n",
    "\n",
    "img=np.full((300,300,3), 255, dtype=np.uint8)\n",
    "\n",
    "import matplotlib.pyplot as plt\n",
    "plt.imshow(img)"
   ]
  },
  {
   "cell_type": "code",
   "execution_count": null,
   "metadata": {},
   "outputs": [],
   "source": [
    "import numpy as np\n",
    "import cv2\n",
    "\n",
    "img=np.full((300,300,3), 255, dtype=np.uint8)\n",
    "\n",
    "import matplotlib.pyplot as plt\n",
    "plt.imshow(img)"
   ]
  },
  {
   "cell_type": "code",
   "execution_count": 4,
   "metadata": {},
   "outputs": [
    {
     "data": {
      "text/plain": [
       "array([[[255, 255, 255],\n",
       "        [255, 255, 255],\n",
       "        [255, 255, 255],\n",
       "        ...,\n",
       "        [255, 255, 255],\n",
       "        [255, 255, 255],\n",
       "        [255, 255, 255]],\n",
       "\n",
       "       [[255, 255, 255],\n",
       "        [255, 255, 255],\n",
       "        [255, 255, 255],\n",
       "        ...,\n",
       "        [255, 255, 255],\n",
       "        [255, 255, 255],\n",
       "        [255, 255, 255]],\n",
       "\n",
       "       [[255, 255, 255],\n",
       "        [255, 255, 255],\n",
       "        [255, 255, 255],\n",
       "        ...,\n",
       "        [255, 255, 255],\n",
       "        [255, 255, 255],\n",
       "        [255, 255, 255]],\n",
       "\n",
       "       ...,\n",
       "\n",
       "       [[255, 255, 255],\n",
       "        [255, 255, 255],\n",
       "        [255, 255, 255],\n",
       "        ...,\n",
       "        [255, 255, 255],\n",
       "        [255, 255, 255],\n",
       "        [255, 255, 255]],\n",
       "\n",
       "       [[255, 255, 255],\n",
       "        [255, 255, 255],\n",
       "        [255, 255, 255],\n",
       "        ...,\n",
       "        [255, 255, 255],\n",
       "        [255, 255, 255],\n",
       "        [255, 255, 255]],\n",
       "\n",
       "       [[255, 255, 255],\n",
       "        [255, 255, 255],\n",
       "        [255, 255, 255],\n",
       "        ...,\n",
       "        [255, 255, 255],\n",
       "        [255, 255, 255],\n",
       "        [255, 255, 255]]], dtype=uint8)"
      ]
     },
     "execution_count": 4,
     "metadata": {},
     "output_type": "execute_result"
    }
   ],
   "source": [
    "import numpy as np\n",
    "import cv2\n",
    "\n",
    "img=np.full((300,300,3), 255, dtype=np.uint8)\n",
    "\n",
    "img"
   ]
  },
  {
   "cell_type": "code",
   "execution_count": 6,
   "metadata": {},
   "outputs": [
    {
     "data": {
      "text/plain": [
       "array([[[255., 255., 255.],\n",
       "        [255., 255., 255.],\n",
       "        [255., 255., 255.],\n",
       "        ...,\n",
       "        [255., 255., 255.],\n",
       "        [255., 255., 255.],\n",
       "        [255., 255., 255.]],\n",
       "\n",
       "       [[255., 255., 255.],\n",
       "        [255., 255., 255.],\n",
       "        [255., 255., 255.],\n",
       "        ...,\n",
       "        [255., 255., 255.],\n",
       "        [255., 255., 255.],\n",
       "        [255., 255., 255.]],\n",
       "\n",
       "       [[255., 255., 255.],\n",
       "        [255., 255., 255.],\n",
       "        [255., 255., 255.],\n",
       "        ...,\n",
       "        [255., 255., 255.],\n",
       "        [255., 255., 255.],\n",
       "        [255., 255., 255.]],\n",
       "\n",
       "       ...,\n",
       "\n",
       "       [[255., 255., 255.],\n",
       "        [255., 255., 255.],\n",
       "        [255., 255., 255.],\n",
       "        ...,\n",
       "        [255., 255., 255.],\n",
       "        [255., 255., 255.],\n",
       "        [255., 255., 255.]],\n",
       "\n",
       "       [[255., 255., 255.],\n",
       "        [255., 255., 255.],\n",
       "        [255., 255., 255.],\n",
       "        ...,\n",
       "        [255., 255., 255.],\n",
       "        [255., 255., 255.],\n",
       "        [255., 255., 255.]],\n",
       "\n",
       "       [[255., 255., 255.],\n",
       "        [255., 255., 255.],\n",
       "        [255., 255., 255.],\n",
       "        ...,\n",
       "        [255., 255., 255.],\n",
       "        [255., 255., 255.],\n",
       "        [255., 255., 255.]]])"
      ]
     },
     "execution_count": 6,
     "metadata": {},
     "output_type": "execute_result"
    }
   ],
   "source": [
    "img=np.zeros((300,300,3))\n",
    "img[:,:,:]=255\n",
    "img"
   ]
  },
  {
   "cell_type": "code",
   "execution_count": 7,
   "metadata": {},
   "outputs": [
    {
     "data": {
      "text/plain": [
       "(255, 255)"
      ]
     },
     "execution_count": 7,
     "metadata": {},
     "output_type": "execute_result"
    }
   ],
   "source": [
    "import numpy as np\n",
    "import cv2\n",
    "\n",
    "img=np.full((300,300,3), 255, dtype=np.uint8)\n",
    "img[:,:,:]=255\n",
    "np.min(img), np.max(img)"
   ]
  },
  {
   "cell_type": "code",
   "execution_count": null,
   "metadata": {},
   "outputs": [],
   "source": [
    "img=np.full((300,300,3), 255, dtype=np.uint8)\n",
    "img[:,:,:]=255\n",
    "np.min(img), np.max(img)"
   ]
  },
  {
   "cell_type": "code",
   "execution_count": null,
   "metadata": {},
   "outputs": [],
   "source": [
    "# 원그리기\n",
    "https://copycoding.tistory.com/147"
   ]
  },
  {
   "cell_type": "code",
   "execution_count": 10,
   "metadata": {},
   "outputs": [
    {
     "ename": "error",
     "evalue": "OpenCV(4.9.0) :-1: error: (-5:Bad argument) in function 'circle'\n> Overload resolution failed:\n>  - circle() missing required argument 'color' (pos 4)\n>  - circle() missing required argument 'color' (pos 4)\n",
     "output_type": "error",
     "traceback": [
      "\u001b[1;31m---------------------------------------------------------------------------\u001b[0m",
      "\u001b[1;31merror\u001b[0m                                     Traceback (most recent call last)",
      "Cell \u001b[1;32mIn[10], line 1\u001b[0m\n\u001b[1;32m----> 1\u001b[0m \u001b[43mcv2\u001b[49m\u001b[38;5;241;43m.\u001b[39;49m\u001b[43mcircle\u001b[49m\u001b[43m(\u001b[49m\u001b[43mimg\u001b[49m\u001b[43m,\u001b[49m\u001b[43m \u001b[49m\u001b[38;5;241;43m150\u001b[39;49m\u001b[43m,\u001b[49m\u001b[43m \u001b[49m\u001b[38;5;241;43m150\u001b[39;49m\u001b[43m)\u001b[49m\n\u001b[0;32m      2\u001b[0m plt\u001b[38;5;241m.\u001b[39mshow(img)\n",
      "\u001b[1;31merror\u001b[0m: OpenCV(4.9.0) :-1: error: (-5:Bad argument) in function 'circle'\n> Overload resolution failed:\n>  - circle() missing required argument 'color' (pos 4)\n>  - circle() missing required argument 'color' (pos 4)\n"
     ]
    }
   ],
   "source": [
    "cv2.circle(img, 150, 150)\n",
    "plt.show(img)"
   ]
  },
  {
   "cell_type": "code",
   "execution_count": 3,
   "metadata": {},
   "outputs": [],
   "source": [
    "import cv2\n",
    "import numpy as np\n",
    "\n",
    "# 행(row) 400, 열(column) 500의 흑백 이미지 생성\n",
    "image = np.zeros((400, 500, 3), dtype=np.uint8)\n",
    "\n",
    "# 마우스 클릭 이벤트 핸들러 함수 정의\n",
    "def draw_circle(event, x, y, flags, param):\n",
    "    if event == cv2.EVENT_LBUTTONDOWN:  # 마우스 왼쪽 버튼 클릭 시\n",
    "        cv2.circle(image, (x, y), 20, (255, 0, 0), -1)  # 반지름 20의 빨간색 원 그리기\n",
    "\n",
    "# 윈도우 생성 및 마우스 이벤트 콜백 함수 등록\n",
    "cv2.namedWindow('Drawing Canvas')\n",
    "cv2.setMouseCallback('Drawing Canvas', draw_circle)\n",
    "\n",
    "while True:\n",
    "    cv2.imshow('Drawing Canvas', image)\n",
    "\n",
    "    # 'ESC' 키를 누르면 루프 종료\n",
    "    key = cv2.waitKey(1) & 0xFF\n",
    "    if key == 27:\n",
    "        break\n",
    "\n",
    "# 윈도우 종료 후 메모리 정리\n",
    "cv2.destroyAllWindows()"
   ]
  },
  {
   "cell_type": "code",
   "execution_count": null,
   "metadata": {},
   "outputs": [],
   "source": []
  },
  {
   "cell_type": "code",
   "execution_count": 5,
   "metadata": {},
   "outputs": [],
   "source": [
    "import cv2\n",
    "import numpy as np\n",
    "\n",
    "# 행(row) 400, 열(column) 500의 흑백 이미지 생성\n",
    "image = np.zeros((400, 500, 3), dtype=np.uint8)\n",
    "\n",
    "# 마우스 클릭 이벤트 핸들러 함수 정의\n",
    "def draw_shapes(event, x, y, flags, param):\n",
    "    global drawing\n",
    "\n",
    "    if event == cv2.EVENT_LBUTTONDOWN:\n",
    "        drawing = True\n",
    "        cv2.circle(image, (x, y), 20, (255, 0, 0), -1)  # 왼쪽 버튼 클릭 시 파란색 원 그리기\n",
    "\n",
    "    elif event == cv2.EVENT_RBUTTONDOWN:\n",
    "        drawing = True\n",
    "        cv2.rectangle(image, (x - 20, y - 20), (x + 20, y + 20), (0, 255, 0), 1)  # 오른쪽 버튼 클릭 시 녹색 사각형 그리기\n",
    "\n",
    "    elif event == cv2.EVENT_LBUTTONUP or event == cv2.EVENT_RBUTTONUP:\n",
    "        drawing = False\n",
    "\n",
    "# 초기화\n",
    "drawing = False\n",
    "\n",
    "# 윈도우 생성 및 마우스 이벤트 콜백 함수 등록\n",
    "cv2.namedWindow('Drawing Canvas')\n",
    "cv2.setMouseCallback('Drawing Canvas', draw_shapes)\n",
    "\n",
    "while True:\n",
    "    cv2.imshow('Drawing Canvas', image)\n",
    "\n",
    "    # 'ESC' 키를 누르면 루프 종료\n",
    "    key = cv2.waitKey(1) & 0xFF\n",
    "    if key == 27:\n",
    "        break\n",
    "\n",
    "# 윈도우 종료 후 메모리 정리\n",
    "cv2.destroyAllWindows()"
   ]
  },
  {
   "cell_type": "code",
   "execution_count": 9,
   "metadata": {},
   "outputs": [],
   "source": [
    "import cv2\n",
    "import numpy as np\n",
    "\n",
    "# 행(row) 400, 열(column) 500의 흑백 이미지 생성\n",
    "image = np.zeros((400, 500, 3), dtype=np.uint8)\n",
    "\n",
    "# 마우스 클릭 이벤트 핸들러 함수 정의\n",
    "def draw_shapes(event, x, y, flags, param):\n",
    "    global drawing, prev_x, prev_y\n",
    "\n",
    "    if event == cv2.EVENT_LBUTTONDOWN:\n",
    "        drawing = True\n",
    "        cv2.circle(image, (x, y), 20, (255, 0, 0), -1)  # 왼쪽 버튼 클릭 시 파란색 원 그리기\n",
    "\n",
    "    elif event == cv2.EVENT_RBUTTONDOWN:\n",
    "        drawing = True\n",
    "        cv2.rectangle(image, (x - 20, y - 20), (x + 20, y + 20), (0, 255, 0), -1)  # 오른쪽 버튼 클릭 시 녹색 사각형 그리기\n",
    "\n",
    "    elif event == cv2.EVENT_LBUTTONUP or event == cv2.EVENT_RBUTTONUP:\n",
    "        drawing = False\n",
    "\n",
    "    elif event == cv2.EVENT_MOUSEMOVE:\n",
    "        if drawing:\n",
    "            cv2.circle(image, (x, y), 20, (0, 0, 0), -1)  # 드래그 중이면 지우기\n",
    "\n",
    "# 초기화\n",
    "drawing = False\n",
    "prev_x, prev_y = -1, -1\n",
    "\n",
    "# 윈도우 생성 및 마우스 이벤트 콜백 함수 등록\n",
    "cv2.namedWindow('Drawing Canvas')\n",
    "cv2.setMouseCallback('Drawing Canvas', draw_shapes)\n",
    "\n",
    "while True:\n",
    "    cv2.imshow('Drawing Canvas', image)\n",
    "\n",
    "    # 'ESC' 키를 누르거나 창의 X 버튼을 클릭하면 루프 종료\n",
    "    key = cv2.waitKey(1) & 0xFF\n",
    "    if key == 27 or cv2.getWindowProperty('Drawing Canvas', cv2.WND_PROP_VISIBLE) < 1:\n",
    "        break\n",
    "\n",
    "# 윈도우 종료 후 메모리 정리\n",
    "cv2.destroyAllWindows()"
   ]
  },
  {
   "cell_type": "code",
   "execution_count": null,
   "metadata": {},
   "outputs": [],
   "source": []
  },
  {
   "cell_type": "code",
   "execution_count": null,
   "metadata": {},
   "outputs": [],
   "source": [
    "opencv로 다음코드 작성해줘\n",
    "1. dog.jpg코드\n",
    "2. 이미지의 x좌표,y좌표50에 너비50, 높이 30의 모자이크 처리"
   ]
  },
  {
   "cell_type": "code",
   "execution_count": null,
   "metadata": {},
   "outputs": [
    {
     "name": "stdout",
     "output_type": "stream",
     "text": [
      "이미지를 불러올 수 없습니다.\n"
     ]
    },
    {
     "ename": "TypeError",
     "evalue": "'NoneType' object is not subscriptable",
     "output_type": "error",
     "traceback": [
      "\u001b[1;31m---------------------------------------------------------------------------\u001b[0m",
      "\u001b[1;31mTypeError\u001b[0m                                 Traceback (most recent call last)",
      "Cell \u001b[1;32mIn[10], line 15\u001b[0m\n\u001b[0;32m     12\u001b[0m x, y, width, height \u001b[38;5;241m=\u001b[39m \u001b[38;5;241m50\u001b[39m, \u001b[38;5;241m50\u001b[39m, \u001b[38;5;241m50\u001b[39m, \u001b[38;5;241m30\u001b[39m \u001b[38;5;66;03m# 마지막부터 30 row, 50 칼럼\u001b[39;00m\n\u001b[0;32m     14\u001b[0m \u001b[38;5;66;03m# 모자이크 적용할 영역 추출\u001b[39;00m\n\u001b[1;32m---> 15\u001b[0m roi \u001b[38;5;241m=\u001b[39m \u001b[43mimage\u001b[49m\u001b[43m[\u001b[49m\u001b[43my\u001b[49m\u001b[43m:\u001b[49m\u001b[43my\u001b[49m\u001b[38;5;241;43m+\u001b[39;49m\u001b[43mheight\u001b[49m\u001b[43m,\u001b[49m\u001b[43m \u001b[49m\u001b[43mx\u001b[49m\u001b[43m:\u001b[49m\u001b[43mx\u001b[49m\u001b[38;5;241;43m+\u001b[39;49m\u001b[43mwidth\u001b[49m\u001b[43m]\u001b[49m\n\u001b[0;32m     17\u001b[0m \u001b[38;5;66;03m# 모자이크 적용\u001b[39;00m\n\u001b[0;32m     18\u001b[0m roi \u001b[38;5;241m=\u001b[39m cv2\u001b[38;5;241m.\u001b[39mresize(roi, (width\u001b[38;5;241m/\u001b[39m\u001b[38;5;241m/\u001b[39m\u001b[38;5;241m5\u001b[39m, height\u001b[38;5;241m/\u001b[39m\u001b[38;5;241m/\u001b[39m\u001b[38;5;241m5\u001b[39m), interpolation\u001b[38;5;241m=\u001b[39mcv2\u001b[38;5;241m.\u001b[39mINTER_NEAREST)\n",
      "\u001b[1;31mTypeError\u001b[0m: 'NoneType' object is not subscriptable"
     ]
    },
    {
     "ename": "",
     "evalue": "",
     "output_type": "error",
     "traceback": [
      "\u001b[1;31mThe Kernel crashed while executing code in the the current cell or a previous cell. Please review the code in the cell(s) to identify a possible cause of the failure. Click <a href='https://aka.ms/vscodeJupyterKernelCrash'>here</a> for more info. View Jupyter <a href='command:jupyter.viewOutput'>log</a> for further details."
     ]
    }
   ],
   "source": [
    "import cv2\n",
    "\n",
    "# 1. \"dog.jpg\" 이미지 로드\n",
    "image_path = \"C:/Users/jh/OneDrive - 연세대학교 (Yonsei University)/000 취업사관학교/새싹 프로그램) 강의 시작/240104/1.오픈CV기초/dog.jpg\"\n",
    "image = cv2.imread(image_path)\n",
    "\n",
    "if image is None:\n",
    "    print(\"이미지를 불러올 수 없습니다.\")\n",
    "    exit()\n",
    "\n",
    "# 2. 이미지의 (50, 50) 위치에 너비 50, 높이 30의 영역에 모자이크 처리\n",
    "x, y, width, height = 50, 50, 50, 30 # 마지막부터 30 row, 50 칼럼\n",
    "\n",
    "# 모자이크 적용할 영역 추출\n",
    "roi = image[y:y+height, x:x+width]\n",
    "\n",
    "# 모자이크 적용\n",
    "roi = cv2.resize(roi, (width//5, height//5), interpolation=cv2.INTER_NEAREST)\n",
    "roi = cv2.resize(roi, (width, height), interpolation=cv2.INTER_NEAREST)\n",
    "image[y:y+height, x:x+width] = roi\n",
    "\n",
    "# 결과를 화면에 표시\n",
    "cv2.imshow(\"Mosaic Applied\", image)\n",
    "cv2.waitKey(0)\n",
    "cv2.destroyAllWindows()"
   ]
  },
  {
   "cell_type": "code",
   "execution_count": null,
   "metadata": {},
   "outputs": [],
   "source": []
  },
  {
   "cell_type": "code",
   "execution_count": 1,
   "metadata": {},
   "outputs": [
    {
     "name": "stdout",
     "output_type": "stream",
     "text": [
      "1차원 배열 최대값 인덱스: 3\n",
      "2차원 배열 최대값 인덱스: 5\n"
     ]
    }
   ],
   "source": [
    "# argmax\n",
    "import numpy as np\n",
    "\n",
    "# 1차원 배열에서 최대값의 인덱스 찾기\n",
    "arr_1d = np.array([3, 7, 1, 9, 2])\n",
    "index_1d = np.argmax(arr_1d)\n",
    "print(\"1차원 배열 최대값 인덱스:\", index_1d)\n",
    "\n",
    "# 2차원 배열에서 최대값의 인덱스 찾기\n",
    "arr_2d = np.array([[5, 8, 2],\n",
    "                   [3, 6, 9],\n",
    "                   [1, 4, 7]])\n",
    "index_2d = np.argmax(arr_2d)\n",
    "print(\"2차원 배열 최대값 인덱스:\", index_2d)"
   ]
  },
  {
   "cell_type": "code",
   "execution_count": null,
   "metadata": {},
   "outputs": [],
   "source": []
  },
  {
   "cell_type": "markdown",
   "metadata": {},
   "source": [
    "# 웹 카메라 실행"
   ]
  },
  {
   "cell_type": "code",
   "execution_count": 5,
   "metadata": {},
   "outputs": [
    {
     "name": "stdout",
     "output_type": "stream",
     "text": [
      "Collecting pyttsx3\n",
      "  Downloading pyttsx3-2.90-py3-none-any.whl (39 kB)\n",
      "Collecting comtypes (from pyttsx3)\n",
      "  Downloading comtypes-1.2.1-py2.py3-none-any.whl.metadata (3.8 kB)\n",
      "Collecting pypiwin32 (from pyttsx3)\n",
      "  Downloading pypiwin32-223-py3-none-any.whl (1.7 kB)\n",
      "Requirement already satisfied: pywin32 in c:\\users\\jh\\anaconda3\\envs\\openai\\lib\\site-packages (from pyttsx3) (305.1)\n",
      "Downloading comtypes-1.2.1-py2.py3-none-any.whl (184 kB)\n",
      "   ---------------------------------------- 0.0/184.9 kB ? eta -:--:--\n",
      "   -- ------------------------------------- 10.2/184.9 kB ? eta -:--:--\n",
      "   -------- ------------------------------ 41.0/184.9 kB 653.6 kB/s eta 0:00:01\n",
      "   -------- ------------------------------ 41.0/184.9 kB 653.6 kB/s eta 0:00:01\n",
      "   -------- ------------------------------ 41.0/184.9 kB 653.6 kB/s eta 0:00:01\n",
      "   -------- ------------------------------ 41.0/184.9 kB 653.6 kB/s eta 0:00:01\n",
      "   ------------ -------------------------- 61.4/184.9 kB 192.5 kB/s eta 0:00:01\n",
      "   ----------------------- -------------- 112.6/184.9 kB 327.2 kB/s eta 0:00:01\n",
      "   -------------------------------------- 184.9/184.9 kB 485.3 kB/s eta 0:00:00\n",
      "Installing collected packages: comtypes, pypiwin32, pyttsx3\n",
      "Successfully installed comtypes-1.2.1 pypiwin32-223 pyttsx3-2.90\n",
      "Note: you may need to restart the kernel to use updated packages.\n"
     ]
    }
   ],
   "source": [
    "pip install pyttsx3"
   ]
  },
  {
   "cell_type": "code",
   "execution_count": 2,
   "metadata": {},
   "outputs": [
    {
     "name": "stdout",
     "output_type": "stream",
     "text": [
      "Requirement already satisfied: opencv-python in c:\\users\\jh\\anaconda3\\envs\\openai\\lib\\site-packages (4.9.0.80)\n",
      "Requirement already satisfied: numpy>=1.21.2 in c:\\users\\jh\\anaconda3\\envs\\openai\\lib\\site-packages (from opencv-python) (1.26.2)\n",
      "Note: you may need to restart the kernel to use updated packages.\n"
     ]
    }
   ],
   "source": [
    "pip install opencv-python"
   ]
  },
  {
   "cell_type": "code",
   "execution_count": 3,
   "metadata": {},
   "outputs": [],
   "source": [
    "import cv2\n",
    "\n",
    "# 웹캠 열기\n",
    "cap = cv2.VideoCapture(0)  # 0은 기본 웹캠을 의미, 여러 카메라가 연결되어 있는 경우 1, 2 등으로 변경 가능\n",
    "\n",
    "while True:\n",
    "    # 프레임 읽기\n",
    "    ret, frame = cap.read()\n",
    "\n",
    "    # 읽은 프레임이 없으면 종료\n",
    "    if not ret:\n",
    "        break\n",
    "\n",
    "    # 프레임 화면에 표시\n",
    "    cv2.imshow('Webcam', frame)\n",
    "\n",
    "    # 'q' 키를 누르면 종료\n",
    "    if cv2.waitKey(1) & 0xFF == ord('q'):\n",
    "        break\n",
    "\n",
    "# 웹캠 해제 및 창 닫기\n",
    "cap.release()\n",
    "cv2.destroyAllWindows()"
   ]
  },
  {
   "cell_type": "code",
   "execution_count": null,
   "metadata": {},
   "outputs": [],
   "source": []
  },
  {
   "cell_type": "code",
   "execution_count": 7,
   "metadata": {},
   "outputs": [],
   "source": [
    "import cv2\n",
    "\n",
    "def detect_frontal_face(image):\n",
    "    # OpenCV의 얼굴 감지기(Haar Cascade) 사용\n",
    "    face_cascade = cv2.CascadeClassifier(cv2.data.haarcascades + 'haarcascade_frontalface_default.xml')\n",
    "    gray_image = cv2.cvtColor(image, cv2.COLOR_BGR2GRAY)\n",
    "    faces = face_cascade.detectMultiScale(gray_image, scaleFactor=1.3, minNeighbors=5)\n",
    "\n",
    "    return len(faces) > 0\n",
    "\n",
    "def main():\n",
    "    # 웹캠 열기\n",
    "    cap = cv2.VideoCapture(0)  # 0은 기본 웹캠을 의미, 여러 카메라가 연결되어 있는 경우 1, 2 등으로 변경 가능\n",
    "\n",
    "    while True:\n",
    "        # 프레임 읽기\n",
    "        ret, frame = cap.read()\n",
    "\n",
    "        # 읽은 프레임이 없으면 종료\n",
    "        if not ret:\n",
    "            break\n",
    "\n",
    "        # 얼굴 감지\n",
    "        if not detect_frontal_face(frame):\n",
    "            # 얼굴이 정면을 향하고 있지 않을 때 텍스트 출력\n",
    "            cv2.putText(frame, \"얼굴을 정면으로 해주세요\", (50, 50), cv2.FONT_HERSHEY_SIMPLEX, 1, (0, 0, 255), 2)\n",
    "\n",
    "        # 프레임 화면에 표시\n",
    "        cv2.imshow('Webcam', frame)\n",
    "\n",
    "        # 'q' 키를 누르면 종료\n",
    "        if cv2.waitKey(1) & 0xFF == ord('q'):\n",
    "            break\n",
    "\n",
    "    # 웹캠 해제 및 창 닫기\n",
    "    cap.release()\n",
    "    cv2.destroyAllWindows()\n",
    "\n",
    "if __name__ == \"__main__\":\n",
    "    main()"
   ]
  },
  {
   "cell_type": "code",
   "execution_count": null,
   "metadata": {},
   "outputs": [],
   "source": []
  },
  {
   "cell_type": "code",
   "execution_count": 11,
   "metadata": {},
   "outputs": [],
   "source": [
    "import cv2\n",
    "from PIL import ImageFont, ImageDraw, Image\n",
    "import numpy as np\n",
    "\n",
    "def detect_frontal_face(image):\n",
    "    # OpenCV의 얼굴 감지기(Haar Cascade) 사용\n",
    "    face_cascade = cv2.CascadeClassifier(cv2.data.haarcascades + 'haarcascade_frontalface_default.xml')\n",
    "    gray_image = cv2.cvtColor(image, cv2.COLOR_BGR2GRAY)\n",
    "    faces = face_cascade.detectMultiScale(gray_image, scaleFactor=1.3, minNeighbors=5)\n",
    "\n",
    "    return len(faces) > 0\n",
    "\n",
    "def main():\n",
    "    # 웹캠 열기\n",
    "    cap = cv2.VideoCapture(0)  # 0은 기본 웹캠을 의미, 여러 카메라가 연결되어 있는 경우 1, 2 등으로 변경 가능\n",
    "\n",
    "    # 한글 폰트 설정\n",
    "    font_path = \"C:/Windows/Fonts/malgun.ttf\"  # 한글 폰트 경로에 따라 변경\n",
    "    font = ImageFont.truetype(font_path, 40)\n",
    "\n",
    "    while True:\n",
    "        # 프레임 읽기\n",
    "        ret, frame = cap.read()\n",
    "\n",
    "        # 읽은 프레임이 없으면 종료\n",
    "        if not ret:\n",
    "            break\n",
    "\n",
    "        # 얼굴 감지\n",
    "        if not detect_frontal_face(frame):\n",
    "            # 얼굴이 정면을 향하고 있지 않을 때 텍스트 출력\n",
    "            image_pil = Image.fromarray(cv2.cvtColor(frame, cv2.COLOR_BGR2RGB))\n",
    "            draw = ImageDraw.Draw(image_pil)\n",
    "            draw.text((50, 50), \"얼굴을 정면으로 해주세요\", font=font, fill=(255, 255, 255))\n",
    "            frame = cv2.cvtColor(np.array(image_pil), cv2.COLOR_RGB2BGR)\n",
    "\n",
    "        # 프레임 화면에 표시\n",
    "        cv2.imshow('Webcam', frame)\n",
    "\n",
    "        # 'q' 키를 누르면 종료\n",
    "        if cv2.waitKey(1) & 0xFF == ord('q'):\n",
    "            break\n",
    "\n",
    "    # 웹캠 해제 및 창 닫기\n",
    "    cap.release()\n",
    "    cv2.destroyAllWindows()\n",
    "\n",
    "if __name__ == \"__main__\":\n",
    "    main()"
   ]
  },
  {
   "cell_type": "code",
   "execution_count": null,
   "metadata": {},
   "outputs": [],
   "source": []
  },
  {
   "cell_type": "code",
   "execution_count": null,
   "metadata": {},
   "outputs": [],
   "source": []
  },
  {
   "cell_type": "code",
   "execution_count": null,
   "metadata": {},
   "outputs": [],
   "source": []
  },
  {
   "cell_type": "code",
   "execution_count": null,
   "metadata": {},
   "outputs": [],
   "source": []
  },
  {
   "cell_type": "code",
   "execution_count": null,
   "metadata": {},
   "outputs": [],
   "source": []
  },
  {
   "cell_type": "code",
   "execution_count": null,
   "metadata": {},
   "outputs": [],
   "source": []
  },
  {
   "cell_type": "code",
   "execution_count": null,
   "metadata": {},
   "outputs": [],
   "source": []
  },
  {
   "cell_type": "code",
   "execution_count": null,
   "metadata": {},
   "outputs": [],
   "source": []
  },
  {
   "cell_type": "code",
   "execution_count": null,
   "metadata": {},
   "outputs": [],
   "source": []
  },
  {
   "cell_type": "code",
   "execution_count": null,
   "metadata": {},
   "outputs": [],
   "source": []
  },
  {
   "cell_type": "code",
   "execution_count": null,
   "metadata": {},
   "outputs": [],
   "source": []
  },
  {
   "cell_type": "code",
   "execution_count": null,
   "metadata": {},
   "outputs": [],
   "source": []
  },
  {
   "cell_type": "code",
   "execution_count": null,
   "metadata": {},
   "outputs": [],
   "source": []
  },
  {
   "cell_type": "code",
   "execution_count": null,
   "metadata": {},
   "outputs": [],
   "source": []
  },
  {
   "cell_type": "code",
   "execution_count": null,
   "metadata": {},
   "outputs": [],
   "source": []
  },
  {
   "cell_type": "code",
   "execution_count": null,
   "metadata": {},
   "outputs": [],
   "source": []
  },
  {
   "cell_type": "code",
   "execution_count": null,
   "metadata": {},
   "outputs": [],
   "source": []
  },
  {
   "cell_type": "code",
   "execution_count": null,
   "metadata": {},
   "outputs": [],
   "source": []
  },
  {
   "cell_type": "code",
   "execution_count": null,
   "metadata": {},
   "outputs": [],
   "source": []
  },
  {
   "cell_type": "code",
   "execution_count": null,
   "metadata": {},
   "outputs": [],
   "source": []
  },
  {
   "cell_type": "code",
   "execution_count": null,
   "metadata": {},
   "outputs": [],
   "source": []
  },
  {
   "cell_type": "code",
   "execution_count": null,
   "metadata": {},
   "outputs": [],
   "source": []
  },
  {
   "cell_type": "code",
   "execution_count": null,
   "metadata": {},
   "outputs": [],
   "source": []
  },
  {
   "cell_type": "code",
   "execution_count": null,
   "metadata": {},
   "outputs": [],
   "source": []
  },
  {
   "cell_type": "code",
   "execution_count": null,
   "metadata": {},
   "outputs": [],
   "source": []
  },
  {
   "cell_type": "code",
   "execution_count": null,
   "metadata": {},
   "outputs": [],
   "source": []
  },
  {
   "cell_type": "code",
   "execution_count": null,
   "metadata": {},
   "outputs": [],
   "source": []
  },
  {
   "cell_type": "markdown",
   "metadata": {},
   "source": [
    "# ㅇㅇ"
   ]
  },
  {
   "cell_type": "code",
   "execution_count": null,
   "metadata": {},
   "outputs": [],
   "source": []
  },
  {
   "cell_type": "code",
   "execution_count": 1,
   "metadata": {},
   "outputs": [
    {
     "name": "stdout",
     "output_type": "stream",
     "text": [
      "EVENT_LBUTTONDOWN: 119, 78\n",
      "EVENT_LBUTTONUP: 619, 314\n"
     ]
    }
   ],
   "source": [
    "import sys\n",
    "import numpy as np\n",
    "import cv2\n",
    "\n",
    "\n",
    "oldx = oldy = -1 # 좌표 기본값 설정\n",
    "\n",
    "# 내가 만든 마우스 함수를 실행시켜줘\n",
    "\n",
    "\n",
    "def on_mouse(event, x, y, flags, param):\n",
    "    # event는 마우스 동작 상수값, 클릭, 이동 등등\n",
    "    # x, y는 내가 띄운 창을 기준으로 좌측 상단점이 0,0이 됌\n",
    "    # flags는 마우스 이벤트가 발생할 때 키보드 또는 마우스 상태를 의미, Shif+마우스 등 설정가능\n",
    "    # param은 영상이룻도 있도 전달하고 싶은 데이타, 안쓰더라도 넣어줘야함\n",
    "\n",
    "    global oldx, oldy # 밖에 있는 oldx, oldy 불러옴\n",
    "\n",
    "    if event == cv2.EVENT_LBUTTONDOWN: # 왼쪽이 눌러지면 실행\n",
    "        oldx, oldy = x, y # 마우스가 눌렀을 때 좌표 저장, 띄워진 영상에서의 좌측 상단 기준\n",
    "        print('EVENT_LBUTTONDOWN: %d, %d' % (x, y)) # 좌표 출력\n",
    "\n",
    "    elif event == cv2.EVENT_LBUTTONUP: # 마우스 뗏을때 발생\n",
    "        print('EVENT_LBUTTONUP: %d, %d' % (x, y)) # 좌표 출력\n",
    "\n",
    "    elif event == cv2.EVENT_MOUSEMOVE: # 마우스가 움직일 때 발생\n",
    "        if flags & cv2.EVENT_FLAG_LBUTTON: # ==를 쓰면 다른 키도 입력되었을 때 작동안하므로 &(and) 사용\n",
    "            # cv2.circle(img, (x, y), 5, (0, 255, 0), -1) # 단점이 빠르게 움직이면 끊김\n",
    "\n",
    "            # circle은 끊기므로 line 이용\n",
    "            # 마우스 클릭한 좌표에서 시작해서 마우스 좌표까지 그림\n",
    "            cv2.line(img, (oldx, oldy), (x, y), (0, 0, 255), 4, cv2.LINE_AA)\n",
    "            cv2.imshow('image', img)\n",
    "            oldx, oldy = x, y # 그림을 그리고 또 좌표 저장\n",
    "\n",
    "\n",
    "# 흰색 컬러 영상 생성\n",
    "img = np.ones((480, 640, 3), dtype=np.uint8) * 255\n",
    "\n",
    "# 윈도우 창\n",
    "cv2.namedWindow('image')\n",
    "\n",
    "# 마우스 입력, namedWIndow or imshow가 실행되어 창이 떠있는 상태에서만 사용가능\n",
    "# 마우스 이벤트가 발생하면 on_mouse 함수 실행\n",
    "cv2.setMouseCallback('image', on_mouse, img)\n",
    "\n",
    "\n",
    "# 영상 출력\n",
    "cv2.imshow('image', img)\n",
    "cv2.waitKey()\n",
    "\n",
    "cv2.destroyAllWindows()"
   ]
  },
  {
   "cell_type": "code",
   "execution_count": null,
   "metadata": {},
   "outputs": [],
   "source": []
  }
 ],
 "metadata": {
  "kernelspec": {
   "display_name": "OpenAI",
   "language": "python",
   "name": "python3"
  },
  "language_info": {
   "codemirror_mode": {
    "name": "ipython",
    "version": 3
   },
   "file_extension": ".py",
   "mimetype": "text/x-python",
   "name": "python",
   "nbconvert_exporter": "python",
   "pygments_lexer": "ipython3",
   "version": "3.12.0"
  }
 },
 "nbformat": 4,
 "nbformat_minor": 2
}
