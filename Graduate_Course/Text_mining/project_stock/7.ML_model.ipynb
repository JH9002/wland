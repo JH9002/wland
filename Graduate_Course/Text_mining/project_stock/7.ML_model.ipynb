{
 "cells": [
  {
   "cell_type": "markdown",
   "id": "5676e3c3",
   "metadata": {},
   "source": [
    "# 머신 러닝 모델"
   ]
  },
  {
   "cell_type": "code",
   "execution_count": 1,
   "id": "cc75cf96",
   "metadata": {},
   "outputs": [],
   "source": [
    "import pandas as pd\n",
    "import numpy as np\n",
    "from numpy import mean\n",
    "from numpy import std\n",
    "from sklearn.datasets import make_classification\n",
    "from sklearn.model_selection import cross_val_score\n",
    "from sklearn.model_selection import RepeatedStratifiedKFold\n",
    "from sklearn.linear_model import LogisticRegression\n",
    "from sklearn.svm import SVC\n",
    "from sklearn.tree import DecisionTreeClassifier\n",
    "from sklearn.ensemble import RandomForestClassifier\n",
    "from sklearn.neighbors import KNeighborsClassifier\n",
    "from sklearn import metrics\n",
    "from matplotlib import pyplot\n",
    "from sklearn.metrics import classification_report"
   ]
  },
  {
   "cell_type": "code",
   "execution_count": 2,
   "id": "8df33fee",
   "metadata": {},
   "outputs": [],
   "source": [
    "PATH = \"C:/Users/ANDlab3/OneDrive - 연세대학교 (Yonsei University)/2021-2학기/2.텍스트마이닝/텀프로젝트/DataSet.xlsx\""
   ]
  },
  {
   "cell_type": "code",
   "execution_count": 3,
   "id": "be1e6a5b",
   "metadata": {
    "scrolled": true
   },
   "outputs": [],
   "source": [
    "data = pd.read_excel(PATH)"
   ]
  },
  {
   "cell_type": "markdown",
   "id": "fe0e9784",
   "metadata": {},
   "source": [
    "- label = 1 전일 대비 상승\n",
    "\n",
    "- label = -1 전일 대비 하강"
   ]
  },
  {
   "cell_type": "code",
   "execution_count": 4,
   "id": "a494d1b2",
   "metadata": {
    "scrolled": false
   },
   "outputs": [
    {
     "data": {
      "text/html": [
       "<div>\n",
       "<style scoped>\n",
       "    .dataframe tbody tr th:only-of-type {\n",
       "        vertical-align: middle;\n",
       "    }\n",
       "\n",
       "    .dataframe tbody tr th {\n",
       "        vertical-align: top;\n",
       "    }\n",
       "\n",
       "    .dataframe thead th {\n",
       "        text-align: right;\n",
       "    }\n",
       "</style>\n",
       "<table border=\"1\" class=\"dataframe\">\n",
       "  <thead>\n",
       "    <tr style=\"text-align: right;\">\n",
       "      <th></th>\n",
       "      <th>Date</th>\n",
       "      <th>Scaled CP Score</th>\n",
       "      <th>Scaled volume Score</th>\n",
       "      <th>Scaled Senti Kospi Score</th>\n",
       "      <th>Scaled Senti stock Score</th>\n",
       "      <th>label</th>\n",
       "    </tr>\n",
       "  </thead>\n",
       "  <tbody>\n",
       "    <tr>\n",
       "      <th>0</th>\n",
       "      <td>2020-10-05</td>\n",
       "      <td>0.087519</td>\n",
       "      <td>0.086175</td>\n",
       "      <td>0.448550</td>\n",
       "      <td>0.460961</td>\n",
       "      <td>1</td>\n",
       "    </tr>\n",
       "    <tr>\n",
       "      <th>1</th>\n",
       "      <td>2020-10-06</td>\n",
       "      <td>0.095129</td>\n",
       "      <td>0.119490</td>\n",
       "      <td>0.230537</td>\n",
       "      <td>0.320265</td>\n",
       "      <td>1</td>\n",
       "    </tr>\n",
       "    <tr>\n",
       "      <th>2</th>\n",
       "      <td>2020-10-07</td>\n",
       "      <td>0.115398</td>\n",
       "      <td>0.077477</td>\n",
       "      <td>0.321843</td>\n",
       "      <td>0.379190</td>\n",
       "      <td>1</td>\n",
       "    </tr>\n",
       "    <tr>\n",
       "      <th>3</th>\n",
       "      <td>2020-10-08</td>\n",
       "      <td>0.120234</td>\n",
       "      <td>0.153428</td>\n",
       "      <td>0.505174</td>\n",
       "      <td>0.497504</td>\n",
       "      <td>1</td>\n",
       "    </tr>\n",
       "    <tr>\n",
       "      <th>4</th>\n",
       "      <td>2020-10-12</td>\n",
       "      <td>0.131572</td>\n",
       "      <td>0.113318</td>\n",
       "      <td>0.474480</td>\n",
       "      <td>0.477695</td>\n",
       "      <td>1</td>\n",
       "    </tr>\n",
       "    <tr>\n",
       "      <th>...</th>\n",
       "      <td>...</td>\n",
       "      <td>...</td>\n",
       "      <td>...</td>\n",
       "      <td>...</td>\n",
       "      <td>...</td>\n",
       "      <td>...</td>\n",
       "    </tr>\n",
       "    <tr>\n",
       "      <th>260</th>\n",
       "      <td>2021-10-25</td>\n",
       "      <td>0.725767</td>\n",
       "      <td>0.095741</td>\n",
       "      <td>0.350295</td>\n",
       "      <td>0.860651</td>\n",
       "      <td>1</td>\n",
       "    </tr>\n",
       "    <tr>\n",
       "      <th>261</th>\n",
       "      <td>2021-10-26</td>\n",
       "      <td>0.753261</td>\n",
       "      <td>0.018600</td>\n",
       "      <td>0.476195</td>\n",
       "      <td>0.495685</td>\n",
       "      <td>1</td>\n",
       "    </tr>\n",
       "    <tr>\n",
       "      <th>262</th>\n",
       "      <td>2021-10-27</td>\n",
       "      <td>0.730536</td>\n",
       "      <td>0.033305</td>\n",
       "      <td>0.856211</td>\n",
       "      <td>0.491285</td>\n",
       "      <td>-1</td>\n",
       "    </tr>\n",
       "    <tr>\n",
       "      <th>263</th>\n",
       "      <td>2021-10-28</td>\n",
       "      <td>0.715180</td>\n",
       "      <td>0.036490</td>\n",
       "      <td>0.421652</td>\n",
       "      <td>0.555391</td>\n",
       "      <td>-1</td>\n",
       "    </tr>\n",
       "    <tr>\n",
       "      <th>264</th>\n",
       "      <td>2021-10-29</td>\n",
       "      <td>0.677735</td>\n",
       "      <td>0.012243</td>\n",
       "      <td>0.761183</td>\n",
       "      <td>0.443200</td>\n",
       "      <td>-1</td>\n",
       "    </tr>\n",
       "  </tbody>\n",
       "</table>\n",
       "<p>265 rows × 6 columns</p>\n",
       "</div>"
      ],
      "text/plain": [
       "          Date  Scaled CP Score  Scaled volume Score  \\\n",
       "0   2020-10-05         0.087519             0.086175   \n",
       "1   2020-10-06         0.095129             0.119490   \n",
       "2   2020-10-07         0.115398             0.077477   \n",
       "3   2020-10-08         0.120234             0.153428   \n",
       "4   2020-10-12         0.131572             0.113318   \n",
       "..         ...              ...                  ...   \n",
       "260 2021-10-25         0.725767             0.095741   \n",
       "261 2021-10-26         0.753261             0.018600   \n",
       "262 2021-10-27         0.730536             0.033305   \n",
       "263 2021-10-28         0.715180             0.036490   \n",
       "264 2021-10-29         0.677735             0.012243   \n",
       "\n",
       "     Scaled Senti Kospi Score  Scaled Senti stock Score  label  \n",
       "0                    0.448550                  0.460961      1  \n",
       "1                    0.230537                  0.320265      1  \n",
       "2                    0.321843                  0.379190      1  \n",
       "3                    0.505174                  0.497504      1  \n",
       "4                    0.474480                  0.477695      1  \n",
       "..                        ...                       ...    ...  \n",
       "260                  0.350295                  0.860651      1  \n",
       "261                  0.476195                  0.495685      1  \n",
       "262                  0.856211                  0.491285     -1  \n",
       "263                  0.421652                  0.555391     -1  \n",
       "264                  0.761183                  0.443200     -1  \n",
       "\n",
       "[265 rows x 6 columns]"
      ]
     },
     "execution_count": 4,
     "metadata": {},
     "output_type": "execute_result"
    }
   ],
   "source": [
    "data"
   ]
  },
  {
   "cell_type": "code",
   "execution_count": 5,
   "id": "d32dc587",
   "metadata": {},
   "outputs": [],
   "source": [
    "x = data[['Scaled CP Score','Scaled volume Score','Scaled Senti Kospi Score','Scaled Senti stock Score']]\n",
    "y = data['label']"
   ]
  },
  {
   "cell_type": "markdown",
   "id": "b237d60c",
   "metadata": {},
   "source": [
    "# Train test 데이터셋 분리"
   ]
  },
  {
   "cell_type": "markdown",
   "id": "91b63ea7",
   "metadata": {},
   "source": [
    "- 2020년 10월 ~ 2021년 9월까지 데이터로 학습\n",
    "- 2020년 11월 데이터로 테스트"
   ]
  },
  {
   "cell_type": "code",
   "execution_count": 6,
   "id": "2607cdba",
   "metadata": {},
   "outputs": [],
   "source": [
    "train = data['Date'] <= '2021-09-30'\n",
    "test = data['Date'] > '2021-09-30'"
   ]
  },
  {
   "cell_type": "code",
   "execution_count": 7,
   "id": "d81cac0d",
   "metadata": {},
   "outputs": [
    {
     "data": {
      "text/html": [
       "<div>\n",
       "<style scoped>\n",
       "    .dataframe tbody tr th:only-of-type {\n",
       "        vertical-align: middle;\n",
       "    }\n",
       "\n",
       "    .dataframe tbody tr th {\n",
       "        vertical-align: top;\n",
       "    }\n",
       "\n",
       "    .dataframe thead th {\n",
       "        text-align: right;\n",
       "    }\n",
       "</style>\n",
       "<table border=\"1\" class=\"dataframe\">\n",
       "  <thead>\n",
       "    <tr style=\"text-align: right;\">\n",
       "      <th></th>\n",
       "      <th>Date</th>\n",
       "      <th>Scaled CP Score</th>\n",
       "      <th>Scaled volume Score</th>\n",
       "      <th>Scaled Senti Kospi Score</th>\n",
       "      <th>Scaled Senti stock Score</th>\n",
       "      <th>label</th>\n",
       "    </tr>\n",
       "  </thead>\n",
       "  <tbody>\n",
       "    <tr>\n",
       "      <th>0</th>\n",
       "      <td>2020-10-05</td>\n",
       "      <td>0.087519</td>\n",
       "      <td>0.086175</td>\n",
       "      <td>0.448550</td>\n",
       "      <td>0.460961</td>\n",
       "      <td>1</td>\n",
       "    </tr>\n",
       "    <tr>\n",
       "      <th>1</th>\n",
       "      <td>2020-10-06</td>\n",
       "      <td>0.095129</td>\n",
       "      <td>0.119490</td>\n",
       "      <td>0.230537</td>\n",
       "      <td>0.320265</td>\n",
       "      <td>1</td>\n",
       "    </tr>\n",
       "    <tr>\n",
       "      <th>2</th>\n",
       "      <td>2020-10-07</td>\n",
       "      <td>0.115398</td>\n",
       "      <td>0.077477</td>\n",
       "      <td>0.321843</td>\n",
       "      <td>0.379190</td>\n",
       "      <td>1</td>\n",
       "    </tr>\n",
       "    <tr>\n",
       "      <th>3</th>\n",
       "      <td>2020-10-08</td>\n",
       "      <td>0.120234</td>\n",
       "      <td>0.153428</td>\n",
       "      <td>0.505174</td>\n",
       "      <td>0.497504</td>\n",
       "      <td>1</td>\n",
       "    </tr>\n",
       "    <tr>\n",
       "      <th>4</th>\n",
       "      <td>2020-10-12</td>\n",
       "      <td>0.131572</td>\n",
       "      <td>0.113318</td>\n",
       "      <td>0.474480</td>\n",
       "      <td>0.477695</td>\n",
       "      <td>1</td>\n",
       "    </tr>\n",
       "    <tr>\n",
       "      <th>...</th>\n",
       "      <td>...</td>\n",
       "      <td>...</td>\n",
       "      <td>...</td>\n",
       "      <td>...</td>\n",
       "      <td>...</td>\n",
       "      <td>...</td>\n",
       "    </tr>\n",
       "    <tr>\n",
       "      <th>241</th>\n",
       "      <td>2021-09-24</td>\n",
       "      <td>0.826629</td>\n",
       "      <td>0.082646</td>\n",
       "      <td>0.211034</td>\n",
       "      <td>0.477314</td>\n",
       "      <td>-1</td>\n",
       "    </tr>\n",
       "    <tr>\n",
       "      <th>242</th>\n",
       "      <td>2021-09-27</td>\n",
       "      <td>0.834721</td>\n",
       "      <td>0.126780</td>\n",
       "      <td>0.572079</td>\n",
       "      <td>0.493825</td>\n",
       "      <td>1</td>\n",
       "    </tr>\n",
       "    <tr>\n",
       "      <th>243</th>\n",
       "      <td>2021-09-28</td>\n",
       "      <td>0.800310</td>\n",
       "      <td>0.130747</td>\n",
       "      <td>0.876160</td>\n",
       "      <td>0.646524</td>\n",
       "      <td>-1</td>\n",
       "    </tr>\n",
       "    <tr>\n",
       "      <th>244</th>\n",
       "      <td>2021-09-29</td>\n",
       "      <td>0.764041</td>\n",
       "      <td>0.105844</td>\n",
       "      <td>0.823138</td>\n",
       "      <td>0.480773</td>\n",
       "      <td>-1</td>\n",
       "    </tr>\n",
       "    <tr>\n",
       "      <th>245</th>\n",
       "      <td>2021-09-30</td>\n",
       "      <td>0.772277</td>\n",
       "      <td>0.127659</td>\n",
       "      <td>0.250662</td>\n",
       "      <td>0.377692</td>\n",
       "      <td>1</td>\n",
       "    </tr>\n",
       "  </tbody>\n",
       "</table>\n",
       "<p>246 rows × 6 columns</p>\n",
       "</div>"
      ],
      "text/plain": [
       "          Date  Scaled CP Score  Scaled volume Score  \\\n",
       "0   2020-10-05         0.087519             0.086175   \n",
       "1   2020-10-06         0.095129             0.119490   \n",
       "2   2020-10-07         0.115398             0.077477   \n",
       "3   2020-10-08         0.120234             0.153428   \n",
       "4   2020-10-12         0.131572             0.113318   \n",
       "..         ...              ...                  ...   \n",
       "241 2021-09-24         0.826629             0.082646   \n",
       "242 2021-09-27         0.834721             0.126780   \n",
       "243 2021-09-28         0.800310             0.130747   \n",
       "244 2021-09-29         0.764041             0.105844   \n",
       "245 2021-09-30         0.772277             0.127659   \n",
       "\n",
       "     Scaled Senti Kospi Score  Scaled Senti stock Score  label  \n",
       "0                    0.448550                  0.460961      1  \n",
       "1                    0.230537                  0.320265      1  \n",
       "2                    0.321843                  0.379190      1  \n",
       "3                    0.505174                  0.497504      1  \n",
       "4                    0.474480                  0.477695      1  \n",
       "..                        ...                       ...    ...  \n",
       "241                  0.211034                  0.477314     -1  \n",
       "242                  0.572079                  0.493825      1  \n",
       "243                  0.876160                  0.646524     -1  \n",
       "244                  0.823138                  0.480773     -1  \n",
       "245                  0.250662                  0.377692      1  \n",
       "\n",
       "[246 rows x 6 columns]"
      ]
     },
     "execution_count": 7,
     "metadata": {},
     "output_type": "execute_result"
    }
   ],
   "source": [
    "train_data = data[train]\n",
    "train_data"
   ]
  },
  {
   "cell_type": "code",
   "execution_count": 8,
   "id": "ef376f9a",
   "metadata": {},
   "outputs": [
    {
     "data": {
      "text/html": [
       "<div>\n",
       "<style scoped>\n",
       "    .dataframe tbody tr th:only-of-type {\n",
       "        vertical-align: middle;\n",
       "    }\n",
       "\n",
       "    .dataframe tbody tr th {\n",
       "        vertical-align: top;\n",
       "    }\n",
       "\n",
       "    .dataframe thead th {\n",
       "        text-align: right;\n",
       "    }\n",
       "</style>\n",
       "<table border=\"1\" class=\"dataframe\">\n",
       "  <thead>\n",
       "    <tr style=\"text-align: right;\">\n",
       "      <th></th>\n",
       "      <th>Date</th>\n",
       "      <th>Scaled CP Score</th>\n",
       "      <th>Scaled volume Score</th>\n",
       "      <th>Scaled Senti Kospi Score</th>\n",
       "      <th>Scaled Senti stock Score</th>\n",
       "      <th>label</th>\n",
       "    </tr>\n",
       "  </thead>\n",
       "  <tbody>\n",
       "    <tr>\n",
       "      <th>246</th>\n",
       "      <td>2021-10-01</td>\n",
       "      <td>0.724457</td>\n",
       "      <td>0.117361</td>\n",
       "      <td>0.971218</td>\n",
       "      <td>0.516042</td>\n",
       "      <td>-1</td>\n",
       "    </tr>\n",
       "    <tr>\n",
       "      <th>247</th>\n",
       "      <td>2021-10-05</td>\n",
       "      <td>0.669537</td>\n",
       "      <td>0.112294</td>\n",
       "      <td>0.737808</td>\n",
       "      <td>0.483591</td>\n",
       "      <td>-1</td>\n",
       "    </tr>\n",
       "    <tr>\n",
       "      <th>248</th>\n",
       "      <td>2021-10-06</td>\n",
       "      <td>0.617652</td>\n",
       "      <td>0.133058</td>\n",
       "      <td>0.585061</td>\n",
       "      <td>0.455209</td>\n",
       "      <td>-1</td>\n",
       "    </tr>\n",
       "    <tr>\n",
       "      <th>249</th>\n",
       "      <td>2021-10-07</td>\n",
       "      <td>0.666927</td>\n",
       "      <td>0.029064</td>\n",
       "      <td>0.561415</td>\n",
       "      <td>0.743237</td>\n",
       "      <td>1</td>\n",
       "    </tr>\n",
       "    <tr>\n",
       "      <th>250</th>\n",
       "      <td>2021-10-08</td>\n",
       "      <td>0.663883</td>\n",
       "      <td>0.054037</td>\n",
       "      <td>0.465127</td>\n",
       "      <td>0.857588</td>\n",
       "      <td>-1</td>\n",
       "    </tr>\n",
       "    <tr>\n",
       "      <th>251</th>\n",
       "      <td>2021-10-12</td>\n",
       "      <td>0.625426</td>\n",
       "      <td>0.051061</td>\n",
       "      <td>0.590849</td>\n",
       "      <td>0.590160</td>\n",
       "      <td>-1</td>\n",
       "    </tr>\n",
       "    <tr>\n",
       "      <th>252</th>\n",
       "      <td>2021-10-13</td>\n",
       "      <td>0.652429</td>\n",
       "      <td>0.082276</td>\n",
       "      <td>0.699428</td>\n",
       "      <td>0.513994</td>\n",
       "      <td>1</td>\n",
       "    </tr>\n",
       "    <tr>\n",
       "      <th>253</th>\n",
       "      <td>2021-10-14</td>\n",
       "      <td>0.695037</td>\n",
       "      <td>0.036460</td>\n",
       "      <td>0.167336</td>\n",
       "      <td>0.394678</td>\n",
       "      <td>1</td>\n",
       "    </tr>\n",
       "    <tr>\n",
       "      <th>254</th>\n",
       "      <td>2021-10-15</td>\n",
       "      <td>0.720488</td>\n",
       "      <td>0.118147</td>\n",
       "      <td>0.293502</td>\n",
       "      <td>0.507868</td>\n",
       "      <td>1</td>\n",
       "    </tr>\n",
       "    <tr>\n",
       "      <th>255</th>\n",
       "      <td>2021-10-18</td>\n",
       "      <td>0.712415</td>\n",
       "      <td>0.141425</td>\n",
       "      <td>0.749225</td>\n",
       "      <td>0.624210</td>\n",
       "      <td>-1</td>\n",
       "    </tr>\n",
       "    <tr>\n",
       "      <th>256</th>\n",
       "      <td>2021-10-19</td>\n",
       "      <td>0.733956</td>\n",
       "      <td>0.114041</td>\n",
       "      <td>0.421769</td>\n",
       "      <td>0.665674</td>\n",
       "      <td>1</td>\n",
       "    </tr>\n",
       "    <tr>\n",
       "      <th>257</th>\n",
       "      <td>2021-10-20</td>\n",
       "      <td>0.718629</td>\n",
       "      <td>0.057900</td>\n",
       "      <td>0.707075</td>\n",
       "      <td>0.645120</td>\n",
       "      <td>-1</td>\n",
       "    </tr>\n",
       "    <tr>\n",
       "      <th>258</th>\n",
       "      <td>2021-10-21</td>\n",
       "      <td>0.713042</td>\n",
       "      <td>0.128186</td>\n",
       "      <td>0.315504</td>\n",
       "      <td>0.474258</td>\n",
       "      <td>-1</td>\n",
       "    </tr>\n",
       "    <tr>\n",
       "      <th>259</th>\n",
       "      <td>2021-10-22</td>\n",
       "      <td>0.711915</td>\n",
       "      <td>0.062974</td>\n",
       "      <td>0.723860</td>\n",
       "      <td>0.742297</td>\n",
       "      <td>-1</td>\n",
       "    </tr>\n",
       "    <tr>\n",
       "      <th>260</th>\n",
       "      <td>2021-10-25</td>\n",
       "      <td>0.725767</td>\n",
       "      <td>0.095741</td>\n",
       "      <td>0.350295</td>\n",
       "      <td>0.860651</td>\n",
       "      <td>1</td>\n",
       "    </tr>\n",
       "    <tr>\n",
       "      <th>261</th>\n",
       "      <td>2021-10-26</td>\n",
       "      <td>0.753261</td>\n",
       "      <td>0.018600</td>\n",
       "      <td>0.476195</td>\n",
       "      <td>0.495685</td>\n",
       "      <td>1</td>\n",
       "    </tr>\n",
       "    <tr>\n",
       "      <th>262</th>\n",
       "      <td>2021-10-27</td>\n",
       "      <td>0.730536</td>\n",
       "      <td>0.033305</td>\n",
       "      <td>0.856211</td>\n",
       "      <td>0.491285</td>\n",
       "      <td>-1</td>\n",
       "    </tr>\n",
       "    <tr>\n",
       "      <th>263</th>\n",
       "      <td>2021-10-28</td>\n",
       "      <td>0.715180</td>\n",
       "      <td>0.036490</td>\n",
       "      <td>0.421652</td>\n",
       "      <td>0.555391</td>\n",
       "      <td>-1</td>\n",
       "    </tr>\n",
       "    <tr>\n",
       "      <th>264</th>\n",
       "      <td>2021-10-29</td>\n",
       "      <td>0.677735</td>\n",
       "      <td>0.012243</td>\n",
       "      <td>0.761183</td>\n",
       "      <td>0.443200</td>\n",
       "      <td>-1</td>\n",
       "    </tr>\n",
       "  </tbody>\n",
       "</table>\n",
       "</div>"
      ],
      "text/plain": [
       "          Date  Scaled CP Score  Scaled volume Score  \\\n",
       "246 2021-10-01         0.724457             0.117361   \n",
       "247 2021-10-05         0.669537             0.112294   \n",
       "248 2021-10-06         0.617652             0.133058   \n",
       "249 2021-10-07         0.666927             0.029064   \n",
       "250 2021-10-08         0.663883             0.054037   \n",
       "251 2021-10-12         0.625426             0.051061   \n",
       "252 2021-10-13         0.652429             0.082276   \n",
       "253 2021-10-14         0.695037             0.036460   \n",
       "254 2021-10-15         0.720488             0.118147   \n",
       "255 2021-10-18         0.712415             0.141425   \n",
       "256 2021-10-19         0.733956             0.114041   \n",
       "257 2021-10-20         0.718629             0.057900   \n",
       "258 2021-10-21         0.713042             0.128186   \n",
       "259 2021-10-22         0.711915             0.062974   \n",
       "260 2021-10-25         0.725767             0.095741   \n",
       "261 2021-10-26         0.753261             0.018600   \n",
       "262 2021-10-27         0.730536             0.033305   \n",
       "263 2021-10-28         0.715180             0.036490   \n",
       "264 2021-10-29         0.677735             0.012243   \n",
       "\n",
       "     Scaled Senti Kospi Score  Scaled Senti stock Score  label  \n",
       "246                  0.971218                  0.516042     -1  \n",
       "247                  0.737808                  0.483591     -1  \n",
       "248                  0.585061                  0.455209     -1  \n",
       "249                  0.561415                  0.743237      1  \n",
       "250                  0.465127                  0.857588     -1  \n",
       "251                  0.590849                  0.590160     -1  \n",
       "252                  0.699428                  0.513994      1  \n",
       "253                  0.167336                  0.394678      1  \n",
       "254                  0.293502                  0.507868      1  \n",
       "255                  0.749225                  0.624210     -1  \n",
       "256                  0.421769                  0.665674      1  \n",
       "257                  0.707075                  0.645120     -1  \n",
       "258                  0.315504                  0.474258     -1  \n",
       "259                  0.723860                  0.742297     -1  \n",
       "260                  0.350295                  0.860651      1  \n",
       "261                  0.476195                  0.495685      1  \n",
       "262                  0.856211                  0.491285     -1  \n",
       "263                  0.421652                  0.555391     -1  \n",
       "264                  0.761183                  0.443200     -1  "
      ]
     },
     "execution_count": 8,
     "metadata": {},
     "output_type": "execute_result"
    }
   ],
   "source": [
    "test_data = data[test]\n",
    "test_data"
   ]
  },
  {
   "cell_type": "code",
   "execution_count": 9,
   "id": "6c6b185e",
   "metadata": {},
   "outputs": [
    {
     "name": "stdout",
     "output_type": "stream",
     "text": [
      "246\n",
      "19\n"
     ]
    }
   ],
   "source": [
    "print(len(train_data))\n",
    "print(len(test_data))"
   ]
  },
  {
   "cell_type": "code",
   "execution_count": 10,
   "id": "0319be01",
   "metadata": {},
   "outputs": [],
   "source": [
    "x_train = train_data[['Scaled CP Score','Scaled volume Score','Scaled Senti Kospi Score','Scaled Senti stock Score']]\n",
    "y_train = train_data['label']"
   ]
  },
  {
   "cell_type": "code",
   "execution_count": 11,
   "id": "08b66893",
   "metadata": {},
   "outputs": [],
   "source": [
    "x_test = test_data[['Scaled CP Score','Scaled volume Score','Scaled Senti Kospi Score','Scaled Senti stock Score']]\n",
    "y_test = test_data['label']"
   ]
  },
  {
   "cell_type": "code",
   "execution_count": 12,
   "id": "8ea5aef0",
   "metadata": {},
   "outputs": [
    {
     "data": {
      "text/html": [
       "<div>\n",
       "<style scoped>\n",
       "    .dataframe tbody tr th:only-of-type {\n",
       "        vertical-align: middle;\n",
       "    }\n",
       "\n",
       "    .dataframe tbody tr th {\n",
       "        vertical-align: top;\n",
       "    }\n",
       "\n",
       "    .dataframe thead th {\n",
       "        text-align: right;\n",
       "    }\n",
       "</style>\n",
       "<table border=\"1\" class=\"dataframe\">\n",
       "  <thead>\n",
       "    <tr style=\"text-align: right;\">\n",
       "      <th></th>\n",
       "      <th>Scaled CP Score</th>\n",
       "      <th>Scaled volume Score</th>\n",
       "      <th>Scaled Senti Kospi Score</th>\n",
       "      <th>Scaled Senti stock Score</th>\n",
       "    </tr>\n",
       "  </thead>\n",
       "  <tbody>\n",
       "    <tr>\n",
       "      <th>0</th>\n",
       "      <td>0.087519</td>\n",
       "      <td>0.086175</td>\n",
       "      <td>0.448550</td>\n",
       "      <td>0.460961</td>\n",
       "    </tr>\n",
       "    <tr>\n",
       "      <th>1</th>\n",
       "      <td>0.095129</td>\n",
       "      <td>0.119490</td>\n",
       "      <td>0.230537</td>\n",
       "      <td>0.320265</td>\n",
       "    </tr>\n",
       "    <tr>\n",
       "      <th>2</th>\n",
       "      <td>0.115398</td>\n",
       "      <td>0.077477</td>\n",
       "      <td>0.321843</td>\n",
       "      <td>0.379190</td>\n",
       "    </tr>\n",
       "    <tr>\n",
       "      <th>3</th>\n",
       "      <td>0.120234</td>\n",
       "      <td>0.153428</td>\n",
       "      <td>0.505174</td>\n",
       "      <td>0.497504</td>\n",
       "    </tr>\n",
       "    <tr>\n",
       "      <th>4</th>\n",
       "      <td>0.131572</td>\n",
       "      <td>0.113318</td>\n",
       "      <td>0.474480</td>\n",
       "      <td>0.477695</td>\n",
       "    </tr>\n",
       "    <tr>\n",
       "      <th>...</th>\n",
       "      <td>...</td>\n",
       "      <td>...</td>\n",
       "      <td>...</td>\n",
       "      <td>...</td>\n",
       "    </tr>\n",
       "    <tr>\n",
       "      <th>241</th>\n",
       "      <td>0.826629</td>\n",
       "      <td>0.082646</td>\n",
       "      <td>0.211034</td>\n",
       "      <td>0.477314</td>\n",
       "    </tr>\n",
       "    <tr>\n",
       "      <th>242</th>\n",
       "      <td>0.834721</td>\n",
       "      <td>0.126780</td>\n",
       "      <td>0.572079</td>\n",
       "      <td>0.493825</td>\n",
       "    </tr>\n",
       "    <tr>\n",
       "      <th>243</th>\n",
       "      <td>0.800310</td>\n",
       "      <td>0.130747</td>\n",
       "      <td>0.876160</td>\n",
       "      <td>0.646524</td>\n",
       "    </tr>\n",
       "    <tr>\n",
       "      <th>244</th>\n",
       "      <td>0.764041</td>\n",
       "      <td>0.105844</td>\n",
       "      <td>0.823138</td>\n",
       "      <td>0.480773</td>\n",
       "    </tr>\n",
       "    <tr>\n",
       "      <th>245</th>\n",
       "      <td>0.772277</td>\n",
       "      <td>0.127659</td>\n",
       "      <td>0.250662</td>\n",
       "      <td>0.377692</td>\n",
       "    </tr>\n",
       "  </tbody>\n",
       "</table>\n",
       "<p>246 rows × 4 columns</p>\n",
       "</div>"
      ],
      "text/plain": [
       "     Scaled CP Score  Scaled volume Score  Scaled Senti Kospi Score  \\\n",
       "0           0.087519             0.086175                  0.448550   \n",
       "1           0.095129             0.119490                  0.230537   \n",
       "2           0.115398             0.077477                  0.321843   \n",
       "3           0.120234             0.153428                  0.505174   \n",
       "4           0.131572             0.113318                  0.474480   \n",
       "..               ...                  ...                       ...   \n",
       "241         0.826629             0.082646                  0.211034   \n",
       "242         0.834721             0.126780                  0.572079   \n",
       "243         0.800310             0.130747                  0.876160   \n",
       "244         0.764041             0.105844                  0.823138   \n",
       "245         0.772277             0.127659                  0.250662   \n",
       "\n",
       "     Scaled Senti stock Score  \n",
       "0                    0.460961  \n",
       "1                    0.320265  \n",
       "2                    0.379190  \n",
       "3                    0.497504  \n",
       "4                    0.477695  \n",
       "..                        ...  \n",
       "241                  0.477314  \n",
       "242                  0.493825  \n",
       "243                  0.646524  \n",
       "244                  0.480773  \n",
       "245                  0.377692  \n",
       "\n",
       "[246 rows x 4 columns]"
      ]
     },
     "execution_count": 12,
     "metadata": {},
     "output_type": "execute_result"
    }
   ],
   "source": [
    "x_train"
   ]
  },
  {
   "cell_type": "code",
   "execution_count": 13,
   "id": "2b921403",
   "metadata": {},
   "outputs": [
    {
     "data": {
      "text/html": [
       "<div>\n",
       "<style scoped>\n",
       "    .dataframe tbody tr th:only-of-type {\n",
       "        vertical-align: middle;\n",
       "    }\n",
       "\n",
       "    .dataframe tbody tr th {\n",
       "        vertical-align: top;\n",
       "    }\n",
       "\n",
       "    .dataframe thead th {\n",
       "        text-align: right;\n",
       "    }\n",
       "</style>\n",
       "<table border=\"1\" class=\"dataframe\">\n",
       "  <thead>\n",
       "    <tr style=\"text-align: right;\">\n",
       "      <th></th>\n",
       "      <th>Scaled CP Score</th>\n",
       "      <th>Scaled volume Score</th>\n",
       "      <th>Scaled Senti Kospi Score</th>\n",
       "      <th>Scaled Senti stock Score</th>\n",
       "    </tr>\n",
       "  </thead>\n",
       "  <tbody>\n",
       "    <tr>\n",
       "      <th>246</th>\n",
       "      <td>0.724457</td>\n",
       "      <td>0.117361</td>\n",
       "      <td>0.971218</td>\n",
       "      <td>0.516042</td>\n",
       "    </tr>\n",
       "    <tr>\n",
       "      <th>247</th>\n",
       "      <td>0.669537</td>\n",
       "      <td>0.112294</td>\n",
       "      <td>0.737808</td>\n",
       "      <td>0.483591</td>\n",
       "    </tr>\n",
       "    <tr>\n",
       "      <th>248</th>\n",
       "      <td>0.617652</td>\n",
       "      <td>0.133058</td>\n",
       "      <td>0.585061</td>\n",
       "      <td>0.455209</td>\n",
       "    </tr>\n",
       "    <tr>\n",
       "      <th>249</th>\n",
       "      <td>0.666927</td>\n",
       "      <td>0.029064</td>\n",
       "      <td>0.561415</td>\n",
       "      <td>0.743237</td>\n",
       "    </tr>\n",
       "    <tr>\n",
       "      <th>250</th>\n",
       "      <td>0.663883</td>\n",
       "      <td>0.054037</td>\n",
       "      <td>0.465127</td>\n",
       "      <td>0.857588</td>\n",
       "    </tr>\n",
       "    <tr>\n",
       "      <th>251</th>\n",
       "      <td>0.625426</td>\n",
       "      <td>0.051061</td>\n",
       "      <td>0.590849</td>\n",
       "      <td>0.590160</td>\n",
       "    </tr>\n",
       "    <tr>\n",
       "      <th>252</th>\n",
       "      <td>0.652429</td>\n",
       "      <td>0.082276</td>\n",
       "      <td>0.699428</td>\n",
       "      <td>0.513994</td>\n",
       "    </tr>\n",
       "    <tr>\n",
       "      <th>253</th>\n",
       "      <td>0.695037</td>\n",
       "      <td>0.036460</td>\n",
       "      <td>0.167336</td>\n",
       "      <td>0.394678</td>\n",
       "    </tr>\n",
       "    <tr>\n",
       "      <th>254</th>\n",
       "      <td>0.720488</td>\n",
       "      <td>0.118147</td>\n",
       "      <td>0.293502</td>\n",
       "      <td>0.507868</td>\n",
       "    </tr>\n",
       "    <tr>\n",
       "      <th>255</th>\n",
       "      <td>0.712415</td>\n",
       "      <td>0.141425</td>\n",
       "      <td>0.749225</td>\n",
       "      <td>0.624210</td>\n",
       "    </tr>\n",
       "    <tr>\n",
       "      <th>256</th>\n",
       "      <td>0.733956</td>\n",
       "      <td>0.114041</td>\n",
       "      <td>0.421769</td>\n",
       "      <td>0.665674</td>\n",
       "    </tr>\n",
       "    <tr>\n",
       "      <th>257</th>\n",
       "      <td>0.718629</td>\n",
       "      <td>0.057900</td>\n",
       "      <td>0.707075</td>\n",
       "      <td>0.645120</td>\n",
       "    </tr>\n",
       "    <tr>\n",
       "      <th>258</th>\n",
       "      <td>0.713042</td>\n",
       "      <td>0.128186</td>\n",
       "      <td>0.315504</td>\n",
       "      <td>0.474258</td>\n",
       "    </tr>\n",
       "    <tr>\n",
       "      <th>259</th>\n",
       "      <td>0.711915</td>\n",
       "      <td>0.062974</td>\n",
       "      <td>0.723860</td>\n",
       "      <td>0.742297</td>\n",
       "    </tr>\n",
       "    <tr>\n",
       "      <th>260</th>\n",
       "      <td>0.725767</td>\n",
       "      <td>0.095741</td>\n",
       "      <td>0.350295</td>\n",
       "      <td>0.860651</td>\n",
       "    </tr>\n",
       "    <tr>\n",
       "      <th>261</th>\n",
       "      <td>0.753261</td>\n",
       "      <td>0.018600</td>\n",
       "      <td>0.476195</td>\n",
       "      <td>0.495685</td>\n",
       "    </tr>\n",
       "    <tr>\n",
       "      <th>262</th>\n",
       "      <td>0.730536</td>\n",
       "      <td>0.033305</td>\n",
       "      <td>0.856211</td>\n",
       "      <td>0.491285</td>\n",
       "    </tr>\n",
       "    <tr>\n",
       "      <th>263</th>\n",
       "      <td>0.715180</td>\n",
       "      <td>0.036490</td>\n",
       "      <td>0.421652</td>\n",
       "      <td>0.555391</td>\n",
       "    </tr>\n",
       "    <tr>\n",
       "      <th>264</th>\n",
       "      <td>0.677735</td>\n",
       "      <td>0.012243</td>\n",
       "      <td>0.761183</td>\n",
       "      <td>0.443200</td>\n",
       "    </tr>\n",
       "  </tbody>\n",
       "</table>\n",
       "</div>"
      ],
      "text/plain": [
       "     Scaled CP Score  Scaled volume Score  Scaled Senti Kospi Score  \\\n",
       "246         0.724457             0.117361                  0.971218   \n",
       "247         0.669537             0.112294                  0.737808   \n",
       "248         0.617652             0.133058                  0.585061   \n",
       "249         0.666927             0.029064                  0.561415   \n",
       "250         0.663883             0.054037                  0.465127   \n",
       "251         0.625426             0.051061                  0.590849   \n",
       "252         0.652429             0.082276                  0.699428   \n",
       "253         0.695037             0.036460                  0.167336   \n",
       "254         0.720488             0.118147                  0.293502   \n",
       "255         0.712415             0.141425                  0.749225   \n",
       "256         0.733956             0.114041                  0.421769   \n",
       "257         0.718629             0.057900                  0.707075   \n",
       "258         0.713042             0.128186                  0.315504   \n",
       "259         0.711915             0.062974                  0.723860   \n",
       "260         0.725767             0.095741                  0.350295   \n",
       "261         0.753261             0.018600                  0.476195   \n",
       "262         0.730536             0.033305                  0.856211   \n",
       "263         0.715180             0.036490                  0.421652   \n",
       "264         0.677735             0.012243                  0.761183   \n",
       "\n",
       "     Scaled Senti stock Score  \n",
       "246                  0.516042  \n",
       "247                  0.483591  \n",
       "248                  0.455209  \n",
       "249                  0.743237  \n",
       "250                  0.857588  \n",
       "251                  0.590160  \n",
       "252                  0.513994  \n",
       "253                  0.394678  \n",
       "254                  0.507868  \n",
       "255                  0.624210  \n",
       "256                  0.665674  \n",
       "257                  0.645120  \n",
       "258                  0.474258  \n",
       "259                  0.742297  \n",
       "260                  0.860651  \n",
       "261                  0.495685  \n",
       "262                  0.491285  \n",
       "263                  0.555391  \n",
       "264                  0.443200  "
      ]
     },
     "execution_count": 13,
     "metadata": {},
     "output_type": "execute_result"
    }
   ],
   "source": [
    "x_test"
   ]
  },
  {
   "cell_type": "code",
   "execution_count": 14,
   "id": "82cf93a9",
   "metadata": {},
   "outputs": [
    {
     "data": {
      "text/plain": [
       "0      1\n",
       "1      1\n",
       "2      1\n",
       "3      1\n",
       "4      1\n",
       "      ..\n",
       "241   -1\n",
       "242    1\n",
       "243   -1\n",
       "244   -1\n",
       "245    1\n",
       "Name: label, Length: 246, dtype: int64"
      ]
     },
     "execution_count": 14,
     "metadata": {},
     "output_type": "execute_result"
    }
   ],
   "source": [
    "y_train"
   ]
  },
  {
   "cell_type": "code",
   "execution_count": 15,
   "id": "b7aa1c36",
   "metadata": {},
   "outputs": [
    {
     "data": {
      "text/plain": [
       "246   -1\n",
       "247   -1\n",
       "248   -1\n",
       "249    1\n",
       "250   -1\n",
       "251   -1\n",
       "252    1\n",
       "253    1\n",
       "254    1\n",
       "255   -1\n",
       "256    1\n",
       "257   -1\n",
       "258   -1\n",
       "259   -1\n",
       "260    1\n",
       "261    1\n",
       "262   -1\n",
       "263   -1\n",
       "264   -1\n",
       "Name: label, dtype: int64"
      ]
     },
     "execution_count": 15,
     "metadata": {},
     "output_type": "execute_result"
    }
   ],
   "source": [
    "y_test"
   ]
  },
  {
   "cell_type": "code",
   "execution_count": 16,
   "id": "b33ea2c3",
   "metadata": {},
   "outputs": [],
   "source": [
    "x_train = np.array(x_train)\n",
    "x_test = np.array(x_test)"
   ]
  },
  {
   "cell_type": "code",
   "execution_count": 17,
   "id": "a4839c8d",
   "metadata": {},
   "outputs": [],
   "source": [
    "y_train = np.array(y_train)\n",
    "y_test = np.array(y_test)"
   ]
  },
  {
   "cell_type": "markdown",
   "id": "9f8b0d48",
   "metadata": {},
   "source": [
    "# 머신 러닝 모델 탐색"
   ]
  },
  {
   "cell_type": "code",
   "execution_count": 18,
   "id": "ce5a2fb2",
   "metadata": {},
   "outputs": [],
   "source": [
    "def get_models():\n",
    "    models = dict()\n",
    "    models['LR'] = LogisticRegression()\n",
    "    models['RF'] = RandomForestClassifier()\n",
    "    models['CART'] = DecisionTreeClassifier()\n",
    "    models['SVM'] = SVC()\n",
    "    return models"
   ]
  },
  {
   "cell_type": "code",
   "execution_count": 19,
   "id": "897c9448",
   "metadata": {},
   "outputs": [],
   "source": [
    "models = get_models()"
   ]
  },
  {
   "cell_type": "code",
   "execution_count": 20,
   "id": "258a2313",
   "metadata": {},
   "outputs": [
    {
     "name": "stdout",
     "output_type": "stream",
     "text": [
      "LR : 0.6842105263157895\n",
      "RF : 0.6842105263157895\n",
      "CART : 0.5789473684210527\n",
      "SVM : 0.6842105263157895\n"
     ]
    }
   ],
   "source": [
    "results, names = [],[]\n",
    "for name, model in models.items():\n",
    "    fit_model = model.fit(x_train, y_train)\n",
    "    scores = fit_model.score(x_test, y_test)\n",
    "    print(name,':', scores)\n",
    "#     scores = model.score(x_test, y_test)\n",
    "#     results.append(scores)\n",
    "#     name.append(name)\n",
    "#     print('>%s %.3f (%.3f)' % (name, mean(scores), std(scores)))"
   ]
  },
  {
   "cell_type": "code",
   "execution_count": 21,
   "id": "a0b22e17",
   "metadata": {},
   "outputs": [
    {
     "name": "stdout",
     "output_type": "stream",
     "text": [
      "\n",
      "\n",
      "모델이름 :LR\n",
      "              precision    recall  f1-score   support\n",
      "\n",
      "          -1       0.88      0.58      0.70        12\n",
      "           1       0.55      0.86      0.67         7\n",
      "\n",
      "    accuracy                           0.68        19\n",
      "   macro avg       0.71      0.72      0.68        19\n",
      "weighted avg       0.75      0.68      0.69        19\n",
      "\n",
      "\n",
      "\n",
      "\n",
      "\n",
      "모델이름 :RF\n",
      "              precision    recall  f1-score   support\n",
      "\n",
      "          -1       0.80      0.67      0.73        12\n",
      "           1       0.56      0.71      0.63         7\n",
      "\n",
      "    accuracy                           0.68        19\n",
      "   macro avg       0.68      0.69      0.68        19\n",
      "weighted avg       0.71      0.68      0.69        19\n",
      "\n",
      "\n",
      "\n",
      "\n",
      "\n",
      "모델이름 :CART\n",
      "              precision    recall  f1-score   support\n",
      "\n",
      "          -1       0.75      0.50      0.60        12\n",
      "           1       0.45      0.71      0.56         7\n",
      "\n",
      "    accuracy                           0.58        19\n",
      "   macro avg       0.60      0.61      0.58        19\n",
      "weighted avg       0.64      0.58      0.58        19\n",
      "\n",
      "\n",
      "\n",
      "\n",
      "\n",
      "모델이름 :SVM\n",
      "              precision    recall  f1-score   support\n",
      "\n",
      "          -1       0.88      0.58      0.70        12\n",
      "           1       0.55      0.86      0.67         7\n",
      "\n",
      "    accuracy                           0.68        19\n",
      "   macro avg       0.71      0.72      0.68        19\n",
      "weighted avg       0.75      0.68      0.69        19\n",
      "\n",
      "\n",
      "\n"
     ]
    }
   ],
   "source": [
    "for name, model in models.items():\n",
    "    predicted_model = model.predict(x_test)\n",
    "    confusion = classification_report(y_test, predicted_model)\n",
    "    \n",
    "    print(\"\\n\")\n",
    "    print(\"모델이름 :\"+ name)\n",
    "    print(confusion)\n",
    "    print(\"\\n\")"
   ]
  },
  {
   "cell_type": "markdown",
   "id": "d94b62bf",
   "metadata": {},
   "source": [
    "# LR 모델 훈련"
   ]
  },
  {
   "cell_type": "code",
   "execution_count": 22,
   "id": "9f3784bc",
   "metadata": {},
   "outputs": [],
   "source": [
    "model = LogisticRegression()\n",
    "model = model.fit(x_train, y_train)"
   ]
  },
  {
   "cell_type": "code",
   "execution_count": 23,
   "id": "9ac688d2",
   "metadata": {},
   "outputs": [
    {
     "name": "stdout",
     "output_type": "stream",
     "text": [
      "[[0.76364696 0.23635304]\n",
      " [0.5965717  0.4034283 ]\n",
      " [0.46513952 0.53486048]\n",
      " [0.4872462  0.5127538 ]\n",
      " [0.42049751 0.57950249]\n",
      " [0.48815657 0.51184343]\n",
      " [0.56886568 0.43113432]\n",
      " [0.1981668  0.8018332 ]\n",
      " [0.27623339 0.72376661]\n",
      " [0.62241706 0.37758294]\n",
      " [0.37917821 0.62082179]\n",
      " [0.59861129 0.40138871]\n",
      " [0.2862383  0.7137617 ]\n",
      " [0.61812323 0.38187677]\n",
      " [0.34331078 0.65668922]\n",
      " [0.41423653 0.58576347]\n",
      " [0.69577057 0.30422943]\n",
      " [0.3712566  0.6287434 ]\n",
      " [0.61783552 0.38216448]]\n"
     ]
    }
   ],
   "source": [
    "probability = model.predict_proba(x_test)\n",
    "print( probability )"
   ]
  },
  {
   "cell_type": "code",
   "execution_count": 24,
   "id": "06ae9d9d",
   "metadata": {},
   "outputs": [
    {
     "name": "stdout",
     "output_type": "stream",
     "text": [
      "[-1 -1  1  1  1  1 -1  1  1 -1  1 -1  1 -1  1  1 -1  1 -1]\n"
     ]
    }
   ],
   "source": [
    "predicted = model.predict(x_test)\n",
    "print(predicted)"
   ]
  },
  {
   "cell_type": "code",
   "execution_count": 25,
   "id": "8de8636f",
   "metadata": {},
   "outputs": [
    {
     "name": "stdout",
     "output_type": "stream",
     "text": [
      "[[7 5]\n",
      " [1 6]]\n"
     ]
    }
   ],
   "source": [
    "print(metrics.confusion_matrix( y_test, predicted ))"
   ]
  },
  {
   "cell_type": "code",
   "execution_count": 26,
   "id": "f061f515",
   "metadata": {},
   "outputs": [
    {
     "name": "stdout",
     "output_type": "stream",
     "text": [
      "              precision    recall  f1-score   support\n",
      "\n",
      "          -1       0.88      0.58      0.70        12\n",
      "           1       0.55      0.86      0.67         7\n",
      "\n",
      "    accuracy                           0.68        19\n",
      "   macro avg       0.71      0.72      0.68        19\n",
      "weighted avg       0.75      0.68      0.69        19\n",
      "\n"
     ]
    }
   ],
   "source": [
    "print(metrics.classification_report( y_test, predicted ))"
   ]
  },
  {
   "cell_type": "code",
   "execution_count": 27,
   "id": "fcce3393",
   "metadata": {},
   "outputs": [
    {
     "name": "stdout",
     "output_type": "stream",
     "text": [
      "0.6842105263157895\n"
     ]
    }
   ],
   "source": [
    "print(model.score(x_test,y_test))"
   ]
  },
  {
   "cell_type": "code",
   "execution_count": 28,
   "id": "bda2e6ea",
   "metadata": {},
   "outputs": [],
   "source": [
    "data['Signal'] = model.predict(x)"
   ]
  },
  {
   "cell_type": "code",
   "execution_count": 29,
   "id": "80760886",
   "metadata": {},
   "outputs": [
    {
     "name": "stderr",
     "output_type": "stream",
     "text": [
      "C:\\Users\\ANDlab3\\anaconda3\\lib\\site-packages\\pandas\\core\\arraylike.py:358: RuntimeWarning: divide by zero encountered in log\n",
      "  result = getattr(ufunc, method)(*inputs, **kwargs)\n"
     ]
    }
   ],
   "source": [
    "#Kospi 지수의 일간수익률을 계산해 저장\n",
    "data['Kospi_returns'] = np.log(data['Scaled CP Score']/data['Scaled CP Score'].shift(1))"
   ]
  },
  {
   "cell_type": "code",
   "execution_count": 30,
   "id": "7f6a9cc9",
   "metadata": {},
   "outputs": [],
   "source": [
    "split = 246"
   ]
  },
  {
   "cell_type": "code",
   "execution_count": 31,
   "id": "a3dcd4ba",
   "metadata": {},
   "outputs": [],
   "source": [
    "#Kospi 지수의 누적 일간수익률을 구한다.\n",
    "Cumulative_Kospi_returns = np.cumsum(data[split:]['Kospi_returns'])"
   ]
  },
  {
   "cell_type": "code",
   "execution_count": 32,
   "id": "054cbf3b",
   "metadata": {
    "scrolled": true
   },
   "outputs": [],
   "source": [
    "data['STR_returns'] = data['Kospi_returns'] * data['Signal'].shift(1)"
   ]
  },
  {
   "cell_type": "code",
   "execution_count": 33,
   "id": "3f3e676e",
   "metadata": {},
   "outputs": [],
   "source": [
    "#전략의 누적 일간수익률을 구한다.\n",
    "Cumulative_STR_returns = np.cumsum(data[split:]['STR_returns'])"
   ]
  },
  {
   "cell_type": "code",
   "execution_count": 34,
   "id": "6fc917cc",
   "metadata": {
    "scrolled": true
   },
   "outputs": [
    {
     "data": {
      "image/png": "[encoded data removed]",
      "text/plain": [
       "<Figure size 720x360 with 1 Axes>"
      ]
     },
     "metadata": {
      "needs_background": "light"
     },
     "output_type": "display_data"
    }
   ],
   "source": [
    "pyplot.figure( figsize =(10, 5 ))\n",
    "\n",
    "# Kospi지수의 일간 수익률\n",
    "pyplot.plot( Cumulative_Kospi_returns, color='r', label = 'Kospi Returns' )\n",
    "\n",
    "# 전략의 누적 일간수익률\n",
    "pyplot.plot( Cumulative_STR_returns, color='b', label = 'Strategy Returns' )\n",
    "\n",
    "pyplot.legend( )\n",
    "pyplot.show( )"
   ]
  },
  {
   "cell_type": "code",
   "execution_count": 35,
   "id": "95aea446",
   "metadata": {},
   "outputs": [],
   "source": [
    "#Kospi 지수의 누적 일간수익률을 구한다.\n",
    "Cumulative_Kospi_returns1 = np.cumsum(data['Kospi_returns'])\n",
    "Cumulative_STR_returns1 = np.cumsum(data['STR_returns'])"
   ]
  },
  {
   "cell_type": "code",
   "execution_count": 36,
   "id": "1f372ad4",
   "metadata": {},
   "outputs": [
    {
     "data": {
      "image/png": "[encoded data removed]",
      "text/plain": [
       "<Figure size 720x360 with 1 Axes>"
      ]
     },
     "metadata": {
      "needs_background": "light"
     },
     "output_type": "display_data"
    }
   ],
   "source": [
    "pyplot.figure( figsize =(10, 5 ))\n",
    "\n",
    "# Kospi지수의 일간 수익률\n",
    "pyplot.plot( Cumulative_Kospi_returns1, color='r', label = 'Kospi Returns' )\n",
    "\n",
    "# 전략의 누적 일간수익률\n",
    "pyplot.plot( Cumulative_STR_returns1, color='b', label = 'Strategy Returns' )\n",
    "\n",
    "pyplot.legend( )\n",
    "pyplot.show( )"
   ]
  },
  {
   "cell_type": "markdown",
   "id": "f9885791",
   "metadata": {},
   "source": [
    "## 랜덤 포레스트 모델로 예측"
   ]
  },
  {
   "cell_type": "code",
   "execution_count": 37,
   "id": "a9e4104e",
   "metadata": {},
   "outputs": [],
   "source": [
    "RF_model = RandomForestClassifier()\n",
    "RF_model = RF_model.fit(x_train, y_train)"
   ]
  },
  {
   "cell_type": "code",
   "execution_count": 38,
   "id": "bde62c1f",
   "metadata": {},
   "outputs": [],
   "source": [
    "df = data.copy()"
   ]
  },
  {
   "cell_type": "code",
   "execution_count": 39,
   "id": "289fd5e1",
   "metadata": {},
   "outputs": [],
   "source": [
    "df['Signal'] = RF_model.predict(x)"
   ]
  },
  {
   "cell_type": "code",
   "execution_count": 40,
   "id": "5ed65974",
   "metadata": {},
   "outputs": [
    {
     "name": "stderr",
     "output_type": "stream",
     "text": [
      "C:\\Users\\ANDlab3\\anaconda3\\lib\\site-packages\\pandas\\core\\arraylike.py:358: RuntimeWarning: divide by zero encountered in log\n",
      "  result = getattr(ufunc, method)(*inputs, **kwargs)\n"
     ]
    }
   ],
   "source": [
    "df['Kospi_returns'] = np.log(df['Scaled CP Score']/df['Scaled CP Score'].shift(1))"
   ]
  },
  {
   "cell_type": "code",
   "execution_count": 41,
   "id": "e63dc103",
   "metadata": {},
   "outputs": [],
   "source": [
    "split = 246"
   ]
  },
  {
   "cell_type": "code",
   "execution_count": 42,
   "id": "66a35dd6",
   "metadata": {},
   "outputs": [],
   "source": [
    "Cumulative_Kospi_returns = np.cumsum(df[split:]['Kospi_returns'])\n",
    "df['STR_returns'] = df['Kospi_returns'] * df['Signal'].shift(1)\n",
    "Cumulative_STR_returns = np.cumsum(df[split:]['STR_returns'])"
   ]
  },
  {
   "cell_type": "code",
   "execution_count": 43,
   "id": "edff3158",
   "metadata": {},
   "outputs": [
    {
     "data": {
      "image/png": "[encoded data removed]",
      "text/plain": [
       "<Figure size 720x360 with 1 Axes>"
      ]
     },
     "metadata": {
      "needs_background": "light"
     },
     "output_type": "display_data"
    }
   ],
   "source": [
    "pyplot.figure( figsize =(10, 5 ))\n",
    "\n",
    "# Kospi지수의 일간 수익률\n",
    "pyplot.plot( Cumulative_Kospi_returns, color='r', label = 'Kospi Returns' )\n",
    "\n",
    "# 전략의 누적 일간수익률\n",
    "pyplot.plot( Cumulative_STR_returns, color='b', label = 'Strategy Returns' )\n",
    "\n",
    "pyplot.legend( )\n",
    "pyplot.show( )"
   ]
  },
  {
   "cell_type": "code",
   "execution_count": 44,
   "id": "fc5131f6",
   "metadata": {},
   "outputs": [],
   "source": [
    "#Kospi 지수의 누적 일간수익률을 구한다.\n",
    "Cumulative_Kospi_returns1 = np.cumsum(df['Kospi_returns'])\n",
    "Cumulative_STR_returns1 = np.cumsum(df['STR_returns'])"
   ]
  },
  {
   "cell_type": "code",
   "execution_count": 45,
   "id": "d0540687",
   "metadata": {
    "scrolled": true
   },
   "outputs": [
    {
     "data": {
      "image/png": "[encoded data removed]",
      "text/plain": [
       "<Figure size 720x360 with 1 Axes>"
      ]
     },
     "metadata": {
      "needs_background": "light"
     },
     "output_type": "display_data"
    }
   ],
   "source": [
    "pyplot.figure( figsize =(10, 5 ))\n",
    "\n",
    "# Kospi지수의 일간 수익률\n",
    "pyplot.plot( Cumulative_Kospi_returns1, color='r', label = 'Kospi Returns' )\n",
    "\n",
    "# 전략의 누적 일간수익률\n",
    "pyplot.plot( Cumulative_STR_returns1, color='b', label = 'Strategy Returns' )\n",
    "\n",
    "pyplot.legend( )\n",
    "pyplot.show( )"
   ]
  },
  {
   "cell_type": "markdown",
   "id": "fc018e5a",
   "metadata": {},
   "source": [
    "## 추가 실험"
   ]
  },
  {
   "cell_type": "code",
   "execution_count": 46,
   "id": "1f32dee8",
   "metadata": {},
   "outputs": [],
   "source": [
    "df = pd.read_excel(PATH)"
   ]
  },
  {
   "cell_type": "code",
   "execution_count": 47,
   "id": "064d3e9d",
   "metadata": {},
   "outputs": [
    {
     "data": {
      "text/html": [
       "<div>\n",
       "<style scoped>\n",
       "    .dataframe tbody tr th:only-of-type {\n",
       "        vertical-align: middle;\n",
       "    }\n",
       "\n",
       "    .dataframe tbody tr th {\n",
       "        vertical-align: top;\n",
       "    }\n",
       "\n",
       "    .dataframe thead th {\n",
       "        text-align: right;\n",
       "    }\n",
       "</style>\n",
       "<table border=\"1\" class=\"dataframe\">\n",
       "  <thead>\n",
       "    <tr style=\"text-align: right;\">\n",
       "      <th></th>\n",
       "      <th>Date</th>\n",
       "      <th>Scaled CP Score</th>\n",
       "      <th>Scaled volume Score</th>\n",
       "      <th>Scaled Senti Kospi Score</th>\n",
       "      <th>Scaled Senti stock Score</th>\n",
       "      <th>label</th>\n",
       "    </tr>\n",
       "  </thead>\n",
       "  <tbody>\n",
       "    <tr>\n",
       "      <th>0</th>\n",
       "      <td>2020-10-05</td>\n",
       "      <td>0.087519</td>\n",
       "      <td>0.086175</td>\n",
       "      <td>0.448550</td>\n",
       "      <td>0.460961</td>\n",
       "      <td>1</td>\n",
       "    </tr>\n",
       "    <tr>\n",
       "      <th>1</th>\n",
       "      <td>2020-10-06</td>\n",
       "      <td>0.095129</td>\n",
       "      <td>0.119490</td>\n",
       "      <td>0.230537</td>\n",
       "      <td>0.320265</td>\n",
       "      <td>1</td>\n",
       "    </tr>\n",
       "    <tr>\n",
       "      <th>2</th>\n",
       "      <td>2020-10-07</td>\n",
       "      <td>0.115398</td>\n",
       "      <td>0.077477</td>\n",
       "      <td>0.321843</td>\n",
       "      <td>0.379190</td>\n",
       "      <td>1</td>\n",
       "    </tr>\n",
       "    <tr>\n",
       "      <th>3</th>\n",
       "      <td>2020-10-08</td>\n",
       "      <td>0.120234</td>\n",
       "      <td>0.153428</td>\n",
       "      <td>0.505174</td>\n",
       "      <td>0.497504</td>\n",
       "      <td>1</td>\n",
       "    </tr>\n",
       "    <tr>\n",
       "      <th>4</th>\n",
       "      <td>2020-10-12</td>\n",
       "      <td>0.131572</td>\n",
       "      <td>0.113318</td>\n",
       "      <td>0.474480</td>\n",
       "      <td>0.477695</td>\n",
       "      <td>1</td>\n",
       "    </tr>\n",
       "  </tbody>\n",
       "</table>\n",
       "</div>"
      ],
      "text/plain": [
       "        Date  Scaled CP Score  Scaled volume Score  Scaled Senti Kospi Score  \\\n",
       "0 2020-10-05         0.087519             0.086175                  0.448550   \n",
       "1 2020-10-06         0.095129             0.119490                  0.230537   \n",
       "2 2020-10-07         0.115398             0.077477                  0.321843   \n",
       "3 2020-10-08         0.120234             0.153428                  0.505174   \n",
       "4 2020-10-12         0.131572             0.113318                  0.474480   \n",
       "\n",
       "   Scaled Senti stock Score  label  \n",
       "0                  0.460961      1  \n",
       "1                  0.320265      1  \n",
       "2                  0.379190      1  \n",
       "3                  0.497504      1  \n",
       "4                  0.477695      1  "
      ]
     },
     "execution_count": 47,
     "metadata": {},
     "output_type": "execute_result"
    }
   ],
   "source": [
    "df.head()"
   ]
  },
  {
   "cell_type": "code",
   "execution_count": 48,
   "id": "12a31207",
   "metadata": {},
   "outputs": [],
   "source": [
    "x = df[['Scaled CP Score','Scaled volume Score']]\n",
    "y = df['label']"
   ]
  },
  {
   "cell_type": "code",
   "execution_count": 49,
   "id": "28c16b1a",
   "metadata": {},
   "outputs": [],
   "source": [
    "train = df['Date'] <= '2021-09-30'\n",
    "test = df['Date'] > '2021-09-30'"
   ]
  },
  {
   "cell_type": "code",
   "execution_count": 50,
   "id": "521ee48a",
   "metadata": {},
   "outputs": [],
   "source": [
    "train_data = df[train]\n",
    "test_data = df[test]"
   ]
  },
  {
   "cell_type": "code",
   "execution_count": 51,
   "id": "880bec5c",
   "metadata": {},
   "outputs": [],
   "source": [
    "x_train = train_data[['Scaled CP Score','Scaled volume Score']]\n",
    "y_train = train_data['label']"
   ]
  },
  {
   "cell_type": "code",
   "execution_count": 52,
   "id": "818fc528",
   "metadata": {},
   "outputs": [],
   "source": [
    "x_test = test_data[['Scaled CP Score','Scaled volume Score']]\n",
    "y_test = test_data['label']"
   ]
  },
  {
   "cell_type": "code",
   "execution_count": 53,
   "id": "083c3ed7",
   "metadata": {},
   "outputs": [],
   "source": [
    "x_train = np.array(x_train)\n",
    "x_test = np.array(x_test)\n",
    "y_train = np.array(y_train)\n",
    "y_test = np.array(y_test)"
   ]
  },
  {
   "cell_type": "code",
   "execution_count": 54,
   "id": "5bd42394",
   "metadata": {},
   "outputs": [],
   "source": [
    "model = LogisticRegression()\n",
    "model = model.fit(x_train, y_train)"
   ]
  },
  {
   "cell_type": "code",
   "execution_count": 55,
   "id": "fcce8f40",
   "metadata": {},
   "outputs": [],
   "source": [
    "predicted = model.predict(x_test)"
   ]
  },
  {
   "cell_type": "code",
   "execution_count": 56,
   "id": "cd5b84bb",
   "metadata": {},
   "outputs": [
    {
     "name": "stdout",
     "output_type": "stream",
     "text": [
      "              precision    recall  f1-score   support\n",
      "\n",
      "          -1       0.00      0.00      0.00        12\n",
      "           1       0.37      1.00      0.54         7\n",
      "\n",
      "    accuracy                           0.37        19\n",
      "   macro avg       0.18      0.50      0.27        19\n",
      "weighted avg       0.14      0.37      0.20        19\n",
      "\n"
     ]
    },
    {
     "name": "stderr",
     "output_type": "stream",
     "text": [
      "C:\\Users\\ANDlab3\\anaconda3\\lib\\site-packages\\sklearn\\metrics\\_classification.py:1245: UndefinedMetricWarning: Precision and F-score are ill-defined and being set to 0.0 in labels with no predicted samples. Use `zero_division` parameter to control this behavior.\n",
      "  _warn_prf(average, modifier, msg_start, len(result))\n",
      "C:\\Users\\ANDlab3\\anaconda3\\lib\\site-packages\\sklearn\\metrics\\_classification.py:1245: UndefinedMetricWarning: Precision and F-score are ill-defined and being set to 0.0 in labels with no predicted samples. Use `zero_division` parameter to control this behavior.\n",
      "  _warn_prf(average, modifier, msg_start, len(result))\n",
      "C:\\Users\\ANDlab3\\anaconda3\\lib\\site-packages\\sklearn\\metrics\\_classification.py:1245: UndefinedMetricWarning: Precision and F-score are ill-defined and being set to 0.0 in labels with no predicted samples. Use `zero_division` parameter to control this behavior.\n",
      "  _warn_prf(average, modifier, msg_start, len(result))\n"
     ]
    }
   ],
   "source": [
    "print(metrics.classification_report( y_test, predicted ))"
   ]
  },
  {
   "cell_type": "code",
   "execution_count": 57,
   "id": "7b33a49e",
   "metadata": {},
   "outputs": [],
   "source": [
    "df['Signal'] = model.predict(x)"
   ]
  },
  {
   "cell_type": "code",
   "execution_count": 58,
   "id": "a7e6cebe",
   "metadata": {},
   "outputs": [
    {
     "name": "stderr",
     "output_type": "stream",
     "text": [
      "C:\\Users\\ANDlab3\\anaconda3\\lib\\site-packages\\pandas\\core\\arraylike.py:358: RuntimeWarning: divide by zero encountered in log\n",
      "  result = getattr(ufunc, method)(*inputs, **kwargs)\n"
     ]
    }
   ],
   "source": [
    "df['Kospi_returns'] = np.log(df['Scaled CP Score']/df['Scaled CP Score'].shift(1))"
   ]
  },
  {
   "cell_type": "code",
   "execution_count": 59,
   "id": "6b8f0be8",
   "metadata": {},
   "outputs": [],
   "source": [
    "split = 246\n",
    "Cumulative_Kospi_returns = np.cumsum(df[split:]['Kospi_returns'])\n",
    "df['STR_returns'] = df['Kospi_returns'] * df['Signal'].shift(1)\n",
    "Cumulative_STR_returns = np.cumsum(df[split:]['STR_returns'])"
   ]
  },
  {
   "cell_type": "code",
   "execution_count": 60,
   "id": "b842e016",
   "metadata": {
    "scrolled": false
   },
   "outputs": [
    {
     "data": {
      "image/png": "[encoded data removed]",
      "text/plain": [
       "<Figure size 720x360 with 1 Axes>"
      ]
     },
     "metadata": {
      "needs_background": "light"
     },
     "output_type": "display_data"
    }
   ],
   "source": [
    "pyplot.figure( figsize =(10, 5 ))\n",
    "\n",
    "# Kospi지수의 일간 수익률\n",
    "pyplot.plot( Cumulative_Kospi_returns, color='r', label = 'Kospi Returns' )\n",
    "\n",
    "# 전략의 누적 일간수익률\n",
    "pyplot.plot( Cumulative_STR_returns, color='b', label = 'Strategy Returns' )\n",
    "\n",
    "pyplot.legend( )\n",
    "pyplot.show( )"
   ]
  },
  {
   "cell_type": "code",
   "execution_count": null,
   "id": "4fe30f80",
   "metadata": {},
   "outputs": [],
   "source": []
  },
  {
   "cell_type": "code",
   "execution_count": 61,
   "id": "a3654f9b",
   "metadata": {},
   "outputs": [],
   "source": [
    "RF_model = RandomForestClassifier()\n",
    "RF_model = RF_model.fit(x_train, y_train)"
   ]
  },
  {
   "cell_type": "code",
   "execution_count": 62,
   "id": "c3733e62",
   "metadata": {},
   "outputs": [],
   "source": [
    "df1 = df.copy()"
   ]
  },
  {
   "cell_type": "code",
   "execution_count": 63,
   "id": "a1c24bd6",
   "metadata": {},
   "outputs": [],
   "source": [
    "df1['Signal'] = RF_model.predict(x)"
   ]
  },
  {
   "cell_type": "code",
   "execution_count": 64,
   "id": "2c6a742b",
   "metadata": {},
   "outputs": [
    {
     "name": "stderr",
     "output_type": "stream",
     "text": [
      "C:\\Users\\ANDlab3\\anaconda3\\lib\\site-packages\\pandas\\core\\arraylike.py:358: RuntimeWarning: divide by zero encountered in log\n",
      "  result = getattr(ufunc, method)(*inputs, **kwargs)\n"
     ]
    }
   ],
   "source": [
    "df1['Kospi_returns'] = np.log(df1['Scaled CP Score']/df1['Scaled CP Score'].shift(1))"
   ]
  },
  {
   "cell_type": "code",
   "execution_count": 65,
   "id": "df7b43bb",
   "metadata": {},
   "outputs": [],
   "source": [
    "Cumulative_Kospi_returns = np.cumsum(df1[split:]['Kospi_returns'])\n",
    "df1['STR_returns'] = df1['Kospi_returns'] * df1['Signal'].shift(1)\n",
    "Cumulative_STR_returns = np.cumsum(df1[split:]['STR_returns'])"
   ]
  },
  {
   "cell_type": "code",
   "execution_count": 66,
   "id": "cb3917b6",
   "metadata": {},
   "outputs": [
    {
     "data": {
      "image/png": "[encoded data removed]",
      "text/plain": [
       "<Figure size 720x360 with 1 Axes>"
      ]
     },
     "metadata": {
      "needs_background": "light"
     },
     "output_type": "display_data"
    }
   ],
   "source": [
    "pyplot.figure( figsize =(10, 5 ))\n",
    "\n",
    "# Kospi지수의 일간 수익률\n",
    "pyplot.plot( Cumulative_Kospi_returns, color='r', label = 'Kospi Returns' )\n",
    "\n",
    "# 전략의 누적 일간수익률\n",
    "pyplot.plot( Cumulative_STR_returns, color='b', label = 'Strategy Returns' )\n",
    "\n",
    "pyplot.legend( )\n",
    "pyplot.show( )"
   ]
  },
  {
   "cell_type": "code",
   "execution_count": 67,
   "id": "6bc00438",
   "metadata": {},
   "outputs": [
    {
     "name": "stdout",
     "output_type": "stream",
     "text": [
      "              precision    recall  f1-score   support\n",
      "\n",
      "          -1       0.00      0.00      0.00        12\n",
      "           1       0.37      1.00      0.54         7\n",
      "\n",
      "    accuracy                           0.37        19\n",
      "   macro avg       0.18      0.50      0.27        19\n",
      "weighted avg       0.14      0.37      0.20        19\n",
      "\n"
     ]
    },
    {
     "name": "stderr",
     "output_type": "stream",
     "text": [
      "C:\\Users\\ANDlab3\\anaconda3\\lib\\site-packages\\sklearn\\metrics\\_classification.py:1245: UndefinedMetricWarning: Precision and F-score are ill-defined and being set to 0.0 in labels with no predicted samples. Use `zero_division` parameter to control this behavior.\n",
      "  _warn_prf(average, modifier, msg_start, len(result))\n",
      "C:\\Users\\ANDlab3\\anaconda3\\lib\\site-packages\\sklearn\\metrics\\_classification.py:1245: UndefinedMetricWarning: Precision and F-score are ill-defined and being set to 0.0 in labels with no predicted samples. Use `zero_division` parameter to control this behavior.\n",
      "  _warn_prf(average, modifier, msg_start, len(result))\n",
      "C:\\Users\\ANDlab3\\anaconda3\\lib\\site-packages\\sklearn\\metrics\\_classification.py:1245: UndefinedMetricWarning: Precision and F-score are ill-defined and being set to 0.0 in labels with no predicted samples. Use `zero_division` parameter to control this behavior.\n",
      "  _warn_prf(average, modifier, msg_start, len(result))\n"
     ]
    }
   ],
   "source": [
    "predicted = model.predict(x_test)\n",
    "print(metrics.classification_report( y_test, predicted ))"
   ]
  },
  {
   "cell_type": "code",
   "execution_count": 68,
   "id": "20ecb6ab",
   "metadata": {},
   "outputs": [
    {
     "data": {
      "text/plain": [
       "array([1, 1, 1, 1, 1, 1, 1, 1, 1, 1, 1, 1, 1, 1, 1, 1, 1, 1, 1],\n",
       "      dtype=int64)"
      ]
     },
     "execution_count": 68,
     "metadata": {},
     "output_type": "execute_result"
    }
   ],
   "source": [
    "predicted"
   ]
  }
 ],
 "metadata": {
  "kernelspec": {
   "display_name": "Python 3",
   "language": "python",
   "name": "python3"
  },
  "language_info": {
   "codemirror_mode": {
    "name": "ipython",
    "version": 3
   },
   "file_extension": ".py",
   "mimetype": "text/x-python",
   "name": "python",
   "nbconvert_exporter": "python",
   "pygments_lexer": "ipython3",
   "version": "3.8.8"
  }
 },
 "nbformat": 4,
 "nbformat_minor": 5
}
