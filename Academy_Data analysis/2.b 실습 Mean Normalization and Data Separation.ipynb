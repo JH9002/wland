{
 "cells": [
  {
   "cell_type": "code",
   "execution_count": null,
   "metadata": {},
   "outputs": [],
   "source": [
    "feature scaling =\n",
    "1. 표준화 스탠덜다이제이션 standardization \n",
    "2. 정규화 노말라이제이션 normalization\n",
    "레인지 다를때 클린하게하는과정 머신러닝위한\n",
    "\n",
    "\n"
   ]
  },
  {
   "cell_type": "markdown",
   "metadata": {},
   "source": [
    "# Mean Normalization\n",
    "\n",
    "머신러닝 및 데이터 분석에서는 데이터 노멀라이징(정규화, 을 합니다. \n",
    "정규화는 데이터의 범위를 0과 1로 변환하여 데이터 분포를 조정하는 방법입니다.\n",
    "예를 들어 여러개의 feature가 있는데 어떤거는 100 ~ 200사이의 값이고, 어떤거는 -10 ~ 10 사이의 값이고, 어떤거는 -100 ~ 300 사이의 값이라고 해보면, 이 값들을 분석하기 쉽지가 않습니다. 따라서 이런 불편을 줄이기 위해 범주를 일치시키는 작업을 normalization 이라 합니다. 보통은 0 ~ 1 사이의 값으로 범주를 일치시킵니다.\n",
    "\n"
   ]
  },
  {
   "cell_type": "code",
   "execution_count": 3,
   "metadata": {},
   "outputs": [],
   "source": [
    "# import NumPy  \n",
    "import numpy as np"
   ]
  },
  {
   "cell_type": "code",
   "execution_count": 4,
   "metadata": {},
   "outputs": [],
   "source": [
    "# 1000 x 20 ndarray 배열을,\n",
    "# 0이상 5001미만(0 ~ 5000) 의 random integers 로 만드세요.\n",
    "\n"
   ]
  },
  {
   "cell_type": "code",
   "execution_count": 8,
   "metadata": {},
   "outputs": [],
   "source": [
    "x = np.random.randint(0,5001, (1000,20)) # 5001불포함 구글검색"
   ]
  },
  {
   "cell_type": "code",
   "execution_count": 10,
   "metadata": {},
   "outputs": [
    {
     "data": {
      "text/plain": [
       "array([[ 862, 3050, 1335, ..., 4817, 4037, 3456],\n",
       "       [  63,  292, 2579, ..., 3614, 3919, 4059],\n",
       "       [1742, 4081, 3349, ...,   40, 1548, 2335],\n",
       "       ...,\n",
       "       [4177,  506, 3062, ..., 4061, 3293, 3250],\n",
       "       [3256,  359,  355, ..., 2368, 2236, 2211],\n",
       "       [1013, 1999, 3110, ..., 3418, 4174, 3051]])"
      ]
     },
     "execution_count": 10,
     "metadata": {},
     "output_type": "execute_result"
    }
   ],
   "source": [
    "x"
   ]
  },
  {
   "cell_type": "code",
   "execution_count": null,
   "metadata": {},
   "outputs": [],
   "source": []
  },
  {
   "cell_type": "code",
   "execution_count": null,
   "metadata": {},
   "outputs": [],
   "source": [
    "# print the shape of X\n"
   ]
  },
  {
   "cell_type": "code",
   "execution_count": 5,
   "metadata": {},
   "outputs": [
    {
     "data": {
      "text/plain": [
       "(1000, 20)"
      ]
     },
     "execution_count": 5,
     "metadata": {},
     "output_type": "execute_result"
    }
   ],
   "source": [
    "x.shape"
   ]
  },
  {
   "cell_type": "code",
   "execution_count": null,
   "metadata": {},
   "outputs": [],
   "source": []
  },
  {
   "cell_type": "markdown",
   "metadata": {},
   "source": [
    "다음의 mean normalization 식을 이용해서 정규화 하세요.\n",
    "\n",
    "$\\mbox{Norm_Col}_i = \\frac{\\mbox{Col}_i - \\mu_i}{\\sigma_i}$\n",
    "\n",
    "평균과 표준편차를 이용하면, 위의 정규화 식을 사용할 수 있습니다.\n",
    "\n"
   ]
  },
  {
   "cell_type": "code",
   "execution_count": null,
   "metadata": {},
   "outputs": [],
   "source": [
    "m 뮤 위 평균 // 아래 ai 시그마=표준편차"
   ]
  },
  {
   "cell_type": "code",
   "execution_count": null,
   "metadata": {},
   "outputs": [],
   "source": [
    "# 열별 평균값을 얻어온다"
   ]
  },
  {
   "cell_type": "code",
   "execution_count": 6,
   "metadata": {},
   "outputs": [],
   "source": [
    "mean_cols = x.mean( axis=0)"
   ]
  },
  {
   "cell_type": "code",
   "execution_count": 7,
   "metadata": {},
   "outputs": [
    {
     "data": {
      "text/plain": [
       "(20,)"
      ]
     },
     "execution_count": 7,
     "metadata": {},
     "output_type": "execute_result"
    }
   ],
   "source": [
    "mean_cols.shape "
   ]
  },
  {
   "cell_type": "code",
   "execution_count": 8,
   "metadata": {},
   "outputs": [
    {
     "data": {
      "text/plain": [
       "array([2473.798, 2577.216, 2467.431, 2460.182, 2432.644, 2595.585,\n",
       "       2501.208, 2592.878, 2541.66 , 2577.527, 2571.216, 2553.988,\n",
       "       2413.814, 2403.931, 2584.518, 2509.071, 2516.977, 2408.336,\n",
       "       2454.09 , 2532.517])"
      ]
     },
     "execution_count": 8,
     "metadata": {},
     "output_type": "execute_result"
    }
   ],
   "source": [
    "mean_cols"
   ]
  },
  {
   "cell_type": "code",
   "execution_count": null,
   "metadata": {},
   "outputs": [],
   "source": []
  },
  {
   "cell_type": "code",
   "execution_count": null,
   "metadata": {},
   "outputs": [],
   "source": []
  },
  {
   "cell_type": "code",
   "execution_count": null,
   "metadata": {},
   "outputs": [],
   "source": [
    "# 열을 고정하고 각 행에 대한 표준편차, 즉 모든 열별 표준편차값을 얻어온다.\n"
   ]
  },
  {
   "cell_type": "code",
   "execution_count": 9,
   "metadata": {},
   "outputs": [],
   "source": [
    "std_cols = x.std(axis=0)"
   ]
  },
  {
   "cell_type": "code",
   "execution_count": 10,
   "metadata": {},
   "outputs": [
    {
     "data": {
      "text/plain": [
       "array([1403.46740368, 1434.06358274, 1454.1462166 , 1394.9038142 ,\n",
       "       1460.40971144, 1431.99225095, 1452.26527285, 1437.36556975,\n",
       "       1425.53966918, 1426.53669959, 1465.06584335, 1406.45196429,\n",
       "       1467.49734903, 1477.72670147, 1422.68110681, 1446.63010751,\n",
       "       1462.22025648, 1474.20438241, 1440.46677778, 1424.06721952])"
      ]
     },
     "execution_count": 10,
     "metadata": {},
     "output_type": "execute_result"
    }
   ],
   "source": [
    "std_cols"
   ]
  },
  {
   "cell_type": "code",
   "execution_count": 11,
   "metadata": {},
   "outputs": [
    {
     "data": {
      "text/plain": [
       "(20,)"
      ]
     },
     "execution_count": 11,
     "metadata": {},
     "output_type": "execute_result"
    }
   ],
   "source": [
    "std_cols.shape"
   ]
  },
  {
   "cell_type": "code",
   "execution_count": null,
   "metadata": {},
   "outputs": [],
   "source": []
  },
  {
   "cell_type": "code",
   "execution_count": null,
   "metadata": {},
   "outputs": [],
   "source": []
  },
  {
   "cell_type": "markdown",
   "metadata": {},
   "source": [
    "각 벡터의 shape 을 확인하세요."
   ]
  },
  {
   "cell_type": "code",
   "execution_count": null,
   "metadata": {},
   "outputs": [],
   "source": [
    "# Print the shape of ave_cols\n",
    "\n",
    "# Print the shape of std_cols\n"
   ]
  },
  {
   "cell_type": "code",
   "execution_count": null,
   "metadata": {},
   "outputs": [],
   "source": []
  },
  {
   "cell_type": "markdown",
   "metadata": {},
   "source": [
    "위 공식대로 노멀라이제이션 하세요."
   ]
  },
  {
   "cell_type": "code",
   "execution_count": 14,
   "metadata": {},
   "outputs": [],
   "source": [
    "# Mean normalize X\n",
    "\n",
    "x_norm = (x-mean_cols) / std_cols  #컬럼별 알아서 계산함"
   ]
  },
  {
   "cell_type": "code",
   "execution_count": 15,
   "metadata": {},
   "outputs": [
    {
     "data": {
      "text/plain": [
       "array([[-1.42347303,  1.23968283, -1.24363766, ..., -1.00212428,\n",
       "        -0.66859577, -0.54738778],\n",
       "       [-0.70382682, -0.94432075,  0.51478248, ...,  1.06543164,\n",
       "        -0.93101071, -0.58741398],\n",
       "       [-0.9168706 ,  1.48374453, -0.31388247, ...,  0.11508852,\n",
       "        -0.93101071,  0.51014656],\n",
       "       ...,\n",
       "       [ 0.42836905, -1.08308726,  1.32556752, ...,  0.8524354 ,\n",
       "        -1.45792325,  0.85001816],\n",
       "       [ 0.26235166,  0.41266232,  1.26436322, ..., -1.43286509,\n",
       "         0.79828984,  0.62250081],\n",
       "       [-0.8897948 ,  1.46700887, -0.30012869, ..., -1.23343549,\n",
       "         0.76357887, -0.84442432]])"
      ]
     },
     "execution_count": 15,
     "metadata": {},
     "output_type": "execute_result"
    }
   ],
   "source": [
    "x_norm"
   ]
  },
  {
   "cell_type": "code",
   "execution_count": null,
   "metadata": {},
   "outputs": [],
   "source": []
  },
  {
   "cell_type": "markdown",
   "metadata": {},
   "source": [
    "제대로 수행했으면 아마 $X_{\\tiny{\\mbox{norm}}}$ 배열은 값들이 0 근처의 값들로 나올겁니다.아래를 통해 확인하세요."
   ]
  },
  {
   "cell_type": "code",
   "execution_count": 42,
   "metadata": {},
   "outputs": [
    {
     "data": {
      "text/plain": [
       "array([[ 1.29412921, -0.62002032,  0.18154444, ...,  1.576246  ,\n",
       "         0.26162213,  1.59143751],\n",
       "       [-1.46574945,  0.85415091,  1.29804792, ..., -0.40058399,\n",
       "        -0.47126303,  1.5866225 ],\n",
       "       [ 1.23137228, -1.6013891 ,  1.01805573, ...,  1.7131572 ,\n",
       "        -0.2595101 , -1.43101242],\n",
       "       ...,\n",
       "       [ 0.85697014, -1.26179314, -0.31883763, ...,  1.61396643,\n",
       "         0.57375145, -0.80368553],\n",
       "       [ 0.05681927, -1.2434366 , -1.58434685, ...,  1.42676133,\n",
       "         1.15538452, -0.0745556 ],\n",
       "       [ 0.04826151, -1.42770801,  0.34441118, ..., -0.11558518,\n",
       "         1.40563799,  1.66366265]])"
      ]
     },
     "execution_count": 42,
     "metadata": {},
     "output_type": "execute_result"
    }
   ],
   "source": [
    "# X_norm 을 출력(프린트) 하세요.\n",
    "x_norm"
   ]
  },
  {
   "cell_type": "code",
   "execution_count": null,
   "metadata": {},
   "outputs": [],
   "source": []
  },
  {
   "cell_type": "code",
   "execution_count": 16,
   "metadata": {},
   "outputs": [
    {
     "data": {
      "text/plain": [
       "array([-1.76263303, -1.79714207, -1.69682455, -1.75939156, -1.66367286,\n",
       "       -1.80907753, -1.71814891, -1.80182276, -1.77943838, -1.80403841,\n",
       "       -1.75092199, -1.81448643, -1.63599205, -1.62609974, -1.81524727,\n",
       "       -1.73442471, -1.72065528, -1.62958137, -1.7029827 , -1.77696457])"
      ]
     },
     "execution_count": 16,
     "metadata": {},
     "output_type": "execute_result"
    }
   ],
   "source": [
    "# 각 컬럼(열)별 minimum value 를 출력하세요.\n",
    "x_norm.min(axis=0)"
   ]
  },
  {
   "cell_type": "code",
   "execution_count": null,
   "metadata": {},
   "outputs": [],
   "source": []
  },
  {
   "cell_type": "code",
   "execution_count": 17,
   "metadata": {},
   "outputs": [
    {
     "data": {
      "text/plain": [
       "array([1.79925946, 1.68805904, 1.73405464, 1.82078361, 1.75660021,\n",
       "       1.67837151, 1.71923962, 1.67189339, 1.72169183, 1.6953458 ,\n",
       "       1.65438571, 1.73771452, 1.75754048, 1.75679914, 1.69291768,\n",
       "       1.71151491, 1.69743442, 1.75733028, 1.76533749, 1.73129679])"
      ]
     },
     "execution_count": 17,
     "metadata": {},
     "output_type": "execute_result"
    }
   ],
   "source": [
    "# 각 컬럼(열)별 maximum value 를 출력하세요.\n",
    "x_norm.max(axis=0)"
   ]
  },
  {
   "cell_type": "code",
   "execution_count": null,
   "metadata": {},
   "outputs": [],
   "source": []
  }
 ],
 "metadata": {
  "kernelspec": {
   "display_name": "Python 3 (ipykernel)",
   "language": "python",
   "name": "python3"
  },
  "language_info": {
   "codemirror_mode": {
    "name": "ipython",
    "version": 3
   },
   "file_extension": ".py",
   "mimetype": "text/x-python",
   "name": "python",
   "nbconvert_exporter": "python",
   "pygments_lexer": "ipython3",
   "version": "3.9.7"
  }
 },
 "nbformat": 4,
 "nbformat_minor": 2
}
