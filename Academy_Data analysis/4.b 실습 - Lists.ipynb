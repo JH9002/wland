{
 "cells": [
  {
   "cell_type": "markdown",
   "metadata": {},
   "source": [
    "# <font color='red'> *실습* </font> \n",
    "# <font color='red'> LISTS </font> "
   ]
  },
  {
   "cell_type": "code",
   "execution_count": null,
   "metadata": {},
   "outputs": [],
   "source": []
  },
  {
   "cell_type": "code",
   "execution_count": null,
   "metadata": {},
   "outputs": [],
   "source": []
  },
  {
   "cell_type": "markdown",
   "metadata": {},
   "source": [
    "# <font color='blue'> 1. 아래 이름들을, names 리스트로 만드세요.\n",
    "    \n",
    "    \"sara\", \"chanel\", \"mike\", \"ryan\", \"holy\", \"alex\", \"rob\""
   ]
  },
  {
   "cell_type": "code",
   "execution_count": 1,
   "metadata": {},
   "outputs": [],
   "source": [
    "names = [\"sara\", \"chanel\", \"mike\", \"ryan\", \"holy\", \"alex\", \"rob\"]"
   ]
  },
  {
   "cell_type": "markdown",
   "metadata": {},
   "source": [
    "# <font color='blue'> 2. 각 이름의 맨 앞자를 대문자로 바꿔서, names 리스트를 다시 만드세요.\n",
    "   "
   ]
  },
  {
   "cell_type": "code",
   "execution_count": 43,
   "metadata": {},
   "outputs": [
    {
     "data": {
      "text/plain": [
       "'Sara'"
      ]
     },
     "execution_count": 43,
     "metadata": {},
     "output_type": "execute_result"
    }
   ],
   "source": [
    "names[0].title()"
   ]
  },
  {
   "cell_type": "code",
   "execution_count": null,
   "metadata": {},
   "outputs": [],
   "source": [
    "names[0].title()"
   ]
  },
  {
   "cell_type": "code",
   "execution_count": null,
   "metadata": {},
   "outputs": [],
   "source": [
    "names[1].title()"
   ]
  },
  {
   "cell_type": "code",
   "execution_count": null,
   "metadata": {},
   "outputs": [],
   "source": [
    "names[2].title()"
   ]
  },
  {
   "cell_type": "code",
   "execution_count": null,
   "metadata": {},
   "outputs": [],
   "source": [
    "names[3].title()"
   ]
  },
  {
   "cell_type": "code",
   "execution_count": null,
   "metadata": {},
   "outputs": [],
   "source": [
    "names[4].title()"
   ]
  },
  {
   "cell_type": "code",
   "execution_count": null,
   "metadata": {},
   "outputs": [],
   "source": [
    "names[5].title()"
   ]
  },
  {
   "cell_type": "code",
   "execution_count": 3,
   "metadata": {},
   "outputs": [],
   "source": [
    "names = [ names[0].title(), names[1].title(), names[2].title(), names[3].title(), names[3].title(), names[4].title(), names[5].title(), names[6].title()]"
   ]
  },
  {
   "cell_type": "code",
   "execution_count": 4,
   "metadata": {},
   "outputs": [
    {
     "data": {
      "text/plain": [
       "['Sara', 'Chanel', 'Mike', 'Ryan', 'Ryan', 'Holy', 'Alex', 'Rob']"
      ]
     },
     "execution_count": 4,
     "metadata": {},
     "output_type": "execute_result"
    }
   ],
   "source": [
    "names"
   ]
  },
  {
   "cell_type": "code",
   "execution_count": null,
   "metadata": {},
   "outputs": [],
   "source": []
  },
  {
   "cell_type": "markdown",
   "metadata": {},
   "source": [
    "# <font color='blue'> 3. (1)두번째 항목 출력, (2) 마지막 항목을 출력 </font> \n"
   ]
  },
  {
   "cell_type": "code",
   "execution_count": 4,
   "metadata": {},
   "outputs": [
    {
     "data": {
      "text/plain": [
       "'chanel'"
      ]
     },
     "execution_count": 4,
     "metadata": {},
     "output_type": "execute_result"
    }
   ],
   "source": [
    "names[1]"
   ]
  },
  {
   "cell_type": "code",
   "execution_count": 5,
   "metadata": {},
   "outputs": [
    {
     "data": {
      "text/plain": [
       "'rob'"
      ]
     },
     "execution_count": 5,
     "metadata": {},
     "output_type": "execute_result"
    }
   ],
   "source": [
    "names[-1]"
   ]
  },
  {
   "cell_type": "code",
   "execution_count": null,
   "metadata": {},
   "outputs": [],
   "source": []
  },
  {
   "cell_type": "markdown",
   "metadata": {},
   "source": [
    "# <font color='blue'> 4. \"Chanel\" \"Mitch\" \"Ryan\" 항목 출력, </font> "
   ]
  },
  {
   "cell_type": "code",
   "execution_count": 13,
   "metadata": {},
   "outputs": [
    {
     "data": {
      "text/plain": [
       "['Sara', 'Chanel', 'Mike', 'Ryan', 'Ryan', 'Holy', 'Alex', 'Rob']"
      ]
     },
     "execution_count": 13,
     "metadata": {},
     "output_type": "execute_result"
    }
   ],
   "source": [
    "names"
   ]
  },
  {
   "cell_type": "code",
   "execution_count": 6,
   "metadata": {},
   "outputs": [
    {
     "data": {
      "text/plain": [
       "['Chanel', 'Mike', 'Ryan']"
      ]
     },
     "execution_count": 6,
     "metadata": {},
     "output_type": "execute_result"
    }
   ],
   "source": [
    "names[1:3+1]"
   ]
  },
  {
   "cell_type": "code",
   "execution_count": null,
   "metadata": {},
   "outputs": [],
   "source": []
  },
  {
   "cell_type": "code",
   "execution_count": null,
   "metadata": {},
   "outputs": [],
   "source": []
  },
  {
   "cell_type": "code",
   "execution_count": null,
   "metadata": {
    "collapsed": true
   },
   "outputs": [],
   "source": []
  },
  {
   "cell_type": "markdown",
   "metadata": {},
   "source": [
    "# <font color='blue'> 5. 리스트 맨 마지막 3개 항목을 출력하기</font> "
   ]
  },
  {
   "cell_type": "code",
   "execution_count": 7,
   "metadata": {},
   "outputs": [
    {
     "data": {
      "text/plain": [
       "['Ryan', 'Holy', 'Alex']"
      ]
     },
     "execution_count": 7,
     "metadata": {},
     "output_type": "execute_result"
    }
   ],
   "source": [
    "names[-4 :-1]"
   ]
  },
  {
   "cell_type": "code",
   "execution_count": 8,
   "metadata": {},
   "outputs": [
    {
     "data": {
      "text/plain": [
       "['Holy', 'Alex', 'Rob']"
      ]
     },
     "execution_count": 8,
     "metadata": {},
     "output_type": "execute_result"
    }
   ],
   "source": [
    "names[-3 :]"
   ]
  },
  {
   "cell_type": "code",
   "execution_count": 19,
   "metadata": {},
   "outputs": [
    {
     "data": {
      "text/plain": [
       "['Holy', 'Alex']"
      ]
     },
     "execution_count": 19,
     "metadata": {},
     "output_type": "execute_result"
    }
   ],
   "source": [
    "names[-3 : -2+1]"
   ]
  },
  {
   "cell_type": "code",
   "execution_count": 20,
   "metadata": {},
   "outputs": [
    {
     "data": {
      "text/plain": [
       "'Sara'"
      ]
     },
     "execution_count": 20,
     "metadata": {},
     "output_type": "execute_result"
    }
   ],
   "source": [
    "names[0]"
   ]
  },
  {
   "cell_type": "markdown",
   "metadata": {},
   "source": [
    "# <font color='blue'> 6. 다음을 출력 (1) aly, (2) sally (3) peter, aly </font> \n"
   ]
  },
  {
   "cell_type": "code",
   "execution_count": 9,
   "metadata": {},
   "outputs": [],
   "source": [
    "my_list = [\"Mitch\", [\"sara\", \"sally\", \"joe\"], \"peter\", \"aly\"]"
   ]
  },
  {
   "cell_type": "code",
   "execution_count": 15,
   "metadata": {},
   "outputs": [
    {
     "data": {
      "text/plain": [
       "'aly'"
      ]
     },
     "execution_count": 15,
     "metadata": {},
     "output_type": "execute_result"
    }
   ],
   "source": [
    "my_list[3]"
   ]
  },
  {
   "cell_type": "code",
   "execution_count": 16,
   "metadata": {},
   "outputs": [
    {
     "data": {
      "text/plain": [
       "'sally'"
      ]
     },
     "execution_count": 16,
     "metadata": {},
     "output_type": "execute_result"
    }
   ],
   "source": [
    "my_list[1][1]"
   ]
  },
  {
   "cell_type": "code",
   "execution_count": 17,
   "metadata": {},
   "outputs": [
    {
     "data": {
      "text/plain": [
       "['peter', 'aly']"
      ]
     },
     "execution_count": 17,
     "metadata": {},
     "output_type": "execute_result"
    }
   ],
   "source": [
    "my_list[2:3+1]"
   ]
  },
  {
   "cell_type": "code",
   "execution_count": 10,
   "metadata": {},
   "outputs": [
    {
     "data": {
      "text/plain": [
       "['peter', 'aly']"
      ]
     },
     "execution_count": 10,
     "metadata": {},
     "output_type": "execute_result"
    }
   ],
   "source": [
    "my_list[-2:]"
   ]
  },
  {
   "cell_type": "code",
   "execution_count": null,
   "metadata": {},
   "outputs": [],
   "source": []
  },
  {
   "cell_type": "code",
   "execution_count": null,
   "metadata": {},
   "outputs": [],
   "source": []
  },
  {
   "cell_type": "markdown",
   "metadata": {},
   "source": [
    "# <font color='blue'> 7. 현재 리스트의 길이를 먼저 구하고, 자신의 이름을 맨 끝에 추가하세요. </font> "
   ]
  },
  {
   "cell_type": "code",
   "execution_count": 21,
   "metadata": {},
   "outputs": [],
   "source": [
    "my_list = [\"Mitch\", [\"sara\", \"sally\", \"joe\"], \"peter\", \"aly\"]"
   ]
  },
  {
   "cell_type": "code",
   "execution_count": 22,
   "metadata": {},
   "outputs": [
    {
     "data": {
      "text/plain": [
       "4"
      ]
     },
     "execution_count": 22,
     "metadata": {},
     "output_type": "execute_result"
    }
   ],
   "source": [
    "len(my_list)"
   ]
  },
  {
   "cell_type": "code",
   "execution_count": 38,
   "metadata": {},
   "outputs": [],
   "source": [
    "my_list.insert(3,\"나\")"
   ]
  },
  {
   "cell_type": "code",
   "execution_count": 39,
   "metadata": {},
   "outputs": [
    {
     "data": {
      "text/plain": [
       "['Mitch', ['sara', 'sally', 'joe'], 'peter', '나', 'aly', '박주형']"
      ]
     },
     "execution_count": 39,
     "metadata": {},
     "output_type": "execute_result"
    }
   ],
   "source": [
    "my_list"
   ]
  },
  {
   "cell_type": "code",
   "execution_count": 40,
   "metadata": {},
   "outputs": [],
   "source": [
    "my_list.append(\"박주형\")"
   ]
  },
  {
   "cell_type": "code",
   "execution_count": 43,
   "metadata": {},
   "outputs": [
    {
     "data": {
      "text/plain": [
       "['Mitch', ['sara', 'sally', 'joe'], 'peter', '나', 'aly', '박주형']"
      ]
     },
     "execution_count": 43,
     "metadata": {},
     "output_type": "execute_result"
    }
   ],
   "source": [
    "my_list"
   ]
  },
  {
   "cell_type": "markdown",
   "metadata": {},
   "source": [
    "# <font color='blue'> 8. \"PETER\" 를 리스트에서 제거하세요. </font> \n",
    "  "
   ]
  },
  {
   "cell_type": "code",
   "execution_count": 44,
   "metadata": {},
   "outputs": [],
   "source": [
    "my_list.remove(\"peter\")"
   ]
  },
  {
   "cell_type": "code",
   "execution_count": 45,
   "metadata": {},
   "outputs": [
    {
     "data": {
      "text/plain": [
       "['Mitch', ['sara', 'sally', 'joe'], '나', 'aly', '박주형']"
      ]
     },
     "execution_count": 45,
     "metadata": {},
     "output_type": "execute_result"
    }
   ],
   "source": [
    "my_list"
   ]
  },
  {
   "cell_type": "code",
   "execution_count": 46,
   "metadata": {},
   "outputs": [
    {
     "data": {
      "text/plain": [
       "'aly'"
      ]
     },
     "execution_count": 46,
     "metadata": {},
     "output_type": "execute_result"
    }
   ],
   "source": [
    "my_list.pop(3)"
   ]
  },
  {
   "cell_type": "code",
   "execution_count": 47,
   "metadata": {},
   "outputs": [
    {
     "data": {
      "text/plain": [
       "['Mitch', ['sara', 'sally', 'joe'], '나', '박주형']"
      ]
     },
     "execution_count": 47,
     "metadata": {},
     "output_type": "execute_result"
    }
   ],
   "source": [
    "my_list"
   ]
  },
  {
   "cell_type": "code",
   "execution_count": 48,
   "metadata": {},
   "outputs": [],
   "source": [
    "del my_list[1]"
   ]
  },
  {
   "cell_type": "code",
   "execution_count": 49,
   "metadata": {},
   "outputs": [
    {
     "data": {
      "text/plain": [
       "['Mitch', '나', '박주형']"
      ]
     },
     "execution_count": 49,
     "metadata": {},
     "output_type": "execute_result"
    }
   ],
   "source": [
    "my_list"
   ]
  },
  {
   "cell_type": "markdown",
   "metadata": {},
   "source": [
    "# <font color='blue'> 9. \"Mitch\" 오른쪽에 \"Mike\"를 추가하세요. </font> \n",
    "  "
   ]
  },
  {
   "cell_type": "code",
   "execution_count": 50,
   "metadata": {},
   "outputs": [
    {
     "data": {
      "text/plain": [
       "['Mitch', '나', '박주형']"
      ]
     },
     "execution_count": 50,
     "metadata": {},
     "output_type": "execute_result"
    }
   ],
   "source": [
    "my_list"
   ]
  },
  {
   "cell_type": "code",
   "execution_count": 51,
   "metadata": {},
   "outputs": [],
   "source": [
    "my_list.insert(1,\"Mike\")"
   ]
  },
  {
   "cell_type": "code",
   "execution_count": 52,
   "metadata": {},
   "outputs": [
    {
     "data": {
      "text/plain": [
       "['Mitch', 'Mike', '나', '박주형']"
      ]
     },
     "execution_count": 52,
     "metadata": {},
     "output_type": "execute_result"
    }
   ],
   "source": [
    "my_list"
   ]
  },
  {
   "cell_type": "code",
   "execution_count": null,
   "metadata": {},
   "outputs": [],
   "source": []
  },
  {
   "cell_type": "markdown",
   "metadata": {},
   "source": [
    "# <font color='blue'> 10. 오름차순으로 순서대로 정렬하세요. </font> \n",
    "   \n",
    "   "
   ]
  },
  {
   "cell_type": "code",
   "execution_count": 53,
   "metadata": {},
   "outputs": [],
   "source": [
    "my_list = [50, 20, 30, 10, 40, 15, 45]\n",
    "\n"
   ]
  },
  {
   "cell_type": "code",
   "execution_count": 54,
   "metadata": {},
   "outputs": [
    {
     "data": {
      "text/plain": [
       "[10, 15, 20, 30, 40, 45, 50]"
      ]
     },
     "execution_count": 54,
     "metadata": {},
     "output_type": "execute_result"
    }
   ],
   "source": [
    "sorted(my_list)"
   ]
  },
  {
   "cell_type": "code",
   "execution_count": 55,
   "metadata": {},
   "outputs": [
    {
     "data": {
      "text/plain": [
       "[50, 20, 30, 10, 40, 15, 45]"
      ]
     },
     "execution_count": 55,
     "metadata": {},
     "output_type": "execute_result"
    }
   ],
   "source": [
    "my_list"
   ]
  },
  {
   "cell_type": "code",
   "execution_count": 56,
   "metadata": {},
   "outputs": [],
   "source": [
    "my_list.sort()"
   ]
  },
  {
   "cell_type": "code",
   "execution_count": 57,
   "metadata": {},
   "outputs": [
    {
     "data": {
      "text/plain": [
       "[10, 15, 20, 30, 40, 45, 50]"
      ]
     },
     "execution_count": 57,
     "metadata": {},
     "output_type": "execute_result"
    }
   ],
   "source": [
    "my_list"
   ]
  },
  {
   "cell_type": "markdown",
   "metadata": {},
   "source": [
    "# <font color='blue'> 11. 위 리스트를 내림차순으로 정렬하세요. </font> "
   ]
  },
  {
   "cell_type": "code",
   "execution_count": 58,
   "metadata": {},
   "outputs": [],
   "source": [
    "my_list.sort(reverse=True)"
   ]
  },
  {
   "cell_type": "code",
   "execution_count": 59,
   "metadata": {},
   "outputs": [
    {
     "data": {
      "text/plain": [
       "[50, 45, 40, 30, 20, 15, 10]"
      ]
     },
     "execution_count": 59,
     "metadata": {},
     "output_type": "execute_result"
    }
   ],
   "source": [
    "my_list"
   ]
  },
  {
   "cell_type": "code",
   "execution_count": 60,
   "metadata": {},
   "outputs": [],
   "source": [
    "my_list = [50, 20, 30, 10, 40, 15, 45]\n"
   ]
  },
  {
   "cell_type": "code",
   "execution_count": 61,
   "metadata": {},
   "outputs": [
    {
     "data": {
      "text/plain": [
       "[50, 45, 40, 30, 20, 15, 10]"
      ]
     },
     "execution_count": 61,
     "metadata": {},
     "output_type": "execute_result"
    }
   ],
   "source": [
    "sorted(my_list, reverse=True)"
   ]
  },
  {
   "cell_type": "code",
   "execution_count": 62,
   "metadata": {},
   "outputs": [
    {
     "data": {
      "text/plain": [
       "[50, 20, 30, 10, 40, 15, 45]"
      ]
     },
     "execution_count": 62,
     "metadata": {},
     "output_type": "execute_result"
    }
   ],
   "source": [
    "my_list\n"
   ]
  },
  {
   "cell_type": "markdown",
   "metadata": {},
   "source": [
    "# <font color='blue'> 12. 리스트 안에, 리스트들이 들어 있습니다. 안쪽 리스트들의 맨 마지막 항목들만 뽑아서, 새로운 리스트를 만드세요. </font> \n",
    "- chocolate, potatoes, protein bar 를 뽑아내는 코드를 작성하고, 이들을 리스트로 만듭니다.\n",
    "   "
   ]
  },
  {
   "cell_type": "code",
   "execution_count": 69,
   "metadata": {},
   "outputs": [],
   "source": [
    "grocery_list = [['chips','jelly','chocolate'],['sweet potatoes','potatoes'],['peanuts','protein bar']]\n"
   ]
  },
  {
   "cell_type": "code",
   "execution_count": 73,
   "metadata": {},
   "outputs": [],
   "source": [
    "newlist = [ grocery_list[0][2], grocery_list[1][1], grocery_list[2][-1] ] "
   ]
  },
  {
   "cell_type": "code",
   "execution_count": 74,
   "metadata": {},
   "outputs": [
    {
     "data": {
      "text/plain": [
       "['chocolate', 'potatoes', 'protein bar']"
      ]
     },
     "execution_count": 74,
     "metadata": {},
     "output_type": "execute_result"
    }
   ],
   "source": [
    "newlist"
   ]
  },
  {
   "cell_type": "code",
   "execution_count": 75,
   "metadata": {},
   "outputs": [],
   "source": [
    "newlist = [ grocery_list[0][-1], grocery_list[1][-1], grocery_list[2][-1] ]  # 이렇게 해야 for문 돌릴수있음 -1 같아서"
   ]
  },
  {
   "cell_type": "code",
   "execution_count": 76,
   "metadata": {},
   "outputs": [
    {
     "data": {
      "text/plain": [
       "['chocolate', 'potatoes', 'protein bar']"
      ]
     },
     "execution_count": 76,
     "metadata": {},
     "output_type": "execute_result"
    }
   ],
   "source": [
    "newlist"
   ]
  },
  {
   "cell_type": "markdown",
   "metadata": {},
   "source": [
    "# <font color='blue'> 13. 다음 문장을, 공백기준으로 잘라서, 리스트로 만드세요. 그리고 to 라는 단어가 몇개 인지 확인하세요. </font> \n",
    "- 예)   [ 'She', 'had', 'a', 'lot',,,,]\n",
    "- 문자열 부분에서 배운 함수를 참고하세요"
   ]
  },
  {
   "cell_type": "code",
   "execution_count": 37,
   "metadata": {},
   "outputs": [],
   "source": [
    "essay = '''\"She had a lot of money. She was a generous woman. She was once poor. She understood what it was like. She wanted to help out. On Christmas day, she handed out food to the poor. She made the food herself. She put a turkey leg, a scoop of mash potatoes, and peas on a plate. She gave the plate to each homeless person she saw.\n",
    "\n",
    "The homeless people loved her. One homeless man even gave her a penny. She said to keep it for himself. She decided to do more. She gave $50 to every homeless person she saw. She felt good.\"'''"
   ]
  },
  {
   "cell_type": "code",
   "execution_count": 55,
   "metadata": {},
   "outputs": [
    {
     "data": {
      "text/plain": [
       "'\"She had a lot of money. She was a generous woman. She was once poor. She understood what it was like. She wanted to help out. On Christmas day, she handed out food to the poor. She made the food herself. She put a turkey leg, a scoop of mash potatoes, and peas on a plate. She gave the plate to each homeless person she saw.\\n\\nThe homeless people loved her. One homeless man even gave her a penny. She said to keep it for himself. She decided to do more. She gave $50 to every homeless person she saw. She felt good.\"'"
      ]
     },
     "execution_count": 55,
     "metadata": {},
     "output_type": "execute_result"
    }
   ],
   "source": [
    "essay"
   ]
  },
  {
   "cell_type": "code",
   "execution_count": 56,
   "metadata": {},
   "outputs": [
    {
     "name": "stdout",
     "output_type": "stream",
     "text": [
      "\"She had a lot of money. She was a generous woman. She was once poor. She understood what it was like. She wanted to help out. On Christmas day, she handed out food to the poor. She made the food herself. She put a turkey leg, a scoop of mash potatoes, and peas on a plate. She gave the plate to each homeless person she saw.\n",
      "\n",
      "The homeless people loved her. One homeless man even gave her a penny. She said to keep it for himself. She decided to do more. She gave $50 to every homeless person she saw. She felt good.\"\n"
     ]
    }
   ],
   "source": [
    "print(essay)"
   ]
  },
  {
   "cell_type": "code",
   "execution_count": 58,
   "metadata": {},
   "outputs": [],
   "source": [
    "essay = essay.strip('\"')"
   ]
  },
  {
   "cell_type": "code",
   "execution_count": 60,
   "metadata": {},
   "outputs": [
    {
     "name": "stdout",
     "output_type": "stream",
     "text": [
      "She had a lot of money. She was a generous woman. She was once poor. She understood what it was like. She wanted to help out. On Christmas day, she handed out food to the poor. She made the food herself. She put a turkey leg, a scoop of mash potatoes, and peas on a plate. She gave the plate to each homeless person she saw.\n",
      "\n",
      "The homeless people loved her. One homeless man even gave her a penny. She said to keep it for himself. She decided to do more. She gave $50 to every homeless person she saw. She felt good.\n"
     ]
    }
   ],
   "source": [
    "print(essay)"
   ]
  },
  {
   "cell_type": "code",
   "execution_count": null,
   "metadata": {},
   "outputs": [],
   "source": []
  },
  {
   "cell_type": "code",
   "execution_count": 64,
   "metadata": {},
   "outputs": [],
   "source": [
    "nospace = essay.split()"
   ]
  },
  {
   "cell_type": "code",
   "execution_count": 65,
   "metadata": {},
   "outputs": [
    {
     "data": {
      "text/plain": [
       "['She',\n",
       " 'had',\n",
       " 'a',\n",
       " 'lot',\n",
       " 'of',\n",
       " 'money.',\n",
       " 'She',\n",
       " 'was',\n",
       " 'a',\n",
       " 'generous',\n",
       " 'woman.',\n",
       " 'She',\n",
       " 'was',\n",
       " 'once',\n",
       " 'poor.',\n",
       " 'She',\n",
       " 'understood',\n",
       " 'what',\n",
       " 'it',\n",
       " 'was',\n",
       " 'like.',\n",
       " 'She',\n",
       " 'wanted',\n",
       " 'to',\n",
       " 'help',\n",
       " 'out.',\n",
       " 'On',\n",
       " 'Christmas',\n",
       " 'day,',\n",
       " 'she',\n",
       " 'handed',\n",
       " 'out',\n",
       " 'food',\n",
       " 'to',\n",
       " 'the',\n",
       " 'poor.',\n",
       " 'She',\n",
       " 'made',\n",
       " 'the',\n",
       " 'food',\n",
       " 'herself.',\n",
       " 'She',\n",
       " 'put',\n",
       " 'a',\n",
       " 'turkey',\n",
       " 'leg,',\n",
       " 'a',\n",
       " 'scoop',\n",
       " 'of',\n",
       " 'mash',\n",
       " 'potatoes,',\n",
       " 'and',\n",
       " 'peas',\n",
       " 'on',\n",
       " 'a',\n",
       " 'plate.',\n",
       " 'She',\n",
       " 'gave',\n",
       " 'the',\n",
       " 'plate',\n",
       " 'to',\n",
       " 'each',\n",
       " 'homeless',\n",
       " 'person',\n",
       " 'she',\n",
       " 'saw.',\n",
       " 'The',\n",
       " 'homeless',\n",
       " 'people',\n",
       " 'loved',\n",
       " 'her.',\n",
       " 'One',\n",
       " 'homeless',\n",
       " 'man',\n",
       " 'even',\n",
       " 'gave',\n",
       " 'her',\n",
       " 'a',\n",
       " 'penny.',\n",
       " 'She',\n",
       " 'said',\n",
       " 'to',\n",
       " 'keep',\n",
       " 'it',\n",
       " 'for',\n",
       " 'himself.',\n",
       " 'She',\n",
       " 'decided',\n",
       " 'to',\n",
       " 'do',\n",
       " 'more.',\n",
       " 'She',\n",
       " 'gave',\n",
       " '$50',\n",
       " 'to',\n",
       " 'every',\n",
       " 'homeless',\n",
       " 'person',\n",
       " 'she',\n",
       " 'saw.',\n",
       " 'She',\n",
       " 'felt',\n",
       " 'good.']"
      ]
     },
     "execution_count": 65,
     "metadata": {},
     "output_type": "execute_result"
    }
   ],
   "source": [
    "nospace"
   ]
  },
  {
   "cell_type": "code",
   "execution_count": 67,
   "metadata": {},
   "outputs": [
    {
     "data": {
      "text/plain": [
       "6"
      ]
     },
     "execution_count": 67,
     "metadata": {},
     "output_type": "execute_result"
    }
   ],
   "source": [
    "nospace.count(\"to\")"
   ]
  },
  {
   "cell_type": "code",
   "execution_count": 68,
   "metadata": {},
   "outputs": [
    {
     "name": "stdout",
     "output_type": "stream",
     "text": [
      "She had a lot of money. She was a generous woman. She was once poor. She understood what it was like. She wanted to help out. On Christmas day, she handed out food to the poor. She made the food herself. She put a turkey leg, a scoop of mash potatoes, and peas on a plate. She gave the plate to each homeless person she saw.\n",
      "\n",
      "The homeless people loved her. One homeless man even gave her a penny. She said to keep it for himself. She decided to do more. She gave $50 to every homeless person she saw. She felt good.\n"
     ]
    }
   ],
   "source": [
    "print(essay)"
   ]
  },
  {
   "cell_type": "code",
   "execution_count": 69,
   "metadata": {},
   "outputs": [
    {
     "data": {
      "text/plain": [
       "8"
      ]
     },
     "execution_count": 69,
     "metadata": {},
     "output_type": "execute_result"
    }
   ],
   "source": [
    "essay.count(\"to\")"
   ]
  },
  {
   "cell_type": "code",
   "execution_count": null,
   "metadata": {},
   "outputs": [],
   "source": []
  },
  {
   "cell_type": "code",
   "execution_count": null,
   "metadata": {},
   "outputs": [],
   "source": []
  }
 ],
 "metadata": {
  "kernelspec": {
   "display_name": "Python 3 (ipykernel)",
   "language": "python",
   "name": "python3"
  },
  "language_info": {
   "codemirror_mode": {
    "name": "ipython",
    "version": 3
   },
   "file_extension": ".py",
   "mimetype": "text/x-python",
   "name": "python",
   "nbconvert_exporter": "python",
   "pygments_lexer": "ipython3",
   "version": "3.9.7"
  }
 },
 "nbformat": 4,
 "nbformat_minor": 2
}
