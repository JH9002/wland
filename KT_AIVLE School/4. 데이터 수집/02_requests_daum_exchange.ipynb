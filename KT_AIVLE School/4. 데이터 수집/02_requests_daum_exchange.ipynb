{
 "cells": [
  {
   "cell_type": "markdown",
   "id": "ce44dd79",
   "metadata": {},
   "source": [
    "### Daum Exchange\n",
    "- `https://finance.daum.net`"
   ]
  },
  {
   "cell_type": "code",
   "execution_count": 1,
   "id": "bcf5c3fb",
   "metadata": {},
   "outputs": [],
   "source": [
    "import warnings\n",
    "warnings.filterwarnings('ignore')\n",
    "import pandas as pd\n",
    "import requests"
   ]
  },
  {
   "cell_type": "code",
   "execution_count": null,
   "id": "494d9d77-a5b4-4354-9334-b3cac0a503fb",
   "metadata": {},
   "outputs": [],
   "source": []
  },
  {
   "cell_type": "code",
   "execution_count": null,
   "id": "71445f26-5598-4eea-b263-da78b8152387",
   "metadata": {},
   "outputs": [],
   "source": [
    "# 1. url"
   ]
  },
  {
   "cell_type": "code",
   "execution_count": 5,
   "id": "62011df6-a853-4e2d-9017-e62e7749ba88",
   "metadata": {},
   "outputs": [],
   "source": [
    "url = 'https://finance.daum.net/api/exchanges/summaries'"
   ]
  },
  {
   "cell_type": "code",
   "execution_count": 28,
   "id": "2b53e117-e1d5-4a37-ab7f-f6a7a45522ac",
   "metadata": {},
   "outputs": [
    {
     "data": {
      "text/plain": [
       "{'User-Agent': 'Mozilla/5.0 (Windows NT 10.0; Win64; x64) AppleWebKit/537.36 (KHTML, like Gecko) Chrome/122.0.0.0 Safari/537.36',\n",
       " 'Referer': 'https://finance.daum.net/'}"
      ]
     },
     "execution_count": 28,
     "metadata": {},
     "output_type": "execute_result"
    }
   ],
   "source": [
    "#  User-Agent, Referer, cookie 하나씩 추가하며 정상 response 200 확인\n",
    "# 네이버에서 어떤거로 확인하는지 보기위함\n",
    "# 마지막 , 입력 / \n",
    "# Referer 이전사이트 정보\n",
    "\n",
    "headers = {\n",
    "    'User-Agent' : 'Mozilla/5.0 (Windows NT 10.0; Win64; x64) AppleWebKit/537.36 (KHTML, like Gecko) Chrome/122.0.0.0 Safari/537.36',\n",
    "    'Referer' : 'https://finance.daum.net/',\n",
    "}"
   ]
  },
  {
   "cell_type": "code",
   "execution_count": null,
   "id": "1ef8bff0-60f4-419e-bea7-af1448a1731f",
   "metadata": {},
   "outputs": [],
   "source": []
  },
  {
   "cell_type": "code",
   "execution_count": 24,
   "id": "c93250f8-870e-49b9-81aa-ce3a77eb18e3",
   "metadata": {},
   "outputs": [],
   "source": [
    "# 2. request->response"
   ]
  },
  {
   "cell_type": "code",
   "execution_count": 25,
   "id": "54227be3-49da-422b-b934-4a6a55a62f3d",
   "metadata": {},
   "outputs": [
    {
     "data": {
      "text/plain": [
       "<Response [200]>"
      ]
     },
     "execution_count": 25,
     "metadata": {},
     "output_type": "execute_result"
    }
   ],
   "source": [
    "response = requests.get(url, headers=headers)\n",
    "response"
   ]
  },
  {
   "cell_type": "code",
   "execution_count": 8,
   "id": "e077c697-c70e-4cb0-a22f-14f5855d5434",
   "metadata": {},
   "outputs": [
    {
     "data": {
      "text/plain": [
       "'<html>\\r\\n<head><title>403 Forbidden</title></head>\\r\\n<body>\\r\\n<center><h1>403 Forbidden</h1></center>\\r\\n<hr><center>nginx</center>\\r\\n</body>\\r\\n</html>\\r\\n'"
      ]
     },
     "execution_count": 8,
     "metadata": {},
     "output_type": "execute_result"
    }
   ],
   "source": [
    "response.text # 에러확인 가능할때 있음"
   ]
  },
  {
   "cell_type": "code",
   "execution_count": null,
   "id": "1fec08c3-8eb7-4ee7-8ed4-7719c78ab5cd",
   "metadata": {},
   "outputs": [],
   "source": []
  },
  {
   "cell_type": "code",
   "execution_count": 35,
   "id": "457a24bf-fd19-4d50-9a8c-680ee6ad409c",
   "metadata": {},
   "outputs": [
    {
     "data": {
      "text/html": [
       "<div>\n",
       "<style scoped>\n",
       "    .dataframe tbody tr th:only-of-type {\n",
       "        vertical-align: middle;\n",
       "    }\n",
       "\n",
       "    .dataframe tbody tr th {\n",
       "        vertical-align: top;\n",
       "    }\n",
       "\n",
       "    .dataframe thead th {\n",
       "        text-align: right;\n",
       "    }\n",
       "</style>\n",
       "<table border=\"1\" class=\"dataframe\">\n",
       "  <thead>\n",
       "    <tr style=\"text-align: right;\">\n",
       "      <th></th>\n",
       "      <th>symbolCode</th>\n",
       "      <th>currencyCode</th>\n",
       "      <th>currencyName</th>\n",
       "      <th>basePrice</th>\n",
       "    </tr>\n",
       "  </thead>\n",
       "  <tbody>\n",
       "    <tr>\n",
       "      <th>0</th>\n",
       "      <td>FRX.KRWUSD</td>\n",
       "      <td>USD</td>\n",
       "      <td>달러</td>\n",
       "      <td>1337.90</td>\n",
       "    </tr>\n",
       "    <tr>\n",
       "      <th>1</th>\n",
       "      <td>FRX.KRWJPY</td>\n",
       "      <td>JPY</td>\n",
       "      <td>엔</td>\n",
       "      <td>896.45</td>\n",
       "    </tr>\n",
       "    <tr>\n",
       "      <th>2</th>\n",
       "      <td>FRX.KRWCNY</td>\n",
       "      <td>CNY</td>\n",
       "      <td>위안</td>\n",
       "      <td>185.66</td>\n",
       "    </tr>\n",
       "    <tr>\n",
       "      <th>3</th>\n",
       "      <td>FRX.KRWEUR</td>\n",
       "      <td>EUR</td>\n",
       "      <td>유로</td>\n",
       "      <td>1454.43</td>\n",
       "    </tr>\n",
       "    <tr>\n",
       "      <th>4</th>\n",
       "      <td>FRX.KRWGBP</td>\n",
       "      <td>GBP</td>\n",
       "      <td>파운드</td>\n",
       "      <td>1702.01</td>\n",
       "    </tr>\n",
       "  </tbody>\n",
       "</table>\n",
       "</div>"
      ],
      "text/plain": [
       "   symbolCode currencyCode currencyName  basePrice\n",
       "0  FRX.KRWUSD          USD           달러    1337.90\n",
       "1  FRX.KRWJPY          JPY            엔     896.45\n",
       "2  FRX.KRWCNY          CNY           위안     185.66\n",
       "3  FRX.KRWEUR          EUR           유로    1454.43\n",
       "4  FRX.KRWGBP          GBP          파운드    1702.01"
      ]
     },
     "execution_count": 35,
     "metadata": {},
     "output_type": "execute_result"
    }
   ],
   "source": [
    "# 3. parsing = json(str)-> DataFrame\n",
    "data = response.json()['data']\n",
    "df = pd.DataFrame(data)[['symbolCode','currencyCode', 'currencyName', 'basePrice']]\n",
    "df.head()"
   ]
  },
  {
   "cell_type": "code",
   "execution_count": null,
   "id": "02181d1f-e2e1-46dc-a96e-33e2770df607",
   "metadata": {},
   "outputs": [],
   "source": []
  },
  {
   "cell_type": "code",
   "execution_count": null,
   "id": "e0a0d5c8-f2eb-4f68-986b-7abd19d6e5f8",
   "metadata": {},
   "outputs": [],
   "source": []
  },
  {
   "cell_type": "code",
   "execution_count": null,
   "id": "86c2da69-d726-46cd-9780-16be07da5041",
   "metadata": {},
   "outputs": [],
   "source": []
  },
  {
   "cell_type": "code",
   "execution_count": null,
   "id": "aad7dd05-4c86-4d79-9818-d995926a48a4",
   "metadata": {},
   "outputs": [],
   "source": []
  },
  {
   "cell_type": "code",
   "execution_count": null,
   "id": "2b61da6d-7774-4b18-b32f-b9fd4646e1e9",
   "metadata": {},
   "outputs": [],
   "source": []
  }
 ],
 "metadata": {
  "kernelspec": {
   "display_name": "Python 3 (ipykernel)",
   "language": "python",
   "name": "python3"
  },
  "language_info": {
   "codemirror_mode": {
    "name": "ipython",
    "version": 3
   },
   "file_extension": ".py",
   "mimetype": "text/x-python",
   "name": "python",
   "nbconvert_exporter": "python",
   "pygments_lexer": "ipython3",
   "version": "3.9.7"
  }
 },
 "nbformat": 4,
 "nbformat_minor": 5
}
