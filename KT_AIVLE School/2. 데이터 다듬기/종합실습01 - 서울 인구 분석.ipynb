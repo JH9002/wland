{
 "cells": [
  {
   "cell_type": "markdown",
   "metadata": {
    "id": "BFhIXgdYoYGp"
   },
   "source": [
    "<center><img src='https://raw.githubusercontent.com/Jangrae/img/master/title.png' width=500/></center>"
   ]
  },
  {
   "cell_type": "markdown",
   "metadata": {
    "id": "d6jVPeiR2MK_"
   },
   "source": [
    "<center><img src='https://raw.githubusercontent.com/Jangrae/img/master/practice3.png' width=300/></center>"
   ]
  },
  {
   "cell_type": "markdown",
   "metadata": {
    "id": "yOKSV9AlnWjf"
   },
   "source": [
    "<center>본 실습에서 요구하는 내용 외에도 다양한 내용을 스스로 추가하여  탐색하고 분석해 보기를 권고합니다.</center>\n",
    "\n",
    "\n"
   ]
  },
  {
   "cell_type": "markdown",
   "metadata": {
    "id": "Xi_yurwiORB7"
   },
   "source": [
    "# 종합실습 - 서울시 인구 분석"
   ]
  },
  {
   "cell_type": "markdown",
   "metadata": {
    "id": "4wk8yXgF1FYk"
   },
   "source": [
    "<img src='https://raw.githubusercontent.com/Jangrae/img/master/people2.png' width=\"650\" align=\"left\">"
   ]
  },
  {
   "cell_type": "markdown",
   "metadata": {
    "id": "qb1iLyXwGlnw"
   },
   "source": [
    "# 1.환경 설정\n",
    "\n",
    "- 데이터 탐색과 전처리를 하기 전 필요한 라이브러리와 대상 파일을 읽어옵니다.\n",
    "- 시각화에 한글이 포함될 경우 이에 대한 설정을 진행합니다."
   ]
  },
  {
   "cell_type": "markdown",
   "metadata": {
    "id": "0uNXxebRGrd8"
   },
   "source": [
    "**1) 라이브러리 불러오기**\n",
    "\n",
    "- 사용할 라이브러리를 불러옵니다."
   ]
  },
  {
   "cell_type": "code",
   "execution_count": 1,
   "metadata": {
    "id": "p3lUS_fyqvnh"
   },
   "outputs": [],
   "source": [
    "# 라이브러리 불러오기\n",
    "import numpy as np\n",
    "import pandas as pd\n",
    "import matplotlib.pyplot as plt\n",
    "\n",
    "%config InlineBackend.figure_format = 'retina'"
   ]
  },
  {
   "cell_type": "markdown",
   "metadata": {
    "id": "PK8ZI9P5mRV8"
   },
   "source": [
    "**2) 한글 설정**\n",
    "\n",
    "- Jupyter Notebook 시각화에 한글이 표시되게 설정합니다."
   ]
  },
  {
   "cell_type": "code",
   "execution_count": 2,
   "metadata": {
    "id": "DOf3EazMNhai"
   },
   "outputs": [],
   "source": [
    "# 한글 폰트설정 #1\n",
    "plt.rcParams['font.family'] = 'Malgun Gothic'\n",
    "plt.rcParams['axes.unicode_minus'] = False"
   ]
  },
  {
   "cell_type": "code",
   "execution_count": null,
   "metadata": {
    "id": "-EBzMpsxvZOF"
   },
   "outputs": [],
   "source": [
    "# 한글 폰트설정 #2: 구글 코랩 포함\n",
    "#!pip install koreanize_matplotlib\n",
    "#import koreanize_matplotlib"
   ]
  },
  {
   "cell_type": "markdown",
   "metadata": {
    "id": "ul8zKgxCqvnh"
   },
   "source": [
    "**3) 데이터 읽어오기**\n",
    "\n",
    "- 다음 경로의 파일을 읽어와 pop01, pop02, pop03 데이터프레임을 만듭니다.\n",
    "- 파일 경로1: https://raw.githubusercontent.com/Jangrae/csv/master/seoul_pop_h01.csv\n",
    "- 파일 경로2: https://raw.githubusercontent.com/Jangrae/csv/master/seoul_pop_h02.csv\n",
    "- 파일 경로3: https://raw.githubusercontent.com/Jangrae/csv/master/seoul_pop_h03.csv"
   ]
  },
  {
   "cell_type": "code",
   "execution_count": 3,
   "metadata": {
    "id": "91c9vKQ0E1A4"
   },
   "outputs": [
    {
     "data": {
      "text/html": [
       "<div>\n",
       "<style scoped>\n",
       "    .dataframe tbody tr th:only-of-type {\n",
       "        vertical-align: middle;\n",
       "    }\n",
       "\n",
       "    .dataframe tbody tr th {\n",
       "        vertical-align: top;\n",
       "    }\n",
       "\n",
       "    .dataframe thead th {\n",
       "        text-align: right;\n",
       "    }\n",
       "</style>\n",
       "<table border=\"1\" class=\"dataframe\">\n",
       "  <thead>\n",
       "    <tr style=\"text-align: right;\">\n",
       "      <th></th>\n",
       "      <th>year</th>\n",
       "      <th>k_male</th>\n",
       "      <th>k_female</th>\n",
       "    </tr>\n",
       "  </thead>\n",
       "  <tbody>\n",
       "    <tr>\n",
       "      <th>0</th>\n",
       "      <td>1981</td>\n",
       "      <td>4160</td>\n",
       "      <td>4191</td>\n",
       "    </tr>\n",
       "    <tr>\n",
       "      <th>1</th>\n",
       "      <td>1982</td>\n",
       "      <td>4160</td>\n",
       "      <td>4191</td>\n",
       "    </tr>\n",
       "    <tr>\n",
       "      <th>2</th>\n",
       "      <td>1983</td>\n",
       "      <td>4160</td>\n",
       "      <td>4191</td>\n",
       "    </tr>\n",
       "    <tr>\n",
       "      <th>3</th>\n",
       "      <td>1984</td>\n",
       "      <td>4160</td>\n",
       "      <td>4191</td>\n",
       "    </tr>\n",
       "    <tr>\n",
       "      <th>4</th>\n",
       "      <td>1985</td>\n",
       "      <td>4160</td>\n",
       "      <td>4191</td>\n",
       "    </tr>\n",
       "  </tbody>\n",
       "</table>\n",
       "</div>"
      ],
      "text/plain": [
       "   year  k_male  k_female\n",
       "0  1981    4160      4191\n",
       "1  1982    4160      4191\n",
       "2  1983    4160      4191\n",
       "3  1984    4160      4191\n",
       "4  1985    4160      4191"
      ]
     },
     "execution_count": 3,
     "metadata": {},
     "output_type": "execute_result"
    }
   ],
   "source": [
    "# pop01 데이터 읽어오기\n",
    "pop01 = pd.read_csv('https://raw.githubusercontent.com/Jangrae/csv/master/seoul_pop_h01.csv')\n",
    "pop01.head()"
   ]
  },
  {
   "cell_type": "code",
   "execution_count": 4,
   "metadata": {
    "id": "QSedynVWEp3W"
   },
   "outputs": [
    {
     "data": {
      "text/html": [
       "<div>\n",
       "<style scoped>\n",
       "    .dataframe tbody tr th:only-of-type {\n",
       "        vertical-align: middle;\n",
       "    }\n",
       "\n",
       "    .dataframe tbody tr th {\n",
       "        vertical-align: top;\n",
       "    }\n",
       "\n",
       "    .dataframe thead th {\n",
       "        text-align: right;\n",
       "    }\n",
       "</style>\n",
       "<table border=\"1\" class=\"dataframe\">\n",
       "  <thead>\n",
       "    <tr style=\"text-align: right;\">\n",
       "      <th></th>\n",
       "      <th>year</th>\n",
       "      <th>f_male</th>\n",
       "      <th>f_female</th>\n",
       "    </tr>\n",
       "  </thead>\n",
       "  <tbody>\n",
       "    <tr>\n",
       "      <th>0</th>\n",
       "      <td>1985</td>\n",
       "      <td>7</td>\n",
       "      <td>6</td>\n",
       "    </tr>\n",
       "    <tr>\n",
       "      <th>1</th>\n",
       "      <td>1986</td>\n",
       "      <td>7</td>\n",
       "      <td>5</td>\n",
       "    </tr>\n",
       "    <tr>\n",
       "      <th>2</th>\n",
       "      <td>1987</td>\n",
       "      <td>6</td>\n",
       "      <td>5</td>\n",
       "    </tr>\n",
       "    <tr>\n",
       "      <th>3</th>\n",
       "      <td>1988</td>\n",
       "      <td>5</td>\n",
       "      <td>5</td>\n",
       "    </tr>\n",
       "    <tr>\n",
       "      <th>4</th>\n",
       "      <td>1989</td>\n",
       "      <td>6</td>\n",
       "      <td>5</td>\n",
       "    </tr>\n",
       "  </tbody>\n",
       "</table>\n",
       "</div>"
      ],
      "text/plain": [
       "   year  f_male  f_female\n",
       "0  1985       7         6\n",
       "1  1986       7         5\n",
       "2  1987       6         5\n",
       "3  1988       5         5\n",
       "4  1989       6         5"
      ]
     },
     "execution_count": 4,
     "metadata": {},
     "output_type": "execute_result"
    }
   ],
   "source": [
    "# pop02 데이터 읽어오기\n",
    "pop02 = pd.read_csv('https://raw.githubusercontent.com/Jangrae/csv/master/seoul_pop_h02.csv')\n",
    "pop02.head()"
   ]
  },
  {
   "cell_type": "code",
   "execution_count": 5,
   "metadata": {
    "id": "OPfgGedaEqnw"
   },
   "outputs": [
    {
     "data": {
      "text/html": [
       "<div>\n",
       "<style scoped>\n",
       "    .dataframe tbody tr th:only-of-type {\n",
       "        vertical-align: middle;\n",
       "    }\n",
       "\n",
       "    .dataframe tbody tr th {\n",
       "        vertical-align: top;\n",
       "    }\n",
       "\n",
       "    .dataframe thead th {\n",
       "        text-align: right;\n",
       "    }\n",
       "</style>\n",
       "<table border=\"1\" class=\"dataframe\">\n",
       "  <thead>\n",
       "    <tr style=\"text-align: right;\">\n",
       "      <th></th>\n",
       "      <th>year</th>\n",
       "      <th>household</th>\n",
       "      <th>older_65</th>\n",
       "    </tr>\n",
       "  </thead>\n",
       "  <tbody>\n",
       "    <tr>\n",
       "      <th>0</th>\n",
       "      <td>1981</td>\n",
       "      <td>1915</td>\n",
       "      <td>246</td>\n",
       "    </tr>\n",
       "    <tr>\n",
       "      <th>1</th>\n",
       "      <td>1982</td>\n",
       "      <td>2001</td>\n",
       "      <td>260</td>\n",
       "    </tr>\n",
       "    <tr>\n",
       "      <th>2</th>\n",
       "      <td>1983</td>\n",
       "      <td>2116</td>\n",
       "      <td>260</td>\n",
       "    </tr>\n",
       "    <tr>\n",
       "      <th>3</th>\n",
       "      <td>1984</td>\n",
       "      <td>2246</td>\n",
       "      <td>275</td>\n",
       "    </tr>\n",
       "    <tr>\n",
       "      <th>4</th>\n",
       "      <td>1985</td>\n",
       "      <td>2338</td>\n",
       "      <td>211</td>\n",
       "    </tr>\n",
       "  </tbody>\n",
       "</table>\n",
       "</div>"
      ],
      "text/plain": [
       "   year  household  older_65\n",
       "0  1981       1915       246\n",
       "1  1982       2001       260\n",
       "2  1983       2116       260\n",
       "3  1984       2246       275\n",
       "4  1985       2338       211"
      ]
     },
     "execution_count": 5,
     "metadata": {},
     "output_type": "execute_result"
    }
   ],
   "source": [
    "# pop03 데이터 읽어오기\n",
    "pop03 = pd.read_csv('https://raw.githubusercontent.com/Jangrae/csv/master/seoul_pop_h03.csv')\n",
    "pop03.head()"
   ]
  },
  {
   "cell_type": "code",
   "execution_count": null,
   "metadata": {},
   "outputs": [],
   "source": []
  },
  {
   "cell_type": "markdown",
   "metadata": {
    "id": "YskAXv8avBKD"
   },
   "source": [
    "# 2. 데이터 탐색\n",
    "\n",
    "다음과 같은 정보 확인을 통해 처리할 대상 데이터를 이해합니다.\n",
    "- 상/하위 데이터 확인\n",
    "- 데이터프레임 크기 확인\n",
    "- 열 이름, 데이터 형식, 값 개수 등 확인\n",
    "- 기술 통계정보 확인\n",
    "- 결측치 확인\n",
    "- 범주형 데이터 확인\n",
    "- 개별 열 값 상세 확인 등"
   ]
  },
  {
   "cell_type": "markdown",
   "metadata": {
    "id": "DGGFZli-V9pv"
   },
   "source": [
    "**1) 데이터프레임 크기 확인**\n",
    "\n",
    "- 세 개의 데이터프레임 크기(행 수, 열 수)를 확인합니다."
   ]
  },
  {
   "cell_type": "code",
   "execution_count": 7,
   "metadata": {
    "id": "rLzk_ydnvQzs"
   },
   "outputs": [
    {
     "data": {
      "text/plain": [
       "(42, 3)"
      ]
     },
     "metadata": {},
     "output_type": "display_data"
    },
    {
     "data": {
      "text/plain": [
       "(38, 3)"
      ]
     },
     "metadata": {},
     "output_type": "display_data"
    },
    {
     "data": {
      "text/plain": [
       "(42, 3)"
      ]
     },
     "metadata": {},
     "output_type": "display_data"
    }
   ],
   "source": [
    "# 데이터 크기 확인\n",
    "display(pop01.shape, pop02.shape, pop03.shape)"
   ]
  },
  {
   "cell_type": "markdown",
   "metadata": {
    "id": "PvfJBoYFWD7d"
   },
   "source": [
    "**2) year 최솟값, 최댓값 확인**\n",
    "\n",
    "- 세 개의 데이터프레임 year열 최솟값, 최댓값을 각각 확인합니다."
   ]
  },
  {
   "cell_type": "code",
   "execution_count": 76,
   "metadata": {
    "id": "HLYDQZLSwlic"
   },
   "outputs": [
    {
     "data": {
      "text/plain": [
       "1981"
      ]
     },
     "metadata": {},
     "output_type": "display_data"
    },
    {
     "data": {
      "text/plain": [
       "1985"
      ]
     },
     "metadata": {},
     "output_type": "display_data"
    },
    {
     "data": {
      "text/plain": [
       "1981"
      ]
     },
     "metadata": {},
     "output_type": "display_data"
    },
    {
     "data": {
      "text/plain": [
       "2022"
      ]
     },
     "metadata": {},
     "output_type": "display_data"
    },
    {
     "data": {
      "text/plain": [
       "2022"
      ]
     },
     "metadata": {},
     "output_type": "display_data"
    },
    {
     "data": {
      "text/plain": [
       "2022"
      ]
     },
     "metadata": {},
     "output_type": "display_data"
    }
   ],
   "source": [
    "# year 최댓값, 최솟값 확인\n",
    "display(pop01['year'].min(), pop02['year'].min(), pop03['year'].min())\n",
    "display(pop01['year'].max(), pop02['year'].max(), pop03['year'].max())"
   ]
  },
  {
   "cell_type": "markdown",
   "metadata": {
    "id": "ia5a8bYdWRRY"
   },
   "source": [
    "**3) 결측치 확인**\n",
    "\n",
    "- 세 개의 데이터프레임에 결측치가 있는 지 각각 확인합니다."
   ]
  },
  {
   "cell_type": "code",
   "execution_count": 13,
   "metadata": {
    "id": "eGIIvQrPx1aj"
   },
   "outputs": [
    {
     "data": {
      "text/plain": [
       "year        0\n",
       "k_male      0\n",
       "k_female    0\n",
       "dtype: int64"
      ]
     },
     "metadata": {},
     "output_type": "display_data"
    },
    {
     "data": {
      "text/plain": [
       "year        0\n",
       "f_male      0\n",
       "f_female    0\n",
       "dtype: int64"
      ]
     },
     "metadata": {},
     "output_type": "display_data"
    },
    {
     "data": {
      "text/plain": [
       "year         0\n",
       "household    0\n",
       "older_65     0\n",
       "dtype: int64"
      ]
     },
     "metadata": {},
     "output_type": "display_data"
    }
   ],
   "source": [
    "# 결측치 확인\n",
    "display(pop01.isna().sum(),pop02.isna().sum(), pop03.isna().sum() )"
   ]
  },
  {
   "cell_type": "markdown",
   "metadata": {
    "id": "Xf3IhTncVXnK"
   },
   "source": [
    "**4) 열 정보 확인**\n",
    "\n",
    "- 세 개의 데이터프레임의 열 정보를 각각 확인합니다."
   ]
  },
  {
   "cell_type": "code",
   "execution_count": 15,
   "metadata": {
    "id": "JDx9JTNqVXnK"
   },
   "outputs": [
    {
     "data": {
      "text/plain": [
       "Index(['year', 'k_male', 'k_female'], dtype='object')"
      ]
     },
     "metadata": {},
     "output_type": "display_data"
    },
    {
     "data": {
      "text/plain": [
       "Index(['year', 'f_male', 'f_female'], dtype='object')"
      ]
     },
     "metadata": {},
     "output_type": "display_data"
    },
    {
     "data": {
      "text/plain": [
       "Index(['year', 'household', 'older_65'], dtype='object')"
      ]
     },
     "metadata": {},
     "output_type": "display_data"
    }
   ],
   "source": [
    "# 열 정보 확인\n",
    "display(pop01.columns, pop02.columns, pop03.columns )"
   ]
  },
  {
   "cell_type": "code",
   "execution_count": null,
   "metadata": {},
   "outputs": [],
   "source": []
  },
  {
   "cell_type": "markdown",
   "metadata": {
    "id": "90Xyn_eRsjM1"
   },
   "source": [
    "# 3. 데이터 전처리\n",
    "\n",
    "전처리 과정에서 다음과 같은 처리를 할 수 있습니다.\n",
    "\n",
    "- 결측치 처리\n",
    "- 값 변경\n",
    "- 열 추가\n",
    "- 불필요한 열 제거\n",
    "- 열 이름 변경\n",
    "- 데이터 통합(연결 또는 조인)\n",
    "- 가변수화 등"
   ]
  },
  {
   "cell_type": "markdown",
   "metadata": {
    "id": "RVYiMiblt05b"
   },
   "source": [
    "**1) 데이터 통합**\n",
    "\n",
    "- concat 함수로 연결하면 인덱스 값을 기준으로 연결되어 데이터가 어긋납니다.\n",
    "- 그러므로 **merge** 함수로 **year** 열을 기준으로 **outer** 방식으로 병합(조인)합니다.\n",
    "- 외국인 정보가 1981 ~ 1984년이 누락되어 결측치가 발생할 것입니다.\n",
    "- 세 개의 데이터프레임을 병합(조인)하여 pop 데이터프레임을 선언합니다.\n",
    "- 병합은 한 번에 두 데이터프레임만 할 수 있으므로 두 번 시도해야 합니다.\n",
    "    - 1차 병합: pop01, pop02 병합 --> pop\n",
    "    - 2차 병합: pop, pop03 병합 --> pop\n",
    "- 이후의 모든 작업은 pop 데이터프레임을 대상으로 진행합니다."
   ]
  },
  {
   "cell_type": "code",
   "execution_count": 18,
   "metadata": {
    "id": "oQVSJrJishiQ",
    "scrolled": true
   },
   "outputs": [
    {
     "data": {
      "text/html": [
       "<div>\n",
       "<style scoped>\n",
       "    .dataframe tbody tr th:only-of-type {\n",
       "        vertical-align: middle;\n",
       "    }\n",
       "\n",
       "    .dataframe tbody tr th {\n",
       "        vertical-align: top;\n",
       "    }\n",
       "\n",
       "    .dataframe thead th {\n",
       "        text-align: right;\n",
       "    }\n",
       "</style>\n",
       "<table border=\"1\" class=\"dataframe\">\n",
       "  <thead>\n",
       "    <tr style=\"text-align: right;\">\n",
       "      <th></th>\n",
       "      <th>year</th>\n",
       "      <th>k_male</th>\n",
       "      <th>k_female</th>\n",
       "      <th>f_male</th>\n",
       "      <th>f_female</th>\n",
       "      <th>household</th>\n",
       "      <th>older_65</th>\n",
       "    </tr>\n",
       "  </thead>\n",
       "  <tbody>\n",
       "    <tr>\n",
       "      <th>0</th>\n",
       "      <td>1981</td>\n",
       "      <td>4160</td>\n",
       "      <td>4191</td>\n",
       "      <td>NaN</td>\n",
       "      <td>NaN</td>\n",
       "      <td>1915</td>\n",
       "      <td>246</td>\n",
       "    </tr>\n",
       "    <tr>\n",
       "      <th>1</th>\n",
       "      <td>1982</td>\n",
       "      <td>4160</td>\n",
       "      <td>4191</td>\n",
       "      <td>NaN</td>\n",
       "      <td>NaN</td>\n",
       "      <td>2001</td>\n",
       "      <td>260</td>\n",
       "    </tr>\n",
       "    <tr>\n",
       "      <th>2</th>\n",
       "      <td>1983</td>\n",
       "      <td>4160</td>\n",
       "      <td>4191</td>\n",
       "      <td>NaN</td>\n",
       "      <td>NaN</td>\n",
       "      <td>2116</td>\n",
       "      <td>260</td>\n",
       "    </tr>\n",
       "    <tr>\n",
       "      <th>3</th>\n",
       "      <td>1984</td>\n",
       "      <td>4160</td>\n",
       "      <td>4191</td>\n",
       "      <td>NaN</td>\n",
       "      <td>NaN</td>\n",
       "      <td>2246</td>\n",
       "      <td>275</td>\n",
       "    </tr>\n",
       "    <tr>\n",
       "      <th>4</th>\n",
       "      <td>1985</td>\n",
       "      <td>4160</td>\n",
       "      <td>4191</td>\n",
       "      <td>7.0</td>\n",
       "      <td>6.0</td>\n",
       "      <td>2338</td>\n",
       "      <td>211</td>\n",
       "    </tr>\n",
       "    <tr>\n",
       "      <th>5</th>\n",
       "      <td>1986</td>\n",
       "      <td>4899</td>\n",
       "      <td>4888</td>\n",
       "      <td>7.0</td>\n",
       "      <td>5.0</td>\n",
       "      <td>2428</td>\n",
       "      <td>305</td>\n",
       "    </tr>\n",
       "    <tr>\n",
       "      <th>6</th>\n",
       "      <td>1987</td>\n",
       "      <td>5000</td>\n",
       "      <td>4979</td>\n",
       "      <td>6.0</td>\n",
       "      <td>5.0</td>\n",
       "      <td>2518</td>\n",
       "      <td>329</td>\n",
       "    </tr>\n",
       "    <tr>\n",
       "      <th>7</th>\n",
       "      <td>1988</td>\n",
       "      <td>5156</td>\n",
       "      <td>5120</td>\n",
       "      <td>5.0</td>\n",
       "      <td>5.0</td>\n",
       "      <td>2658</td>\n",
       "      <td>349</td>\n",
       "    </tr>\n",
       "    <tr>\n",
       "      <th>8</th>\n",
       "      <td>1989</td>\n",
       "      <td>5305</td>\n",
       "      <td>5261</td>\n",
       "      <td>6.0</td>\n",
       "      <td>5.0</td>\n",
       "      <td>2817</td>\n",
       "      <td>363</td>\n",
       "    </tr>\n",
       "    <tr>\n",
       "      <th>9</th>\n",
       "      <td>1990</td>\n",
       "      <td>5321</td>\n",
       "      <td>5282</td>\n",
       "      <td>5.0</td>\n",
       "      <td>4.0</td>\n",
       "      <td>2820</td>\n",
       "      <td>363</td>\n",
       "    </tr>\n",
       "    <tr>\n",
       "      <th>10</th>\n",
       "      <td>1991</td>\n",
       "      <td>5468</td>\n",
       "      <td>5405</td>\n",
       "      <td>18.0</td>\n",
       "      <td>14.0</td>\n",
       "      <td>3330</td>\n",
       "      <td>424</td>\n",
       "    </tr>\n",
       "    <tr>\n",
       "      <th>11</th>\n",
       "      <td>1992</td>\n",
       "      <td>5500</td>\n",
       "      <td>5435</td>\n",
       "      <td>19.0</td>\n",
       "      <td>16.0</td>\n",
       "      <td>3383</td>\n",
       "      <td>434</td>\n",
       "    </tr>\n",
       "    <tr>\n",
       "      <th>12</th>\n",
       "      <td>1993</td>\n",
       "      <td>5478</td>\n",
       "      <td>5412</td>\n",
       "      <td>19.0</td>\n",
       "      <td>17.0</td>\n",
       "      <td>3431</td>\n",
       "      <td>445</td>\n",
       "    </tr>\n",
       "    <tr>\n",
       "      <th>13</th>\n",
       "      <td>1994</td>\n",
       "      <td>5409</td>\n",
       "      <td>5351</td>\n",
       "      <td>21.0</td>\n",
       "      <td>19.0</td>\n",
       "      <td>3456</td>\n",
       "      <td>454</td>\n",
       "    </tr>\n",
       "    <tr>\n",
       "      <th>14</th>\n",
       "      <td>1995</td>\n",
       "      <td>5302</td>\n",
       "      <td>5249</td>\n",
       "      <td>24.0</td>\n",
       "      <td>21.0</td>\n",
       "      <td>3448</td>\n",
       "      <td>460</td>\n",
       "    </tr>\n",
       "    <tr>\n",
       "      <th>15</th>\n",
       "      <td>1996</td>\n",
       "      <td>5231</td>\n",
       "      <td>5187</td>\n",
       "      <td>27.0</td>\n",
       "      <td>25.0</td>\n",
       "      <td>3457</td>\n",
       "      <td>469</td>\n",
       "    </tr>\n",
       "    <tr>\n",
       "      <th>16</th>\n",
       "      <td>1997</td>\n",
       "      <td>5187</td>\n",
       "      <td>5150</td>\n",
       "      <td>28.0</td>\n",
       "      <td>25.0</td>\n",
       "      <td>3499</td>\n",
       "      <td>485</td>\n",
       "    </tr>\n",
       "    <tr>\n",
       "      <th>17</th>\n",
       "      <td>1998</td>\n",
       "      <td>5147</td>\n",
       "      <td>5124</td>\n",
       "      <td>27.0</td>\n",
       "      <td>24.0</td>\n",
       "      <td>3459</td>\n",
       "      <td>505</td>\n",
       "    </tr>\n",
       "    <tr>\n",
       "      <th>18</th>\n",
       "      <td>1999</td>\n",
       "      <td>5141</td>\n",
       "      <td>5123</td>\n",
       "      <td>30.0</td>\n",
       "      <td>28.0</td>\n",
       "      <td>3491</td>\n",
       "      <td>530</td>\n",
       "    </tr>\n",
       "    <tr>\n",
       "      <th>19</th>\n",
       "      <td>2000</td>\n",
       "      <td>5167</td>\n",
       "      <td>5145</td>\n",
       "      <td>32.0</td>\n",
       "      <td>30.0</td>\n",
       "      <td>3540</td>\n",
       "      <td>560</td>\n",
       "    </tr>\n",
       "    <tr>\n",
       "      <th>20</th>\n",
       "      <td>2001</td>\n",
       "      <td>5142</td>\n",
       "      <td>5122</td>\n",
       "      <td>34.0</td>\n",
       "      <td>34.0</td>\n",
       "      <td>3570</td>\n",
       "      <td>586</td>\n",
       "    </tr>\n",
       "    <tr>\n",
       "      <th>21</th>\n",
       "      <td>2002</td>\n",
       "      <td>5109</td>\n",
       "      <td>5098</td>\n",
       "      <td>36.0</td>\n",
       "      <td>37.0</td>\n",
       "      <td>3624</td>\n",
       "      <td>613</td>\n",
       "    </tr>\n",
       "    <tr>\n",
       "      <th>22</th>\n",
       "      <td>2003</td>\n",
       "      <td>5085</td>\n",
       "      <td>5089</td>\n",
       "      <td>49.0</td>\n",
       "      <td>54.0</td>\n",
       "      <td>3715</td>\n",
       "      <td>650</td>\n",
       "    </tr>\n",
       "    <tr>\n",
       "      <th>23</th>\n",
       "      <td>2004</td>\n",
       "      <td>5075</td>\n",
       "      <td>5098</td>\n",
       "      <td>54.0</td>\n",
       "      <td>61.0</td>\n",
       "      <td>3780</td>\n",
       "      <td>693</td>\n",
       "    </tr>\n",
       "    <tr>\n",
       "      <th>24</th>\n",
       "      <td>2005</td>\n",
       "      <td>5062</td>\n",
       "      <td>5105</td>\n",
       "      <td>61.0</td>\n",
       "      <td>68.0</td>\n",
       "      <td>3871</td>\n",
       "      <td>736</td>\n",
       "    </tr>\n",
       "    <tr>\n",
       "      <th>25</th>\n",
       "      <td>2006</td>\n",
       "      <td>5062</td>\n",
       "      <td>5119</td>\n",
       "      <td>83.0</td>\n",
       "      <td>92.0</td>\n",
       "      <td>3979</td>\n",
       "      <td>787</td>\n",
       "    </tr>\n",
       "    <tr>\n",
       "      <th>26</th>\n",
       "      <td>2007</td>\n",
       "      <td>5063</td>\n",
       "      <td>5130</td>\n",
       "      <td>111.0</td>\n",
       "      <td>118.0</td>\n",
       "      <td>4046</td>\n",
       "      <td>852</td>\n",
       "    </tr>\n",
       "    <tr>\n",
       "      <th>27</th>\n",
       "      <td>2008</td>\n",
       "      <td>5062</td>\n",
       "      <td>5139</td>\n",
       "      <td>123.0</td>\n",
       "      <td>132.0</td>\n",
       "      <td>4098</td>\n",
       "      <td>899</td>\n",
       "    </tr>\n",
       "    <tr>\n",
       "      <th>28</th>\n",
       "      <td>2009</td>\n",
       "      <td>5059</td>\n",
       "      <td>5149</td>\n",
       "      <td>122.0</td>\n",
       "      <td>134.0</td>\n",
       "      <td>4117</td>\n",
       "      <td>943</td>\n",
       "    </tr>\n",
       "    <tr>\n",
       "      <th>29</th>\n",
       "      <td>2010</td>\n",
       "      <td>5111</td>\n",
       "      <td>5201</td>\n",
       "      <td>125.0</td>\n",
       "      <td>137.0</td>\n",
       "      <td>4224</td>\n",
       "      <td>1008</td>\n",
       "    </tr>\n",
       "    <tr>\n",
       "      <th>30</th>\n",
       "      <td>2011</td>\n",
       "      <td>5074</td>\n",
       "      <td>5176</td>\n",
       "      <td>135.0</td>\n",
       "      <td>145.0</td>\n",
       "      <td>4193</td>\n",
       "      <td>1049</td>\n",
       "    </tr>\n",
       "    <tr>\n",
       "      <th>31</th>\n",
       "      <td>2012</td>\n",
       "      <td>5041</td>\n",
       "      <td>5154</td>\n",
       "      <td>118.0</td>\n",
       "      <td>129.0</td>\n",
       "      <td>4178</td>\n",
       "      <td>1111</td>\n",
       "    </tr>\n",
       "    <tr>\n",
       "      <th>32</th>\n",
       "      <td>2013</td>\n",
       "      <td>5008</td>\n",
       "      <td>5136</td>\n",
       "      <td>118.0</td>\n",
       "      <td>126.0</td>\n",
       "      <td>4182</td>\n",
       "      <td>1167</td>\n",
       "    </tr>\n",
       "    <tr>\n",
       "      <th>33</th>\n",
       "      <td>2014</td>\n",
       "      <td>4980</td>\n",
       "      <td>5123</td>\n",
       "      <td>129.0</td>\n",
       "      <td>137.0</td>\n",
       "      <td>4194</td>\n",
       "      <td>1222</td>\n",
       "    </tr>\n",
       "    <tr>\n",
       "      <th>34</th>\n",
       "      <td>2015</td>\n",
       "      <td>4931</td>\n",
       "      <td>5091</td>\n",
       "      <td>133.0</td>\n",
       "      <td>142.0</td>\n",
       "      <td>4190</td>\n",
       "      <td>1268</td>\n",
       "    </tr>\n",
       "    <tr>\n",
       "      <th>35</th>\n",
       "      <td>2016</td>\n",
       "      <td>4877</td>\n",
       "      <td>5054</td>\n",
       "      <td>131.0</td>\n",
       "      <td>143.0</td>\n",
       "      <td>4190</td>\n",
       "      <td>1301</td>\n",
       "    </tr>\n",
       "    <tr>\n",
       "      <th>36</th>\n",
       "      <td>2017</td>\n",
       "      <td>4830</td>\n",
       "      <td>5027</td>\n",
       "      <td>128.0</td>\n",
       "      <td>140.0</td>\n",
       "      <td>4220</td>\n",
       "      <td>1365</td>\n",
       "    </tr>\n",
       "    <tr>\n",
       "      <th>37</th>\n",
       "      <td>2018</td>\n",
       "      <td>4774</td>\n",
       "      <td>4992</td>\n",
       "      <td>137.0</td>\n",
       "      <td>147.0</td>\n",
       "      <td>4264</td>\n",
       "      <td>1416</td>\n",
       "    </tr>\n",
       "    <tr>\n",
       "      <th>38</th>\n",
       "      <td>2019</td>\n",
       "      <td>4744</td>\n",
       "      <td>4985</td>\n",
       "      <td>134.0</td>\n",
       "      <td>148.0</td>\n",
       "      <td>4328</td>\n",
       "      <td>1485</td>\n",
       "    </tr>\n",
       "    <tr>\n",
       "      <th>39</th>\n",
       "      <td>2020</td>\n",
       "      <td>4702</td>\n",
       "      <td>4967</td>\n",
       "      <td>115.0</td>\n",
       "      <td>128.0</td>\n",
       "      <td>4418</td>\n",
       "      <td>1568</td>\n",
       "    </tr>\n",
       "    <tr>\n",
       "      <th>40</th>\n",
       "      <td>2021</td>\n",
       "      <td>4618</td>\n",
       "      <td>4891</td>\n",
       "      <td>104.0</td>\n",
       "      <td>123.0</td>\n",
       "      <td>4426</td>\n",
       "      <td>1605</td>\n",
       "    </tr>\n",
       "    <tr>\n",
       "      <th>41</th>\n",
       "      <td>2022</td>\n",
       "      <td>4570</td>\n",
       "      <td>4858</td>\n",
       "      <td>106.0</td>\n",
       "      <td>134.0</td>\n",
       "      <td>4446</td>\n",
       "      <td>1667</td>\n",
       "    </tr>\n",
       "  </tbody>\n",
       "</table>\n",
       "</div>"
      ],
      "text/plain": [
       "    year  k_male  k_female  f_male  f_female  household  older_65\n",
       "0   1981    4160      4191     NaN       NaN       1915       246\n",
       "1   1982    4160      4191     NaN       NaN       2001       260\n",
       "2   1983    4160      4191     NaN       NaN       2116       260\n",
       "3   1984    4160      4191     NaN       NaN       2246       275\n",
       "4   1985    4160      4191     7.0       6.0       2338       211\n",
       "5   1986    4899      4888     7.0       5.0       2428       305\n",
       "6   1987    5000      4979     6.0       5.0       2518       329\n",
       "7   1988    5156      5120     5.0       5.0       2658       349\n",
       "8   1989    5305      5261     6.0       5.0       2817       363\n",
       "9   1990    5321      5282     5.0       4.0       2820       363\n",
       "10  1991    5468      5405    18.0      14.0       3330       424\n",
       "11  1992    5500      5435    19.0      16.0       3383       434\n",
       "12  1993    5478      5412    19.0      17.0       3431       445\n",
       "13  1994    5409      5351    21.0      19.0       3456       454\n",
       "14  1995    5302      5249    24.0      21.0       3448       460\n",
       "15  1996    5231      5187    27.0      25.0       3457       469\n",
       "16  1997    5187      5150    28.0      25.0       3499       485\n",
       "17  1998    5147      5124    27.0      24.0       3459       505\n",
       "18  1999    5141      5123    30.0      28.0       3491       530\n",
       "19  2000    5167      5145    32.0      30.0       3540       560\n",
       "20  2001    5142      5122    34.0      34.0       3570       586\n",
       "21  2002    5109      5098    36.0      37.0       3624       613\n",
       "22  2003    5085      5089    49.0      54.0       3715       650\n",
       "23  2004    5075      5098    54.0      61.0       3780       693\n",
       "24  2005    5062      5105    61.0      68.0       3871       736\n",
       "25  2006    5062      5119    83.0      92.0       3979       787\n",
       "26  2007    5063      5130   111.0     118.0       4046       852\n",
       "27  2008    5062      5139   123.0     132.0       4098       899\n",
       "28  2009    5059      5149   122.0     134.0       4117       943\n",
       "29  2010    5111      5201   125.0     137.0       4224      1008\n",
       "30  2011    5074      5176   135.0     145.0       4193      1049\n",
       "31  2012    5041      5154   118.0     129.0       4178      1111\n",
       "32  2013    5008      5136   118.0     126.0       4182      1167\n",
       "33  2014    4980      5123   129.0     137.0       4194      1222\n",
       "34  2015    4931      5091   133.0     142.0       4190      1268\n",
       "35  2016    4877      5054   131.0     143.0       4190      1301\n",
       "36  2017    4830      5027   128.0     140.0       4220      1365\n",
       "37  2018    4774      4992   137.0     147.0       4264      1416\n",
       "38  2019    4744      4985   134.0     148.0       4328      1485\n",
       "39  2020    4702      4967   115.0     128.0       4418      1568\n",
       "40  2021    4618      4891   104.0     123.0       4426      1605\n",
       "41  2022    4570      4858   106.0     134.0       4446      1667"
      ]
     },
     "execution_count": 18,
     "metadata": {},
     "output_type": "execute_result"
    }
   ],
   "source": [
    "# 데이터프레임 조인\n",
    "pop01_02 = pd.merge(pop01, pop02, on='year', how='outer')\n",
    "pop = pd.merge(pop01_02, pop03, on='year', how='outer')\n",
    "pop"
   ]
  },
  {
   "cell_type": "code",
   "execution_count": null,
   "metadata": {},
   "outputs": [],
   "source": []
  },
  {
   "cell_type": "markdown",
   "metadata": {
    "id": "hdjxpxxFzxCT"
   },
   "source": [
    "**2) 결측치 확인**\n",
    "\n",
    "- 결측치가 있는지 확인합니다."
   ]
  },
  {
   "cell_type": "code",
   "execution_count": 20,
   "metadata": {
    "id": "NyjTg23zz5XS"
   },
   "outputs": [
    {
     "data": {
      "text/plain": [
       "year         0\n",
       "k_male       0\n",
       "k_female     0\n",
       "f_male       4\n",
       "f_female     4\n",
       "household    0\n",
       "older_65     0\n",
       "dtype: int64"
      ]
     },
     "execution_count": 20,
     "metadata": {},
     "output_type": "execute_result"
    }
   ],
   "source": [
    "# 결측치 확인\n",
    "# pop.isnull().sum()\n",
    "pop.isna().sum()"
   ]
  },
  {
   "cell_type": "code",
   "execution_count": null,
   "metadata": {},
   "outputs": [],
   "source": []
  },
  {
   "cell_type": "markdown",
   "metadata": {
    "id": "E6MZV3nW0QUv"
   },
   "source": [
    "**3) 결측치 처리**\n",
    "\n",
    "- 연도별 인구 현황이므로 임의의 값을 채우는 것이 바람직하지 않아 보입니다.\n",
    "- 이후 값, 즉 1985년 값으로 채우는 것도 정확한 분석을 방해할 것 같습니다.\n",
    "- 이에 결측치가 있는 1981년~1984년 행을 제거할 것입니다."
   ]
  },
  {
   "cell_type": "code",
   "execution_count": 21,
   "metadata": {},
   "outputs": [
    {
     "data": {
      "text/html": [
       "<div>\n",
       "<style scoped>\n",
       "    .dataframe tbody tr th:only-of-type {\n",
       "        vertical-align: middle;\n",
       "    }\n",
       "\n",
       "    .dataframe tbody tr th {\n",
       "        vertical-align: top;\n",
       "    }\n",
       "\n",
       "    .dataframe thead th {\n",
       "        text-align: right;\n",
       "    }\n",
       "</style>\n",
       "<table border=\"1\" class=\"dataframe\">\n",
       "  <thead>\n",
       "    <tr style=\"text-align: right;\">\n",
       "      <th></th>\n",
       "      <th>year</th>\n",
       "      <th>k_male</th>\n",
       "      <th>k_female</th>\n",
       "      <th>f_male</th>\n",
       "      <th>f_female</th>\n",
       "      <th>household</th>\n",
       "      <th>older_65</th>\n",
       "    </tr>\n",
       "  </thead>\n",
       "  <tbody>\n",
       "    <tr>\n",
       "      <th>0</th>\n",
       "      <td>1981</td>\n",
       "      <td>4160</td>\n",
       "      <td>4191</td>\n",
       "      <td>NaN</td>\n",
       "      <td>NaN</td>\n",
       "      <td>1915</td>\n",
       "      <td>246</td>\n",
       "    </tr>\n",
       "    <tr>\n",
       "      <th>1</th>\n",
       "      <td>1982</td>\n",
       "      <td>4160</td>\n",
       "      <td>4191</td>\n",
       "      <td>NaN</td>\n",
       "      <td>NaN</td>\n",
       "      <td>2001</td>\n",
       "      <td>260</td>\n",
       "    </tr>\n",
       "    <tr>\n",
       "      <th>2</th>\n",
       "      <td>1983</td>\n",
       "      <td>4160</td>\n",
       "      <td>4191</td>\n",
       "      <td>NaN</td>\n",
       "      <td>NaN</td>\n",
       "      <td>2116</td>\n",
       "      <td>260</td>\n",
       "    </tr>\n",
       "    <tr>\n",
       "      <th>3</th>\n",
       "      <td>1984</td>\n",
       "      <td>4160</td>\n",
       "      <td>4191</td>\n",
       "      <td>NaN</td>\n",
       "      <td>NaN</td>\n",
       "      <td>2246</td>\n",
       "      <td>275</td>\n",
       "    </tr>\n",
       "    <tr>\n",
       "      <th>4</th>\n",
       "      <td>1985</td>\n",
       "      <td>4160</td>\n",
       "      <td>4191</td>\n",
       "      <td>7.0</td>\n",
       "      <td>6.0</td>\n",
       "      <td>2338</td>\n",
       "      <td>211</td>\n",
       "    </tr>\n",
       "  </tbody>\n",
       "</table>\n",
       "</div>"
      ],
      "text/plain": [
       "   year  k_male  k_female  f_male  f_female  household  older_65\n",
       "0  1981    4160      4191     NaN       NaN       1915       246\n",
       "1  1982    4160      4191     NaN       NaN       2001       260\n",
       "2  1983    4160      4191     NaN       NaN       2116       260\n",
       "3  1984    4160      4191     NaN       NaN       2246       275\n",
       "4  1985    4160      4191     7.0       6.0       2338       211"
      ]
     },
     "execution_count": 21,
     "metadata": {},
     "output_type": "execute_result"
    }
   ],
   "source": [
    "pop.head()"
   ]
  },
  {
   "cell_type": "code",
   "execution_count": 22,
   "metadata": {
    "id": "TZ38gSP31CYM"
   },
   "outputs": [
    {
     "data": {
      "text/plain": [
       "year         0\n",
       "k_male       0\n",
       "k_female     0\n",
       "f_male       0\n",
       "f_female     0\n",
       "household    0\n",
       "older_65     0\n",
       "dtype: int64"
      ]
     },
     "execution_count": 22,
     "metadata": {},
     "output_type": "execute_result"
    }
   ],
   "source": [
    "# 결측치 제거\n",
    "pop.dropna(inplace=True)\n",
    "pop.isna().sum()\n"
   ]
  },
  {
   "cell_type": "code",
   "execution_count": 23,
   "metadata": {},
   "outputs": [
    {
     "data": {
      "text/html": [
       "<div>\n",
       "<style scoped>\n",
       "    .dataframe tbody tr th:only-of-type {\n",
       "        vertical-align: middle;\n",
       "    }\n",
       "\n",
       "    .dataframe tbody tr th {\n",
       "        vertical-align: top;\n",
       "    }\n",
       "\n",
       "    .dataframe thead th {\n",
       "        text-align: right;\n",
       "    }\n",
       "</style>\n",
       "<table border=\"1\" class=\"dataframe\">\n",
       "  <thead>\n",
       "    <tr style=\"text-align: right;\">\n",
       "      <th></th>\n",
       "      <th>year</th>\n",
       "      <th>k_male</th>\n",
       "      <th>k_female</th>\n",
       "      <th>f_male</th>\n",
       "      <th>f_female</th>\n",
       "      <th>household</th>\n",
       "      <th>older_65</th>\n",
       "    </tr>\n",
       "  </thead>\n",
       "  <tbody>\n",
       "    <tr>\n",
       "      <th>4</th>\n",
       "      <td>1985</td>\n",
       "      <td>4160</td>\n",
       "      <td>4191</td>\n",
       "      <td>7.0</td>\n",
       "      <td>6.0</td>\n",
       "      <td>2338</td>\n",
       "      <td>211</td>\n",
       "    </tr>\n",
       "    <tr>\n",
       "      <th>5</th>\n",
       "      <td>1986</td>\n",
       "      <td>4899</td>\n",
       "      <td>4888</td>\n",
       "      <td>7.0</td>\n",
       "      <td>5.0</td>\n",
       "      <td>2428</td>\n",
       "      <td>305</td>\n",
       "    </tr>\n",
       "    <tr>\n",
       "      <th>6</th>\n",
       "      <td>1987</td>\n",
       "      <td>5000</td>\n",
       "      <td>4979</td>\n",
       "      <td>6.0</td>\n",
       "      <td>5.0</td>\n",
       "      <td>2518</td>\n",
       "      <td>329</td>\n",
       "    </tr>\n",
       "    <tr>\n",
       "      <th>7</th>\n",
       "      <td>1988</td>\n",
       "      <td>5156</td>\n",
       "      <td>5120</td>\n",
       "      <td>5.0</td>\n",
       "      <td>5.0</td>\n",
       "      <td>2658</td>\n",
       "      <td>349</td>\n",
       "    </tr>\n",
       "    <tr>\n",
       "      <th>8</th>\n",
       "      <td>1989</td>\n",
       "      <td>5305</td>\n",
       "      <td>5261</td>\n",
       "      <td>6.0</td>\n",
       "      <td>5.0</td>\n",
       "      <td>2817</td>\n",
       "      <td>363</td>\n",
       "    </tr>\n",
       "  </tbody>\n",
       "</table>\n",
       "</div>"
      ],
      "text/plain": [
       "   year  k_male  k_female  f_male  f_female  household  older_65\n",
       "4  1985    4160      4191     7.0       6.0       2338       211\n",
       "5  1986    4899      4888     7.0       5.0       2428       305\n",
       "6  1987    5000      4979     6.0       5.0       2518       329\n",
       "7  1988    5156      5120     5.0       5.0       2658       349\n",
       "8  1989    5305      5261     6.0       5.0       2817       363"
      ]
     },
     "execution_count": 23,
     "metadata": {},
     "output_type": "execute_result"
    }
   ],
   "source": [
    "pop.head()"
   ]
  },
  {
   "cell_type": "code",
   "execution_count": null,
   "metadata": {},
   "outputs": [],
   "source": []
  },
  {
   "cell_type": "markdown",
   "metadata": {
    "id": "WAGgvzDv2klV"
   },
   "source": [
    "**3) 열 추가**\n",
    "\n",
    "- 이후 분석의 편의를 위해 다음과 같은 의미를 갖는 열을 추가하고자 합니다.\n",
    "    - k_total = 전체 한국인 인구수\n",
    "    - f_total = 전체 외국인 인구수\n",
    "    - male = 전체 남자 인구수\n",
    "    - female = 전체 여자 인구수\n",
    "    - total = 전체 인구수\n",
    "- 추가할 열에 대한 공식은 다음과 같습니다.\n",
    "    - k_total = k_male + k_female\n",
    "    - f_total = f_male + f_female\n",
    "    - male = k_male + f_male\n",
    "    - female = k_female + f_female\n",
    "    - total = k_total + f_total\n",
    "- 정리한 공식에 따라 데이터프레임에 열을 추가합니다."
   ]
  },
  {
   "cell_type": "code",
   "execution_count": 24,
   "metadata": {
    "id": "_2UJfoL4Deyq"
   },
   "outputs": [
    {
     "data": {
      "text/html": [
       "<div>\n",
       "<style scoped>\n",
       "    .dataframe tbody tr th:only-of-type {\n",
       "        vertical-align: middle;\n",
       "    }\n",
       "\n",
       "    .dataframe tbody tr th {\n",
       "        vertical-align: top;\n",
       "    }\n",
       "\n",
       "    .dataframe thead th {\n",
       "        text-align: right;\n",
       "    }\n",
       "</style>\n",
       "<table border=\"1\" class=\"dataframe\">\n",
       "  <thead>\n",
       "    <tr style=\"text-align: right;\">\n",
       "      <th></th>\n",
       "      <th>year</th>\n",
       "      <th>k_male</th>\n",
       "      <th>k_female</th>\n",
       "      <th>f_male</th>\n",
       "      <th>f_female</th>\n",
       "      <th>household</th>\n",
       "      <th>older_65</th>\n",
       "      <th>k_total</th>\n",
       "      <th>f_total</th>\n",
       "      <th>male</th>\n",
       "      <th>female</th>\n",
       "      <th>total</th>\n",
       "    </tr>\n",
       "  </thead>\n",
       "  <tbody>\n",
       "    <tr>\n",
       "      <th>4</th>\n",
       "      <td>1985</td>\n",
       "      <td>4160</td>\n",
       "      <td>4191</td>\n",
       "      <td>7.0</td>\n",
       "      <td>6.0</td>\n",
       "      <td>2338</td>\n",
       "      <td>211</td>\n",
       "      <td>8351</td>\n",
       "      <td>13.0</td>\n",
       "      <td>4167.0</td>\n",
       "      <td>4197.0</td>\n",
       "      <td>8364.0</td>\n",
       "    </tr>\n",
       "    <tr>\n",
       "      <th>5</th>\n",
       "      <td>1986</td>\n",
       "      <td>4899</td>\n",
       "      <td>4888</td>\n",
       "      <td>7.0</td>\n",
       "      <td>5.0</td>\n",
       "      <td>2428</td>\n",
       "      <td>305</td>\n",
       "      <td>9787</td>\n",
       "      <td>12.0</td>\n",
       "      <td>4906.0</td>\n",
       "      <td>4893.0</td>\n",
       "      <td>9799.0</td>\n",
       "    </tr>\n",
       "    <tr>\n",
       "      <th>6</th>\n",
       "      <td>1987</td>\n",
       "      <td>5000</td>\n",
       "      <td>4979</td>\n",
       "      <td>6.0</td>\n",
       "      <td>5.0</td>\n",
       "      <td>2518</td>\n",
       "      <td>329</td>\n",
       "      <td>9979</td>\n",
       "      <td>11.0</td>\n",
       "      <td>5006.0</td>\n",
       "      <td>4984.0</td>\n",
       "      <td>9990.0</td>\n",
       "    </tr>\n",
       "  </tbody>\n",
       "</table>\n",
       "</div>"
      ],
      "text/plain": [
       "   year  k_male  k_female  f_male  f_female  household  older_65  k_total  \\\n",
       "4  1985    4160      4191     7.0       6.0       2338       211     8351   \n",
       "5  1986    4899      4888     7.0       5.0       2428       305     9787   \n",
       "6  1987    5000      4979     6.0       5.0       2518       329     9979   \n",
       "\n",
       "   f_total    male  female   total  \n",
       "4     13.0  4167.0  4197.0  8364.0  \n",
       "5     12.0  4906.0  4893.0  9799.0  \n",
       "6     11.0  5006.0  4984.0  9990.0  "
      ]
     },
     "execution_count": 24,
     "metadata": {},
     "output_type": "execute_result"
    }
   ],
   "source": [
    "# 열 추가\n",
    "pop['k_total'] = pop['k_male'] + pop['k_female']\n",
    "pop['f_total'] = pop['f_male'] + pop['f_female']\n",
    "pop['male'] = pop['k_male'] + pop['f_male']\n",
    "pop['female'] = pop['k_female'] + pop['f_female']\n",
    "pop['total'] = pop['k_total'] + pop['f_total']\n",
    "pop.head(3)\n",
    "\n"
   ]
  },
  {
   "cell_type": "code",
   "execution_count": null,
   "metadata": {},
   "outputs": [],
   "source": []
  },
  {
   "cell_type": "markdown",
   "metadata": {
    "id": "BUlYrjII22qA"
   },
   "source": [
    "**4) 열 순서 변경**\n",
    "\n",
    "- 데이터 이해를 돕기 위해 다음과 같은 순서로 데이터프레임 열 순서를 변경합니다.\n",
    "    - year, household, total, male, female, k_total, k_male, k_female, f_total, f_male, f_female, older_65\n",
    "- 위 순서로 pop 데이터프레임을 조회한 결과를 다시 pop 데이터프레임으로 선언하면 됩니다.\n"
   ]
  },
  {
   "cell_type": "code",
   "execution_count": 25,
   "metadata": {},
   "outputs": [
    {
     "data": {
      "text/html": [
       "<div>\n",
       "<style scoped>\n",
       "    .dataframe tbody tr th:only-of-type {\n",
       "        vertical-align: middle;\n",
       "    }\n",
       "\n",
       "    .dataframe tbody tr th {\n",
       "        vertical-align: top;\n",
       "    }\n",
       "\n",
       "    .dataframe thead th {\n",
       "        text-align: right;\n",
       "    }\n",
       "</style>\n",
       "<table border=\"1\" class=\"dataframe\">\n",
       "  <thead>\n",
       "    <tr style=\"text-align: right;\">\n",
       "      <th></th>\n",
       "      <th>year</th>\n",
       "      <th>k_male</th>\n",
       "      <th>k_female</th>\n",
       "      <th>f_male</th>\n",
       "      <th>f_female</th>\n",
       "      <th>household</th>\n",
       "      <th>older_65</th>\n",
       "      <th>k_total</th>\n",
       "      <th>f_total</th>\n",
       "      <th>male</th>\n",
       "      <th>female</th>\n",
       "      <th>total</th>\n",
       "    </tr>\n",
       "  </thead>\n",
       "  <tbody>\n",
       "    <tr>\n",
       "      <th>4</th>\n",
       "      <td>1985</td>\n",
       "      <td>4160</td>\n",
       "      <td>4191</td>\n",
       "      <td>7.0</td>\n",
       "      <td>6.0</td>\n",
       "      <td>2338</td>\n",
       "      <td>211</td>\n",
       "      <td>8351</td>\n",
       "      <td>13.0</td>\n",
       "      <td>4167.0</td>\n",
       "      <td>4197.0</td>\n",
       "      <td>8364.0</td>\n",
       "    </tr>\n",
       "  </tbody>\n",
       "</table>\n",
       "</div>"
      ],
      "text/plain": [
       "   year  k_male  k_female  f_male  f_female  household  older_65  k_total  \\\n",
       "4  1985    4160      4191     7.0       6.0       2338       211     8351   \n",
       "\n",
       "   f_total    male  female   total  \n",
       "4     13.0  4167.0  4197.0  8364.0  "
      ]
     },
     "execution_count": 25,
     "metadata": {},
     "output_type": "execute_result"
    }
   ],
   "source": [
    "pop.head(1)"
   ]
  },
  {
   "cell_type": "code",
   "execution_count": 26,
   "metadata": {
    "id": "w_e2NR6W3Sw0"
   },
   "outputs": [
    {
     "data": {
      "text/html": [
       "<div>\n",
       "<style scoped>\n",
       "    .dataframe tbody tr th:only-of-type {\n",
       "        vertical-align: middle;\n",
       "    }\n",
       "\n",
       "    .dataframe tbody tr th {\n",
       "        vertical-align: top;\n",
       "    }\n",
       "\n",
       "    .dataframe thead th {\n",
       "        text-align: right;\n",
       "    }\n",
       "</style>\n",
       "<table border=\"1\" class=\"dataframe\">\n",
       "  <thead>\n",
       "    <tr style=\"text-align: right;\">\n",
       "      <th></th>\n",
       "      <th>year</th>\n",
       "      <th>household</th>\n",
       "      <th>total</th>\n",
       "      <th>male</th>\n",
       "      <th>female</th>\n",
       "      <th>k_total</th>\n",
       "      <th>k_male</th>\n",
       "      <th>k_female</th>\n",
       "      <th>f_total</th>\n",
       "      <th>f_male</th>\n",
       "      <th>f_female</th>\n",
       "      <th>older_65</th>\n",
       "    </tr>\n",
       "  </thead>\n",
       "  <tbody>\n",
       "    <tr>\n",
       "      <th>4</th>\n",
       "      <td>1985</td>\n",
       "      <td>4160</td>\n",
       "      <td>4191</td>\n",
       "      <td>7.0</td>\n",
       "      <td>6.0</td>\n",
       "      <td>2338</td>\n",
       "      <td>211</td>\n",
       "      <td>8351</td>\n",
       "      <td>13.0</td>\n",
       "      <td>4167.0</td>\n",
       "      <td>4197.0</td>\n",
       "      <td>8364.0</td>\n",
       "    </tr>\n",
       "  </tbody>\n",
       "</table>\n",
       "</div>"
      ],
      "text/plain": [
       "   year  household  total  male  female  k_total  k_male  k_female  f_total  \\\n",
       "4  1985       4160   4191   7.0     6.0     2338     211      8351     13.0   \n",
       "\n",
       "   f_male  f_female  older_65  \n",
       "4  4167.0    4197.0    8364.0  "
      ]
     },
     "execution_count": 26,
     "metadata": {},
     "output_type": "execute_result"
    }
   ],
   "source": [
    "# 열 순서 변경\n",
    "# pop = pop[['year', 'household', 'total', 'male', 'female', 'k_total', 'k_male', 'k_female', 'f_total', 'f_male', 'f_female', 'older_65']]\n",
    "pop.columns = ['year', 'household', 'total', 'male', 'female', 'k_total', 'k_male', 'k_female', 'f_total', 'f_male', 'f_female', 'older_65']\n",
    "pop.head(1)"
   ]
  },
  {
   "cell_type": "markdown",
   "metadata": {
    "id": "YqROKu_R3t03"
   },
   "source": [
    "**5) 인덱스 초기화**\n",
    "\n",
    "- 인덱스가 0부터 시작하는 일련 번호를 갖지 않으므로 인덱스를 초기화합니다.\n",
    "- 단 기존 인덱스 값은 의미가 없으니 버립니다."
   ]
  },
  {
   "cell_type": "code",
   "execution_count": 27,
   "metadata": {
    "id": "E6hQeKB533r9"
   },
   "outputs": [
    {
     "data": {
      "text/html": [
       "<div>\n",
       "<style scoped>\n",
       "    .dataframe tbody tr th:only-of-type {\n",
       "        vertical-align: middle;\n",
       "    }\n",
       "\n",
       "    .dataframe tbody tr th {\n",
       "        vertical-align: top;\n",
       "    }\n",
       "\n",
       "    .dataframe thead th {\n",
       "        text-align: right;\n",
       "    }\n",
       "</style>\n",
       "<table border=\"1\" class=\"dataframe\">\n",
       "  <thead>\n",
       "    <tr style=\"text-align: right;\">\n",
       "      <th></th>\n",
       "      <th>year</th>\n",
       "      <th>household</th>\n",
       "      <th>total</th>\n",
       "      <th>male</th>\n",
       "      <th>female</th>\n",
       "      <th>k_total</th>\n",
       "      <th>k_male</th>\n",
       "      <th>k_female</th>\n",
       "      <th>f_total</th>\n",
       "      <th>f_male</th>\n",
       "      <th>f_female</th>\n",
       "      <th>older_65</th>\n",
       "    </tr>\n",
       "  </thead>\n",
       "  <tbody>\n",
       "    <tr>\n",
       "      <th>0</th>\n",
       "      <td>1985</td>\n",
       "      <td>4160</td>\n",
       "      <td>4191</td>\n",
       "      <td>7.0</td>\n",
       "      <td>6.0</td>\n",
       "      <td>2338</td>\n",
       "      <td>211</td>\n",
       "      <td>8351</td>\n",
       "      <td>13.0</td>\n",
       "      <td>4167.0</td>\n",
       "      <td>4197.0</td>\n",
       "      <td>8364.0</td>\n",
       "    </tr>\n",
       "    <tr>\n",
       "      <th>1</th>\n",
       "      <td>1986</td>\n",
       "      <td>4899</td>\n",
       "      <td>4888</td>\n",
       "      <td>7.0</td>\n",
       "      <td>5.0</td>\n",
       "      <td>2428</td>\n",
       "      <td>305</td>\n",
       "      <td>9787</td>\n",
       "      <td>12.0</td>\n",
       "      <td>4906.0</td>\n",
       "      <td>4893.0</td>\n",
       "      <td>9799.0</td>\n",
       "    </tr>\n",
       "    <tr>\n",
       "      <th>2</th>\n",
       "      <td>1987</td>\n",
       "      <td>5000</td>\n",
       "      <td>4979</td>\n",
       "      <td>6.0</td>\n",
       "      <td>5.0</td>\n",
       "      <td>2518</td>\n",
       "      <td>329</td>\n",
       "      <td>9979</td>\n",
       "      <td>11.0</td>\n",
       "      <td>5006.0</td>\n",
       "      <td>4984.0</td>\n",
       "      <td>9990.0</td>\n",
       "    </tr>\n",
       "  </tbody>\n",
       "</table>\n",
       "</div>"
      ],
      "text/plain": [
       "   year  household  total  male  female  k_total  k_male  k_female  f_total  \\\n",
       "0  1985       4160   4191   7.0     6.0     2338     211      8351     13.0   \n",
       "1  1986       4899   4888   7.0     5.0     2428     305      9787     12.0   \n",
       "2  1987       5000   4979   6.0     5.0     2518     329      9979     11.0   \n",
       "\n",
       "   f_male  f_female  older_65  \n",
       "0  4167.0    4197.0    8364.0  \n",
       "1  4906.0    4893.0    9799.0  \n",
       "2  5006.0    4984.0    9990.0  "
      ]
     },
     "execution_count": 27,
     "metadata": {},
     "output_type": "execute_result"
    }
   ],
   "source": [
    "# 인덱스 초기화\n",
    "pop.reset_index(drop=True, inplace=True)\n",
    "pop.head(3)"
   ]
  },
  {
   "cell_type": "code",
   "execution_count": null,
   "metadata": {},
   "outputs": [],
   "source": []
  },
  {
   "cell_type": "markdown",
   "metadata": {
    "id": "gVFIrpZmrsjq"
   },
   "source": [
    "# 4. 데이터 분석\n",
    "\n",
    "- 데이터를 집계하고 간단히 시각화하여 분석합니다.\n",
    "- 연속형 값은 선 그래프, 범주형 값은 막대 그래프로 시각화함이 일반적입니다."
   ]
  },
  {
   "cell_type": "markdown",
   "metadata": {
    "id": "a8KDIf5FQA-S"
   },
   "source": [
    "**1) 전체 인구 변화**\n",
    "\n",
    "- 전체 인구 변화, 즉 total 열 값을 선 그래프로 시각화해 확인합니다."
   ]
  },
  {
   "cell_type": "code",
   "execution_count": 78,
   "metadata": {
    "id": "9vxmF15TruiG"
   },
   "outputs": [
    {
     "data": {
      "image/png": "[encoded data removed]",
      "text/plain": [
       "<Figure size 360x216 with 1 Axes>"
      ]
     },
     "metadata": {
      "image/png": {
       "height": 210,
       "width": 322
      },
      "needs_background": "light"
     },
     "output_type": "display_data"
    }
   ],
   "source": [
    "# 전체 인구 변화\n",
    "plt.figure(figsize=(5,3))\n",
    "plt.plot(pop['year'], pop['total'])\n",
    "plt.title('서울시 전체 인구변화')\n",
    "plt.show()"
   ]
  },
  {
   "cell_type": "markdown",
   "metadata": {
    "id": "Zx8gf8v0QDis"
   },
   "source": [
    "**2) 남녀 인구 변화**\n",
    "\n",
    "- 전체 남녀 인구 변화, 즉 male, female 열 값을 선 그래프로 시각화해 확인합니다.\n"
   ]
  },
  {
   "cell_type": "code",
   "execution_count": 47,
   "metadata": {
    "id": "UhHK0scXPdpw"
   },
   "outputs": [
    {
     "data": {
      "image/png": "[encoded data removed]",
      "text/plain": [
       "<Figure size 360x216 with 1 Axes>"
      ]
     },
     "metadata": {
      "image/png": {
       "height": 194,
       "width": 316
      },
      "needs_background": "light"
     },
     "output_type": "display_data"
    }
   ],
   "source": [
    "# 남녀 인구 변화\n",
    "plt.figure(figsize=(5,3))\n",
    "plt.plot(pop['year'], pop[['male', 'female']])\n",
    "plt.legend(['male', 'female'], loc='upper left')\n",
    "plt.show()\n"
   ]
  },
  {
   "cell_type": "markdown",
   "metadata": {
    "id": "Mswe1ZxwQFgA"
   },
   "source": [
    "**3) 한국인 인구 변화**\n",
    "\n",
    "- 한국인 인구 변화, 즉 k_male, k_female 열 값을 선 그래프로 시각화해 확인합니다."
   ]
  },
  {
   "cell_type": "code",
   "execution_count": 48,
   "metadata": {
    "id": "nWOZPWEmPw7r"
   },
   "outputs": [
    {
     "data": {
      "image/png": "[encoded data removed]",
      "text/plain": [
       "<Figure size 360x216 with 1 Axes>"
      ]
     },
     "metadata": {
      "image/png": {
       "height": 194,
       "width": 327
      },
      "needs_background": "light"
     },
     "output_type": "display_data"
    }
   ],
   "source": [
    "# 한국인 남녀 인구 변화\n",
    "plt.figure(figsize=(5,3))\n",
    "plt.plot(pop['year'], pop[['k_male', 'k_female']])\n",
    "plt.legend(['k_male', 'k_female'], loc='upper right')\n",
    "plt.show()"
   ]
  },
  {
   "cell_type": "markdown",
   "metadata": {
    "id": "6swMmePkQH2s"
   },
   "source": [
    "**4) 외국인 인구 변화**\n",
    "\n",
    "- 외국인 인구 변화, 즉 f_male, f_female 열 값을 선 그래프로 시각화해 확인합니다."
   ]
  },
  {
   "cell_type": "code",
   "execution_count": 51,
   "metadata": {
    "id": "F6ujLFpPP4Pp"
   },
   "outputs": [
    {
     "data": {
      "image/png": "[encoded data removed]",
      "text/plain": [
       "<Figure size 360x216 with 1 Axes>"
      ]
     },
     "metadata": {
      "image/png": {
       "height": 194,
       "width": 322
      },
      "needs_background": "light"
     },
     "output_type": "display_data"
    }
   ],
   "source": [
    "# 외국인 남녀 인구 변화\n",
    "plt.figure(figsize=(5,3))\n",
    "plt.plot(pop['year'], pop[['f_male', 'f_female']])\n",
    "plt.legend(['f_male', 'f_female'], loc='upper right')\n",
    "plt.show()"
   ]
  },
  {
   "cell_type": "markdown",
   "metadata": {
    "id": "_f6fAl8sR9AL"
   },
   "source": [
    "**5) 가구수 변화**\n",
    "\n",
    "- 가구수 변화, 즉 household 열 값을 선 그래프로 시각화해 확인합니다."
   ]
  },
  {
   "cell_type": "code",
   "execution_count": 52,
   "metadata": {
    "id": "J2m0m5i9R9AM"
   },
   "outputs": [
    {
     "data": {
      "image/png": "[encoded data removed]",
      "text/plain": [
       "<Figure size 360x216 with 1 Axes>"
      ]
     },
     "metadata": {
      "image/png": {
       "height": 194,
       "width": 322
      },
      "needs_background": "light"
     },
     "output_type": "display_data"
    }
   ],
   "source": [
    "# 가구수 변화\n",
    "plt.figure(figsize=(5,3))\n",
    "plt.plot(pop['year'], pop[['household']])\n",
    "plt.legend(['household'], loc='upper right')\n",
    "plt.show()"
   ]
  },
  {
   "cell_type": "markdown",
   "metadata": {
    "id": "RCrYaSeYSLHm"
   },
   "source": [
    "**6) 노령인구 변화**\n",
    "\n",
    "- 노령인구 변화, 즉 older_65 열 값을 선 그래프로 시각화해 확인합니다."
   ]
  },
  {
   "cell_type": "code",
   "execution_count": 53,
   "metadata": {
    "id": "Tkt-E7vWSLHu"
   },
   "outputs": [
    {
     "data": {
      "image/png": "[encoded data removed]",
      "text/plain": [
       "<Figure size 360x216 with 1 Axes>"
      ]
     },
     "metadata": {
      "image/png": {
       "height": 194,
       "width": 327
      },
      "needs_background": "light"
     },
     "output_type": "display_data"
    }
   ],
   "source": [
    "# 65세 이상 변화\n",
    "plt.figure(figsize=(5,3))\n",
    "plt.plot(pop['year'], pop[['older_65']])\n",
    "plt.legend(['older_65'], loc='upper right')\n",
    "plt.show()"
   ]
  },
  {
   "cell_type": "code",
   "execution_count": null,
   "metadata": {},
   "outputs": [],
   "source": [
    "고독사\n",
    "다른지역비교\n",
    "1인가구 정책수립필요\n",
    "현재 1인가구 정책 확인"
   ]
  },
  {
   "cell_type": "markdown",
   "metadata": {},
   "source": [
    "## 추가"
   ]
  },
  {
   "cell_type": "code",
   "execution_count": 73,
   "metadata": {},
   "outputs": [
    {
     "data": {
      "text/plain": [
       "5500"
      ]
     },
     "execution_count": 73,
     "metadata": {},
     "output_type": "execute_result"
    }
   ],
   "source": [
    "# 가구수 최고일때 연도\n",
    "pop['household'].max()"
   ]
  },
  {
   "cell_type": "code",
   "execution_count": 74,
   "metadata": {},
   "outputs": [
    {
     "data": {
      "text/plain": [
       "7    1992\n",
       "Name: year, dtype: int64"
      ]
     },
     "execution_count": 74,
     "metadata": {},
     "output_type": "execute_result"
    }
   ],
   "source": [
    "pop[ pop['household']==pop['household'].max() ]['year']"
   ]
  },
  {
   "cell_type": "code",
   "execution_count": 75,
   "metadata": {},
   "outputs": [
    {
     "data": {
      "text/html": [
       "<div>\n",
       "<style scoped>\n",
       "    .dataframe tbody tr th:only-of-type {\n",
       "        vertical-align: middle;\n",
       "    }\n",
       "\n",
       "    .dataframe tbody tr th {\n",
       "        vertical-align: top;\n",
       "    }\n",
       "\n",
       "    .dataframe thead th {\n",
       "        text-align: right;\n",
       "    }\n",
       "</style>\n",
       "<table border=\"1\" class=\"dataframe\">\n",
       "  <thead>\n",
       "    <tr style=\"text-align: right;\">\n",
       "      <th></th>\n",
       "      <th>year</th>\n",
       "      <th>household</th>\n",
       "      <th>total</th>\n",
       "      <th>male</th>\n",
       "      <th>female</th>\n",
       "      <th>k_total</th>\n",
       "      <th>k_male</th>\n",
       "      <th>k_female</th>\n",
       "      <th>f_total</th>\n",
       "      <th>f_male</th>\n",
       "      <th>f_female</th>\n",
       "      <th>older_65</th>\n",
       "    </tr>\n",
       "  </thead>\n",
       "  <tbody>\n",
       "    <tr>\n",
       "      <th>7</th>\n",
       "      <td>1992</td>\n",
       "      <td>5500</td>\n",
       "      <td>5435</td>\n",
       "      <td>19.0</td>\n",
       "      <td>16.0</td>\n",
       "      <td>3383</td>\n",
       "      <td>434</td>\n",
       "      <td>10935</td>\n",
       "      <td>35.0</td>\n",
       "      <td>5519.0</td>\n",
       "      <td>5451.0</td>\n",
       "      <td>10970.0</td>\n",
       "    </tr>\n",
       "  </tbody>\n",
       "</table>\n",
       "</div>"
      ],
      "text/plain": [
       "   year  household  total  male  female  k_total  k_male  k_female  f_total  \\\n",
       "7  1992       5500   5435  19.0    16.0     3383     434     10935     35.0   \n",
       "\n",
       "   f_male  f_female  older_65  \n",
       "7  5519.0    5451.0   10970.0  "
      ]
     },
     "execution_count": 75,
     "metadata": {},
     "output_type": "execute_result"
    }
   ],
   "source": [
    "pop[ pop['household']==pop['household'].max() ]"
   ]
  },
  {
   "cell_type": "code",
   "execution_count": null,
   "metadata": {},
   "outputs": [],
   "source": []
  },
  {
   "cell_type": "code",
   "execution_count": 69,
   "metadata": {},
   "outputs": [
    {
     "data": {
      "text/plain": [
       "4160"
      ]
     },
     "execution_count": 69,
     "metadata": {},
     "output_type": "execute_result"
    }
   ],
   "source": [
    "# 가구수 최저일때 연도\n",
    "pop['household'].min()"
   ]
  },
  {
   "cell_type": "code",
   "execution_count": 71,
   "metadata": {},
   "outputs": [
    {
     "data": {
      "text/plain": [
       "0    1985\n",
       "Name: year, dtype: int64"
      ]
     },
     "execution_count": 71,
     "metadata": {},
     "output_type": "execute_result"
    }
   ],
   "source": [
    "pop[ pop['household']==pop['household'].min() ]['year']"
   ]
  },
  {
   "cell_type": "code",
   "execution_count": 72,
   "metadata": {},
   "outputs": [
    {
     "data": {
      "text/html": [
       "<div>\n",
       "<style scoped>\n",
       "    .dataframe tbody tr th:only-of-type {\n",
       "        vertical-align: middle;\n",
       "    }\n",
       "\n",
       "    .dataframe tbody tr th {\n",
       "        vertical-align: top;\n",
       "    }\n",
       "\n",
       "    .dataframe thead th {\n",
       "        text-align: right;\n",
       "    }\n",
       "</style>\n",
       "<table border=\"1\" class=\"dataframe\">\n",
       "  <thead>\n",
       "    <tr style=\"text-align: right;\">\n",
       "      <th></th>\n",
       "      <th>year</th>\n",
       "      <th>household</th>\n",
       "      <th>total</th>\n",
       "      <th>male</th>\n",
       "      <th>female</th>\n",
       "      <th>k_total</th>\n",
       "      <th>k_male</th>\n",
       "      <th>k_female</th>\n",
       "      <th>f_total</th>\n",
       "      <th>f_male</th>\n",
       "      <th>f_female</th>\n",
       "      <th>older_65</th>\n",
       "    </tr>\n",
       "  </thead>\n",
       "  <tbody>\n",
       "    <tr>\n",
       "      <th>0</th>\n",
       "      <td>1985</td>\n",
       "      <td>4160</td>\n",
       "      <td>4191</td>\n",
       "      <td>7.0</td>\n",
       "      <td>6.0</td>\n",
       "      <td>2338</td>\n",
       "      <td>211</td>\n",
       "      <td>8351</td>\n",
       "      <td>13.0</td>\n",
       "      <td>4167.0</td>\n",
       "      <td>4197.0</td>\n",
       "      <td>8364.0</td>\n",
       "    </tr>\n",
       "  </tbody>\n",
       "</table>\n",
       "</div>"
      ],
      "text/plain": [
       "   year  household  total  male  female  k_total  k_male  k_female  f_total  \\\n",
       "0  1985       4160   4191   7.0     6.0     2338     211      8351     13.0   \n",
       "\n",
       "   f_male  f_female  older_65  \n",
       "0  4167.0    4197.0    8364.0  "
      ]
     },
     "execution_count": 72,
     "metadata": {},
     "output_type": "execute_result"
    }
   ],
   "source": [
    "pop[ pop['household']==pop['household'].min() ]"
   ]
  },
  {
   "cell_type": "code",
   "execution_count": null,
   "metadata": {},
   "outputs": [],
   "source": []
  },
  {
   "cell_type": "code",
   "execution_count": null,
   "metadata": {},
   "outputs": [],
   "source": []
  },
  {
   "cell_type": "code",
   "execution_count": null,
   "metadata": {},
   "outputs": [],
   "source": []
  },
  {
   "cell_type": "code",
   "execution_count": null,
   "metadata": {},
   "outputs": [],
   "source": []
  },
  {
   "cell_type": "code",
   "execution_count": null,
   "metadata": {},
   "outputs": [],
   "source": []
  },
  {
   "cell_type": "code",
   "execution_count": null,
   "metadata": {},
   "outputs": [],
   "source": []
  },
  {
   "cell_type": "code",
   "execution_count": null,
   "metadata": {},
   "outputs": [],
   "source": []
  },
  {
   "cell_type": "code",
   "execution_count": null,
   "metadata": {},
   "outputs": [],
   "source": []
  }
 ],
 "metadata": {
  "colab": {
   "provenance": []
  },
  "kernelspec": {
   "display_name": "Python 3 (ipykernel)",
   "language": "python",
   "name": "python3"
  },
  "language_info": {
   "codemirror_mode": {
    "name": "ipython",
    "version": 3
   },
   "file_extension": ".py",
   "mimetype": "text/x-python",
   "name": "python",
   "nbconvert_exporter": "python",
   "pygments_lexer": "ipython3",
   "version": "3.9.7"
  }
 },
 "nbformat": 4,
 "nbformat_minor": 4
}
