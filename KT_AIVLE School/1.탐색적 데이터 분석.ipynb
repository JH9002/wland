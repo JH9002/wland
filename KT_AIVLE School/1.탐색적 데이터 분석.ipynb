{
 "cells": [
  {
   "cell_type": "markdown",
   "metadata": {
    "id": "mJlY5pHkC2AM"
   },
   "source": [
    "# **스마트폰 센서 데이터 기반 모션 분류**\n",
    "# 단계1 : 탐색적 데이터 분석"
   ]
  },
  {
   "cell_type": "markdown",
   "metadata": {
    "id": "D67PlTu4JGAY"
   },
   "source": [
    "## 0.미션"
   ]
  },
  {
   "cell_type": "markdown",
   "metadata": {
    "id": "wc1FlP4E09oQ"
   },
   "source": [
    "### (1) 미션①\n",
    "수많은 feature들을 모두 살펴보는 것은 과도한 시간과 노력이 필요합니다. 그래서 여러분은 **선택과 집중**을 해야 합니다.\n",
    "* 1) **기본 모델을 생성**한 후 **변수 중요도**를 구합니다.   \n",
    "    * random forest 알고리즘 사용을 권장합니다.\n",
    "* 2) **중요한 feature와 중요하지 않은 feature 상위 N개를 선정**하고, 이들을 대상으로 EDA 수행.\n",
    "* 3) **각 feature 그룹별 중요도**도 파악해보며 EDA를 수행  \n",
    "    * Feature 이름에는 계층구조를 담고 있습니다. 그렇다 보니 feature들을 적절하게 그룹으로 묶을 수 있습니다.\n",
    "    * 참고로, feature 그룹의 중요도는 개별 feature 중요도의 합으로 계산할 수 있습니다.\n"
   ]
  },
  {
   "cell_type": "code",
   "execution_count": null,
   "metadata": {},
   "outputs": [],
   "source": []
  },
  {
   "cell_type": "markdown",
   "metadata": {
    "id": "hGGC3Ev4G9O8"
   },
   "source": [
    "### (2) 미션②  \n",
    "다음의 case에 맞게 feature 및 feature 그룹 중요도를 기반으로 탐색적 데이터 분석을 수행하시오.\n",
    "* 1) Target을 **정적/동적 행동**으로 구분\n",
    "    * 6개의 행동은 2개의 그룹(정적행동, 동적행동)으로 나뉩니다.  \n",
    "    * 어떤 feature(혹은 feature 그룹)이 2개 class 그룹(정적행동, 동적행동)를 구분하는데 중요한지를 찾아보고 탐색해봅시다. \n",
    "* 2) Target을 **개별 행동 여부**로 구분\n",
    "    * 6가지의 행동을 분류하는 분석도 중요하지만, 개별 행동에만 특별히 영향을 받는 feature들도 있습니다. \n",
    "    * 예를 들어, 계단을 오르는 행동(Walking_upstairs)과 관련이 큰 feature가 있을 것입니다. [계단을 오르는 행동]인지 아닌지로 구분하는 target을 추가하여 EDA를 수행해 봅시다.\n"
   ]
  },
  {
   "cell_type": "code",
   "execution_count": null,
   "metadata": {},
   "outputs": [],
   "source": []
  },
  {
   "cell_type": "markdown",
   "metadata": {
    "id": "NCptKiLOAn7l"
   },
   "source": [
    "## 1.환경설정"
   ]
  },
  {
   "cell_type": "markdown",
   "metadata": {
    "id": "I_rCs78QJZmI"
   },
   "source": [
    "* 세부 요구사항\n",
    "    - 경로 설정 : 다음의 두가지 방법 중 하나를 선택하여 폴더를 준비하고 데이터를 로딩하시오.\n",
    "        * 1) 로컬 수행(Ananconda)\n",
    "            * 제공된 압축파일을 다운받아 압축을 풀고\n",
    "            * anaconda의 root directory(보통 C:/Users/< ID > 에 project 폴더를 만들고, 복사해 넣습니다.\n",
    "        * 2) 구글콜랩\n",
    "            * 구글 드라이브 바로 밑에 project 폴더를 만들고, \n",
    "            * 데이터 파일을 복사해 넣습니다.\n",
    "    - 기본적으로 필요한 라이브러리를 import 하도록 코드가 작성되어 있습니다. \n",
    "        * 필요하다고 판단되는 라이브러리를 추가하세요.\n"
   ]
  },
  {
   "cell_type": "markdown",
   "metadata": {
    "id": "6qsy44YpolGu"
   },
   "source": [
    "### (1) 경로 설정"
   ]
  },
  {
   "cell_type": "markdown",
   "metadata": {
    "id": "HYi9O2rNdBU_"
   },
   "source": [
    "#### 1) 로컬 수행(Anaconda)\n",
    "* project 폴더에 필요한 파일들을 넣고, 본 파일을 열었다면, 별도 경로 지정이 필요하지 않습니다."
   ]
  },
  {
   "cell_type": "code",
   "execution_count": 1,
   "metadata": {
    "executionInfo": {
     "elapsed": 4,
     "status": "ok",
     "timestamp": 1682560131599,
     "user": {
      "displayName": "허신 - Business Intelligence",
      "userId": "11511914061488776232"
     },
     "user_tz": -540
    },
    "id": "876cuCbEd4j_"
   },
   "outputs": [],
   "source": [
    "# path = 'C:/Users/User/Desktop/'\n",
    "path = 'C:/Users/wl/Desktop/본수업 시작/미니프로젝트/3차 - 240404/1일차/'"
   ]
  },
  {
   "cell_type": "markdown",
   "metadata": {
    "id": "S0yzHcH6fdzJ"
   },
   "source": [
    "#### 2) 구글 콜랩 수행"
   ]
  },
  {
   "cell_type": "markdown",
   "metadata": {
    "id": "Uc_kIeeJeDgi"
   },
   "source": [
    "* 구글 드라이브 연결"
   ]
  },
  {
   "cell_type": "code",
   "execution_count": 2,
   "metadata": {
    "colab": {
     "base_uri": "https://localhost:8080/"
    },
    "executionInfo": {
     "elapsed": 29693,
     "status": "ok",
     "timestamp": 1682560167155,
     "user": {
      "displayName": "허신 - Business Intelligence",
      "userId": "11511914061488776232"
     },
     "user_tz": -540
    },
    "id": "dd0SPbYdfhS9",
    "outputId": "d2a3421c-359e-4f9d-b6f1-52bc1233fc09"
   },
   "outputs": [],
   "source": [
    "# from google.colab import drive\n",
    "# drive.mount('/content/drive')"
   ]
  },
  {
   "cell_type": "code",
   "execution_count": 3,
   "metadata": {
    "executionInfo": {
     "elapsed": 476,
     "status": "ok",
     "timestamp": 1682560196103,
     "user": {
      "displayName": "허신 - Business Intelligence",
      "userId": "11511914061488776232"
     },
     "user_tz": -540
    },
    "id": "y5OIDazoeIN4"
   },
   "outputs": [],
   "source": [
    "# path = '/content/drive/MyDrive/project/'"
   ]
  },
  {
   "cell_type": "markdown",
   "metadata": {
    "id": "KnzVh2LmkLDU"
   },
   "source": [
    "### (2) 라이브러리 설치 및 불러오기"
   ]
  },
  {
   "cell_type": "markdown",
   "metadata": {
    "id": "alc9QaqapA_y"
   },
   "source": [
    "1) 라이브러리 로딩"
   ]
  },
  {
   "cell_type": "code",
   "execution_count": 4,
   "metadata": {
    "executionInfo": {
     "elapsed": 1993,
     "status": "ok",
     "timestamp": 1682560209024,
     "user": {
      "displayName": "허신 - Business Intelligence",
      "userId": "11511914061488776232"
     },
     "user_tz": -540
    },
    "id": "3rsQerEaELwI"
   },
   "outputs": [],
   "source": [
    "import pandas as pd\n",
    "import numpy as np\n",
    "import matplotlib.pyplot as plt\n",
    "import seaborn as sns\n",
    "\n",
    "#필요하다고 판단되는 라이브러리를 추가하세요."
   ]
  },
  {
   "cell_type": "code",
   "execution_count": null,
   "metadata": {},
   "outputs": [],
   "source": []
  },
  {
   "cell_type": "markdown",
   "metadata": {
    "id": "mlBhkYHQ491o"
   },
   "source": [
    "#### 3) 제공 함수 생성\n",
    "* 변수 중요도를 시각화할 수 있는 함수를 제공합니다.\n",
    "* 입력 : \n",
    "    * importance : 트리모델의 변수 중요도(예: model.feature_importances_)\n",
    "    * names : 변수 이름 목록(예 : x_train.columns\n",
    "    * result_only  : 변수 중요도 순으로 데이터프레임만 return할지, 그래프도 포함할지 결정. False이면 결과 데이터프레임 + 그래프\n",
    "    * topn : 중요도 상위 n개만 표시. all 이면 전체.\n",
    "* 출력 : \n",
    "    * 중요도 그래프 : 중요도 내림차순으로 정렬\n",
    "    * 중요도 데이터프레임 : 중요도 내림차순으로 정렬"
   ]
  },
  {
   "cell_type": "code",
   "execution_count": null,
   "metadata": {},
   "outputs": [],
   "source": []
  },
  {
   "cell_type": "code",
   "execution_count": 5,
   "metadata": {
    "executionInfo": {
     "elapsed": 2,
     "status": "ok",
     "timestamp": 1682560211422,
     "user": {
      "displayName": "허신 - Business Intelligence",
      "userId": "11511914061488776232"
     },
     "user_tz": -540
    },
    "id": "EyMZDIT-aDHZ"
   },
   "outputs": [],
   "source": [
    "# 변수의 특성 중요도 계산하기\n",
    "def plot_feature_importance(importance, names, result_only = False, topn = 'all'):\n",
    "    feature_importance = np.array(importance)\n",
    "    feature_name = np.array(names)\n",
    "\n",
    "    data={'feature_name':feature_name,'feature_importance':feature_importance}\n",
    "    fi_temp = pd.DataFrame(data)\n",
    "\n",
    "    #변수의 특성 중요도 순으로 정렬하기\n",
    "    fi_temp.sort_values(by=['feature_importance'], ascending=False,inplace=True)\n",
    "    fi_temp.reset_index(drop=True, inplace = True)\n",
    "\n",
    "    if topn == 'all' :\n",
    "        fi_df = fi_temp.copy()\n",
    "    else :\n",
    "        fi_df = fi_temp.iloc[:topn]\n",
    "\n",
    "    #변수의 특성 중요도 그래프로 그리기\n",
    "    if result_only == False :\n",
    "        plt.figure(figsize=(10,5))\n",
    "        sns.barplot(x='feature_importance', y='feature_name', data = fi_df)\n",
    "\n",
    "        plt.xlabel('importance')\n",
    "        plt.ylabel('feature name')\n",
    "        plt.grid()\n",
    "\n",
    "    return fi_df"
   ]
  },
  {
   "cell_type": "code",
   "execution_count": null,
   "metadata": {},
   "outputs": [],
   "source": []
  },
  {
   "cell_type": "markdown",
   "metadata": {
    "id": "bA-eHXdwBDCz"
   },
   "source": [
    "### (3) 데이터 불러오기"
   ]
  },
  {
   "cell_type": "markdown",
   "metadata": {
    "id": "9OkifR5rnr2D"
   },
   "source": [
    "* 주어진 데이터셋\n",
    "    * data01_train.csv : 학습 및 검증용\n",
    "    * data01_test.csv : 테스트용\n",
    "    * feature.csv : feature 이름을 계층구조로 정리한 데이터\n",
    "\n",
    "* 세부 요구사항\n",
    "    * 칼럼 삭제 : data01_train.csv와 data01_test.csv 에서 'subject' 칼럼은 불필요하므로 삭제합니다."
   ]
  },
  {
   "cell_type": "code",
   "execution_count": 6,
   "metadata": {
    "executionInfo": {
     "elapsed": 726,
     "status": "ok",
     "timestamp": 1682560224358,
     "user": {
      "displayName": "허신 - Business Intelligence",
      "userId": "11511914061488776232"
     },
     "user_tz": -540
    },
    "id": "FT_JFnclfcQ4"
   },
   "outputs": [
    {
     "data": {
      "text/html": [
       "<div>\n",
       "<style scoped>\n",
       "    .dataframe tbody tr th:only-of-type {\n",
       "        vertical-align: middle;\n",
       "    }\n",
       "\n",
       "    .dataframe tbody tr th {\n",
       "        vertical-align: top;\n",
       "    }\n",
       "\n",
       "    .dataframe thead th {\n",
       "        text-align: right;\n",
       "    }\n",
       "</style>\n",
       "<table border=\"1\" class=\"dataframe\">\n",
       "  <thead>\n",
       "    <tr style=\"text-align: right;\">\n",
       "      <th></th>\n",
       "      <th>tBodyAcc-mean()-X</th>\n",
       "      <th>tBodyAcc-mean()-Y</th>\n",
       "      <th>tBodyAcc-mean()-Z</th>\n",
       "      <th>tBodyAcc-std()-X</th>\n",
       "      <th>tBodyAcc-std()-Y</th>\n",
       "      <th>tBodyAcc-std()-Z</th>\n",
       "      <th>tBodyAcc-mad()-X</th>\n",
       "      <th>tBodyAcc-mad()-Y</th>\n",
       "      <th>tBodyAcc-mad()-Z</th>\n",
       "      <th>tBodyAcc-max()-X</th>\n",
       "      <th>...</th>\n",
       "      <th>fBodyBodyGyroJerkMag-kurtosis()</th>\n",
       "      <th>angle(tBodyAccMean,gravity)</th>\n",
       "      <th>angle(tBodyAccJerkMean),gravityMean)</th>\n",
       "      <th>angle(tBodyGyroMean,gravityMean)</th>\n",
       "      <th>angle(tBodyGyroJerkMean,gravityMean)</th>\n",
       "      <th>angle(X,gravityMean)</th>\n",
       "      <th>angle(Y,gravityMean)</th>\n",
       "      <th>angle(Z,gravityMean)</th>\n",
       "      <th>subject</th>\n",
       "      <th>Activity</th>\n",
       "    </tr>\n",
       "  </thead>\n",
       "  <tbody>\n",
       "    <tr>\n",
       "      <th>0</th>\n",
       "      <td>0.288508</td>\n",
       "      <td>-0.009196</td>\n",
       "      <td>-0.103362</td>\n",
       "      <td>-0.988986</td>\n",
       "      <td>-0.962797</td>\n",
       "      <td>-0.967422</td>\n",
       "      <td>-0.989000</td>\n",
       "      <td>-0.962596</td>\n",
       "      <td>-0.965650</td>\n",
       "      <td>-0.929747</td>\n",
       "      <td>...</td>\n",
       "      <td>-0.816696</td>\n",
       "      <td>-0.042494</td>\n",
       "      <td>-0.044218</td>\n",
       "      <td>0.307873</td>\n",
       "      <td>0.072790</td>\n",
       "      <td>-0.601120</td>\n",
       "      <td>0.331298</td>\n",
       "      <td>0.165163</td>\n",
       "      <td>21</td>\n",
       "      <td>STANDING</td>\n",
       "    </tr>\n",
       "    <tr>\n",
       "      <th>1</th>\n",
       "      <td>0.265757</td>\n",
       "      <td>-0.016576</td>\n",
       "      <td>-0.098163</td>\n",
       "      <td>-0.989551</td>\n",
       "      <td>-0.994636</td>\n",
       "      <td>-0.987435</td>\n",
       "      <td>-0.990189</td>\n",
       "      <td>-0.993870</td>\n",
       "      <td>-0.987558</td>\n",
       "      <td>-0.937337</td>\n",
       "      <td>...</td>\n",
       "      <td>-0.693515</td>\n",
       "      <td>-0.062899</td>\n",
       "      <td>0.388459</td>\n",
       "      <td>-0.765014</td>\n",
       "      <td>0.771524</td>\n",
       "      <td>0.345205</td>\n",
       "      <td>-0.769186</td>\n",
       "      <td>-0.147944</td>\n",
       "      <td>15</td>\n",
       "      <td>LAYING</td>\n",
       "    </tr>\n",
       "    <tr>\n",
       "      <th>2</th>\n",
       "      <td>0.278709</td>\n",
       "      <td>-0.014511</td>\n",
       "      <td>-0.108717</td>\n",
       "      <td>-0.997720</td>\n",
       "      <td>-0.981088</td>\n",
       "      <td>-0.994008</td>\n",
       "      <td>-0.997934</td>\n",
       "      <td>-0.982187</td>\n",
       "      <td>-0.995017</td>\n",
       "      <td>-0.942584</td>\n",
       "      <td>...</td>\n",
       "      <td>-0.829311</td>\n",
       "      <td>0.000265</td>\n",
       "      <td>-0.525022</td>\n",
       "      <td>-0.891875</td>\n",
       "      <td>0.021528</td>\n",
       "      <td>-0.833564</td>\n",
       "      <td>0.202434</td>\n",
       "      <td>-0.032755</td>\n",
       "      <td>11</td>\n",
       "      <td>STANDING</td>\n",
       "    </tr>\n",
       "    <tr>\n",
       "      <th>3</th>\n",
       "      <td>0.289795</td>\n",
       "      <td>-0.035536</td>\n",
       "      <td>-0.150354</td>\n",
       "      <td>-0.231727</td>\n",
       "      <td>-0.006412</td>\n",
       "      <td>-0.338117</td>\n",
       "      <td>-0.273557</td>\n",
       "      <td>0.014245</td>\n",
       "      <td>-0.347916</td>\n",
       "      <td>0.008288</td>\n",
       "      <td>...</td>\n",
       "      <td>-0.408956</td>\n",
       "      <td>-0.255125</td>\n",
       "      <td>0.612804</td>\n",
       "      <td>0.747381</td>\n",
       "      <td>-0.072944</td>\n",
       "      <td>-0.695819</td>\n",
       "      <td>0.287154</td>\n",
       "      <td>0.111388</td>\n",
       "      <td>17</td>\n",
       "      <td>WALKING</td>\n",
       "    </tr>\n",
       "    <tr>\n",
       "      <th>4</th>\n",
       "      <td>0.394807</td>\n",
       "      <td>0.034098</td>\n",
       "      <td>0.091229</td>\n",
       "      <td>0.088489</td>\n",
       "      <td>-0.106636</td>\n",
       "      <td>-0.388502</td>\n",
       "      <td>-0.010469</td>\n",
       "      <td>-0.109680</td>\n",
       "      <td>-0.346372</td>\n",
       "      <td>0.584131</td>\n",
       "      <td>...</td>\n",
       "      <td>-0.563437</td>\n",
       "      <td>-0.044344</td>\n",
       "      <td>-0.845268</td>\n",
       "      <td>-0.974650</td>\n",
       "      <td>-0.887846</td>\n",
       "      <td>-0.705029</td>\n",
       "      <td>0.264952</td>\n",
       "      <td>0.137758</td>\n",
       "      <td>17</td>\n",
       "      <td>WALKING_DOWNSTAIRS</td>\n",
       "    </tr>\n",
       "  </tbody>\n",
       "</table>\n",
       "<p>5 rows × 563 columns</p>\n",
       "</div>"
      ],
      "text/plain": [
       "   tBodyAcc-mean()-X  tBodyAcc-mean()-Y  tBodyAcc-mean()-Z  tBodyAcc-std()-X  \\\n",
       "0           0.288508          -0.009196          -0.103362         -0.988986   \n",
       "1           0.265757          -0.016576          -0.098163         -0.989551   \n",
       "2           0.278709          -0.014511          -0.108717         -0.997720   \n",
       "3           0.289795          -0.035536          -0.150354         -0.231727   \n",
       "4           0.394807           0.034098           0.091229          0.088489   \n",
       "\n",
       "   tBodyAcc-std()-Y  tBodyAcc-std()-Z  tBodyAcc-mad()-X  tBodyAcc-mad()-Y  \\\n",
       "0         -0.962797         -0.967422         -0.989000         -0.962596   \n",
       "1         -0.994636         -0.987435         -0.990189         -0.993870   \n",
       "2         -0.981088         -0.994008         -0.997934         -0.982187   \n",
       "3         -0.006412         -0.338117         -0.273557          0.014245   \n",
       "4         -0.106636         -0.388502         -0.010469         -0.109680   \n",
       "\n",
       "   tBodyAcc-mad()-Z  tBodyAcc-max()-X  ...  fBodyBodyGyroJerkMag-kurtosis()  \\\n",
       "0         -0.965650         -0.929747  ...                        -0.816696   \n",
       "1         -0.987558         -0.937337  ...                        -0.693515   \n",
       "2         -0.995017         -0.942584  ...                        -0.829311   \n",
       "3         -0.347916          0.008288  ...                        -0.408956   \n",
       "4         -0.346372          0.584131  ...                        -0.563437   \n",
       "\n",
       "   angle(tBodyAccMean,gravity)  angle(tBodyAccJerkMean),gravityMean)  \\\n",
       "0                    -0.042494                             -0.044218   \n",
       "1                    -0.062899                              0.388459   \n",
       "2                     0.000265                             -0.525022   \n",
       "3                    -0.255125                              0.612804   \n",
       "4                    -0.044344                             -0.845268   \n",
       "\n",
       "   angle(tBodyGyroMean,gravityMean)  angle(tBodyGyroJerkMean,gravityMean)  \\\n",
       "0                          0.307873                              0.072790   \n",
       "1                         -0.765014                              0.771524   \n",
       "2                         -0.891875                              0.021528   \n",
       "3                          0.747381                             -0.072944   \n",
       "4                         -0.974650                             -0.887846   \n",
       "\n",
       "   angle(X,gravityMean)  angle(Y,gravityMean)  angle(Z,gravityMean)  subject  \\\n",
       "0             -0.601120              0.331298              0.165163       21   \n",
       "1              0.345205             -0.769186             -0.147944       15   \n",
       "2             -0.833564              0.202434             -0.032755       11   \n",
       "3             -0.695819              0.287154              0.111388       17   \n",
       "4             -0.705029              0.264952              0.137758       17   \n",
       "\n",
       "             Activity  \n",
       "0            STANDING  \n",
       "1              LAYING  \n",
       "2            STANDING  \n",
       "3             WALKING  \n",
       "4  WALKING_DOWNSTAIRS  \n",
       "\n",
       "[5 rows x 563 columns]"
      ]
     },
     "execution_count": 6,
     "metadata": {},
     "output_type": "execute_result"
    }
   ],
   "source": [
    "df_train = pd.read_csv(path +'data01_train.csv')\n",
    "df_test = pd.read_csv(path +'data01_test.csv')\n",
    "df_feature = pd.read_csv(path +'features.csv')\n",
    "df_train.head()"
   ]
  },
  {
   "cell_type": "code",
   "execution_count": 7,
   "metadata": {
    "executionInfo": {
     "elapsed": 5293,
     "status": "ok",
     "timestamp": 1682560231979,
     "user": {
      "displayName": "허신 - Business Intelligence",
      "userId": "11511914061488776232"
     },
     "user_tz": -540
    },
    "id": "ZpMoNMpcQoQ5"
   },
   "outputs": [
    {
     "data": {
      "text/html": [
       "<div>\n",
       "<style scoped>\n",
       "    .dataframe tbody tr th:only-of-type {\n",
       "        vertical-align: middle;\n",
       "    }\n",
       "\n",
       "    .dataframe tbody tr th {\n",
       "        vertical-align: top;\n",
       "    }\n",
       "\n",
       "    .dataframe thead th {\n",
       "        text-align: right;\n",
       "    }\n",
       "</style>\n",
       "<table border=\"1\" class=\"dataframe\">\n",
       "  <thead>\n",
       "    <tr style=\"text-align: right;\">\n",
       "      <th></th>\n",
       "      <th>tBodyAcc-mean()-X</th>\n",
       "      <th>tBodyAcc-mean()-Y</th>\n",
       "      <th>tBodyAcc-mean()-Z</th>\n",
       "      <th>tBodyAcc-std()-X</th>\n",
       "      <th>tBodyAcc-std()-Y</th>\n",
       "      <th>tBodyAcc-std()-Z</th>\n",
       "      <th>tBodyAcc-mad()-X</th>\n",
       "      <th>tBodyAcc-mad()-Y</th>\n",
       "      <th>tBodyAcc-mad()-Z</th>\n",
       "      <th>tBodyAcc-max()-X</th>\n",
       "      <th>...</th>\n",
       "      <th>fBodyBodyGyroJerkMag-kurtosis()</th>\n",
       "      <th>angle(tBodyAccMean,gravity)</th>\n",
       "      <th>angle(tBodyAccJerkMean),gravityMean)</th>\n",
       "      <th>angle(tBodyGyroMean,gravityMean)</th>\n",
       "      <th>angle(tBodyGyroJerkMean,gravityMean)</th>\n",
       "      <th>angle(X,gravityMean)</th>\n",
       "      <th>angle(Y,gravityMean)</th>\n",
       "      <th>angle(Z,gravityMean)</th>\n",
       "      <th>subject</th>\n",
       "      <th>Activity</th>\n",
       "    </tr>\n",
       "  </thead>\n",
       "  <tbody>\n",
       "    <tr>\n",
       "      <th>0</th>\n",
       "      <td>0.284379</td>\n",
       "      <td>-0.021981</td>\n",
       "      <td>-0.116683</td>\n",
       "      <td>-0.992490</td>\n",
       "      <td>-0.979640</td>\n",
       "      <td>-0.963321</td>\n",
       "      <td>-0.992563</td>\n",
       "      <td>-0.977304</td>\n",
       "      <td>-0.958142</td>\n",
       "      <td>-0.938850</td>\n",
       "      <td>...</td>\n",
       "      <td>-0.850065</td>\n",
       "      <td>-0.018043</td>\n",
       "      <td>0.092304</td>\n",
       "      <td>0.074220</td>\n",
       "      <td>-0.714534</td>\n",
       "      <td>-0.671943</td>\n",
       "      <td>-0.018351</td>\n",
       "      <td>-0.185733</td>\n",
       "      <td>22</td>\n",
       "      <td>SITTING</td>\n",
       "    </tr>\n",
       "    <tr>\n",
       "      <th>1</th>\n",
       "      <td>0.277440</td>\n",
       "      <td>-0.028086</td>\n",
       "      <td>-0.118412</td>\n",
       "      <td>-0.996620</td>\n",
       "      <td>-0.927676</td>\n",
       "      <td>-0.972294</td>\n",
       "      <td>-0.997346</td>\n",
       "      <td>-0.931405</td>\n",
       "      <td>-0.971788</td>\n",
       "      <td>-0.939837</td>\n",
       "      <td>...</td>\n",
       "      <td>-0.613367</td>\n",
       "      <td>-0.022456</td>\n",
       "      <td>-0.155414</td>\n",
       "      <td>0.247498</td>\n",
       "      <td>-0.112257</td>\n",
       "      <td>-0.826816</td>\n",
       "      <td>0.184489</td>\n",
       "      <td>-0.068699</td>\n",
       "      <td>15</td>\n",
       "      <td>STANDING</td>\n",
       "    </tr>\n",
       "    <tr>\n",
       "      <th>2</th>\n",
       "      <td>0.305833</td>\n",
       "      <td>-0.041023</td>\n",
       "      <td>-0.087303</td>\n",
       "      <td>0.006880</td>\n",
       "      <td>0.182800</td>\n",
       "      <td>-0.237984</td>\n",
       "      <td>0.005642</td>\n",
       "      <td>0.028616</td>\n",
       "      <td>-0.236474</td>\n",
       "      <td>0.016311</td>\n",
       "      <td>...</td>\n",
       "      <td>0.394388</td>\n",
       "      <td>-0.362616</td>\n",
       "      <td>0.171069</td>\n",
       "      <td>0.576349</td>\n",
       "      <td>-0.688314</td>\n",
       "      <td>-0.743234</td>\n",
       "      <td>0.272186</td>\n",
       "      <td>0.053101</td>\n",
       "      <td>22</td>\n",
       "      <td>WALKING</td>\n",
       "    </tr>\n",
       "    <tr>\n",
       "      <th>3</th>\n",
       "      <td>0.276053</td>\n",
       "      <td>-0.016487</td>\n",
       "      <td>-0.108381</td>\n",
       "      <td>-0.995379</td>\n",
       "      <td>-0.983978</td>\n",
       "      <td>-0.975854</td>\n",
       "      <td>-0.995877</td>\n",
       "      <td>-0.985280</td>\n",
       "      <td>-0.974907</td>\n",
       "      <td>-0.941425</td>\n",
       "      <td>...</td>\n",
       "      <td>-0.841455</td>\n",
       "      <td>0.289548</td>\n",
       "      <td>0.079801</td>\n",
       "      <td>-0.020033</td>\n",
       "      <td>0.291898</td>\n",
       "      <td>-0.639435</td>\n",
       "      <td>-0.111998</td>\n",
       "      <td>-0.123298</td>\n",
       "      <td>8</td>\n",
       "      <td>SITTING</td>\n",
       "    </tr>\n",
       "    <tr>\n",
       "      <th>4</th>\n",
       "      <td>0.271998</td>\n",
       "      <td>0.016904</td>\n",
       "      <td>-0.078856</td>\n",
       "      <td>-0.973468</td>\n",
       "      <td>-0.702462</td>\n",
       "      <td>-0.869450</td>\n",
       "      <td>-0.979810</td>\n",
       "      <td>-0.711601</td>\n",
       "      <td>-0.856807</td>\n",
       "      <td>-0.920760</td>\n",
       "      <td>...</td>\n",
       "      <td>0.214219</td>\n",
       "      <td>0.010111</td>\n",
       "      <td>0.114179</td>\n",
       "      <td>-0.830776</td>\n",
       "      <td>-0.325098</td>\n",
       "      <td>-0.840817</td>\n",
       "      <td>0.116237</td>\n",
       "      <td>-0.096615</td>\n",
       "      <td>5</td>\n",
       "      <td>STANDING</td>\n",
       "    </tr>\n",
       "  </tbody>\n",
       "</table>\n",
       "<p>5 rows × 563 columns</p>\n",
       "</div>"
      ],
      "text/plain": [
       "   tBodyAcc-mean()-X  tBodyAcc-mean()-Y  tBodyAcc-mean()-Z  tBodyAcc-std()-X  \\\n",
       "0           0.284379          -0.021981          -0.116683         -0.992490   \n",
       "1           0.277440          -0.028086          -0.118412         -0.996620   \n",
       "2           0.305833          -0.041023          -0.087303          0.006880   \n",
       "3           0.276053          -0.016487          -0.108381         -0.995379   \n",
       "4           0.271998           0.016904          -0.078856         -0.973468   \n",
       "\n",
       "   tBodyAcc-std()-Y  tBodyAcc-std()-Z  tBodyAcc-mad()-X  tBodyAcc-mad()-Y  \\\n",
       "0         -0.979640         -0.963321         -0.992563         -0.977304   \n",
       "1         -0.927676         -0.972294         -0.997346         -0.931405   \n",
       "2          0.182800         -0.237984          0.005642          0.028616   \n",
       "3         -0.983978         -0.975854         -0.995877         -0.985280   \n",
       "4         -0.702462         -0.869450         -0.979810         -0.711601   \n",
       "\n",
       "   tBodyAcc-mad()-Z  tBodyAcc-max()-X  ...  fBodyBodyGyroJerkMag-kurtosis()  \\\n",
       "0         -0.958142         -0.938850  ...                        -0.850065   \n",
       "1         -0.971788         -0.939837  ...                        -0.613367   \n",
       "2         -0.236474          0.016311  ...                         0.394388   \n",
       "3         -0.974907         -0.941425  ...                        -0.841455   \n",
       "4         -0.856807         -0.920760  ...                         0.214219   \n",
       "\n",
       "   angle(tBodyAccMean,gravity)  angle(tBodyAccJerkMean),gravityMean)  \\\n",
       "0                    -0.018043                              0.092304   \n",
       "1                    -0.022456                             -0.155414   \n",
       "2                    -0.362616                              0.171069   \n",
       "3                     0.289548                              0.079801   \n",
       "4                     0.010111                              0.114179   \n",
       "\n",
       "   angle(tBodyGyroMean,gravityMean)  angle(tBodyGyroJerkMean,gravityMean)  \\\n",
       "0                          0.074220                             -0.714534   \n",
       "1                          0.247498                             -0.112257   \n",
       "2                          0.576349                             -0.688314   \n",
       "3                         -0.020033                              0.291898   \n",
       "4                         -0.830776                             -0.325098   \n",
       "\n",
       "   angle(X,gravityMean)  angle(Y,gravityMean)  angle(Z,gravityMean)  subject  \\\n",
       "0             -0.671943             -0.018351             -0.185733       22   \n",
       "1             -0.826816              0.184489             -0.068699       15   \n",
       "2             -0.743234              0.272186              0.053101       22   \n",
       "3             -0.639435             -0.111998             -0.123298        8   \n",
       "4             -0.840817              0.116237             -0.096615        5   \n",
       "\n",
       "   Activity  \n",
       "0   SITTING  \n",
       "1  STANDING  \n",
       "2   WALKING  \n",
       "3   SITTING  \n",
       "4  STANDING  \n",
       "\n",
       "[5 rows x 563 columns]"
      ]
     },
     "execution_count": 7,
     "metadata": {},
     "output_type": "execute_result"
    }
   ],
   "source": [
    "df_test.head()"
   ]
  },
  {
   "cell_type": "code",
   "execution_count": 8,
   "metadata": {},
   "outputs": [
    {
     "data": {
      "text/html": [
       "<div>\n",
       "<style scoped>\n",
       "    .dataframe tbody tr th:only-of-type {\n",
       "        vertical-align: middle;\n",
       "    }\n",
       "\n",
       "    .dataframe tbody tr th {\n",
       "        vertical-align: top;\n",
       "    }\n",
       "\n",
       "    .dataframe thead th {\n",
       "        text-align: right;\n",
       "    }\n",
       "</style>\n",
       "<table border=\"1\" class=\"dataframe\">\n",
       "  <thead>\n",
       "    <tr style=\"text-align: right;\">\n",
       "      <th></th>\n",
       "      <th>sensor</th>\n",
       "      <th>agg</th>\n",
       "      <th>axis</th>\n",
       "      <th>feature_name</th>\n",
       "    </tr>\n",
       "  </thead>\n",
       "  <tbody>\n",
       "    <tr>\n",
       "      <th>0</th>\n",
       "      <td>tBodyAcc</td>\n",
       "      <td>mean()</td>\n",
       "      <td>X</td>\n",
       "      <td>tBodyAcc-mean()-X</td>\n",
       "    </tr>\n",
       "    <tr>\n",
       "      <th>1</th>\n",
       "      <td>tBodyAcc</td>\n",
       "      <td>mean()</td>\n",
       "      <td>Y</td>\n",
       "      <td>tBodyAcc-mean()-Y</td>\n",
       "    </tr>\n",
       "    <tr>\n",
       "      <th>2</th>\n",
       "      <td>tBodyAcc</td>\n",
       "      <td>mean()</td>\n",
       "      <td>Z</td>\n",
       "      <td>tBodyAcc-mean()-Z</td>\n",
       "    </tr>\n",
       "    <tr>\n",
       "      <th>3</th>\n",
       "      <td>tBodyAcc</td>\n",
       "      <td>std()</td>\n",
       "      <td>X</td>\n",
       "      <td>tBodyAcc-std()-X</td>\n",
       "    </tr>\n",
       "    <tr>\n",
       "      <th>4</th>\n",
       "      <td>tBodyAcc</td>\n",
       "      <td>std()</td>\n",
       "      <td>Y</td>\n",
       "      <td>tBodyAcc-std()-Y</td>\n",
       "    </tr>\n",
       "    <tr>\n",
       "      <th>...</th>\n",
       "      <td>...</td>\n",
       "      <td>...</td>\n",
       "      <td>...</td>\n",
       "      <td>...</td>\n",
       "    </tr>\n",
       "    <tr>\n",
       "      <th>556</th>\n",
       "      <td>angle</td>\n",
       "      <td>tBodyGyroMean</td>\n",
       "      <td>gravityMean</td>\n",
       "      <td>angle(tBodyGyroMean,gravityMean)</td>\n",
       "    </tr>\n",
       "    <tr>\n",
       "      <th>557</th>\n",
       "      <td>angle</td>\n",
       "      <td>tBodyGyroJerkMean</td>\n",
       "      <td>gravityMean</td>\n",
       "      <td>angle(tBodyGyroJerkMean,gravityMean)</td>\n",
       "    </tr>\n",
       "    <tr>\n",
       "      <th>558</th>\n",
       "      <td>angle</td>\n",
       "      <td>X</td>\n",
       "      <td>gravityMean</td>\n",
       "      <td>angle(X,gravityMean)</td>\n",
       "    </tr>\n",
       "    <tr>\n",
       "      <th>559</th>\n",
       "      <td>angle</td>\n",
       "      <td>Y</td>\n",
       "      <td>gravityMean</td>\n",
       "      <td>angle(Y,gravityMean)</td>\n",
       "    </tr>\n",
       "    <tr>\n",
       "      <th>560</th>\n",
       "      <td>angle</td>\n",
       "      <td>Z</td>\n",
       "      <td>gravityMean</td>\n",
       "      <td>angle(Z,gravityMean)</td>\n",
       "    </tr>\n",
       "  </tbody>\n",
       "</table>\n",
       "<p>561 rows × 4 columns</p>\n",
       "</div>"
      ],
      "text/plain": [
       "       sensor                agg         axis  \\\n",
       "0    tBodyAcc             mean()            X   \n",
       "1    tBodyAcc             mean()            Y   \n",
       "2    tBodyAcc             mean()            Z   \n",
       "3    tBodyAcc              std()            X   \n",
       "4    tBodyAcc              std()            Y   \n",
       "..        ...                ...          ...   \n",
       "556     angle      tBodyGyroMean  gravityMean   \n",
       "557     angle  tBodyGyroJerkMean  gravityMean   \n",
       "558     angle                  X  gravityMean   \n",
       "559     angle                  Y  gravityMean   \n",
       "560     angle                  Z  gravityMean   \n",
       "\n",
       "                             feature_name  \n",
       "0                       tBodyAcc-mean()-X  \n",
       "1                       tBodyAcc-mean()-Y  \n",
       "2                       tBodyAcc-mean()-Z  \n",
       "3                        tBodyAcc-std()-X  \n",
       "4                        tBodyAcc-std()-Y  \n",
       "..                                    ...  \n",
       "556      angle(tBodyGyroMean,gravityMean)  \n",
       "557  angle(tBodyGyroJerkMean,gravityMean)  \n",
       "558                  angle(X,gravityMean)  \n",
       "559                  angle(Y,gravityMean)  \n",
       "560                  angle(Z,gravityMean)  \n",
       "\n",
       "[561 rows x 4 columns]"
      ]
     },
     "execution_count": 8,
     "metadata": {},
     "output_type": "execute_result"
    }
   ],
   "source": [
    "df_feature"
   ]
  },
  {
   "cell_type": "code",
   "execution_count": null,
   "metadata": {},
   "outputs": [],
   "source": []
  },
  {
   "cell_type": "code",
   "execution_count": 9,
   "metadata": {},
   "outputs": [
    {
     "data": {
      "text/plain": [
       "Index(['tBodyAcc-mean()-X', 'tBodyAcc-mean()-Y', 'tBodyAcc-mean()-Z',\n",
       "       'tBodyAcc-std()-X', 'tBodyAcc-std()-Y', 'tBodyAcc-std()-Z',\n",
       "       'tBodyAcc-mad()-X', 'tBodyAcc-mad()-Y', 'tBodyAcc-mad()-Z',\n",
       "       'tBodyAcc-max()-X',\n",
       "       ...\n",
       "       'fBodyBodyGyroJerkMag-skewness()', 'fBodyBodyGyroJerkMag-kurtosis()',\n",
       "       'angle(tBodyAccMean,gravity)', 'angle(tBodyAccJerkMean),gravityMean)',\n",
       "       'angle(tBodyGyroMean,gravityMean)',\n",
       "       'angle(tBodyGyroJerkMean,gravityMean)', 'angle(X,gravityMean)',\n",
       "       'angle(Y,gravityMean)', 'angle(Z,gravityMean)', 'Activity'],\n",
       "      dtype='object', length=562)"
      ]
     },
     "execution_count": 9,
     "metadata": {},
     "output_type": "execute_result"
    }
   ],
   "source": [
    "# subject 삭제\n",
    "df_train.drop('subject', axis=1, inplace=True)\n",
    "df_test.drop('subject', axis=1, inplace=True)\n",
    "df_train.columns"
   ]
  },
  {
   "cell_type": "code",
   "execution_count": 10,
   "metadata": {
    "executionInfo": {
     "elapsed": 685,
     "status": "ok",
     "timestamp": 1682560234162,
     "user": {
      "displayName": "허신 - Business Intelligence",
      "userId": "11511914061488776232"
     },
     "user_tz": -540
    },
    "id": "uTi4ZuDWDlem"
   },
   "outputs": [
    {
     "data": {
      "text/plain": [
       "Index(['tBodyAcc-mean()-X', 'tBodyAcc-mean()-Y', 'tBodyAcc-mean()-Z',\n",
       "       'tBodyAcc-std()-X', 'tBodyAcc-std()-Y', 'tBodyAcc-std()-Z',\n",
       "       'tBodyAcc-mad()-X', 'tBodyAcc-mad()-Y', 'tBodyAcc-mad()-Z',\n",
       "       'tBodyAcc-max()-X',\n",
       "       ...\n",
       "       'fBodyBodyGyroJerkMag-skewness()', 'fBodyBodyGyroJerkMag-kurtosis()',\n",
       "       'angle(tBodyAccMean,gravity)', 'angle(tBodyAccJerkMean),gravityMean)',\n",
       "       'angle(tBodyGyroMean,gravityMean)',\n",
       "       'angle(tBodyGyroJerkMean,gravityMean)', 'angle(X,gravityMean)',\n",
       "       'angle(Y,gravityMean)', 'angle(Z,gravityMean)', 'Activity'],\n",
       "      dtype='object', length=562)"
      ]
     },
     "execution_count": 10,
     "metadata": {},
     "output_type": "execute_result"
    }
   ],
   "source": [
    "df_test.columns"
   ]
  },
  {
   "cell_type": "code",
   "execution_count": null,
   "metadata": {},
   "outputs": [],
   "source": []
  },
  {
   "cell_type": "markdown",
   "metadata": {
    "id": "MCdVOxN8BQCc"
   },
   "source": [
    "## 2.데이터 분석 : 기본정보 살펴보기"
   ]
  },
  {
   "cell_type": "markdown",
   "metadata": {
    "id": "JsX1zLaIXwbo"
   },
   "source": [
    "### (1) 기본정보 확인하기\n"
   ]
  },
  {
   "cell_type": "markdown",
   "metadata": {
    "id": "8Z6Fmjg7oizl"
   },
   "source": [
    "* **세부 요구사항**\n",
    "    - 불러온 데이터의 형태, 기초통계량, 정보 등을 확인합니다."
   ]
  },
  {
   "cell_type": "code",
   "execution_count": 11,
   "metadata": {},
   "outputs": [
    {
     "data": {
      "text/plain": [
       "(5881, 562)"
      ]
     },
     "execution_count": 11,
     "metadata": {},
     "output_type": "execute_result"
    }
   ],
   "source": [
    "df_train.shape"
   ]
  },
  {
   "cell_type": "code",
   "execution_count": null,
   "metadata": {},
   "outputs": [],
   "source": []
  },
  {
   "cell_type": "code",
   "execution_count": 12,
   "metadata": {
    "colab": {
     "base_uri": "https://localhost:8080/"
    },
    "executionInfo": {
     "elapsed": 668,
     "status": "ok",
     "timestamp": 1682560238293,
     "user": {
      "displayName": "허신 - Business Intelligence",
      "userId": "11511914061488776232"
     },
     "user_tz": -540
    },
    "id": "t2GW6WTJE60s",
    "outputId": "57c2ea10-c4ec-47ee-ca05-88c6910d7af5"
   },
   "outputs": [
    {
     "data": {
      "text/html": [
       "<div>\n",
       "<style scoped>\n",
       "    .dataframe tbody tr th:only-of-type {\n",
       "        vertical-align: middle;\n",
       "    }\n",
       "\n",
       "    .dataframe tbody tr th {\n",
       "        vertical-align: top;\n",
       "    }\n",
       "\n",
       "    .dataframe thead th {\n",
       "        text-align: right;\n",
       "    }\n",
       "</style>\n",
       "<table border=\"1\" class=\"dataframe\">\n",
       "  <thead>\n",
       "    <tr style=\"text-align: right;\">\n",
       "      <th></th>\n",
       "      <th>tBodyAcc-mean()-X</th>\n",
       "      <th>tBodyAcc-mean()-Y</th>\n",
       "      <th>tBodyAcc-mean()-Z</th>\n",
       "      <th>tBodyAcc-std()-X</th>\n",
       "      <th>tBodyAcc-std()-Y</th>\n",
       "      <th>tBodyAcc-std()-Z</th>\n",
       "      <th>tBodyAcc-mad()-X</th>\n",
       "      <th>tBodyAcc-mad()-Y</th>\n",
       "      <th>tBodyAcc-mad()-Z</th>\n",
       "      <th>tBodyAcc-max()-X</th>\n",
       "      <th>...</th>\n",
       "      <th>fBodyBodyGyroJerkMag-meanFreq()</th>\n",
       "      <th>fBodyBodyGyroJerkMag-skewness()</th>\n",
       "      <th>fBodyBodyGyroJerkMag-kurtosis()</th>\n",
       "      <th>angle(tBodyAccMean,gravity)</th>\n",
       "      <th>angle(tBodyAccJerkMean),gravityMean)</th>\n",
       "      <th>angle(tBodyGyroMean,gravityMean)</th>\n",
       "      <th>angle(tBodyGyroJerkMean,gravityMean)</th>\n",
       "      <th>angle(X,gravityMean)</th>\n",
       "      <th>angle(Y,gravityMean)</th>\n",
       "      <th>angle(Z,gravityMean)</th>\n",
       "    </tr>\n",
       "  </thead>\n",
       "  <tbody>\n",
       "    <tr>\n",
       "      <th>count</th>\n",
       "      <td>5881.000000</td>\n",
       "      <td>5881.000000</td>\n",
       "      <td>5881.000000</td>\n",
       "      <td>5881.000000</td>\n",
       "      <td>5881.000000</td>\n",
       "      <td>5881.000000</td>\n",
       "      <td>5881.000000</td>\n",
       "      <td>5881.000000</td>\n",
       "      <td>5881.000000</td>\n",
       "      <td>5881.000000</td>\n",
       "      <td>...</td>\n",
       "      <td>5881.000000</td>\n",
       "      <td>5881.000000</td>\n",
       "      <td>5881.000000</td>\n",
       "      <td>5881.000000</td>\n",
       "      <td>5881.000000</td>\n",
       "      <td>5881.000000</td>\n",
       "      <td>5881.000000</td>\n",
       "      <td>5881.000000</td>\n",
       "      <td>5881.000000</td>\n",
       "      <td>5881.000000</td>\n",
       "    </tr>\n",
       "    <tr>\n",
       "      <th>mean</th>\n",
       "      <td>0.274811</td>\n",
       "      <td>-0.017799</td>\n",
       "      <td>-0.109396</td>\n",
       "      <td>-0.603138</td>\n",
       "      <td>-0.509815</td>\n",
       "      <td>-0.604058</td>\n",
       "      <td>-0.628151</td>\n",
       "      <td>-0.525944</td>\n",
       "      <td>-0.605374</td>\n",
       "      <td>-0.465490</td>\n",
       "      <td>...</td>\n",
       "      <td>0.126955</td>\n",
       "      <td>-0.305883</td>\n",
       "      <td>-0.623548</td>\n",
       "      <td>0.008524</td>\n",
       "      <td>-0.001185</td>\n",
       "      <td>0.009340</td>\n",
       "      <td>-0.007099</td>\n",
       "      <td>-0.491501</td>\n",
       "      <td>0.059299</td>\n",
       "      <td>-0.054594</td>\n",
       "    </tr>\n",
       "    <tr>\n",
       "      <th>std</th>\n",
       "      <td>0.067614</td>\n",
       "      <td>0.039422</td>\n",
       "      <td>0.058373</td>\n",
       "      <td>0.448807</td>\n",
       "      <td>0.501815</td>\n",
       "      <td>0.417319</td>\n",
       "      <td>0.424345</td>\n",
       "      <td>0.485115</td>\n",
       "      <td>0.413043</td>\n",
       "      <td>0.544995</td>\n",
       "      <td>...</td>\n",
       "      <td>0.249176</td>\n",
       "      <td>0.322808</td>\n",
       "      <td>0.310371</td>\n",
       "      <td>0.339730</td>\n",
       "      <td>0.447197</td>\n",
       "      <td>0.608190</td>\n",
       "      <td>0.476738</td>\n",
       "      <td>0.509069</td>\n",
       "      <td>0.297340</td>\n",
       "      <td>0.278479</td>\n",
       "    </tr>\n",
       "    <tr>\n",
       "      <th>min</th>\n",
       "      <td>-0.503823</td>\n",
       "      <td>-0.684893</td>\n",
       "      <td>-1.000000</td>\n",
       "      <td>-1.000000</td>\n",
       "      <td>-0.999844</td>\n",
       "      <td>-0.999667</td>\n",
       "      <td>-1.000000</td>\n",
       "      <td>-0.999419</td>\n",
       "      <td>-1.000000</td>\n",
       "      <td>-1.000000</td>\n",
       "      <td>...</td>\n",
       "      <td>-0.965725</td>\n",
       "      <td>-0.979261</td>\n",
       "      <td>-0.999765</td>\n",
       "      <td>-0.976580</td>\n",
       "      <td>-1.000000</td>\n",
       "      <td>-1.000000</td>\n",
       "      <td>-1.000000</td>\n",
       "      <td>-1.000000</td>\n",
       "      <td>-1.000000</td>\n",
       "      <td>-0.980143</td>\n",
       "    </tr>\n",
       "    <tr>\n",
       "      <th>25%</th>\n",
       "      <td>0.262919</td>\n",
       "      <td>-0.024877</td>\n",
       "      <td>-0.121051</td>\n",
       "      <td>-0.992774</td>\n",
       "      <td>-0.977680</td>\n",
       "      <td>-0.980127</td>\n",
       "      <td>-0.993602</td>\n",
       "      <td>-0.977865</td>\n",
       "      <td>-0.980112</td>\n",
       "      <td>-0.936067</td>\n",
       "      <td>...</td>\n",
       "      <td>-0.021610</td>\n",
       "      <td>-0.541969</td>\n",
       "      <td>-0.845985</td>\n",
       "      <td>-0.122361</td>\n",
       "      <td>-0.294369</td>\n",
       "      <td>-0.481718</td>\n",
       "      <td>-0.373345</td>\n",
       "      <td>-0.811397</td>\n",
       "      <td>-0.018203</td>\n",
       "      <td>-0.141555</td>\n",
       "    </tr>\n",
       "    <tr>\n",
       "      <th>50%</th>\n",
       "      <td>0.277154</td>\n",
       "      <td>-0.017221</td>\n",
       "      <td>-0.108781</td>\n",
       "      <td>-0.943933</td>\n",
       "      <td>-0.844575</td>\n",
       "      <td>-0.856352</td>\n",
       "      <td>-0.948501</td>\n",
       "      <td>-0.849266</td>\n",
       "      <td>-0.849896</td>\n",
       "      <td>-0.878729</td>\n",
       "      <td>...</td>\n",
       "      <td>0.133887</td>\n",
       "      <td>-0.342923</td>\n",
       "      <td>-0.712677</td>\n",
       "      <td>0.010278</td>\n",
       "      <td>0.005146</td>\n",
       "      <td>0.011448</td>\n",
       "      <td>-0.000847</td>\n",
       "      <td>-0.709441</td>\n",
       "      <td>0.182893</td>\n",
       "      <td>0.003951</td>\n",
       "    </tr>\n",
       "    <tr>\n",
       "      <th>75%</th>\n",
       "      <td>0.288526</td>\n",
       "      <td>-0.010920</td>\n",
       "      <td>-0.098163</td>\n",
       "      <td>-0.242130</td>\n",
       "      <td>-0.034499</td>\n",
       "      <td>-0.262690</td>\n",
       "      <td>-0.291138</td>\n",
       "      <td>-0.068857</td>\n",
       "      <td>-0.268539</td>\n",
       "      <td>-0.013690</td>\n",
       "      <td>...</td>\n",
       "      <td>0.288944</td>\n",
       "      <td>-0.127371</td>\n",
       "      <td>-0.501158</td>\n",
       "      <td>0.154985</td>\n",
       "      <td>0.285030</td>\n",
       "      <td>0.499857</td>\n",
       "      <td>0.356236</td>\n",
       "      <td>-0.511330</td>\n",
       "      <td>0.248435</td>\n",
       "      <td>0.111932</td>\n",
       "    </tr>\n",
       "    <tr>\n",
       "      <th>max</th>\n",
       "      <td>1.000000</td>\n",
       "      <td>1.000000</td>\n",
       "      <td>1.000000</td>\n",
       "      <td>1.000000</td>\n",
       "      <td>0.916238</td>\n",
       "      <td>1.000000</td>\n",
       "      <td>1.000000</td>\n",
       "      <td>0.967664</td>\n",
       "      <td>1.000000</td>\n",
       "      <td>1.000000</td>\n",
       "      <td>...</td>\n",
       "      <td>0.946700</td>\n",
       "      <td>0.989538</td>\n",
       "      <td>0.956845</td>\n",
       "      <td>1.000000</td>\n",
       "      <td>1.000000</td>\n",
       "      <td>0.998702</td>\n",
       "      <td>0.996078</td>\n",
       "      <td>0.977344</td>\n",
       "      <td>0.478157</td>\n",
       "      <td>1.000000</td>\n",
       "    </tr>\n",
       "  </tbody>\n",
       "</table>\n",
       "<p>8 rows × 561 columns</p>\n",
       "</div>"
      ],
      "text/plain": [
       "       tBodyAcc-mean()-X  tBodyAcc-mean()-Y  tBodyAcc-mean()-Z  \\\n",
       "count        5881.000000        5881.000000        5881.000000   \n",
       "mean            0.274811          -0.017799          -0.109396   \n",
       "std             0.067614           0.039422           0.058373   \n",
       "min            -0.503823          -0.684893          -1.000000   \n",
       "25%             0.262919          -0.024877          -0.121051   \n",
       "50%             0.277154          -0.017221          -0.108781   \n",
       "75%             0.288526          -0.010920          -0.098163   \n",
       "max             1.000000           1.000000           1.000000   \n",
       "\n",
       "       tBodyAcc-std()-X  tBodyAcc-std()-Y  tBodyAcc-std()-Z  tBodyAcc-mad()-X  \\\n",
       "count       5881.000000       5881.000000       5881.000000       5881.000000   \n",
       "mean          -0.603138         -0.509815         -0.604058         -0.628151   \n",
       "std            0.448807          0.501815          0.417319          0.424345   \n",
       "min           -1.000000         -0.999844         -0.999667         -1.000000   \n",
       "25%           -0.992774         -0.977680         -0.980127         -0.993602   \n",
       "50%           -0.943933         -0.844575         -0.856352         -0.948501   \n",
       "75%           -0.242130         -0.034499         -0.262690         -0.291138   \n",
       "max            1.000000          0.916238          1.000000          1.000000   \n",
       "\n",
       "       tBodyAcc-mad()-Y  tBodyAcc-mad()-Z  tBodyAcc-max()-X  ...  \\\n",
       "count       5881.000000       5881.000000       5881.000000  ...   \n",
       "mean          -0.525944         -0.605374         -0.465490  ...   \n",
       "std            0.485115          0.413043          0.544995  ...   \n",
       "min           -0.999419         -1.000000         -1.000000  ...   \n",
       "25%           -0.977865         -0.980112         -0.936067  ...   \n",
       "50%           -0.849266         -0.849896         -0.878729  ...   \n",
       "75%           -0.068857         -0.268539         -0.013690  ...   \n",
       "max            0.967664          1.000000          1.000000  ...   \n",
       "\n",
       "       fBodyBodyGyroJerkMag-meanFreq()  fBodyBodyGyroJerkMag-skewness()  \\\n",
       "count                      5881.000000                      5881.000000   \n",
       "mean                          0.126955                        -0.305883   \n",
       "std                           0.249176                         0.322808   \n",
       "min                          -0.965725                        -0.979261   \n",
       "25%                          -0.021610                        -0.541969   \n",
       "50%                           0.133887                        -0.342923   \n",
       "75%                           0.288944                        -0.127371   \n",
       "max                           0.946700                         0.989538   \n",
       "\n",
       "       fBodyBodyGyroJerkMag-kurtosis()  angle(tBodyAccMean,gravity)  \\\n",
       "count                      5881.000000                  5881.000000   \n",
       "mean                         -0.623548                     0.008524   \n",
       "std                           0.310371                     0.339730   \n",
       "min                          -0.999765                    -0.976580   \n",
       "25%                          -0.845985                    -0.122361   \n",
       "50%                          -0.712677                     0.010278   \n",
       "75%                          -0.501158                     0.154985   \n",
       "max                           0.956845                     1.000000   \n",
       "\n",
       "       angle(tBodyAccJerkMean),gravityMean)  angle(tBodyGyroMean,gravityMean)  \\\n",
       "count                           5881.000000                       5881.000000   \n",
       "mean                              -0.001185                          0.009340   \n",
       "std                                0.447197                          0.608190   \n",
       "min                               -1.000000                         -1.000000   \n",
       "25%                               -0.294369                         -0.481718   \n",
       "50%                                0.005146                          0.011448   \n",
       "75%                                0.285030                          0.499857   \n",
       "max                                1.000000                          0.998702   \n",
       "\n",
       "       angle(tBodyGyroJerkMean,gravityMean)  angle(X,gravityMean)  \\\n",
       "count                           5881.000000           5881.000000   \n",
       "mean                              -0.007099             -0.491501   \n",
       "std                                0.476738              0.509069   \n",
       "min                               -1.000000             -1.000000   \n",
       "25%                               -0.373345             -0.811397   \n",
       "50%                               -0.000847             -0.709441   \n",
       "75%                                0.356236             -0.511330   \n",
       "max                                0.996078              0.977344   \n",
       "\n",
       "       angle(Y,gravityMean)  angle(Z,gravityMean)  \n",
       "count           5881.000000           5881.000000  \n",
       "mean               0.059299             -0.054594  \n",
       "std                0.297340              0.278479  \n",
       "min               -1.000000             -0.980143  \n",
       "25%               -0.018203             -0.141555  \n",
       "50%                0.182893              0.003951  \n",
       "75%                0.248435              0.111932  \n",
       "max                0.478157              1.000000  \n",
       "\n",
       "[8 rows x 561 columns]"
      ]
     },
     "execution_count": 12,
     "metadata": {},
     "output_type": "execute_result"
    }
   ],
   "source": [
    "df_train.describe()"
   ]
  },
  {
   "cell_type": "code",
   "execution_count": null,
   "metadata": {},
   "outputs": [],
   "source": []
  },
  {
   "cell_type": "code",
   "execution_count": 13,
   "metadata": {
    "colab": {
     "base_uri": "https://localhost:8080/",
     "height": 438
    },
    "executionInfo": {
     "elapsed": 1450,
     "status": "ok",
     "timestamp": 1682560244129,
     "user": {
      "displayName": "허신 - Business Intelligence",
      "userId": "11511914061488776232"
     },
     "user_tz": -540
    },
    "id": "rpIGL5XNFL6r",
    "outputId": "e412d30d-0100-4442-9d14-9589e55fb082"
   },
   "outputs": [
    {
     "name": "stdout",
     "output_type": "stream",
     "text": [
      "<class 'pandas.core.frame.DataFrame'>\n",
      "RangeIndex: 5881 entries, 0 to 5880\n",
      "Data columns (total 61 columns):\n",
      " #   Column                                Non-Null Count  Dtype  \n",
      "---  ------                                --------------  -----  \n",
      " 0   fBodyGyro-bandsEnergy()-25,48.2       5881 non-null   float64\n",
      " 1   fBodyAccMag-mean()                    5881 non-null   float64\n",
      " 2   fBodyAccMag-std()                     5881 non-null   float64\n",
      " 3   fBodyAccMag-mad()                     5881 non-null   float64\n",
      " 4   fBodyAccMag-max()                     5881 non-null   float64\n",
      " 5   fBodyAccMag-min()                     5881 non-null   float64\n",
      " 6   fBodyAccMag-sma()                     5881 non-null   float64\n",
      " 7   fBodyAccMag-energy()                  5881 non-null   float64\n",
      " 8   fBodyAccMag-iqr()                     5881 non-null   float64\n",
      " 9   fBodyAccMag-entropy()                 5881 non-null   float64\n",
      " 10  fBodyAccMag-maxInds                   5881 non-null   float64\n",
      " 11  fBodyAccMag-meanFreq()                5881 non-null   float64\n",
      " 12  fBodyAccMag-skewness()                5881 non-null   float64\n",
      " 13  fBodyAccMag-kurtosis()                5881 non-null   float64\n",
      " 14  fBodyBodyAccJerkMag-mean()            5881 non-null   float64\n",
      " 15  fBodyBodyAccJerkMag-std()             5881 non-null   float64\n",
      " 16  fBodyBodyAccJerkMag-mad()             5881 non-null   float64\n",
      " 17  fBodyBodyAccJerkMag-max()             5881 non-null   float64\n",
      " 18  fBodyBodyAccJerkMag-min()             5881 non-null   float64\n",
      " 19  fBodyBodyAccJerkMag-sma()             5881 non-null   float64\n",
      " 20  fBodyBodyAccJerkMag-energy()          5881 non-null   float64\n",
      " 21  fBodyBodyAccJerkMag-iqr()             5881 non-null   float64\n",
      " 22  fBodyBodyAccJerkMag-entropy()         5881 non-null   float64\n",
      " 23  fBodyBodyAccJerkMag-maxInds           5881 non-null   float64\n",
      " 24  fBodyBodyAccJerkMag-meanFreq()        5881 non-null   float64\n",
      " 25  fBodyBodyAccJerkMag-skewness()        5881 non-null   float64\n",
      " 26  fBodyBodyAccJerkMag-kurtosis()        5881 non-null   float64\n",
      " 27  fBodyBodyGyroMag-mean()               5881 non-null   float64\n",
      " 28  fBodyBodyGyroMag-std()                5881 non-null   float64\n",
      " 29  fBodyBodyGyroMag-mad()                5881 non-null   float64\n",
      " 30  fBodyBodyGyroMag-max()                5881 non-null   float64\n",
      " 31  fBodyBodyGyroMag-min()                5881 non-null   float64\n",
      " 32  fBodyBodyGyroMag-sma()                5881 non-null   float64\n",
      " 33  fBodyBodyGyroMag-energy()             5881 non-null   float64\n",
      " 34  fBodyBodyGyroMag-iqr()                5881 non-null   float64\n",
      " 35  fBodyBodyGyroMag-entropy()            5881 non-null   float64\n",
      " 36  fBodyBodyGyroMag-maxInds              5881 non-null   float64\n",
      " 37  fBodyBodyGyroMag-meanFreq()           5881 non-null   float64\n",
      " 38  fBodyBodyGyroMag-skewness()           5881 non-null   float64\n",
      " 39  fBodyBodyGyroMag-kurtosis()           5881 non-null   float64\n",
      " 40  fBodyBodyGyroJerkMag-mean()           5881 non-null   float64\n",
      " 41  fBodyBodyGyroJerkMag-std()            5881 non-null   float64\n",
      " 42  fBodyBodyGyroJerkMag-mad()            5881 non-null   float64\n",
      " 43  fBodyBodyGyroJerkMag-max()            5881 non-null   float64\n",
      " 44  fBodyBodyGyroJerkMag-min()            5881 non-null   float64\n",
      " 45  fBodyBodyGyroJerkMag-sma()            5881 non-null   float64\n",
      " 46  fBodyBodyGyroJerkMag-energy()         5881 non-null   float64\n",
      " 47  fBodyBodyGyroJerkMag-iqr()            5881 non-null   float64\n",
      " 48  fBodyBodyGyroJerkMag-entropy()        5881 non-null   float64\n",
      " 49  fBodyBodyGyroJerkMag-maxInds          5881 non-null   float64\n",
      " 50  fBodyBodyGyroJerkMag-meanFreq()       5881 non-null   float64\n",
      " 51  fBodyBodyGyroJerkMag-skewness()       5881 non-null   float64\n",
      " 52  fBodyBodyGyroJerkMag-kurtosis()       5881 non-null   float64\n",
      " 53  angle(tBodyAccMean,gravity)           5881 non-null   float64\n",
      " 54  angle(tBodyAccJerkMean),gravityMean)  5881 non-null   float64\n",
      " 55  angle(tBodyGyroMean,gravityMean)      5881 non-null   float64\n",
      " 56  angle(tBodyGyroJerkMean,gravityMean)  5881 non-null   float64\n",
      " 57  angle(X,gravityMean)                  5881 non-null   float64\n",
      " 58  angle(Y,gravityMean)                  5881 non-null   float64\n",
      " 59  angle(Z,gravityMean)                  5881 non-null   float64\n",
      " 60  Activity                              5881 non-null   object \n",
      "dtypes: float64(60), object(1)\n",
      "memory usage: 2.7+ MB\n"
     ]
    }
   ],
   "source": [
    "# df_train.iloc[:,101:201].info()\n",
    "# df_train.iloc[:,201:301].info()\n",
    "# df_train.iloc[:,301:401].info()\n",
    "# df_train.iloc[:,401:501].info()\n",
    "df_train.iloc[:,501:563].info()"
   ]
  },
  {
   "cell_type": "code",
   "execution_count": null,
   "metadata": {},
   "outputs": [],
   "source": []
  },
  {
   "cell_type": "markdown",
   "metadata": {
    "id": "JS-uDFHkt7rg"
   },
   "source": [
    "### (2) 목표 변수 확인하기"
   ]
  },
  {
   "cell_type": "markdown",
   "metadata": {
    "id": "QivYs5qqMiu0"
   },
   "source": [
    "* **세부 요구사항**\n",
    "    - target인 'Activity'에 대해 단변량 분석을 수행합니다.\n",
    "    - 범주의 종류, 범주별 빈도수 및 비율 등"
   ]
  },
  {
   "cell_type": "code",
   "execution_count": 14,
   "metadata": {
    "colab": {
     "base_uri": "https://localhost:8080/"
    },
    "executionInfo": {
     "elapsed": 8,
     "status": "ok",
     "timestamp": 1682560249313,
     "user": {
      "displayName": "허신 - Business Intelligence",
      "userId": "11511914061488776232"
     },
     "user_tz": -540
    },
    "id": "5fTKwVPRK7VZ",
    "outputId": "823f432a-9734-415b-8e16-830e97506bc7"
   },
   "outputs": [
    {
     "data": {
      "text/plain": [
       "array(['STANDING', 'LAYING', 'STANDING', ..., 'LAYING',\n",
       "       'WALKING_UPSTAIRS', 'SITTING'], dtype=object)"
      ]
     },
     "execution_count": 14,
     "metadata": {},
     "output_type": "execute_result"
    }
   ],
   "source": [
    "df_train['Activity'].values"
   ]
  },
  {
   "cell_type": "code",
   "execution_count": 15,
   "metadata": {
    "colab": {
     "base_uri": "https://localhost:8080/"
    },
    "executionInfo": {
     "elapsed": 8,
     "status": "ok",
     "timestamp": 1682560249314,
     "user": {
      "displayName": "허신 - Business Intelligence",
      "userId": "11511914061488776232"
     },
     "user_tz": -540
    },
    "id": "N_KYcqnfPLoE",
    "outputId": "10db22ef-602d-4213-bde8-062c5977b5c6"
   },
   "outputs": [
    {
     "data": {
      "text/plain": [
       "LAYING                18.959361\n",
       "STANDING              18.483251\n",
       "SITTING               17.548036\n",
       "WALKING               16.969903\n",
       "WALKING_UPSTAIRS      14.589356\n",
       "WALKING_DOWNSTAIRS    13.450094\n",
       "Name: Activity, dtype: float64"
      ]
     },
     "execution_count": 15,
     "metadata": {},
     "output_type": "execute_result"
    }
   ],
   "source": [
    "df_train['Activity'].value_counts() / 5881 *100\n",
    "# (normalize=True)"
   ]
  },
  {
   "cell_type": "code",
   "execution_count": null,
   "metadata": {},
   "outputs": [],
   "source": []
  },
  {
   "cell_type": "code",
   "execution_count": 16,
   "metadata": {
    "colab": {
     "base_uri": "https://localhost:8080/",
     "height": 601
    },
    "executionInfo": {
     "elapsed": 5,
     "status": "ok",
     "timestamp": 1682560249314,
     "user": {
      "displayName": "허신 - Business Intelligence",
      "userId": "11511914061488776232"
     },
     "user_tz": -540
    },
    "id": "X7TPpkCrPXx3",
    "outputId": "f26568fe-a3ce-4711-c6af-fa75b93380e0"
   },
   "outputs": [],
   "source": [
    "# 시각화 ##"
   ]
  },
  {
   "cell_type": "markdown",
   "metadata": {
    "id": "gT0VQr2lFo2C"
   },
   "source": [
    "### (3) 센서 그룹 데이터: features"
   ]
  },
  {
   "cell_type": "markdown",
   "metadata": {
    "id": "wlmfrOTFV6a-"
   },
   "source": [
    "* **세부 요구사항**\n",
    "    - feature 이름에 대한 계층 구조별로 변수의 수를 카운트 해 봅시다.\n",
    "        - sensor 별 변수의 개수\n",
    "        - agg(regation) 별 변수의 개수\n",
    "        - axis 별 변수의 개수"
   ]
  },
  {
   "cell_type": "code",
   "execution_count": 17,
   "metadata": {},
   "outputs": [
    {
     "data": {
      "text/html": [
       "<div>\n",
       "<style scoped>\n",
       "    .dataframe tbody tr th:only-of-type {\n",
       "        vertical-align: middle;\n",
       "    }\n",
       "\n",
       "    .dataframe tbody tr th {\n",
       "        vertical-align: top;\n",
       "    }\n",
       "\n",
       "    .dataframe thead th {\n",
       "        text-align: right;\n",
       "    }\n",
       "</style>\n",
       "<table border=\"1\" class=\"dataframe\">\n",
       "  <thead>\n",
       "    <tr style=\"text-align: right;\">\n",
       "      <th></th>\n",
       "      <th>tBodyAcc-mean()-X</th>\n",
       "      <th>tBodyAcc-mean()-Y</th>\n",
       "      <th>tBodyAcc-mean()-Z</th>\n",
       "      <th>tBodyAcc-std()-X</th>\n",
       "      <th>tBodyAcc-std()-Y</th>\n",
       "      <th>tBodyAcc-std()-Z</th>\n",
       "      <th>tBodyAcc-mad()-X</th>\n",
       "      <th>tBodyAcc-mad()-Y</th>\n",
       "      <th>tBodyAcc-mad()-Z</th>\n",
       "      <th>tBodyAcc-max()-X</th>\n",
       "      <th>...</th>\n",
       "      <th>fBodyBodyGyroJerkMag-skewness()</th>\n",
       "      <th>fBodyBodyGyroJerkMag-kurtosis()</th>\n",
       "      <th>angle(tBodyAccMean,gravity)</th>\n",
       "      <th>angle(tBodyAccJerkMean),gravityMean)</th>\n",
       "      <th>angle(tBodyGyroMean,gravityMean)</th>\n",
       "      <th>angle(tBodyGyroJerkMean,gravityMean)</th>\n",
       "      <th>angle(X,gravityMean)</th>\n",
       "      <th>angle(Y,gravityMean)</th>\n",
       "      <th>angle(Z,gravityMean)</th>\n",
       "      <th>Activity</th>\n",
       "    </tr>\n",
       "  </thead>\n",
       "  <tbody>\n",
       "    <tr>\n",
       "      <th>0</th>\n",
       "      <td>0.288508</td>\n",
       "      <td>-0.009196</td>\n",
       "      <td>-0.103362</td>\n",
       "      <td>-0.988986</td>\n",
       "      <td>-0.962797</td>\n",
       "      <td>-0.967422</td>\n",
       "      <td>-0.989000</td>\n",
       "      <td>-0.962596</td>\n",
       "      <td>-0.965650</td>\n",
       "      <td>-0.929747</td>\n",
       "      <td>...</td>\n",
       "      <td>-0.487737</td>\n",
       "      <td>-0.816696</td>\n",
       "      <td>-0.042494</td>\n",
       "      <td>-0.044218</td>\n",
       "      <td>0.307873</td>\n",
       "      <td>0.072790</td>\n",
       "      <td>-0.601120</td>\n",
       "      <td>0.331298</td>\n",
       "      <td>0.165163</td>\n",
       "      <td>STANDING</td>\n",
       "    </tr>\n",
       "    <tr>\n",
       "      <th>1</th>\n",
       "      <td>0.265757</td>\n",
       "      <td>-0.016576</td>\n",
       "      <td>-0.098163</td>\n",
       "      <td>-0.989551</td>\n",
       "      <td>-0.994636</td>\n",
       "      <td>-0.987435</td>\n",
       "      <td>-0.990189</td>\n",
       "      <td>-0.993870</td>\n",
       "      <td>-0.987558</td>\n",
       "      <td>-0.937337</td>\n",
       "      <td>...</td>\n",
       "      <td>-0.237820</td>\n",
       "      <td>-0.693515</td>\n",
       "      <td>-0.062899</td>\n",
       "      <td>0.388459</td>\n",
       "      <td>-0.765014</td>\n",
       "      <td>0.771524</td>\n",
       "      <td>0.345205</td>\n",
       "      <td>-0.769186</td>\n",
       "      <td>-0.147944</td>\n",
       "      <td>LAYING</td>\n",
       "    </tr>\n",
       "    <tr>\n",
       "      <th>2</th>\n",
       "      <td>0.278709</td>\n",
       "      <td>-0.014511</td>\n",
       "      <td>-0.108717</td>\n",
       "      <td>-0.997720</td>\n",
       "      <td>-0.981088</td>\n",
       "      <td>-0.994008</td>\n",
       "      <td>-0.997934</td>\n",
       "      <td>-0.982187</td>\n",
       "      <td>-0.995017</td>\n",
       "      <td>-0.942584</td>\n",
       "      <td>...</td>\n",
       "      <td>-0.535287</td>\n",
       "      <td>-0.829311</td>\n",
       "      <td>0.000265</td>\n",
       "      <td>-0.525022</td>\n",
       "      <td>-0.891875</td>\n",
       "      <td>0.021528</td>\n",
       "      <td>-0.833564</td>\n",
       "      <td>0.202434</td>\n",
       "      <td>-0.032755</td>\n",
       "      <td>STANDING</td>\n",
       "    </tr>\n",
       "    <tr>\n",
       "      <th>3</th>\n",
       "      <td>0.289795</td>\n",
       "      <td>-0.035536</td>\n",
       "      <td>-0.150354</td>\n",
       "      <td>-0.231727</td>\n",
       "      <td>-0.006412</td>\n",
       "      <td>-0.338117</td>\n",
       "      <td>-0.273557</td>\n",
       "      <td>0.014245</td>\n",
       "      <td>-0.347916</td>\n",
       "      <td>0.008288</td>\n",
       "      <td>...</td>\n",
       "      <td>-0.004012</td>\n",
       "      <td>-0.408956</td>\n",
       "      <td>-0.255125</td>\n",
       "      <td>0.612804</td>\n",
       "      <td>0.747381</td>\n",
       "      <td>-0.072944</td>\n",
       "      <td>-0.695819</td>\n",
       "      <td>0.287154</td>\n",
       "      <td>0.111388</td>\n",
       "      <td>WALKING</td>\n",
       "    </tr>\n",
       "    <tr>\n",
       "      <th>4</th>\n",
       "      <td>0.394807</td>\n",
       "      <td>0.034098</td>\n",
       "      <td>0.091229</td>\n",
       "      <td>0.088489</td>\n",
       "      <td>-0.106636</td>\n",
       "      <td>-0.388502</td>\n",
       "      <td>-0.010469</td>\n",
       "      <td>-0.109680</td>\n",
       "      <td>-0.346372</td>\n",
       "      <td>0.584131</td>\n",
       "      <td>...</td>\n",
       "      <td>-0.157832</td>\n",
       "      <td>-0.563437</td>\n",
       "      <td>-0.044344</td>\n",
       "      <td>-0.845268</td>\n",
       "      <td>-0.974650</td>\n",
       "      <td>-0.887846</td>\n",
       "      <td>-0.705029</td>\n",
       "      <td>0.264952</td>\n",
       "      <td>0.137758</td>\n",
       "      <td>WALKING_DOWNSTAIRS</td>\n",
       "    </tr>\n",
       "  </tbody>\n",
       "</table>\n",
       "<p>5 rows × 562 columns</p>\n",
       "</div>"
      ],
      "text/plain": [
       "   tBodyAcc-mean()-X  tBodyAcc-mean()-Y  tBodyAcc-mean()-Z  tBodyAcc-std()-X  \\\n",
       "0           0.288508          -0.009196          -0.103362         -0.988986   \n",
       "1           0.265757          -0.016576          -0.098163         -0.989551   \n",
       "2           0.278709          -0.014511          -0.108717         -0.997720   \n",
       "3           0.289795          -0.035536          -0.150354         -0.231727   \n",
       "4           0.394807           0.034098           0.091229          0.088489   \n",
       "\n",
       "   tBodyAcc-std()-Y  tBodyAcc-std()-Z  tBodyAcc-mad()-X  tBodyAcc-mad()-Y  \\\n",
       "0         -0.962797         -0.967422         -0.989000         -0.962596   \n",
       "1         -0.994636         -0.987435         -0.990189         -0.993870   \n",
       "2         -0.981088         -0.994008         -0.997934         -0.982187   \n",
       "3         -0.006412         -0.338117         -0.273557          0.014245   \n",
       "4         -0.106636         -0.388502         -0.010469         -0.109680   \n",
       "\n",
       "   tBodyAcc-mad()-Z  tBodyAcc-max()-X  ...  fBodyBodyGyroJerkMag-skewness()  \\\n",
       "0         -0.965650         -0.929747  ...                        -0.487737   \n",
       "1         -0.987558         -0.937337  ...                        -0.237820   \n",
       "2         -0.995017         -0.942584  ...                        -0.535287   \n",
       "3         -0.347916          0.008288  ...                        -0.004012   \n",
       "4         -0.346372          0.584131  ...                        -0.157832   \n",
       "\n",
       "   fBodyBodyGyroJerkMag-kurtosis()  angle(tBodyAccMean,gravity)  \\\n",
       "0                        -0.816696                    -0.042494   \n",
       "1                        -0.693515                    -0.062899   \n",
       "2                        -0.829311                     0.000265   \n",
       "3                        -0.408956                    -0.255125   \n",
       "4                        -0.563437                    -0.044344   \n",
       "\n",
       "   angle(tBodyAccJerkMean),gravityMean)  angle(tBodyGyroMean,gravityMean)  \\\n",
       "0                             -0.044218                          0.307873   \n",
       "1                              0.388459                         -0.765014   \n",
       "2                             -0.525022                         -0.891875   \n",
       "3                              0.612804                          0.747381   \n",
       "4                             -0.845268                         -0.974650   \n",
       "\n",
       "   angle(tBodyGyroJerkMean,gravityMean)  angle(X,gravityMean)  \\\n",
       "0                              0.072790             -0.601120   \n",
       "1                              0.771524              0.345205   \n",
       "2                              0.021528             -0.833564   \n",
       "3                             -0.072944             -0.695819   \n",
       "4                             -0.887846             -0.705029   \n",
       "\n",
       "   angle(Y,gravityMean)  angle(Z,gravityMean)            Activity  \n",
       "0              0.331298              0.165163            STANDING  \n",
       "1             -0.769186             -0.147944              LAYING  \n",
       "2              0.202434             -0.032755            STANDING  \n",
       "3              0.287154              0.111388             WALKING  \n",
       "4              0.264952              0.137758  WALKING_DOWNSTAIRS  \n",
       "\n",
       "[5 rows x 562 columns]"
      ]
     },
     "execution_count": 17,
     "metadata": {},
     "output_type": "execute_result"
    }
   ],
   "source": [
    "df_train.head()"
   ]
  },
  {
   "cell_type": "code",
   "execution_count": 18,
   "metadata": {
    "colab": {
     "base_uri": "https://localhost:8080/"
    },
    "executionInfo": {
     "elapsed": 9,
     "status": "ok",
     "timestamp": 1682560254775,
     "user": {
      "displayName": "허신 - Business Intelligence",
      "userId": "11511914061488776232"
     },
     "user_tz": -540
    },
    "id": "KbNqUQJyFztM",
    "outputId": "ffc63fe0-729e-4251-e459-34d96417e3b5"
   },
   "outputs": [
    {
     "data": {
      "text/plain": [
       "108"
      ]
     },
     "execution_count": 18,
     "metadata": {},
     "output_type": "execute_result"
    }
   ],
   "source": [
    "# 센서1 Acc 가속도\n",
    "columns_with_tBodyAcc = [col for col in df_train.columns if 'tBodyAcc' in col]\n",
    "len(columns_with_tBodyAcc)"
   ]
  },
  {
   "cell_type": "code",
   "execution_count": 19,
   "metadata": {
    "colab": {
     "base_uri": "https://localhost:8080/"
    },
    "executionInfo": {
     "elapsed": 4,
     "status": "ok",
     "timestamp": 1682560254775,
     "user": {
      "displayName": "허신 - Business Intelligence",
      "userId": "11511914061488776232"
     },
     "user_tz": -540
    },
    "id": "60rRSVD-F701",
    "outputId": "dbe287b7-ea3a-49f9-e82f-2b7a3df99987"
   },
   "outputs": [
    {
     "data": {
      "text/plain": [
       "108"
      ]
     },
     "execution_count": 19,
     "metadata": {},
     "output_type": "execute_result"
    }
   ],
   "source": [
    "# 센서2 Gyro 각속도\n",
    "columns_with_tBodyAcc = [col for col in df_train.columns if 'tBodyGyro' in col]\n",
    "len(columns_with_tBodyAcc)"
   ]
  },
  {
   "cell_type": "code",
   "execution_count": 20,
   "metadata": {},
   "outputs": [
    {
     "data": {
      "text/plain": [
       "(5881, 562)"
      ]
     },
     "execution_count": 20,
     "metadata": {},
     "output_type": "execute_result"
    }
   ],
   "source": [
    "df_train.shape"
   ]
  },
  {
   "cell_type": "code",
   "execution_count": null,
   "metadata": {},
   "outputs": [],
   "source": []
  },
  {
   "cell_type": "markdown",
   "metadata": {
    "id": "SELsrRp4Lin5"
   },
   "source": [
    "## 3.데이터 분석 : 미션1"
   ]
  },
  {
   "cell_type": "markdown",
   "metadata": {
    "id": "ESMbIufqXNSt"
   },
   "source": [
    "수많은 feature들을 모두 살펴보는 것은 과도한 시간과 노력이 필요합니다. 그래서 여러분은 **선택과 집중**을 해야 합니다.\n",
    "* 1) **기본 모델을 생성**한 후 **변수 중요도**를 구합니다.   \n",
    "    * random forest 알고리즘 사용을 권장합니다.\n",
    "* 2) **중요한 feature와 중요하지 않은 feature 상위 N개를 선정**하고, 이들을 대상으로 EDA 수행.\n",
    "* 3) **각 feature 그룹별 중요도**도 파악해보며 EDA를 수행  \n",
    "    * Feature 이름에는 계층구조를 담고 있습니다. 그렇다 보니 feature들을 적절하게 그룹으로 묶을 수 있습니다.\n",
    "    * 참고로, feature 그룹의 중요도는 개별 feature 중요도의 합으로 계산할 수 있습니다."
   ]
  },
  {
   "cell_type": "code",
   "execution_count": null,
   "metadata": {},
   "outputs": [],
   "source": []
  },
  {
   "cell_type": "markdown",
   "metadata": {
    "id": "ny-X5nZaXQZk"
   },
   "source": [
    "### (1) 기본모델링 + 변수중요도 추출"
   ]
  },
  {
   "cell_type": "markdown",
   "metadata": {
    "id": "s9HLFlSwXana"
   },
   "source": [
    "* **세부 요구사항**\n",
    "    - 모델링을 위한 기본 전처리를 수행합니다.\n",
    "        - 주어진 데이터에서는 x, y로 나누고 train과 validation 분할 수행\n",
    "    - 트리기반 알고리즘을 이용하여 모델링을 합니다. \n",
    "        - 랜덤포레스트 권장 : 랜덤포레스트는 튜닝 없이 하이퍼파리미터의 기본값로도 적절한 성능의 모델을 생성할 수 있습니다.\n",
    "    - 변수 중요도 추출\n",
    "        - 사용자정의함수로 생성한 plot_feature_importance 을 이용\n",
    "        - 변수중요도 파악및 결과 저장"
   ]
  },
  {
   "cell_type": "markdown",
   "metadata": {
    "id": "6CKLPBniYcmM"
   },
   "source": [
    "#### 1) 데이터 전처리"
   ]
  },
  {
   "cell_type": "code",
   "execution_count": 21,
   "metadata": {
    "executionInfo": {
     "elapsed": 463,
     "status": "ok",
     "timestamp": 1682560268467,
     "user": {
      "displayName": "허신 - Business Intelligence",
      "userId": "11511914061488776232"
     },
     "user_tz": -540
    },
    "id": "C_A1URAmXUlm"
   },
   "outputs": [
    {
     "data": {
      "text/plain": [
       "0                 STANDING\n",
       "1                   LAYING\n",
       "2                 STANDING\n",
       "3                  WALKING\n",
       "4       WALKING_DOWNSTAIRS\n",
       "               ...        \n",
       "5876               SITTING\n",
       "5877      WALKING_UPSTAIRS\n",
       "5878                LAYING\n",
       "5879      WALKING_UPSTAIRS\n",
       "5880               SITTING\n",
       "Name: Activity, Length: 5881, dtype: object"
      ]
     },
     "execution_count": 21,
     "metadata": {},
     "output_type": "execute_result"
    }
   ],
   "source": [
    "df_train['Activity']"
   ]
  },
  {
   "cell_type": "code",
   "execution_count": null,
   "metadata": {},
   "outputs": [],
   "source": []
  },
  {
   "cell_type": "code",
   "execution_count": 22,
   "metadata": {},
   "outputs": [],
   "source": [
    "x = df_train.drop('Activity', axis=1)\n",
    "y = df_train['Activity']\n",
    "\n",
    "# x = pd.get_dummies(df_train, 'Activity', drop_first=True, dtype=int)\n",
    "# x.head()"
   ]
  },
  {
   "cell_type": "code",
   "execution_count": null,
   "metadata": {},
   "outputs": [],
   "source": []
  },
  {
   "cell_type": "code",
   "execution_count": 23,
   "metadata": {},
   "outputs": [],
   "source": [
    "from sklearn.model_selection import train_test_split\n",
    "\n",
    "x_train, x_val, y_train, y_val = train_test_split(x, y, test_size=0.3, shuffle=True, random_state=1)"
   ]
  },
  {
   "cell_type": "code",
   "execution_count": null,
   "metadata": {},
   "outputs": [],
   "source": [
    "\n",
    "\n"
   ]
  },
  {
   "cell_type": "markdown",
   "metadata": {
    "id": "QhjPgXkRYfa5"
   },
   "source": [
    "#### 2) 모델링"
   ]
  },
  {
   "cell_type": "code",
   "execution_count": 24,
   "metadata": {
    "colab": {
     "base_uri": "https://localhost:8080/"
    },
    "executionInfo": {
     "elapsed": 7459,
     "status": "ok",
     "timestamp": 1682560276382,
     "user": {
      "displayName": "허신 - Business Intelligence",
      "userId": "11511914061488776232"
     },
     "user_tz": -540
    },
    "id": "9XeNd-owX6j4",
    "outputId": "a315153b-ec44-4394-a2d7-8658be961b45"
   },
   "outputs": [
    {
     "data": {
      "text/html": [
       "<style>#sk-container-id-1 {color: black;background-color: white;}#sk-container-id-1 pre{padding: 0;}#sk-container-id-1 div.sk-toggleable {background-color: white;}#sk-container-id-1 label.sk-toggleable__label {cursor: pointer;display: block;width: 100%;margin-bottom: 0;padding: 0.3em;box-sizing: border-box;text-align: center;}#sk-container-id-1 label.sk-toggleable__label-arrow:before {content: \"▸\";float: left;margin-right: 0.25em;color: #696969;}#sk-container-id-1 label.sk-toggleable__label-arrow:hover:before {color: black;}#sk-container-id-1 div.sk-estimator:hover label.sk-toggleable__label-arrow:before {color: black;}#sk-container-id-1 div.sk-toggleable__content {max-height: 0;max-width: 0;overflow: hidden;text-align: left;background-color: #f0f8ff;}#sk-container-id-1 div.sk-toggleable__content pre {margin: 0.2em;color: black;border-radius: 0.25em;background-color: #f0f8ff;}#sk-container-id-1 input.sk-toggleable__control:checked~div.sk-toggleable__content {max-height: 200px;max-width: 100%;overflow: auto;}#sk-container-id-1 input.sk-toggleable__control:checked~label.sk-toggleable__label-arrow:before {content: \"▾\";}#sk-container-id-1 div.sk-estimator input.sk-toggleable__control:checked~label.sk-toggleable__label {background-color: #d4ebff;}#sk-container-id-1 div.sk-label input.sk-toggleable__control:checked~label.sk-toggleable__label {background-color: #d4ebff;}#sk-container-id-1 input.sk-hidden--visually {border: 0;clip: rect(1px 1px 1px 1px);clip: rect(1px, 1px, 1px, 1px);height: 1px;margin: -1px;overflow: hidden;padding: 0;position: absolute;width: 1px;}#sk-container-id-1 div.sk-estimator {font-family: monospace;background-color: #f0f8ff;border: 1px dotted black;border-radius: 0.25em;box-sizing: border-box;margin-bottom: 0.5em;}#sk-container-id-1 div.sk-estimator:hover {background-color: #d4ebff;}#sk-container-id-1 div.sk-parallel-item::after {content: \"\";width: 100%;border-bottom: 1px solid gray;flex-grow: 1;}#sk-container-id-1 div.sk-label:hover label.sk-toggleable__label {background-color: #d4ebff;}#sk-container-id-1 div.sk-serial::before {content: \"\";position: absolute;border-left: 1px solid gray;box-sizing: border-box;top: 0;bottom: 0;left: 50%;z-index: 0;}#sk-container-id-1 div.sk-serial {display: flex;flex-direction: column;align-items: center;background-color: white;padding-right: 0.2em;padding-left: 0.2em;position: relative;}#sk-container-id-1 div.sk-item {position: relative;z-index: 1;}#sk-container-id-1 div.sk-parallel {display: flex;align-items: stretch;justify-content: center;background-color: white;position: relative;}#sk-container-id-1 div.sk-item::before, #sk-container-id-1 div.sk-parallel-item::before {content: \"\";position: absolute;border-left: 1px solid gray;box-sizing: border-box;top: 0;bottom: 0;left: 50%;z-index: -1;}#sk-container-id-1 div.sk-parallel-item {display: flex;flex-direction: column;z-index: 1;position: relative;background-color: white;}#sk-container-id-1 div.sk-parallel-item:first-child::after {align-self: flex-end;width: 50%;}#sk-container-id-1 div.sk-parallel-item:last-child::after {align-self: flex-start;width: 50%;}#sk-container-id-1 div.sk-parallel-item:only-child::after {width: 0;}#sk-container-id-1 div.sk-dashed-wrapped {border: 1px dashed gray;margin: 0 0.4em 0.5em 0.4em;box-sizing: border-box;padding-bottom: 0.4em;background-color: white;}#sk-container-id-1 div.sk-label label {font-family: monospace;font-weight: bold;display: inline-block;line-height: 1.2em;}#sk-container-id-1 div.sk-label-container {text-align: center;}#sk-container-id-1 div.sk-container {/* jupyter's `normalize.less` sets `[hidden] { display: none; }` but bootstrap.min.css set `[hidden] { display: none !important; }` so we also need the `!important` here to be able to override the default hidden behavior on the sphinx rendered scikit-learn.org. See: https://github.com/scikit-learn/scikit-learn/issues/21755 */display: inline-block !important;position: relative;}#sk-container-id-1 div.sk-text-repr-fallback {display: none;}</style><div id=\"sk-container-id-1\" class=\"sk-top-container\"><div class=\"sk-text-repr-fallback\"><pre>RandomForestClassifier()</pre><b>In a Jupyter environment, please rerun this cell to show the HTML representation or trust the notebook. <br />On GitHub, the HTML representation is unable to render, please try loading this page with nbviewer.org.</b></div><div class=\"sk-container\" hidden><div class=\"sk-item\"><div class=\"sk-estimator sk-toggleable\"><input class=\"sk-toggleable__control sk-hidden--visually\" id=\"sk-estimator-id-1\" type=\"checkbox\" checked><label for=\"sk-estimator-id-1\" class=\"sk-toggleable__label sk-toggleable__label-arrow\">RandomForestClassifier</label><div class=\"sk-toggleable__content\"><pre>RandomForestClassifier()</pre></div></div></div></div></div>"
      ],
      "text/plain": [
       "RandomForestClassifier()"
      ]
     },
     "execution_count": 24,
     "metadata": {},
     "output_type": "execute_result"
    }
   ],
   "source": [
    "from sklearn.ensemble import RandomForestClassifier\n",
    "model = RandomForestClassifier()\n",
    "model.fit(x_train, y_train)\n",
    "# model.predict(x_train, y_train)"
   ]
  },
  {
   "cell_type": "code",
   "execution_count": null,
   "metadata": {},
   "outputs": [],
   "source": []
  },
  {
   "cell_type": "markdown",
   "metadata": {
    "id": "_ZK9VmWAYiVE"
   },
   "source": [
    "#### 3) 변수 중요도 추출"
   ]
  },
  {
   "cell_type": "code",
   "execution_count": 25,
   "metadata": {
    "colab": {
     "base_uri": "https://localhost:8080/",
     "height": 1000
    },
    "executionInfo": {
     "elapsed": 11997,
     "status": "ok",
     "timestamp": 1682560288378,
     "user": {
      "displayName": "허신 - Business Intelligence",
      "userId": "11511914061488776232"
     },
     "user_tz": -540
    },
    "id": "9xd7bwOVYQ-9",
    "outputId": "d6b6f3f5-410a-44bf-aefd-65be1a82b7e7"
   },
   "outputs": [
    {
     "data": {
      "text/html": [
       "<div>\n",
       "<style scoped>\n",
       "    .dataframe tbody tr th:only-of-type {\n",
       "        vertical-align: middle;\n",
       "    }\n",
       "\n",
       "    .dataframe tbody tr th {\n",
       "        vertical-align: top;\n",
       "    }\n",
       "\n",
       "    .dataframe thead th {\n",
       "        text-align: right;\n",
       "    }\n",
       "</style>\n",
       "<table border=\"1\" class=\"dataframe\">\n",
       "  <thead>\n",
       "    <tr style=\"text-align: right;\">\n",
       "      <th></th>\n",
       "      <th>feature</th>\n",
       "      <th>Importances</th>\n",
       "    </tr>\n",
       "  </thead>\n",
       "  <tbody>\n",
       "    <tr>\n",
       "      <th>52</th>\n",
       "      <td>tGravityAcc-min()-X</td>\n",
       "      <td>0.044952</td>\n",
       "    </tr>\n",
       "    <tr>\n",
       "      <th>558</th>\n",
       "      <td>angle(X,gravityMean)</td>\n",
       "      <td>0.044243</td>\n",
       "    </tr>\n",
       "    <tr>\n",
       "      <th>40</th>\n",
       "      <td>tGravityAcc-mean()-X</td>\n",
       "      <td>0.033507</td>\n",
       "    </tr>\n",
       "    <tr>\n",
       "      <th>50</th>\n",
       "      <td>tGravityAcc-max()-Y</td>\n",
       "      <td>0.026291</td>\n",
       "    </tr>\n",
       "    <tr>\n",
       "      <th>41</th>\n",
       "      <td>tGravityAcc-mean()-Y</td>\n",
       "      <td>0.025577</td>\n",
       "    </tr>\n",
       "  </tbody>\n",
       "</table>\n",
       "</div>"
      ],
      "text/plain": [
       "                  feature  Importances\n",
       "52    tGravityAcc-min()-X     0.044952\n",
       "558  angle(X,gravityMean)     0.044243\n",
       "40   tGravityAcc-mean()-X     0.033507\n",
       "50    tGravityAcc-max()-Y     0.026291\n",
       "41   tGravityAcc-mean()-Y     0.025577"
      ]
     },
     "execution_count": 25,
     "metadata": {},
     "output_type": "execute_result"
    }
   ],
   "source": [
    "df = pd.DataFrame()\n",
    "df['feature'] = list(x)\n",
    "df['Importances'] = model.feature_importances_\n",
    "df.sort_values(by = 'Importances', ascending=False, inplace=True)\n",
    "df[:5]\n",
    "\n",
    "# plt.figure(figsize=(6, 8))\n",
    "# plt.barh(df['feature'], df['Importances'])\n",
    "# plt.show()"
   ]
  },
  {
   "cell_type": "code",
   "execution_count": null,
   "metadata": {},
   "outputs": [],
   "source": []
  },
  {
   "cell_type": "code",
   "execution_count": 26,
   "metadata": {},
   "outputs": [
    {
     "data": {
      "text/html": [
       "<div>\n",
       "<style scoped>\n",
       "    .dataframe tbody tr th:only-of-type {\n",
       "        vertical-align: middle;\n",
       "    }\n",
       "\n",
       "    .dataframe tbody tr th {\n",
       "        vertical-align: top;\n",
       "    }\n",
       "\n",
       "    .dataframe thead th {\n",
       "        text-align: right;\n",
       "    }\n",
       "</style>\n",
       "<table border=\"1\" class=\"dataframe\">\n",
       "  <thead>\n",
       "    <tr style=\"text-align: right;\">\n",
       "      <th></th>\n",
       "      <th>feature_name</th>\n",
       "      <th>feature_importance</th>\n",
       "    </tr>\n",
       "  </thead>\n",
       "  <tbody>\n",
       "    <tr>\n",
       "      <th>0</th>\n",
       "      <td>tGravityAcc-min()-X</td>\n",
       "      <td>0.044952</td>\n",
       "    </tr>\n",
       "    <tr>\n",
       "      <th>1</th>\n",
       "      <td>angle(X,gravityMean)</td>\n",
       "      <td>0.044243</td>\n",
       "    </tr>\n",
       "    <tr>\n",
       "      <th>2</th>\n",
       "      <td>tGravityAcc-mean()-X</td>\n",
       "      <td>0.033507</td>\n",
       "    </tr>\n",
       "    <tr>\n",
       "      <th>3</th>\n",
       "      <td>tGravityAcc-max()-Y</td>\n",
       "      <td>0.026291</td>\n",
       "    </tr>\n",
       "    <tr>\n",
       "      <th>4</th>\n",
       "      <td>tGravityAcc-mean()-Y</td>\n",
       "      <td>0.025577</td>\n",
       "    </tr>\n",
       "  </tbody>\n",
       "</table>\n",
       "</div>"
      ],
      "text/plain": [
       "           feature_name  feature_importance\n",
       "0   tGravityAcc-min()-X            0.044952\n",
       "1  angle(X,gravityMean)            0.044243\n",
       "2  tGravityAcc-mean()-X            0.033507\n",
       "3   tGravityAcc-max()-Y            0.026291\n",
       "4  tGravityAcc-mean()-Y            0.025577"
      ]
     },
     "execution_count": 26,
     "metadata": {},
     "output_type": "execute_result"
    },
    {
     "data": {
      "image/png": "[encoded data removed]",
      "text/plain": [
       "<Figure size 720x360 with 1 Axes>"
      ]
     },
     "metadata": {
      "needs_background": "light"
     },
     "output_type": "display_data"
    }
   ],
   "source": [
    "plot_feature_importance(model.feature_importances_, x_train.columns, topn=5)"
   ]
  },
  {
   "cell_type": "code",
   "execution_count": null,
   "metadata": {},
   "outputs": [],
   "source": []
  },
  {
   "cell_type": "code",
   "execution_count": 27,
   "metadata": {},
   "outputs": [
    {
     "data": {
      "text/html": [
       "<div>\n",
       "<style scoped>\n",
       "    .dataframe tbody tr th:only-of-type {\n",
       "        vertical-align: middle;\n",
       "    }\n",
       "\n",
       "    .dataframe tbody tr th {\n",
       "        vertical-align: top;\n",
       "    }\n",
       "\n",
       "    .dataframe thead th {\n",
       "        text-align: right;\n",
       "    }\n",
       "</style>\n",
       "<table border=\"1\" class=\"dataframe\">\n",
       "  <thead>\n",
       "    <tr style=\"text-align: right;\">\n",
       "      <th></th>\n",
       "      <th>feature</th>\n",
       "      <th>Importances</th>\n",
       "    </tr>\n",
       "  </thead>\n",
       "  <tbody>\n",
       "    <tr>\n",
       "      <th>0</th>\n",
       "      <td>tGravityAcc-min()-X</td>\n",
       "      <td>0.044952</td>\n",
       "    </tr>\n",
       "    <tr>\n",
       "      <th>1</th>\n",
       "      <td>angle(X,gravityMean)</td>\n",
       "      <td>0.044243</td>\n",
       "    </tr>\n",
       "    <tr>\n",
       "      <th>2</th>\n",
       "      <td>tGravityAcc-mean()-X</td>\n",
       "      <td>0.033507</td>\n",
       "    </tr>\n",
       "    <tr>\n",
       "      <th>3</th>\n",
       "      <td>tGravityAcc-max()-Y</td>\n",
       "      <td>0.026291</td>\n",
       "    </tr>\n",
       "    <tr>\n",
       "      <th>4</th>\n",
       "      <td>tGravityAcc-mean()-Y</td>\n",
       "      <td>0.025577</td>\n",
       "    </tr>\n",
       "    <tr>\n",
       "      <th>...</th>\n",
       "      <td>...</td>\n",
       "      <td>...</td>\n",
       "    </tr>\n",
       "    <tr>\n",
       "      <th>556</th>\n",
       "      <td>fBodyAcc-bandsEnergy()-41,48</td>\n",
       "      <td>0.000072</td>\n",
       "    </tr>\n",
       "    <tr>\n",
       "      <th>557</th>\n",
       "      <td>fBodyAccJerk-bandsEnergy()-57,64</td>\n",
       "      <td>0.000071</td>\n",
       "    </tr>\n",
       "    <tr>\n",
       "      <th>558</th>\n",
       "      <td>fBodyGyro-bandsEnergy()-49,56.2</td>\n",
       "      <td>0.000069</td>\n",
       "    </tr>\n",
       "    <tr>\n",
       "      <th>559</th>\n",
       "      <td>fBodyBodyGyroJerkMag-min()</td>\n",
       "      <td>0.000064</td>\n",
       "    </tr>\n",
       "    <tr>\n",
       "      <th>560</th>\n",
       "      <td>fBodyAccJerk-bandsEnergy()-49,64.1</td>\n",
       "      <td>0.000056</td>\n",
       "    </tr>\n",
       "  </tbody>\n",
       "</table>\n",
       "<p>561 rows × 2 columns</p>\n",
       "</div>"
      ],
      "text/plain": [
       "                                feature  Importances\n",
       "0                   tGravityAcc-min()-X     0.044952\n",
       "1                  angle(X,gravityMean)     0.044243\n",
       "2                  tGravityAcc-mean()-X     0.033507\n",
       "3                   tGravityAcc-max()-Y     0.026291\n",
       "4                  tGravityAcc-mean()-Y     0.025577\n",
       "..                                  ...          ...\n",
       "556        fBodyAcc-bandsEnergy()-41,48     0.000072\n",
       "557    fBodyAccJerk-bandsEnergy()-57,64     0.000071\n",
       "558     fBodyGyro-bandsEnergy()-49,56.2     0.000069\n",
       "559          fBodyBodyGyroJerkMag-min()     0.000064\n",
       "560  fBodyAccJerk-bandsEnergy()-49,64.1     0.000056\n",
       "\n",
       "[561 rows x 2 columns]"
      ]
     },
     "execution_count": 27,
     "metadata": {},
     "output_type": "execute_result"
    }
   ],
   "source": [
    "# 저장\n",
    "df.to_csv('df_feature_imp.csv', index=False)\n",
    "df_feature_imp=pd.read_csv('df_feature_imp.csv')\n",
    "df_feature_imp"
   ]
  },
  {
   "cell_type": "code",
   "execution_count": null,
   "metadata": {},
   "outputs": [],
   "source": []
  },
  {
   "cell_type": "code",
   "execution_count": null,
   "metadata": {},
   "outputs": [],
   "source": []
  },
  {
   "cell_type": "markdown",
   "metadata": {
    "id": "Xm1TP76PY3wQ"
   },
   "source": [
    "### (2) 중요도 기반 feature 분석"
   ]
  },
  {
   "cell_type": "markdown",
   "metadata": {
    "id": "HTfuP1WKZB7H"
   },
   "source": [
    "* **세부 요구사항**\n",
    "    - 상위 n, 하위 m 개의 변수를 선정\n",
    "    - 선정된 변수(feature)와 target 간의 관계를 kdeplot으로 그리기"
   ]
  },
  {
   "cell_type": "markdown",
   "metadata": {
    "id": "UJLmfWV8Zo_3"
   },
   "source": [
    "#### 1) 상위 5, 하위 5개 변수 선정"
   ]
  },
  {
   "cell_type": "code",
   "execution_count": 28,
   "metadata": {},
   "outputs": [
    {
     "data": {
      "text/html": [
       "<div>\n",
       "<style scoped>\n",
       "    .dataframe tbody tr th:only-of-type {\n",
       "        vertical-align: middle;\n",
       "    }\n",
       "\n",
       "    .dataframe tbody tr th {\n",
       "        vertical-align: top;\n",
       "    }\n",
       "\n",
       "    .dataframe thead th {\n",
       "        text-align: right;\n",
       "    }\n",
       "</style>\n",
       "<table border=\"1\" class=\"dataframe\">\n",
       "  <thead>\n",
       "    <tr style=\"text-align: right;\">\n",
       "      <th></th>\n",
       "      <th>feature</th>\n",
       "      <th>Importances</th>\n",
       "    </tr>\n",
       "  </thead>\n",
       "  <tbody>\n",
       "    <tr>\n",
       "      <th>406</th>\n",
       "      <td>fBodyAccJerk-bandsEnergy()-49,64.1</td>\n",
       "      <td>0.000056</td>\n",
       "    </tr>\n",
       "    <tr>\n",
       "      <th>545</th>\n",
       "      <td>fBodyBodyGyroJerkMag-min()</td>\n",
       "      <td>0.000064</td>\n",
       "    </tr>\n",
       "    <tr>\n",
       "      <th>494</th>\n",
       "      <td>fBodyGyro-bandsEnergy()-49,56.2</td>\n",
       "      <td>0.000069</td>\n",
       "    </tr>\n",
       "    <tr>\n",
       "      <th>388</th>\n",
       "      <td>fBodyAccJerk-bandsEnergy()-57,64</td>\n",
       "      <td>0.000071</td>\n",
       "    </tr>\n",
       "    <tr>\n",
       "      <th>307</th>\n",
       "      <td>fBodyAcc-bandsEnergy()-41,48</td>\n",
       "      <td>0.000072</td>\n",
       "    </tr>\n",
       "  </tbody>\n",
       "</table>\n",
       "</div>"
      ],
      "text/plain": [
       "                                feature  Importances\n",
       "406  fBodyAccJerk-bandsEnergy()-49,64.1     0.000056\n",
       "545          fBodyBodyGyroJerkMag-min()     0.000064\n",
       "494     fBodyGyro-bandsEnergy()-49,56.2     0.000069\n",
       "388    fBodyAccJerk-bandsEnergy()-57,64     0.000071\n",
       "307        fBodyAcc-bandsEnergy()-41,48     0.000072"
      ]
     },
     "metadata": {},
     "output_type": "display_data"
    },
    {
     "data": {
      "text/plain": [
       "406    fBodyAccJerk-bandsEnergy()-49,64.1\n",
       "545            fBodyBodyGyroJerkMag-min()\n",
       "494       fBodyGyro-bandsEnergy()-49,56.2\n",
       "388      fBodyAccJerk-bandsEnergy()-57,64\n",
       "307          fBodyAcc-bandsEnergy()-41,48\n",
       "Name: feature, dtype: object"
      ]
     },
     "metadata": {},
     "output_type": "display_data"
    }
   ],
   "source": [
    "df.sort_values(by = 'Importances', ascending=True, inplace=True)\n",
    "display(df[:5])\n",
    "display(df.iloc[:5,0])"
   ]
  },
  {
   "cell_type": "code",
   "execution_count": 29,
   "metadata": {},
   "outputs": [
    {
     "data": {
      "text/plain": [
       "['fBodyAccJerk-bandsEnergy()-49,64.1',\n",
       " 'fBodyBodyGyroJerkMag-min()',\n",
       " 'fBodyGyro-bandsEnergy()-49,56.2',\n",
       " 'fBodyAccJerk-bandsEnergy()-57,64',\n",
       " 'fBodyAcc-bandsEnergy()-41,48']"
      ]
     },
     "execution_count": 29,
     "metadata": {},
     "output_type": "execute_result"
    }
   ],
   "source": [
    "# 하위 5개\n",
    "list(df.iloc[:5,0])"
   ]
  },
  {
   "cell_type": "code",
   "execution_count": null,
   "metadata": {},
   "outputs": [],
   "source": []
  },
  {
   "cell_type": "code",
   "execution_count": 30,
   "metadata": {
    "colab": {
     "base_uri": "https://localhost:8080/",
     "height": 221
    },
    "executionInfo": {
     "elapsed": 7,
     "status": "ok",
     "timestamp": 1682560288379,
     "user": {
      "displayName": "허신 - Business Intelligence",
      "userId": "11511914061488776232"
     },
     "user_tz": -540
    },
    "id": "RmnAttB0ZsrD",
    "outputId": "49f34ff6-276e-42cc-a49d-ab71b48388d6"
   },
   "outputs": [
    {
     "data": {
      "text/html": [
       "<div>\n",
       "<style scoped>\n",
       "    .dataframe tbody tr th:only-of-type {\n",
       "        vertical-align: middle;\n",
       "    }\n",
       "\n",
       "    .dataframe tbody tr th {\n",
       "        vertical-align: top;\n",
       "    }\n",
       "\n",
       "    .dataframe thead th {\n",
       "        text-align: right;\n",
       "    }\n",
       "</style>\n",
       "<table border=\"1\" class=\"dataframe\">\n",
       "  <thead>\n",
       "    <tr style=\"text-align: right;\">\n",
       "      <th></th>\n",
       "      <th>feature</th>\n",
       "      <th>Importances</th>\n",
       "    </tr>\n",
       "  </thead>\n",
       "  <tbody>\n",
       "    <tr>\n",
       "      <th>52</th>\n",
       "      <td>tGravityAcc-min()-X</td>\n",
       "      <td>0.044952</td>\n",
       "    </tr>\n",
       "    <tr>\n",
       "      <th>558</th>\n",
       "      <td>angle(X,gravityMean)</td>\n",
       "      <td>0.044243</td>\n",
       "    </tr>\n",
       "    <tr>\n",
       "      <th>40</th>\n",
       "      <td>tGravityAcc-mean()-X</td>\n",
       "      <td>0.033507</td>\n",
       "    </tr>\n",
       "    <tr>\n",
       "      <th>50</th>\n",
       "      <td>tGravityAcc-max()-Y</td>\n",
       "      <td>0.026291</td>\n",
       "    </tr>\n",
       "    <tr>\n",
       "      <th>41</th>\n",
       "      <td>tGravityAcc-mean()-Y</td>\n",
       "      <td>0.025577</td>\n",
       "    </tr>\n",
       "  </tbody>\n",
       "</table>\n",
       "</div>"
      ],
      "text/plain": [
       "                  feature  Importances\n",
       "52    tGravityAcc-min()-X     0.044952\n",
       "558  angle(X,gravityMean)     0.044243\n",
       "40   tGravityAcc-mean()-X     0.033507\n",
       "50    tGravityAcc-max()-Y     0.026291\n",
       "41   tGravityAcc-mean()-Y     0.025577"
      ]
     },
     "metadata": {},
     "output_type": "display_data"
    },
    {
     "data": {
      "text/plain": [
       "52      tGravityAcc-min()-X\n",
       "558    angle(X,gravityMean)\n",
       "40     tGravityAcc-mean()-X\n",
       "50      tGravityAcc-max()-Y\n",
       "41     tGravityAcc-mean()-Y\n",
       "Name: feature, dtype: object"
      ]
     },
     "metadata": {},
     "output_type": "display_data"
    }
   ],
   "source": [
    "df = pd.DataFrame()\n",
    "df['feature'] = list(x)\n",
    "df['Importances'] = model.feature_importances_\n",
    "df.sort_values(by = 'Importances', ascending=False, inplace=True)\n",
    "display(df[:5])\n",
    "display(df.iloc[:5,0])"
   ]
  },
  {
   "cell_type": "code",
   "execution_count": 31,
   "metadata": {
    "colab": {
     "base_uri": "https://localhost:8080/",
     "height": 221
    },
    "executionInfo": {
     "elapsed": 6,
     "status": "ok",
     "timestamp": 1682560288379,
     "user": {
      "displayName": "허신 - Business Intelligence",
      "userId": "11511914061488776232"
     },
     "user_tz": -540
    },
    "id": "iyNTScZ5Z1Qg",
    "outputId": "8e0b4ab4-c56a-45a1-d79a-7a30f0d4a952"
   },
   "outputs": [
    {
     "data": {
      "text/plain": [
       "['tGravityAcc-min()-X',\n",
       " 'angle(X,gravityMean)',\n",
       " 'tGravityAcc-mean()-X',\n",
       " 'tGravityAcc-max()-Y',\n",
       " 'tGravityAcc-mean()-Y']"
      ]
     },
     "execution_count": 31,
     "metadata": {},
     "output_type": "execute_result"
    }
   ],
   "source": [
    "# 상위 5개\n",
    "list(df.iloc[:5,0])"
   ]
  },
  {
   "cell_type": "code",
   "execution_count": null,
   "metadata": {},
   "outputs": [],
   "source": []
  },
  {
   "cell_type": "code",
   "execution_count": null,
   "metadata": {},
   "outputs": [],
   "source": []
  },
  {
   "cell_type": "markdown",
   "metadata": {
    "id": "rIDYlz-2aEvg"
   },
   "source": [
    "#### 2) 상위 5개 변수에 대한 분석"
   ]
  },
  {
   "cell_type": "code",
   "execution_count": 32,
   "metadata": {},
   "outputs": [
    {
     "data": {
      "text/plain": [
       "LAYING                1115\n",
       "STANDING              1087\n",
       "SITTING               1032\n",
       "WALKING                998\n",
       "WALKING_UPSTAIRS       858\n",
       "WALKING_DOWNSTAIRS     791\n",
       "Name: Activity, dtype: int64"
      ]
     },
     "execution_count": 32,
     "metadata": {},
     "output_type": "execute_result"
    }
   ],
   "source": [
    "y.value_counts()"
   ]
  },
  {
   "cell_type": "code",
   "execution_count": 33,
   "metadata": {},
   "outputs": [],
   "source": [
    "# 범주형변환, 숫자로 변환\n",
    "df_train_tmp = df_train.copy()\n",
    "df_train_tmp['Activity']=pd.Categorical(df_train_tmp['Activity'])\n",
    "df_train_tmp['Activity']=df_train_tmp['Activity'].cat.codes\n",
    "df_train_tmp['Activity']"
   ]
  },
  {
   "cell_type": "code",
   "execution_count": 34,
   "metadata": {},
   "outputs": [],
   "source": [
    "cols = ['Activity',\n",
    " 'angle(X,gravityMean)',\n",
    " 'tGravityAcc-energy()-X',\n",
    " 'angle(Y,gravityMean)',\n",
    " 'tGravityAcc-min()-X',\n",
    " 'tGravityAcc-mean()-Y']"
   ]
  },
  {
   "cell_type": "code",
   "execution_count": null,
   "metadata": {},
   "outputs": [],
   "source": []
  },
  {
   "cell_type": "code",
   "execution_count": 38,
   "metadata": {},
   "outputs": [
    {
     "data": {
      "text/plain": [
       "<AxesSubplot:xlabel='angle(X,gravityMean)', ylabel='Density'>"
      ]
     },
     "execution_count": 38,
     "metadata": {},
     "output_type": "execute_result"
    },
    {
     "data": {
      "image/png": "[encoded data removed]",
      "text/plain": [
       "<Figure size 1080x576 with 1 Axes>"
      ]
     },
     "metadata": {
      "needs_background": "light"
     },
     "output_type": "display_data"
    }
   ],
   "source": [
    "# 다시작업\n",
    "cols = [ 'angle(X,gravityMean)',\n",
    " 'tGravityAcc-energy()-X',\n",
    " 'angle(Y,gravityMean)',\n",
    " 'tGravityAcc-min()-X',\n",
    " 'tGravityAcc-mean()-Y']\n",
    "\n",
    "# 1위 : angle(X,gravityMean)\n",
    "var = 'angle(X,gravityMean)'\n",
    "plt.figure(figsize = (15,8))\n",
    "sns.kdeplot(x=var, data = df_train, hue ='Activity', common_norm = False)"
   ]
  },
  {
   "cell_type": "code",
   "execution_count": 37,
   "metadata": {},
   "outputs": [
    {
     "data": {
      "image/png": "[encoded data removed]",
      "text/plain": [
       "<Figure size 720x360 with 1 Axes>"
      ]
     },
     "metadata": {
      "needs_background": "light"
     },
     "output_type": "display_data"
    }
   ],
   "source": [
    "import seaborn as sns ## standing, raying\n",
    "plt.figure(figsize=(10,5))\n",
    "sns.kdeplot(df_train_tmp[cols])\n",
    "plt.show()"
   ]
  },
  {
   "cell_type": "code",
   "execution_count": null,
   "metadata": {},
   "outputs": [],
   "source": []
  },
  {
   "cell_type": "code",
   "execution_count": null,
   "metadata": {},
   "outputs": [],
   "source": [
    "#############################################"
   ]
  },
  {
   "cell_type": "code",
   "execution_count": 1529,
   "metadata": {
    "colab": {
     "base_uri": "https://localhost:8080/",
     "height": 718
    },
    "executionInfo": {
     "elapsed": 3871,
     "status": "ok",
     "timestamp": 1682560292245,
     "user": {
      "displayName": "허신 - Business Intelligence",
      "userId": "11511914061488776232"
     },
     "user_tz": -540
    },
    "id": "2wYkcUY6aFDh",
    "outputId": "dabf8414-db45-494c-dd0a-09689e73c4d5"
   },
   "outputs": [
    {
     "data": {
      "image/png": "[encoded data removed]",
      "text/plain": [
       "<Figure size 720x360 with 1 Axes>"
      ]
     },
     "metadata": {
      "needs_background": "light"
     },
     "output_type": "display_data"
    }
   ],
   "source": [
    "import seaborn as sns ## standing, raying\n",
    "plt.figure(figsize=(10,5))\n",
    "sns.kdeplot(df_train_tmp[cols])\n",
    "plt.show()"
   ]
  },
  {
   "cell_type": "code",
   "execution_count": null,
   "metadata": {
    "colab": {
     "base_uri": "https://localhost:8080/",
     "height": 718
    },
    "executionInfo": {
     "elapsed": 36,
     "status": "ok",
     "timestamp": 1682560292246,
     "user": {
      "displayName": "허신 - Business Intelligence",
      "userId": "11511914061488776232"
     },
     "user_tz": -540
    },
    "id": "Lo8Fd4jfbBFC",
    "outputId": "a09096d7-bdbc-48ad-b0ae-c27d83696964"
   },
   "outputs": [],
   "source": []
  },
  {
   "cell_type": "markdown",
   "metadata": {
    "id": "9TSU1dglbLO6"
   },
   "source": [
    "#### 3) 하위 5개 변수에 대한 분석"
   ]
  },
  {
   "cell_type": "code",
   "execution_count": 1530,
   "metadata": {
    "colab": {
     "base_uri": "https://localhost:8080/",
     "height": 718
    },
    "executionInfo": {
     "elapsed": 32,
     "status": "ok",
     "timestamp": 1682560292246,
     "user": {
      "displayName": "허신 - Business Intelligence",
      "userId": "11511914061488776232"
     },
     "user_tz": -540
    },
    "id": "35aOMlzKbLO6",
    "outputId": "b9d62c07-dc4c-42db-d03b-8e4d788aa638"
   },
   "outputs": [
    {
     "data": {
      "image/png": "[encoded data removed]",
      "text/plain": [
       "<Figure size 720x360 with 1 Axes>"
      ]
     },
     "metadata": {
      "needs_background": "light"
     },
     "output_type": "display_data"
    }
   ],
   "source": [
    "cols = ['Activity',\n",
    " 'fBodyAccJerk-bandsEnergy()-57,64',\n",
    " 'fBodyAccJerk-entropy()-X',\n",
    " 'fBodyBodyGyroJerkMag-min()',\n",
    " 'fBodyAccJerk-bandsEnergy()-49,56',\n",
    " 'fBodyAccJerk-bandsEnergy()-33,40']\n",
    "\n",
    "plt.figure(figsize=(10,5))\n",
    "sns.kdeplot(df_train_tmp[cols])\n",
    "plt.show()"
   ]
  },
  {
   "cell_type": "code",
   "execution_count": null,
   "metadata": {
    "colab": {
     "base_uri": "https://localhost:8080/",
     "height": 718
    },
    "executionInfo": {
     "elapsed": 28,
     "status": "ok",
     "timestamp": 1682560292246,
     "user": {
      "displayName": "허신 - Business Intelligence",
      "userId": "11511914061488776232"
     },
     "user_tz": -540
    },
    "id": "V_CZlF5YbLO7",
    "outputId": "68b17efa-33d6-4af2-df56-8f07ca9d551f"
   },
   "outputs": [],
   "source": []
  },
  {
   "cell_type": "code",
   "execution_count": null,
   "metadata": {
    "colab": {
     "base_uri": "https://localhost:8080/",
     "height": 718
    },
    "executionInfo": {
     "elapsed": 25,
     "status": "ok",
     "timestamp": 1682560292247,
     "user": {
      "displayName": "허신 - Business Intelligence",
      "userId": "11511914061488776232"
     },
     "user_tz": -540
    },
    "id": "iFAZ_UrmbLO8",
    "outputId": "23722efe-405c-4cfe-bbae-126b2cdbf539"
   },
   "outputs": [],
   "source": []
  },
  {
   "cell_type": "code",
   "execution_count": null,
   "metadata": {
    "colab": {
     "base_uri": "https://localhost:8080/",
     "height": 718
    },
    "executionInfo": {
     "elapsed": 22,
     "status": "ok",
     "timestamp": 1682560292247,
     "user": {
      "displayName": "허신 - Business Intelligence",
      "userId": "11511914061488776232"
     },
     "user_tz": -540
    },
    "id": "yx07-Y55bLO8",
    "outputId": "6b84fd70-28bc-4ec3-d151-8c0b7a63224e"
   },
   "outputs": [],
   "source": []
  },
  {
   "cell_type": "code",
   "execution_count": null,
   "metadata": {
    "colab": {
     "base_uri": "https://localhost:8080/",
     "height": 718
    },
    "executionInfo": {
     "elapsed": 18,
     "status": "ok",
     "timestamp": 1682560292247,
     "user": {
      "displayName": "허신 - Business Intelligence",
      "userId": "11511914061488776232"
     },
     "user_tz": -540
    },
    "id": "OpRgeKDAbLO9",
    "outputId": "f074be2a-bad8-4a69-a302-aaa8144967e3"
   },
   "outputs": [],
   "source": []
  },
  {
   "cell_type": "markdown",
   "metadata": {
    "id": "LCX8WanEcUwJ"
   },
   "source": [
    "### (3) feature 그룹별 분석"
   ]
  },
  {
   "cell_type": "markdown",
   "metadata": {
    "id": "Kb1_hvmpcvQ2"
   },
   "source": [
    "* **세부 요구사항**\n",
    "    - 제공된 features.csv 에는 feature에 대한 계층구조를 정리해 놓았습니다.\n",
    "    - features와 변수중요도 결과를 merge 하시오.\n",
    "    - sensor 별 중요도 합계를 구하고 상위 변수 그룹별 비교 분석을 수행 하시오.\n",
    "    - sensor + agg 별 중요도 합계를 구하고 상위 변수 그룹별 비교 분석을 수행 하시오. \n"
   ]
  },
  {
   "cell_type": "markdown",
   "metadata": {
    "id": "bfJAgrHLdxsY"
   },
   "source": [
    "#### 1) 결과 merge"
   ]
  },
  {
   "cell_type": "code",
   "execution_count": 1531,
   "metadata": {},
   "outputs": [
    {
     "data": {
      "text/html": [
       "<div>\n",
       "<style scoped>\n",
       "    .dataframe tbody tr th:only-of-type {\n",
       "        vertical-align: middle;\n",
       "    }\n",
       "\n",
       "    .dataframe tbody tr th {\n",
       "        vertical-align: top;\n",
       "    }\n",
       "\n",
       "    .dataframe thead th {\n",
       "        text-align: right;\n",
       "    }\n",
       "</style>\n",
       "<table border=\"1\" class=\"dataframe\">\n",
       "  <thead>\n",
       "    <tr style=\"text-align: right;\">\n",
       "      <th></th>\n",
       "      <th>feature</th>\n",
       "      <th>Importances</th>\n",
       "    </tr>\n",
       "  </thead>\n",
       "  <tbody>\n",
       "    <tr>\n",
       "      <th>0</th>\n",
       "      <td>angle(Y,gravityMean)</td>\n",
       "      <td>0.033649</td>\n",
       "    </tr>\n",
       "    <tr>\n",
       "      <th>1</th>\n",
       "      <td>tGravityAcc-mean()-Y</td>\n",
       "      <td>0.032202</td>\n",
       "    </tr>\n",
       "    <tr>\n",
       "      <th>2</th>\n",
       "      <td>tGravityAcc-energy()-X</td>\n",
       "      <td>0.031844</td>\n",
       "    </tr>\n",
       "    <tr>\n",
       "      <th>3</th>\n",
       "      <td>tGravityAcc-min()-X</td>\n",
       "      <td>0.030369</td>\n",
       "    </tr>\n",
       "    <tr>\n",
       "      <th>4</th>\n",
       "      <td>tGravityAcc-max()-Y</td>\n",
       "      <td>0.026364</td>\n",
       "    </tr>\n",
       "    <tr>\n",
       "      <th>...</th>\n",
       "      <td>...</td>\n",
       "      <td>...</td>\n",
       "    </tr>\n",
       "    <tr>\n",
       "      <th>556</th>\n",
       "      <td>tBodyAccJerk-arCoeff()-X,2</td>\n",
       "      <td>0.000095</td>\n",
       "    </tr>\n",
       "    <tr>\n",
       "      <th>557</th>\n",
       "      <td>fBodyGyro-min()-Y</td>\n",
       "      <td>0.000087</td>\n",
       "    </tr>\n",
       "    <tr>\n",
       "      <th>558</th>\n",
       "      <td>fBodyAcc-maxInds-Z</td>\n",
       "      <td>0.000072</td>\n",
       "    </tr>\n",
       "    <tr>\n",
       "      <th>559</th>\n",
       "      <td>tBodyAccJerk-mean()-Z</td>\n",
       "      <td>0.000067</td>\n",
       "    </tr>\n",
       "    <tr>\n",
       "      <th>560</th>\n",
       "      <td>fBodyBodyAccJerkMag-entropy()</td>\n",
       "      <td>0.000066</td>\n",
       "    </tr>\n",
       "  </tbody>\n",
       "</table>\n",
       "<p>561 rows × 2 columns</p>\n",
       "</div>"
      ],
      "text/plain": [
       "                           feature  Importances\n",
       "0             angle(Y,gravityMean)     0.033649\n",
       "1             tGravityAcc-mean()-Y     0.032202\n",
       "2           tGravityAcc-energy()-X     0.031844\n",
       "3              tGravityAcc-min()-X     0.030369\n",
       "4              tGravityAcc-max()-Y     0.026364\n",
       "..                             ...          ...\n",
       "556     tBodyAccJerk-arCoeff()-X,2     0.000095\n",
       "557              fBodyGyro-min()-Y     0.000087\n",
       "558             fBodyAcc-maxInds-Z     0.000072\n",
       "559          tBodyAccJerk-mean()-Z     0.000067\n",
       "560  fBodyBodyAccJerkMag-entropy()     0.000066\n",
       "\n",
       "[561 rows x 2 columns]"
      ]
     },
     "execution_count": 1531,
     "metadata": {},
     "output_type": "execute_result"
    }
   ],
   "source": [
    "df_feature_imp=pd.read_csv('df_feature_imp.csv')\n",
    "df_feature_imp"
   ]
  },
  {
   "cell_type": "code",
   "execution_count": 1532,
   "metadata": {
    "colab": {
     "base_uri": "https://localhost:8080/",
     "height": 221
    },
    "executionInfo": {
     "elapsed": 14,
     "status": "ok",
     "timestamp": 1682560292247,
     "user": {
      "displayName": "허신 - Business Intelligence",
      "userId": "11511914061488776232"
     },
     "user_tz": -540
    },
    "id": "lyYPfcK6d0Lu",
    "outputId": "9fa58579-861c-44bd-b960-61bacd38186f"
   },
   "outputs": [
    {
     "data": {
      "text/html": [
       "<div>\n",
       "<style scoped>\n",
       "    .dataframe tbody tr th:only-of-type {\n",
       "        vertical-align: middle;\n",
       "    }\n",
       "\n",
       "    .dataframe tbody tr th {\n",
       "        vertical-align: top;\n",
       "    }\n",
       "\n",
       "    .dataframe thead th {\n",
       "        text-align: right;\n",
       "    }\n",
       "</style>\n",
       "<table border=\"1\" class=\"dataframe\">\n",
       "  <thead>\n",
       "    <tr style=\"text-align: right;\">\n",
       "      <th></th>\n",
       "      <th>sensor</th>\n",
       "      <th>agg</th>\n",
       "      <th>axis</th>\n",
       "      <th>feature_name</th>\n",
       "    </tr>\n",
       "  </thead>\n",
       "  <tbody>\n",
       "    <tr>\n",
       "      <th>0</th>\n",
       "      <td>tBodyAcc</td>\n",
       "      <td>mean()</td>\n",
       "      <td>X</td>\n",
       "      <td>tBodyAcc-mean()-X</td>\n",
       "    </tr>\n",
       "    <tr>\n",
       "      <th>1</th>\n",
       "      <td>tBodyAcc</td>\n",
       "      <td>mean()</td>\n",
       "      <td>Y</td>\n",
       "      <td>tBodyAcc-mean()-Y</td>\n",
       "    </tr>\n",
       "    <tr>\n",
       "      <th>2</th>\n",
       "      <td>tBodyAcc</td>\n",
       "      <td>mean()</td>\n",
       "      <td>Z</td>\n",
       "      <td>tBodyAcc-mean()-Z</td>\n",
       "    </tr>\n",
       "    <tr>\n",
       "      <th>3</th>\n",
       "      <td>tBodyAcc</td>\n",
       "      <td>std()</td>\n",
       "      <td>X</td>\n",
       "      <td>tBodyAcc-std()-X</td>\n",
       "    </tr>\n",
       "    <tr>\n",
       "      <th>4</th>\n",
       "      <td>tBodyAcc</td>\n",
       "      <td>std()</td>\n",
       "      <td>Y</td>\n",
       "      <td>tBodyAcc-std()-Y</td>\n",
       "    </tr>\n",
       "    <tr>\n",
       "      <th>...</th>\n",
       "      <td>...</td>\n",
       "      <td>...</td>\n",
       "      <td>...</td>\n",
       "      <td>...</td>\n",
       "    </tr>\n",
       "    <tr>\n",
       "      <th>556</th>\n",
       "      <td>angle</td>\n",
       "      <td>tBodyGyroMean</td>\n",
       "      <td>gravityMean</td>\n",
       "      <td>angle(tBodyGyroMean,gravityMean)</td>\n",
       "    </tr>\n",
       "    <tr>\n",
       "      <th>557</th>\n",
       "      <td>angle</td>\n",
       "      <td>tBodyGyroJerkMean</td>\n",
       "      <td>gravityMean</td>\n",
       "      <td>angle(tBodyGyroJerkMean,gravityMean)</td>\n",
       "    </tr>\n",
       "    <tr>\n",
       "      <th>558</th>\n",
       "      <td>angle</td>\n",
       "      <td>X</td>\n",
       "      <td>gravityMean</td>\n",
       "      <td>angle(X,gravityMean)</td>\n",
       "    </tr>\n",
       "    <tr>\n",
       "      <th>559</th>\n",
       "      <td>angle</td>\n",
       "      <td>Y</td>\n",
       "      <td>gravityMean</td>\n",
       "      <td>angle(Y,gravityMean)</td>\n",
       "    </tr>\n",
       "    <tr>\n",
       "      <th>560</th>\n",
       "      <td>angle</td>\n",
       "      <td>Z</td>\n",
       "      <td>gravityMean</td>\n",
       "      <td>angle(Z,gravityMean)</td>\n",
       "    </tr>\n",
       "  </tbody>\n",
       "</table>\n",
       "<p>561 rows × 4 columns</p>\n",
       "</div>"
      ],
      "text/plain": [
       "       sensor                agg         axis  \\\n",
       "0    tBodyAcc             mean()            X   \n",
       "1    tBodyAcc             mean()            Y   \n",
       "2    tBodyAcc             mean()            Z   \n",
       "3    tBodyAcc              std()            X   \n",
       "4    tBodyAcc              std()            Y   \n",
       "..        ...                ...          ...   \n",
       "556     angle      tBodyGyroMean  gravityMean   \n",
       "557     angle  tBodyGyroJerkMean  gravityMean   \n",
       "558     angle                  X  gravityMean   \n",
       "559     angle                  Y  gravityMean   \n",
       "560     angle                  Z  gravityMean   \n",
       "\n",
       "                             feature_name  \n",
       "0                       tBodyAcc-mean()-X  \n",
       "1                       tBodyAcc-mean()-Y  \n",
       "2                       tBodyAcc-mean()-Z  \n",
       "3                        tBodyAcc-std()-X  \n",
       "4                        tBodyAcc-std()-Y  \n",
       "..                                    ...  \n",
       "556      angle(tBodyGyroMean,gravityMean)  \n",
       "557  angle(tBodyGyroJerkMean,gravityMean)  \n",
       "558                  angle(X,gravityMean)  \n",
       "559                  angle(Y,gravityMean)  \n",
       "560                  angle(Z,gravityMean)  \n",
       "\n",
       "[561 rows x 4 columns]"
      ]
     },
     "execution_count": 1532,
     "metadata": {},
     "output_type": "execute_result"
    }
   ],
   "source": [
    "df_feature"
   ]
  },
  {
   "cell_type": "code",
   "execution_count": null,
   "metadata": {},
   "outputs": [],
   "source": []
  },
  {
   "cell_type": "code",
   "execution_count": 1533,
   "metadata": {},
   "outputs": [
    {
     "data": {
      "text/html": [
       "<div>\n",
       "<style scoped>\n",
       "    .dataframe tbody tr th:only-of-type {\n",
       "        vertical-align: middle;\n",
       "    }\n",
       "\n",
       "    .dataframe tbody tr th {\n",
       "        vertical-align: top;\n",
       "    }\n",
       "\n",
       "    .dataframe thead th {\n",
       "        text-align: right;\n",
       "    }\n",
       "</style>\n",
       "<table border=\"1\" class=\"dataframe\">\n",
       "  <thead>\n",
       "    <tr style=\"text-align: right;\">\n",
       "      <th></th>\n",
       "      <th>feature</th>\n",
       "      <th>Importances</th>\n",
       "      <th>sensor</th>\n",
       "      <th>agg</th>\n",
       "      <th>axis</th>\n",
       "      <th>feature_name</th>\n",
       "    </tr>\n",
       "  </thead>\n",
       "  <tbody>\n",
       "    <tr>\n",
       "      <th>0</th>\n",
       "      <td>angle(Y,gravityMean)</td>\n",
       "      <td>0.033649</td>\n",
       "      <td>angle</td>\n",
       "      <td>Y</td>\n",
       "      <td>gravityMean</td>\n",
       "      <td>angle(Y,gravityMean)</td>\n",
       "    </tr>\n",
       "    <tr>\n",
       "      <th>1</th>\n",
       "      <td>tGravityAcc-mean()-Y</td>\n",
       "      <td>0.032202</td>\n",
       "      <td>tGravityAcc</td>\n",
       "      <td>mean()</td>\n",
       "      <td>Y</td>\n",
       "      <td>tGravityAcc-mean()-Y</td>\n",
       "    </tr>\n",
       "    <tr>\n",
       "      <th>2</th>\n",
       "      <td>tGravityAcc-energy()-X</td>\n",
       "      <td>0.031844</td>\n",
       "      <td>tGravityAcc</td>\n",
       "      <td>energy()</td>\n",
       "      <td>X</td>\n",
       "      <td>tGravityAcc-energy()-X</td>\n",
       "    </tr>\n",
       "    <tr>\n",
       "      <th>3</th>\n",
       "      <td>tGravityAcc-min()-X</td>\n",
       "      <td>0.030369</td>\n",
       "      <td>tGravityAcc</td>\n",
       "      <td>min()</td>\n",
       "      <td>X</td>\n",
       "      <td>tGravityAcc-min()-X</td>\n",
       "    </tr>\n",
       "    <tr>\n",
       "      <th>4</th>\n",
       "      <td>tGravityAcc-max()-Y</td>\n",
       "      <td>0.026364</td>\n",
       "      <td>tGravityAcc</td>\n",
       "      <td>max()</td>\n",
       "      <td>Y</td>\n",
       "      <td>tGravityAcc-max()-Y</td>\n",
       "    </tr>\n",
       "    <tr>\n",
       "      <th>...</th>\n",
       "      <td>...</td>\n",
       "      <td>...</td>\n",
       "      <td>...</td>\n",
       "      <td>...</td>\n",
       "      <td>...</td>\n",
       "      <td>...</td>\n",
       "    </tr>\n",
       "    <tr>\n",
       "      <th>556</th>\n",
       "      <td>tBodyAccJerk-arCoeff()-X,2</td>\n",
       "      <td>0.000095</td>\n",
       "      <td>tBodyAccJerk</td>\n",
       "      <td>arCoeff()</td>\n",
       "      <td>X,2</td>\n",
       "      <td>tBodyAccJerk-arCoeff()-X,2</td>\n",
       "    </tr>\n",
       "    <tr>\n",
       "      <th>557</th>\n",
       "      <td>fBodyGyro-min()-Y</td>\n",
       "      <td>0.000087</td>\n",
       "      <td>fBodyGyro</td>\n",
       "      <td>min()</td>\n",
       "      <td>Y</td>\n",
       "      <td>fBodyGyro-min()-Y</td>\n",
       "    </tr>\n",
       "    <tr>\n",
       "      <th>558</th>\n",
       "      <td>fBodyAcc-maxInds-Z</td>\n",
       "      <td>0.000072</td>\n",
       "      <td>fBodyAcc</td>\n",
       "      <td>maxInds</td>\n",
       "      <td>Z</td>\n",
       "      <td>fBodyAcc-maxInds-Z</td>\n",
       "    </tr>\n",
       "    <tr>\n",
       "      <th>559</th>\n",
       "      <td>tBodyAccJerk-mean()-Z</td>\n",
       "      <td>0.000067</td>\n",
       "      <td>tBodyAccJerk</td>\n",
       "      <td>mean()</td>\n",
       "      <td>Z</td>\n",
       "      <td>tBodyAccJerk-mean()-Z</td>\n",
       "    </tr>\n",
       "    <tr>\n",
       "      <th>560</th>\n",
       "      <td>fBodyBodyAccJerkMag-entropy()</td>\n",
       "      <td>0.000066</td>\n",
       "      <td>fBodyBodyAccJerkMag</td>\n",
       "      <td>entropy()</td>\n",
       "      <td>NaN</td>\n",
       "      <td>fBodyBodyAccJerkMag-entropy()</td>\n",
       "    </tr>\n",
       "  </tbody>\n",
       "</table>\n",
       "<p>561 rows × 6 columns</p>\n",
       "</div>"
      ],
      "text/plain": [
       "                           feature  Importances               sensor  \\\n",
       "0             angle(Y,gravityMean)     0.033649                angle   \n",
       "1             tGravityAcc-mean()-Y     0.032202          tGravityAcc   \n",
       "2           tGravityAcc-energy()-X     0.031844          tGravityAcc   \n",
       "3              tGravityAcc-min()-X     0.030369          tGravityAcc   \n",
       "4              tGravityAcc-max()-Y     0.026364          tGravityAcc   \n",
       "..                             ...          ...                  ...   \n",
       "556     tBodyAccJerk-arCoeff()-X,2     0.000095         tBodyAccJerk   \n",
       "557              fBodyGyro-min()-Y     0.000087            fBodyGyro   \n",
       "558             fBodyAcc-maxInds-Z     0.000072             fBodyAcc   \n",
       "559          tBodyAccJerk-mean()-Z     0.000067         tBodyAccJerk   \n",
       "560  fBodyBodyAccJerkMag-entropy()     0.000066  fBodyBodyAccJerkMag   \n",
       "\n",
       "           agg         axis                   feature_name  \n",
       "0            Y  gravityMean           angle(Y,gravityMean)  \n",
       "1       mean()            Y           tGravityAcc-mean()-Y  \n",
       "2     energy()            X         tGravityAcc-energy()-X  \n",
       "3        min()            X            tGravityAcc-min()-X  \n",
       "4        max()            Y            tGravityAcc-max()-Y  \n",
       "..         ...          ...                            ...  \n",
       "556  arCoeff()          X,2     tBodyAccJerk-arCoeff()-X,2  \n",
       "557      min()            Y              fBodyGyro-min()-Y  \n",
       "558    maxInds            Z             fBodyAcc-maxInds-Z  \n",
       "559     mean()            Z          tBodyAccJerk-mean()-Z  \n",
       "560  entropy()          NaN  fBodyBodyAccJerkMag-entropy()  \n",
       "\n",
       "[561 rows x 6 columns]"
      ]
     },
     "execution_count": 1533,
     "metadata": {},
     "output_type": "execute_result"
    }
   ],
   "source": [
    "df2 = pd.merge(df_feature_imp, df_feature, left_on='feature', right_on='feature_name', how='inner')\n",
    "df2"
   ]
  },
  {
   "cell_type": "code",
   "execution_count": 1534,
   "metadata": {},
   "outputs": [
    {
     "data": {
      "text/plain": [
       "Index(['feature', 'Importances', 'sensor', 'agg', 'axis', 'feature_name'], dtype='object')"
      ]
     },
     "execution_count": 1534,
     "metadata": {},
     "output_type": "execute_result"
    }
   ],
   "source": [
    "df2.columns"
   ]
  },
  {
   "cell_type": "code",
   "execution_count": null,
   "metadata": {},
   "outputs": [],
   "source": []
  },
  {
   "cell_type": "code",
   "execution_count": 1535,
   "metadata": {},
   "outputs": [
    {
     "data": {
      "text/plain": [
       "Index(['feature', 'Importances', 'sensor', 'agg', 'axis'], dtype='object')"
      ]
     },
     "execution_count": 1535,
     "metadata": {},
     "output_type": "execute_result"
    }
   ],
   "source": [
    "df2.drop(['feature_name'], axis=1, inplace=True)\n",
    "df2.columns"
   ]
  },
  {
   "cell_type": "code",
   "execution_count": 1536,
   "metadata": {},
   "outputs": [
    {
     "data": {
      "text/html": [
       "<div>\n",
       "<style scoped>\n",
       "    .dataframe tbody tr th:only-of-type {\n",
       "        vertical-align: middle;\n",
       "    }\n",
       "\n",
       "    .dataframe tbody tr th {\n",
       "        vertical-align: top;\n",
       "    }\n",
       "\n",
       "    .dataframe thead th {\n",
       "        text-align: right;\n",
       "    }\n",
       "</style>\n",
       "<table border=\"1\" class=\"dataframe\">\n",
       "  <thead>\n",
       "    <tr style=\"text-align: right;\">\n",
       "      <th></th>\n",
       "      <th>feature</th>\n",
       "      <th>Importances</th>\n",
       "      <th>sensor</th>\n",
       "      <th>agg</th>\n",
       "      <th>axis</th>\n",
       "    </tr>\n",
       "  </thead>\n",
       "  <tbody>\n",
       "    <tr>\n",
       "      <th>0</th>\n",
       "      <td>angle(Y,gravityMean)</td>\n",
       "      <td>0.033649</td>\n",
       "      <td>angle</td>\n",
       "      <td>Y</td>\n",
       "      <td>gravityMean</td>\n",
       "    </tr>\n",
       "    <tr>\n",
       "      <th>1</th>\n",
       "      <td>tGravityAcc-mean()-Y</td>\n",
       "      <td>0.032202</td>\n",
       "      <td>tGravityAcc</td>\n",
       "      <td>mean()</td>\n",
       "      <td>Y</td>\n",
       "    </tr>\n",
       "    <tr>\n",
       "      <th>2</th>\n",
       "      <td>tGravityAcc-energy()-X</td>\n",
       "      <td>0.031844</td>\n",
       "      <td>tGravityAcc</td>\n",
       "      <td>energy()</td>\n",
       "      <td>X</td>\n",
       "    </tr>\n",
       "    <tr>\n",
       "      <th>3</th>\n",
       "      <td>tGravityAcc-min()-X</td>\n",
       "      <td>0.030369</td>\n",
       "      <td>tGravityAcc</td>\n",
       "      <td>min()</td>\n",
       "      <td>X</td>\n",
       "    </tr>\n",
       "    <tr>\n",
       "      <th>4</th>\n",
       "      <td>tGravityAcc-max()-Y</td>\n",
       "      <td>0.026364</td>\n",
       "      <td>tGravityAcc</td>\n",
       "      <td>max()</td>\n",
       "      <td>Y</td>\n",
       "    </tr>\n",
       "  </tbody>\n",
       "</table>\n",
       "</div>"
      ],
      "text/plain": [
       "                  feature  Importances       sensor       agg         axis\n",
       "0    angle(Y,gravityMean)     0.033649        angle         Y  gravityMean\n",
       "1    tGravityAcc-mean()-Y     0.032202  tGravityAcc    mean()            Y\n",
       "2  tGravityAcc-energy()-X     0.031844  tGravityAcc  energy()            X\n",
       "3     tGravityAcc-min()-X     0.030369  tGravityAcc     min()            X\n",
       "4     tGravityAcc-max()-Y     0.026364  tGravityAcc     max()            Y"
      ]
     },
     "execution_count": 1536,
     "metadata": {},
     "output_type": "execute_result"
    }
   ],
   "source": [
    "df2.head()"
   ]
  },
  {
   "cell_type": "code",
   "execution_count": null,
   "metadata": {},
   "outputs": [],
   "source": []
  },
  {
   "cell_type": "markdown",
   "metadata": {
    "id": "qESxxz5Td-Gg"
   },
   "source": [
    "#### 2) sensor 별 중요도"
   ]
  },
  {
   "cell_type": "code",
   "execution_count": 1537,
   "metadata": {
    "colab": {
     "base_uri": "https://localhost:8080/",
     "height": 666
    },
    "executionInfo": {
     "elapsed": 1819,
     "status": "ok",
     "timestamp": 1682560294052,
     "user": {
      "displayName": "허신 - Business Intelligence",
      "userId": "11511914061488776232"
     },
     "user_tz": -540
    },
    "id": "xY5zQG0AeGeD",
    "outputId": "2ba0b770-15bf-44dc-f867-1219cc987014"
   },
   "outputs": [
    {
     "data": {
      "text/html": [
       "<div>\n",
       "<style scoped>\n",
       "    .dataframe tbody tr th:only-of-type {\n",
       "        vertical-align: middle;\n",
       "    }\n",
       "\n",
       "    .dataframe tbody tr th {\n",
       "        vertical-align: top;\n",
       "    }\n",
       "\n",
       "    .dataframe thead th {\n",
       "        text-align: right;\n",
       "    }\n",
       "</style>\n",
       "<table border=\"1\" class=\"dataframe\">\n",
       "  <thead>\n",
       "    <tr style=\"text-align: right;\">\n",
       "      <th></th>\n",
       "      <th>Importances</th>\n",
       "    </tr>\n",
       "    <tr>\n",
       "      <th>sensor</th>\n",
       "      <th></th>\n",
       "    </tr>\n",
       "  </thead>\n",
       "  <tbody>\n",
       "    <tr>\n",
       "      <th>angle</th>\n",
       "      <td>0.067466</td>\n",
       "    </tr>\n",
       "    <tr>\n",
       "      <th>fBodyAcc</th>\n",
       "      <td>0.085341</td>\n",
       "    </tr>\n",
       "    <tr>\n",
       "      <th>fBodyAccJerk</th>\n",
       "      <td>0.108228</td>\n",
       "    </tr>\n",
       "    <tr>\n",
       "      <th>fBodyAccMag</th>\n",
       "      <td>0.041605</td>\n",
       "    </tr>\n",
       "    <tr>\n",
       "      <th>fBodyBodyAccJerkMag</th>\n",
       "      <td>0.010693</td>\n",
       "    </tr>\n",
       "    <tr>\n",
       "      <th>fBodyBodyGyroJerkMag</th>\n",
       "      <td>0.003966</td>\n",
       "    </tr>\n",
       "    <tr>\n",
       "      <th>fBodyBodyGyroMag</th>\n",
       "      <td>0.004152</td>\n",
       "    </tr>\n",
       "    <tr>\n",
       "      <th>fBodyGyro</th>\n",
       "      <td>0.075964</td>\n",
       "    </tr>\n",
       "    <tr>\n",
       "      <th>tBodyAcc</th>\n",
       "      <td>0.055817</td>\n",
       "    </tr>\n",
       "    <tr>\n",
       "      <th>tBodyAccJerk</th>\n",
       "      <td>0.055144</td>\n",
       "    </tr>\n",
       "    <tr>\n",
       "      <th>tBodyAccJerkMag</th>\n",
       "      <td>0.043117</td>\n",
       "    </tr>\n",
       "    <tr>\n",
       "      <th>tBodyAccMag</th>\n",
       "      <td>0.026013</td>\n",
       "    </tr>\n",
       "    <tr>\n",
       "      <th>tBodyGyro</th>\n",
       "      <td>0.030220</td>\n",
       "    </tr>\n",
       "    <tr>\n",
       "      <th>tBodyGyroJerk</th>\n",
       "      <td>0.030310</td>\n",
       "    </tr>\n",
       "    <tr>\n",
       "      <th>tBodyGyroJerkMag</th>\n",
       "      <td>0.005494</td>\n",
       "    </tr>\n",
       "    <tr>\n",
       "      <th>tBodyGyroMag</th>\n",
       "      <td>0.003349</td>\n",
       "    </tr>\n",
       "    <tr>\n",
       "      <th>tGravityAcc</th>\n",
       "      <td>0.336245</td>\n",
       "    </tr>\n",
       "    <tr>\n",
       "      <th>tGravityAccMag</th>\n",
       "      <td>0.033282</td>\n",
       "    </tr>\n",
       "  </tbody>\n",
       "</table>\n",
       "</div>"
      ],
      "text/plain": [
       "                      Importances\n",
       "sensor                           \n",
       "angle                    0.067466\n",
       "fBodyAcc                 0.085341\n",
       "fBodyAccJerk             0.108228\n",
       "fBodyAccMag              0.041605\n",
       "fBodyBodyAccJerkMag      0.010693\n",
       "fBodyBodyGyroJerkMag     0.003966\n",
       "fBodyBodyGyroMag         0.004152\n",
       "fBodyGyro                0.075964\n",
       "tBodyAcc                 0.055817\n",
       "tBodyAccJerk             0.055144\n",
       "tBodyAccJerkMag          0.043117\n",
       "tBodyAccMag              0.026013\n",
       "tBodyGyro                0.030220\n",
       "tBodyGyroJerk            0.030310\n",
       "tBodyGyroJerkMag         0.005494\n",
       "tBodyGyroMag             0.003349\n",
       "tGravityAcc              0.336245\n",
       "tGravityAccMag           0.033282"
      ]
     },
     "execution_count": 1537,
     "metadata": {},
     "output_type": "execute_result"
    }
   ],
   "source": [
    "df2.groupby('sensor')[['Importances']].sum() # as_index=False #!"
   ]
  },
  {
   "cell_type": "code",
   "execution_count": 1538,
   "metadata": {},
   "outputs": [
    {
     "data": {
      "text/html": [
       "<div>\n",
       "<style scoped>\n",
       "    .dataframe tbody tr th:only-of-type {\n",
       "        vertical-align: middle;\n",
       "    }\n",
       "\n",
       "    .dataframe tbody tr th {\n",
       "        vertical-align: top;\n",
       "    }\n",
       "\n",
       "    .dataframe thead th {\n",
       "        text-align: right;\n",
       "    }\n",
       "</style>\n",
       "<table border=\"1\" class=\"dataframe\">\n",
       "  <thead>\n",
       "    <tr style=\"text-align: right;\">\n",
       "      <th></th>\n",
       "      <th>Importances</th>\n",
       "    </tr>\n",
       "    <tr>\n",
       "      <th>sensor</th>\n",
       "      <th></th>\n",
       "    </tr>\n",
       "  </thead>\n",
       "  <tbody>\n",
       "    <tr>\n",
       "      <th>tGravityAcc</th>\n",
       "      <td>0.336245</td>\n",
       "    </tr>\n",
       "    <tr>\n",
       "      <th>fBodyAccJerk</th>\n",
       "      <td>0.108228</td>\n",
       "    </tr>\n",
       "    <tr>\n",
       "      <th>fBodyAcc</th>\n",
       "      <td>0.085341</td>\n",
       "    </tr>\n",
       "    <tr>\n",
       "      <th>fBodyGyro</th>\n",
       "      <td>0.075964</td>\n",
       "    </tr>\n",
       "    <tr>\n",
       "      <th>angle</th>\n",
       "      <td>0.067466</td>\n",
       "    </tr>\n",
       "    <tr>\n",
       "      <th>tBodyAcc</th>\n",
       "      <td>0.055817</td>\n",
       "    </tr>\n",
       "    <tr>\n",
       "      <th>tBodyAccJerk</th>\n",
       "      <td>0.055144</td>\n",
       "    </tr>\n",
       "    <tr>\n",
       "      <th>tBodyAccJerkMag</th>\n",
       "      <td>0.043117</td>\n",
       "    </tr>\n",
       "    <tr>\n",
       "      <th>fBodyAccMag</th>\n",
       "      <td>0.041605</td>\n",
       "    </tr>\n",
       "    <tr>\n",
       "      <th>tGravityAccMag</th>\n",
       "      <td>0.033282</td>\n",
       "    </tr>\n",
       "    <tr>\n",
       "      <th>tBodyGyroJerk</th>\n",
       "      <td>0.030310</td>\n",
       "    </tr>\n",
       "    <tr>\n",
       "      <th>tBodyGyro</th>\n",
       "      <td>0.030220</td>\n",
       "    </tr>\n",
       "    <tr>\n",
       "      <th>tBodyAccMag</th>\n",
       "      <td>0.026013</td>\n",
       "    </tr>\n",
       "    <tr>\n",
       "      <th>fBodyBodyAccJerkMag</th>\n",
       "      <td>0.010693</td>\n",
       "    </tr>\n",
       "    <tr>\n",
       "      <th>tBodyGyroJerkMag</th>\n",
       "      <td>0.005494</td>\n",
       "    </tr>\n",
       "    <tr>\n",
       "      <th>fBodyBodyGyroMag</th>\n",
       "      <td>0.004152</td>\n",
       "    </tr>\n",
       "    <tr>\n",
       "      <th>fBodyBodyGyroJerkMag</th>\n",
       "      <td>0.003966</td>\n",
       "    </tr>\n",
       "    <tr>\n",
       "      <th>tBodyGyroMag</th>\n",
       "      <td>0.003349</td>\n",
       "    </tr>\n",
       "  </tbody>\n",
       "</table>\n",
       "</div>"
      ],
      "text/plain": [
       "                      Importances\n",
       "sensor                           \n",
       "tGravityAcc              0.336245\n",
       "fBodyAccJerk             0.108228\n",
       "fBodyAcc                 0.085341\n",
       "fBodyGyro                0.075964\n",
       "angle                    0.067466\n",
       "tBodyAcc                 0.055817\n",
       "tBodyAccJerk             0.055144\n",
       "tBodyAccJerkMag          0.043117\n",
       "fBodyAccMag              0.041605\n",
       "tGravityAccMag           0.033282\n",
       "tBodyGyroJerk            0.030310\n",
       "tBodyGyro                0.030220\n",
       "tBodyAccMag              0.026013\n",
       "fBodyBodyAccJerkMag      0.010693\n",
       "tBodyGyroJerkMag         0.005494\n",
       "fBodyBodyGyroMag         0.004152\n",
       "fBodyBodyGyroJerkMag     0.003966\n",
       "tBodyGyroMag             0.003349"
      ]
     },
     "execution_count": 1538,
     "metadata": {},
     "output_type": "execute_result"
    }
   ],
   "source": [
    "# sensor 별 중요도 합계\n",
    "sorted_df = df2.groupby('sensor')[['Importances']].sum().sort_values(by='Importances', ascending=False)\n",
    "sorted_df"
   ]
  },
  {
   "cell_type": "code",
   "execution_count": null,
   "metadata": {},
   "outputs": [],
   "source": []
  },
  {
   "cell_type": "code",
   "execution_count": 1539,
   "metadata": {},
   "outputs": [
    {
     "data": {
      "text/html": [
       "<div>\n",
       "<style scoped>\n",
       "    .dataframe tbody tr th:only-of-type {\n",
       "        vertical-align: middle;\n",
       "    }\n",
       "\n",
       "    .dataframe tbody tr th {\n",
       "        vertical-align: top;\n",
       "    }\n",
       "\n",
       "    .dataframe thead th {\n",
       "        text-align: right;\n",
       "    }\n",
       "</style>\n",
       "<table border=\"1\" class=\"dataframe\">\n",
       "  <thead>\n",
       "    <tr style=\"text-align: right;\">\n",
       "      <th></th>\n",
       "      <th>Importances</th>\n",
       "    </tr>\n",
       "    <tr>\n",
       "      <th>sensor</th>\n",
       "      <th></th>\n",
       "    </tr>\n",
       "  </thead>\n",
       "  <tbody>\n",
       "    <tr>\n",
       "      <th>tGravityAcc</th>\n",
       "      <td>0.336245</td>\n",
       "    </tr>\n",
       "    <tr>\n",
       "      <th>fBodyAccJerk</th>\n",
       "      <td>0.108228</td>\n",
       "    </tr>\n",
       "    <tr>\n",
       "      <th>fBodyAcc</th>\n",
       "      <td>0.085341</td>\n",
       "    </tr>\n",
       "    <tr>\n",
       "      <th>fBodyGyro</th>\n",
       "      <td>0.075964</td>\n",
       "    </tr>\n",
       "    <tr>\n",
       "      <th>angle</th>\n",
       "      <td>0.067466</td>\n",
       "    </tr>\n",
       "    <tr>\n",
       "      <th>tBodyAcc</th>\n",
       "      <td>0.055817</td>\n",
       "    </tr>\n",
       "    <tr>\n",
       "      <th>tBodyAccJerk</th>\n",
       "      <td>0.055144</td>\n",
       "    </tr>\n",
       "    <tr>\n",
       "      <th>tBodyAccJerkMag</th>\n",
       "      <td>0.043117</td>\n",
       "    </tr>\n",
       "    <tr>\n",
       "      <th>fBodyAccMag</th>\n",
       "      <td>0.041605</td>\n",
       "    </tr>\n",
       "    <tr>\n",
       "      <th>tGravityAccMag</th>\n",
       "      <td>0.033282</td>\n",
       "    </tr>\n",
       "  </tbody>\n",
       "</table>\n",
       "</div>"
      ],
      "text/plain": [
       "                 Importances\n",
       "sensor                      \n",
       "tGravityAcc         0.336245\n",
       "fBodyAccJerk        0.108228\n",
       "fBodyAcc            0.085341\n",
       "fBodyGyro           0.075964\n",
       "angle               0.067466\n",
       "tBodyAcc            0.055817\n",
       "tBodyAccJerk        0.055144\n",
       "tBodyAccJerkMag     0.043117\n",
       "fBodyAccMag         0.041605\n",
       "tGravityAccMag      0.033282"
      ]
     },
     "execution_count": 1539,
     "metadata": {},
     "output_type": "execute_result"
    }
   ],
   "source": [
    "# 상위 변수 그룹별 비교 분석\n",
    "sorted_df[:10]"
   ]
  },
  {
   "cell_type": "code",
   "execution_count": null,
   "metadata": {},
   "outputs": [],
   "source": []
  },
  {
   "cell_type": "markdown",
   "metadata": {
    "id": "W8A9jaeCengy"
   },
   "source": [
    "#### 3) sensor + agg 별 중요도"
   ]
  },
  {
   "cell_type": "code",
   "execution_count": 1540,
   "metadata": {
    "colab": {
     "base_uri": "https://localhost:8080/",
     "height": 649
    },
    "executionInfo": {
     "elapsed": 7,
     "status": "ok",
     "timestamp": 1682560294052,
     "user": {
      "displayName": "허신 - Business Intelligence",
      "userId": "11511914061488776232"
     },
     "user_tz": -540
    },
    "id": "5I1JJ8dDengz",
    "outputId": "806029f5-6fa7-4863-d8b8-95e09932bcfa"
   },
   "outputs": [
    {
     "data": {
      "text/html": [
       "<div>\n",
       "<style scoped>\n",
       "    .dataframe tbody tr th:only-of-type {\n",
       "        vertical-align: middle;\n",
       "    }\n",
       "\n",
       "    .dataframe tbody tr th {\n",
       "        vertical-align: top;\n",
       "    }\n",
       "\n",
       "    .dataframe thead th {\n",
       "        text-align: right;\n",
       "    }\n",
       "</style>\n",
       "<table border=\"1\" class=\"dataframe\">\n",
       "  <thead>\n",
       "    <tr style=\"text-align: right;\">\n",
       "      <th></th>\n",
       "      <th></th>\n",
       "      <th>Importances</th>\n",
       "    </tr>\n",
       "    <tr>\n",
       "      <th>sensor</th>\n",
       "      <th>agg</th>\n",
       "      <th></th>\n",
       "    </tr>\n",
       "  </thead>\n",
       "  <tbody>\n",
       "    <tr>\n",
       "      <th rowspan=\"5\" valign=\"top\">tGravityAcc</th>\n",
       "      <th>arCoeff()</th>\n",
       "      <td>0.070168</td>\n",
       "    </tr>\n",
       "    <tr>\n",
       "      <th>min()</th>\n",
       "      <td>0.062689</td>\n",
       "    </tr>\n",
       "    <tr>\n",
       "      <th>max()</th>\n",
       "      <td>0.062469</td>\n",
       "    </tr>\n",
       "    <tr>\n",
       "      <th>mean()</th>\n",
       "      <td>0.059357</td>\n",
       "    </tr>\n",
       "    <tr>\n",
       "      <th>energy()</th>\n",
       "      <td>0.052677</td>\n",
       "    </tr>\n",
       "    <tr>\n",
       "      <th>fBodyAccJerk</th>\n",
       "      <th>bandsEnergy()</th>\n",
       "      <td>0.048108</td>\n",
       "    </tr>\n",
       "    <tr>\n",
       "      <th>fBodyGyro</th>\n",
       "      <th>bandsEnergy()</th>\n",
       "      <td>0.039568</td>\n",
       "    </tr>\n",
       "    <tr>\n",
       "      <th>fBodyAcc</th>\n",
       "      <th>bandsEnergy()</th>\n",
       "      <td>0.036073</td>\n",
       "    </tr>\n",
       "    <tr>\n",
       "      <th rowspan=\"2\" valign=\"top\">angle</th>\n",
       "      <th>Y</th>\n",
       "      <td>0.033649</td>\n",
       "    </tr>\n",
       "    <tr>\n",
       "      <th>X</th>\n",
       "      <td>0.024073</td>\n",
       "    </tr>\n",
       "  </tbody>\n",
       "</table>\n",
       "</div>"
      ],
      "text/plain": [
       "                            Importances\n",
       "sensor       agg                       \n",
       "tGravityAcc  arCoeff()         0.070168\n",
       "             min()             0.062689\n",
       "             max()             0.062469\n",
       "             mean()            0.059357\n",
       "             energy()          0.052677\n",
       "fBodyAccJerk bandsEnergy()     0.048108\n",
       "fBodyGyro    bandsEnergy()     0.039568\n",
       "fBodyAcc     bandsEnergy()     0.036073\n",
       "angle        Y                 0.033649\n",
       "             X                 0.024073"
      ]
     },
     "execution_count": 1540,
     "metadata": {},
     "output_type": "execute_result"
    }
   ],
   "source": [
    "# sensor+agge별 중요도 합계\n",
    "sorted_df = df2.groupby(['sensor','agg'])[['Importances']].sum().sort_values(by='Importances', ascending=False)\n",
    "sorted_df[:10]"
   ]
  },
  {
   "cell_type": "code",
   "execution_count": null,
   "metadata": {
    "colab": {
     "base_uri": "https://localhost:8080/",
     "height": 666
    },
    "executionInfo": {
     "elapsed": 7,
     "status": "ok",
     "timestamp": 1682560294053,
     "user": {
      "displayName": "허신 - Business Intelligence",
      "userId": "11511914061488776232"
     },
     "user_tz": -540
    },
    "id": "tejizxo7fjZF",
    "outputId": "ac2e75b8-dea1-4cb2-8620-f1060c2e0fa5"
   },
   "outputs": [],
   "source": []
  },
  {
   "cell_type": "code",
   "execution_count": null,
   "metadata": {},
   "outputs": [],
   "source": []
  },
  {
   "cell_type": "code",
   "execution_count": null,
   "metadata": {},
   "outputs": [],
   "source": []
  },
  {
   "cell_type": "markdown",
   "metadata": {
    "id": "pDCmvL_Hgs3S"
   },
   "source": [
    "## 4.데이터 분석 : 미션2"
   ]
  },
  {
   "cell_type": "markdown",
   "metadata": {
    "id": "wKY2QHikhMvf"
   },
   "source": [
    "다음의 case에 맞게 feature 및 feature 그룹 중요도를 기반으로 탐색적 데이터 분석을 수행하시오.\n",
    "* 1) Target을 **정적/동적 행동**으로 구분\n",
    "    * 6개의 행동은 2개의 그룹(정적행동, 동적행동)으로 나뉩니다.  \n",
    "    * 어떤 feature(혹은 feature 그룹)이 2개 class 그룹(정적행동, 동적행동)를 구분하는데 중요한지를 찾아보고 탐색해봅시다. \n",
    "* 2) Target을 **개별 행동 여부**로 구분\n",
    "    * 6가지의 행동을 분류하는 분석도 중요하지만, 개별 행동에만 특별히 영향을 받는 feature들도 있습니다. \n",
    "    * 예를 들어, 계단을 오르는 행동(Walking_upstairs)과 관련이 큰 feature가 있을 것입니다. [계단을 오르는 행동]인지 아닌지로 구분하는 targe을 추가하여 EDA를 수행해 봅시다."
   ]
  },
  {
   "cell_type": "code",
   "execution_count": null,
   "metadata": {},
   "outputs": [],
   "source": []
  },
  {
   "cell_type": "markdown",
   "metadata": {
    "id": "CyvvAdSUhS-1"
   },
   "source": [
    "### (1) 정적/동적 행동으로 구분하여 분석하기"
   ]
  },
  {
   "cell_type": "markdown",
   "metadata": {
    "id": "dYSWKXJuhcaM"
   },
   "source": [
    "* **세부 요구사항**\n",
    "    - Target인 Activity를 is_dynamic 변수로 변경하시오.\n",
    "        * 값 0 : STANDING, SITTING, LAYING\n",
    "        * 값 1 : WALKING, WALKING_UPSTAIRS, WALKING_DOWNSTAIRS\n",
    "    - is_dynamic을 예측하기 위한 기본 모델을 생성하시오.\n",
    "        * x, is_dynamic을 이용하여 train과 validation으로 데이터 분할\n",
    "        * 기본 모델링\n",
    "    - is_dynamic 을 구분하는데 중요한 변수 상위 5를 분석하시오.\n",
    "    - is_dynamic 을 구분하는데 중요한 변수 그룹을 분석하시오.\n",
    "        * sensor별\n",
    "        * sensor+agg 별\n"
   ]
  },
  {
   "cell_type": "code",
   "execution_count": 1541,
   "metadata": {},
   "outputs": [
    {
     "data": {
      "text/plain": [
       "LAYING                1115\n",
       "STANDING              1087\n",
       "SITTING               1032\n",
       "WALKING                998\n",
       "WALKING_UPSTAIRS       858\n",
       "WALKING_DOWNSTAIRS     791\n",
       "Name: Activity, dtype: int64"
      ]
     },
     "execution_count": 1541,
     "metadata": {},
     "output_type": "execute_result"
    }
   ],
   "source": [
    "df_train['Activity'].value_counts()"
   ]
  },
  {
   "cell_type": "code",
   "execution_count": null,
   "metadata": {},
   "outputs": [],
   "source": []
  },
  {
   "cell_type": "markdown",
   "metadata": {
    "id": "FAvEswmsiU7U"
   },
   "source": [
    "#### 1) is_dynamic 추가"
   ]
  },
  {
   "cell_type": "code",
   "execution_count": 1542,
   "metadata": {},
   "outputs": [
    {
     "data": {
      "text/plain": [
       "0    3234\n",
       "1    2647\n",
       "Name: is_dynamic, dtype: int64"
      ]
     },
     "execution_count": 1542,
     "metadata": {},
     "output_type": "execute_result"
    }
   ],
   "source": [
    "df_train['is_dynamic'] = df_train['Activity'].replace({'STANDING': 0, 'SITTING': 0, 'LAYING': 0, 'WALKING': 1, 'WALKING_UPSTAIRS': 1, 'WALKING_DOWNSTAIRS': 1})\n",
    "df_train['is_dynamic'].value_counts()"
   ]
  },
  {
   "cell_type": "code",
   "execution_count": 1543,
   "metadata": {
    "colab": {
     "base_uri": "https://localhost:8080/"
    },
    "executionInfo": {
     "elapsed": 690,
     "status": "ok",
     "timestamp": 1682560327884,
     "user": {
      "displayName": "허신 - Business Intelligence",
      "userId": "11511914061488776232"
     },
     "user_tz": -540
    },
    "id": "MCBKrl14hZ-O",
    "outputId": "dee2e54a-eb8d-41a5-9048-cad9daa9d111"
   },
   "outputs": [
    {
     "data": {
      "text/html": [
       "<div>\n",
       "<style scoped>\n",
       "    .dataframe tbody tr th:only-of-type {\n",
       "        vertical-align: middle;\n",
       "    }\n",
       "\n",
       "    .dataframe tbody tr th {\n",
       "        vertical-align: top;\n",
       "    }\n",
       "\n",
       "    .dataframe thead th {\n",
       "        text-align: right;\n",
       "    }\n",
       "</style>\n",
       "<table border=\"1\" class=\"dataframe\">\n",
       "  <thead>\n",
       "    <tr style=\"text-align: right;\">\n",
       "      <th></th>\n",
       "      <th>tBodyAcc-mean()-X</th>\n",
       "      <th>tBodyAcc-mean()-Y</th>\n",
       "      <th>tBodyAcc-mean()-Z</th>\n",
       "      <th>tBodyAcc-std()-X</th>\n",
       "      <th>tBodyAcc-std()-Y</th>\n",
       "      <th>tBodyAcc-std()-Z</th>\n",
       "      <th>tBodyAcc-mad()-X</th>\n",
       "      <th>tBodyAcc-mad()-Y</th>\n",
       "      <th>tBodyAcc-mad()-Z</th>\n",
       "      <th>tBodyAcc-max()-X</th>\n",
       "      <th>...</th>\n",
       "      <th>fBodyBodyGyroJerkMag-kurtosis()</th>\n",
       "      <th>angle(tBodyAccMean,gravity)</th>\n",
       "      <th>angle(tBodyAccJerkMean),gravityMean)</th>\n",
       "      <th>angle(tBodyGyroMean,gravityMean)</th>\n",
       "      <th>angle(tBodyGyroJerkMean,gravityMean)</th>\n",
       "      <th>angle(X,gravityMean)</th>\n",
       "      <th>angle(Y,gravityMean)</th>\n",
       "      <th>angle(Z,gravityMean)</th>\n",
       "      <th>Activity</th>\n",
       "      <th>is_dynamic</th>\n",
       "    </tr>\n",
       "  </thead>\n",
       "  <tbody>\n",
       "    <tr>\n",
       "      <th>0</th>\n",
       "      <td>0.288508</td>\n",
       "      <td>-0.009196</td>\n",
       "      <td>-0.103362</td>\n",
       "      <td>-0.988986</td>\n",
       "      <td>-0.962797</td>\n",
       "      <td>-0.967422</td>\n",
       "      <td>-0.989000</td>\n",
       "      <td>-0.962596</td>\n",
       "      <td>-0.965650</td>\n",
       "      <td>-0.929747</td>\n",
       "      <td>...</td>\n",
       "      <td>-0.816696</td>\n",
       "      <td>-0.042494</td>\n",
       "      <td>-0.044218</td>\n",
       "      <td>0.307873</td>\n",
       "      <td>0.072790</td>\n",
       "      <td>-0.601120</td>\n",
       "      <td>0.331298</td>\n",
       "      <td>0.165163</td>\n",
       "      <td>STANDING</td>\n",
       "      <td>0</td>\n",
       "    </tr>\n",
       "    <tr>\n",
       "      <th>1</th>\n",
       "      <td>0.265757</td>\n",
       "      <td>-0.016576</td>\n",
       "      <td>-0.098163</td>\n",
       "      <td>-0.989551</td>\n",
       "      <td>-0.994636</td>\n",
       "      <td>-0.987435</td>\n",
       "      <td>-0.990189</td>\n",
       "      <td>-0.993870</td>\n",
       "      <td>-0.987558</td>\n",
       "      <td>-0.937337</td>\n",
       "      <td>...</td>\n",
       "      <td>-0.693515</td>\n",
       "      <td>-0.062899</td>\n",
       "      <td>0.388459</td>\n",
       "      <td>-0.765014</td>\n",
       "      <td>0.771524</td>\n",
       "      <td>0.345205</td>\n",
       "      <td>-0.769186</td>\n",
       "      <td>-0.147944</td>\n",
       "      <td>LAYING</td>\n",
       "      <td>0</td>\n",
       "    </tr>\n",
       "    <tr>\n",
       "      <th>2</th>\n",
       "      <td>0.278709</td>\n",
       "      <td>-0.014511</td>\n",
       "      <td>-0.108717</td>\n",
       "      <td>-0.997720</td>\n",
       "      <td>-0.981088</td>\n",
       "      <td>-0.994008</td>\n",
       "      <td>-0.997934</td>\n",
       "      <td>-0.982187</td>\n",
       "      <td>-0.995017</td>\n",
       "      <td>-0.942584</td>\n",
       "      <td>...</td>\n",
       "      <td>-0.829311</td>\n",
       "      <td>0.000265</td>\n",
       "      <td>-0.525022</td>\n",
       "      <td>-0.891875</td>\n",
       "      <td>0.021528</td>\n",
       "      <td>-0.833564</td>\n",
       "      <td>0.202434</td>\n",
       "      <td>-0.032755</td>\n",
       "      <td>STANDING</td>\n",
       "      <td>0</td>\n",
       "    </tr>\n",
       "    <tr>\n",
       "      <th>3</th>\n",
       "      <td>0.289795</td>\n",
       "      <td>-0.035536</td>\n",
       "      <td>-0.150354</td>\n",
       "      <td>-0.231727</td>\n",
       "      <td>-0.006412</td>\n",
       "      <td>-0.338117</td>\n",
       "      <td>-0.273557</td>\n",
       "      <td>0.014245</td>\n",
       "      <td>-0.347916</td>\n",
       "      <td>0.008288</td>\n",
       "      <td>...</td>\n",
       "      <td>-0.408956</td>\n",
       "      <td>-0.255125</td>\n",
       "      <td>0.612804</td>\n",
       "      <td>0.747381</td>\n",
       "      <td>-0.072944</td>\n",
       "      <td>-0.695819</td>\n",
       "      <td>0.287154</td>\n",
       "      <td>0.111388</td>\n",
       "      <td>WALKING</td>\n",
       "      <td>1</td>\n",
       "    </tr>\n",
       "    <tr>\n",
       "      <th>4</th>\n",
       "      <td>0.394807</td>\n",
       "      <td>0.034098</td>\n",
       "      <td>0.091229</td>\n",
       "      <td>0.088489</td>\n",
       "      <td>-0.106636</td>\n",
       "      <td>-0.388502</td>\n",
       "      <td>-0.010469</td>\n",
       "      <td>-0.109680</td>\n",
       "      <td>-0.346372</td>\n",
       "      <td>0.584131</td>\n",
       "      <td>...</td>\n",
       "      <td>-0.563437</td>\n",
       "      <td>-0.044344</td>\n",
       "      <td>-0.845268</td>\n",
       "      <td>-0.974650</td>\n",
       "      <td>-0.887846</td>\n",
       "      <td>-0.705029</td>\n",
       "      <td>0.264952</td>\n",
       "      <td>0.137758</td>\n",
       "      <td>WALKING_DOWNSTAIRS</td>\n",
       "      <td>1</td>\n",
       "    </tr>\n",
       "  </tbody>\n",
       "</table>\n",
       "<p>5 rows × 563 columns</p>\n",
       "</div>"
      ],
      "text/plain": [
       "   tBodyAcc-mean()-X  tBodyAcc-mean()-Y  tBodyAcc-mean()-Z  tBodyAcc-std()-X  \\\n",
       "0           0.288508          -0.009196          -0.103362         -0.988986   \n",
       "1           0.265757          -0.016576          -0.098163         -0.989551   \n",
       "2           0.278709          -0.014511          -0.108717         -0.997720   \n",
       "3           0.289795          -0.035536          -0.150354         -0.231727   \n",
       "4           0.394807           0.034098           0.091229          0.088489   \n",
       "\n",
       "   tBodyAcc-std()-Y  tBodyAcc-std()-Z  tBodyAcc-mad()-X  tBodyAcc-mad()-Y  \\\n",
       "0         -0.962797         -0.967422         -0.989000         -0.962596   \n",
       "1         -0.994636         -0.987435         -0.990189         -0.993870   \n",
       "2         -0.981088         -0.994008         -0.997934         -0.982187   \n",
       "3         -0.006412         -0.338117         -0.273557          0.014245   \n",
       "4         -0.106636         -0.388502         -0.010469         -0.109680   \n",
       "\n",
       "   tBodyAcc-mad()-Z  tBodyAcc-max()-X  ...  fBodyBodyGyroJerkMag-kurtosis()  \\\n",
       "0         -0.965650         -0.929747  ...                        -0.816696   \n",
       "1         -0.987558         -0.937337  ...                        -0.693515   \n",
       "2         -0.995017         -0.942584  ...                        -0.829311   \n",
       "3         -0.347916          0.008288  ...                        -0.408956   \n",
       "4         -0.346372          0.584131  ...                        -0.563437   \n",
       "\n",
       "   angle(tBodyAccMean,gravity)  angle(tBodyAccJerkMean),gravityMean)  \\\n",
       "0                    -0.042494                             -0.044218   \n",
       "1                    -0.062899                              0.388459   \n",
       "2                     0.000265                             -0.525022   \n",
       "3                    -0.255125                              0.612804   \n",
       "4                    -0.044344                             -0.845268   \n",
       "\n",
       "   angle(tBodyGyroMean,gravityMean)  angle(tBodyGyroJerkMean,gravityMean)  \\\n",
       "0                          0.307873                              0.072790   \n",
       "1                         -0.765014                              0.771524   \n",
       "2                         -0.891875                              0.021528   \n",
       "3                          0.747381                             -0.072944   \n",
       "4                         -0.974650                             -0.887846   \n",
       "\n",
       "   angle(X,gravityMean)  angle(Y,gravityMean)  angle(Z,gravityMean)  \\\n",
       "0             -0.601120              0.331298              0.165163   \n",
       "1              0.345205             -0.769186             -0.147944   \n",
       "2             -0.833564              0.202434             -0.032755   \n",
       "3             -0.695819              0.287154              0.111388   \n",
       "4             -0.705029              0.264952              0.137758   \n",
       "\n",
       "             Activity  is_dynamic  \n",
       "0            STANDING           0  \n",
       "1              LAYING           0  \n",
       "2            STANDING           0  \n",
       "3             WALKING           1  \n",
       "4  WALKING_DOWNSTAIRS           1  \n",
       "\n",
       "[5 rows x 563 columns]"
      ]
     },
     "execution_count": 1543,
     "metadata": {},
     "output_type": "execute_result"
    }
   ],
   "source": [
    "df_train.head()"
   ]
  },
  {
   "cell_type": "code",
   "execution_count": null,
   "metadata": {},
   "outputs": [],
   "source": []
  },
  {
   "cell_type": "markdown",
   "metadata": {
    "id": "PRYATCWBi525"
   },
   "source": [
    "#### 2) 기본모델 생성"
   ]
  },
  {
   "cell_type": "code",
   "execution_count": 1544,
   "metadata": {},
   "outputs": [
    {
     "data": {
      "text/html": [
       "<div>\n",
       "<style scoped>\n",
       "    .dataframe tbody tr th:only-of-type {\n",
       "        vertical-align: middle;\n",
       "    }\n",
       "\n",
       "    .dataframe tbody tr th {\n",
       "        vertical-align: top;\n",
       "    }\n",
       "\n",
       "    .dataframe thead th {\n",
       "        text-align: right;\n",
       "    }\n",
       "</style>\n",
       "<table border=\"1\" class=\"dataframe\">\n",
       "  <thead>\n",
       "    <tr style=\"text-align: right;\">\n",
       "      <th></th>\n",
       "      <th>tBodyAcc-mean()-X</th>\n",
       "      <th>tBodyAcc-mean()-Y</th>\n",
       "      <th>tBodyAcc-mean()-Z</th>\n",
       "      <th>tBodyAcc-std()-X</th>\n",
       "      <th>tBodyAcc-std()-Y</th>\n",
       "      <th>tBodyAcc-std()-Z</th>\n",
       "      <th>tBodyAcc-mad()-X</th>\n",
       "      <th>tBodyAcc-mad()-Y</th>\n",
       "      <th>tBodyAcc-mad()-Z</th>\n",
       "      <th>tBodyAcc-max()-X</th>\n",
       "      <th>...</th>\n",
       "      <th>fBodyBodyGyroJerkMag-meanFreq()</th>\n",
       "      <th>fBodyBodyGyroJerkMag-skewness()</th>\n",
       "      <th>fBodyBodyGyroJerkMag-kurtosis()</th>\n",
       "      <th>angle(tBodyAccMean,gravity)</th>\n",
       "      <th>angle(tBodyAccJerkMean),gravityMean)</th>\n",
       "      <th>angle(tBodyGyroMean,gravityMean)</th>\n",
       "      <th>angle(tBodyGyroJerkMean,gravityMean)</th>\n",
       "      <th>angle(X,gravityMean)</th>\n",
       "      <th>angle(Y,gravityMean)</th>\n",
       "      <th>angle(Z,gravityMean)</th>\n",
       "    </tr>\n",
       "  </thead>\n",
       "  <tbody>\n",
       "    <tr>\n",
       "      <th>0</th>\n",
       "      <td>0.288508</td>\n",
       "      <td>-0.009196</td>\n",
       "      <td>-0.103362</td>\n",
       "      <td>-0.988986</td>\n",
       "      <td>-0.962797</td>\n",
       "      <td>-0.967422</td>\n",
       "      <td>-0.989000</td>\n",
       "      <td>-0.962596</td>\n",
       "      <td>-0.965650</td>\n",
       "      <td>-0.929747</td>\n",
       "      <td>...</td>\n",
       "      <td>-0.032207</td>\n",
       "      <td>-0.487737</td>\n",
       "      <td>-0.816696</td>\n",
       "      <td>-0.042494</td>\n",
       "      <td>-0.044218</td>\n",
       "      <td>0.307873</td>\n",
       "      <td>0.072790</td>\n",
       "      <td>-0.601120</td>\n",
       "      <td>0.331298</td>\n",
       "      <td>0.165163</td>\n",
       "    </tr>\n",
       "    <tr>\n",
       "      <th>1</th>\n",
       "      <td>0.265757</td>\n",
       "      <td>-0.016576</td>\n",
       "      <td>-0.098163</td>\n",
       "      <td>-0.989551</td>\n",
       "      <td>-0.994636</td>\n",
       "      <td>-0.987435</td>\n",
       "      <td>-0.990189</td>\n",
       "      <td>-0.993870</td>\n",
       "      <td>-0.987558</td>\n",
       "      <td>-0.937337</td>\n",
       "      <td>...</td>\n",
       "      <td>-0.246705</td>\n",
       "      <td>-0.237820</td>\n",
       "      <td>-0.693515</td>\n",
       "      <td>-0.062899</td>\n",
       "      <td>0.388459</td>\n",
       "      <td>-0.765014</td>\n",
       "      <td>0.771524</td>\n",
       "      <td>0.345205</td>\n",
       "      <td>-0.769186</td>\n",
       "      <td>-0.147944</td>\n",
       "    </tr>\n",
       "    <tr>\n",
       "      <th>2</th>\n",
       "      <td>0.278709</td>\n",
       "      <td>-0.014511</td>\n",
       "      <td>-0.108717</td>\n",
       "      <td>-0.997720</td>\n",
       "      <td>-0.981088</td>\n",
       "      <td>-0.994008</td>\n",
       "      <td>-0.997934</td>\n",
       "      <td>-0.982187</td>\n",
       "      <td>-0.995017</td>\n",
       "      <td>-0.942584</td>\n",
       "      <td>...</td>\n",
       "      <td>0.388765</td>\n",
       "      <td>-0.535287</td>\n",
       "      <td>-0.829311</td>\n",
       "      <td>0.000265</td>\n",
       "      <td>-0.525022</td>\n",
       "      <td>-0.891875</td>\n",
       "      <td>0.021528</td>\n",
       "      <td>-0.833564</td>\n",
       "      <td>0.202434</td>\n",
       "      <td>-0.032755</td>\n",
       "    </tr>\n",
       "    <tr>\n",
       "      <th>3</th>\n",
       "      <td>0.289795</td>\n",
       "      <td>-0.035536</td>\n",
       "      <td>-0.150354</td>\n",
       "      <td>-0.231727</td>\n",
       "      <td>-0.006412</td>\n",
       "      <td>-0.338117</td>\n",
       "      <td>-0.273557</td>\n",
       "      <td>0.014245</td>\n",
       "      <td>-0.347916</td>\n",
       "      <td>0.008288</td>\n",
       "      <td>...</td>\n",
       "      <td>0.050888</td>\n",
       "      <td>-0.004012</td>\n",
       "      <td>-0.408956</td>\n",
       "      <td>-0.255125</td>\n",
       "      <td>0.612804</td>\n",
       "      <td>0.747381</td>\n",
       "      <td>-0.072944</td>\n",
       "      <td>-0.695819</td>\n",
       "      <td>0.287154</td>\n",
       "      <td>0.111388</td>\n",
       "    </tr>\n",
       "    <tr>\n",
       "      <th>4</th>\n",
       "      <td>0.394807</td>\n",
       "      <td>0.034098</td>\n",
       "      <td>0.091229</td>\n",
       "      <td>0.088489</td>\n",
       "      <td>-0.106636</td>\n",
       "      <td>-0.388502</td>\n",
       "      <td>-0.010469</td>\n",
       "      <td>-0.109680</td>\n",
       "      <td>-0.346372</td>\n",
       "      <td>0.584131</td>\n",
       "      <td>...</td>\n",
       "      <td>-0.013902</td>\n",
       "      <td>-0.157832</td>\n",
       "      <td>-0.563437</td>\n",
       "      <td>-0.044344</td>\n",
       "      <td>-0.845268</td>\n",
       "      <td>-0.974650</td>\n",
       "      <td>-0.887846</td>\n",
       "      <td>-0.705029</td>\n",
       "      <td>0.264952</td>\n",
       "      <td>0.137758</td>\n",
       "    </tr>\n",
       "  </tbody>\n",
       "</table>\n",
       "<p>5 rows × 561 columns</p>\n",
       "</div>"
      ],
      "text/plain": [
       "   tBodyAcc-mean()-X  tBodyAcc-mean()-Y  tBodyAcc-mean()-Z  tBodyAcc-std()-X  \\\n",
       "0           0.288508          -0.009196          -0.103362         -0.988986   \n",
       "1           0.265757          -0.016576          -0.098163         -0.989551   \n",
       "2           0.278709          -0.014511          -0.108717         -0.997720   \n",
       "3           0.289795          -0.035536          -0.150354         -0.231727   \n",
       "4           0.394807           0.034098           0.091229          0.088489   \n",
       "\n",
       "   tBodyAcc-std()-Y  tBodyAcc-std()-Z  tBodyAcc-mad()-X  tBodyAcc-mad()-Y  \\\n",
       "0         -0.962797         -0.967422         -0.989000         -0.962596   \n",
       "1         -0.994636         -0.987435         -0.990189         -0.993870   \n",
       "2         -0.981088         -0.994008         -0.997934         -0.982187   \n",
       "3         -0.006412         -0.338117         -0.273557          0.014245   \n",
       "4         -0.106636         -0.388502         -0.010469         -0.109680   \n",
       "\n",
       "   tBodyAcc-mad()-Z  tBodyAcc-max()-X  ...  fBodyBodyGyroJerkMag-meanFreq()  \\\n",
       "0         -0.965650         -0.929747  ...                        -0.032207   \n",
       "1         -0.987558         -0.937337  ...                        -0.246705   \n",
       "2         -0.995017         -0.942584  ...                         0.388765   \n",
       "3         -0.347916          0.008288  ...                         0.050888   \n",
       "4         -0.346372          0.584131  ...                        -0.013902   \n",
       "\n",
       "   fBodyBodyGyroJerkMag-skewness()  fBodyBodyGyroJerkMag-kurtosis()  \\\n",
       "0                        -0.487737                        -0.816696   \n",
       "1                        -0.237820                        -0.693515   \n",
       "2                        -0.535287                        -0.829311   \n",
       "3                        -0.004012                        -0.408956   \n",
       "4                        -0.157832                        -0.563437   \n",
       "\n",
       "   angle(tBodyAccMean,gravity)  angle(tBodyAccJerkMean),gravityMean)  \\\n",
       "0                    -0.042494                             -0.044218   \n",
       "1                    -0.062899                              0.388459   \n",
       "2                     0.000265                             -0.525022   \n",
       "3                    -0.255125                              0.612804   \n",
       "4                    -0.044344                             -0.845268   \n",
       "\n",
       "   angle(tBodyGyroMean,gravityMean)  angle(tBodyGyroJerkMean,gravityMean)  \\\n",
       "0                          0.307873                              0.072790   \n",
       "1                         -0.765014                              0.771524   \n",
       "2                         -0.891875                              0.021528   \n",
       "3                          0.747381                             -0.072944   \n",
       "4                         -0.974650                             -0.887846   \n",
       "\n",
       "   angle(X,gravityMean)  angle(Y,gravityMean)  angle(Z,gravityMean)  \n",
       "0             -0.601120              0.331298              0.165163  \n",
       "1              0.345205             -0.769186             -0.147944  \n",
       "2             -0.833564              0.202434             -0.032755  \n",
       "3             -0.695819              0.287154              0.111388  \n",
       "4             -0.705029              0.264952              0.137758  \n",
       "\n",
       "[5 rows x 561 columns]"
      ]
     },
     "execution_count": 1544,
     "metadata": {},
     "output_type": "execute_result"
    }
   ],
   "source": [
    "x.head()"
   ]
  },
  {
   "cell_type": "code",
   "execution_count": 1545,
   "metadata": {
    "executionInfo": {
     "elapsed": 645,
     "status": "ok",
     "timestamp": 1682560330925,
     "user": {
      "displayName": "허신 - Business Intelligence",
      "userId": "11511914061488776232"
     },
     "user_tz": -540
    },
    "id": "i_FJ5TvLhZ7U"
   },
   "outputs": [
    {
     "data": {
      "text/html": [
       "<style>#sk-container-id-60 {color: black;background-color: white;}#sk-container-id-60 pre{padding: 0;}#sk-container-id-60 div.sk-toggleable {background-color: white;}#sk-container-id-60 label.sk-toggleable__label {cursor: pointer;display: block;width: 100%;margin-bottom: 0;padding: 0.3em;box-sizing: border-box;text-align: center;}#sk-container-id-60 label.sk-toggleable__label-arrow:before {content: \"▸\";float: left;margin-right: 0.25em;color: #696969;}#sk-container-id-60 label.sk-toggleable__label-arrow:hover:before {color: black;}#sk-container-id-60 div.sk-estimator:hover label.sk-toggleable__label-arrow:before {color: black;}#sk-container-id-60 div.sk-toggleable__content {max-height: 0;max-width: 0;overflow: hidden;text-align: left;background-color: #f0f8ff;}#sk-container-id-60 div.sk-toggleable__content pre {margin: 0.2em;color: black;border-radius: 0.25em;background-color: #f0f8ff;}#sk-container-id-60 input.sk-toggleable__control:checked~div.sk-toggleable__content {max-height: 200px;max-width: 100%;overflow: auto;}#sk-container-id-60 input.sk-toggleable__control:checked~label.sk-toggleable__label-arrow:before {content: \"▾\";}#sk-container-id-60 div.sk-estimator input.sk-toggleable__control:checked~label.sk-toggleable__label {background-color: #d4ebff;}#sk-container-id-60 div.sk-label input.sk-toggleable__control:checked~label.sk-toggleable__label {background-color: #d4ebff;}#sk-container-id-60 input.sk-hidden--visually {border: 0;clip: rect(1px 1px 1px 1px);clip: rect(1px, 1px, 1px, 1px);height: 1px;margin: -1px;overflow: hidden;padding: 0;position: absolute;width: 1px;}#sk-container-id-60 div.sk-estimator {font-family: monospace;background-color: #f0f8ff;border: 1px dotted black;border-radius: 0.25em;box-sizing: border-box;margin-bottom: 0.5em;}#sk-container-id-60 div.sk-estimator:hover {background-color: #d4ebff;}#sk-container-id-60 div.sk-parallel-item::after {content: \"\";width: 100%;border-bottom: 1px solid gray;flex-grow: 1;}#sk-container-id-60 div.sk-label:hover label.sk-toggleable__label {background-color: #d4ebff;}#sk-container-id-60 div.sk-serial::before {content: \"\";position: absolute;border-left: 1px solid gray;box-sizing: border-box;top: 0;bottom: 0;left: 50%;z-index: 0;}#sk-container-id-60 div.sk-serial {display: flex;flex-direction: column;align-items: center;background-color: white;padding-right: 0.2em;padding-left: 0.2em;position: relative;}#sk-container-id-60 div.sk-item {position: relative;z-index: 1;}#sk-container-id-60 div.sk-parallel {display: flex;align-items: stretch;justify-content: center;background-color: white;position: relative;}#sk-container-id-60 div.sk-item::before, #sk-container-id-60 div.sk-parallel-item::before {content: \"\";position: absolute;border-left: 1px solid gray;box-sizing: border-box;top: 0;bottom: 0;left: 50%;z-index: -1;}#sk-container-id-60 div.sk-parallel-item {display: flex;flex-direction: column;z-index: 1;position: relative;background-color: white;}#sk-container-id-60 div.sk-parallel-item:first-child::after {align-self: flex-end;width: 50%;}#sk-container-id-60 div.sk-parallel-item:last-child::after {align-self: flex-start;width: 50%;}#sk-container-id-60 div.sk-parallel-item:only-child::after {width: 0;}#sk-container-id-60 div.sk-dashed-wrapped {border: 1px dashed gray;margin: 0 0.4em 0.5em 0.4em;box-sizing: border-box;padding-bottom: 0.4em;background-color: white;}#sk-container-id-60 div.sk-label label {font-family: monospace;font-weight: bold;display: inline-block;line-height: 1.2em;}#sk-container-id-60 div.sk-label-container {text-align: center;}#sk-container-id-60 div.sk-container {/* jupyter's `normalize.less` sets `[hidden] { display: none; }` but bootstrap.min.css set `[hidden] { display: none !important; }` so we also need the `!important` here to be able to override the default hidden behavior on the sphinx rendered scikit-learn.org. See: https://github.com/scikit-learn/scikit-learn/issues/21755 */display: inline-block !important;position: relative;}#sk-container-id-60 div.sk-text-repr-fallback {display: none;}</style><div id=\"sk-container-id-60\" class=\"sk-top-container\"><div class=\"sk-text-repr-fallback\"><pre>RandomForestClassifier()</pre><b>In a Jupyter environment, please rerun this cell to show the HTML representation or trust the notebook. <br />On GitHub, the HTML representation is unable to render, please try loading this page with nbviewer.org.</b></div><div class=\"sk-container\" hidden><div class=\"sk-item\"><div class=\"sk-estimator sk-toggleable\"><input class=\"sk-toggleable__control sk-hidden--visually\" id=\"sk-estimator-id-60\" type=\"checkbox\" checked><label for=\"sk-estimator-id-60\" class=\"sk-toggleable__label sk-toggleable__label-arrow\">RandomForestClassifier</label><div class=\"sk-toggleable__content\"><pre>RandomForestClassifier()</pre></div></div></div></div></div>"
      ],
      "text/plain": [
       "RandomForestClassifier()"
      ]
     },
     "execution_count": 1545,
     "metadata": {},
     "output_type": "execute_result"
    }
   ],
   "source": [
    "y = df_train['is_dynamic']\n",
    "\n",
    "from sklearn.model_selection import train_test_split\n",
    "x_train, x_val, y_train, y_val = train_test_split(x, y, test_size=0.3, shuffle=True, random_state=1)\n",
    "\n",
    "\n",
    "from sklearn.ensemble import RandomForestClassifier\n",
    "model4 = RandomForestClassifier()\n",
    "model4.fit(x_train, y_train)"
   ]
  },
  {
   "cell_type": "code",
   "execution_count": null,
   "metadata": {
    "colab": {
     "base_uri": "https://localhost:8080/"
    },
    "executionInfo": {
     "elapsed": 1134,
     "status": "ok",
     "timestamp": 1682560332056,
     "user": {
      "displayName": "허신 - Business Intelligence",
      "userId": "11511914061488776232"
     },
     "user_tz": -540
    },
    "id": "Xfvk90Z6hZ4O",
    "outputId": "91b1204d-7cda-418b-9fdd-61bdd4afa8cc"
   },
   "outputs": [],
   "source": [
    "#! confusion_matrix"
   ]
  },
  {
   "cell_type": "code",
   "execution_count": null,
   "metadata": {},
   "outputs": [],
   "source": []
  },
  {
   "cell_type": "markdown",
   "metadata": {
    "id": "3A6WdFD8jhGY"
   },
   "source": [
    "#### 3) 변수중요도 상위 5개 분석"
   ]
  },
  {
   "cell_type": "code",
   "execution_count": 1546,
   "metadata": {
    "colab": {
     "base_uri": "https://localhost:8080/",
     "height": 1000
    },
    "executionInfo": {
     "elapsed": 11796,
     "status": "ok",
     "timestamp": 1682560343850,
     "user": {
      "displayName": "허신 - Business Intelligence",
      "userId": "11511914061488776232"
     },
     "user_tz": -540
    },
    "id": "ZATlOK1Ejoat",
    "outputId": "ea380711-f714-4573-9c73-097081baa82f"
   },
   "outputs": [
    {
     "data": {
      "text/html": [
       "<div>\n",
       "<style scoped>\n",
       "    .dataframe tbody tr th:only-of-type {\n",
       "        vertical-align: middle;\n",
       "    }\n",
       "\n",
       "    .dataframe tbody tr th {\n",
       "        vertical-align: top;\n",
       "    }\n",
       "\n",
       "    .dataframe thead th {\n",
       "        text-align: right;\n",
       "    }\n",
       "</style>\n",
       "<table border=\"1\" class=\"dataframe\">\n",
       "  <thead>\n",
       "    <tr style=\"text-align: right;\">\n",
       "      <th></th>\n",
       "      <th>feature</th>\n",
       "      <th>Importances</th>\n",
       "    </tr>\n",
       "  </thead>\n",
       "  <tbody>\n",
       "    <tr>\n",
       "      <th>347</th>\n",
       "      <td>fBodyAccJerk-std()-X</td>\n",
       "      <td>0.050118</td>\n",
       "    </tr>\n",
       "    <tr>\n",
       "      <th>86</th>\n",
       "      <td>tBodyAccJerk-mad()-X</td>\n",
       "      <td>0.050069</td>\n",
       "    </tr>\n",
       "    <tr>\n",
       "      <th>231</th>\n",
       "      <td>tBodyAccJerkMag-sma()</td>\n",
       "      <td>0.039949</td>\n",
       "    </tr>\n",
       "    <tr>\n",
       "      <th>226</th>\n",
       "      <td>tBodyAccJerkMag-mean()</td>\n",
       "      <td>0.039908</td>\n",
       "    </tr>\n",
       "    <tr>\n",
       "      <th>95</th>\n",
       "      <td>tBodyAccJerk-sma()</td>\n",
       "      <td>0.039901</td>\n",
       "    </tr>\n",
       "  </tbody>\n",
       "</table>\n",
       "</div>"
      ],
      "text/plain": [
       "                    feature  Importances\n",
       "347    fBodyAccJerk-std()-X     0.050118\n",
       "86     tBodyAccJerk-mad()-X     0.050069\n",
       "231   tBodyAccJerkMag-sma()     0.039949\n",
       "226  tBodyAccJerkMag-mean()     0.039908\n",
       "95       tBodyAccJerk-sma()     0.039901"
      ]
     },
     "execution_count": 1546,
     "metadata": {},
     "output_type": "execute_result"
    }
   ],
   "source": [
    "df4 = pd.DataFrame()\n",
    "df4['feature'] = list(x)\n",
    "df4['Importances'] = model4.feature_importances_\n",
    "df4.sort_values(by = 'Importances', ascending=False, inplace=True)\n",
    "df4[:5]"
   ]
  },
  {
   "cell_type": "markdown",
   "metadata": {
    "id": "akRwHgx0kF4B"
   },
   "source": [
    "* 상위 변수 선정"
   ]
  },
  {
   "cell_type": "code",
   "execution_count": 1547,
   "metadata": {
    "colab": {
     "base_uri": "https://localhost:8080/",
     "height": 221
    },
    "executionInfo": {
     "elapsed": 11,
     "status": "ok",
     "timestamp": 1682560343850,
     "user": {
      "displayName": "허신 - Business Intelligence",
      "userId": "11511914061488776232"
     },
     "user_tz": -540
    },
    "id": "noolfXGJj0cP",
    "outputId": "fd1b93c2-8b8c-4d58-b8bd-f0e09977f58d"
   },
   "outputs": [
    {
     "data": {
      "text/plain": [
       "['fBodyAccJerk-std()-X',\n",
       " 'tBodyAccJerk-mad()-X',\n",
       " 'tBodyAccJerkMag-sma()',\n",
       " 'tBodyAccJerkMag-mean()',\n",
       " 'tBodyAccJerk-sma()']"
      ]
     },
     "execution_count": 1547,
     "metadata": {},
     "output_type": "execute_result"
    }
   ],
   "source": [
    "cols=list(df4.iloc[:5,:1]['feature'])\n",
    "cols"
   ]
  },
  {
   "cell_type": "code",
   "execution_count": null,
   "metadata": {},
   "outputs": [],
   "source": []
  },
  {
   "cell_type": "markdown",
   "metadata": {
    "id": "obXedJzDj_4O"
   },
   "source": [
    "* 데이터 탐색하기"
   ]
  },
  {
   "cell_type": "code",
   "execution_count": 1548,
   "metadata": {
    "executionInfo": {
     "elapsed": 10,
     "status": "ok",
     "timestamp": 1682560343850,
     "user": {
      "displayName": "허신 - Business Intelligence",
      "userId": "11511914061488776232"
     },
     "user_tz": -540
    },
    "id": "RK17Pe6pkksQ"
   },
   "outputs": [
    {
     "data": {
      "text/html": [
       "<div>\n",
       "<style scoped>\n",
       "    .dataframe tbody tr th:only-of-type {\n",
       "        vertical-align: middle;\n",
       "    }\n",
       "\n",
       "    .dataframe tbody tr th {\n",
       "        vertical-align: top;\n",
       "    }\n",
       "\n",
       "    .dataframe thead th {\n",
       "        text-align: right;\n",
       "    }\n",
       "</style>\n",
       "<table border=\"1\" class=\"dataframe\">\n",
       "  <thead>\n",
       "    <tr style=\"text-align: right;\">\n",
       "      <th></th>\n",
       "      <th>feature_name</th>\n",
       "      <th>feature_importance</th>\n",
       "    </tr>\n",
       "  </thead>\n",
       "  <tbody>\n",
       "    <tr>\n",
       "      <th>0</th>\n",
       "      <td>fBodyAccJerk-std()-X</td>\n",
       "      <td>0.050118</td>\n",
       "    </tr>\n",
       "    <tr>\n",
       "      <th>1</th>\n",
       "      <td>tBodyAccJerk-mad()-X</td>\n",
       "      <td>0.050069</td>\n",
       "    </tr>\n",
       "    <tr>\n",
       "      <th>2</th>\n",
       "      <td>tBodyAccJerkMag-sma()</td>\n",
       "      <td>0.039949</td>\n",
       "    </tr>\n",
       "    <tr>\n",
       "      <th>3</th>\n",
       "      <td>tBodyAccJerkMag-mean()</td>\n",
       "      <td>0.039908</td>\n",
       "    </tr>\n",
       "    <tr>\n",
       "      <th>4</th>\n",
       "      <td>tBodyAccJerk-sma()</td>\n",
       "      <td>0.039901</td>\n",
       "    </tr>\n",
       "  </tbody>\n",
       "</table>\n",
       "</div>"
      ],
      "text/plain": [
       "             feature_name  feature_importance\n",
       "0    fBodyAccJerk-std()-X            0.050118\n",
       "1    tBodyAccJerk-mad()-X            0.050069\n",
       "2   tBodyAccJerkMag-sma()            0.039949\n",
       "3  tBodyAccJerkMag-mean()            0.039908\n",
       "4      tBodyAccJerk-sma()            0.039901"
      ]
     },
     "execution_count": 1548,
     "metadata": {},
     "output_type": "execute_result"
    },
    {
     "data": {
      "image/png": "[encoded data removed]",
      "text/plain": [
       "<Figure size 720x360 with 1 Axes>"
      ]
     },
     "metadata": {
      "needs_background": "light"
     },
     "output_type": "display_data"
    }
   ],
   "source": [
    "plot_feature_importance(model4.feature_importances_, x_train.columns, topn=5)"
   ]
  },
  {
   "cell_type": "code",
   "execution_count": null,
   "metadata": {},
   "outputs": [],
   "source": []
  },
  {
   "cell_type": "code",
   "execution_count": 1549,
   "metadata": {
    "colab": {
     "base_uri": "https://localhost:8080/",
     "height": 719
    },
    "executionInfo": {
     "elapsed": 11,
     "status": "ok",
     "timestamp": 1682560343851,
     "user": {
      "displayName": "허신 - Business Intelligence",
      "userId": "11511914061488776232"
     },
     "user_tz": -540
    },
    "id": "kS1AhionkeAa",
    "outputId": "31ec0243-df29-4649-d29b-61f55cf1b1df"
   },
   "outputs": [
    {
     "data": {
      "text/html": [
       "<div>\n",
       "<style scoped>\n",
       "    .dataframe tbody tr th:only-of-type {\n",
       "        vertical-align: middle;\n",
       "    }\n",
       "\n",
       "    .dataframe tbody tr th {\n",
       "        vertical-align: top;\n",
       "    }\n",
       "\n",
       "    .dataframe thead th {\n",
       "        text-align: right;\n",
       "    }\n",
       "</style>\n",
       "<table border=\"1\" class=\"dataframe\">\n",
       "  <thead>\n",
       "    <tr style=\"text-align: right;\">\n",
       "      <th></th>\n",
       "      <th>feature</th>\n",
       "      <th>Importances</th>\n",
       "    </tr>\n",
       "  </thead>\n",
       "  <tbody>\n",
       "    <tr>\n",
       "      <th>0</th>\n",
       "      <td>fBodyAccJerk-std()-X</td>\n",
       "      <td>0.050118</td>\n",
       "    </tr>\n",
       "    <tr>\n",
       "      <th>1</th>\n",
       "      <td>tBodyAccJerk-mad()-X</td>\n",
       "      <td>0.050069</td>\n",
       "    </tr>\n",
       "    <tr>\n",
       "      <th>2</th>\n",
       "      <td>tBodyAccJerkMag-sma()</td>\n",
       "      <td>0.039949</td>\n",
       "    </tr>\n",
       "    <tr>\n",
       "      <th>3</th>\n",
       "      <td>tBodyAccJerkMag-mean()</td>\n",
       "      <td>0.039908</td>\n",
       "    </tr>\n",
       "    <tr>\n",
       "      <th>4</th>\n",
       "      <td>tBodyAccJerk-sma()</td>\n",
       "      <td>0.039901</td>\n",
       "    </tr>\n",
       "    <tr>\n",
       "      <th>...</th>\n",
       "      <td>...</td>\n",
       "      <td>...</td>\n",
       "    </tr>\n",
       "    <tr>\n",
       "      <th>556</th>\n",
       "      <td>tBodyAccMag-iqr()</td>\n",
       "      <td>0.000000</td>\n",
       "    </tr>\n",
       "    <tr>\n",
       "      <th>557</th>\n",
       "      <td>tBodyAccMag-energy()</td>\n",
       "      <td>0.000000</td>\n",
       "    </tr>\n",
       "    <tr>\n",
       "      <th>558</th>\n",
       "      <td>tBodyAccMag-sma()</td>\n",
       "      <td>0.000000</td>\n",
       "    </tr>\n",
       "    <tr>\n",
       "      <th>559</th>\n",
       "      <td>tBodyAccMag-min()</td>\n",
       "      <td>0.000000</td>\n",
       "    </tr>\n",
       "    <tr>\n",
       "      <th>560</th>\n",
       "      <td>angle(Z,gravityMean)</td>\n",
       "      <td>0.000000</td>\n",
       "    </tr>\n",
       "  </tbody>\n",
       "</table>\n",
       "<p>561 rows × 2 columns</p>\n",
       "</div>"
      ],
      "text/plain": [
       "                    feature  Importances\n",
       "0      fBodyAccJerk-std()-X     0.050118\n",
       "1      tBodyAccJerk-mad()-X     0.050069\n",
       "2     tBodyAccJerkMag-sma()     0.039949\n",
       "3    tBodyAccJerkMag-mean()     0.039908\n",
       "4        tBodyAccJerk-sma()     0.039901\n",
       "..                      ...          ...\n",
       "556       tBodyAccMag-iqr()     0.000000\n",
       "557    tBodyAccMag-energy()     0.000000\n",
       "558       tBodyAccMag-sma()     0.000000\n",
       "559       tBodyAccMag-min()     0.000000\n",
       "560    angle(Z,gravityMean)     0.000000\n",
       "\n",
       "[561 rows x 2 columns]"
      ]
     },
     "execution_count": 1549,
     "metadata": {},
     "output_type": "execute_result"
    }
   ],
   "source": [
    "df4.to_csv('df_feature_imp4.csv',index=False)\n",
    "df_feature_imp4=pd.read_csv('df_feature_imp4.csv')\n",
    "df_feature_imp4"
   ]
  },
  {
   "cell_type": "code",
   "execution_count": null,
   "metadata": {},
   "outputs": [],
   "source": []
  },
  {
   "cell_type": "markdown",
   "metadata": {
    "id": "a6Al6G2eldxg"
   },
   "source": [
    "#### 4) feature 그룹별 분석"
   ]
  },
  {
   "cell_type": "markdown",
   "metadata": {
    "id": "JcOhI5lOypFl"
   },
   "source": [
    "* 결과 merge"
   ]
  },
  {
   "cell_type": "code",
   "execution_count": 1550,
   "metadata": {
    "colab": {
     "base_uri": "https://localhost:8080/",
     "height": 221
    },
    "executionInfo": {
     "elapsed": 18,
     "status": "ok",
     "timestamp": 1682560345936,
     "user": {
      "displayName": "허신 - Business Intelligence",
      "userId": "11511914061488776232"
     },
     "user_tz": -540
    },
    "id": "4mu4gMetkYLV",
    "outputId": "2fd71dfd-65a8-4fdf-9316-9d6e3d8c2b63"
   },
   "outputs": [
    {
     "name": "stderr",
     "output_type": "stream",
     "text": [
      "C:\\Users\\wl\\anaconda3\\lib\\site-packages\\IPython\\core\\displayhook.py:275: UserWarning: Output cache limit (currently 1000 entries) hit.\n",
      "Flushing oldest 200 entries.\n",
      "  warn('Output cache limit (currently {sz} entries) hit.\\n'\n"
     ]
    },
    {
     "data": {
      "text/html": [
       "<div>\n",
       "<style scoped>\n",
       "    .dataframe tbody tr th:only-of-type {\n",
       "        vertical-align: middle;\n",
       "    }\n",
       "\n",
       "    .dataframe tbody tr th {\n",
       "        vertical-align: top;\n",
       "    }\n",
       "\n",
       "    .dataframe thead th {\n",
       "        text-align: right;\n",
       "    }\n",
       "</style>\n",
       "<table border=\"1\" class=\"dataframe\">\n",
       "  <thead>\n",
       "    <tr style=\"text-align: right;\">\n",
       "      <th></th>\n",
       "      <th>feature</th>\n",
       "      <th>Importances</th>\n",
       "    </tr>\n",
       "  </thead>\n",
       "  <tbody>\n",
       "    <tr>\n",
       "      <th>0</th>\n",
       "      <td>fBodyAccJerk-std()-X</td>\n",
       "      <td>0.050118</td>\n",
       "    </tr>\n",
       "    <tr>\n",
       "      <th>1</th>\n",
       "      <td>tBodyAccJerk-mad()-X</td>\n",
       "      <td>0.050069</td>\n",
       "    </tr>\n",
       "    <tr>\n",
       "      <th>2</th>\n",
       "      <td>tBodyAccJerkMag-sma()</td>\n",
       "      <td>0.039949</td>\n",
       "    </tr>\n",
       "    <tr>\n",
       "      <th>3</th>\n",
       "      <td>tBodyAccJerkMag-mean()</td>\n",
       "      <td>0.039908</td>\n",
       "    </tr>\n",
       "    <tr>\n",
       "      <th>4</th>\n",
       "      <td>tBodyAccJerk-sma()</td>\n",
       "      <td>0.039901</td>\n",
       "    </tr>\n",
       "  </tbody>\n",
       "</table>\n",
       "</div>"
      ],
      "text/plain": [
       "                  feature  Importances\n",
       "0    fBodyAccJerk-std()-X     0.050118\n",
       "1    tBodyAccJerk-mad()-X     0.050069\n",
       "2   tBodyAccJerkMag-sma()     0.039949\n",
       "3  tBodyAccJerkMag-mean()     0.039908\n",
       "4      tBodyAccJerk-sma()     0.039901"
      ]
     },
     "execution_count": 1550,
     "metadata": {},
     "output_type": "execute_result"
    }
   ],
   "source": [
    "df_feature_imp4.head()"
   ]
  },
  {
   "cell_type": "code",
   "execution_count": 1551,
   "metadata": {},
   "outputs": [
    {
     "data": {
      "text/html": [
       "<div>\n",
       "<style scoped>\n",
       "    .dataframe tbody tr th:only-of-type {\n",
       "        vertical-align: middle;\n",
       "    }\n",
       "\n",
       "    .dataframe tbody tr th {\n",
       "        vertical-align: top;\n",
       "    }\n",
       "\n",
       "    .dataframe thead th {\n",
       "        text-align: right;\n",
       "    }\n",
       "</style>\n",
       "<table border=\"1\" class=\"dataframe\">\n",
       "  <thead>\n",
       "    <tr style=\"text-align: right;\">\n",
       "      <th></th>\n",
       "      <th>sensor</th>\n",
       "      <th>agg</th>\n",
       "      <th>axis</th>\n",
       "      <th>feature_name</th>\n",
       "    </tr>\n",
       "  </thead>\n",
       "  <tbody>\n",
       "    <tr>\n",
       "      <th>0</th>\n",
       "      <td>tBodyAcc</td>\n",
       "      <td>mean()</td>\n",
       "      <td>X</td>\n",
       "      <td>tBodyAcc-mean()-X</td>\n",
       "    </tr>\n",
       "    <tr>\n",
       "      <th>1</th>\n",
       "      <td>tBodyAcc</td>\n",
       "      <td>mean()</td>\n",
       "      <td>Y</td>\n",
       "      <td>tBodyAcc-mean()-Y</td>\n",
       "    </tr>\n",
       "    <tr>\n",
       "      <th>2</th>\n",
       "      <td>tBodyAcc</td>\n",
       "      <td>mean()</td>\n",
       "      <td>Z</td>\n",
       "      <td>tBodyAcc-mean()-Z</td>\n",
       "    </tr>\n",
       "    <tr>\n",
       "      <th>3</th>\n",
       "      <td>tBodyAcc</td>\n",
       "      <td>std()</td>\n",
       "      <td>X</td>\n",
       "      <td>tBodyAcc-std()-X</td>\n",
       "    </tr>\n",
       "    <tr>\n",
       "      <th>4</th>\n",
       "      <td>tBodyAcc</td>\n",
       "      <td>std()</td>\n",
       "      <td>Y</td>\n",
       "      <td>tBodyAcc-std()-Y</td>\n",
       "    </tr>\n",
       "  </tbody>\n",
       "</table>\n",
       "</div>"
      ],
      "text/plain": [
       "     sensor     agg axis       feature_name\n",
       "0  tBodyAcc  mean()    X  tBodyAcc-mean()-X\n",
       "1  tBodyAcc  mean()    Y  tBodyAcc-mean()-Y\n",
       "2  tBodyAcc  mean()    Z  tBodyAcc-mean()-Z\n",
       "3  tBodyAcc   std()    X   tBodyAcc-std()-X\n",
       "4  tBodyAcc   std()    Y   tBodyAcc-std()-Y"
      ]
     },
     "execution_count": 1551,
     "metadata": {},
     "output_type": "execute_result"
    }
   ],
   "source": [
    "df_feature.head()"
   ]
  },
  {
   "cell_type": "code",
   "execution_count": null,
   "metadata": {},
   "outputs": [],
   "source": []
  },
  {
   "cell_type": "code",
   "execution_count": 1552,
   "metadata": {},
   "outputs": [
    {
     "data": {
      "text/html": [
       "<div>\n",
       "<style scoped>\n",
       "    .dataframe tbody tr th:only-of-type {\n",
       "        vertical-align: middle;\n",
       "    }\n",
       "\n",
       "    .dataframe tbody tr th {\n",
       "        vertical-align: top;\n",
       "    }\n",
       "\n",
       "    .dataframe thead th {\n",
       "        text-align: right;\n",
       "    }\n",
       "</style>\n",
       "<table border=\"1\" class=\"dataframe\">\n",
       "  <thead>\n",
       "    <tr style=\"text-align: right;\">\n",
       "      <th></th>\n",
       "      <th>feature</th>\n",
       "      <th>Importances</th>\n",
       "      <th>sensor</th>\n",
       "      <th>agg</th>\n",
       "      <th>axis</th>\n",
       "      <th>feature_name</th>\n",
       "    </tr>\n",
       "  </thead>\n",
       "  <tbody>\n",
       "    <tr>\n",
       "      <th>0</th>\n",
       "      <td>fBodyAccJerk-std()-X</td>\n",
       "      <td>0.050118</td>\n",
       "      <td>fBodyAccJerk</td>\n",
       "      <td>std()</td>\n",
       "      <td>X</td>\n",
       "      <td>fBodyAccJerk-std()-X</td>\n",
       "    </tr>\n",
       "    <tr>\n",
       "      <th>1</th>\n",
       "      <td>tBodyAccJerk-mad()-X</td>\n",
       "      <td>0.050069</td>\n",
       "      <td>tBodyAccJerk</td>\n",
       "      <td>mad()</td>\n",
       "      <td>X</td>\n",
       "      <td>tBodyAccJerk-mad()-X</td>\n",
       "    </tr>\n",
       "    <tr>\n",
       "      <th>2</th>\n",
       "      <td>tBodyAccJerkMag-sma()</td>\n",
       "      <td>0.039949</td>\n",
       "      <td>tBodyAccJerkMag</td>\n",
       "      <td>sma()</td>\n",
       "      <td>NaN</td>\n",
       "      <td>tBodyAccJerkMag-sma()</td>\n",
       "    </tr>\n",
       "    <tr>\n",
       "      <th>3</th>\n",
       "      <td>tBodyAccJerkMag-mean()</td>\n",
       "      <td>0.039908</td>\n",
       "      <td>tBodyAccJerkMag</td>\n",
       "      <td>mean()</td>\n",
       "      <td>NaN</td>\n",
       "      <td>tBodyAccJerkMag-mean()</td>\n",
       "    </tr>\n",
       "    <tr>\n",
       "      <th>4</th>\n",
       "      <td>tBodyAccJerk-sma()</td>\n",
       "      <td>0.039901</td>\n",
       "      <td>tBodyAccJerk</td>\n",
       "      <td>sma()</td>\n",
       "      <td>NaN</td>\n",
       "      <td>tBodyAccJerk-sma()</td>\n",
       "    </tr>\n",
       "  </tbody>\n",
       "</table>\n",
       "</div>"
      ],
      "text/plain": [
       "                  feature  Importances           sensor     agg axis  \\\n",
       "0    fBodyAccJerk-std()-X     0.050118     fBodyAccJerk   std()    X   \n",
       "1    tBodyAccJerk-mad()-X     0.050069     tBodyAccJerk   mad()    X   \n",
       "2   tBodyAccJerkMag-sma()     0.039949  tBodyAccJerkMag   sma()  NaN   \n",
       "3  tBodyAccJerkMag-mean()     0.039908  tBodyAccJerkMag  mean()  NaN   \n",
       "4      tBodyAccJerk-sma()     0.039901     tBodyAccJerk   sma()  NaN   \n",
       "\n",
       "             feature_name  \n",
       "0    fBodyAccJerk-std()-X  \n",
       "1    tBodyAccJerk-mad()-X  \n",
       "2   tBodyAccJerkMag-sma()  \n",
       "3  tBodyAccJerkMag-mean()  \n",
       "4      tBodyAccJerk-sma()  "
      ]
     },
     "execution_count": 1552,
     "metadata": {},
     "output_type": "execute_result"
    }
   ],
   "source": [
    "df4 = pd.merge(df_feature_imp4, df_feature, left_on='feature', right_on='feature_name', how='inner')\n",
    "df4.head()"
   ]
  },
  {
   "cell_type": "code",
   "execution_count": 1553,
   "metadata": {},
   "outputs": [
    {
     "data": {
      "text/html": [
       "<div>\n",
       "<style scoped>\n",
       "    .dataframe tbody tr th:only-of-type {\n",
       "        vertical-align: middle;\n",
       "    }\n",
       "\n",
       "    .dataframe tbody tr th {\n",
       "        vertical-align: top;\n",
       "    }\n",
       "\n",
       "    .dataframe thead th {\n",
       "        text-align: right;\n",
       "    }\n",
       "</style>\n",
       "<table border=\"1\" class=\"dataframe\">\n",
       "  <thead>\n",
       "    <tr style=\"text-align: right;\">\n",
       "      <th></th>\n",
       "      <th>feature</th>\n",
       "      <th>Importances</th>\n",
       "      <th>sensor</th>\n",
       "      <th>agg</th>\n",
       "      <th>axis</th>\n",
       "    </tr>\n",
       "  </thead>\n",
       "  <tbody>\n",
       "    <tr>\n",
       "      <th>0</th>\n",
       "      <td>fBodyAccJerk-std()-X</td>\n",
       "      <td>0.050118</td>\n",
       "      <td>fBodyAccJerk</td>\n",
       "      <td>std()</td>\n",
       "      <td>X</td>\n",
       "    </tr>\n",
       "    <tr>\n",
       "      <th>1</th>\n",
       "      <td>tBodyAccJerk-mad()-X</td>\n",
       "      <td>0.050069</td>\n",
       "      <td>tBodyAccJerk</td>\n",
       "      <td>mad()</td>\n",
       "      <td>X</td>\n",
       "    </tr>\n",
       "    <tr>\n",
       "      <th>2</th>\n",
       "      <td>tBodyAccJerkMag-sma()</td>\n",
       "      <td>0.039949</td>\n",
       "      <td>tBodyAccJerkMag</td>\n",
       "      <td>sma()</td>\n",
       "      <td>NaN</td>\n",
       "    </tr>\n",
       "    <tr>\n",
       "      <th>3</th>\n",
       "      <td>tBodyAccJerkMag-mean()</td>\n",
       "      <td>0.039908</td>\n",
       "      <td>tBodyAccJerkMag</td>\n",
       "      <td>mean()</td>\n",
       "      <td>NaN</td>\n",
       "    </tr>\n",
       "    <tr>\n",
       "      <th>4</th>\n",
       "      <td>tBodyAccJerk-sma()</td>\n",
       "      <td>0.039901</td>\n",
       "      <td>tBodyAccJerk</td>\n",
       "      <td>sma()</td>\n",
       "      <td>NaN</td>\n",
       "    </tr>\n",
       "  </tbody>\n",
       "</table>\n",
       "</div>"
      ],
      "text/plain": [
       "                  feature  Importances           sensor     agg axis\n",
       "0    fBodyAccJerk-std()-X     0.050118     fBodyAccJerk   std()    X\n",
       "1    tBodyAccJerk-mad()-X     0.050069     tBodyAccJerk   mad()    X\n",
       "2   tBodyAccJerkMag-sma()     0.039949  tBodyAccJerkMag   sma()  NaN\n",
       "3  tBodyAccJerkMag-mean()     0.039908  tBodyAccJerkMag  mean()  NaN\n",
       "4      tBodyAccJerk-sma()     0.039901     tBodyAccJerk   sma()  NaN"
      ]
     },
     "execution_count": 1553,
     "metadata": {},
     "output_type": "execute_result"
    }
   ],
   "source": [
    "df4.drop(['feature_name'], axis=1, inplace=True)\n",
    "df4.head()"
   ]
  },
  {
   "cell_type": "code",
   "execution_count": null,
   "metadata": {},
   "outputs": [],
   "source": []
  },
  {
   "cell_type": "markdown",
   "metadata": {
    "id": "s6ovTvb0z0k5"
   },
   "source": [
    "* sensor 별 중요도"
   ]
  },
  {
   "cell_type": "code",
   "execution_count": 1554,
   "metadata": {
    "colab": {
     "base_uri": "https://localhost:8080/",
     "height": 666
    },
    "executionInfo": {
     "elapsed": 16,
     "status": "ok",
     "timestamp": 1682560345936,
     "user": {
      "displayName": "허신 - Business Intelligence",
      "userId": "11511914061488776232"
     },
     "user_tz": -540
    },
    "id": "dWE176WCz0k6",
    "outputId": "f2ba0a72-749e-447b-b289-7a778ecf9163"
   },
   "outputs": [
    {
     "data": {
      "text/html": [
       "<div>\n",
       "<style scoped>\n",
       "    .dataframe tbody tr th:only-of-type {\n",
       "        vertical-align: middle;\n",
       "    }\n",
       "\n",
       "    .dataframe tbody tr th {\n",
       "        vertical-align: top;\n",
       "    }\n",
       "\n",
       "    .dataframe thead th {\n",
       "        text-align: right;\n",
       "    }\n",
       "</style>\n",
       "<table border=\"1\" class=\"dataframe\">\n",
       "  <thead>\n",
       "    <tr style=\"text-align: right;\">\n",
       "      <th></th>\n",
       "      <th>Importances</th>\n",
       "    </tr>\n",
       "    <tr>\n",
       "      <th>sensor</th>\n",
       "      <th></th>\n",
       "    </tr>\n",
       "  </thead>\n",
       "  <tbody>\n",
       "    <tr>\n",
       "      <th>fBodyAccJerk</th>\n",
       "      <td>0.370157</td>\n",
       "    </tr>\n",
       "    <tr>\n",
       "      <th>tBodyAccJerk</th>\n",
       "      <td>0.269124</td>\n",
       "    </tr>\n",
       "    <tr>\n",
       "      <th>tBodyAccJerkMag</th>\n",
       "      <td>0.149483</td>\n",
       "    </tr>\n",
       "    <tr>\n",
       "      <th>fBodyAcc</th>\n",
       "      <td>0.070253</td>\n",
       "    </tr>\n",
       "    <tr>\n",
       "      <th>tBodyGyroJerk</th>\n",
       "      <td>0.069829</td>\n",
       "    </tr>\n",
       "    <tr>\n",
       "      <th>fBodyGyro</th>\n",
       "      <td>0.030297</td>\n",
       "    </tr>\n",
       "    <tr>\n",
       "      <th>fBodyBodyAccJerkMag</th>\n",
       "      <td>0.029794</td>\n",
       "    </tr>\n",
       "    <tr>\n",
       "      <th>tBodyAcc</th>\n",
       "      <td>0.010219</td>\n",
       "    </tr>\n",
       "    <tr>\n",
       "      <th>tGravityAcc</th>\n",
       "      <td>0.000281</td>\n",
       "    </tr>\n",
       "    <tr>\n",
       "      <th>tBodyGyro</th>\n",
       "      <td>0.000256</td>\n",
       "    </tr>\n",
       "  </tbody>\n",
       "</table>\n",
       "</div>"
      ],
      "text/plain": [
       "                     Importances\n",
       "sensor                          \n",
       "fBodyAccJerk            0.370157\n",
       "tBodyAccJerk            0.269124\n",
       "tBodyAccJerkMag         0.149483\n",
       "fBodyAcc                0.070253\n",
       "tBodyGyroJerk           0.069829\n",
       "fBodyGyro               0.030297\n",
       "fBodyBodyAccJerkMag     0.029794\n",
       "tBodyAcc                0.010219\n",
       "tGravityAcc             0.000281\n",
       "tBodyGyro               0.000256"
      ]
     },
     "execution_count": 1554,
     "metadata": {},
     "output_type": "execute_result"
    }
   ],
   "source": [
    "# sensor 별 중요도 합계\n",
    "sorted_df = df4.groupby('sensor')[['Importances']].sum().sort_values(by='Importances', ascending=False)\n",
    "\n",
    "# 상위 변수 그룹별 비교 분석\n",
    "sorted_df[:10]"
   ]
  },
  {
   "cell_type": "code",
   "execution_count": 1555,
   "metadata": {},
   "outputs": [
    {
     "data": {
      "text/plain": [
       "0         std()\n",
       "1         mad()\n",
       "2         sma()\n",
       "3        mean()\n",
       "4         sma()\n",
       "         ...   \n",
       "556       iqr()\n",
       "557    energy()\n",
       "558       sma()\n",
       "559       min()\n",
       "560           Z\n",
       "Name: agg, Length: 561, dtype: object"
      ]
     },
     "execution_count": 1555,
     "metadata": {},
     "output_type": "execute_result"
    }
   ],
   "source": [
    "df4['agg']"
   ]
  },
  {
   "cell_type": "code",
   "execution_count": null,
   "metadata": {},
   "outputs": [],
   "source": []
  },
  {
   "cell_type": "markdown",
   "metadata": {
    "id": "TEidPjB0z0k6"
   },
   "source": [
    "* sensor + agg 별 중요도"
   ]
  },
  {
   "cell_type": "code",
   "execution_count": 1556,
   "metadata": {
    "colab": {
     "base_uri": "https://localhost:8080/",
     "height": 639
    },
    "executionInfo": {
     "elapsed": 16,
     "status": "ok",
     "timestamp": 1682560345937,
     "user": {
      "displayName": "허신 - Business Intelligence",
      "userId": "11511914061488776232"
     },
     "user_tz": -540
    },
    "id": "PaAdBGzYz0k6",
    "outputId": "7a274677-97ce-4ad4-e89f-b6b7093076a5"
   },
   "outputs": [
    {
     "data": {
      "text/html": [
       "<div>\n",
       "<style scoped>\n",
       "    .dataframe tbody tr th:only-of-type {\n",
       "        vertical-align: middle;\n",
       "    }\n",
       "\n",
       "    .dataframe tbody tr th {\n",
       "        vertical-align: top;\n",
       "    }\n",
       "\n",
       "    .dataframe thead th {\n",
       "        text-align: right;\n",
       "    }\n",
       "</style>\n",
       "<table border=\"1\" class=\"dataframe\">\n",
       "  <thead>\n",
       "    <tr style=\"text-align: right;\">\n",
       "      <th></th>\n",
       "      <th></th>\n",
       "      <th>Importances</th>\n",
       "    </tr>\n",
       "    <tr>\n",
       "      <th>sensor</th>\n",
       "      <th>agg</th>\n",
       "      <th></th>\n",
       "    </tr>\n",
       "  </thead>\n",
       "  <tbody>\n",
       "    <tr>\n",
       "      <th rowspan=\"2\" valign=\"top\">fBodyAccJerk</th>\n",
       "      <th>bandsEnergy()</th>\n",
       "      <td>0.159808</td>\n",
       "    </tr>\n",
       "    <tr>\n",
       "      <th>std()</th>\n",
       "      <td>0.070039</td>\n",
       "    </tr>\n",
       "    <tr>\n",
       "      <th>tBodyAccJerk</th>\n",
       "      <th>mad()</th>\n",
       "      <td>0.069941</td>\n",
       "    </tr>\n",
       "    <tr>\n",
       "      <th rowspan=\"2\" valign=\"top\">tBodyAccJerkMag</th>\n",
       "      <th>sma()</th>\n",
       "      <td>0.039949</td>\n",
       "    </tr>\n",
       "    <tr>\n",
       "      <th>mean()</th>\n",
       "      <td>0.039908</td>\n",
       "    </tr>\n",
       "    <tr>\n",
       "      <th rowspan=\"4\" valign=\"top\">tBodyAccJerk</th>\n",
       "      <th>sma()</th>\n",
       "      <td>0.039901</td>\n",
       "    </tr>\n",
       "    <tr>\n",
       "      <th>iqr()</th>\n",
       "      <td>0.039882</td>\n",
       "    </tr>\n",
       "    <tr>\n",
       "      <th>energy()</th>\n",
       "      <td>0.039834</td>\n",
       "    </tr>\n",
       "    <tr>\n",
       "      <th>entropy()</th>\n",
       "      <td>0.039735</td>\n",
       "    </tr>\n",
       "    <tr>\n",
       "      <th>fBodyAccJerk</th>\n",
       "      <th>energy()</th>\n",
       "      <td>0.030010</td>\n",
       "    </tr>\n",
       "  </tbody>\n",
       "</table>\n",
       "</div>"
      ],
      "text/plain": [
       "                               Importances\n",
       "sensor          agg                       \n",
       "fBodyAccJerk    bandsEnergy()     0.159808\n",
       "                std()             0.070039\n",
       "tBodyAccJerk    mad()             0.069941\n",
       "tBodyAccJerkMag sma()             0.039949\n",
       "                mean()            0.039908\n",
       "tBodyAccJerk    sma()             0.039901\n",
       "                iqr()             0.039882\n",
       "                energy()          0.039834\n",
       "                entropy()         0.039735\n",
       "fBodyAccJerk    energy()          0.030010"
      ]
     },
     "execution_count": 1556,
     "metadata": {},
     "output_type": "execute_result"
    }
   ],
   "source": [
    "# sensor+agge별 중요도 합계\n",
    "sorted_df = df4.groupby(['sensor','agg'])[['Importances']].sum().sort_values(by='Importances', ascending=False)\n",
    "sorted_df[:10]"
   ]
  },
  {
   "cell_type": "code",
   "execution_count": null,
   "metadata": {
    "colab": {
     "base_uri": "https://localhost:8080/",
     "height": 666
    },
    "executionInfo": {
     "elapsed": 16,
     "status": "ok",
     "timestamp": 1682560345937,
     "user": {
      "displayName": "허신 - Business Intelligence",
      "userId": "11511914061488776232"
     },
     "user_tz": -540
    },
    "id": "1yJVmh-dz0k6",
    "outputId": "2bec1ccf-ad60-4466-c34a-d31583e305de"
   },
   "outputs": [],
   "source": []
  },
  {
   "cell_type": "markdown",
   "metadata": {
    "id": "gDyBWi7yBslD"
   },
   "source": [
    "### (2) 개별 동작 분석 : is_standing\n"
   ]
  },
  {
   "cell_type": "markdown",
   "metadata": {
    "id": "Da8VZAS40Wyg"
   },
   "source": [
    "* **세부 요구사항**\n",
    "    - Target인 Activity를 is_standing 변수로 변경하시오.\n",
    "        * 값 1 : STANDING\n",
    "        * 값 0 : 나머지\n",
    "    - is_standing 을 예측하기 위한 기본 모델을 생성하시오.\n",
    "        * x, is_standing 을 이용하여 train과 validation으로 데이터 분할\n",
    "        * 기본 모델링\n",
    "    - is_standing 을 구분하는데 중요한 변수 상위 5를 분석하시오.\n",
    "    - is_standing 을 구분하는데 중요한 변수 그룹을 분석하시오.\n",
    "        * sensor별\n",
    "        * sensor+agg 별\n"
   ]
  },
  {
   "cell_type": "markdown",
   "metadata": {
    "id": "ef6LvNdQ0t3o"
   },
   "source": [
    "#### 1) is_standing 추가"
   ]
  },
  {
   "cell_type": "code",
   "execution_count": 1557,
   "metadata": {},
   "outputs": [
    {
     "data": {
      "text/plain": [
       "LAYING                1115\n",
       "STANDING              1087\n",
       "SITTING               1032\n",
       "WALKING                998\n",
       "WALKING_UPSTAIRS       858\n",
       "WALKING_DOWNSTAIRS     791\n",
       "Name: Activity, dtype: int64"
      ]
     },
     "execution_count": 1557,
     "metadata": {},
     "output_type": "execute_result"
    }
   ],
   "source": [
    "df_train['Activity'].value_counts()"
   ]
  },
  {
   "cell_type": "code",
   "execution_count": 1558,
   "metadata": {},
   "outputs": [
    {
     "data": {
      "text/plain": [
       "0    4794\n",
       "1    1087\n",
       "Name: is_standing, dtype: int64"
      ]
     },
     "execution_count": 1558,
     "metadata": {},
     "output_type": "execute_result"
    }
   ],
   "source": [
    "df_train['is_standing'] = df_train['Activity'].replace({'STANDING': 1, 'SITTING': 0, 'LAYING': 0, 'WALKING': 0, 'WALKING_UPSTAIRS': 0, 'WALKING_DOWNSTAIRS': 0})\n",
    "df_train['is_standing'].value_counts()"
   ]
  },
  {
   "cell_type": "code",
   "execution_count": 1559,
   "metadata": {},
   "outputs": [
    {
     "data": {
      "text/html": [
       "<div>\n",
       "<style scoped>\n",
       "    .dataframe tbody tr th:only-of-type {\n",
       "        vertical-align: middle;\n",
       "    }\n",
       "\n",
       "    .dataframe tbody tr th {\n",
       "        vertical-align: top;\n",
       "    }\n",
       "\n",
       "    .dataframe thead th {\n",
       "        text-align: right;\n",
       "    }\n",
       "</style>\n",
       "<table border=\"1\" class=\"dataframe\">\n",
       "  <thead>\n",
       "    <tr style=\"text-align: right;\">\n",
       "      <th></th>\n",
       "      <th>tBodyAcc-mean()-X</th>\n",
       "      <th>tBodyAcc-mean()-Y</th>\n",
       "      <th>tBodyAcc-mean()-Z</th>\n",
       "      <th>tBodyAcc-std()-X</th>\n",
       "      <th>tBodyAcc-std()-Y</th>\n",
       "      <th>tBodyAcc-std()-Z</th>\n",
       "      <th>tBodyAcc-mad()-X</th>\n",
       "      <th>tBodyAcc-mad()-Y</th>\n",
       "      <th>tBodyAcc-mad()-Z</th>\n",
       "      <th>tBodyAcc-max()-X</th>\n",
       "      <th>...</th>\n",
       "      <th>angle(tBodyAccMean,gravity)</th>\n",
       "      <th>angle(tBodyAccJerkMean),gravityMean)</th>\n",
       "      <th>angle(tBodyGyroMean,gravityMean)</th>\n",
       "      <th>angle(tBodyGyroJerkMean,gravityMean)</th>\n",
       "      <th>angle(X,gravityMean)</th>\n",
       "      <th>angle(Y,gravityMean)</th>\n",
       "      <th>angle(Z,gravityMean)</th>\n",
       "      <th>Activity</th>\n",
       "      <th>is_dynamic</th>\n",
       "      <th>is_standing</th>\n",
       "    </tr>\n",
       "  </thead>\n",
       "  <tbody>\n",
       "    <tr>\n",
       "      <th>0</th>\n",
       "      <td>0.288508</td>\n",
       "      <td>-0.009196</td>\n",
       "      <td>-0.103362</td>\n",
       "      <td>-0.988986</td>\n",
       "      <td>-0.962797</td>\n",
       "      <td>-0.967422</td>\n",
       "      <td>-0.989000</td>\n",
       "      <td>-0.962596</td>\n",
       "      <td>-0.965650</td>\n",
       "      <td>-0.929747</td>\n",
       "      <td>...</td>\n",
       "      <td>-0.042494</td>\n",
       "      <td>-0.044218</td>\n",
       "      <td>0.307873</td>\n",
       "      <td>0.072790</td>\n",
       "      <td>-0.601120</td>\n",
       "      <td>0.331298</td>\n",
       "      <td>0.165163</td>\n",
       "      <td>STANDING</td>\n",
       "      <td>0</td>\n",
       "      <td>1</td>\n",
       "    </tr>\n",
       "    <tr>\n",
       "      <th>1</th>\n",
       "      <td>0.265757</td>\n",
       "      <td>-0.016576</td>\n",
       "      <td>-0.098163</td>\n",
       "      <td>-0.989551</td>\n",
       "      <td>-0.994636</td>\n",
       "      <td>-0.987435</td>\n",
       "      <td>-0.990189</td>\n",
       "      <td>-0.993870</td>\n",
       "      <td>-0.987558</td>\n",
       "      <td>-0.937337</td>\n",
       "      <td>...</td>\n",
       "      <td>-0.062899</td>\n",
       "      <td>0.388459</td>\n",
       "      <td>-0.765014</td>\n",
       "      <td>0.771524</td>\n",
       "      <td>0.345205</td>\n",
       "      <td>-0.769186</td>\n",
       "      <td>-0.147944</td>\n",
       "      <td>LAYING</td>\n",
       "      <td>0</td>\n",
       "      <td>0</td>\n",
       "    </tr>\n",
       "    <tr>\n",
       "      <th>2</th>\n",
       "      <td>0.278709</td>\n",
       "      <td>-0.014511</td>\n",
       "      <td>-0.108717</td>\n",
       "      <td>-0.997720</td>\n",
       "      <td>-0.981088</td>\n",
       "      <td>-0.994008</td>\n",
       "      <td>-0.997934</td>\n",
       "      <td>-0.982187</td>\n",
       "      <td>-0.995017</td>\n",
       "      <td>-0.942584</td>\n",
       "      <td>...</td>\n",
       "      <td>0.000265</td>\n",
       "      <td>-0.525022</td>\n",
       "      <td>-0.891875</td>\n",
       "      <td>0.021528</td>\n",
       "      <td>-0.833564</td>\n",
       "      <td>0.202434</td>\n",
       "      <td>-0.032755</td>\n",
       "      <td>STANDING</td>\n",
       "      <td>0</td>\n",
       "      <td>1</td>\n",
       "    </tr>\n",
       "    <tr>\n",
       "      <th>3</th>\n",
       "      <td>0.289795</td>\n",
       "      <td>-0.035536</td>\n",
       "      <td>-0.150354</td>\n",
       "      <td>-0.231727</td>\n",
       "      <td>-0.006412</td>\n",
       "      <td>-0.338117</td>\n",
       "      <td>-0.273557</td>\n",
       "      <td>0.014245</td>\n",
       "      <td>-0.347916</td>\n",
       "      <td>0.008288</td>\n",
       "      <td>...</td>\n",
       "      <td>-0.255125</td>\n",
       "      <td>0.612804</td>\n",
       "      <td>0.747381</td>\n",
       "      <td>-0.072944</td>\n",
       "      <td>-0.695819</td>\n",
       "      <td>0.287154</td>\n",
       "      <td>0.111388</td>\n",
       "      <td>WALKING</td>\n",
       "      <td>1</td>\n",
       "      <td>0</td>\n",
       "    </tr>\n",
       "    <tr>\n",
       "      <th>4</th>\n",
       "      <td>0.394807</td>\n",
       "      <td>0.034098</td>\n",
       "      <td>0.091229</td>\n",
       "      <td>0.088489</td>\n",
       "      <td>-0.106636</td>\n",
       "      <td>-0.388502</td>\n",
       "      <td>-0.010469</td>\n",
       "      <td>-0.109680</td>\n",
       "      <td>-0.346372</td>\n",
       "      <td>0.584131</td>\n",
       "      <td>...</td>\n",
       "      <td>-0.044344</td>\n",
       "      <td>-0.845268</td>\n",
       "      <td>-0.974650</td>\n",
       "      <td>-0.887846</td>\n",
       "      <td>-0.705029</td>\n",
       "      <td>0.264952</td>\n",
       "      <td>0.137758</td>\n",
       "      <td>WALKING_DOWNSTAIRS</td>\n",
       "      <td>1</td>\n",
       "      <td>0</td>\n",
       "    </tr>\n",
       "  </tbody>\n",
       "</table>\n",
       "<p>5 rows × 564 columns</p>\n",
       "</div>"
      ],
      "text/plain": [
       "   tBodyAcc-mean()-X  tBodyAcc-mean()-Y  tBodyAcc-mean()-Z  tBodyAcc-std()-X  \\\n",
       "0           0.288508          -0.009196          -0.103362         -0.988986   \n",
       "1           0.265757          -0.016576          -0.098163         -0.989551   \n",
       "2           0.278709          -0.014511          -0.108717         -0.997720   \n",
       "3           0.289795          -0.035536          -0.150354         -0.231727   \n",
       "4           0.394807           0.034098           0.091229          0.088489   \n",
       "\n",
       "   tBodyAcc-std()-Y  tBodyAcc-std()-Z  tBodyAcc-mad()-X  tBodyAcc-mad()-Y  \\\n",
       "0         -0.962797         -0.967422         -0.989000         -0.962596   \n",
       "1         -0.994636         -0.987435         -0.990189         -0.993870   \n",
       "2         -0.981088         -0.994008         -0.997934         -0.982187   \n",
       "3         -0.006412         -0.338117         -0.273557          0.014245   \n",
       "4         -0.106636         -0.388502         -0.010469         -0.109680   \n",
       "\n",
       "   tBodyAcc-mad()-Z  tBodyAcc-max()-X  ...  angle(tBodyAccMean,gravity)  \\\n",
       "0         -0.965650         -0.929747  ...                    -0.042494   \n",
       "1         -0.987558         -0.937337  ...                    -0.062899   \n",
       "2         -0.995017         -0.942584  ...                     0.000265   \n",
       "3         -0.347916          0.008288  ...                    -0.255125   \n",
       "4         -0.346372          0.584131  ...                    -0.044344   \n",
       "\n",
       "   angle(tBodyAccJerkMean),gravityMean)  angle(tBodyGyroMean,gravityMean)  \\\n",
       "0                             -0.044218                          0.307873   \n",
       "1                              0.388459                         -0.765014   \n",
       "2                             -0.525022                         -0.891875   \n",
       "3                              0.612804                          0.747381   \n",
       "4                             -0.845268                         -0.974650   \n",
       "\n",
       "   angle(tBodyGyroJerkMean,gravityMean)  angle(X,gravityMean)  \\\n",
       "0                              0.072790             -0.601120   \n",
       "1                              0.771524              0.345205   \n",
       "2                              0.021528             -0.833564   \n",
       "3                             -0.072944             -0.695819   \n",
       "4                             -0.887846             -0.705029   \n",
       "\n",
       "   angle(Y,gravityMean)  angle(Z,gravityMean)            Activity  is_dynamic  \\\n",
       "0              0.331298              0.165163            STANDING           0   \n",
       "1             -0.769186             -0.147944              LAYING           0   \n",
       "2              0.202434             -0.032755            STANDING           0   \n",
       "3              0.287154              0.111388             WALKING           1   \n",
       "4              0.264952              0.137758  WALKING_DOWNSTAIRS           1   \n",
       "\n",
       "   is_standing  \n",
       "0            1  \n",
       "1            0  \n",
       "2            1  \n",
       "3            0  \n",
       "4            0  \n",
       "\n",
       "[5 rows x 564 columns]"
      ]
     },
     "execution_count": 1559,
     "metadata": {},
     "output_type": "execute_result"
    }
   ],
   "source": [
    "df_train.head()"
   ]
  },
  {
   "cell_type": "code",
   "execution_count": null,
   "metadata": {},
   "outputs": [],
   "source": []
  },
  {
   "cell_type": "markdown",
   "metadata": {
    "id": "NqbOOujY0t3p"
   },
   "source": [
    "#### 2) 기본모델 생성"
   ]
  },
  {
   "cell_type": "code",
   "execution_count": 1560,
   "metadata": {
    "executionInfo": {
     "elapsed": 11,
     "status": "ok",
     "timestamp": 1682560345937,
     "user": {
      "displayName": "허신 - Business Intelligence",
      "userId": "11511914061488776232"
     },
     "user_tz": -540
    },
    "id": "jGdsuV0K0t3p"
   },
   "outputs": [
    {
     "data": {
      "text/html": [
       "<style>#sk-container-id-61 {color: black;background-color: white;}#sk-container-id-61 pre{padding: 0;}#sk-container-id-61 div.sk-toggleable {background-color: white;}#sk-container-id-61 label.sk-toggleable__label {cursor: pointer;display: block;width: 100%;margin-bottom: 0;padding: 0.3em;box-sizing: border-box;text-align: center;}#sk-container-id-61 label.sk-toggleable__label-arrow:before {content: \"▸\";float: left;margin-right: 0.25em;color: #696969;}#sk-container-id-61 label.sk-toggleable__label-arrow:hover:before {color: black;}#sk-container-id-61 div.sk-estimator:hover label.sk-toggleable__label-arrow:before {color: black;}#sk-container-id-61 div.sk-toggleable__content {max-height: 0;max-width: 0;overflow: hidden;text-align: left;background-color: #f0f8ff;}#sk-container-id-61 div.sk-toggleable__content pre {margin: 0.2em;color: black;border-radius: 0.25em;background-color: #f0f8ff;}#sk-container-id-61 input.sk-toggleable__control:checked~div.sk-toggleable__content {max-height: 200px;max-width: 100%;overflow: auto;}#sk-container-id-61 input.sk-toggleable__control:checked~label.sk-toggleable__label-arrow:before {content: \"▾\";}#sk-container-id-61 div.sk-estimator input.sk-toggleable__control:checked~label.sk-toggleable__label {background-color: #d4ebff;}#sk-container-id-61 div.sk-label input.sk-toggleable__control:checked~label.sk-toggleable__label {background-color: #d4ebff;}#sk-container-id-61 input.sk-hidden--visually {border: 0;clip: rect(1px 1px 1px 1px);clip: rect(1px, 1px, 1px, 1px);height: 1px;margin: -1px;overflow: hidden;padding: 0;position: absolute;width: 1px;}#sk-container-id-61 div.sk-estimator {font-family: monospace;background-color: #f0f8ff;border: 1px dotted black;border-radius: 0.25em;box-sizing: border-box;margin-bottom: 0.5em;}#sk-container-id-61 div.sk-estimator:hover {background-color: #d4ebff;}#sk-container-id-61 div.sk-parallel-item::after {content: \"\";width: 100%;border-bottom: 1px solid gray;flex-grow: 1;}#sk-container-id-61 div.sk-label:hover label.sk-toggleable__label {background-color: #d4ebff;}#sk-container-id-61 div.sk-serial::before {content: \"\";position: absolute;border-left: 1px solid gray;box-sizing: border-box;top: 0;bottom: 0;left: 50%;z-index: 0;}#sk-container-id-61 div.sk-serial {display: flex;flex-direction: column;align-items: center;background-color: white;padding-right: 0.2em;padding-left: 0.2em;position: relative;}#sk-container-id-61 div.sk-item {position: relative;z-index: 1;}#sk-container-id-61 div.sk-parallel {display: flex;align-items: stretch;justify-content: center;background-color: white;position: relative;}#sk-container-id-61 div.sk-item::before, #sk-container-id-61 div.sk-parallel-item::before {content: \"\";position: absolute;border-left: 1px solid gray;box-sizing: border-box;top: 0;bottom: 0;left: 50%;z-index: -1;}#sk-container-id-61 div.sk-parallel-item {display: flex;flex-direction: column;z-index: 1;position: relative;background-color: white;}#sk-container-id-61 div.sk-parallel-item:first-child::after {align-self: flex-end;width: 50%;}#sk-container-id-61 div.sk-parallel-item:last-child::after {align-self: flex-start;width: 50%;}#sk-container-id-61 div.sk-parallel-item:only-child::after {width: 0;}#sk-container-id-61 div.sk-dashed-wrapped {border: 1px dashed gray;margin: 0 0.4em 0.5em 0.4em;box-sizing: border-box;padding-bottom: 0.4em;background-color: white;}#sk-container-id-61 div.sk-label label {font-family: monospace;font-weight: bold;display: inline-block;line-height: 1.2em;}#sk-container-id-61 div.sk-label-container {text-align: center;}#sk-container-id-61 div.sk-container {/* jupyter's `normalize.less` sets `[hidden] { display: none; }` but bootstrap.min.css set `[hidden] { display: none !important; }` so we also need the `!important` here to be able to override the default hidden behavior on the sphinx rendered scikit-learn.org. See: https://github.com/scikit-learn/scikit-learn/issues/21755 */display: inline-block !important;position: relative;}#sk-container-id-61 div.sk-text-repr-fallback {display: none;}</style><div id=\"sk-container-id-61\" class=\"sk-top-container\"><div class=\"sk-text-repr-fallback\"><pre>RandomForestClassifier()</pre><b>In a Jupyter environment, please rerun this cell to show the HTML representation or trust the notebook. <br />On GitHub, the HTML representation is unable to render, please try loading this page with nbviewer.org.</b></div><div class=\"sk-container\" hidden><div class=\"sk-item\"><div class=\"sk-estimator sk-toggleable\"><input class=\"sk-toggleable__control sk-hidden--visually\" id=\"sk-estimator-id-61\" type=\"checkbox\" checked><label for=\"sk-estimator-id-61\" class=\"sk-toggleable__label sk-toggleable__label-arrow\">RandomForestClassifier</label><div class=\"sk-toggleable__content\"><pre>RandomForestClassifier()</pre></div></div></div></div></div>"
      ],
      "text/plain": [
       "RandomForestClassifier()"
      ]
     },
     "execution_count": 1560,
     "metadata": {},
     "output_type": "execute_result"
    }
   ],
   "source": [
    "y = df_train['is_standing']\n",
    "\n",
    "from sklearn.model_selection import train_test_split\n",
    "x_train, x_val, y_train, y_val = train_test_split(x, y, test_size=0.3, shuffle=True, random_state=1)\n",
    "\n",
    "\n",
    "from sklearn.ensemble import RandomForestClassifier\n",
    "model5 = RandomForestClassifier()\n",
    "model5.fit(x_train, y_train)"
   ]
  },
  {
   "cell_type": "code",
   "execution_count": null,
   "metadata": {},
   "outputs": [],
   "source": [
    "##! 예측"
   ]
  },
  {
   "cell_type": "code",
   "execution_count": null,
   "metadata": {},
   "outputs": [],
   "source": []
  },
  {
   "cell_type": "markdown",
   "metadata": {
    "id": "fSixJzch0t3q"
   },
   "source": [
    "#### 3) 변수중요도 상위 5개 분석"
   ]
  },
  {
   "cell_type": "code",
   "execution_count": 1561,
   "metadata": {},
   "outputs": [
    {
     "data": {
      "text/html": [
       "<div>\n",
       "<style scoped>\n",
       "    .dataframe tbody tr th:only-of-type {\n",
       "        vertical-align: middle;\n",
       "    }\n",
       "\n",
       "    .dataframe tbody tr th {\n",
       "        vertical-align: top;\n",
       "    }\n",
       "\n",
       "    .dataframe thead th {\n",
       "        text-align: right;\n",
       "    }\n",
       "</style>\n",
       "<table border=\"1\" class=\"dataframe\">\n",
       "  <thead>\n",
       "    <tr style=\"text-align: right;\">\n",
       "      <th></th>\n",
       "      <th>feature</th>\n",
       "      <th>Importances</th>\n",
       "    </tr>\n",
       "  </thead>\n",
       "  <tbody>\n",
       "    <tr>\n",
       "      <th>50</th>\n",
       "      <td>tGravityAcc-max()-Y</td>\n",
       "      <td>0.072774</td>\n",
       "    </tr>\n",
       "    <tr>\n",
       "      <th>559</th>\n",
       "      <td>angle(Y,gravityMean)</td>\n",
       "      <td>0.055339</td>\n",
       "    </tr>\n",
       "    <tr>\n",
       "      <th>41</th>\n",
       "      <td>tGravityAcc-mean()-Y</td>\n",
       "      <td>0.046584</td>\n",
       "    </tr>\n",
       "    <tr>\n",
       "      <th>53</th>\n",
       "      <td>tGravityAcc-min()-Y</td>\n",
       "      <td>0.044075</td>\n",
       "    </tr>\n",
       "    <tr>\n",
       "      <th>560</th>\n",
       "      <td>angle(Z,gravityMean)</td>\n",
       "      <td>0.034902</td>\n",
       "    </tr>\n",
       "  </tbody>\n",
       "</table>\n",
       "</div>"
      ],
      "text/plain": [
       "                  feature  Importances\n",
       "50    tGravityAcc-max()-Y     0.072774\n",
       "559  angle(Y,gravityMean)     0.055339\n",
       "41   tGravityAcc-mean()-Y     0.046584\n",
       "53    tGravityAcc-min()-Y     0.044075\n",
       "560  angle(Z,gravityMean)     0.034902"
      ]
     },
     "execution_count": 1561,
     "metadata": {},
     "output_type": "execute_result"
    }
   ],
   "source": [
    "df5 = pd.DataFrame()\n",
    "df5['feature'] = list(x)\n",
    "df5['Importances'] = model5.feature_importances_\n",
    "df5.sort_values(by = 'Importances', ascending=False, inplace=True)\n",
    "df5[:5]"
   ]
  },
  {
   "cell_type": "markdown",
   "metadata": {
    "id": "p2sB5f7D0t3q"
   },
   "source": [
    "* 상위 변수 선정"
   ]
  },
  {
   "cell_type": "code",
   "execution_count": 1562,
   "metadata": {
    "colab": {
     "base_uri": "https://localhost:8080/",
     "height": 221
    },
    "executionInfo": {
     "elapsed": 25,
     "status": "ok",
     "timestamp": 1682560362231,
     "user": {
      "displayName": "허신 - Business Intelligence",
      "userId": "11511914061488776232"
     },
     "user_tz": -540
    },
    "id": "uy7BRb7O0t3q",
    "outputId": "7c2f27ac-7025-4fa6-9c3d-913f553d6db4"
   },
   "outputs": [
    {
     "data": {
      "text/plain": [
       "['tGravityAcc-max()-Y',\n",
       " 'angle(Y,gravityMean)',\n",
       " 'tGravityAcc-mean()-Y',\n",
       " 'tGravityAcc-min()-Y',\n",
       " 'angle(Z,gravityMean)']"
      ]
     },
     "execution_count": 1562,
     "metadata": {},
     "output_type": "execute_result"
    }
   ],
   "source": [
    "cols=list(df5.iloc[:5,:1]['feature'])\n",
    "cols"
   ]
  },
  {
   "cell_type": "code",
   "execution_count": null,
   "metadata": {},
   "outputs": [],
   "source": []
  },
  {
   "cell_type": "markdown",
   "metadata": {
    "id": "7jTVw_Mm0t3r"
   },
   "source": [
    "* 데이터 탐색하기"
   ]
  },
  {
   "cell_type": "code",
   "execution_count": 1563,
   "metadata": {
    "executionInfo": {
     "elapsed": 23,
     "status": "ok",
     "timestamp": 1682560362231,
     "user": {
      "displayName": "허신 - Business Intelligence",
      "userId": "11511914061488776232"
     },
     "user_tz": -540
    },
    "id": "QEuDK2Cz0t3r"
   },
   "outputs": [
    {
     "data": {
      "text/html": [
       "<div>\n",
       "<style scoped>\n",
       "    .dataframe tbody tr th:only-of-type {\n",
       "        vertical-align: middle;\n",
       "    }\n",
       "\n",
       "    .dataframe tbody tr th {\n",
       "        vertical-align: top;\n",
       "    }\n",
       "\n",
       "    .dataframe thead th {\n",
       "        text-align: right;\n",
       "    }\n",
       "</style>\n",
       "<table border=\"1\" class=\"dataframe\">\n",
       "  <thead>\n",
       "    <tr style=\"text-align: right;\">\n",
       "      <th></th>\n",
       "      <th>feature_name</th>\n",
       "      <th>feature_importance</th>\n",
       "    </tr>\n",
       "  </thead>\n",
       "  <tbody>\n",
       "    <tr>\n",
       "      <th>0</th>\n",
       "      <td>tGravityAcc-max()-Y</td>\n",
       "      <td>0.072774</td>\n",
       "    </tr>\n",
       "    <tr>\n",
       "      <th>1</th>\n",
       "      <td>angle(Y,gravityMean)</td>\n",
       "      <td>0.055339</td>\n",
       "    </tr>\n",
       "    <tr>\n",
       "      <th>2</th>\n",
       "      <td>tGravityAcc-mean()-Y</td>\n",
       "      <td>0.046584</td>\n",
       "    </tr>\n",
       "    <tr>\n",
       "      <th>3</th>\n",
       "      <td>tGravityAcc-min()-Y</td>\n",
       "      <td>0.044075</td>\n",
       "    </tr>\n",
       "    <tr>\n",
       "      <th>4</th>\n",
       "      <td>angle(Z,gravityMean)</td>\n",
       "      <td>0.034902</td>\n",
       "    </tr>\n",
       "  </tbody>\n",
       "</table>\n",
       "</div>"
      ],
      "text/plain": [
       "           feature_name  feature_importance\n",
       "0   tGravityAcc-max()-Y            0.072774\n",
       "1  angle(Y,gravityMean)            0.055339\n",
       "2  tGravityAcc-mean()-Y            0.046584\n",
       "3   tGravityAcc-min()-Y            0.044075\n",
       "4  angle(Z,gravityMean)            0.034902"
      ]
     },
     "execution_count": 1563,
     "metadata": {},
     "output_type": "execute_result"
    },
    {
     "data": {
      "image/png": "[encoded data removed]",
      "text/plain": [
       "<Figure size 720x360 with 1 Axes>"
      ]
     },
     "metadata": {
      "needs_background": "light"
     },
     "output_type": "display_data"
    }
   ],
   "source": [
    "plot_feature_importance(model5.feature_importances_, x_train.columns, topn=5)"
   ]
  },
  {
   "cell_type": "code",
   "execution_count": null,
   "metadata": {
    "colab": {
     "base_uri": "https://localhost:8080/",
     "height": 718
    },
    "executionInfo": {
     "elapsed": 23,
     "status": "ok",
     "timestamp": 1682560362232,
     "user": {
      "displayName": "허신 - Business Intelligence",
      "userId": "11511914061488776232"
     },
     "user_tz": -540
    },
    "id": "UGS4b38F0t3r",
    "outputId": "f6f68218-c7b4-4073-d516-f99c1563a3d3"
   },
   "outputs": [],
   "source": []
  },
  {
   "cell_type": "code",
   "execution_count": 1564,
   "metadata": {
    "colab": {
     "base_uri": "https://localhost:8080/",
     "height": 718
    },
    "executionInfo": {
     "elapsed": 2777,
     "status": "ok",
     "timestamp": 1682560364998,
     "user": {
      "displayName": "허신 - Business Intelligence",
      "userId": "11511914061488776232"
     },
     "user_tz": -540
    },
    "id": "3wMKbG_X0t3r",
    "outputId": "a1fd2b3f-5580-4d90-9ca2-84be992f23c4"
   },
   "outputs": [
    {
     "data": {
      "text/html": [
       "<div>\n",
       "<style scoped>\n",
       "    .dataframe tbody tr th:only-of-type {\n",
       "        vertical-align: middle;\n",
       "    }\n",
       "\n",
       "    .dataframe tbody tr th {\n",
       "        vertical-align: top;\n",
       "    }\n",
       "\n",
       "    .dataframe thead th {\n",
       "        text-align: right;\n",
       "    }\n",
       "</style>\n",
       "<table border=\"1\" class=\"dataframe\">\n",
       "  <thead>\n",
       "    <tr style=\"text-align: right;\">\n",
       "      <th></th>\n",
       "      <th>feature</th>\n",
       "      <th>Importances</th>\n",
       "    </tr>\n",
       "  </thead>\n",
       "  <tbody>\n",
       "    <tr>\n",
       "      <th>0</th>\n",
       "      <td>tGravityAcc-max()-Y</td>\n",
       "      <td>0.072774</td>\n",
       "    </tr>\n",
       "    <tr>\n",
       "      <th>1</th>\n",
       "      <td>angle(Y,gravityMean)</td>\n",
       "      <td>0.055339</td>\n",
       "    </tr>\n",
       "    <tr>\n",
       "      <th>2</th>\n",
       "      <td>tGravityAcc-mean()-Y</td>\n",
       "      <td>0.046584</td>\n",
       "    </tr>\n",
       "    <tr>\n",
       "      <th>3</th>\n",
       "      <td>tGravityAcc-min()-Y</td>\n",
       "      <td>0.044075</td>\n",
       "    </tr>\n",
       "    <tr>\n",
       "      <th>4</th>\n",
       "      <td>angle(Z,gravityMean)</td>\n",
       "      <td>0.034902</td>\n",
       "    </tr>\n",
       "    <tr>\n",
       "      <th>...</th>\n",
       "      <td>...</td>\n",
       "      <td>...</td>\n",
       "    </tr>\n",
       "    <tr>\n",
       "      <th>556</th>\n",
       "      <td>tBodyGyro-mad()-Z</td>\n",
       "      <td>0.000067</td>\n",
       "    </tr>\n",
       "    <tr>\n",
       "      <th>557</th>\n",
       "      <td>tGravityAccMag-energy()</td>\n",
       "      <td>0.000059</td>\n",
       "    </tr>\n",
       "    <tr>\n",
       "      <th>558</th>\n",
       "      <td>fBodyBodyAccJerkMag-mean()</td>\n",
       "      <td>0.000055</td>\n",
       "    </tr>\n",
       "    <tr>\n",
       "      <th>559</th>\n",
       "      <td>fBodyAccJerk-entropy()-X</td>\n",
       "      <td>0.000053</td>\n",
       "    </tr>\n",
       "    <tr>\n",
       "      <th>560</th>\n",
       "      <td>fBodyAccJerk-entropy()-Z</td>\n",
       "      <td>0.000017</td>\n",
       "    </tr>\n",
       "  </tbody>\n",
       "</table>\n",
       "<p>561 rows × 2 columns</p>\n",
       "</div>"
      ],
      "text/plain": [
       "                        feature  Importances\n",
       "0           tGravityAcc-max()-Y     0.072774\n",
       "1          angle(Y,gravityMean)     0.055339\n",
       "2          tGravityAcc-mean()-Y     0.046584\n",
       "3           tGravityAcc-min()-Y     0.044075\n",
       "4          angle(Z,gravityMean)     0.034902\n",
       "..                          ...          ...\n",
       "556           tBodyGyro-mad()-Z     0.000067\n",
       "557     tGravityAccMag-energy()     0.000059\n",
       "558  fBodyBodyAccJerkMag-mean()     0.000055\n",
       "559    fBodyAccJerk-entropy()-X     0.000053\n",
       "560    fBodyAccJerk-entropy()-Z     0.000017\n",
       "\n",
       "[561 rows x 2 columns]"
      ]
     },
     "execution_count": 1564,
     "metadata": {},
     "output_type": "execute_result"
    }
   ],
   "source": [
    "df5.to_csv('df_feature_imp5.csv',index=False)\n",
    "df_feature_imp5=pd.read_csv('df_feature_imp5.csv')\n",
    "df_feature_imp5"
   ]
  },
  {
   "cell_type": "code",
   "execution_count": null,
   "metadata": {
    "colab": {
     "base_uri": "https://localhost:8080/",
     "height": 718
    },
    "executionInfo": {
     "elapsed": 20,
     "status": "ok",
     "timestamp": 1682560364998,
     "user": {
      "displayName": "허신 - Business Intelligence",
      "userId": "11511914061488776232"
     },
     "user_tz": -540
    },
    "id": "SnxBl_XT0t3r",
    "outputId": "d1af8031-c807-4536-99dd-9b6b264a3df1"
   },
   "outputs": [],
   "source": []
  },
  {
   "cell_type": "code",
   "execution_count": null,
   "metadata": {
    "colab": {
     "base_uri": "https://localhost:8080/",
     "height": 718
    },
    "executionInfo": {
     "elapsed": 18,
     "status": "ok",
     "timestamp": 1682560364999,
     "user": {
      "displayName": "허신 - Business Intelligence",
      "userId": "11511914061488776232"
     },
     "user_tz": -540
    },
    "id": "KrRSh1sF0t3r",
    "outputId": "0004f1c0-8a15-49b6-cb9f-fb17dcdc7b50"
   },
   "outputs": [],
   "source": []
  },
  {
   "cell_type": "code",
   "execution_count": null,
   "metadata": {
    "colab": {
     "base_uri": "https://localhost:8080/",
     "height": 718
    },
    "executionInfo": {
     "elapsed": 15,
     "status": "ok",
     "timestamp": 1682560364999,
     "user": {
      "displayName": "허신 - Business Intelligence",
      "userId": "11511914061488776232"
     },
     "user_tz": -540
    },
    "id": "P2hBfKjN0t3r",
    "outputId": "1cdfff52-1a13-45d2-e8c3-cdfe75f5153a"
   },
   "outputs": [],
   "source": []
  },
  {
   "cell_type": "markdown",
   "metadata": {
    "id": "Ir3PkAv70t3s"
   },
   "source": [
    "#### 4) feature 그룹별 분석"
   ]
  },
  {
   "cell_type": "markdown",
   "metadata": {
    "id": "B75RPk6L0t3s"
   },
   "source": [
    "* 결과 merge"
   ]
  },
  {
   "cell_type": "code",
   "execution_count": 1565,
   "metadata": {},
   "outputs": [
    {
     "data": {
      "text/html": [
       "<div>\n",
       "<style scoped>\n",
       "    .dataframe tbody tr th:only-of-type {\n",
       "        vertical-align: middle;\n",
       "    }\n",
       "\n",
       "    .dataframe tbody tr th {\n",
       "        vertical-align: top;\n",
       "    }\n",
       "\n",
       "    .dataframe thead th {\n",
       "        text-align: right;\n",
       "    }\n",
       "</style>\n",
       "<table border=\"1\" class=\"dataframe\">\n",
       "  <thead>\n",
       "    <tr style=\"text-align: right;\">\n",
       "      <th></th>\n",
       "      <th>feature</th>\n",
       "      <th>Importances</th>\n",
       "      <th>sensor</th>\n",
       "      <th>agg</th>\n",
       "      <th>axis</th>\n",
       "      <th>feature_name</th>\n",
       "    </tr>\n",
       "  </thead>\n",
       "  <tbody>\n",
       "    <tr>\n",
       "      <th>0</th>\n",
       "      <td>tGravityAcc-max()-Y</td>\n",
       "      <td>0.072774</td>\n",
       "      <td>tGravityAcc</td>\n",
       "      <td>max()</td>\n",
       "      <td>Y</td>\n",
       "      <td>tGravityAcc-max()-Y</td>\n",
       "    </tr>\n",
       "    <tr>\n",
       "      <th>1</th>\n",
       "      <td>angle(Y,gravityMean)</td>\n",
       "      <td>0.055339</td>\n",
       "      <td>angle</td>\n",
       "      <td>Y</td>\n",
       "      <td>gravityMean</td>\n",
       "      <td>angle(Y,gravityMean)</td>\n",
       "    </tr>\n",
       "    <tr>\n",
       "      <th>2</th>\n",
       "      <td>tGravityAcc-mean()-Y</td>\n",
       "      <td>0.046584</td>\n",
       "      <td>tGravityAcc</td>\n",
       "      <td>mean()</td>\n",
       "      <td>Y</td>\n",
       "      <td>tGravityAcc-mean()-Y</td>\n",
       "    </tr>\n",
       "    <tr>\n",
       "      <th>3</th>\n",
       "      <td>tGravityAcc-min()-Y</td>\n",
       "      <td>0.044075</td>\n",
       "      <td>tGravityAcc</td>\n",
       "      <td>min()</td>\n",
       "      <td>Y</td>\n",
       "      <td>tGravityAcc-min()-Y</td>\n",
       "    </tr>\n",
       "    <tr>\n",
       "      <th>4</th>\n",
       "      <td>angle(Z,gravityMean)</td>\n",
       "      <td>0.034902</td>\n",
       "      <td>angle</td>\n",
       "      <td>Z</td>\n",
       "      <td>gravityMean</td>\n",
       "      <td>angle(Z,gravityMean)</td>\n",
       "    </tr>\n",
       "  </tbody>\n",
       "</table>\n",
       "</div>"
      ],
      "text/plain": [
       "                feature  Importances       sensor     agg         axis  \\\n",
       "0   tGravityAcc-max()-Y     0.072774  tGravityAcc   max()            Y   \n",
       "1  angle(Y,gravityMean)     0.055339        angle       Y  gravityMean   \n",
       "2  tGravityAcc-mean()-Y     0.046584  tGravityAcc  mean()            Y   \n",
       "3   tGravityAcc-min()-Y     0.044075  tGravityAcc   min()            Y   \n",
       "4  angle(Z,gravityMean)     0.034902        angle       Z  gravityMean   \n",
       "\n",
       "           feature_name  \n",
       "0   tGravityAcc-max()-Y  \n",
       "1  angle(Y,gravityMean)  \n",
       "2  tGravityAcc-mean()-Y  \n",
       "3   tGravityAcc-min()-Y  \n",
       "4  angle(Z,gravityMean)  "
      ]
     },
     "execution_count": 1565,
     "metadata": {},
     "output_type": "execute_result"
    }
   ],
   "source": [
    "df_feature_imp5.head()\n",
    "df_feature.head()\n",
    "df5 = pd.merge(df_feature_imp5, df_feature, left_on='feature', right_on='feature_name', how='inner')\n",
    "df5.head()"
   ]
  },
  {
   "cell_type": "code",
   "execution_count": 1566,
   "metadata": {},
   "outputs": [
    {
     "data": {
      "text/html": [
       "<div>\n",
       "<style scoped>\n",
       "    .dataframe tbody tr th:only-of-type {\n",
       "        vertical-align: middle;\n",
       "    }\n",
       "\n",
       "    .dataframe tbody tr th {\n",
       "        vertical-align: top;\n",
       "    }\n",
       "\n",
       "    .dataframe thead th {\n",
       "        text-align: right;\n",
       "    }\n",
       "</style>\n",
       "<table border=\"1\" class=\"dataframe\">\n",
       "  <thead>\n",
       "    <tr style=\"text-align: right;\">\n",
       "      <th></th>\n",
       "      <th>feature</th>\n",
       "      <th>Importances</th>\n",
       "      <th>sensor</th>\n",
       "      <th>agg</th>\n",
       "      <th>axis</th>\n",
       "    </tr>\n",
       "  </thead>\n",
       "  <tbody>\n",
       "    <tr>\n",
       "      <th>0</th>\n",
       "      <td>tGravityAcc-max()-Y</td>\n",
       "      <td>0.072774</td>\n",
       "      <td>tGravityAcc</td>\n",
       "      <td>max()</td>\n",
       "      <td>Y</td>\n",
       "    </tr>\n",
       "    <tr>\n",
       "      <th>1</th>\n",
       "      <td>angle(Y,gravityMean)</td>\n",
       "      <td>0.055339</td>\n",
       "      <td>angle</td>\n",
       "      <td>Y</td>\n",
       "      <td>gravityMean</td>\n",
       "    </tr>\n",
       "    <tr>\n",
       "      <th>2</th>\n",
       "      <td>tGravityAcc-mean()-Y</td>\n",
       "      <td>0.046584</td>\n",
       "      <td>tGravityAcc</td>\n",
       "      <td>mean()</td>\n",
       "      <td>Y</td>\n",
       "    </tr>\n",
       "    <tr>\n",
       "      <th>3</th>\n",
       "      <td>tGravityAcc-min()-Y</td>\n",
       "      <td>0.044075</td>\n",
       "      <td>tGravityAcc</td>\n",
       "      <td>min()</td>\n",
       "      <td>Y</td>\n",
       "    </tr>\n",
       "    <tr>\n",
       "      <th>4</th>\n",
       "      <td>angle(Z,gravityMean)</td>\n",
       "      <td>0.034902</td>\n",
       "      <td>angle</td>\n",
       "      <td>Z</td>\n",
       "      <td>gravityMean</td>\n",
       "    </tr>\n",
       "  </tbody>\n",
       "</table>\n",
       "</div>"
      ],
      "text/plain": [
       "                feature  Importances       sensor     agg         axis\n",
       "0   tGravityAcc-max()-Y     0.072774  tGravityAcc   max()            Y\n",
       "1  angle(Y,gravityMean)     0.055339        angle       Y  gravityMean\n",
       "2  tGravityAcc-mean()-Y     0.046584  tGravityAcc  mean()            Y\n",
       "3   tGravityAcc-min()-Y     0.044075  tGravityAcc   min()            Y\n",
       "4  angle(Z,gravityMean)     0.034902        angle       Z  gravityMean"
      ]
     },
     "execution_count": 1566,
     "metadata": {},
     "output_type": "execute_result"
    }
   ],
   "source": [
    "df5.drop(['feature_name'], axis=1, inplace=True)\n",
    "df5.head()"
   ]
  },
  {
   "cell_type": "code",
   "execution_count": null,
   "metadata": {
    "colab": {
     "base_uri": "https://localhost:8080/",
     "height": 221
    },
    "executionInfo": {
     "elapsed": 11,
     "status": "ok",
     "timestamp": 1682560364999,
     "user": {
      "displayName": "허신 - Business Intelligence",
      "userId": "11511914061488776232"
     },
     "user_tz": -540
    },
    "id": "WVdQxK820t3s",
    "outputId": "5a043e03-eb3a-4634-a5c4-4e824b350cbb"
   },
   "outputs": [],
   "source": []
  },
  {
   "cell_type": "markdown",
   "metadata": {
    "id": "mDfVaqRM0t3s"
   },
   "source": [
    "* sensor 별 중요도"
   ]
  },
  {
   "cell_type": "code",
   "execution_count": 1567,
   "metadata": {
    "colab": {
     "base_uri": "https://localhost:8080/",
     "height": 666
    },
    "executionInfo": {
     "elapsed": 10,
     "status": "ok",
     "timestamp": 1682560364999,
     "user": {
      "displayName": "허신 - Business Intelligence",
      "userId": "11511914061488776232"
     },
     "user_tz": -540
    },
    "id": "zz12wseT0t3s",
    "outputId": "9189a034-0291-4525-d47b-9ac73a7a5f7a"
   },
   "outputs": [
    {
     "data": {
      "text/html": [
       "<div>\n",
       "<style scoped>\n",
       "    .dataframe tbody tr th:only-of-type {\n",
       "        vertical-align: middle;\n",
       "    }\n",
       "\n",
       "    .dataframe tbody tr th {\n",
       "        vertical-align: top;\n",
       "    }\n",
       "\n",
       "    .dataframe thead th {\n",
       "        text-align: right;\n",
       "    }\n",
       "</style>\n",
       "<table border=\"1\" class=\"dataframe\">\n",
       "  <thead>\n",
       "    <tr style=\"text-align: right;\">\n",
       "      <th></th>\n",
       "      <th>Importances</th>\n",
       "    </tr>\n",
       "    <tr>\n",
       "      <th>sensor</th>\n",
       "      <th></th>\n",
       "    </tr>\n",
       "  </thead>\n",
       "  <tbody>\n",
       "    <tr>\n",
       "      <th>tGravityAcc</th>\n",
       "      <td>0.380548</td>\n",
       "    </tr>\n",
       "    <tr>\n",
       "      <th>fBodyGyro</th>\n",
       "      <td>0.107928</td>\n",
       "    </tr>\n",
       "    <tr>\n",
       "      <th>angle</th>\n",
       "      <td>0.107700</td>\n",
       "    </tr>\n",
       "    <tr>\n",
       "      <th>fBodyAcc</th>\n",
       "      <td>0.107423</td>\n",
       "    </tr>\n",
       "    <tr>\n",
       "      <th>tBodyAcc</th>\n",
       "      <td>0.072694</td>\n",
       "    </tr>\n",
       "    <tr>\n",
       "      <th>tBodyGyro</th>\n",
       "      <td>0.057998</td>\n",
       "    </tr>\n",
       "    <tr>\n",
       "      <th>tBodyGyroJerk</th>\n",
       "      <td>0.042003</td>\n",
       "    </tr>\n",
       "    <tr>\n",
       "      <th>fBodyAccJerk</th>\n",
       "      <td>0.031262</td>\n",
       "    </tr>\n",
       "    <tr>\n",
       "      <th>tGravityAccMag</th>\n",
       "      <td>0.027227</td>\n",
       "    </tr>\n",
       "    <tr>\n",
       "      <th>fBodyAccMag</th>\n",
       "      <td>0.023746</td>\n",
       "    </tr>\n",
       "  </tbody>\n",
       "</table>\n",
       "</div>"
      ],
      "text/plain": [
       "                Importances\n",
       "sensor                     \n",
       "tGravityAcc        0.380548\n",
       "fBodyGyro          0.107928\n",
       "angle              0.107700\n",
       "fBodyAcc           0.107423\n",
       "tBodyAcc           0.072694\n",
       "tBodyGyro          0.057998\n",
       "tBodyGyroJerk      0.042003\n",
       "fBodyAccJerk       0.031262\n",
       "tGravityAccMag     0.027227\n",
       "fBodyAccMag        0.023746"
      ]
     },
     "execution_count": 1567,
     "metadata": {},
     "output_type": "execute_result"
    }
   ],
   "source": [
    "# sensor 별 중요도 합계\n",
    "sorted_df = df5.groupby('sensor')[['Importances']].sum().sort_values(by='Importances', ascending=False)\n",
    "\n",
    "# 상위 변수 그룹별 비교 분석\n",
    "sorted_df[:10]"
   ]
  },
  {
   "cell_type": "code",
   "execution_count": null,
   "metadata": {},
   "outputs": [],
   "source": []
  },
  {
   "cell_type": "markdown",
   "metadata": {
    "id": "ktGY3MWf0t3s"
   },
   "source": [
    "* sensor + agg 별 중요도"
   ]
  },
  {
   "cell_type": "code",
   "execution_count": 1568,
   "metadata": {
    "colab": {
     "base_uri": "https://localhost:8080/",
     "height": 649
    },
    "executionInfo": {
     "elapsed": 9,
     "status": "ok",
     "timestamp": 1682560364999,
     "user": {
      "displayName": "허신 - Business Intelligence",
      "userId": "11511914061488776232"
     },
     "user_tz": -540
    },
    "id": "44K-j96w0t3s",
    "outputId": "69462a45-9f03-489d-a646-8a6f71e1f3ac"
   },
   "outputs": [
    {
     "data": {
      "text/html": [
       "<div>\n",
       "<style scoped>\n",
       "    .dataframe tbody tr th:only-of-type {\n",
       "        vertical-align: middle;\n",
       "    }\n",
       "\n",
       "    .dataframe tbody tr th {\n",
       "        vertical-align: top;\n",
       "    }\n",
       "\n",
       "    .dataframe thead th {\n",
       "        text-align: right;\n",
       "    }\n",
       "</style>\n",
       "<table border=\"1\" class=\"dataframe\">\n",
       "  <thead>\n",
       "    <tr style=\"text-align: right;\">\n",
       "      <th></th>\n",
       "      <th></th>\n",
       "      <th>Importances</th>\n",
       "    </tr>\n",
       "    <tr>\n",
       "      <th>sensor</th>\n",
       "      <th>agg</th>\n",
       "      <th></th>\n",
       "    </tr>\n",
       "  </thead>\n",
       "  <tbody>\n",
       "    <tr>\n",
       "      <th rowspan=\"3\" valign=\"top\">tGravityAcc</th>\n",
       "      <th>max()</th>\n",
       "      <td>0.105810</td>\n",
       "    </tr>\n",
       "    <tr>\n",
       "      <th>mean()</th>\n",
       "      <td>0.089072</td>\n",
       "    </tr>\n",
       "    <tr>\n",
       "      <th>min()</th>\n",
       "      <td>0.079158</td>\n",
       "    </tr>\n",
       "    <tr>\n",
       "      <th>fBodyGyro</th>\n",
       "      <th>bandsEnergy()</th>\n",
       "      <td>0.061987</td>\n",
       "    </tr>\n",
       "    <tr>\n",
       "      <th>angle</th>\n",
       "      <th>Y</th>\n",
       "      <td>0.055339</td>\n",
       "    </tr>\n",
       "    <tr>\n",
       "      <th>tGravityAcc</th>\n",
       "      <th>energy()</th>\n",
       "      <td>0.048846</td>\n",
       "    </tr>\n",
       "    <tr>\n",
       "      <th>fBodyAcc</th>\n",
       "      <th>bandsEnergy()</th>\n",
       "      <td>0.038614</td>\n",
       "    </tr>\n",
       "    <tr>\n",
       "      <th>angle</th>\n",
       "      <th>Z</th>\n",
       "      <td>0.034902</td>\n",
       "    </tr>\n",
       "    <tr>\n",
       "      <th>fBodyAcc</th>\n",
       "      <th>max()</th>\n",
       "      <td>0.018396</td>\n",
       "    </tr>\n",
       "    <tr>\n",
       "      <th>tGravityAcc</th>\n",
       "      <th>entropy()</th>\n",
       "      <td>0.017225</td>\n",
       "    </tr>\n",
       "  </tbody>\n",
       "</table>\n",
       "</div>"
      ],
      "text/plain": [
       "                           Importances\n",
       "sensor      agg                       \n",
       "tGravityAcc max()             0.105810\n",
       "            mean()            0.089072\n",
       "            min()             0.079158\n",
       "fBodyGyro   bandsEnergy()     0.061987\n",
       "angle       Y                 0.055339\n",
       "tGravityAcc energy()          0.048846\n",
       "fBodyAcc    bandsEnergy()     0.038614\n",
       "angle       Z                 0.034902\n",
       "fBodyAcc    max()             0.018396\n",
       "tGravityAcc entropy()         0.017225"
      ]
     },
     "execution_count": 1568,
     "metadata": {},
     "output_type": "execute_result"
    }
   ],
   "source": [
    "# sensor+agge별 중요도 합계\n",
    "sorted_df = df5.groupby(['sensor','agg'])[['Importances']].sum().sort_values(by='Importances', ascending=False)\n",
    "sorted_df[:10]"
   ]
  },
  {
   "cell_type": "code",
   "execution_count": null,
   "metadata": {
    "colab": {
     "base_uri": "https://localhost:8080/",
     "height": 666
    },
    "executionInfo": {
     "elapsed": 1094,
     "status": "ok",
     "timestamp": 1682560366084,
     "user": {
      "displayName": "허신 - Business Intelligence",
      "userId": "11511914061488776232"
     },
     "user_tz": -540
    },
    "id": "OLelNOkS0t3s",
    "outputId": "d552fb00-3ae8-44f8-aeea-1b5e336c7ec7"
   },
   "outputs": [],
   "source": []
  },
  {
   "cell_type": "code",
   "execution_count": null,
   "metadata": {},
   "outputs": [],
   "source": []
  },
  {
   "cell_type": "markdown",
   "metadata": {
    "id": "uwLvleF33CeJ"
   },
   "source": [
    "### (3) 개별 동작 분석 : is_sitting\n"
   ]
  },
  {
   "cell_type": "markdown",
   "metadata": {
    "id": "-GX_l8ys3CeK"
   },
   "source": [
    "* **세부 요구사항**\n",
    "    - Target인 Activity를 is_sitting 변수로 변경하시오.\n",
    "        * 값 1 : SITTING\n",
    "        * 값 0 : 나머지\n",
    "    - is_sitting 을 예측하기 위한 기본 모델을 생성하시오.\n",
    "        * x, is_sitting 을 이용하여 train과 validation으로 데이터 분할\n",
    "        * 기본 모델링\n",
    "    - is_sitting 을 구분하는데 중요한 변수 상위 5를 분석하시오.\n",
    "    - is_sitting 을 구분하는데 중요한 변수 그룹을 분석하시오.\n",
    "        * sensor별\n",
    "        * sensor+agg 별\n"
   ]
  },
  {
   "cell_type": "markdown",
   "metadata": {
    "id": "AUr75kek3CeK"
   },
   "source": [
    "#### 1) is_sitting 추가"
   ]
  },
  {
   "cell_type": "code",
   "execution_count": 1569,
   "metadata": {},
   "outputs": [
    {
     "data": {
      "text/html": [
       "<div>\n",
       "<style scoped>\n",
       "    .dataframe tbody tr th:only-of-type {\n",
       "        vertical-align: middle;\n",
       "    }\n",
       "\n",
       "    .dataframe tbody tr th {\n",
       "        vertical-align: top;\n",
       "    }\n",
       "\n",
       "    .dataframe thead th {\n",
       "        text-align: right;\n",
       "    }\n",
       "</style>\n",
       "<table border=\"1\" class=\"dataframe\">\n",
       "  <thead>\n",
       "    <tr style=\"text-align: right;\">\n",
       "      <th></th>\n",
       "      <th>tBodyAcc-mean()-X</th>\n",
       "      <th>tBodyAcc-mean()-Y</th>\n",
       "      <th>tBodyAcc-mean()-Z</th>\n",
       "      <th>tBodyAcc-std()-X</th>\n",
       "      <th>tBodyAcc-std()-Y</th>\n",
       "      <th>tBodyAcc-std()-Z</th>\n",
       "      <th>tBodyAcc-mad()-X</th>\n",
       "      <th>tBodyAcc-mad()-Y</th>\n",
       "      <th>tBodyAcc-mad()-Z</th>\n",
       "      <th>tBodyAcc-max()-X</th>\n",
       "      <th>...</th>\n",
       "      <th>angle(tBodyAccJerkMean),gravityMean)</th>\n",
       "      <th>angle(tBodyGyroMean,gravityMean)</th>\n",
       "      <th>angle(tBodyGyroJerkMean,gravityMean)</th>\n",
       "      <th>angle(X,gravityMean)</th>\n",
       "      <th>angle(Y,gravityMean)</th>\n",
       "      <th>angle(Z,gravityMean)</th>\n",
       "      <th>Activity</th>\n",
       "      <th>is_dynamic</th>\n",
       "      <th>is_standing</th>\n",
       "      <th>is_sitting</th>\n",
       "    </tr>\n",
       "  </thead>\n",
       "  <tbody>\n",
       "    <tr>\n",
       "      <th>0</th>\n",
       "      <td>0.288508</td>\n",
       "      <td>-0.009196</td>\n",
       "      <td>-0.103362</td>\n",
       "      <td>-0.988986</td>\n",
       "      <td>-0.962797</td>\n",
       "      <td>-0.967422</td>\n",
       "      <td>-0.989000</td>\n",
       "      <td>-0.962596</td>\n",
       "      <td>-0.965650</td>\n",
       "      <td>-0.929747</td>\n",
       "      <td>...</td>\n",
       "      <td>-0.044218</td>\n",
       "      <td>0.307873</td>\n",
       "      <td>0.072790</td>\n",
       "      <td>-0.601120</td>\n",
       "      <td>0.331298</td>\n",
       "      <td>0.165163</td>\n",
       "      <td>STANDING</td>\n",
       "      <td>0</td>\n",
       "      <td>1</td>\n",
       "      <td>0</td>\n",
       "    </tr>\n",
       "    <tr>\n",
       "      <th>1</th>\n",
       "      <td>0.265757</td>\n",
       "      <td>-0.016576</td>\n",
       "      <td>-0.098163</td>\n",
       "      <td>-0.989551</td>\n",
       "      <td>-0.994636</td>\n",
       "      <td>-0.987435</td>\n",
       "      <td>-0.990189</td>\n",
       "      <td>-0.993870</td>\n",
       "      <td>-0.987558</td>\n",
       "      <td>-0.937337</td>\n",
       "      <td>...</td>\n",
       "      <td>0.388459</td>\n",
       "      <td>-0.765014</td>\n",
       "      <td>0.771524</td>\n",
       "      <td>0.345205</td>\n",
       "      <td>-0.769186</td>\n",
       "      <td>-0.147944</td>\n",
       "      <td>LAYING</td>\n",
       "      <td>0</td>\n",
       "      <td>0</td>\n",
       "      <td>0</td>\n",
       "    </tr>\n",
       "    <tr>\n",
       "      <th>2</th>\n",
       "      <td>0.278709</td>\n",
       "      <td>-0.014511</td>\n",
       "      <td>-0.108717</td>\n",
       "      <td>-0.997720</td>\n",
       "      <td>-0.981088</td>\n",
       "      <td>-0.994008</td>\n",
       "      <td>-0.997934</td>\n",
       "      <td>-0.982187</td>\n",
       "      <td>-0.995017</td>\n",
       "      <td>-0.942584</td>\n",
       "      <td>...</td>\n",
       "      <td>-0.525022</td>\n",
       "      <td>-0.891875</td>\n",
       "      <td>0.021528</td>\n",
       "      <td>-0.833564</td>\n",
       "      <td>0.202434</td>\n",
       "      <td>-0.032755</td>\n",
       "      <td>STANDING</td>\n",
       "      <td>0</td>\n",
       "      <td>1</td>\n",
       "      <td>0</td>\n",
       "    </tr>\n",
       "    <tr>\n",
       "      <th>3</th>\n",
       "      <td>0.289795</td>\n",
       "      <td>-0.035536</td>\n",
       "      <td>-0.150354</td>\n",
       "      <td>-0.231727</td>\n",
       "      <td>-0.006412</td>\n",
       "      <td>-0.338117</td>\n",
       "      <td>-0.273557</td>\n",
       "      <td>0.014245</td>\n",
       "      <td>-0.347916</td>\n",
       "      <td>0.008288</td>\n",
       "      <td>...</td>\n",
       "      <td>0.612804</td>\n",
       "      <td>0.747381</td>\n",
       "      <td>-0.072944</td>\n",
       "      <td>-0.695819</td>\n",
       "      <td>0.287154</td>\n",
       "      <td>0.111388</td>\n",
       "      <td>WALKING</td>\n",
       "      <td>1</td>\n",
       "      <td>0</td>\n",
       "      <td>0</td>\n",
       "    </tr>\n",
       "    <tr>\n",
       "      <th>4</th>\n",
       "      <td>0.394807</td>\n",
       "      <td>0.034098</td>\n",
       "      <td>0.091229</td>\n",
       "      <td>0.088489</td>\n",
       "      <td>-0.106636</td>\n",
       "      <td>-0.388502</td>\n",
       "      <td>-0.010469</td>\n",
       "      <td>-0.109680</td>\n",
       "      <td>-0.346372</td>\n",
       "      <td>0.584131</td>\n",
       "      <td>...</td>\n",
       "      <td>-0.845268</td>\n",
       "      <td>-0.974650</td>\n",
       "      <td>-0.887846</td>\n",
       "      <td>-0.705029</td>\n",
       "      <td>0.264952</td>\n",
       "      <td>0.137758</td>\n",
       "      <td>WALKING_DOWNSTAIRS</td>\n",
       "      <td>1</td>\n",
       "      <td>0</td>\n",
       "      <td>0</td>\n",
       "    </tr>\n",
       "  </tbody>\n",
       "</table>\n",
       "<p>5 rows × 565 columns</p>\n",
       "</div>"
      ],
      "text/plain": [
       "   tBodyAcc-mean()-X  tBodyAcc-mean()-Y  tBodyAcc-mean()-Z  tBodyAcc-std()-X  \\\n",
       "0           0.288508          -0.009196          -0.103362         -0.988986   \n",
       "1           0.265757          -0.016576          -0.098163         -0.989551   \n",
       "2           0.278709          -0.014511          -0.108717         -0.997720   \n",
       "3           0.289795          -0.035536          -0.150354         -0.231727   \n",
       "4           0.394807           0.034098           0.091229          0.088489   \n",
       "\n",
       "   tBodyAcc-std()-Y  tBodyAcc-std()-Z  tBodyAcc-mad()-X  tBodyAcc-mad()-Y  \\\n",
       "0         -0.962797         -0.967422         -0.989000         -0.962596   \n",
       "1         -0.994636         -0.987435         -0.990189         -0.993870   \n",
       "2         -0.981088         -0.994008         -0.997934         -0.982187   \n",
       "3         -0.006412         -0.338117         -0.273557          0.014245   \n",
       "4         -0.106636         -0.388502         -0.010469         -0.109680   \n",
       "\n",
       "   tBodyAcc-mad()-Z  tBodyAcc-max()-X  ...  \\\n",
       "0         -0.965650         -0.929747  ...   \n",
       "1         -0.987558         -0.937337  ...   \n",
       "2         -0.995017         -0.942584  ...   \n",
       "3         -0.347916          0.008288  ...   \n",
       "4         -0.346372          0.584131  ...   \n",
       "\n",
       "   angle(tBodyAccJerkMean),gravityMean)  angle(tBodyGyroMean,gravityMean)  \\\n",
       "0                             -0.044218                          0.307873   \n",
       "1                              0.388459                         -0.765014   \n",
       "2                             -0.525022                         -0.891875   \n",
       "3                              0.612804                          0.747381   \n",
       "4                             -0.845268                         -0.974650   \n",
       "\n",
       "   angle(tBodyGyroJerkMean,gravityMean)  angle(X,gravityMean)  \\\n",
       "0                              0.072790             -0.601120   \n",
       "1                              0.771524              0.345205   \n",
       "2                              0.021528             -0.833564   \n",
       "3                             -0.072944             -0.695819   \n",
       "4                             -0.887846             -0.705029   \n",
       "\n",
       "   angle(Y,gravityMean)  angle(Z,gravityMean)            Activity  is_dynamic  \\\n",
       "0              0.331298              0.165163            STANDING           0   \n",
       "1             -0.769186             -0.147944              LAYING           0   \n",
       "2              0.202434             -0.032755            STANDING           0   \n",
       "3              0.287154              0.111388             WALKING           1   \n",
       "4              0.264952              0.137758  WALKING_DOWNSTAIRS           1   \n",
       "\n",
       "   is_standing  is_sitting  \n",
       "0            1           0  \n",
       "1            0           0  \n",
       "2            1           0  \n",
       "3            0           0  \n",
       "4            0           0  \n",
       "\n",
       "[5 rows x 565 columns]"
      ]
     },
     "execution_count": 1569,
     "metadata": {},
     "output_type": "execute_result"
    }
   ],
   "source": [
    "df_train['Activity'].value_counts()\n",
    "\n",
    "df_train['is_sitting'] = df_train['Activity'].replace({'STANDING': 0, 'SITTING': 1, 'LAYING': 0, 'WALKING': 0, 'WALKING_UPSTAIRS': 0, 'WALKING_DOWNSTAIRS': 0})\n",
    "df_train['is_sitting'].value_counts()\n",
    "\n",
    "df_train.head()"
   ]
  },
  {
   "cell_type": "code",
   "execution_count": null,
   "metadata": {},
   "outputs": [],
   "source": []
  },
  {
   "cell_type": "markdown",
   "metadata": {
    "id": "aetqJe-Q3CeK"
   },
   "source": [
    "#### 2) 기본모델 생성"
   ]
  },
  {
   "cell_type": "code",
   "execution_count": 1570,
   "metadata": {},
   "outputs": [
    {
     "data": {
      "text/html": [
       "<style>#sk-container-id-62 {color: black;background-color: white;}#sk-container-id-62 pre{padding: 0;}#sk-container-id-62 div.sk-toggleable {background-color: white;}#sk-container-id-62 label.sk-toggleable__label {cursor: pointer;display: block;width: 100%;margin-bottom: 0;padding: 0.3em;box-sizing: border-box;text-align: center;}#sk-container-id-62 label.sk-toggleable__label-arrow:before {content: \"▸\";float: left;margin-right: 0.25em;color: #696969;}#sk-container-id-62 label.sk-toggleable__label-arrow:hover:before {color: black;}#sk-container-id-62 div.sk-estimator:hover label.sk-toggleable__label-arrow:before {color: black;}#sk-container-id-62 div.sk-toggleable__content {max-height: 0;max-width: 0;overflow: hidden;text-align: left;background-color: #f0f8ff;}#sk-container-id-62 div.sk-toggleable__content pre {margin: 0.2em;color: black;border-radius: 0.25em;background-color: #f0f8ff;}#sk-container-id-62 input.sk-toggleable__control:checked~div.sk-toggleable__content {max-height: 200px;max-width: 100%;overflow: auto;}#sk-container-id-62 input.sk-toggleable__control:checked~label.sk-toggleable__label-arrow:before {content: \"▾\";}#sk-container-id-62 div.sk-estimator input.sk-toggleable__control:checked~label.sk-toggleable__label {background-color: #d4ebff;}#sk-container-id-62 div.sk-label input.sk-toggleable__control:checked~label.sk-toggleable__label {background-color: #d4ebff;}#sk-container-id-62 input.sk-hidden--visually {border: 0;clip: rect(1px 1px 1px 1px);clip: rect(1px, 1px, 1px, 1px);height: 1px;margin: -1px;overflow: hidden;padding: 0;position: absolute;width: 1px;}#sk-container-id-62 div.sk-estimator {font-family: monospace;background-color: #f0f8ff;border: 1px dotted black;border-radius: 0.25em;box-sizing: border-box;margin-bottom: 0.5em;}#sk-container-id-62 div.sk-estimator:hover {background-color: #d4ebff;}#sk-container-id-62 div.sk-parallel-item::after {content: \"\";width: 100%;border-bottom: 1px solid gray;flex-grow: 1;}#sk-container-id-62 div.sk-label:hover label.sk-toggleable__label {background-color: #d4ebff;}#sk-container-id-62 div.sk-serial::before {content: \"\";position: absolute;border-left: 1px solid gray;box-sizing: border-box;top: 0;bottom: 0;left: 50%;z-index: 0;}#sk-container-id-62 div.sk-serial {display: flex;flex-direction: column;align-items: center;background-color: white;padding-right: 0.2em;padding-left: 0.2em;position: relative;}#sk-container-id-62 div.sk-item {position: relative;z-index: 1;}#sk-container-id-62 div.sk-parallel {display: flex;align-items: stretch;justify-content: center;background-color: white;position: relative;}#sk-container-id-62 div.sk-item::before, #sk-container-id-62 div.sk-parallel-item::before {content: \"\";position: absolute;border-left: 1px solid gray;box-sizing: border-box;top: 0;bottom: 0;left: 50%;z-index: -1;}#sk-container-id-62 div.sk-parallel-item {display: flex;flex-direction: column;z-index: 1;position: relative;background-color: white;}#sk-container-id-62 div.sk-parallel-item:first-child::after {align-self: flex-end;width: 50%;}#sk-container-id-62 div.sk-parallel-item:last-child::after {align-self: flex-start;width: 50%;}#sk-container-id-62 div.sk-parallel-item:only-child::after {width: 0;}#sk-container-id-62 div.sk-dashed-wrapped {border: 1px dashed gray;margin: 0 0.4em 0.5em 0.4em;box-sizing: border-box;padding-bottom: 0.4em;background-color: white;}#sk-container-id-62 div.sk-label label {font-family: monospace;font-weight: bold;display: inline-block;line-height: 1.2em;}#sk-container-id-62 div.sk-label-container {text-align: center;}#sk-container-id-62 div.sk-container {/* jupyter's `normalize.less` sets `[hidden] { display: none; }` but bootstrap.min.css set `[hidden] { display: none !important; }` so we also need the `!important` here to be able to override the default hidden behavior on the sphinx rendered scikit-learn.org. See: https://github.com/scikit-learn/scikit-learn/issues/21755 */display: inline-block !important;position: relative;}#sk-container-id-62 div.sk-text-repr-fallback {display: none;}</style><div id=\"sk-container-id-62\" class=\"sk-top-container\"><div class=\"sk-text-repr-fallback\"><pre>RandomForestClassifier()</pre><b>In a Jupyter environment, please rerun this cell to show the HTML representation or trust the notebook. <br />On GitHub, the HTML representation is unable to render, please try loading this page with nbviewer.org.</b></div><div class=\"sk-container\" hidden><div class=\"sk-item\"><div class=\"sk-estimator sk-toggleable\"><input class=\"sk-toggleable__control sk-hidden--visually\" id=\"sk-estimator-id-62\" type=\"checkbox\" checked><label for=\"sk-estimator-id-62\" class=\"sk-toggleable__label sk-toggleable__label-arrow\">RandomForestClassifier</label><div class=\"sk-toggleable__content\"><pre>RandomForestClassifier()</pre></div></div></div></div></div>"
      ],
      "text/plain": [
       "RandomForestClassifier()"
      ]
     },
     "execution_count": 1570,
     "metadata": {},
     "output_type": "execute_result"
    }
   ],
   "source": [
    "## x에서 파생변수 지우기 안해도됨 x 사용해서 train_test_split\n",
    "y = df_train['is_sitting']\n",
    "\n",
    "from sklearn.model_selection import train_test_split\n",
    "x_train, x_val, y_train, y_val = train_test_split(x, y, test_size=0.3, shuffle=True, random_state=1)\n",
    "\n",
    "\n",
    "from sklearn.ensemble import RandomForestClassifier\n",
    "model6 = RandomForestClassifier()\n",
    "model6.fit(x_train, y_train)"
   ]
  },
  {
   "cell_type": "code",
   "execution_count": null,
   "metadata": {
    "colab": {
     "base_uri": "https://localhost:8080/"
    },
    "executionInfo": {
     "elapsed": 3906,
     "status": "ok",
     "timestamp": 1682560369987,
     "user": {
      "displayName": "허신 - Business Intelligence",
      "userId": "11511914061488776232"
     },
     "user_tz": -540
    },
    "id": "JGhW0f5e3CeK",
    "outputId": "f563b399-126a-4ee4-c50b-2fe4b6694380"
   },
   "outputs": [],
   "source": []
  },
  {
   "cell_type": "markdown",
   "metadata": {
    "id": "BswzRcqx3CeK"
   },
   "source": [
    "#### 3) 변수중요도 상위 5개 분석"
   ]
  },
  {
   "cell_type": "code",
   "execution_count": 1571,
   "metadata": {
    "colab": {
     "base_uri": "https://localhost:8080/",
     "height": 1000
    },
    "executionInfo": {
     "elapsed": 12933,
     "status": "ok",
     "timestamp": 1682560382918,
     "user": {
      "displayName": "허신 - Business Intelligence",
      "userId": "11511914061488776232"
     },
     "user_tz": -540
    },
    "id": "W4PUiJNo3CeL",
    "outputId": "cb3e07eb-9000-4ae5-8346-2603e7da8022"
   },
   "outputs": [
    {
     "data": {
      "text/html": [
       "<div>\n",
       "<style scoped>\n",
       "    .dataframe tbody tr th:only-of-type {\n",
       "        vertical-align: middle;\n",
       "    }\n",
       "\n",
       "    .dataframe tbody tr th {\n",
       "        vertical-align: top;\n",
       "    }\n",
       "\n",
       "    .dataframe thead th {\n",
       "        text-align: right;\n",
       "    }\n",
       "</style>\n",
       "<table border=\"1\" class=\"dataframe\">\n",
       "  <thead>\n",
       "    <tr style=\"text-align: right;\">\n",
       "      <th></th>\n",
       "      <th>feature</th>\n",
       "      <th>Importances</th>\n",
       "    </tr>\n",
       "  </thead>\n",
       "  <tbody>\n",
       "    <tr>\n",
       "      <th>53</th>\n",
       "      <td>tGravityAcc-min()-Y</td>\n",
       "      <td>0.049391</td>\n",
       "    </tr>\n",
       "    <tr>\n",
       "      <th>559</th>\n",
       "      <td>angle(Y,gravityMean)</td>\n",
       "      <td>0.037815</td>\n",
       "    </tr>\n",
       "    <tr>\n",
       "      <th>41</th>\n",
       "      <td>tGravityAcc-mean()-Y</td>\n",
       "      <td>0.036514</td>\n",
       "    </tr>\n",
       "    <tr>\n",
       "      <th>50</th>\n",
       "      <td>tGravityAcc-max()-Y</td>\n",
       "      <td>0.033621</td>\n",
       "    </tr>\n",
       "    <tr>\n",
       "      <th>56</th>\n",
       "      <td>tGravityAcc-energy()-X</td>\n",
       "      <td>0.031410</td>\n",
       "    </tr>\n",
       "  </tbody>\n",
       "</table>\n",
       "</div>"
      ],
      "text/plain": [
       "                    feature  Importances\n",
       "53      tGravityAcc-min()-Y     0.049391\n",
       "559    angle(Y,gravityMean)     0.037815\n",
       "41     tGravityAcc-mean()-Y     0.036514\n",
       "50      tGravityAcc-max()-Y     0.033621\n",
       "56   tGravityAcc-energy()-X     0.031410"
      ]
     },
     "execution_count": 1571,
     "metadata": {},
     "output_type": "execute_result"
    }
   ],
   "source": [
    "df6 = pd.DataFrame()\n",
    "df6['feature'] = list(x)\n",
    "df6['Importances'] = model6.feature_importances_\n",
    "df6.sort_values(by = 'Importances', ascending=False, inplace=True)\n",
    "df6[:5]"
   ]
  },
  {
   "cell_type": "markdown",
   "metadata": {
    "id": "E3_HS8UM3CeL"
   },
   "source": [
    "* 상위 변수 선정"
   ]
  },
  {
   "cell_type": "code",
   "execution_count": 1572,
   "metadata": {
    "colab": {
     "base_uri": "https://localhost:8080/",
     "height": 221
    },
    "executionInfo": {
     "elapsed": 11,
     "status": "ok",
     "timestamp": 1682560382918,
     "user": {
      "displayName": "허신 - Business Intelligence",
      "userId": "11511914061488776232"
     },
     "user_tz": -540
    },
    "id": "N9r7bSfs3CeL",
    "outputId": "4a51ec30-16f8-4774-e3bd-68e8de4cf0fd"
   },
   "outputs": [
    {
     "data": {
      "text/plain": [
       "['tGravityAcc-min()-Y',\n",
       " 'angle(Y,gravityMean)',\n",
       " 'tGravityAcc-mean()-Y',\n",
       " 'tGravityAcc-max()-Y',\n",
       " 'tGravityAcc-energy()-X']"
      ]
     },
     "execution_count": 1572,
     "metadata": {},
     "output_type": "execute_result"
    }
   ],
   "source": [
    "cols=list(df6.iloc[:5,:1]['feature'])\n",
    "cols"
   ]
  },
  {
   "cell_type": "markdown",
   "metadata": {
    "id": "zhxgdhPM3CeL"
   },
   "source": [
    "* 데이터 탐색하기"
   ]
  },
  {
   "cell_type": "code",
   "execution_count": 1573,
   "metadata": {
    "executionInfo": {
     "elapsed": 9,
     "status": "ok",
     "timestamp": 1682560382918,
     "user": {
      "displayName": "허신 - Business Intelligence",
      "userId": "11511914061488776232"
     },
     "user_tz": -540
    },
    "id": "mLqApr3j3CeL"
   },
   "outputs": [
    {
     "data": {
      "text/html": [
       "<div>\n",
       "<style scoped>\n",
       "    .dataframe tbody tr th:only-of-type {\n",
       "        vertical-align: middle;\n",
       "    }\n",
       "\n",
       "    .dataframe tbody tr th {\n",
       "        vertical-align: top;\n",
       "    }\n",
       "\n",
       "    .dataframe thead th {\n",
       "        text-align: right;\n",
       "    }\n",
       "</style>\n",
       "<table border=\"1\" class=\"dataframe\">\n",
       "  <thead>\n",
       "    <tr style=\"text-align: right;\">\n",
       "      <th></th>\n",
       "      <th>feature_name</th>\n",
       "      <th>feature_importance</th>\n",
       "    </tr>\n",
       "  </thead>\n",
       "  <tbody>\n",
       "    <tr>\n",
       "      <th>0</th>\n",
       "      <td>tGravityAcc-min()-Y</td>\n",
       "      <td>0.049391</td>\n",
       "    </tr>\n",
       "    <tr>\n",
       "      <th>1</th>\n",
       "      <td>angle(Y,gravityMean)</td>\n",
       "      <td>0.037815</td>\n",
       "    </tr>\n",
       "    <tr>\n",
       "      <th>2</th>\n",
       "      <td>tGravityAcc-mean()-Y</td>\n",
       "      <td>0.036514</td>\n",
       "    </tr>\n",
       "    <tr>\n",
       "      <th>3</th>\n",
       "      <td>tGravityAcc-max()-Y</td>\n",
       "      <td>0.033621</td>\n",
       "    </tr>\n",
       "    <tr>\n",
       "      <th>4</th>\n",
       "      <td>tGravityAcc-energy()-X</td>\n",
       "      <td>0.031410</td>\n",
       "    </tr>\n",
       "  </tbody>\n",
       "</table>\n",
       "</div>"
      ],
      "text/plain": [
       "             feature_name  feature_importance\n",
       "0     tGravityAcc-min()-Y            0.049391\n",
       "1    angle(Y,gravityMean)            0.037815\n",
       "2    tGravityAcc-mean()-Y            0.036514\n",
       "3     tGravityAcc-max()-Y            0.033621\n",
       "4  tGravityAcc-energy()-X            0.031410"
      ]
     },
     "execution_count": 1573,
     "metadata": {},
     "output_type": "execute_result"
    },
    {
     "data": {
      "image/png": "[encoded data removed]",
      "text/plain": [
       "<Figure size 720x360 with 1 Axes>"
      ]
     },
     "metadata": {
      "needs_background": "light"
     },
     "output_type": "display_data"
    }
   ],
   "source": [
    "plot_feature_importance(model6.feature_importances_, x_train.columns, topn=5)"
   ]
  },
  {
   "cell_type": "code",
   "execution_count": null,
   "metadata": {
    "colab": {
     "base_uri": "https://localhost:8080/",
     "height": 718
    },
    "executionInfo": {
     "elapsed": 9,
     "status": "ok",
     "timestamp": 1682560382918,
     "user": {
      "displayName": "허신 - Business Intelligence",
      "userId": "11511914061488776232"
     },
     "user_tz": -540
    },
    "id": "qJQacNz23CeL",
    "outputId": "8ebe65f5-4955-4422-ba69-ab1bf5bbedb4"
   },
   "outputs": [],
   "source": []
  },
  {
   "cell_type": "code",
   "execution_count": 1574,
   "metadata": {},
   "outputs": [
    {
     "data": {
      "text/html": [
       "<div>\n",
       "<style scoped>\n",
       "    .dataframe tbody tr th:only-of-type {\n",
       "        vertical-align: middle;\n",
       "    }\n",
       "\n",
       "    .dataframe tbody tr th {\n",
       "        vertical-align: top;\n",
       "    }\n",
       "\n",
       "    .dataframe thead th {\n",
       "        text-align: right;\n",
       "    }\n",
       "</style>\n",
       "<table border=\"1\" class=\"dataframe\">\n",
       "  <thead>\n",
       "    <tr style=\"text-align: right;\">\n",
       "      <th></th>\n",
       "      <th>feature</th>\n",
       "      <th>Importances</th>\n",
       "    </tr>\n",
       "  </thead>\n",
       "  <tbody>\n",
       "    <tr>\n",
       "      <th>0</th>\n",
       "      <td>tGravityAcc-min()-Y</td>\n",
       "      <td>0.049391</td>\n",
       "    </tr>\n",
       "    <tr>\n",
       "      <th>1</th>\n",
       "      <td>angle(Y,gravityMean)</td>\n",
       "      <td>0.037815</td>\n",
       "    </tr>\n",
       "    <tr>\n",
       "      <th>2</th>\n",
       "      <td>tGravityAcc-mean()-Y</td>\n",
       "      <td>0.036514</td>\n",
       "    </tr>\n",
       "    <tr>\n",
       "      <th>3</th>\n",
       "      <td>tGravityAcc-max()-Y</td>\n",
       "      <td>0.033621</td>\n",
       "    </tr>\n",
       "    <tr>\n",
       "      <th>4</th>\n",
       "      <td>tGravityAcc-energy()-X</td>\n",
       "      <td>0.031410</td>\n",
       "    </tr>\n",
       "    <tr>\n",
       "      <th>...</th>\n",
       "      <td>...</td>\n",
       "      <td>...</td>\n",
       "    </tr>\n",
       "    <tr>\n",
       "      <th>556</th>\n",
       "      <td>fBodyBodyAccJerkMag-maxInds</td>\n",
       "      <td>0.000081</td>\n",
       "    </tr>\n",
       "    <tr>\n",
       "      <th>557</th>\n",
       "      <td>fBodyAccJerk-bandsEnergy()-33,48.1</td>\n",
       "      <td>0.000073</td>\n",
       "    </tr>\n",
       "    <tr>\n",
       "      <th>558</th>\n",
       "      <td>tBodyAccMag-mad()</td>\n",
       "      <td>0.000071</td>\n",
       "    </tr>\n",
       "    <tr>\n",
       "      <th>559</th>\n",
       "      <td>fBodyAccJerk-entropy()-Y</td>\n",
       "      <td>0.000063</td>\n",
       "    </tr>\n",
       "    <tr>\n",
       "      <th>560</th>\n",
       "      <td>fBodyAcc-maxInds-Z</td>\n",
       "      <td>0.000032</td>\n",
       "    </tr>\n",
       "  </tbody>\n",
       "</table>\n",
       "<p>561 rows × 2 columns</p>\n",
       "</div>"
      ],
      "text/plain": [
       "                                feature  Importances\n",
       "0                   tGravityAcc-min()-Y     0.049391\n",
       "1                  angle(Y,gravityMean)     0.037815\n",
       "2                  tGravityAcc-mean()-Y     0.036514\n",
       "3                   tGravityAcc-max()-Y     0.033621\n",
       "4                tGravityAcc-energy()-X     0.031410\n",
       "..                                  ...          ...\n",
       "556         fBodyBodyAccJerkMag-maxInds     0.000081\n",
       "557  fBodyAccJerk-bandsEnergy()-33,48.1     0.000073\n",
       "558                   tBodyAccMag-mad()     0.000071\n",
       "559            fBodyAccJerk-entropy()-Y     0.000063\n",
       "560                  fBodyAcc-maxInds-Z     0.000032\n",
       "\n",
       "[561 rows x 2 columns]"
      ]
     },
     "execution_count": 1574,
     "metadata": {},
     "output_type": "execute_result"
    }
   ],
   "source": [
    "df6.to_csv('df_feature_imp6.csv',index=False)\n",
    "df_feature_imp6=pd.read_csv('df_feature_imp6.csv')\n",
    "df_feature_imp6"
   ]
  },
  {
   "cell_type": "code",
   "execution_count": null,
   "metadata": {
    "colab": {
     "base_uri": "https://localhost:8080/",
     "height": 718
    },
    "executionInfo": {
     "elapsed": 2865,
     "status": "ok",
     "timestamp": 1682560385779,
     "user": {
      "displayName": "허신 - Business Intelligence",
      "userId": "11511914061488776232"
     },
     "user_tz": -540
    },
    "id": "fsWPrAI23CeL",
    "outputId": "0c8a1f37-c706-4bab-a6c8-262408535440"
   },
   "outputs": [],
   "source": []
  },
  {
   "cell_type": "code",
   "execution_count": null,
   "metadata": {
    "colab": {
     "base_uri": "https://localhost:8080/",
     "height": 718
    },
    "executionInfo": {
     "elapsed": 28,
     "status": "ok",
     "timestamp": 1682560385780,
     "user": {
      "displayName": "허신 - Business Intelligence",
      "userId": "11511914061488776232"
     },
     "user_tz": -540
    },
    "id": "N1ISdzE33CeL",
    "outputId": "48554047-81fc-4ad9-cc22-e3540dede1a6"
   },
   "outputs": [],
   "source": []
  },
  {
   "cell_type": "code",
   "execution_count": null,
   "metadata": {
    "colab": {
     "base_uri": "https://localhost:8080/",
     "height": 718
    },
    "executionInfo": {
     "elapsed": 24,
     "status": "ok",
     "timestamp": 1682560385780,
     "user": {
      "displayName": "허신 - Business Intelligence",
      "userId": "11511914061488776232"
     },
     "user_tz": -540
    },
    "id": "jsWEWNuY3CeL",
    "outputId": "18a54cf8-1eb7-43e0-b22e-e77dbc0664cf"
   },
   "outputs": [],
   "source": []
  },
  {
   "cell_type": "code",
   "execution_count": null,
   "metadata": {
    "colab": {
     "base_uri": "https://localhost:8080/",
     "height": 718
    },
    "executionInfo": {
     "elapsed": 21,
     "status": "ok",
     "timestamp": 1682560385780,
     "user": {
      "displayName": "허신 - Business Intelligence",
      "userId": "11511914061488776232"
     },
     "user_tz": -540
    },
    "id": "GFmzWI7T3CeM",
    "outputId": "5b1aa07a-22c3-447e-8cd3-86a3e8e5746f"
   },
   "outputs": [],
   "source": []
  },
  {
   "cell_type": "markdown",
   "metadata": {
    "id": "DiE6-x093CeM"
   },
   "source": [
    "#### 4) feature 그룹별 분석"
   ]
  },
  {
   "cell_type": "markdown",
   "metadata": {
    "id": "4aJVHee-3CeM"
   },
   "source": [
    "* 결과 merge"
   ]
  },
  {
   "cell_type": "code",
   "execution_count": 1575,
   "metadata": {
    "colab": {
     "base_uri": "https://localhost:8080/",
     "height": 221
    },
    "executionInfo": {
     "elapsed": 17,
     "status": "ok",
     "timestamp": 1682560385780,
     "user": {
      "displayName": "허신 - Business Intelligence",
      "userId": "11511914061488776232"
     },
     "user_tz": -540
    },
    "id": "oZh67Lac3CeM",
    "outputId": "3b093178-9e33-4e07-dbb9-9363cffb0a42"
   },
   "outputs": [
    {
     "data": {
      "text/html": [
       "<div>\n",
       "<style scoped>\n",
       "    .dataframe tbody tr th:only-of-type {\n",
       "        vertical-align: middle;\n",
       "    }\n",
       "\n",
       "    .dataframe tbody tr th {\n",
       "        vertical-align: top;\n",
       "    }\n",
       "\n",
       "    .dataframe thead th {\n",
       "        text-align: right;\n",
       "    }\n",
       "</style>\n",
       "<table border=\"1\" class=\"dataframe\">\n",
       "  <thead>\n",
       "    <tr style=\"text-align: right;\">\n",
       "      <th></th>\n",
       "      <th>feature</th>\n",
       "      <th>Importances</th>\n",
       "      <th>sensor</th>\n",
       "      <th>agg</th>\n",
       "      <th>axis</th>\n",
       "      <th>feature_name</th>\n",
       "    </tr>\n",
       "  </thead>\n",
       "  <tbody>\n",
       "    <tr>\n",
       "      <th>0</th>\n",
       "      <td>tGravityAcc-min()-Y</td>\n",
       "      <td>0.049391</td>\n",
       "      <td>tGravityAcc</td>\n",
       "      <td>min()</td>\n",
       "      <td>Y</td>\n",
       "      <td>tGravityAcc-min()-Y</td>\n",
       "    </tr>\n",
       "    <tr>\n",
       "      <th>1</th>\n",
       "      <td>angle(Y,gravityMean)</td>\n",
       "      <td>0.037815</td>\n",
       "      <td>angle</td>\n",
       "      <td>Y</td>\n",
       "      <td>gravityMean</td>\n",
       "      <td>angle(Y,gravityMean)</td>\n",
       "    </tr>\n",
       "    <tr>\n",
       "      <th>2</th>\n",
       "      <td>tGravityAcc-mean()-Y</td>\n",
       "      <td>0.036514</td>\n",
       "      <td>tGravityAcc</td>\n",
       "      <td>mean()</td>\n",
       "      <td>Y</td>\n",
       "      <td>tGravityAcc-mean()-Y</td>\n",
       "    </tr>\n",
       "    <tr>\n",
       "      <th>3</th>\n",
       "      <td>tGravityAcc-max()-Y</td>\n",
       "      <td>0.033621</td>\n",
       "      <td>tGravityAcc</td>\n",
       "      <td>max()</td>\n",
       "      <td>Y</td>\n",
       "      <td>tGravityAcc-max()-Y</td>\n",
       "    </tr>\n",
       "    <tr>\n",
       "      <th>4</th>\n",
       "      <td>tGravityAcc-energy()-X</td>\n",
       "      <td>0.031410</td>\n",
       "      <td>tGravityAcc</td>\n",
       "      <td>energy()</td>\n",
       "      <td>X</td>\n",
       "      <td>tGravityAcc-energy()-X</td>\n",
       "    </tr>\n",
       "  </tbody>\n",
       "</table>\n",
       "</div>"
      ],
      "text/plain": [
       "                  feature  Importances       sensor       agg         axis  \\\n",
       "0     tGravityAcc-min()-Y     0.049391  tGravityAcc     min()            Y   \n",
       "1    angle(Y,gravityMean)     0.037815        angle         Y  gravityMean   \n",
       "2    tGravityAcc-mean()-Y     0.036514  tGravityAcc    mean()            Y   \n",
       "3     tGravityAcc-max()-Y     0.033621  tGravityAcc     max()            Y   \n",
       "4  tGravityAcc-energy()-X     0.031410  tGravityAcc  energy()            X   \n",
       "\n",
       "             feature_name  \n",
       "0     tGravityAcc-min()-Y  \n",
       "1    angle(Y,gravityMean)  \n",
       "2    tGravityAcc-mean()-Y  \n",
       "3     tGravityAcc-max()-Y  \n",
       "4  tGravityAcc-energy()-X  "
      ]
     },
     "execution_count": 1575,
     "metadata": {},
     "output_type": "execute_result"
    }
   ],
   "source": [
    "df_feature_imp6.head()\n",
    "df_feature.head()\n",
    "df6 = pd.merge(df_feature_imp6, df_feature, left_on='feature', right_on='feature_name', how='inner')\n",
    "df6.head()"
   ]
  },
  {
   "cell_type": "code",
   "execution_count": 1576,
   "metadata": {},
   "outputs": [
    {
     "data": {
      "text/html": [
       "<div>\n",
       "<style scoped>\n",
       "    .dataframe tbody tr th:only-of-type {\n",
       "        vertical-align: middle;\n",
       "    }\n",
       "\n",
       "    .dataframe tbody tr th {\n",
       "        vertical-align: top;\n",
       "    }\n",
       "\n",
       "    .dataframe thead th {\n",
       "        text-align: right;\n",
       "    }\n",
       "</style>\n",
       "<table border=\"1\" class=\"dataframe\">\n",
       "  <thead>\n",
       "    <tr style=\"text-align: right;\">\n",
       "      <th></th>\n",
       "      <th>feature</th>\n",
       "      <th>Importances</th>\n",
       "      <th>sensor</th>\n",
       "      <th>agg</th>\n",
       "      <th>axis</th>\n",
       "    </tr>\n",
       "  </thead>\n",
       "  <tbody>\n",
       "    <tr>\n",
       "      <th>0</th>\n",
       "      <td>tGravityAcc-min()-Y</td>\n",
       "      <td>0.049391</td>\n",
       "      <td>tGravityAcc</td>\n",
       "      <td>min()</td>\n",
       "      <td>Y</td>\n",
       "    </tr>\n",
       "    <tr>\n",
       "      <th>1</th>\n",
       "      <td>angle(Y,gravityMean)</td>\n",
       "      <td>0.037815</td>\n",
       "      <td>angle</td>\n",
       "      <td>Y</td>\n",
       "      <td>gravityMean</td>\n",
       "    </tr>\n",
       "    <tr>\n",
       "      <th>2</th>\n",
       "      <td>tGravityAcc-mean()-Y</td>\n",
       "      <td>0.036514</td>\n",
       "      <td>tGravityAcc</td>\n",
       "      <td>mean()</td>\n",
       "      <td>Y</td>\n",
       "    </tr>\n",
       "    <tr>\n",
       "      <th>3</th>\n",
       "      <td>tGravityAcc-max()-Y</td>\n",
       "      <td>0.033621</td>\n",
       "      <td>tGravityAcc</td>\n",
       "      <td>max()</td>\n",
       "      <td>Y</td>\n",
       "    </tr>\n",
       "    <tr>\n",
       "      <th>4</th>\n",
       "      <td>tGravityAcc-energy()-X</td>\n",
       "      <td>0.031410</td>\n",
       "      <td>tGravityAcc</td>\n",
       "      <td>energy()</td>\n",
       "      <td>X</td>\n",
       "    </tr>\n",
       "  </tbody>\n",
       "</table>\n",
       "</div>"
      ],
      "text/plain": [
       "                  feature  Importances       sensor       agg         axis\n",
       "0     tGravityAcc-min()-Y     0.049391  tGravityAcc     min()            Y\n",
       "1    angle(Y,gravityMean)     0.037815        angle         Y  gravityMean\n",
       "2    tGravityAcc-mean()-Y     0.036514  tGravityAcc    mean()            Y\n",
       "3     tGravityAcc-max()-Y     0.033621  tGravityAcc     max()            Y\n",
       "4  tGravityAcc-energy()-X     0.031410  tGravityAcc  energy()            X"
      ]
     },
     "execution_count": 1576,
     "metadata": {},
     "output_type": "execute_result"
    }
   ],
   "source": [
    "df6.drop(['feature_name'], axis=1, inplace=True)\n",
    "df6.head()"
   ]
  },
  {
   "cell_type": "code",
   "execution_count": null,
   "metadata": {},
   "outputs": [],
   "source": []
  },
  {
   "cell_type": "markdown",
   "metadata": {
    "id": "X4hqm9iA3CeM"
   },
   "source": [
    "* sensor 별 중요도"
   ]
  },
  {
   "cell_type": "code",
   "execution_count": 1577,
   "metadata": {
    "colab": {
     "base_uri": "https://localhost:8080/",
     "height": 666
    },
    "executionInfo": {
     "elapsed": 18,
     "status": "ok",
     "timestamp": 1682560385781,
     "user": {
      "displayName": "허신 - Business Intelligence",
      "userId": "11511914061488776232"
     },
     "user_tz": -540
    },
    "id": "_EgsNAoL3CeM",
    "outputId": "7bac6a4e-a8aa-4bf8-9a5c-dc4b66aeed6c"
   },
   "outputs": [
    {
     "data": {
      "text/html": [
       "<div>\n",
       "<style scoped>\n",
       "    .dataframe tbody tr th:only-of-type {\n",
       "        vertical-align: middle;\n",
       "    }\n",
       "\n",
       "    .dataframe tbody tr th {\n",
       "        vertical-align: top;\n",
       "    }\n",
       "\n",
       "    .dataframe thead th {\n",
       "        text-align: right;\n",
       "    }\n",
       "</style>\n",
       "<table border=\"1\" class=\"dataframe\">\n",
       "  <thead>\n",
       "    <tr style=\"text-align: right;\">\n",
       "      <th></th>\n",
       "      <th>Importances</th>\n",
       "    </tr>\n",
       "    <tr>\n",
       "      <th>sensor</th>\n",
       "      <th></th>\n",
       "    </tr>\n",
       "  </thead>\n",
       "  <tbody>\n",
       "    <tr>\n",
       "      <th>tGravityAcc</th>\n",
       "      <td>0.335776</td>\n",
       "    </tr>\n",
       "    <tr>\n",
       "      <th>fBodyGyro</th>\n",
       "      <td>0.268756</td>\n",
       "    </tr>\n",
       "    <tr>\n",
       "      <th>tBodyGyro</th>\n",
       "      <td>0.090322</td>\n",
       "    </tr>\n",
       "    <tr>\n",
       "      <th>angle</th>\n",
       "      <td>0.085430</td>\n",
       "    </tr>\n",
       "    <tr>\n",
       "      <th>tBodyGyroJerk</th>\n",
       "      <td>0.079439</td>\n",
       "    </tr>\n",
       "    <tr>\n",
       "      <th>fBodyAccJerk</th>\n",
       "      <td>0.063640</td>\n",
       "    </tr>\n",
       "    <tr>\n",
       "      <th>fBodyAcc</th>\n",
       "      <td>0.044904</td>\n",
       "    </tr>\n",
       "    <tr>\n",
       "      <th>tBodyAcc</th>\n",
       "      <td>0.033367</td>\n",
       "    </tr>\n",
       "    <tr>\n",
       "      <th>tBodyAccJerk</th>\n",
       "      <td>0.023524</td>\n",
       "    </tr>\n",
       "    <tr>\n",
       "      <th>tBodyGyroJerkMag</th>\n",
       "      <td>0.014907</td>\n",
       "    </tr>\n",
       "  </tbody>\n",
       "</table>\n",
       "</div>"
      ],
      "text/plain": [
       "                  Importances\n",
       "sensor                       \n",
       "tGravityAcc          0.335776\n",
       "fBodyGyro            0.268756\n",
       "tBodyGyro            0.090322\n",
       "angle                0.085430\n",
       "tBodyGyroJerk        0.079439\n",
       "fBodyAccJerk         0.063640\n",
       "fBodyAcc             0.044904\n",
       "tBodyAcc             0.033367\n",
       "tBodyAccJerk         0.023524\n",
       "tBodyGyroJerkMag     0.014907"
      ]
     },
     "execution_count": 1577,
     "metadata": {},
     "output_type": "execute_result"
    }
   ],
   "source": [
    "# sensor 별 중요도 합계\n",
    "sorted_df = df6.groupby('sensor')[['Importances']].sum().sort_values(by='Importances', ascending=False)\n",
    "\n",
    "# 상위 변수 그룹별 비교 분석\n",
    "sorted_df[:10]"
   ]
  },
  {
   "cell_type": "markdown",
   "metadata": {
    "id": "4LV0AVS03CeM"
   },
   "source": [
    "* sensor + agg 별 중요도"
   ]
  },
  {
   "cell_type": "code",
   "execution_count": 1578,
   "metadata": {
    "colab": {
     "base_uri": "https://localhost:8080/",
     "height": 649
    },
    "executionInfo": {
     "elapsed": 17,
     "status": "ok",
     "timestamp": 1682560385781,
     "user": {
      "displayName": "허신 - Business Intelligence",
      "userId": "11511914061488776232"
     },
     "user_tz": -540
    },
    "id": "vZD0NoD53CeM",
    "outputId": "b6c5d594-acfb-4112-bcd6-e3ef74324120"
   },
   "outputs": [
    {
     "data": {
      "text/html": [
       "<div>\n",
       "<style scoped>\n",
       "    .dataframe tbody tr th:only-of-type {\n",
       "        vertical-align: middle;\n",
       "    }\n",
       "\n",
       "    .dataframe tbody tr th {\n",
       "        vertical-align: top;\n",
       "    }\n",
       "\n",
       "    .dataframe thead th {\n",
       "        text-align: right;\n",
       "    }\n",
       "</style>\n",
       "<table border=\"1\" class=\"dataframe\">\n",
       "  <thead>\n",
       "    <tr style=\"text-align: right;\">\n",
       "      <th></th>\n",
       "      <th></th>\n",
       "      <th>Importances</th>\n",
       "    </tr>\n",
       "    <tr>\n",
       "      <th>sensor</th>\n",
       "      <th>agg</th>\n",
       "      <th></th>\n",
       "    </tr>\n",
       "  </thead>\n",
       "  <tbody>\n",
       "    <tr>\n",
       "      <th>fBodyGyro</th>\n",
       "      <th>bandsEnergy()</th>\n",
       "      <td>0.173465</td>\n",
       "    </tr>\n",
       "    <tr>\n",
       "      <th rowspan=\"4\" valign=\"top\">tGravityAcc</th>\n",
       "      <th>min()</th>\n",
       "      <td>0.084460</td>\n",
       "    </tr>\n",
       "    <tr>\n",
       "      <th>mean()</th>\n",
       "      <td>0.075956</td>\n",
       "    </tr>\n",
       "    <tr>\n",
       "      <th>max()</th>\n",
       "      <td>0.071000</td>\n",
       "    </tr>\n",
       "    <tr>\n",
       "      <th>energy()</th>\n",
       "      <td>0.060240</td>\n",
       "    </tr>\n",
       "    <tr>\n",
       "      <th>fBodyAccJerk</th>\n",
       "      <th>bandsEnergy()</th>\n",
       "      <td>0.042441</td>\n",
       "    </tr>\n",
       "    <tr>\n",
       "      <th rowspan=\"2\" valign=\"top\">angle</th>\n",
       "      <th>Y</th>\n",
       "      <td>0.037815</td>\n",
       "    </tr>\n",
       "    <tr>\n",
       "      <th>X</th>\n",
       "      <td>0.030849</td>\n",
       "    </tr>\n",
       "    <tr>\n",
       "      <th>tGravityAcc</th>\n",
       "      <th>correlation()</th>\n",
       "      <td>0.021600</td>\n",
       "    </tr>\n",
       "    <tr>\n",
       "      <th>tBodyGyro</th>\n",
       "      <th>max()</th>\n",
       "      <td>0.020052</td>\n",
       "    </tr>\n",
       "  </tbody>\n",
       "</table>\n",
       "</div>"
      ],
      "text/plain": [
       "                            Importances\n",
       "sensor       agg                       \n",
       "fBodyGyro    bandsEnergy()     0.173465\n",
       "tGravityAcc  min()             0.084460\n",
       "             mean()            0.075956\n",
       "             max()             0.071000\n",
       "             energy()          0.060240\n",
       "fBodyAccJerk bandsEnergy()     0.042441\n",
       "angle        Y                 0.037815\n",
       "             X                 0.030849\n",
       "tGravityAcc  correlation()     0.021600\n",
       "tBodyGyro    max()             0.020052"
      ]
     },
     "execution_count": 1578,
     "metadata": {},
     "output_type": "execute_result"
    }
   ],
   "source": [
    "# sensor+agg별 중요도 합계\n",
    "sorted_df = df6.groupby(['sensor','agg'])[['Importances']].sum().sort_values(by='Importances', ascending=False)\n",
    "sorted_df[:10]"
   ]
  },
  {
   "cell_type": "code",
   "execution_count": null,
   "metadata": {
    "colab": {
     "base_uri": "https://localhost:8080/",
     "height": 666
    },
    "executionInfo": {
     "elapsed": 17,
     "status": "ok",
     "timestamp": 1682560385781,
     "user": {
      "displayName": "허신 - Business Intelligence",
      "userId": "11511914061488776232"
     },
     "user_tz": -540
    },
    "id": "UdfKoUzI3CeM",
    "outputId": "7d804678-ee9c-4c1c-af7d-fda7a086f4b5"
   },
   "outputs": [],
   "source": []
  },
  {
   "cell_type": "markdown",
   "metadata": {
    "id": "27EnvYow5Xce"
   },
   "source": [
    "### (4) 개별 동작 분석 : is_laying\n"
   ]
  },
  {
   "cell_type": "markdown",
   "metadata": {
    "id": "V4aio20T5Xce"
   },
   "source": [
    "* **세부 요구사항**\n",
    "    - Target인 Activity를 is_laying 변수로 변경하시오.\n",
    "        * 값 1 : LAYING\n",
    "        * 값 0 : 나머지\n",
    "    - is_laying 을 예측하기 위한 기본 모델을 생성하시오.\n",
    "        * x, is_laying 을 이용하여 train과 validation으로 데이터 분할\n",
    "        * 기본 모델링\n",
    "    - is_laying 을 구분하는데 중요한 변수 상위 5를 분석하시오.\n",
    "    - is_laying 을 구분하는데 중요한 변수 그룹을 분석하시오.\n",
    "        * sensor별\n",
    "        * sensor+agg 별\n"
   ]
  },
  {
   "cell_type": "markdown",
   "metadata": {
    "id": "aHRE9VaI5Xce"
   },
   "source": [
    "#### 1) is_laying 추가"
   ]
  },
  {
   "cell_type": "code",
   "execution_count": 1579,
   "metadata": {},
   "outputs": [
    {
     "data": {
      "text/plain": [
       "LAYING                1115\n",
       "STANDING              1087\n",
       "SITTING               1032\n",
       "WALKING                998\n",
       "WALKING_UPSTAIRS       858\n",
       "WALKING_DOWNSTAIRS     791\n",
       "Name: Activity, dtype: int64"
      ]
     },
     "execution_count": 1579,
     "metadata": {},
     "output_type": "execute_result"
    }
   ],
   "source": [
    "df_train['Activity'].value_counts()"
   ]
  },
  {
   "cell_type": "code",
   "execution_count": 1580,
   "metadata": {},
   "outputs": [
    {
     "data": {
      "text/plain": [
       "0    4766\n",
       "1    1115\n",
       "Name: is_laying, dtype: int64"
      ]
     },
     "execution_count": 1580,
     "metadata": {},
     "output_type": "execute_result"
    }
   ],
   "source": [
    "df_train['is_laying'] = df_train['Activity'].replace({'STANDING': 0, 'SITTING': 0, 'LAYING': 1, 'WALKING': 0, 'WALKING_UPSTAIRS': 0, 'WALKING_DOWNSTAIRS': 0})\n",
    "df_train['is_laying'].value_counts()"
   ]
  },
  {
   "cell_type": "code",
   "execution_count": 1581,
   "metadata": {},
   "outputs": [
    {
     "data": {
      "text/html": [
       "<div>\n",
       "<style scoped>\n",
       "    .dataframe tbody tr th:only-of-type {\n",
       "        vertical-align: middle;\n",
       "    }\n",
       "\n",
       "    .dataframe tbody tr th {\n",
       "        vertical-align: top;\n",
       "    }\n",
       "\n",
       "    .dataframe thead th {\n",
       "        text-align: right;\n",
       "    }\n",
       "</style>\n",
       "<table border=\"1\" class=\"dataframe\">\n",
       "  <thead>\n",
       "    <tr style=\"text-align: right;\">\n",
       "      <th></th>\n",
       "      <th>tBodyAcc-mean()-X</th>\n",
       "      <th>tBodyAcc-mean()-Y</th>\n",
       "      <th>tBodyAcc-mean()-Z</th>\n",
       "      <th>tBodyAcc-std()-X</th>\n",
       "      <th>tBodyAcc-std()-Y</th>\n",
       "      <th>tBodyAcc-std()-Z</th>\n",
       "      <th>tBodyAcc-mad()-X</th>\n",
       "      <th>tBodyAcc-mad()-Y</th>\n",
       "      <th>tBodyAcc-mad()-Z</th>\n",
       "      <th>tBodyAcc-max()-X</th>\n",
       "      <th>...</th>\n",
       "      <th>angle(tBodyGyroMean,gravityMean)</th>\n",
       "      <th>angle(tBodyGyroJerkMean,gravityMean)</th>\n",
       "      <th>angle(X,gravityMean)</th>\n",
       "      <th>angle(Y,gravityMean)</th>\n",
       "      <th>angle(Z,gravityMean)</th>\n",
       "      <th>Activity</th>\n",
       "      <th>is_dynamic</th>\n",
       "      <th>is_standing</th>\n",
       "      <th>is_sitting</th>\n",
       "      <th>is_laying</th>\n",
       "    </tr>\n",
       "  </thead>\n",
       "  <tbody>\n",
       "    <tr>\n",
       "      <th>0</th>\n",
       "      <td>0.288508</td>\n",
       "      <td>-0.009196</td>\n",
       "      <td>-0.103362</td>\n",
       "      <td>-0.988986</td>\n",
       "      <td>-0.962797</td>\n",
       "      <td>-0.967422</td>\n",
       "      <td>-0.989000</td>\n",
       "      <td>-0.962596</td>\n",
       "      <td>-0.965650</td>\n",
       "      <td>-0.929747</td>\n",
       "      <td>...</td>\n",
       "      <td>0.307873</td>\n",
       "      <td>0.072790</td>\n",
       "      <td>-0.601120</td>\n",
       "      <td>0.331298</td>\n",
       "      <td>0.165163</td>\n",
       "      <td>STANDING</td>\n",
       "      <td>0</td>\n",
       "      <td>1</td>\n",
       "      <td>0</td>\n",
       "      <td>0</td>\n",
       "    </tr>\n",
       "    <tr>\n",
       "      <th>1</th>\n",
       "      <td>0.265757</td>\n",
       "      <td>-0.016576</td>\n",
       "      <td>-0.098163</td>\n",
       "      <td>-0.989551</td>\n",
       "      <td>-0.994636</td>\n",
       "      <td>-0.987435</td>\n",
       "      <td>-0.990189</td>\n",
       "      <td>-0.993870</td>\n",
       "      <td>-0.987558</td>\n",
       "      <td>-0.937337</td>\n",
       "      <td>...</td>\n",
       "      <td>-0.765014</td>\n",
       "      <td>0.771524</td>\n",
       "      <td>0.345205</td>\n",
       "      <td>-0.769186</td>\n",
       "      <td>-0.147944</td>\n",
       "      <td>LAYING</td>\n",
       "      <td>0</td>\n",
       "      <td>0</td>\n",
       "      <td>0</td>\n",
       "      <td>1</td>\n",
       "    </tr>\n",
       "    <tr>\n",
       "      <th>2</th>\n",
       "      <td>0.278709</td>\n",
       "      <td>-0.014511</td>\n",
       "      <td>-0.108717</td>\n",
       "      <td>-0.997720</td>\n",
       "      <td>-0.981088</td>\n",
       "      <td>-0.994008</td>\n",
       "      <td>-0.997934</td>\n",
       "      <td>-0.982187</td>\n",
       "      <td>-0.995017</td>\n",
       "      <td>-0.942584</td>\n",
       "      <td>...</td>\n",
       "      <td>-0.891875</td>\n",
       "      <td>0.021528</td>\n",
       "      <td>-0.833564</td>\n",
       "      <td>0.202434</td>\n",
       "      <td>-0.032755</td>\n",
       "      <td>STANDING</td>\n",
       "      <td>0</td>\n",
       "      <td>1</td>\n",
       "      <td>0</td>\n",
       "      <td>0</td>\n",
       "    </tr>\n",
       "    <tr>\n",
       "      <th>3</th>\n",
       "      <td>0.289795</td>\n",
       "      <td>-0.035536</td>\n",
       "      <td>-0.150354</td>\n",
       "      <td>-0.231727</td>\n",
       "      <td>-0.006412</td>\n",
       "      <td>-0.338117</td>\n",
       "      <td>-0.273557</td>\n",
       "      <td>0.014245</td>\n",
       "      <td>-0.347916</td>\n",
       "      <td>0.008288</td>\n",
       "      <td>...</td>\n",
       "      <td>0.747381</td>\n",
       "      <td>-0.072944</td>\n",
       "      <td>-0.695819</td>\n",
       "      <td>0.287154</td>\n",
       "      <td>0.111388</td>\n",
       "      <td>WALKING</td>\n",
       "      <td>1</td>\n",
       "      <td>0</td>\n",
       "      <td>0</td>\n",
       "      <td>0</td>\n",
       "    </tr>\n",
       "    <tr>\n",
       "      <th>4</th>\n",
       "      <td>0.394807</td>\n",
       "      <td>0.034098</td>\n",
       "      <td>0.091229</td>\n",
       "      <td>0.088489</td>\n",
       "      <td>-0.106636</td>\n",
       "      <td>-0.388502</td>\n",
       "      <td>-0.010469</td>\n",
       "      <td>-0.109680</td>\n",
       "      <td>-0.346372</td>\n",
       "      <td>0.584131</td>\n",
       "      <td>...</td>\n",
       "      <td>-0.974650</td>\n",
       "      <td>-0.887846</td>\n",
       "      <td>-0.705029</td>\n",
       "      <td>0.264952</td>\n",
       "      <td>0.137758</td>\n",
       "      <td>WALKING_DOWNSTAIRS</td>\n",
       "      <td>1</td>\n",
       "      <td>0</td>\n",
       "      <td>0</td>\n",
       "      <td>0</td>\n",
       "    </tr>\n",
       "  </tbody>\n",
       "</table>\n",
       "<p>5 rows × 566 columns</p>\n",
       "</div>"
      ],
      "text/plain": [
       "   tBodyAcc-mean()-X  tBodyAcc-mean()-Y  tBodyAcc-mean()-Z  tBodyAcc-std()-X  \\\n",
       "0           0.288508          -0.009196          -0.103362         -0.988986   \n",
       "1           0.265757          -0.016576          -0.098163         -0.989551   \n",
       "2           0.278709          -0.014511          -0.108717         -0.997720   \n",
       "3           0.289795          -0.035536          -0.150354         -0.231727   \n",
       "4           0.394807           0.034098           0.091229          0.088489   \n",
       "\n",
       "   tBodyAcc-std()-Y  tBodyAcc-std()-Z  tBodyAcc-mad()-X  tBodyAcc-mad()-Y  \\\n",
       "0         -0.962797         -0.967422         -0.989000         -0.962596   \n",
       "1         -0.994636         -0.987435         -0.990189         -0.993870   \n",
       "2         -0.981088         -0.994008         -0.997934         -0.982187   \n",
       "3         -0.006412         -0.338117         -0.273557          0.014245   \n",
       "4         -0.106636         -0.388502         -0.010469         -0.109680   \n",
       "\n",
       "   tBodyAcc-mad()-Z  tBodyAcc-max()-X  ...  angle(tBodyGyroMean,gravityMean)  \\\n",
       "0         -0.965650         -0.929747  ...                          0.307873   \n",
       "1         -0.987558         -0.937337  ...                         -0.765014   \n",
       "2         -0.995017         -0.942584  ...                         -0.891875   \n",
       "3         -0.347916          0.008288  ...                          0.747381   \n",
       "4         -0.346372          0.584131  ...                         -0.974650   \n",
       "\n",
       "   angle(tBodyGyroJerkMean,gravityMean)  angle(X,gravityMean)  \\\n",
       "0                              0.072790             -0.601120   \n",
       "1                              0.771524              0.345205   \n",
       "2                              0.021528             -0.833564   \n",
       "3                             -0.072944             -0.695819   \n",
       "4                             -0.887846             -0.705029   \n",
       "\n",
       "   angle(Y,gravityMean)  angle(Z,gravityMean)            Activity  is_dynamic  \\\n",
       "0              0.331298              0.165163            STANDING           0   \n",
       "1             -0.769186             -0.147944              LAYING           0   \n",
       "2              0.202434             -0.032755            STANDING           0   \n",
       "3              0.287154              0.111388             WALKING           1   \n",
       "4              0.264952              0.137758  WALKING_DOWNSTAIRS           1   \n",
       "\n",
       "   is_standing  is_sitting  is_laying  \n",
       "0            1           0          0  \n",
       "1            0           0          1  \n",
       "2            1           0          0  \n",
       "3            0           0          0  \n",
       "4            0           0          0  \n",
       "\n",
       "[5 rows x 566 columns]"
      ]
     },
     "execution_count": 1581,
     "metadata": {},
     "output_type": "execute_result"
    }
   ],
   "source": [
    "df_train.head()"
   ]
  },
  {
   "cell_type": "code",
   "execution_count": null,
   "metadata": {
    "colab": {
     "base_uri": "https://localhost:8080/"
    },
    "executionInfo": {
     "elapsed": 16,
     "status": "ok",
     "timestamp": 1682560385781,
     "user": {
      "displayName": "허신 - Business Intelligence",
      "userId": "11511914061488776232"
     },
     "user_tz": -540
    },
    "id": "lAy-XBzW5Xce",
    "outputId": "b720ea31-0e62-42be-9995-cb39075addfe"
   },
   "outputs": [],
   "source": []
  },
  {
   "cell_type": "markdown",
   "metadata": {
    "id": "kjN6kVe25Xcf"
   },
   "source": [
    "#### 2) 기본모델 생성"
   ]
  },
  {
   "cell_type": "code",
   "execution_count": 1582,
   "metadata": {
    "executionInfo": {
     "elapsed": 14,
     "status": "ok",
     "timestamp": 1682560385782,
     "user": {
      "displayName": "허신 - Business Intelligence",
      "userId": "11511914061488776232"
     },
     "user_tz": -540
    },
    "id": "dsHJX7vy5Xcf"
   },
   "outputs": [
    {
     "data": {
      "text/html": [
       "<style>#sk-container-id-63 {color: black;background-color: white;}#sk-container-id-63 pre{padding: 0;}#sk-container-id-63 div.sk-toggleable {background-color: white;}#sk-container-id-63 label.sk-toggleable__label {cursor: pointer;display: block;width: 100%;margin-bottom: 0;padding: 0.3em;box-sizing: border-box;text-align: center;}#sk-container-id-63 label.sk-toggleable__label-arrow:before {content: \"▸\";float: left;margin-right: 0.25em;color: #696969;}#sk-container-id-63 label.sk-toggleable__label-arrow:hover:before {color: black;}#sk-container-id-63 div.sk-estimator:hover label.sk-toggleable__label-arrow:before {color: black;}#sk-container-id-63 div.sk-toggleable__content {max-height: 0;max-width: 0;overflow: hidden;text-align: left;background-color: #f0f8ff;}#sk-container-id-63 div.sk-toggleable__content pre {margin: 0.2em;color: black;border-radius: 0.25em;background-color: #f0f8ff;}#sk-container-id-63 input.sk-toggleable__control:checked~div.sk-toggleable__content {max-height: 200px;max-width: 100%;overflow: auto;}#sk-container-id-63 input.sk-toggleable__control:checked~label.sk-toggleable__label-arrow:before {content: \"▾\";}#sk-container-id-63 div.sk-estimator input.sk-toggleable__control:checked~label.sk-toggleable__label {background-color: #d4ebff;}#sk-container-id-63 div.sk-label input.sk-toggleable__control:checked~label.sk-toggleable__label {background-color: #d4ebff;}#sk-container-id-63 input.sk-hidden--visually {border: 0;clip: rect(1px 1px 1px 1px);clip: rect(1px, 1px, 1px, 1px);height: 1px;margin: -1px;overflow: hidden;padding: 0;position: absolute;width: 1px;}#sk-container-id-63 div.sk-estimator {font-family: monospace;background-color: #f0f8ff;border: 1px dotted black;border-radius: 0.25em;box-sizing: border-box;margin-bottom: 0.5em;}#sk-container-id-63 div.sk-estimator:hover {background-color: #d4ebff;}#sk-container-id-63 div.sk-parallel-item::after {content: \"\";width: 100%;border-bottom: 1px solid gray;flex-grow: 1;}#sk-container-id-63 div.sk-label:hover label.sk-toggleable__label {background-color: #d4ebff;}#sk-container-id-63 div.sk-serial::before {content: \"\";position: absolute;border-left: 1px solid gray;box-sizing: border-box;top: 0;bottom: 0;left: 50%;z-index: 0;}#sk-container-id-63 div.sk-serial {display: flex;flex-direction: column;align-items: center;background-color: white;padding-right: 0.2em;padding-left: 0.2em;position: relative;}#sk-container-id-63 div.sk-item {position: relative;z-index: 1;}#sk-container-id-63 div.sk-parallel {display: flex;align-items: stretch;justify-content: center;background-color: white;position: relative;}#sk-container-id-63 div.sk-item::before, #sk-container-id-63 div.sk-parallel-item::before {content: \"\";position: absolute;border-left: 1px solid gray;box-sizing: border-box;top: 0;bottom: 0;left: 50%;z-index: -1;}#sk-container-id-63 div.sk-parallel-item {display: flex;flex-direction: column;z-index: 1;position: relative;background-color: white;}#sk-container-id-63 div.sk-parallel-item:first-child::after {align-self: flex-end;width: 50%;}#sk-container-id-63 div.sk-parallel-item:last-child::after {align-self: flex-start;width: 50%;}#sk-container-id-63 div.sk-parallel-item:only-child::after {width: 0;}#sk-container-id-63 div.sk-dashed-wrapped {border: 1px dashed gray;margin: 0 0.4em 0.5em 0.4em;box-sizing: border-box;padding-bottom: 0.4em;background-color: white;}#sk-container-id-63 div.sk-label label {font-family: monospace;font-weight: bold;display: inline-block;line-height: 1.2em;}#sk-container-id-63 div.sk-label-container {text-align: center;}#sk-container-id-63 div.sk-container {/* jupyter's `normalize.less` sets `[hidden] { display: none; }` but bootstrap.min.css set `[hidden] { display: none !important; }` so we also need the `!important` here to be able to override the default hidden behavior on the sphinx rendered scikit-learn.org. See: https://github.com/scikit-learn/scikit-learn/issues/21755 */display: inline-block !important;position: relative;}#sk-container-id-63 div.sk-text-repr-fallback {display: none;}</style><div id=\"sk-container-id-63\" class=\"sk-top-container\"><div class=\"sk-text-repr-fallback\"><pre>RandomForestClassifier()</pre><b>In a Jupyter environment, please rerun this cell to show the HTML representation or trust the notebook. <br />On GitHub, the HTML representation is unable to render, please try loading this page with nbviewer.org.</b></div><div class=\"sk-container\" hidden><div class=\"sk-item\"><div class=\"sk-estimator sk-toggleable\"><input class=\"sk-toggleable__control sk-hidden--visually\" id=\"sk-estimator-id-63\" type=\"checkbox\" checked><label for=\"sk-estimator-id-63\" class=\"sk-toggleable__label sk-toggleable__label-arrow\">RandomForestClassifier</label><div class=\"sk-toggleable__content\"><pre>RandomForestClassifier()</pre></div></div></div></div></div>"
      ],
      "text/plain": [
       "RandomForestClassifier()"
      ]
     },
     "execution_count": 1582,
     "metadata": {},
     "output_type": "execute_result"
    }
   ],
   "source": [
    "y = df_train['is_laying']\n",
    "\n",
    "from sklearn.model_selection import train_test_split\n",
    "x_train, x_val, y_train, y_val = train_test_split(x, y, test_size=0.3, shuffle=True, random_state=1)\n",
    "\n",
    "\n",
    "from sklearn.ensemble import RandomForestClassifier\n",
    "model7 = RandomForestClassifier()\n",
    "model7.fit(x_train, y_train)"
   ]
  },
  {
   "cell_type": "code",
   "execution_count": null,
   "metadata": {
    "colab": {
     "base_uri": "https://localhost:8080/"
    },
    "executionInfo": {
     "elapsed": 738,
     "status": "ok",
     "timestamp": 1682560386506,
     "user": {
      "displayName": "허신 - Business Intelligence",
      "userId": "11511914061488776232"
     },
     "user_tz": -540
    },
    "id": "Qw30ccV35Xcf",
    "outputId": "48ca22e6-f18f-434d-ab1d-4c9e81f4d1c6"
   },
   "outputs": [],
   "source": []
  },
  {
   "cell_type": "markdown",
   "metadata": {
    "id": "L52fsd_R5Xcf"
   },
   "source": [
    "#### 3) 변수중요도 상위 5개 분석"
   ]
  },
  {
   "cell_type": "code",
   "execution_count": 1583,
   "metadata": {
    "colab": {
     "base_uri": "https://localhost:8080/",
     "height": 1000
    },
    "executionInfo": {
     "elapsed": 12997,
     "status": "ok",
     "timestamp": 1682560399500,
     "user": {
      "displayName": "허신 - Business Intelligence",
      "userId": "11511914061488776232"
     },
     "user_tz": -540
    },
    "id": "ETd6NPu_5Xcf",
    "outputId": "1283e25e-0f7d-424d-97e5-c0408ab6196b"
   },
   "outputs": [
    {
     "data": {
      "text/html": [
       "<div>\n",
       "<style scoped>\n",
       "    .dataframe tbody tr th:only-of-type {\n",
       "        vertical-align: middle;\n",
       "    }\n",
       "\n",
       "    .dataframe tbody tr th {\n",
       "        vertical-align: top;\n",
       "    }\n",
       "\n",
       "    .dataframe thead th {\n",
       "        text-align: right;\n",
       "    }\n",
       "</style>\n",
       "<table border=\"1\" class=\"dataframe\">\n",
       "  <thead>\n",
       "    <tr style=\"text-align: right;\">\n",
       "      <th></th>\n",
       "      <th>feature</th>\n",
       "      <th>Importances</th>\n",
       "    </tr>\n",
       "  </thead>\n",
       "  <tbody>\n",
       "    <tr>\n",
       "      <th>558</th>\n",
       "      <td>angle(X,gravityMean)</td>\n",
       "      <td>0.109041</td>\n",
       "    </tr>\n",
       "    <tr>\n",
       "      <th>52</th>\n",
       "      <td>tGravityAcc-min()-X</td>\n",
       "      <td>0.085824</td>\n",
       "    </tr>\n",
       "    <tr>\n",
       "      <th>41</th>\n",
       "      <td>tGravityAcc-mean()-Y</td>\n",
       "      <td>0.085458</td>\n",
       "    </tr>\n",
       "    <tr>\n",
       "      <th>50</th>\n",
       "      <td>tGravityAcc-max()-Y</td>\n",
       "      <td>0.077796</td>\n",
       "    </tr>\n",
       "    <tr>\n",
       "      <th>56</th>\n",
       "      <td>tGravityAcc-energy()-X</td>\n",
       "      <td>0.063722</td>\n",
       "    </tr>\n",
       "  </tbody>\n",
       "</table>\n",
       "</div>"
      ],
      "text/plain": [
       "                    feature  Importances\n",
       "558    angle(X,gravityMean)     0.109041\n",
       "52      tGravityAcc-min()-X     0.085824\n",
       "41     tGravityAcc-mean()-Y     0.085458\n",
       "50      tGravityAcc-max()-Y     0.077796\n",
       "56   tGravityAcc-energy()-X     0.063722"
      ]
     },
     "execution_count": 1583,
     "metadata": {},
     "output_type": "execute_result"
    }
   ],
   "source": [
    "df7 = pd.DataFrame()\n",
    "df7['feature'] = list(x)\n",
    "df7['Importances'] = model7.feature_importances_\n",
    "df7.sort_values(by = 'Importances', ascending=False, inplace=True)\n",
    "df7[:5]"
   ]
  },
  {
   "cell_type": "markdown",
   "metadata": {
    "id": "lLivVuOf5Xcf"
   },
   "source": [
    "* 상위 변수 선정"
   ]
  },
  {
   "cell_type": "code",
   "execution_count": 1584,
   "metadata": {
    "colab": {
     "base_uri": "https://localhost:8080/",
     "height": 221
    },
    "executionInfo": {
     "elapsed": 10,
     "status": "ok",
     "timestamp": 1682560399501,
     "user": {
      "displayName": "허신 - Business Intelligence",
      "userId": "11511914061488776232"
     },
     "user_tz": -540
    },
    "id": "5sEyPjIZ5Xcg",
    "outputId": "9d8733d5-b219-4625-bbf9-a9139684ff31"
   },
   "outputs": [
    {
     "data": {
      "text/plain": [
       "['angle(X,gravityMean)',\n",
       " 'tGravityAcc-min()-X',\n",
       " 'tGravityAcc-mean()-Y',\n",
       " 'tGravityAcc-max()-Y',\n",
       " 'tGravityAcc-energy()-X']"
      ]
     },
     "execution_count": 1584,
     "metadata": {},
     "output_type": "execute_result"
    }
   ],
   "source": [
    "cols=list(df7.iloc[:5,:1]['feature'])\n",
    "cols"
   ]
  },
  {
   "cell_type": "code",
   "execution_count": null,
   "metadata": {},
   "outputs": [],
   "source": []
  },
  {
   "cell_type": "markdown",
   "metadata": {
    "id": "kWyh7_AE5Xcg"
   },
   "source": [
    "* 데이터 탐색하기"
   ]
  },
  {
   "cell_type": "code",
   "execution_count": 1585,
   "metadata": {
    "executionInfo": {
     "elapsed": 9,
     "status": "ok",
     "timestamp": 1682560399501,
     "user": {
      "displayName": "허신 - Business Intelligence",
      "userId": "11511914061488776232"
     },
     "user_tz": -540
    },
    "id": "HbLWTyn05Xcg"
   },
   "outputs": [
    {
     "data": {
      "text/html": [
       "<div>\n",
       "<style scoped>\n",
       "    .dataframe tbody tr th:only-of-type {\n",
       "        vertical-align: middle;\n",
       "    }\n",
       "\n",
       "    .dataframe tbody tr th {\n",
       "        vertical-align: top;\n",
       "    }\n",
       "\n",
       "    .dataframe thead th {\n",
       "        text-align: right;\n",
       "    }\n",
       "</style>\n",
       "<table border=\"1\" class=\"dataframe\">\n",
       "  <thead>\n",
       "    <tr style=\"text-align: right;\">\n",
       "      <th></th>\n",
       "      <th>feature_name</th>\n",
       "      <th>feature_importance</th>\n",
       "    </tr>\n",
       "  </thead>\n",
       "  <tbody>\n",
       "    <tr>\n",
       "      <th>0</th>\n",
       "      <td>angle(X,gravityMean)</td>\n",
       "      <td>0.109041</td>\n",
       "    </tr>\n",
       "    <tr>\n",
       "      <th>1</th>\n",
       "      <td>tGravityAcc-min()-X</td>\n",
       "      <td>0.085824</td>\n",
       "    </tr>\n",
       "    <tr>\n",
       "      <th>2</th>\n",
       "      <td>tGravityAcc-mean()-Y</td>\n",
       "      <td>0.085458</td>\n",
       "    </tr>\n",
       "    <tr>\n",
       "      <th>3</th>\n",
       "      <td>tGravityAcc-max()-Y</td>\n",
       "      <td>0.077796</td>\n",
       "    </tr>\n",
       "    <tr>\n",
       "      <th>4</th>\n",
       "      <td>tGravityAcc-energy()-X</td>\n",
       "      <td>0.063722</td>\n",
       "    </tr>\n",
       "  </tbody>\n",
       "</table>\n",
       "</div>"
      ],
      "text/plain": [
       "             feature_name  feature_importance\n",
       "0    angle(X,gravityMean)            0.109041\n",
       "1     tGravityAcc-min()-X            0.085824\n",
       "2    tGravityAcc-mean()-Y            0.085458\n",
       "3     tGravityAcc-max()-Y            0.077796\n",
       "4  tGravityAcc-energy()-X            0.063722"
      ]
     },
     "execution_count": 1585,
     "metadata": {},
     "output_type": "execute_result"
    },
    {
     "data": {
      "image/png": "[encoded data removed]",
      "text/plain": [
       "<Figure size 720x360 with 1 Axes>"
      ]
     },
     "metadata": {
      "needs_background": "light"
     },
     "output_type": "display_data"
    }
   ],
   "source": [
    "plot_feature_importance(model7.feature_importances_, x_train.columns, topn=5)"
   ]
  },
  {
   "cell_type": "code",
   "execution_count": null,
   "metadata": {
    "colab": {
     "base_uri": "https://localhost:8080/",
     "height": 718
    },
    "executionInfo": {
     "elapsed": 2641,
     "status": "ok",
     "timestamp": 1682560402134,
     "user": {
      "displayName": "허신 - Business Intelligence",
      "userId": "11511914061488776232"
     },
     "user_tz": -540
    },
    "id": "0wZbA-e65Xcg",
    "outputId": "d3e2eb31-ed6c-4082-f41f-5719a1873ac4"
   },
   "outputs": [],
   "source": []
  },
  {
   "cell_type": "code",
   "execution_count": 1586,
   "metadata": {
    "colab": {
     "base_uri": "https://localhost:8080/",
     "height": 718
    },
    "executionInfo": {
     "elapsed": 19,
     "status": "ok",
     "timestamp": 1682560402134,
     "user": {
      "displayName": "허신 - Business Intelligence",
      "userId": "11511914061488776232"
     },
     "user_tz": -540
    },
    "id": "BaedHE3_5Xcg",
    "outputId": "291011de-651a-4b38-f601-4d86dad7b5b8"
   },
   "outputs": [
    {
     "data": {
      "text/html": [
       "<div>\n",
       "<style scoped>\n",
       "    .dataframe tbody tr th:only-of-type {\n",
       "        vertical-align: middle;\n",
       "    }\n",
       "\n",
       "    .dataframe tbody tr th {\n",
       "        vertical-align: top;\n",
       "    }\n",
       "\n",
       "    .dataframe thead th {\n",
       "        text-align: right;\n",
       "    }\n",
       "</style>\n",
       "<table border=\"1\" class=\"dataframe\">\n",
       "  <thead>\n",
       "    <tr style=\"text-align: right;\">\n",
       "      <th></th>\n",
       "      <th>feature</th>\n",
       "      <th>Importances</th>\n",
       "    </tr>\n",
       "  </thead>\n",
       "  <tbody>\n",
       "    <tr>\n",
       "      <th>0</th>\n",
       "      <td>angle(X,gravityMean)</td>\n",
       "      <td>0.109041</td>\n",
       "    </tr>\n",
       "    <tr>\n",
       "      <th>1</th>\n",
       "      <td>tGravityAcc-min()-X</td>\n",
       "      <td>0.085824</td>\n",
       "    </tr>\n",
       "    <tr>\n",
       "      <th>2</th>\n",
       "      <td>tGravityAcc-mean()-Y</td>\n",
       "      <td>0.085458</td>\n",
       "    </tr>\n",
       "    <tr>\n",
       "      <th>3</th>\n",
       "      <td>tGravityAcc-max()-Y</td>\n",
       "      <td>0.077796</td>\n",
       "    </tr>\n",
       "    <tr>\n",
       "      <th>4</th>\n",
       "      <td>tGravityAcc-energy()-X</td>\n",
       "      <td>0.063722</td>\n",
       "    </tr>\n",
       "    <tr>\n",
       "      <th>...</th>\n",
       "      <td>...</td>\n",
       "      <td>...</td>\n",
       "    </tr>\n",
       "    <tr>\n",
       "      <th>556</th>\n",
       "      <td>tBodyAcc-arCoeff()-X,2</td>\n",
       "      <td>0.000000</td>\n",
       "    </tr>\n",
       "    <tr>\n",
       "      <th>557</th>\n",
       "      <td>tGravityAccMag-arCoeff()3</td>\n",
       "      <td>0.000000</td>\n",
       "    </tr>\n",
       "    <tr>\n",
       "      <th>558</th>\n",
       "      <td>tGravityAccMag-max()</td>\n",
       "      <td>0.000000</td>\n",
       "    </tr>\n",
       "    <tr>\n",
       "      <th>559</th>\n",
       "      <td>tGravityAccMag-mad()</td>\n",
       "      <td>0.000000</td>\n",
       "    </tr>\n",
       "    <tr>\n",
       "      <th>560</th>\n",
       "      <td>tBodyAccMag-std()</td>\n",
       "      <td>0.000000</td>\n",
       "    </tr>\n",
       "  </tbody>\n",
       "</table>\n",
       "<p>561 rows × 2 columns</p>\n",
       "</div>"
      ],
      "text/plain": [
       "                       feature  Importances\n",
       "0         angle(X,gravityMean)     0.109041\n",
       "1          tGravityAcc-min()-X     0.085824\n",
       "2         tGravityAcc-mean()-Y     0.085458\n",
       "3          tGravityAcc-max()-Y     0.077796\n",
       "4       tGravityAcc-energy()-X     0.063722\n",
       "..                         ...          ...\n",
       "556     tBodyAcc-arCoeff()-X,2     0.000000\n",
       "557  tGravityAccMag-arCoeff()3     0.000000\n",
       "558       tGravityAccMag-max()     0.000000\n",
       "559       tGravityAccMag-mad()     0.000000\n",
       "560          tBodyAccMag-std()     0.000000\n",
       "\n",
       "[561 rows x 2 columns]"
      ]
     },
     "execution_count": 1586,
     "metadata": {},
     "output_type": "execute_result"
    }
   ],
   "source": [
    "df7.to_csv('df_feature_imp7.csv',index=False)\n",
    "df_feature_imp7=pd.read_csv('df_feature_imp7.csv')\n",
    "df_feature_imp7"
   ]
  },
  {
   "cell_type": "code",
   "execution_count": null,
   "metadata": {
    "colab": {
     "base_uri": "https://localhost:8080/",
     "height": 718
    },
    "executionInfo": {
     "elapsed": 16,
     "status": "ok",
     "timestamp": 1682560402135,
     "user": {
      "displayName": "허신 - Business Intelligence",
      "userId": "11511914061488776232"
     },
     "user_tz": -540
    },
    "id": "NQTeF4uo5Xch",
    "outputId": "d40d0175-7faf-4c87-d240-5b6a951ea4da"
   },
   "outputs": [],
   "source": []
  },
  {
   "cell_type": "markdown",
   "metadata": {
    "id": "2moqM8sb5Xch"
   },
   "source": [
    "#### 4) feature 그룹별 분석"
   ]
  },
  {
   "cell_type": "markdown",
   "metadata": {
    "id": "yC92o_eg5Xch"
   },
   "source": [
    "* 결과 merge"
   ]
  },
  {
   "cell_type": "code",
   "execution_count": 1587,
   "metadata": {},
   "outputs": [
    {
     "data": {
      "text/html": [
       "<div>\n",
       "<style scoped>\n",
       "    .dataframe tbody tr th:only-of-type {\n",
       "        vertical-align: middle;\n",
       "    }\n",
       "\n",
       "    .dataframe tbody tr th {\n",
       "        vertical-align: top;\n",
       "    }\n",
       "\n",
       "    .dataframe thead th {\n",
       "        text-align: right;\n",
       "    }\n",
       "</style>\n",
       "<table border=\"1\" class=\"dataframe\">\n",
       "  <thead>\n",
       "    <tr style=\"text-align: right;\">\n",
       "      <th></th>\n",
       "      <th>feature</th>\n",
       "      <th>Importances</th>\n",
       "      <th>sensor</th>\n",
       "      <th>agg</th>\n",
       "      <th>axis</th>\n",
       "      <th>feature_name</th>\n",
       "    </tr>\n",
       "  </thead>\n",
       "  <tbody>\n",
       "    <tr>\n",
       "      <th>0</th>\n",
       "      <td>angle(X,gravityMean)</td>\n",
       "      <td>0.109041</td>\n",
       "      <td>angle</td>\n",
       "      <td>X</td>\n",
       "      <td>gravityMean</td>\n",
       "      <td>angle(X,gravityMean)</td>\n",
       "    </tr>\n",
       "    <tr>\n",
       "      <th>1</th>\n",
       "      <td>tGravityAcc-min()-X</td>\n",
       "      <td>0.085824</td>\n",
       "      <td>tGravityAcc</td>\n",
       "      <td>min()</td>\n",
       "      <td>X</td>\n",
       "      <td>tGravityAcc-min()-X</td>\n",
       "    </tr>\n",
       "    <tr>\n",
       "      <th>2</th>\n",
       "      <td>tGravityAcc-mean()-Y</td>\n",
       "      <td>0.085458</td>\n",
       "      <td>tGravityAcc</td>\n",
       "      <td>mean()</td>\n",
       "      <td>Y</td>\n",
       "      <td>tGravityAcc-mean()-Y</td>\n",
       "    </tr>\n",
       "    <tr>\n",
       "      <th>3</th>\n",
       "      <td>tGravityAcc-max()-Y</td>\n",
       "      <td>0.077796</td>\n",
       "      <td>tGravityAcc</td>\n",
       "      <td>max()</td>\n",
       "      <td>Y</td>\n",
       "      <td>tGravityAcc-max()-Y</td>\n",
       "    </tr>\n",
       "    <tr>\n",
       "      <th>4</th>\n",
       "      <td>tGravityAcc-energy()-X</td>\n",
       "      <td>0.063722</td>\n",
       "      <td>tGravityAcc</td>\n",
       "      <td>energy()</td>\n",
       "      <td>X</td>\n",
       "      <td>tGravityAcc-energy()-X</td>\n",
       "    </tr>\n",
       "  </tbody>\n",
       "</table>\n",
       "</div>"
      ],
      "text/plain": [
       "                  feature  Importances       sensor       agg         axis  \\\n",
       "0    angle(X,gravityMean)     0.109041        angle         X  gravityMean   \n",
       "1     tGravityAcc-min()-X     0.085824  tGravityAcc     min()            X   \n",
       "2    tGravityAcc-mean()-Y     0.085458  tGravityAcc    mean()            Y   \n",
       "3     tGravityAcc-max()-Y     0.077796  tGravityAcc     max()            Y   \n",
       "4  tGravityAcc-energy()-X     0.063722  tGravityAcc  energy()            X   \n",
       "\n",
       "             feature_name  \n",
       "0    angle(X,gravityMean)  \n",
       "1     tGravityAcc-min()-X  \n",
       "2    tGravityAcc-mean()-Y  \n",
       "3     tGravityAcc-max()-Y  \n",
       "4  tGravityAcc-energy()-X  "
      ]
     },
     "execution_count": 1587,
     "metadata": {},
     "output_type": "execute_result"
    }
   ],
   "source": [
    "df_feature_imp7.head()\n",
    "df_feature.head()\n",
    "df7 = pd.merge(df_feature_imp7, df_feature, left_on='feature', right_on='feature_name', how='inner')\n",
    "df7.head()"
   ]
  },
  {
   "cell_type": "code",
   "execution_count": 1588,
   "metadata": {
    "colab": {
     "base_uri": "https://localhost:8080/",
     "height": 221
    },
    "executionInfo": {
     "elapsed": 16,
     "status": "ok",
     "timestamp": 1682560402135,
     "user": {
      "displayName": "허신 - Business Intelligence",
      "userId": "11511914061488776232"
     },
     "user_tz": -540
    },
    "id": "M5f7v-6b5Xch",
    "outputId": "c8976717-0499-42ce-e0c8-d32684617430"
   },
   "outputs": [
    {
     "data": {
      "text/html": [
       "<div>\n",
       "<style scoped>\n",
       "    .dataframe tbody tr th:only-of-type {\n",
       "        vertical-align: middle;\n",
       "    }\n",
       "\n",
       "    .dataframe tbody tr th {\n",
       "        vertical-align: top;\n",
       "    }\n",
       "\n",
       "    .dataframe thead th {\n",
       "        text-align: right;\n",
       "    }\n",
       "</style>\n",
       "<table border=\"1\" class=\"dataframe\">\n",
       "  <thead>\n",
       "    <tr style=\"text-align: right;\">\n",
       "      <th></th>\n",
       "      <th>feature</th>\n",
       "      <th>Importances</th>\n",
       "      <th>sensor</th>\n",
       "      <th>agg</th>\n",
       "      <th>axis</th>\n",
       "    </tr>\n",
       "  </thead>\n",
       "  <tbody>\n",
       "    <tr>\n",
       "      <th>0</th>\n",
       "      <td>angle(X,gravityMean)</td>\n",
       "      <td>0.109041</td>\n",
       "      <td>angle</td>\n",
       "      <td>X</td>\n",
       "      <td>gravityMean</td>\n",
       "    </tr>\n",
       "    <tr>\n",
       "      <th>1</th>\n",
       "      <td>tGravityAcc-min()-X</td>\n",
       "      <td>0.085824</td>\n",
       "      <td>tGravityAcc</td>\n",
       "      <td>min()</td>\n",
       "      <td>X</td>\n",
       "    </tr>\n",
       "    <tr>\n",
       "      <th>2</th>\n",
       "      <td>tGravityAcc-mean()-Y</td>\n",
       "      <td>0.085458</td>\n",
       "      <td>tGravityAcc</td>\n",
       "      <td>mean()</td>\n",
       "      <td>Y</td>\n",
       "    </tr>\n",
       "    <tr>\n",
       "      <th>3</th>\n",
       "      <td>tGravityAcc-max()-Y</td>\n",
       "      <td>0.077796</td>\n",
       "      <td>tGravityAcc</td>\n",
       "      <td>max()</td>\n",
       "      <td>Y</td>\n",
       "    </tr>\n",
       "    <tr>\n",
       "      <th>4</th>\n",
       "      <td>tGravityAcc-energy()-X</td>\n",
       "      <td>0.063722</td>\n",
       "      <td>tGravityAcc</td>\n",
       "      <td>energy()</td>\n",
       "      <td>X</td>\n",
       "    </tr>\n",
       "  </tbody>\n",
       "</table>\n",
       "</div>"
      ],
      "text/plain": [
       "                  feature  Importances       sensor       agg         axis\n",
       "0    angle(X,gravityMean)     0.109041        angle         X  gravityMean\n",
       "1     tGravityAcc-min()-X     0.085824  tGravityAcc     min()            X\n",
       "2    tGravityAcc-mean()-Y     0.085458  tGravityAcc    mean()            Y\n",
       "3     tGravityAcc-max()-Y     0.077796  tGravityAcc     max()            Y\n",
       "4  tGravityAcc-energy()-X     0.063722  tGravityAcc  energy()            X"
      ]
     },
     "execution_count": 1588,
     "metadata": {},
     "output_type": "execute_result"
    }
   ],
   "source": [
    "df7.drop(['feature_name'], axis=1, inplace=True)\n",
    "df7.head()"
   ]
  },
  {
   "cell_type": "code",
   "execution_count": null,
   "metadata": {},
   "outputs": [],
   "source": []
  },
  {
   "cell_type": "markdown",
   "metadata": {
    "id": "CheGvqN_5Xch"
   },
   "source": [
    "* sensor 별 중요도"
   ]
  },
  {
   "cell_type": "code",
   "execution_count": 1589,
   "metadata": {
    "colab": {
     "base_uri": "https://localhost:8080/",
     "height": 666
    },
    "executionInfo": {
     "elapsed": 16,
     "status": "ok",
     "timestamp": 1682560402136,
     "user": {
      "displayName": "허신 - Business Intelligence",
      "userId": "11511914061488776232"
     },
     "user_tz": -540
    },
    "id": "UdPw-WWV5Xch",
    "outputId": "09242dd3-42ec-4a0c-d77f-ee0d67741db2"
   },
   "outputs": [
    {
     "data": {
      "text/html": [
       "<div>\n",
       "<style scoped>\n",
       "    .dataframe tbody tr th:only-of-type {\n",
       "        vertical-align: middle;\n",
       "    }\n",
       "\n",
       "    .dataframe tbody tr th {\n",
       "        vertical-align: top;\n",
       "    }\n",
       "\n",
       "    .dataframe thead th {\n",
       "        text-align: right;\n",
       "    }\n",
       "</style>\n",
       "<table border=\"1\" class=\"dataframe\">\n",
       "  <thead>\n",
       "    <tr style=\"text-align: right;\">\n",
       "      <th></th>\n",
       "      <th>Importances</th>\n",
       "    </tr>\n",
       "    <tr>\n",
       "      <th>sensor</th>\n",
       "      <th></th>\n",
       "    </tr>\n",
       "  </thead>\n",
       "  <tbody>\n",
       "    <tr>\n",
       "      <th>tGravityAcc</th>\n",
       "      <td>0.637391</td>\n",
       "    </tr>\n",
       "    <tr>\n",
       "      <th>angle</th>\n",
       "      <td>0.163506</td>\n",
       "    </tr>\n",
       "    <tr>\n",
       "      <th>fBodyAcc</th>\n",
       "      <td>0.031038</td>\n",
       "    </tr>\n",
       "    <tr>\n",
       "      <th>fBodyGyro</th>\n",
       "      <td>0.028573</td>\n",
       "    </tr>\n",
       "    <tr>\n",
       "      <th>tBodyAcc</th>\n",
       "      <td>0.028044</td>\n",
       "    </tr>\n",
       "    <tr>\n",
       "      <th>tBodyGyroJerk</th>\n",
       "      <td>0.022317</td>\n",
       "    </tr>\n",
       "    <tr>\n",
       "      <th>tBodyAccJerk</th>\n",
       "      <td>0.022242</td>\n",
       "    </tr>\n",
       "    <tr>\n",
       "      <th>tBodyGyro</th>\n",
       "      <td>0.020865</td>\n",
       "    </tr>\n",
       "    <tr>\n",
       "      <th>fBodyAccJerk</th>\n",
       "      <td>0.019653</td>\n",
       "    </tr>\n",
       "    <tr>\n",
       "      <th>tBodyAccJerkMag</th>\n",
       "      <td>0.006293</td>\n",
       "    </tr>\n",
       "  </tbody>\n",
       "</table>\n",
       "</div>"
      ],
      "text/plain": [
       "                 Importances\n",
       "sensor                      \n",
       "tGravityAcc         0.637391\n",
       "angle               0.163506\n",
       "fBodyAcc            0.031038\n",
       "fBodyGyro           0.028573\n",
       "tBodyAcc            0.028044\n",
       "tBodyGyroJerk       0.022317\n",
       "tBodyAccJerk        0.022242\n",
       "tBodyGyro           0.020865\n",
       "fBodyAccJerk        0.019653\n",
       "tBodyAccJerkMag     0.006293"
      ]
     },
     "execution_count": 1589,
     "metadata": {},
     "output_type": "execute_result"
    }
   ],
   "source": [
    "# sensor 별 중요도 합계\n",
    "sorted_df = df7.groupby('sensor')[['Importances']].sum().sort_values(by='Importances', ascending=False)\n",
    "\n",
    "# 상위 변수 그룹별 비교 분석\n",
    "sorted_df[:10]"
   ]
  },
  {
   "cell_type": "markdown",
   "metadata": {
    "id": "Ufk-Da7q5Xci"
   },
   "source": [
    "* sensor + agg 별 중요도"
   ]
  },
  {
   "cell_type": "code",
   "execution_count": 1590,
   "metadata": {
    "colab": {
     "base_uri": "https://localhost:8080/",
     "height": 649
    },
    "executionInfo": {
     "elapsed": 15,
     "status": "ok",
     "timestamp": 1682560402136,
     "user": {
      "displayName": "허신 - Business Intelligence",
      "userId": "11511914061488776232"
     },
     "user_tz": -540
    },
    "id": "omPOXoUD5Xci",
    "outputId": "3b28cf61-67d0-4fec-afaf-691cf86f4aa9"
   },
   "outputs": [
    {
     "data": {
      "text/html": [
       "<div>\n",
       "<style scoped>\n",
       "    .dataframe tbody tr th:only-of-type {\n",
       "        vertical-align: middle;\n",
       "    }\n",
       "\n",
       "    .dataframe tbody tr th {\n",
       "        vertical-align: top;\n",
       "    }\n",
       "\n",
       "    .dataframe thead th {\n",
       "        text-align: right;\n",
       "    }\n",
       "</style>\n",
       "<table border=\"1\" class=\"dataframe\">\n",
       "  <thead>\n",
       "    <tr style=\"text-align: right;\">\n",
       "      <th></th>\n",
       "      <th></th>\n",
       "      <th>Importances</th>\n",
       "    </tr>\n",
       "    <tr>\n",
       "      <th>sensor</th>\n",
       "      <th>agg</th>\n",
       "      <th></th>\n",
       "    </tr>\n",
       "  </thead>\n",
       "  <tbody>\n",
       "    <tr>\n",
       "      <th rowspan=\"4\" valign=\"top\">tGravityAcc</th>\n",
       "      <th>max()</th>\n",
       "      <td>0.163034</td>\n",
       "    </tr>\n",
       "    <tr>\n",
       "      <th>min()</th>\n",
       "      <td>0.162104</td>\n",
       "    </tr>\n",
       "    <tr>\n",
       "      <th>mean()</th>\n",
       "      <td>0.161622</td>\n",
       "    </tr>\n",
       "    <tr>\n",
       "      <th>energy()</th>\n",
       "      <td>0.119243</td>\n",
       "    </tr>\n",
       "    <tr>\n",
       "      <th rowspan=\"2\" valign=\"top\">angle</th>\n",
       "      <th>X</th>\n",
       "      <td>0.109041</td>\n",
       "    </tr>\n",
       "    <tr>\n",
       "      <th>Z</th>\n",
       "      <td>0.039145</td>\n",
       "    </tr>\n",
       "    <tr>\n",
       "      <th>tBodyAcc</th>\n",
       "      <th>correlation()</th>\n",
       "      <td>0.015789</td>\n",
       "    </tr>\n",
       "    <tr>\n",
       "      <th>angle</th>\n",
       "      <th>Y</th>\n",
       "      <td>0.015033</td>\n",
       "    </tr>\n",
       "    <tr>\n",
       "      <th rowspan=\"2\" valign=\"top\">tGravityAcc</th>\n",
       "      <th>correlation()</th>\n",
       "      <td>0.007389</td>\n",
       "    </tr>\n",
       "    <tr>\n",
       "      <th>sma()</th>\n",
       "      <td>0.006563</td>\n",
       "    </tr>\n",
       "  </tbody>\n",
       "</table>\n",
       "</div>"
      ],
      "text/plain": [
       "                           Importances\n",
       "sensor      agg                       \n",
       "tGravityAcc max()             0.163034\n",
       "            min()             0.162104\n",
       "            mean()            0.161622\n",
       "            energy()          0.119243\n",
       "angle       X                 0.109041\n",
       "            Z                 0.039145\n",
       "tBodyAcc    correlation()     0.015789\n",
       "angle       Y                 0.015033\n",
       "tGravityAcc correlation()     0.007389\n",
       "            sma()             0.006563"
      ]
     },
     "execution_count": 1590,
     "metadata": {},
     "output_type": "execute_result"
    }
   ],
   "source": [
    "# sensor+agge별 중요도 합계\n",
    "sorted_df = df7.groupby(['sensor','agg'])[['Importances']].sum().sort_values(by='Importances', ascending=False)\n",
    "sorted_df[:10]"
   ]
  },
  {
   "cell_type": "code",
   "execution_count": null,
   "metadata": {},
   "outputs": [],
   "source": []
  },
  {
   "cell_type": "code",
   "execution_count": null,
   "metadata": {
    "colab": {
     "base_uri": "https://localhost:8080/",
     "height": 666
    },
    "executionInfo": {
     "elapsed": 15,
     "status": "ok",
     "timestamp": 1682560402136,
     "user": {
      "displayName": "허신 - Business Intelligence",
      "userId": "11511914061488776232"
     },
     "user_tz": -540
    },
    "id": "rjvADX1I5Xci",
    "outputId": "d0554691-b7cf-4861-b016-1e96f1e8c312"
   },
   "outputs": [],
   "source": []
  },
  {
   "cell_type": "markdown",
   "metadata": {
    "id": "qYbmMZar6VKS"
   },
   "source": [
    "### (5) 개별 동작 분석 : is_walking\n"
   ]
  },
  {
   "cell_type": "markdown",
   "metadata": {
    "id": "8M-2sd7_6VKS"
   },
   "source": [
    "* **세부 요구사항**\n",
    "    - Target인 Activity를 is_walking 변수로 변경하시오.\n",
    "        * 값 1 : WALKING\n",
    "        * 값 0 : 나머지\n",
    "    - is_walking 을 예측하기 위한 기본 모델을 생성하시오.\n",
    "        * x, is_walking 을 이용하여 train과 validation으로 데이터 분할\n",
    "        * 기본 모델링\n",
    "    - is_walking 을 구분하는데 중요한 변수 상위 5를 분석하시오.\n",
    "    - is_walking 을 구분하는데 중요한 변수 그룹을 분석하시오.\n",
    "        * sensor별\n",
    "        * sensor+agg 별\n"
   ]
  },
  {
   "cell_type": "markdown",
   "metadata": {
    "id": "EvtjeVjB6VKT"
   },
   "source": [
    "#### 1) is_walking 추가"
   ]
  },
  {
   "cell_type": "code",
   "execution_count": 1591,
   "metadata": {},
   "outputs": [
    {
     "data": {
      "text/plain": [
       "LAYING                1115\n",
       "STANDING              1087\n",
       "SITTING               1032\n",
       "WALKING                998\n",
       "WALKING_UPSTAIRS       858\n",
       "WALKING_DOWNSTAIRS     791\n",
       "Name: Activity, dtype: int64"
      ]
     },
     "execution_count": 1591,
     "metadata": {},
     "output_type": "execute_result"
    }
   ],
   "source": [
    "df_train['Activity'].value_counts()"
   ]
  },
  {
   "cell_type": "code",
   "execution_count": 1592,
   "metadata": {},
   "outputs": [
    {
     "data": {
      "text/plain": [
       "0    4883\n",
       "1     998\n",
       "Name: is_walking, dtype: int64"
      ]
     },
     "execution_count": 1592,
     "metadata": {},
     "output_type": "execute_result"
    }
   ],
   "source": [
    "df_train['is_walking'] = df_train['Activity'].replace({'STANDING': 0, 'SITTING': 0, 'LAYING': 0, 'WALKING': 1, 'WALKING_UPSTAIRS': 0, 'WALKING_DOWNSTAIRS': 0})\n",
    "df_train['is_walking'].value_counts()"
   ]
  },
  {
   "cell_type": "code",
   "execution_count": 1593,
   "metadata": {},
   "outputs": [
    {
     "data": {
      "text/html": [
       "<div>\n",
       "<style scoped>\n",
       "    .dataframe tbody tr th:only-of-type {\n",
       "        vertical-align: middle;\n",
       "    }\n",
       "\n",
       "    .dataframe tbody tr th {\n",
       "        vertical-align: top;\n",
       "    }\n",
       "\n",
       "    .dataframe thead th {\n",
       "        text-align: right;\n",
       "    }\n",
       "</style>\n",
       "<table border=\"1\" class=\"dataframe\">\n",
       "  <thead>\n",
       "    <tr style=\"text-align: right;\">\n",
       "      <th></th>\n",
       "      <th>tBodyAcc-mean()-X</th>\n",
       "      <th>tBodyAcc-mean()-Y</th>\n",
       "      <th>tBodyAcc-mean()-Z</th>\n",
       "      <th>tBodyAcc-std()-X</th>\n",
       "      <th>tBodyAcc-std()-Y</th>\n",
       "      <th>tBodyAcc-std()-Z</th>\n",
       "      <th>tBodyAcc-mad()-X</th>\n",
       "      <th>tBodyAcc-mad()-Y</th>\n",
       "      <th>tBodyAcc-mad()-Z</th>\n",
       "      <th>tBodyAcc-max()-X</th>\n",
       "      <th>...</th>\n",
       "      <th>angle(tBodyGyroJerkMean,gravityMean)</th>\n",
       "      <th>angle(X,gravityMean)</th>\n",
       "      <th>angle(Y,gravityMean)</th>\n",
       "      <th>angle(Z,gravityMean)</th>\n",
       "      <th>Activity</th>\n",
       "      <th>is_dynamic</th>\n",
       "      <th>is_standing</th>\n",
       "      <th>is_sitting</th>\n",
       "      <th>is_laying</th>\n",
       "      <th>is_walking</th>\n",
       "    </tr>\n",
       "  </thead>\n",
       "  <tbody>\n",
       "    <tr>\n",
       "      <th>0</th>\n",
       "      <td>0.288508</td>\n",
       "      <td>-0.009196</td>\n",
       "      <td>-0.103362</td>\n",
       "      <td>-0.988986</td>\n",
       "      <td>-0.962797</td>\n",
       "      <td>-0.967422</td>\n",
       "      <td>-0.989000</td>\n",
       "      <td>-0.962596</td>\n",
       "      <td>-0.965650</td>\n",
       "      <td>-0.929747</td>\n",
       "      <td>...</td>\n",
       "      <td>0.072790</td>\n",
       "      <td>-0.601120</td>\n",
       "      <td>0.331298</td>\n",
       "      <td>0.165163</td>\n",
       "      <td>STANDING</td>\n",
       "      <td>0</td>\n",
       "      <td>1</td>\n",
       "      <td>0</td>\n",
       "      <td>0</td>\n",
       "      <td>0</td>\n",
       "    </tr>\n",
       "    <tr>\n",
       "      <th>1</th>\n",
       "      <td>0.265757</td>\n",
       "      <td>-0.016576</td>\n",
       "      <td>-0.098163</td>\n",
       "      <td>-0.989551</td>\n",
       "      <td>-0.994636</td>\n",
       "      <td>-0.987435</td>\n",
       "      <td>-0.990189</td>\n",
       "      <td>-0.993870</td>\n",
       "      <td>-0.987558</td>\n",
       "      <td>-0.937337</td>\n",
       "      <td>...</td>\n",
       "      <td>0.771524</td>\n",
       "      <td>0.345205</td>\n",
       "      <td>-0.769186</td>\n",
       "      <td>-0.147944</td>\n",
       "      <td>LAYING</td>\n",
       "      <td>0</td>\n",
       "      <td>0</td>\n",
       "      <td>0</td>\n",
       "      <td>1</td>\n",
       "      <td>0</td>\n",
       "    </tr>\n",
       "    <tr>\n",
       "      <th>2</th>\n",
       "      <td>0.278709</td>\n",
       "      <td>-0.014511</td>\n",
       "      <td>-0.108717</td>\n",
       "      <td>-0.997720</td>\n",
       "      <td>-0.981088</td>\n",
       "      <td>-0.994008</td>\n",
       "      <td>-0.997934</td>\n",
       "      <td>-0.982187</td>\n",
       "      <td>-0.995017</td>\n",
       "      <td>-0.942584</td>\n",
       "      <td>...</td>\n",
       "      <td>0.021528</td>\n",
       "      <td>-0.833564</td>\n",
       "      <td>0.202434</td>\n",
       "      <td>-0.032755</td>\n",
       "      <td>STANDING</td>\n",
       "      <td>0</td>\n",
       "      <td>1</td>\n",
       "      <td>0</td>\n",
       "      <td>0</td>\n",
       "      <td>0</td>\n",
       "    </tr>\n",
       "    <tr>\n",
       "      <th>3</th>\n",
       "      <td>0.289795</td>\n",
       "      <td>-0.035536</td>\n",
       "      <td>-0.150354</td>\n",
       "      <td>-0.231727</td>\n",
       "      <td>-0.006412</td>\n",
       "      <td>-0.338117</td>\n",
       "      <td>-0.273557</td>\n",
       "      <td>0.014245</td>\n",
       "      <td>-0.347916</td>\n",
       "      <td>0.008288</td>\n",
       "      <td>...</td>\n",
       "      <td>-0.072944</td>\n",
       "      <td>-0.695819</td>\n",
       "      <td>0.287154</td>\n",
       "      <td>0.111388</td>\n",
       "      <td>WALKING</td>\n",
       "      <td>1</td>\n",
       "      <td>0</td>\n",
       "      <td>0</td>\n",
       "      <td>0</td>\n",
       "      <td>1</td>\n",
       "    </tr>\n",
       "    <tr>\n",
       "      <th>4</th>\n",
       "      <td>0.394807</td>\n",
       "      <td>0.034098</td>\n",
       "      <td>0.091229</td>\n",
       "      <td>0.088489</td>\n",
       "      <td>-0.106636</td>\n",
       "      <td>-0.388502</td>\n",
       "      <td>-0.010469</td>\n",
       "      <td>-0.109680</td>\n",
       "      <td>-0.346372</td>\n",
       "      <td>0.584131</td>\n",
       "      <td>...</td>\n",
       "      <td>-0.887846</td>\n",
       "      <td>-0.705029</td>\n",
       "      <td>0.264952</td>\n",
       "      <td>0.137758</td>\n",
       "      <td>WALKING_DOWNSTAIRS</td>\n",
       "      <td>1</td>\n",
       "      <td>0</td>\n",
       "      <td>0</td>\n",
       "      <td>0</td>\n",
       "      <td>0</td>\n",
       "    </tr>\n",
       "  </tbody>\n",
       "</table>\n",
       "<p>5 rows × 567 columns</p>\n",
       "</div>"
      ],
      "text/plain": [
       "   tBodyAcc-mean()-X  tBodyAcc-mean()-Y  tBodyAcc-mean()-Z  tBodyAcc-std()-X  \\\n",
       "0           0.288508          -0.009196          -0.103362         -0.988986   \n",
       "1           0.265757          -0.016576          -0.098163         -0.989551   \n",
       "2           0.278709          -0.014511          -0.108717         -0.997720   \n",
       "3           0.289795          -0.035536          -0.150354         -0.231727   \n",
       "4           0.394807           0.034098           0.091229          0.088489   \n",
       "\n",
       "   tBodyAcc-std()-Y  tBodyAcc-std()-Z  tBodyAcc-mad()-X  tBodyAcc-mad()-Y  \\\n",
       "0         -0.962797         -0.967422         -0.989000         -0.962596   \n",
       "1         -0.994636         -0.987435         -0.990189         -0.993870   \n",
       "2         -0.981088         -0.994008         -0.997934         -0.982187   \n",
       "3         -0.006412         -0.338117         -0.273557          0.014245   \n",
       "4         -0.106636         -0.388502         -0.010469         -0.109680   \n",
       "\n",
       "   tBodyAcc-mad()-Z  tBodyAcc-max()-X  ...  \\\n",
       "0         -0.965650         -0.929747  ...   \n",
       "1         -0.987558         -0.937337  ...   \n",
       "2         -0.995017         -0.942584  ...   \n",
       "3         -0.347916          0.008288  ...   \n",
       "4         -0.346372          0.584131  ...   \n",
       "\n",
       "   angle(tBodyGyroJerkMean,gravityMean)  angle(X,gravityMean)  \\\n",
       "0                              0.072790             -0.601120   \n",
       "1                              0.771524              0.345205   \n",
       "2                              0.021528             -0.833564   \n",
       "3                             -0.072944             -0.695819   \n",
       "4                             -0.887846             -0.705029   \n",
       "\n",
       "   angle(Y,gravityMean)  angle(Z,gravityMean)            Activity  is_dynamic  \\\n",
       "0              0.331298              0.165163            STANDING           0   \n",
       "1             -0.769186             -0.147944              LAYING           0   \n",
       "2              0.202434             -0.032755            STANDING           0   \n",
       "3              0.287154              0.111388             WALKING           1   \n",
       "4              0.264952              0.137758  WALKING_DOWNSTAIRS           1   \n",
       "\n",
       "   is_standing  is_sitting  is_laying  is_walking  \n",
       "0            1           0          0           0  \n",
       "1            0           0          1           0  \n",
       "2            1           0          0           0  \n",
       "3            0           0          0           1  \n",
       "4            0           0          0           0  \n",
       "\n",
       "[5 rows x 567 columns]"
      ]
     },
     "execution_count": 1593,
     "metadata": {},
     "output_type": "execute_result"
    }
   ],
   "source": [
    "df_train.head()"
   ]
  },
  {
   "cell_type": "code",
   "execution_count": null,
   "metadata": {},
   "outputs": [],
   "source": []
  },
  {
   "cell_type": "code",
   "execution_count": null,
   "metadata": {
    "colab": {
     "base_uri": "https://localhost:8080/"
    },
    "executionInfo": {
     "elapsed": 13,
     "status": "ok",
     "timestamp": 1682560402136,
     "user": {
      "displayName": "허신 - Business Intelligence",
      "userId": "11511914061488776232"
     },
     "user_tz": -540
    },
    "id": "ZQtkhole6VKT",
    "outputId": "bd062bbb-d518-450d-9c59-f5c421f64bed"
   },
   "outputs": [],
   "source": []
  },
  {
   "cell_type": "markdown",
   "metadata": {
    "id": "FhB7RaMl6VKT"
   },
   "source": [
    "#### 2) 기본모델 생성"
   ]
  },
  {
   "cell_type": "code",
   "execution_count": 1594,
   "metadata": {
    "executionInfo": {
     "elapsed": 13,
     "status": "ok",
     "timestamp": 1682560402136,
     "user": {
      "displayName": "허신 - Business Intelligence",
      "userId": "11511914061488776232"
     },
     "user_tz": -540
    },
    "id": "cfvK6PcW6VKT"
   },
   "outputs": [
    {
     "data": {
      "text/html": [
       "<style>#sk-container-id-64 {color: black;background-color: white;}#sk-container-id-64 pre{padding: 0;}#sk-container-id-64 div.sk-toggleable {background-color: white;}#sk-container-id-64 label.sk-toggleable__label {cursor: pointer;display: block;width: 100%;margin-bottom: 0;padding: 0.3em;box-sizing: border-box;text-align: center;}#sk-container-id-64 label.sk-toggleable__label-arrow:before {content: \"▸\";float: left;margin-right: 0.25em;color: #696969;}#sk-container-id-64 label.sk-toggleable__label-arrow:hover:before {color: black;}#sk-container-id-64 div.sk-estimator:hover label.sk-toggleable__label-arrow:before {color: black;}#sk-container-id-64 div.sk-toggleable__content {max-height: 0;max-width: 0;overflow: hidden;text-align: left;background-color: #f0f8ff;}#sk-container-id-64 div.sk-toggleable__content pre {margin: 0.2em;color: black;border-radius: 0.25em;background-color: #f0f8ff;}#sk-container-id-64 input.sk-toggleable__control:checked~div.sk-toggleable__content {max-height: 200px;max-width: 100%;overflow: auto;}#sk-container-id-64 input.sk-toggleable__control:checked~label.sk-toggleable__label-arrow:before {content: \"▾\";}#sk-container-id-64 div.sk-estimator input.sk-toggleable__control:checked~label.sk-toggleable__label {background-color: #d4ebff;}#sk-container-id-64 div.sk-label input.sk-toggleable__control:checked~label.sk-toggleable__label {background-color: #d4ebff;}#sk-container-id-64 input.sk-hidden--visually {border: 0;clip: rect(1px 1px 1px 1px);clip: rect(1px, 1px, 1px, 1px);height: 1px;margin: -1px;overflow: hidden;padding: 0;position: absolute;width: 1px;}#sk-container-id-64 div.sk-estimator {font-family: monospace;background-color: #f0f8ff;border: 1px dotted black;border-radius: 0.25em;box-sizing: border-box;margin-bottom: 0.5em;}#sk-container-id-64 div.sk-estimator:hover {background-color: #d4ebff;}#sk-container-id-64 div.sk-parallel-item::after {content: \"\";width: 100%;border-bottom: 1px solid gray;flex-grow: 1;}#sk-container-id-64 div.sk-label:hover label.sk-toggleable__label {background-color: #d4ebff;}#sk-container-id-64 div.sk-serial::before {content: \"\";position: absolute;border-left: 1px solid gray;box-sizing: border-box;top: 0;bottom: 0;left: 50%;z-index: 0;}#sk-container-id-64 div.sk-serial {display: flex;flex-direction: column;align-items: center;background-color: white;padding-right: 0.2em;padding-left: 0.2em;position: relative;}#sk-container-id-64 div.sk-item {position: relative;z-index: 1;}#sk-container-id-64 div.sk-parallel {display: flex;align-items: stretch;justify-content: center;background-color: white;position: relative;}#sk-container-id-64 div.sk-item::before, #sk-container-id-64 div.sk-parallel-item::before {content: \"\";position: absolute;border-left: 1px solid gray;box-sizing: border-box;top: 0;bottom: 0;left: 50%;z-index: -1;}#sk-container-id-64 div.sk-parallel-item {display: flex;flex-direction: column;z-index: 1;position: relative;background-color: white;}#sk-container-id-64 div.sk-parallel-item:first-child::after {align-self: flex-end;width: 50%;}#sk-container-id-64 div.sk-parallel-item:last-child::after {align-self: flex-start;width: 50%;}#sk-container-id-64 div.sk-parallel-item:only-child::after {width: 0;}#sk-container-id-64 div.sk-dashed-wrapped {border: 1px dashed gray;margin: 0 0.4em 0.5em 0.4em;box-sizing: border-box;padding-bottom: 0.4em;background-color: white;}#sk-container-id-64 div.sk-label label {font-family: monospace;font-weight: bold;display: inline-block;line-height: 1.2em;}#sk-container-id-64 div.sk-label-container {text-align: center;}#sk-container-id-64 div.sk-container {/* jupyter's `normalize.less` sets `[hidden] { display: none; }` but bootstrap.min.css set `[hidden] { display: none !important; }` so we also need the `!important` here to be able to override the default hidden behavior on the sphinx rendered scikit-learn.org. See: https://github.com/scikit-learn/scikit-learn/issues/21755 */display: inline-block !important;position: relative;}#sk-container-id-64 div.sk-text-repr-fallback {display: none;}</style><div id=\"sk-container-id-64\" class=\"sk-top-container\"><div class=\"sk-text-repr-fallback\"><pre>RandomForestClassifier()</pre><b>In a Jupyter environment, please rerun this cell to show the HTML representation or trust the notebook. <br />On GitHub, the HTML representation is unable to render, please try loading this page with nbviewer.org.</b></div><div class=\"sk-container\" hidden><div class=\"sk-item\"><div class=\"sk-estimator sk-toggleable\"><input class=\"sk-toggleable__control sk-hidden--visually\" id=\"sk-estimator-id-64\" type=\"checkbox\" checked><label for=\"sk-estimator-id-64\" class=\"sk-toggleable__label sk-toggleable__label-arrow\">RandomForestClassifier</label><div class=\"sk-toggleable__content\"><pre>RandomForestClassifier()</pre></div></div></div></div></div>"
      ],
      "text/plain": [
       "RandomForestClassifier()"
      ]
     },
     "execution_count": 1594,
     "metadata": {},
     "output_type": "execute_result"
    }
   ],
   "source": [
    "y = df_train['is_walking']\n",
    "\n",
    "from sklearn.model_selection import train_test_split\n",
    "x_train, x_val, y_train, y_val = train_test_split(x, y, test_size=0.3, shuffle=True, random_state=1)\n",
    "\n",
    "\n",
    "from sklearn.ensemble import RandomForestClassifier\n",
    "model8 = RandomForestClassifier()\n",
    "model8.fit(x_train, y_train)"
   ]
  },
  {
   "cell_type": "code",
   "execution_count": null,
   "metadata": {
    "colab": {
     "base_uri": "https://localhost:8080/"
    },
    "executionInfo": {
     "elapsed": 2181,
     "status": "ok",
     "timestamp": 1682560404304,
     "user": {
      "displayName": "허신 - Business Intelligence",
      "userId": "11511914061488776232"
     },
     "user_tz": -540
    },
    "id": "egFCZjwa6VKT",
    "outputId": "a686e7f5-e5b3-408d-c7f8-fcbfc62ed88a"
   },
   "outputs": [],
   "source": []
  },
  {
   "cell_type": "markdown",
   "metadata": {
    "id": "Z8whSLFz6VKT"
   },
   "source": [
    "#### 3) 변수중요도 상위 5개 분석"
   ]
  },
  {
   "cell_type": "code",
   "execution_count": 1595,
   "metadata": {
    "colab": {
     "base_uri": "https://localhost:8080/",
     "height": 1000
    },
    "executionInfo": {
     "elapsed": 12707,
     "status": "ok",
     "timestamp": 1682560417007,
     "user": {
      "displayName": "허신 - Business Intelligence",
      "userId": "11511914061488776232"
     },
     "user_tz": -540
    },
    "id": "a9LjRM5F6VKT",
    "outputId": "756e1df2-2a9e-407e-80a1-483ca2809e92"
   },
   "outputs": [
    {
     "data": {
      "text/html": [
       "<div>\n",
       "<style scoped>\n",
       "    .dataframe tbody tr th:only-of-type {\n",
       "        vertical-align: middle;\n",
       "    }\n",
       "\n",
       "    .dataframe tbody tr th {\n",
       "        vertical-align: top;\n",
       "    }\n",
       "\n",
       "    .dataframe thead th {\n",
       "        text-align: right;\n",
       "    }\n",
       "</style>\n",
       "<table border=\"1\" class=\"dataframe\">\n",
       "  <thead>\n",
       "    <tr style=\"text-align: right;\">\n",
       "      <th></th>\n",
       "      <th>feature</th>\n",
       "      <th>Importances</th>\n",
       "    </tr>\n",
       "  </thead>\n",
       "  <tbody>\n",
       "    <tr>\n",
       "      <th>37</th>\n",
       "      <td>tBodyAcc-correlation()-X,Y</td>\n",
       "      <td>0.033209</td>\n",
       "    </tr>\n",
       "    <tr>\n",
       "      <th>503</th>\n",
       "      <td>fBodyAccMag-std()</td>\n",
       "      <td>0.023786</td>\n",
       "    </tr>\n",
       "    <tr>\n",
       "      <th>65</th>\n",
       "      <td>tGravityAcc-arCoeff()-X,1</td>\n",
       "      <td>0.023390</td>\n",
       "    </tr>\n",
       "    <tr>\n",
       "      <th>504</th>\n",
       "      <td>fBodyAccMag-mad()</td>\n",
       "      <td>0.020669</td>\n",
       "    </tr>\n",
       "    <tr>\n",
       "      <th>67</th>\n",
       "      <td>tGravityAcc-arCoeff()-X,3</td>\n",
       "      <td>0.018754</td>\n",
       "    </tr>\n",
       "  </tbody>\n",
       "</table>\n",
       "</div>"
      ],
      "text/plain": [
       "                        feature  Importances\n",
       "37   tBodyAcc-correlation()-X,Y     0.033209\n",
       "503           fBodyAccMag-std()     0.023786\n",
       "65    tGravityAcc-arCoeff()-X,1     0.023390\n",
       "504           fBodyAccMag-mad()     0.020669\n",
       "67    tGravityAcc-arCoeff()-X,3     0.018754"
      ]
     },
     "execution_count": 1595,
     "metadata": {},
     "output_type": "execute_result"
    }
   ],
   "source": [
    "df8 = pd.DataFrame()\n",
    "df8['feature'] = list(x)\n",
    "df8['Importances'] = model8.feature_importances_\n",
    "df8.sort_values(by = 'Importances', ascending=False, inplace=True)\n",
    "df8[:5]\n",
    "\n"
   ]
  },
  {
   "cell_type": "markdown",
   "metadata": {
    "id": "2xAUhGYE6VKU"
   },
   "source": [
    "* 상위 변수 선정"
   ]
  },
  {
   "cell_type": "code",
   "execution_count": 1596,
   "metadata": {
    "colab": {
     "base_uri": "https://localhost:8080/",
     "height": 221
    },
    "executionInfo": {
     "elapsed": 9,
     "status": "ok",
     "timestamp": 1682560417008,
     "user": {
      "displayName": "허신 - Business Intelligence",
      "userId": "11511914061488776232"
     },
     "user_tz": -540
    },
    "id": "rPhokakP6VKU",
    "outputId": "4445a391-99b0-4437-d964-b54b0e7cfa07"
   },
   "outputs": [
    {
     "data": {
      "text/plain": [
       "['tBodyAcc-correlation()-X,Y',\n",
       " 'fBodyAccMag-std()',\n",
       " 'tGravityAcc-arCoeff()-X,1',\n",
       " 'fBodyAccMag-mad()',\n",
       " 'tGravityAcc-arCoeff()-X,3']"
      ]
     },
     "execution_count": 1596,
     "metadata": {},
     "output_type": "execute_result"
    }
   ],
   "source": [
    "cols=list(df8.iloc[:5,:1]['feature'])\n",
    "cols"
   ]
  },
  {
   "cell_type": "code",
   "execution_count": null,
   "metadata": {},
   "outputs": [],
   "source": []
  },
  {
   "cell_type": "markdown",
   "metadata": {
    "id": "gR43x-Vp6VKU"
   },
   "source": [
    "* 데이터 탐색하기"
   ]
  },
  {
   "cell_type": "code",
   "execution_count": 1597,
   "metadata": {
    "executionInfo": {
     "elapsed": 6,
     "status": "ok",
     "timestamp": 1682560417008,
     "user": {
      "displayName": "허신 - Business Intelligence",
      "userId": "11511914061488776232"
     },
     "user_tz": -540
    },
    "id": "PswvgfUi6VKU"
   },
   "outputs": [
    {
     "data": {
      "text/html": [
       "<div>\n",
       "<style scoped>\n",
       "    .dataframe tbody tr th:only-of-type {\n",
       "        vertical-align: middle;\n",
       "    }\n",
       "\n",
       "    .dataframe tbody tr th {\n",
       "        vertical-align: top;\n",
       "    }\n",
       "\n",
       "    .dataframe thead th {\n",
       "        text-align: right;\n",
       "    }\n",
       "</style>\n",
       "<table border=\"1\" class=\"dataframe\">\n",
       "  <thead>\n",
       "    <tr style=\"text-align: right;\">\n",
       "      <th></th>\n",
       "      <th>feature_name</th>\n",
       "      <th>feature_importance</th>\n",
       "    </tr>\n",
       "  </thead>\n",
       "  <tbody>\n",
       "    <tr>\n",
       "      <th>0</th>\n",
       "      <td>tBodyAcc-correlation()-X,Y</td>\n",
       "      <td>0.033209</td>\n",
       "    </tr>\n",
       "    <tr>\n",
       "      <th>1</th>\n",
       "      <td>fBodyAccMag-std()</td>\n",
       "      <td>0.023786</td>\n",
       "    </tr>\n",
       "    <tr>\n",
       "      <th>2</th>\n",
       "      <td>tGravityAcc-arCoeff()-X,1</td>\n",
       "      <td>0.023390</td>\n",
       "    </tr>\n",
       "    <tr>\n",
       "      <th>3</th>\n",
       "      <td>fBodyAccMag-mad()</td>\n",
       "      <td>0.020669</td>\n",
       "    </tr>\n",
       "    <tr>\n",
       "      <th>4</th>\n",
       "      <td>tGravityAcc-arCoeff()-X,3</td>\n",
       "      <td>0.018754</td>\n",
       "    </tr>\n",
       "  </tbody>\n",
       "</table>\n",
       "</div>"
      ],
      "text/plain": [
       "                 feature_name  feature_importance\n",
       "0  tBodyAcc-correlation()-X,Y            0.033209\n",
       "1           fBodyAccMag-std()            0.023786\n",
       "2   tGravityAcc-arCoeff()-X,1            0.023390\n",
       "3           fBodyAccMag-mad()            0.020669\n",
       "4   tGravityAcc-arCoeff()-X,3            0.018754"
      ]
     },
     "execution_count": 1597,
     "metadata": {},
     "output_type": "execute_result"
    },
    {
     "data": {
      "image/png": "[encoded data removed]",
      "text/plain": [
       "<Figure size 720x360 with 1 Axes>"
      ]
     },
     "metadata": {
      "needs_background": "light"
     },
     "output_type": "display_data"
    }
   ],
   "source": [
    "plot_feature_importance(model8.feature_importances_, x_train.columns, topn=5)"
   ]
  },
  {
   "cell_type": "code",
   "execution_count": null,
   "metadata": {
    "colab": {
     "base_uri": "https://localhost:8080/",
     "height": 718
    },
    "executionInfo": {
     "elapsed": 2680,
     "status": "ok",
     "timestamp": 1682560419683,
     "user": {
      "displayName": "허신 - Business Intelligence",
      "userId": "11511914061488776232"
     },
     "user_tz": -540
    },
    "id": "vpjmYU8k6VKU",
    "outputId": "708fb441-56a9-4bb2-84d2-533ce1e8042c"
   },
   "outputs": [],
   "source": []
  },
  {
   "cell_type": "code",
   "execution_count": 1598,
   "metadata": {
    "colab": {
     "base_uri": "https://localhost:8080/",
     "height": 718
    },
    "executionInfo": {
     "elapsed": 21,
     "status": "ok",
     "timestamp": 1682560419683,
     "user": {
      "displayName": "허신 - Business Intelligence",
      "userId": "11511914061488776232"
     },
     "user_tz": -540
    },
    "id": "IvwL-fJc6VKU",
    "outputId": "2d5a1d4c-fc95-4bd6-bd19-e69b20e69511"
   },
   "outputs": [
    {
     "data": {
      "text/html": [
       "<div>\n",
       "<style scoped>\n",
       "    .dataframe tbody tr th:only-of-type {\n",
       "        vertical-align: middle;\n",
       "    }\n",
       "\n",
       "    .dataframe tbody tr th {\n",
       "        vertical-align: top;\n",
       "    }\n",
       "\n",
       "    .dataframe thead th {\n",
       "        text-align: right;\n",
       "    }\n",
       "</style>\n",
       "<table border=\"1\" class=\"dataframe\">\n",
       "  <thead>\n",
       "    <tr style=\"text-align: right;\">\n",
       "      <th></th>\n",
       "      <th>feature</th>\n",
       "      <th>Importances</th>\n",
       "    </tr>\n",
       "  </thead>\n",
       "  <tbody>\n",
       "    <tr>\n",
       "      <th>0</th>\n",
       "      <td>tBodyAcc-correlation()-X,Y</td>\n",
       "      <td>0.033209</td>\n",
       "    </tr>\n",
       "    <tr>\n",
       "      <th>1</th>\n",
       "      <td>fBodyAccMag-std()</td>\n",
       "      <td>0.023786</td>\n",
       "    </tr>\n",
       "    <tr>\n",
       "      <th>2</th>\n",
       "      <td>tGravityAcc-arCoeff()-X,1</td>\n",
       "      <td>0.023390</td>\n",
       "    </tr>\n",
       "    <tr>\n",
       "      <th>3</th>\n",
       "      <td>fBodyAccMag-mad()</td>\n",
       "      <td>0.020669</td>\n",
       "    </tr>\n",
       "    <tr>\n",
       "      <th>4</th>\n",
       "      <td>tGravityAcc-arCoeff()-X,3</td>\n",
       "      <td>0.018754</td>\n",
       "    </tr>\n",
       "    <tr>\n",
       "      <th>...</th>\n",
       "      <td>...</td>\n",
       "      <td>...</td>\n",
       "    </tr>\n",
       "    <tr>\n",
       "      <th>556</th>\n",
       "      <td>fBodyAcc-bandsEnergy()-57,64.2</td>\n",
       "      <td>0.000016</td>\n",
       "    </tr>\n",
       "    <tr>\n",
       "      <th>557</th>\n",
       "      <td>tBodyGyroJerk-arCoeff()-X,2</td>\n",
       "      <td>0.000008</td>\n",
       "    </tr>\n",
       "    <tr>\n",
       "      <th>558</th>\n",
       "      <td>fBodyAcc-mad()-Y</td>\n",
       "      <td>0.000008</td>\n",
       "    </tr>\n",
       "    <tr>\n",
       "      <th>559</th>\n",
       "      <td>fBodyAccJerk-iqr()-X</td>\n",
       "      <td>0.000005</td>\n",
       "    </tr>\n",
       "    <tr>\n",
       "      <th>560</th>\n",
       "      <td>tGravityAcc-entropy()-Y</td>\n",
       "      <td>0.000000</td>\n",
       "    </tr>\n",
       "  </tbody>\n",
       "</table>\n",
       "<p>561 rows × 2 columns</p>\n",
       "</div>"
      ],
      "text/plain": [
       "                            feature  Importances\n",
       "0        tBodyAcc-correlation()-X,Y     0.033209\n",
       "1                 fBodyAccMag-std()     0.023786\n",
       "2         tGravityAcc-arCoeff()-X,1     0.023390\n",
       "3                 fBodyAccMag-mad()     0.020669\n",
       "4         tGravityAcc-arCoeff()-X,3     0.018754\n",
       "..                              ...          ...\n",
       "556  fBodyAcc-bandsEnergy()-57,64.2     0.000016\n",
       "557     tBodyGyroJerk-arCoeff()-X,2     0.000008\n",
       "558                fBodyAcc-mad()-Y     0.000008\n",
       "559            fBodyAccJerk-iqr()-X     0.000005\n",
       "560         tGravityAcc-entropy()-Y     0.000000\n",
       "\n",
       "[561 rows x 2 columns]"
      ]
     },
     "execution_count": 1598,
     "metadata": {},
     "output_type": "execute_result"
    }
   ],
   "source": [
    "df8.to_csv('df_feature_imp8.csv',index=False)\n",
    "df_feature_imp8=pd.read_csv('df_feature_imp8.csv')\n",
    "df_feature_imp8"
   ]
  },
  {
   "cell_type": "code",
   "execution_count": null,
   "metadata": {
    "colab": {
     "base_uri": "https://localhost:8080/",
     "height": 718
    },
    "executionInfo": {
     "elapsed": 19,
     "status": "ok",
     "timestamp": 1682560419683,
     "user": {
      "displayName": "허신 - Business Intelligence",
      "userId": "11511914061488776232"
     },
     "user_tz": -540
    },
    "id": "UvkVeAqh6VKV",
    "outputId": "94a60049-5df6-44d2-bb7e-0c2cf43ac6bc"
   },
   "outputs": [],
   "source": []
  },
  {
   "cell_type": "code",
   "execution_count": null,
   "metadata": {
    "colab": {
     "base_uri": "https://localhost:8080/",
     "height": 718
    },
    "executionInfo": {
     "elapsed": 19,
     "status": "ok",
     "timestamp": 1682560419684,
     "user": {
      "displayName": "허신 - Business Intelligence",
      "userId": "11511914061488776232"
     },
     "user_tz": -540
    },
    "id": "mSzIGn5b6VKV",
    "outputId": "58b50ef7-bac9-43e9-df63-0dcf7391ea87"
   },
   "outputs": [],
   "source": []
  },
  {
   "cell_type": "code",
   "execution_count": null,
   "metadata": {
    "colab": {
     "base_uri": "https://localhost:8080/",
     "height": 718
    },
    "executionInfo": {
     "elapsed": 18,
     "status": "ok",
     "timestamp": 1682560419684,
     "user": {
      "displayName": "허신 - Business Intelligence",
      "userId": "11511914061488776232"
     },
     "user_tz": -540
    },
    "id": "svV_x7RI6VKV",
    "outputId": "e7346474-002d-4dd1-edc9-9a821f41b2c7"
   },
   "outputs": [],
   "source": []
  },
  {
   "cell_type": "markdown",
   "metadata": {
    "id": "YLb9sVBW6VKW"
   },
   "source": [
    "#### 4) feature 그룹별 분석"
   ]
  },
  {
   "cell_type": "markdown",
   "metadata": {
    "id": "o0qtPQPb6VKW"
   },
   "source": [
    "* 결과 merge"
   ]
  },
  {
   "cell_type": "code",
   "execution_count": 1599,
   "metadata": {
    "colab": {
     "base_uri": "https://localhost:8080/",
     "height": 221
    },
    "executionInfo": {
     "elapsed": 18,
     "status": "ok",
     "timestamp": 1682560419684,
     "user": {
      "displayName": "허신 - Business Intelligence",
      "userId": "11511914061488776232"
     },
     "user_tz": -540
    },
    "id": "LUmkArXj6VKW",
    "outputId": "fc8fb5de-6f4e-473c-a1c9-9bb28000ebee"
   },
   "outputs": [
    {
     "data": {
      "text/html": [
       "<div>\n",
       "<style scoped>\n",
       "    .dataframe tbody tr th:only-of-type {\n",
       "        vertical-align: middle;\n",
       "    }\n",
       "\n",
       "    .dataframe tbody tr th {\n",
       "        vertical-align: top;\n",
       "    }\n",
       "\n",
       "    .dataframe thead th {\n",
       "        text-align: right;\n",
       "    }\n",
       "</style>\n",
       "<table border=\"1\" class=\"dataframe\">\n",
       "  <thead>\n",
       "    <tr style=\"text-align: right;\">\n",
       "      <th></th>\n",
       "      <th>feature</th>\n",
       "      <th>Importances</th>\n",
       "      <th>sensor</th>\n",
       "      <th>agg</th>\n",
       "      <th>axis</th>\n",
       "      <th>feature_name</th>\n",
       "    </tr>\n",
       "  </thead>\n",
       "  <tbody>\n",
       "    <tr>\n",
       "      <th>0</th>\n",
       "      <td>tBodyAcc-correlation()-X,Y</td>\n",
       "      <td>0.033209</td>\n",
       "      <td>tBodyAcc</td>\n",
       "      <td>correlation()</td>\n",
       "      <td>X,Y</td>\n",
       "      <td>tBodyAcc-correlation()-X,Y</td>\n",
       "    </tr>\n",
       "    <tr>\n",
       "      <th>1</th>\n",
       "      <td>fBodyAccMag-std()</td>\n",
       "      <td>0.023786</td>\n",
       "      <td>fBodyAccMag</td>\n",
       "      <td>std()</td>\n",
       "      <td>NaN</td>\n",
       "      <td>fBodyAccMag-std()</td>\n",
       "    </tr>\n",
       "    <tr>\n",
       "      <th>2</th>\n",
       "      <td>tGravityAcc-arCoeff()-X,1</td>\n",
       "      <td>0.023390</td>\n",
       "      <td>tGravityAcc</td>\n",
       "      <td>arCoeff()</td>\n",
       "      <td>X,1</td>\n",
       "      <td>tGravityAcc-arCoeff()-X,1</td>\n",
       "    </tr>\n",
       "    <tr>\n",
       "      <th>3</th>\n",
       "      <td>fBodyAccMag-mad()</td>\n",
       "      <td>0.020669</td>\n",
       "      <td>fBodyAccMag</td>\n",
       "      <td>mad()</td>\n",
       "      <td>NaN</td>\n",
       "      <td>fBodyAccMag-mad()</td>\n",
       "    </tr>\n",
       "    <tr>\n",
       "      <th>4</th>\n",
       "      <td>tGravityAcc-arCoeff()-X,3</td>\n",
       "      <td>0.018754</td>\n",
       "      <td>tGravityAcc</td>\n",
       "      <td>arCoeff()</td>\n",
       "      <td>X,3</td>\n",
       "      <td>tGravityAcc-arCoeff()-X,3</td>\n",
       "    </tr>\n",
       "  </tbody>\n",
       "</table>\n",
       "</div>"
      ],
      "text/plain": [
       "                      feature  Importances       sensor            agg axis  \\\n",
       "0  tBodyAcc-correlation()-X,Y     0.033209     tBodyAcc  correlation()  X,Y   \n",
       "1           fBodyAccMag-std()     0.023786  fBodyAccMag          std()  NaN   \n",
       "2   tGravityAcc-arCoeff()-X,1     0.023390  tGravityAcc      arCoeff()  X,1   \n",
       "3           fBodyAccMag-mad()     0.020669  fBodyAccMag          mad()  NaN   \n",
       "4   tGravityAcc-arCoeff()-X,3     0.018754  tGravityAcc      arCoeff()  X,3   \n",
       "\n",
       "                 feature_name  \n",
       "0  tBodyAcc-correlation()-X,Y  \n",
       "1           fBodyAccMag-std()  \n",
       "2   tGravityAcc-arCoeff()-X,1  \n",
       "3           fBodyAccMag-mad()  \n",
       "4   tGravityAcc-arCoeff()-X,3  "
      ]
     },
     "execution_count": 1599,
     "metadata": {},
     "output_type": "execute_result"
    }
   ],
   "source": [
    "df_feature_imp8.head()\n",
    "df_feature.head()\n",
    "df8 = pd.merge(df_feature_imp8, df_feature, left_on='feature', right_on='feature_name', how='inner')\n",
    "df8.head()"
   ]
  },
  {
   "cell_type": "code",
   "execution_count": 1600,
   "metadata": {},
   "outputs": [
    {
     "data": {
      "text/html": [
       "<div>\n",
       "<style scoped>\n",
       "    .dataframe tbody tr th:only-of-type {\n",
       "        vertical-align: middle;\n",
       "    }\n",
       "\n",
       "    .dataframe tbody tr th {\n",
       "        vertical-align: top;\n",
       "    }\n",
       "\n",
       "    .dataframe thead th {\n",
       "        text-align: right;\n",
       "    }\n",
       "</style>\n",
       "<table border=\"1\" class=\"dataframe\">\n",
       "  <thead>\n",
       "    <tr style=\"text-align: right;\">\n",
       "      <th></th>\n",
       "      <th>feature</th>\n",
       "      <th>Importances</th>\n",
       "      <th>sensor</th>\n",
       "      <th>agg</th>\n",
       "      <th>axis</th>\n",
       "    </tr>\n",
       "  </thead>\n",
       "  <tbody>\n",
       "    <tr>\n",
       "      <th>0</th>\n",
       "      <td>tBodyAcc-correlation()-X,Y</td>\n",
       "      <td>0.033209</td>\n",
       "      <td>tBodyAcc</td>\n",
       "      <td>correlation()</td>\n",
       "      <td>X,Y</td>\n",
       "    </tr>\n",
       "    <tr>\n",
       "      <th>1</th>\n",
       "      <td>fBodyAccMag-std()</td>\n",
       "      <td>0.023786</td>\n",
       "      <td>fBodyAccMag</td>\n",
       "      <td>std()</td>\n",
       "      <td>NaN</td>\n",
       "    </tr>\n",
       "    <tr>\n",
       "      <th>2</th>\n",
       "      <td>tGravityAcc-arCoeff()-X,1</td>\n",
       "      <td>0.023390</td>\n",
       "      <td>tGravityAcc</td>\n",
       "      <td>arCoeff()</td>\n",
       "      <td>X,1</td>\n",
       "    </tr>\n",
       "    <tr>\n",
       "      <th>3</th>\n",
       "      <td>fBodyAccMag-mad()</td>\n",
       "      <td>0.020669</td>\n",
       "      <td>fBodyAccMag</td>\n",
       "      <td>mad()</td>\n",
       "      <td>NaN</td>\n",
       "    </tr>\n",
       "    <tr>\n",
       "      <th>4</th>\n",
       "      <td>tGravityAcc-arCoeff()-X,3</td>\n",
       "      <td>0.018754</td>\n",
       "      <td>tGravityAcc</td>\n",
       "      <td>arCoeff()</td>\n",
       "      <td>X,3</td>\n",
       "    </tr>\n",
       "  </tbody>\n",
       "</table>\n",
       "</div>"
      ],
      "text/plain": [
       "                      feature  Importances       sensor            agg axis\n",
       "0  tBodyAcc-correlation()-X,Y     0.033209     tBodyAcc  correlation()  X,Y\n",
       "1           fBodyAccMag-std()     0.023786  fBodyAccMag          std()  NaN\n",
       "2   tGravityAcc-arCoeff()-X,1     0.023390  tGravityAcc      arCoeff()  X,1\n",
       "3           fBodyAccMag-mad()     0.020669  fBodyAccMag          mad()  NaN\n",
       "4   tGravityAcc-arCoeff()-X,3     0.018754  tGravityAcc      arCoeff()  X,3"
      ]
     },
     "execution_count": 1600,
     "metadata": {},
     "output_type": "execute_result"
    }
   ],
   "source": [
    "df8.drop(['feature_name'], axis=1, inplace=True)\n",
    "df8.head()"
   ]
  },
  {
   "cell_type": "code",
   "execution_count": null,
   "metadata": {},
   "outputs": [],
   "source": []
  },
  {
   "cell_type": "markdown",
   "metadata": {
    "id": "bOyJBSsP6VKW"
   },
   "source": [
    "* sensor 별 중요도"
   ]
  },
  {
   "cell_type": "code",
   "execution_count": 1601,
   "metadata": {
    "colab": {
     "base_uri": "https://localhost:8080/",
     "height": 666
    },
    "executionInfo": {
     "elapsed": 17,
     "status": "ok",
     "timestamp": 1682560419684,
     "user": {
      "displayName": "허신 - Business Intelligence",
      "userId": "11511914061488776232"
     },
     "user_tz": -540
    },
    "id": "hP8OgPtl6VKW",
    "outputId": "0934407c-d9ae-4bcf-d176-5a1ee42313af"
   },
   "outputs": [
    {
     "data": {
      "text/html": [
       "<div>\n",
       "<style scoped>\n",
       "    .dataframe tbody tr th:only-of-type {\n",
       "        vertical-align: middle;\n",
       "    }\n",
       "\n",
       "    .dataframe tbody tr th {\n",
       "        vertical-align: top;\n",
       "    }\n",
       "\n",
       "    .dataframe thead th {\n",
       "        text-align: right;\n",
       "    }\n",
       "</style>\n",
       "<table border=\"1\" class=\"dataframe\">\n",
       "  <thead>\n",
       "    <tr style=\"text-align: right;\">\n",
       "      <th></th>\n",
       "      <th>Importances</th>\n",
       "    </tr>\n",
       "    <tr>\n",
       "      <th>sensor</th>\n",
       "      <th></th>\n",
       "    </tr>\n",
       "  </thead>\n",
       "  <tbody>\n",
       "    <tr>\n",
       "      <th>tGravityAcc</th>\n",
       "      <td>0.137854</td>\n",
       "    </tr>\n",
       "    <tr>\n",
       "      <th>fBodyAccJerk</th>\n",
       "      <td>0.127990</td>\n",
       "    </tr>\n",
       "    <tr>\n",
       "      <th>fBodyAcc</th>\n",
       "      <td>0.127375</td>\n",
       "    </tr>\n",
       "    <tr>\n",
       "      <th>fBodyGyro</th>\n",
       "      <td>0.114219</td>\n",
       "    </tr>\n",
       "    <tr>\n",
       "      <th>tBodyGyroJerk</th>\n",
       "      <td>0.089916</td>\n",
       "    </tr>\n",
       "    <tr>\n",
       "      <th>fBodyAccMag</th>\n",
       "      <td>0.081262</td>\n",
       "    </tr>\n",
       "    <tr>\n",
       "      <th>tBodyAcc</th>\n",
       "      <td>0.075926</td>\n",
       "    </tr>\n",
       "    <tr>\n",
       "      <th>tBodyAccJerk</th>\n",
       "      <td>0.075338</td>\n",
       "    </tr>\n",
       "    <tr>\n",
       "      <th>tGravityAccMag</th>\n",
       "      <td>0.066547</td>\n",
       "    </tr>\n",
       "    <tr>\n",
       "      <th>tBodyAccMag</th>\n",
       "      <td>0.049523</td>\n",
       "    </tr>\n",
       "  </tbody>\n",
       "</table>\n",
       "</div>"
      ],
      "text/plain": [
       "                Importances\n",
       "sensor                     \n",
       "tGravityAcc        0.137854\n",
       "fBodyAccJerk       0.127990\n",
       "fBodyAcc           0.127375\n",
       "fBodyGyro          0.114219\n",
       "tBodyGyroJerk      0.089916\n",
       "fBodyAccMag        0.081262\n",
       "tBodyAcc           0.075926\n",
       "tBodyAccJerk       0.075338\n",
       "tGravityAccMag     0.066547\n",
       "tBodyAccMag        0.049523"
      ]
     },
     "execution_count": 1601,
     "metadata": {},
     "output_type": "execute_result"
    }
   ],
   "source": [
    "# sensor 별 중요도 합계\n",
    "sorted_df = df8.groupby('sensor')[['Importances']].sum().sort_values(by='Importances', ascending=False)\n",
    "\n",
    "# 상위 변수 그룹별 비교 분석\n",
    "sorted_df[:10]"
   ]
  },
  {
   "cell_type": "markdown",
   "metadata": {
    "id": "3HhKEn-g6VKX"
   },
   "source": [
    "* sensor + agg 별 중요도"
   ]
  },
  {
   "cell_type": "code",
   "execution_count": 1602,
   "metadata": {
    "colab": {
     "base_uri": "https://localhost:8080/",
     "height": 649
    },
    "executionInfo": {
     "elapsed": 16,
     "status": "ok",
     "timestamp": 1682560419684,
     "user": {
      "displayName": "허신 - Business Intelligence",
      "userId": "11511914061488776232"
     },
     "user_tz": -540
    },
    "id": "X8Dn1UvY6VKX",
    "outputId": "0c54d27a-51bd-4304-e7ad-82f5fd247c9e"
   },
   "outputs": [
    {
     "data": {
      "text/html": [
       "<div>\n",
       "<style scoped>\n",
       "    .dataframe tbody tr th:only-of-type {\n",
       "        vertical-align: middle;\n",
       "    }\n",
       "\n",
       "    .dataframe tbody tr th {\n",
       "        vertical-align: top;\n",
       "    }\n",
       "\n",
       "    .dataframe thead th {\n",
       "        text-align: right;\n",
       "    }\n",
       "</style>\n",
       "<table border=\"1\" class=\"dataframe\">\n",
       "  <thead>\n",
       "    <tr style=\"text-align: right;\">\n",
       "      <th></th>\n",
       "      <th></th>\n",
       "      <th>Importances</th>\n",
       "    </tr>\n",
       "    <tr>\n",
       "      <th>sensor</th>\n",
       "      <th>agg</th>\n",
       "      <th></th>\n",
       "    </tr>\n",
       "  </thead>\n",
       "  <tbody>\n",
       "    <tr>\n",
       "      <th>tGravityAcc</th>\n",
       "      <th>arCoeff()</th>\n",
       "      <td>0.100115</td>\n",
       "    </tr>\n",
       "    <tr>\n",
       "      <th>fBodyGyro</th>\n",
       "      <th>bandsEnergy()</th>\n",
       "      <td>0.081381</td>\n",
       "    </tr>\n",
       "    <tr>\n",
       "      <th>fBodyAcc</th>\n",
       "      <th>bandsEnergy()</th>\n",
       "      <td>0.076258</td>\n",
       "    </tr>\n",
       "    <tr>\n",
       "      <th>fBodyAccJerk</th>\n",
       "      <th>bandsEnergy()</th>\n",
       "      <td>0.064591</td>\n",
       "    </tr>\n",
       "    <tr>\n",
       "      <th>tBodyAcc</th>\n",
       "      <th>correlation()</th>\n",
       "      <td>0.034436</td>\n",
       "    </tr>\n",
       "    <tr>\n",
       "      <th>fBodyAccMag</th>\n",
       "      <th>std()</th>\n",
       "      <td>0.023786</td>\n",
       "    </tr>\n",
       "    <tr>\n",
       "      <th>tBodyGyroJerk</th>\n",
       "      <th>std()</th>\n",
       "      <td>0.022288</td>\n",
       "    </tr>\n",
       "    <tr>\n",
       "      <th>fBodyGyro</th>\n",
       "      <th>maxInds</th>\n",
       "      <td>0.021273</td>\n",
       "    </tr>\n",
       "    <tr>\n",
       "      <th>fBodyAccMag</th>\n",
       "      <th>mad()</th>\n",
       "      <td>0.020669</td>\n",
       "    </tr>\n",
       "    <tr>\n",
       "      <th>tBodyGyroJerk</th>\n",
       "      <th>energy()</th>\n",
       "      <td>0.017128</td>\n",
       "    </tr>\n",
       "  </tbody>\n",
       "</table>\n",
       "</div>"
      ],
      "text/plain": [
       "                             Importances\n",
       "sensor        agg                       \n",
       "tGravityAcc   arCoeff()         0.100115\n",
       "fBodyGyro     bandsEnergy()     0.081381\n",
       "fBodyAcc      bandsEnergy()     0.076258\n",
       "fBodyAccJerk  bandsEnergy()     0.064591\n",
       "tBodyAcc      correlation()     0.034436\n",
       "fBodyAccMag   std()             0.023786\n",
       "tBodyGyroJerk std()             0.022288\n",
       "fBodyGyro     maxInds           0.021273\n",
       "fBodyAccMag   mad()             0.020669\n",
       "tBodyGyroJerk energy()          0.017128"
      ]
     },
     "execution_count": 1602,
     "metadata": {},
     "output_type": "execute_result"
    }
   ],
   "source": [
    "# sensor+agge별 중요도 합계\n",
    "sorted_df = df8.groupby(['sensor','agg'])[['Importances']].sum().sort_values(by='Importances', ascending=False)\n",
    "sorted_df[:10]"
   ]
  },
  {
   "cell_type": "code",
   "execution_count": null,
   "metadata": {
    "colab": {
     "base_uri": "https://localhost:8080/",
     "height": 666
    },
    "executionInfo": {
     "elapsed": 15,
     "status": "ok",
     "timestamp": 1682560419684,
     "user": {
      "displayName": "허신 - Business Intelligence",
      "userId": "11511914061488776232"
     },
     "user_tz": -540
    },
    "id": "B2cXYew76VKX",
    "outputId": "e1cd6af6-9426-480f-d2e5-900e65669e60"
   },
   "outputs": [],
   "source": []
  },
  {
   "cell_type": "markdown",
   "metadata": {
    "id": "Zk42KHA18n6V"
   },
   "source": [
    "### (6) 개별 동작 분석 : is_walking_up\n"
   ]
  },
  {
   "cell_type": "markdown",
   "metadata": {
    "id": "3adM3SOA8n6V"
   },
   "source": [
    "* **세부 요구사항**\n",
    "    - Target인 Activity를 is_walking_up 변수로 변경하시오.\n",
    "        * 값 1 : WALKING_UPSTAIRS\n",
    "        * 값 0 : 나머지\n",
    "    - is_walking_up 을 예측하기 위한 기본 모델을 생성하시오.\n",
    "        * x, is_walking_up 을 이용하여 train과 validation으로 데이터 분할\n",
    "        * 기본 모델링\n",
    "    - is_walking_up 을 구분하는데 중요한 변수 상위 5를 분석하시오.\n",
    "    - is_walking_up 을 구분하는데 중요한 변수 그룹을 분석하시오.\n",
    "        * sensor별\n",
    "        * sensor+agg 별\n"
   ]
  },
  {
   "cell_type": "markdown",
   "metadata": {
    "id": "8lTqqisH8n6V"
   },
   "source": [
    "#### 1) is_walking_up 추가"
   ]
  },
  {
   "cell_type": "code",
   "execution_count": 1603,
   "metadata": {},
   "outputs": [
    {
     "data": {
      "text/plain": [
       "LAYING                1115\n",
       "STANDING              1087\n",
       "SITTING               1032\n",
       "WALKING                998\n",
       "WALKING_UPSTAIRS       858\n",
       "WALKING_DOWNSTAIRS     791\n",
       "Name: Activity, dtype: int64"
      ]
     },
     "execution_count": 1603,
     "metadata": {},
     "output_type": "execute_result"
    }
   ],
   "source": [
    "df_train['Activity'].value_counts()"
   ]
  },
  {
   "cell_type": "code",
   "execution_count": 1604,
   "metadata": {},
   "outputs": [
    {
     "data": {
      "text/plain": [
       "0    3936\n",
       "1    1945\n",
       "Name: is_walking_up, dtype: int64"
      ]
     },
     "execution_count": 1604,
     "metadata": {},
     "output_type": "execute_result"
    }
   ],
   "source": [
    "df_train['is_walking_up'] = df_train['Activity'].replace({'STANDING': 1, 'SITTING': 0, 'LAYING': 0, 'WALKING': 0, 'WALKING_UPSTAIRS': 1, 'WALKING_DOWNSTAIRS': 0})\n",
    "df_train['is_walking_up'].value_counts()"
   ]
  },
  {
   "cell_type": "code",
   "execution_count": 1605,
   "metadata": {},
   "outputs": [
    {
     "data": {
      "text/html": [
       "<div>\n",
       "<style scoped>\n",
       "    .dataframe tbody tr th:only-of-type {\n",
       "        vertical-align: middle;\n",
       "    }\n",
       "\n",
       "    .dataframe tbody tr th {\n",
       "        vertical-align: top;\n",
       "    }\n",
       "\n",
       "    .dataframe thead th {\n",
       "        text-align: right;\n",
       "    }\n",
       "</style>\n",
       "<table border=\"1\" class=\"dataframe\">\n",
       "  <thead>\n",
       "    <tr style=\"text-align: right;\">\n",
       "      <th></th>\n",
       "      <th>tBodyAcc-mean()-X</th>\n",
       "      <th>tBodyAcc-mean()-Y</th>\n",
       "      <th>tBodyAcc-mean()-Z</th>\n",
       "      <th>tBodyAcc-std()-X</th>\n",
       "      <th>tBodyAcc-std()-Y</th>\n",
       "      <th>tBodyAcc-std()-Z</th>\n",
       "      <th>tBodyAcc-mad()-X</th>\n",
       "      <th>tBodyAcc-mad()-Y</th>\n",
       "      <th>tBodyAcc-mad()-Z</th>\n",
       "      <th>tBodyAcc-max()-X</th>\n",
       "      <th>...</th>\n",
       "      <th>angle(X,gravityMean)</th>\n",
       "      <th>angle(Y,gravityMean)</th>\n",
       "      <th>angle(Z,gravityMean)</th>\n",
       "      <th>Activity</th>\n",
       "      <th>is_dynamic</th>\n",
       "      <th>is_standing</th>\n",
       "      <th>is_sitting</th>\n",
       "      <th>is_laying</th>\n",
       "      <th>is_walking</th>\n",
       "      <th>is_walking_up</th>\n",
       "    </tr>\n",
       "  </thead>\n",
       "  <tbody>\n",
       "    <tr>\n",
       "      <th>0</th>\n",
       "      <td>0.288508</td>\n",
       "      <td>-0.009196</td>\n",
       "      <td>-0.103362</td>\n",
       "      <td>-0.988986</td>\n",
       "      <td>-0.962797</td>\n",
       "      <td>-0.967422</td>\n",
       "      <td>-0.989000</td>\n",
       "      <td>-0.962596</td>\n",
       "      <td>-0.965650</td>\n",
       "      <td>-0.929747</td>\n",
       "      <td>...</td>\n",
       "      <td>-0.601120</td>\n",
       "      <td>0.331298</td>\n",
       "      <td>0.165163</td>\n",
       "      <td>STANDING</td>\n",
       "      <td>0</td>\n",
       "      <td>1</td>\n",
       "      <td>0</td>\n",
       "      <td>0</td>\n",
       "      <td>0</td>\n",
       "      <td>1</td>\n",
       "    </tr>\n",
       "    <tr>\n",
       "      <th>1</th>\n",
       "      <td>0.265757</td>\n",
       "      <td>-0.016576</td>\n",
       "      <td>-0.098163</td>\n",
       "      <td>-0.989551</td>\n",
       "      <td>-0.994636</td>\n",
       "      <td>-0.987435</td>\n",
       "      <td>-0.990189</td>\n",
       "      <td>-0.993870</td>\n",
       "      <td>-0.987558</td>\n",
       "      <td>-0.937337</td>\n",
       "      <td>...</td>\n",
       "      <td>0.345205</td>\n",
       "      <td>-0.769186</td>\n",
       "      <td>-0.147944</td>\n",
       "      <td>LAYING</td>\n",
       "      <td>0</td>\n",
       "      <td>0</td>\n",
       "      <td>0</td>\n",
       "      <td>1</td>\n",
       "      <td>0</td>\n",
       "      <td>0</td>\n",
       "    </tr>\n",
       "    <tr>\n",
       "      <th>2</th>\n",
       "      <td>0.278709</td>\n",
       "      <td>-0.014511</td>\n",
       "      <td>-0.108717</td>\n",
       "      <td>-0.997720</td>\n",
       "      <td>-0.981088</td>\n",
       "      <td>-0.994008</td>\n",
       "      <td>-0.997934</td>\n",
       "      <td>-0.982187</td>\n",
       "      <td>-0.995017</td>\n",
       "      <td>-0.942584</td>\n",
       "      <td>...</td>\n",
       "      <td>-0.833564</td>\n",
       "      <td>0.202434</td>\n",
       "      <td>-0.032755</td>\n",
       "      <td>STANDING</td>\n",
       "      <td>0</td>\n",
       "      <td>1</td>\n",
       "      <td>0</td>\n",
       "      <td>0</td>\n",
       "      <td>0</td>\n",
       "      <td>1</td>\n",
       "    </tr>\n",
       "    <tr>\n",
       "      <th>3</th>\n",
       "      <td>0.289795</td>\n",
       "      <td>-0.035536</td>\n",
       "      <td>-0.150354</td>\n",
       "      <td>-0.231727</td>\n",
       "      <td>-0.006412</td>\n",
       "      <td>-0.338117</td>\n",
       "      <td>-0.273557</td>\n",
       "      <td>0.014245</td>\n",
       "      <td>-0.347916</td>\n",
       "      <td>0.008288</td>\n",
       "      <td>...</td>\n",
       "      <td>-0.695819</td>\n",
       "      <td>0.287154</td>\n",
       "      <td>0.111388</td>\n",
       "      <td>WALKING</td>\n",
       "      <td>1</td>\n",
       "      <td>0</td>\n",
       "      <td>0</td>\n",
       "      <td>0</td>\n",
       "      <td>1</td>\n",
       "      <td>0</td>\n",
       "    </tr>\n",
       "    <tr>\n",
       "      <th>4</th>\n",
       "      <td>0.394807</td>\n",
       "      <td>0.034098</td>\n",
       "      <td>0.091229</td>\n",
       "      <td>0.088489</td>\n",
       "      <td>-0.106636</td>\n",
       "      <td>-0.388502</td>\n",
       "      <td>-0.010469</td>\n",
       "      <td>-0.109680</td>\n",
       "      <td>-0.346372</td>\n",
       "      <td>0.584131</td>\n",
       "      <td>...</td>\n",
       "      <td>-0.705029</td>\n",
       "      <td>0.264952</td>\n",
       "      <td>0.137758</td>\n",
       "      <td>WALKING_DOWNSTAIRS</td>\n",
       "      <td>1</td>\n",
       "      <td>0</td>\n",
       "      <td>0</td>\n",
       "      <td>0</td>\n",
       "      <td>0</td>\n",
       "      <td>0</td>\n",
       "    </tr>\n",
       "  </tbody>\n",
       "</table>\n",
       "<p>5 rows × 568 columns</p>\n",
       "</div>"
      ],
      "text/plain": [
       "   tBodyAcc-mean()-X  tBodyAcc-mean()-Y  tBodyAcc-mean()-Z  tBodyAcc-std()-X  \\\n",
       "0           0.288508          -0.009196          -0.103362         -0.988986   \n",
       "1           0.265757          -0.016576          -0.098163         -0.989551   \n",
       "2           0.278709          -0.014511          -0.108717         -0.997720   \n",
       "3           0.289795          -0.035536          -0.150354         -0.231727   \n",
       "4           0.394807           0.034098           0.091229          0.088489   \n",
       "\n",
       "   tBodyAcc-std()-Y  tBodyAcc-std()-Z  tBodyAcc-mad()-X  tBodyAcc-mad()-Y  \\\n",
       "0         -0.962797         -0.967422         -0.989000         -0.962596   \n",
       "1         -0.994636         -0.987435         -0.990189         -0.993870   \n",
       "2         -0.981088         -0.994008         -0.997934         -0.982187   \n",
       "3         -0.006412         -0.338117         -0.273557          0.014245   \n",
       "4         -0.106636         -0.388502         -0.010469         -0.109680   \n",
       "\n",
       "   tBodyAcc-mad()-Z  tBodyAcc-max()-X  ...  angle(X,gravityMean)  \\\n",
       "0         -0.965650         -0.929747  ...             -0.601120   \n",
       "1         -0.987558         -0.937337  ...              0.345205   \n",
       "2         -0.995017         -0.942584  ...             -0.833564   \n",
       "3         -0.347916          0.008288  ...             -0.695819   \n",
       "4         -0.346372          0.584131  ...             -0.705029   \n",
       "\n",
       "   angle(Y,gravityMean)  angle(Z,gravityMean)            Activity  is_dynamic  \\\n",
       "0              0.331298              0.165163            STANDING           0   \n",
       "1             -0.769186             -0.147944              LAYING           0   \n",
       "2              0.202434             -0.032755            STANDING           0   \n",
       "3              0.287154              0.111388             WALKING           1   \n",
       "4              0.264952              0.137758  WALKING_DOWNSTAIRS           1   \n",
       "\n",
       "   is_standing  is_sitting  is_laying  is_walking  is_walking_up  \n",
       "0            1           0          0           0              1  \n",
       "1            0           0          1           0              0  \n",
       "2            1           0          0           0              1  \n",
       "3            0           0          0           1              0  \n",
       "4            0           0          0           0              0  \n",
       "\n",
       "[5 rows x 568 columns]"
      ]
     },
     "execution_count": 1605,
     "metadata": {},
     "output_type": "execute_result"
    }
   ],
   "source": [
    "df_train.head()"
   ]
  },
  {
   "cell_type": "code",
   "execution_count": null,
   "metadata": {
    "colab": {
     "base_uri": "https://localhost:8080/"
    },
    "executionInfo": {
     "elapsed": 15,
     "status": "ok",
     "timestamp": 1682560457514,
     "user": {
      "displayName": "허신 - Business Intelligence",
      "userId": "11511914061488776232"
     },
     "user_tz": -540
    },
    "id": "3udum_a08n6V",
    "outputId": "9fdaf18a-4195-4241-fcfd-b0c8cc8a4a92"
   },
   "outputs": [],
   "source": []
  },
  {
   "cell_type": "markdown",
   "metadata": {
    "id": "o3xgnoEk8n6V"
   },
   "source": [
    "#### 2) 기본모델 생성"
   ]
  },
  {
   "cell_type": "code",
   "execution_count": 1606,
   "metadata": {
    "executionInfo": {
     "elapsed": 9,
     "status": "ok",
     "timestamp": 1682560457514,
     "user": {
      "displayName": "허신 - Business Intelligence",
      "userId": "11511914061488776232"
     },
     "user_tz": -540
    },
    "id": "2XciMW7G8n6V"
   },
   "outputs": [
    {
     "data": {
      "text/html": [
       "<style>#sk-container-id-65 {color: black;background-color: white;}#sk-container-id-65 pre{padding: 0;}#sk-container-id-65 div.sk-toggleable {background-color: white;}#sk-container-id-65 label.sk-toggleable__label {cursor: pointer;display: block;width: 100%;margin-bottom: 0;padding: 0.3em;box-sizing: border-box;text-align: center;}#sk-container-id-65 label.sk-toggleable__label-arrow:before {content: \"▸\";float: left;margin-right: 0.25em;color: #696969;}#sk-container-id-65 label.sk-toggleable__label-arrow:hover:before {color: black;}#sk-container-id-65 div.sk-estimator:hover label.sk-toggleable__label-arrow:before {color: black;}#sk-container-id-65 div.sk-toggleable__content {max-height: 0;max-width: 0;overflow: hidden;text-align: left;background-color: #f0f8ff;}#sk-container-id-65 div.sk-toggleable__content pre {margin: 0.2em;color: black;border-radius: 0.25em;background-color: #f0f8ff;}#sk-container-id-65 input.sk-toggleable__control:checked~div.sk-toggleable__content {max-height: 200px;max-width: 100%;overflow: auto;}#sk-container-id-65 input.sk-toggleable__control:checked~label.sk-toggleable__label-arrow:before {content: \"▾\";}#sk-container-id-65 div.sk-estimator input.sk-toggleable__control:checked~label.sk-toggleable__label {background-color: #d4ebff;}#sk-container-id-65 div.sk-label input.sk-toggleable__control:checked~label.sk-toggleable__label {background-color: #d4ebff;}#sk-container-id-65 input.sk-hidden--visually {border: 0;clip: rect(1px 1px 1px 1px);clip: rect(1px, 1px, 1px, 1px);height: 1px;margin: -1px;overflow: hidden;padding: 0;position: absolute;width: 1px;}#sk-container-id-65 div.sk-estimator {font-family: monospace;background-color: #f0f8ff;border: 1px dotted black;border-radius: 0.25em;box-sizing: border-box;margin-bottom: 0.5em;}#sk-container-id-65 div.sk-estimator:hover {background-color: #d4ebff;}#sk-container-id-65 div.sk-parallel-item::after {content: \"\";width: 100%;border-bottom: 1px solid gray;flex-grow: 1;}#sk-container-id-65 div.sk-label:hover label.sk-toggleable__label {background-color: #d4ebff;}#sk-container-id-65 div.sk-serial::before {content: \"\";position: absolute;border-left: 1px solid gray;box-sizing: border-box;top: 0;bottom: 0;left: 50%;z-index: 0;}#sk-container-id-65 div.sk-serial {display: flex;flex-direction: column;align-items: center;background-color: white;padding-right: 0.2em;padding-left: 0.2em;position: relative;}#sk-container-id-65 div.sk-item {position: relative;z-index: 1;}#sk-container-id-65 div.sk-parallel {display: flex;align-items: stretch;justify-content: center;background-color: white;position: relative;}#sk-container-id-65 div.sk-item::before, #sk-container-id-65 div.sk-parallel-item::before {content: \"\";position: absolute;border-left: 1px solid gray;box-sizing: border-box;top: 0;bottom: 0;left: 50%;z-index: -1;}#sk-container-id-65 div.sk-parallel-item {display: flex;flex-direction: column;z-index: 1;position: relative;background-color: white;}#sk-container-id-65 div.sk-parallel-item:first-child::after {align-self: flex-end;width: 50%;}#sk-container-id-65 div.sk-parallel-item:last-child::after {align-self: flex-start;width: 50%;}#sk-container-id-65 div.sk-parallel-item:only-child::after {width: 0;}#sk-container-id-65 div.sk-dashed-wrapped {border: 1px dashed gray;margin: 0 0.4em 0.5em 0.4em;box-sizing: border-box;padding-bottom: 0.4em;background-color: white;}#sk-container-id-65 div.sk-label label {font-family: monospace;font-weight: bold;display: inline-block;line-height: 1.2em;}#sk-container-id-65 div.sk-label-container {text-align: center;}#sk-container-id-65 div.sk-container {/* jupyter's `normalize.less` sets `[hidden] { display: none; }` but bootstrap.min.css set `[hidden] { display: none !important; }` so we also need the `!important` here to be able to override the default hidden behavior on the sphinx rendered scikit-learn.org. See: https://github.com/scikit-learn/scikit-learn/issues/21755 */display: inline-block !important;position: relative;}#sk-container-id-65 div.sk-text-repr-fallback {display: none;}</style><div id=\"sk-container-id-65\" class=\"sk-top-container\"><div class=\"sk-text-repr-fallback\"><pre>RandomForestClassifier()</pre><b>In a Jupyter environment, please rerun this cell to show the HTML representation or trust the notebook. <br />On GitHub, the HTML representation is unable to render, please try loading this page with nbviewer.org.</b></div><div class=\"sk-container\" hidden><div class=\"sk-item\"><div class=\"sk-estimator sk-toggleable\"><input class=\"sk-toggleable__control sk-hidden--visually\" id=\"sk-estimator-id-65\" type=\"checkbox\" checked><label for=\"sk-estimator-id-65\" class=\"sk-toggleable__label sk-toggleable__label-arrow\">RandomForestClassifier</label><div class=\"sk-toggleable__content\"><pre>RandomForestClassifier()</pre></div></div></div></div></div>"
      ],
      "text/plain": [
       "RandomForestClassifier()"
      ]
     },
     "execution_count": 1606,
     "metadata": {},
     "output_type": "execute_result"
    }
   ],
   "source": [
    "y = df_train['is_walking_up']\n",
    "\n",
    "from sklearn.model_selection import train_test_split\n",
    "x_train, x_val, y_train, y_val = train_test_split(x, y, test_size=0.3, shuffle=True, random_state=1)\n",
    "\n",
    "\n",
    "from sklearn.ensemble import RandomForestClassifier\n",
    "model9 = RandomForestClassifier()\n",
    "model9.fit(x_train, y_train)"
   ]
  },
  {
   "cell_type": "code",
   "execution_count": null,
   "metadata": {
    "colab": {
     "base_uri": "https://localhost:8080/"
    },
    "executionInfo": {
     "elapsed": 3068,
     "status": "ok",
     "timestamp": 1682560460574,
     "user": {
      "displayName": "허신 - Business Intelligence",
      "userId": "11511914061488776232"
     },
     "user_tz": -540
    },
    "id": "50IxUYEV8n6W",
    "outputId": "aa871cf3-7fee-4be2-fc18-2b1f1f4f078c"
   },
   "outputs": [],
   "source": []
  },
  {
   "cell_type": "markdown",
   "metadata": {
    "id": "Bk_jfuVV8n6W"
   },
   "source": [
    "#### 3) 변수중요도 상위 5개 분석"
   ]
  },
  {
   "cell_type": "code",
   "execution_count": 1607,
   "metadata": {
    "colab": {
     "base_uri": "https://localhost:8080/",
     "height": 1000
    },
    "executionInfo": {
     "elapsed": 12946,
     "status": "ok",
     "timestamp": 1682560473516,
     "user": {
      "displayName": "허신 - Business Intelligence",
      "userId": "11511914061488776232"
     },
     "user_tz": -540
    },
    "id": "FS-PB3bN8n6W",
    "outputId": "24f170f6-eb7b-4cd8-f24f-60603d9425c5"
   },
   "outputs": [
    {
     "data": {
      "text/html": [
       "<div>\n",
       "<style scoped>\n",
       "    .dataframe tbody tr th:only-of-type {\n",
       "        vertical-align: middle;\n",
       "    }\n",
       "\n",
       "    .dataframe tbody tr th {\n",
       "        vertical-align: top;\n",
       "    }\n",
       "\n",
       "    .dataframe thead th {\n",
       "        text-align: right;\n",
       "    }\n",
       "</style>\n",
       "<table border=\"1\" class=\"dataframe\">\n",
       "  <thead>\n",
       "    <tr style=\"text-align: right;\">\n",
       "      <th></th>\n",
       "      <th>feature</th>\n",
       "      <th>Importances</th>\n",
       "    </tr>\n",
       "  </thead>\n",
       "  <tbody>\n",
       "    <tr>\n",
       "      <th>50</th>\n",
       "      <td>tGravityAcc-max()-Y</td>\n",
       "      <td>0.063916</td>\n",
       "    </tr>\n",
       "    <tr>\n",
       "      <th>41</th>\n",
       "      <td>tGravityAcc-mean()-Y</td>\n",
       "      <td>0.045459</td>\n",
       "    </tr>\n",
       "    <tr>\n",
       "      <th>53</th>\n",
       "      <td>tGravityAcc-min()-Y</td>\n",
       "      <td>0.039916</td>\n",
       "    </tr>\n",
       "    <tr>\n",
       "      <th>559</th>\n",
       "      <td>angle(Y,gravityMean)</td>\n",
       "      <td>0.031871</td>\n",
       "    </tr>\n",
       "    <tr>\n",
       "      <th>57</th>\n",
       "      <td>tGravityAcc-energy()-Y</td>\n",
       "      <td>0.021101</td>\n",
       "    </tr>\n",
       "  </tbody>\n",
       "</table>\n",
       "</div>"
      ],
      "text/plain": [
       "                    feature  Importances\n",
       "50      tGravityAcc-max()-Y     0.063916\n",
       "41     tGravityAcc-mean()-Y     0.045459\n",
       "53      tGravityAcc-min()-Y     0.039916\n",
       "559    angle(Y,gravityMean)     0.031871\n",
       "57   tGravityAcc-energy()-Y     0.021101"
      ]
     },
     "execution_count": 1607,
     "metadata": {},
     "output_type": "execute_result"
    }
   ],
   "source": [
    "df9 = pd.DataFrame()\n",
    "df9['feature'] = list(x)\n",
    "df9['Importances'] = model9.feature_importances_\n",
    "df9.sort_values(by = 'Importances', ascending=False, inplace=True)\n",
    "df9[:5]"
   ]
  },
  {
   "cell_type": "markdown",
   "metadata": {
    "id": "7YfgHEvf8n6W"
   },
   "source": [
    "* 상위 변수 선정"
   ]
  },
  {
   "cell_type": "code",
   "execution_count": 1608,
   "metadata": {
    "colab": {
     "base_uri": "https://localhost:8080/",
     "height": 221
    },
    "executionInfo": {
     "elapsed": 17,
     "status": "ok",
     "timestamp": 1682560473517,
     "user": {
      "displayName": "허신 - Business Intelligence",
      "userId": "11511914061488776232"
     },
     "user_tz": -540
    },
    "id": "KV_YKWSb8n6W",
    "outputId": "90fc8b9c-243e-48ae-fe5f-771010eb6072"
   },
   "outputs": [
    {
     "data": {
      "text/plain": [
       "['tGravityAcc-max()-Y',\n",
       " 'tGravityAcc-mean()-Y',\n",
       " 'tGravityAcc-min()-Y',\n",
       " 'angle(Y,gravityMean)',\n",
       " 'tGravityAcc-energy()-Y']"
      ]
     },
     "execution_count": 1608,
     "metadata": {},
     "output_type": "execute_result"
    }
   ],
   "source": [
    "cols=list(df9.iloc[:5,:1]['feature'])\n",
    "cols"
   ]
  },
  {
   "cell_type": "code",
   "execution_count": null,
   "metadata": {},
   "outputs": [],
   "source": []
  },
  {
   "cell_type": "markdown",
   "metadata": {
    "id": "K-WjSNQg8n6W"
   },
   "source": [
    "* 데이터 탐색하기"
   ]
  },
  {
   "cell_type": "code",
   "execution_count": 1609,
   "metadata": {
    "executionInfo": {
     "elapsed": 16,
     "status": "ok",
     "timestamp": 1682560473517,
     "user": {
      "displayName": "허신 - Business Intelligence",
      "userId": "11511914061488776232"
     },
     "user_tz": -540
    },
    "id": "GBI-qliA8n6W"
   },
   "outputs": [
    {
     "data": {
      "text/html": [
       "<div>\n",
       "<style scoped>\n",
       "    .dataframe tbody tr th:only-of-type {\n",
       "        vertical-align: middle;\n",
       "    }\n",
       "\n",
       "    .dataframe tbody tr th {\n",
       "        vertical-align: top;\n",
       "    }\n",
       "\n",
       "    .dataframe thead th {\n",
       "        text-align: right;\n",
       "    }\n",
       "</style>\n",
       "<table border=\"1\" class=\"dataframe\">\n",
       "  <thead>\n",
       "    <tr style=\"text-align: right;\">\n",
       "      <th></th>\n",
       "      <th>feature_name</th>\n",
       "      <th>feature_importance</th>\n",
       "    </tr>\n",
       "  </thead>\n",
       "  <tbody>\n",
       "    <tr>\n",
       "      <th>0</th>\n",
       "      <td>tGravityAcc-max()-Y</td>\n",
       "      <td>0.063916</td>\n",
       "    </tr>\n",
       "    <tr>\n",
       "      <th>1</th>\n",
       "      <td>tGravityAcc-mean()-Y</td>\n",
       "      <td>0.045459</td>\n",
       "    </tr>\n",
       "    <tr>\n",
       "      <th>2</th>\n",
       "      <td>tGravityAcc-min()-Y</td>\n",
       "      <td>0.039916</td>\n",
       "    </tr>\n",
       "    <tr>\n",
       "      <th>3</th>\n",
       "      <td>angle(Y,gravityMean)</td>\n",
       "      <td>0.031871</td>\n",
       "    </tr>\n",
       "    <tr>\n",
       "      <th>4</th>\n",
       "      <td>tGravityAcc-energy()-Y</td>\n",
       "      <td>0.021101</td>\n",
       "    </tr>\n",
       "  </tbody>\n",
       "</table>\n",
       "</div>"
      ],
      "text/plain": [
       "             feature_name  feature_importance\n",
       "0     tGravityAcc-max()-Y            0.063916\n",
       "1    tGravityAcc-mean()-Y            0.045459\n",
       "2     tGravityAcc-min()-Y            0.039916\n",
       "3    angle(Y,gravityMean)            0.031871\n",
       "4  tGravityAcc-energy()-Y            0.021101"
      ]
     },
     "execution_count": 1609,
     "metadata": {},
     "output_type": "execute_result"
    },
    {
     "data": {
      "image/png": "[encoded data removed]",
      "text/plain": [
       "<Figure size 720x360 with 1 Axes>"
      ]
     },
     "metadata": {
      "needs_background": "light"
     },
     "output_type": "display_data"
    }
   ],
   "source": [
    "plot_feature_importance(model9.feature_importances_, x_train.columns, topn=5)"
   ]
  },
  {
   "cell_type": "code",
   "execution_count": null,
   "metadata": {
    "colab": {
     "base_uri": "https://localhost:8080/",
     "height": 718
    },
    "executionInfo": {
     "elapsed": 2914,
     "status": "ok",
     "timestamp": 1682560476415,
     "user": {
      "displayName": "허신 - Business Intelligence",
      "userId": "11511914061488776232"
     },
     "user_tz": -540
    },
    "id": "3WmRYNnp8n6W",
    "outputId": "e0d9f753-3edd-44b3-ca29-0b5749c34183"
   },
   "outputs": [],
   "source": []
  },
  {
   "cell_type": "code",
   "execution_count": 1610,
   "metadata": {
    "colab": {
     "base_uri": "https://localhost:8080/",
     "height": 718
    },
    "executionInfo": {
     "elapsed": 20,
     "status": "ok",
     "timestamp": 1682560476416,
     "user": {
      "displayName": "허신 - Business Intelligence",
      "userId": "11511914061488776232"
     },
     "user_tz": -540
    },
    "id": "MrHopM0q8n6X",
    "outputId": "08535731-2098-4fc8-d00e-38a42be1739b"
   },
   "outputs": [
    {
     "data": {
      "text/html": [
       "<div>\n",
       "<style scoped>\n",
       "    .dataframe tbody tr th:only-of-type {\n",
       "        vertical-align: middle;\n",
       "    }\n",
       "\n",
       "    .dataframe tbody tr th {\n",
       "        vertical-align: top;\n",
       "    }\n",
       "\n",
       "    .dataframe thead th {\n",
       "        text-align: right;\n",
       "    }\n",
       "</style>\n",
       "<table border=\"1\" class=\"dataframe\">\n",
       "  <thead>\n",
       "    <tr style=\"text-align: right;\">\n",
       "      <th></th>\n",
       "      <th>feature</th>\n",
       "      <th>Importances</th>\n",
       "    </tr>\n",
       "  </thead>\n",
       "  <tbody>\n",
       "    <tr>\n",
       "      <th>0</th>\n",
       "      <td>tGravityAcc-max()-Y</td>\n",
       "      <td>0.063916</td>\n",
       "    </tr>\n",
       "    <tr>\n",
       "      <th>1</th>\n",
       "      <td>tGravityAcc-mean()-Y</td>\n",
       "      <td>0.045459</td>\n",
       "    </tr>\n",
       "    <tr>\n",
       "      <th>2</th>\n",
       "      <td>tGravityAcc-min()-Y</td>\n",
       "      <td>0.039916</td>\n",
       "    </tr>\n",
       "    <tr>\n",
       "      <th>3</th>\n",
       "      <td>angle(Y,gravityMean)</td>\n",
       "      <td>0.031871</td>\n",
       "    </tr>\n",
       "    <tr>\n",
       "      <th>4</th>\n",
       "      <td>tGravityAcc-energy()-Y</td>\n",
       "      <td>0.021101</td>\n",
       "    </tr>\n",
       "    <tr>\n",
       "      <th>...</th>\n",
       "      <td>...</td>\n",
       "      <td>...</td>\n",
       "    </tr>\n",
       "    <tr>\n",
       "      <th>556</th>\n",
       "      <td>fBodyAccJerk-bandsEnergy()-57,64.2</td>\n",
       "      <td>0.000128</td>\n",
       "    </tr>\n",
       "    <tr>\n",
       "      <th>557</th>\n",
       "      <td>tBodyGyroJerk-min()-Y</td>\n",
       "      <td>0.000104</td>\n",
       "    </tr>\n",
       "    <tr>\n",
       "      <th>558</th>\n",
       "      <td>fBodyGyro-bandsEnergy()-49,56.1</td>\n",
       "      <td>0.000103</td>\n",
       "    </tr>\n",
       "    <tr>\n",
       "      <th>559</th>\n",
       "      <td>tBodyAccJerk-arCoeff()-Y,3</td>\n",
       "      <td>0.000100</td>\n",
       "    </tr>\n",
       "    <tr>\n",
       "      <th>560</th>\n",
       "      <td>tBodyAcc-mean()-X</td>\n",
       "      <td>0.000099</td>\n",
       "    </tr>\n",
       "  </tbody>\n",
       "</table>\n",
       "<p>561 rows × 2 columns</p>\n",
       "</div>"
      ],
      "text/plain": [
       "                                feature  Importances\n",
       "0                   tGravityAcc-max()-Y     0.063916\n",
       "1                  tGravityAcc-mean()-Y     0.045459\n",
       "2                   tGravityAcc-min()-Y     0.039916\n",
       "3                  angle(Y,gravityMean)     0.031871\n",
       "4                tGravityAcc-energy()-Y     0.021101\n",
       "..                                  ...          ...\n",
       "556  fBodyAccJerk-bandsEnergy()-57,64.2     0.000128\n",
       "557               tBodyGyroJerk-min()-Y     0.000104\n",
       "558     fBodyGyro-bandsEnergy()-49,56.1     0.000103\n",
       "559          tBodyAccJerk-arCoeff()-Y,3     0.000100\n",
       "560                   tBodyAcc-mean()-X     0.000099\n",
       "\n",
       "[561 rows x 2 columns]"
      ]
     },
     "execution_count": 1610,
     "metadata": {},
     "output_type": "execute_result"
    }
   ],
   "source": [
    "df9.to_csv('df_feature_imp9.csv',index=False)\n",
    "df_feature_imp9=pd.read_csv('df_feature_imp9.csv')\n",
    "df_feature_imp9"
   ]
  },
  {
   "cell_type": "code",
   "execution_count": null,
   "metadata": {},
   "outputs": [],
   "source": []
  },
  {
   "cell_type": "markdown",
   "metadata": {
    "id": "_Gb2llAE8n6X"
   },
   "source": [
    "#### 4) feature 그룹별 분석"
   ]
  },
  {
   "cell_type": "markdown",
   "metadata": {
    "id": "GmKFgqqG8n6X"
   },
   "source": [
    "* 결과 merge"
   ]
  },
  {
   "cell_type": "code",
   "execution_count": 1611,
   "metadata": {
    "colab": {
     "base_uri": "https://localhost:8080/",
     "height": 221
    },
    "executionInfo": {
     "elapsed": 17,
     "status": "ok",
     "timestamp": 1682560476417,
     "user": {
      "displayName": "허신 - Business Intelligence",
      "userId": "11511914061488776232"
     },
     "user_tz": -540
    },
    "id": "btQUUEK58n6X",
    "outputId": "03c89cb8-feeb-40e3-bc78-1a8202f2e339"
   },
   "outputs": [
    {
     "data": {
      "text/html": [
       "<div>\n",
       "<style scoped>\n",
       "    .dataframe tbody tr th:only-of-type {\n",
       "        vertical-align: middle;\n",
       "    }\n",
       "\n",
       "    .dataframe tbody tr th {\n",
       "        vertical-align: top;\n",
       "    }\n",
       "\n",
       "    .dataframe thead th {\n",
       "        text-align: right;\n",
       "    }\n",
       "</style>\n",
       "<table border=\"1\" class=\"dataframe\">\n",
       "  <thead>\n",
       "    <tr style=\"text-align: right;\">\n",
       "      <th></th>\n",
       "      <th>feature</th>\n",
       "      <th>Importances</th>\n",
       "      <th>sensor</th>\n",
       "      <th>agg</th>\n",
       "      <th>axis</th>\n",
       "      <th>feature_name</th>\n",
       "    </tr>\n",
       "  </thead>\n",
       "  <tbody>\n",
       "    <tr>\n",
       "      <th>0</th>\n",
       "      <td>tGravityAcc-max()-Y</td>\n",
       "      <td>0.063916</td>\n",
       "      <td>tGravityAcc</td>\n",
       "      <td>max()</td>\n",
       "      <td>Y</td>\n",
       "      <td>tGravityAcc-max()-Y</td>\n",
       "    </tr>\n",
       "    <tr>\n",
       "      <th>1</th>\n",
       "      <td>tGravityAcc-mean()-Y</td>\n",
       "      <td>0.045459</td>\n",
       "      <td>tGravityAcc</td>\n",
       "      <td>mean()</td>\n",
       "      <td>Y</td>\n",
       "      <td>tGravityAcc-mean()-Y</td>\n",
       "    </tr>\n",
       "    <tr>\n",
       "      <th>2</th>\n",
       "      <td>tGravityAcc-min()-Y</td>\n",
       "      <td>0.039916</td>\n",
       "      <td>tGravityAcc</td>\n",
       "      <td>min()</td>\n",
       "      <td>Y</td>\n",
       "      <td>tGravityAcc-min()-Y</td>\n",
       "    </tr>\n",
       "    <tr>\n",
       "      <th>3</th>\n",
       "      <td>angle(Y,gravityMean)</td>\n",
       "      <td>0.031871</td>\n",
       "      <td>angle</td>\n",
       "      <td>Y</td>\n",
       "      <td>gravityMean</td>\n",
       "      <td>angle(Y,gravityMean)</td>\n",
       "    </tr>\n",
       "    <tr>\n",
       "      <th>4</th>\n",
       "      <td>tGravityAcc-energy()-Y</td>\n",
       "      <td>0.021101</td>\n",
       "      <td>tGravityAcc</td>\n",
       "      <td>energy()</td>\n",
       "      <td>Y</td>\n",
       "      <td>tGravityAcc-energy()-Y</td>\n",
       "    </tr>\n",
       "  </tbody>\n",
       "</table>\n",
       "</div>"
      ],
      "text/plain": [
       "                  feature  Importances       sensor       agg         axis  \\\n",
       "0     tGravityAcc-max()-Y     0.063916  tGravityAcc     max()            Y   \n",
       "1    tGravityAcc-mean()-Y     0.045459  tGravityAcc    mean()            Y   \n",
       "2     tGravityAcc-min()-Y     0.039916  tGravityAcc     min()            Y   \n",
       "3    angle(Y,gravityMean)     0.031871        angle         Y  gravityMean   \n",
       "4  tGravityAcc-energy()-Y     0.021101  tGravityAcc  energy()            Y   \n",
       "\n",
       "             feature_name  \n",
       "0     tGravityAcc-max()-Y  \n",
       "1    tGravityAcc-mean()-Y  \n",
       "2     tGravityAcc-min()-Y  \n",
       "3    angle(Y,gravityMean)  \n",
       "4  tGravityAcc-energy()-Y  "
      ]
     },
     "execution_count": 1611,
     "metadata": {},
     "output_type": "execute_result"
    }
   ],
   "source": [
    "df_feature_imp9.head()\n",
    "df_feature.head()\n",
    "df9 = pd.merge(df_feature_imp9, df_feature, left_on='feature', right_on='feature_name', how='inner')\n",
    "df9.head()"
   ]
  },
  {
   "cell_type": "code",
   "execution_count": 1612,
   "metadata": {},
   "outputs": [
    {
     "data": {
      "text/html": [
       "<div>\n",
       "<style scoped>\n",
       "    .dataframe tbody tr th:only-of-type {\n",
       "        vertical-align: middle;\n",
       "    }\n",
       "\n",
       "    .dataframe tbody tr th {\n",
       "        vertical-align: top;\n",
       "    }\n",
       "\n",
       "    .dataframe thead th {\n",
       "        text-align: right;\n",
       "    }\n",
       "</style>\n",
       "<table border=\"1\" class=\"dataframe\">\n",
       "  <thead>\n",
       "    <tr style=\"text-align: right;\">\n",
       "      <th></th>\n",
       "      <th>feature</th>\n",
       "      <th>Importances</th>\n",
       "      <th>sensor</th>\n",
       "      <th>agg</th>\n",
       "      <th>axis</th>\n",
       "    </tr>\n",
       "  </thead>\n",
       "  <tbody>\n",
       "    <tr>\n",
       "      <th>0</th>\n",
       "      <td>tGravityAcc-max()-Y</td>\n",
       "      <td>0.063916</td>\n",
       "      <td>tGravityAcc</td>\n",
       "      <td>max()</td>\n",
       "      <td>Y</td>\n",
       "    </tr>\n",
       "    <tr>\n",
       "      <th>1</th>\n",
       "      <td>tGravityAcc-mean()-Y</td>\n",
       "      <td>0.045459</td>\n",
       "      <td>tGravityAcc</td>\n",
       "      <td>mean()</td>\n",
       "      <td>Y</td>\n",
       "    </tr>\n",
       "    <tr>\n",
       "      <th>2</th>\n",
       "      <td>tGravityAcc-min()-Y</td>\n",
       "      <td>0.039916</td>\n",
       "      <td>tGravityAcc</td>\n",
       "      <td>min()</td>\n",
       "      <td>Y</td>\n",
       "    </tr>\n",
       "    <tr>\n",
       "      <th>3</th>\n",
       "      <td>angle(Y,gravityMean)</td>\n",
       "      <td>0.031871</td>\n",
       "      <td>angle</td>\n",
       "      <td>Y</td>\n",
       "      <td>gravityMean</td>\n",
       "    </tr>\n",
       "    <tr>\n",
       "      <th>4</th>\n",
       "      <td>tGravityAcc-energy()-Y</td>\n",
       "      <td>0.021101</td>\n",
       "      <td>tGravityAcc</td>\n",
       "      <td>energy()</td>\n",
       "      <td>Y</td>\n",
       "    </tr>\n",
       "  </tbody>\n",
       "</table>\n",
       "</div>"
      ],
      "text/plain": [
       "                  feature  Importances       sensor       agg         axis\n",
       "0     tGravityAcc-max()-Y     0.063916  tGravityAcc     max()            Y\n",
       "1    tGravityAcc-mean()-Y     0.045459  tGravityAcc    mean()            Y\n",
       "2     tGravityAcc-min()-Y     0.039916  tGravityAcc     min()            Y\n",
       "3    angle(Y,gravityMean)     0.031871        angle         Y  gravityMean\n",
       "4  tGravityAcc-energy()-Y     0.021101  tGravityAcc  energy()            Y"
      ]
     },
     "execution_count": 1612,
     "metadata": {},
     "output_type": "execute_result"
    }
   ],
   "source": [
    "df9.drop(['feature_name'], axis=1, inplace=True)\n",
    "df9.head()"
   ]
  },
  {
   "cell_type": "code",
   "execution_count": null,
   "metadata": {},
   "outputs": [],
   "source": []
  },
  {
   "cell_type": "markdown",
   "metadata": {
    "id": "SXopxn8h8n6X"
   },
   "source": [
    "* sensor 별 중요도"
   ]
  },
  {
   "cell_type": "code",
   "execution_count": 1613,
   "metadata": {
    "colab": {
     "base_uri": "https://localhost:8080/",
     "height": 666
    },
    "executionInfo": {
     "elapsed": 16,
     "status": "ok",
     "timestamp": 1682560476417,
     "user": {
      "displayName": "허신 - Business Intelligence",
      "userId": "11511914061488776232"
     },
     "user_tz": -540
    },
    "id": "No4clScz8n6X",
    "outputId": "2a351b5f-3a74-48c4-e847-d2f338d4743e"
   },
   "outputs": [
    {
     "data": {
      "text/html": [
       "<div>\n",
       "<style scoped>\n",
       "    .dataframe tbody tr th:only-of-type {\n",
       "        vertical-align: middle;\n",
       "    }\n",
       "\n",
       "    .dataframe tbody tr th {\n",
       "        vertical-align: top;\n",
       "    }\n",
       "\n",
       "    .dataframe thead th {\n",
       "        text-align: right;\n",
       "    }\n",
       "</style>\n",
       "<table border=\"1\" class=\"dataframe\">\n",
       "  <thead>\n",
       "    <tr style=\"text-align: right;\">\n",
       "      <th></th>\n",
       "      <th>Importances</th>\n",
       "    </tr>\n",
       "    <tr>\n",
       "      <th>sensor</th>\n",
       "      <th></th>\n",
       "    </tr>\n",
       "  </thead>\n",
       "  <tbody>\n",
       "    <tr>\n",
       "      <th>tGravityAcc</th>\n",
       "      <td>0.393807</td>\n",
       "    </tr>\n",
       "    <tr>\n",
       "      <th>fBodyAccJerk</th>\n",
       "      <td>0.091561</td>\n",
       "    </tr>\n",
       "    <tr>\n",
       "      <th>fBodyGyro</th>\n",
       "      <td>0.087277</td>\n",
       "    </tr>\n",
       "    <tr>\n",
       "      <th>fBodyAcc</th>\n",
       "      <td>0.086145</td>\n",
       "    </tr>\n",
       "    <tr>\n",
       "      <th>angle</th>\n",
       "      <td>0.066196</td>\n",
       "    </tr>\n",
       "    <tr>\n",
       "      <th>tBodyGyroJerk</th>\n",
       "      <td>0.047112</td>\n",
       "    </tr>\n",
       "    <tr>\n",
       "      <th>tBodyGyro</th>\n",
       "      <td>0.045334</td>\n",
       "    </tr>\n",
       "    <tr>\n",
       "      <th>tBodyAccJerkMag</th>\n",
       "      <td>0.034145</td>\n",
       "    </tr>\n",
       "    <tr>\n",
       "      <th>tBodyAccJerk</th>\n",
       "      <td>0.033458</td>\n",
       "    </tr>\n",
       "    <tr>\n",
       "      <th>tBodyAcc</th>\n",
       "      <td>0.030708</td>\n",
       "    </tr>\n",
       "  </tbody>\n",
       "</table>\n",
       "</div>"
      ],
      "text/plain": [
       "                 Importances\n",
       "sensor                      \n",
       "tGravityAcc         0.393807\n",
       "fBodyAccJerk        0.091561\n",
       "fBodyGyro           0.087277\n",
       "fBodyAcc            0.086145\n",
       "angle               0.066196\n",
       "tBodyGyroJerk       0.047112\n",
       "tBodyGyro           0.045334\n",
       "tBodyAccJerkMag     0.034145\n",
       "tBodyAccJerk        0.033458\n",
       "tBodyAcc            0.030708"
      ]
     },
     "execution_count": 1613,
     "metadata": {},
     "output_type": "execute_result"
    }
   ],
   "source": [
    "# sensor 별 중요도 합계\n",
    "sorted_df = df9.groupby('sensor')[['Importances']].sum().sort_values(by='Importances', ascending=False)\n",
    "\n",
    "# 상위 변수 그룹별 비교 분석\n",
    "sorted_df[:10]"
   ]
  },
  {
   "cell_type": "markdown",
   "metadata": {
    "id": "dWOhQk_L8n6X"
   },
   "source": [
    "* sensor + agg 별 중요도"
   ]
  },
  {
   "cell_type": "code",
   "execution_count": 1614,
   "metadata": {
    "colab": {
     "base_uri": "https://localhost:8080/",
     "height": 649
    },
    "executionInfo": {
     "elapsed": 16,
     "status": "ok",
     "timestamp": 1682560476417,
     "user": {
      "displayName": "허신 - Business Intelligence",
      "userId": "11511914061488776232"
     },
     "user_tz": -540
    },
    "id": "ilb4IHTy8n6Y",
    "outputId": "1b149c8b-e0a7-4444-a147-78c8714c4153"
   },
   "outputs": [
    {
     "data": {
      "text/html": [
       "<div>\n",
       "<style scoped>\n",
       "    .dataframe tbody tr th:only-of-type {\n",
       "        vertical-align: middle;\n",
       "    }\n",
       "\n",
       "    .dataframe tbody tr th {\n",
       "        vertical-align: top;\n",
       "    }\n",
       "\n",
       "    .dataframe thead th {\n",
       "        text-align: right;\n",
       "    }\n",
       "</style>\n",
       "<table border=\"1\" class=\"dataframe\">\n",
       "  <thead>\n",
       "    <tr style=\"text-align: right;\">\n",
       "      <th></th>\n",
       "      <th></th>\n",
       "      <th>Importances</th>\n",
       "    </tr>\n",
       "    <tr>\n",
       "      <th>sensor</th>\n",
       "      <th>agg</th>\n",
       "      <th></th>\n",
       "    </tr>\n",
       "  </thead>\n",
       "  <tbody>\n",
       "    <tr>\n",
       "      <th rowspan=\"5\" valign=\"top\">tGravityAcc</th>\n",
       "      <th>max()</th>\n",
       "      <td>0.093052</td>\n",
       "    </tr>\n",
       "    <tr>\n",
       "      <th>arCoeff()</th>\n",
       "      <td>0.081855</td>\n",
       "    </tr>\n",
       "    <tr>\n",
       "      <th>min()</th>\n",
       "      <td>0.068601</td>\n",
       "    </tr>\n",
       "    <tr>\n",
       "      <th>mean()</th>\n",
       "      <td>0.067582</td>\n",
       "    </tr>\n",
       "    <tr>\n",
       "      <th>energy()</th>\n",
       "      <td>0.048103</td>\n",
       "    </tr>\n",
       "    <tr>\n",
       "      <th>fBodyAccJerk</th>\n",
       "      <th>bandsEnergy()</th>\n",
       "      <td>0.047423</td>\n",
       "    </tr>\n",
       "    <tr>\n",
       "      <th>fBodyAcc</th>\n",
       "      <th>bandsEnergy()</th>\n",
       "      <td>0.047131</td>\n",
       "    </tr>\n",
       "    <tr>\n",
       "      <th>fBodyGyro</th>\n",
       "      <th>bandsEnergy()</th>\n",
       "      <td>0.038121</td>\n",
       "    </tr>\n",
       "    <tr>\n",
       "      <th rowspan=\"2\" valign=\"top\">angle</th>\n",
       "      <th>Y</th>\n",
       "      <td>0.031871</td>\n",
       "    </tr>\n",
       "    <tr>\n",
       "      <th>Z</th>\n",
       "      <td>0.019889</td>\n",
       "    </tr>\n",
       "  </tbody>\n",
       "</table>\n",
       "</div>"
      ],
      "text/plain": [
       "                            Importances\n",
       "sensor       agg                       \n",
       "tGravityAcc  max()             0.093052\n",
       "             arCoeff()         0.081855\n",
       "             min()             0.068601\n",
       "             mean()            0.067582\n",
       "             energy()          0.048103\n",
       "fBodyAccJerk bandsEnergy()     0.047423\n",
       "fBodyAcc     bandsEnergy()     0.047131\n",
       "fBodyGyro    bandsEnergy()     0.038121\n",
       "angle        Y                 0.031871\n",
       "             Z                 0.019889"
      ]
     },
     "execution_count": 1614,
     "metadata": {},
     "output_type": "execute_result"
    }
   ],
   "source": [
    "# sensor+agge별 중요도 합계\n",
    "sorted_df = df9.groupby(['sensor','agg'])[['Importances']].sum().sort_values(by='Importances', ascending=False)\n",
    "sorted_df[:10]"
   ]
  },
  {
   "cell_type": "code",
   "execution_count": null,
   "metadata": {
    "colab": {
     "base_uri": "https://localhost:8080/",
     "height": 666
    },
    "executionInfo": {
     "elapsed": 15,
     "status": "ok",
     "timestamp": 1682560476417,
     "user": {
      "displayName": "허신 - Business Intelligence",
      "userId": "11511914061488776232"
     },
     "user_tz": -540
    },
    "id": "JVuANx_S8n6Y",
    "outputId": "4879ea3e-5027-46b5-d627-1339ba4d7005"
   },
   "outputs": [],
   "source": []
  },
  {
   "cell_type": "markdown",
   "metadata": {
    "id": "MJgd-Sea9dHm"
   },
   "source": [
    "### (7) 개별 동작 분석 : is_walking_down\n"
   ]
  },
  {
   "cell_type": "markdown",
   "metadata": {
    "id": "1jwbHPfa9dHm"
   },
   "source": [
    "* **세부 요구사항**\n",
    "    - Target인 Activity를 is_walking_down 변수로 변경하시오.\n",
    "        * 값 1 : WALKING_DOWNSTAIRS\n",
    "        * 값 0 : 나머지\n",
    "    - is_walking_down 을 예측하기 위한 기본 모델을 생성하시오.\n",
    "        * x, is_walking_down 을 이용하여 train과 validation으로 데이터 분할\n",
    "        * 기본 모델링\n",
    "    - is_walking_down 을 구분하는데 중요한 변수 상위 5를 분석하시오.\n",
    "    - is_walking_down 을 구분하는데 중요한 변수 그룹을 분석하시오.\n",
    "        * sensor별\n",
    "        * sensor+agg 별\n"
   ]
  },
  {
   "cell_type": "markdown",
   "metadata": {
    "id": "7O8EE3YT9dHm"
   },
   "source": [
    "#### 1) is_walking_down 추가"
   ]
  },
  {
   "cell_type": "code",
   "execution_count": 1615,
   "metadata": {},
   "outputs": [
    {
     "data": {
      "text/plain": [
       "LAYING                1115\n",
       "STANDING              1087\n",
       "SITTING               1032\n",
       "WALKING                998\n",
       "WALKING_UPSTAIRS       858\n",
       "WALKING_DOWNSTAIRS     791\n",
       "Name: Activity, dtype: int64"
      ]
     },
     "execution_count": 1615,
     "metadata": {},
     "output_type": "execute_result"
    }
   ],
   "source": [
    "df_train['Activity'].value_counts()"
   ]
  },
  {
   "cell_type": "code",
   "execution_count": 1616,
   "metadata": {},
   "outputs": [
    {
     "data": {
      "text/plain": [
       "0    5090\n",
       "1     791\n",
       "Name: is_waling_down, dtype: int64"
      ]
     },
     "execution_count": 1616,
     "metadata": {},
     "output_type": "execute_result"
    }
   ],
   "source": [
    "df_train['is_waling_down'] = df_train['Activity'].replace({'STANDING': 0, 'SITTING': 0, 'LAYING': 0, 'WALKING': 0, 'WALKING_UPSTAIRS': 0, 'WALKING_DOWNSTAIRS': 1})\n",
    "df_train['is_waling_down'].value_counts()"
   ]
  },
  {
   "cell_type": "code",
   "execution_count": 1617,
   "metadata": {},
   "outputs": [
    {
     "data": {
      "text/html": [
       "<div>\n",
       "<style scoped>\n",
       "    .dataframe tbody tr th:only-of-type {\n",
       "        vertical-align: middle;\n",
       "    }\n",
       "\n",
       "    .dataframe tbody tr th {\n",
       "        vertical-align: top;\n",
       "    }\n",
       "\n",
       "    .dataframe thead th {\n",
       "        text-align: right;\n",
       "    }\n",
       "</style>\n",
       "<table border=\"1\" class=\"dataframe\">\n",
       "  <thead>\n",
       "    <tr style=\"text-align: right;\">\n",
       "      <th></th>\n",
       "      <th>tBodyAcc-mean()-X</th>\n",
       "      <th>tBodyAcc-mean()-Y</th>\n",
       "      <th>tBodyAcc-mean()-Z</th>\n",
       "      <th>tBodyAcc-std()-X</th>\n",
       "      <th>tBodyAcc-std()-Y</th>\n",
       "      <th>tBodyAcc-std()-Z</th>\n",
       "      <th>tBodyAcc-mad()-X</th>\n",
       "      <th>tBodyAcc-mad()-Y</th>\n",
       "      <th>tBodyAcc-mad()-Z</th>\n",
       "      <th>tBodyAcc-max()-X</th>\n",
       "      <th>...</th>\n",
       "      <th>angle(Y,gravityMean)</th>\n",
       "      <th>angle(Z,gravityMean)</th>\n",
       "      <th>Activity</th>\n",
       "      <th>is_dynamic</th>\n",
       "      <th>is_standing</th>\n",
       "      <th>is_sitting</th>\n",
       "      <th>is_laying</th>\n",
       "      <th>is_walking</th>\n",
       "      <th>is_walking_up</th>\n",
       "      <th>is_waling_down</th>\n",
       "    </tr>\n",
       "  </thead>\n",
       "  <tbody>\n",
       "    <tr>\n",
       "      <th>0</th>\n",
       "      <td>0.288508</td>\n",
       "      <td>-0.009196</td>\n",
       "      <td>-0.103362</td>\n",
       "      <td>-0.988986</td>\n",
       "      <td>-0.962797</td>\n",
       "      <td>-0.967422</td>\n",
       "      <td>-0.989000</td>\n",
       "      <td>-0.962596</td>\n",
       "      <td>-0.965650</td>\n",
       "      <td>-0.929747</td>\n",
       "      <td>...</td>\n",
       "      <td>0.331298</td>\n",
       "      <td>0.165163</td>\n",
       "      <td>STANDING</td>\n",
       "      <td>0</td>\n",
       "      <td>1</td>\n",
       "      <td>0</td>\n",
       "      <td>0</td>\n",
       "      <td>0</td>\n",
       "      <td>1</td>\n",
       "      <td>0</td>\n",
       "    </tr>\n",
       "    <tr>\n",
       "      <th>1</th>\n",
       "      <td>0.265757</td>\n",
       "      <td>-0.016576</td>\n",
       "      <td>-0.098163</td>\n",
       "      <td>-0.989551</td>\n",
       "      <td>-0.994636</td>\n",
       "      <td>-0.987435</td>\n",
       "      <td>-0.990189</td>\n",
       "      <td>-0.993870</td>\n",
       "      <td>-0.987558</td>\n",
       "      <td>-0.937337</td>\n",
       "      <td>...</td>\n",
       "      <td>-0.769186</td>\n",
       "      <td>-0.147944</td>\n",
       "      <td>LAYING</td>\n",
       "      <td>0</td>\n",
       "      <td>0</td>\n",
       "      <td>0</td>\n",
       "      <td>1</td>\n",
       "      <td>0</td>\n",
       "      <td>0</td>\n",
       "      <td>0</td>\n",
       "    </tr>\n",
       "    <tr>\n",
       "      <th>2</th>\n",
       "      <td>0.278709</td>\n",
       "      <td>-0.014511</td>\n",
       "      <td>-0.108717</td>\n",
       "      <td>-0.997720</td>\n",
       "      <td>-0.981088</td>\n",
       "      <td>-0.994008</td>\n",
       "      <td>-0.997934</td>\n",
       "      <td>-0.982187</td>\n",
       "      <td>-0.995017</td>\n",
       "      <td>-0.942584</td>\n",
       "      <td>...</td>\n",
       "      <td>0.202434</td>\n",
       "      <td>-0.032755</td>\n",
       "      <td>STANDING</td>\n",
       "      <td>0</td>\n",
       "      <td>1</td>\n",
       "      <td>0</td>\n",
       "      <td>0</td>\n",
       "      <td>0</td>\n",
       "      <td>1</td>\n",
       "      <td>0</td>\n",
       "    </tr>\n",
       "    <tr>\n",
       "      <th>3</th>\n",
       "      <td>0.289795</td>\n",
       "      <td>-0.035536</td>\n",
       "      <td>-0.150354</td>\n",
       "      <td>-0.231727</td>\n",
       "      <td>-0.006412</td>\n",
       "      <td>-0.338117</td>\n",
       "      <td>-0.273557</td>\n",
       "      <td>0.014245</td>\n",
       "      <td>-0.347916</td>\n",
       "      <td>0.008288</td>\n",
       "      <td>...</td>\n",
       "      <td>0.287154</td>\n",
       "      <td>0.111388</td>\n",
       "      <td>WALKING</td>\n",
       "      <td>1</td>\n",
       "      <td>0</td>\n",
       "      <td>0</td>\n",
       "      <td>0</td>\n",
       "      <td>1</td>\n",
       "      <td>0</td>\n",
       "      <td>0</td>\n",
       "    </tr>\n",
       "    <tr>\n",
       "      <th>4</th>\n",
       "      <td>0.394807</td>\n",
       "      <td>0.034098</td>\n",
       "      <td>0.091229</td>\n",
       "      <td>0.088489</td>\n",
       "      <td>-0.106636</td>\n",
       "      <td>-0.388502</td>\n",
       "      <td>-0.010469</td>\n",
       "      <td>-0.109680</td>\n",
       "      <td>-0.346372</td>\n",
       "      <td>0.584131</td>\n",
       "      <td>...</td>\n",
       "      <td>0.264952</td>\n",
       "      <td>0.137758</td>\n",
       "      <td>WALKING_DOWNSTAIRS</td>\n",
       "      <td>1</td>\n",
       "      <td>0</td>\n",
       "      <td>0</td>\n",
       "      <td>0</td>\n",
       "      <td>0</td>\n",
       "      <td>0</td>\n",
       "      <td>1</td>\n",
       "    </tr>\n",
       "  </tbody>\n",
       "</table>\n",
       "<p>5 rows × 569 columns</p>\n",
       "</div>"
      ],
      "text/plain": [
       "   tBodyAcc-mean()-X  tBodyAcc-mean()-Y  tBodyAcc-mean()-Z  tBodyAcc-std()-X  \\\n",
       "0           0.288508          -0.009196          -0.103362         -0.988986   \n",
       "1           0.265757          -0.016576          -0.098163         -0.989551   \n",
       "2           0.278709          -0.014511          -0.108717         -0.997720   \n",
       "3           0.289795          -0.035536          -0.150354         -0.231727   \n",
       "4           0.394807           0.034098           0.091229          0.088489   \n",
       "\n",
       "   tBodyAcc-std()-Y  tBodyAcc-std()-Z  tBodyAcc-mad()-X  tBodyAcc-mad()-Y  \\\n",
       "0         -0.962797         -0.967422         -0.989000         -0.962596   \n",
       "1         -0.994636         -0.987435         -0.990189         -0.993870   \n",
       "2         -0.981088         -0.994008         -0.997934         -0.982187   \n",
       "3         -0.006412         -0.338117         -0.273557          0.014245   \n",
       "4         -0.106636         -0.388502         -0.010469         -0.109680   \n",
       "\n",
       "   tBodyAcc-mad()-Z  tBodyAcc-max()-X  ...  angle(Y,gravityMean)  \\\n",
       "0         -0.965650         -0.929747  ...              0.331298   \n",
       "1         -0.987558         -0.937337  ...             -0.769186   \n",
       "2         -0.995017         -0.942584  ...              0.202434   \n",
       "3         -0.347916          0.008288  ...              0.287154   \n",
       "4         -0.346372          0.584131  ...              0.264952   \n",
       "\n",
       "   angle(Z,gravityMean)            Activity  is_dynamic  is_standing  \\\n",
       "0              0.165163            STANDING           0            1   \n",
       "1             -0.147944              LAYING           0            0   \n",
       "2             -0.032755            STANDING           0            1   \n",
       "3              0.111388             WALKING           1            0   \n",
       "4              0.137758  WALKING_DOWNSTAIRS           1            0   \n",
       "\n",
       "   is_sitting  is_laying  is_walking  is_walking_up  is_waling_down  \n",
       "0           0          0           0              1               0  \n",
       "1           0          1           0              0               0  \n",
       "2           0          0           0              1               0  \n",
       "3           0          0           1              0               0  \n",
       "4           0          0           0              0               1  \n",
       "\n",
       "[5 rows x 569 columns]"
      ]
     },
     "execution_count": 1617,
     "metadata": {},
     "output_type": "execute_result"
    }
   ],
   "source": [
    "df_train.head()"
   ]
  },
  {
   "cell_type": "code",
   "execution_count": null,
   "metadata": {
    "colab": {
     "base_uri": "https://localhost:8080/"
    },
    "executionInfo": {
     "elapsed": 14,
     "status": "ok",
     "timestamp": 1682560437408,
     "user": {
      "displayName": "허신 - Business Intelligence",
      "userId": "11511914061488776232"
     },
     "user_tz": -540
    },
    "id": "wLXpfaxg9dHn",
    "outputId": "40c5de1b-bab5-465d-c0be-54ca2eec5a8f"
   },
   "outputs": [],
   "source": []
  },
  {
   "cell_type": "markdown",
   "metadata": {
    "id": "gI_QzHCz9dHn"
   },
   "source": [
    "#### 2) 기본모델 생성"
   ]
  },
  {
   "cell_type": "code",
   "execution_count": 1618,
   "metadata": {
    "executionInfo": {
     "elapsed": 14,
     "status": "ok",
     "timestamp": 1682560437408,
     "user": {
      "displayName": "허신 - Business Intelligence",
      "userId": "11511914061488776232"
     },
     "user_tz": -540
    },
    "id": "ogeBdeqe9dHn"
   },
   "outputs": [
    {
     "data": {
      "text/html": [
       "<style>#sk-container-id-66 {color: black;background-color: white;}#sk-container-id-66 pre{padding: 0;}#sk-container-id-66 div.sk-toggleable {background-color: white;}#sk-container-id-66 label.sk-toggleable__label {cursor: pointer;display: block;width: 100%;margin-bottom: 0;padding: 0.3em;box-sizing: border-box;text-align: center;}#sk-container-id-66 label.sk-toggleable__label-arrow:before {content: \"▸\";float: left;margin-right: 0.25em;color: #696969;}#sk-container-id-66 label.sk-toggleable__label-arrow:hover:before {color: black;}#sk-container-id-66 div.sk-estimator:hover label.sk-toggleable__label-arrow:before {color: black;}#sk-container-id-66 div.sk-toggleable__content {max-height: 0;max-width: 0;overflow: hidden;text-align: left;background-color: #f0f8ff;}#sk-container-id-66 div.sk-toggleable__content pre {margin: 0.2em;color: black;border-radius: 0.25em;background-color: #f0f8ff;}#sk-container-id-66 input.sk-toggleable__control:checked~div.sk-toggleable__content {max-height: 200px;max-width: 100%;overflow: auto;}#sk-container-id-66 input.sk-toggleable__control:checked~label.sk-toggleable__label-arrow:before {content: \"▾\";}#sk-container-id-66 div.sk-estimator input.sk-toggleable__control:checked~label.sk-toggleable__label {background-color: #d4ebff;}#sk-container-id-66 div.sk-label input.sk-toggleable__control:checked~label.sk-toggleable__label {background-color: #d4ebff;}#sk-container-id-66 input.sk-hidden--visually {border: 0;clip: rect(1px 1px 1px 1px);clip: rect(1px, 1px, 1px, 1px);height: 1px;margin: -1px;overflow: hidden;padding: 0;position: absolute;width: 1px;}#sk-container-id-66 div.sk-estimator {font-family: monospace;background-color: #f0f8ff;border: 1px dotted black;border-radius: 0.25em;box-sizing: border-box;margin-bottom: 0.5em;}#sk-container-id-66 div.sk-estimator:hover {background-color: #d4ebff;}#sk-container-id-66 div.sk-parallel-item::after {content: \"\";width: 100%;border-bottom: 1px solid gray;flex-grow: 1;}#sk-container-id-66 div.sk-label:hover label.sk-toggleable__label {background-color: #d4ebff;}#sk-container-id-66 div.sk-serial::before {content: \"\";position: absolute;border-left: 1px solid gray;box-sizing: border-box;top: 0;bottom: 0;left: 50%;z-index: 0;}#sk-container-id-66 div.sk-serial {display: flex;flex-direction: column;align-items: center;background-color: white;padding-right: 0.2em;padding-left: 0.2em;position: relative;}#sk-container-id-66 div.sk-item {position: relative;z-index: 1;}#sk-container-id-66 div.sk-parallel {display: flex;align-items: stretch;justify-content: center;background-color: white;position: relative;}#sk-container-id-66 div.sk-item::before, #sk-container-id-66 div.sk-parallel-item::before {content: \"\";position: absolute;border-left: 1px solid gray;box-sizing: border-box;top: 0;bottom: 0;left: 50%;z-index: -1;}#sk-container-id-66 div.sk-parallel-item {display: flex;flex-direction: column;z-index: 1;position: relative;background-color: white;}#sk-container-id-66 div.sk-parallel-item:first-child::after {align-self: flex-end;width: 50%;}#sk-container-id-66 div.sk-parallel-item:last-child::after {align-self: flex-start;width: 50%;}#sk-container-id-66 div.sk-parallel-item:only-child::after {width: 0;}#sk-container-id-66 div.sk-dashed-wrapped {border: 1px dashed gray;margin: 0 0.4em 0.5em 0.4em;box-sizing: border-box;padding-bottom: 0.4em;background-color: white;}#sk-container-id-66 div.sk-label label {font-family: monospace;font-weight: bold;display: inline-block;line-height: 1.2em;}#sk-container-id-66 div.sk-label-container {text-align: center;}#sk-container-id-66 div.sk-container {/* jupyter's `normalize.less` sets `[hidden] { display: none; }` but bootstrap.min.css set `[hidden] { display: none !important; }` so we also need the `!important` here to be able to override the default hidden behavior on the sphinx rendered scikit-learn.org. See: https://github.com/scikit-learn/scikit-learn/issues/21755 */display: inline-block !important;position: relative;}#sk-container-id-66 div.sk-text-repr-fallback {display: none;}</style><div id=\"sk-container-id-66\" class=\"sk-top-container\"><div class=\"sk-text-repr-fallback\"><pre>RandomForestClassifier()</pre><b>In a Jupyter environment, please rerun this cell to show the HTML representation or trust the notebook. <br />On GitHub, the HTML representation is unable to render, please try loading this page with nbviewer.org.</b></div><div class=\"sk-container\" hidden><div class=\"sk-item\"><div class=\"sk-estimator sk-toggleable\"><input class=\"sk-toggleable__control sk-hidden--visually\" id=\"sk-estimator-id-66\" type=\"checkbox\" checked><label for=\"sk-estimator-id-66\" class=\"sk-toggleable__label sk-toggleable__label-arrow\">RandomForestClassifier</label><div class=\"sk-toggleable__content\"><pre>RandomForestClassifier()</pre></div></div></div></div></div>"
      ],
      "text/plain": [
       "RandomForestClassifier()"
      ]
     },
     "execution_count": 1618,
     "metadata": {},
     "output_type": "execute_result"
    }
   ],
   "source": [
    "y = df_train['is_waling_down']\n",
    "\n",
    "from sklearn.model_selection import train_test_split\n",
    "x_train, x_val, y_train, y_val = train_test_split(x, y, test_size=0.3, shuffle=True, random_state=1)\n",
    "\n",
    "\n",
    "from sklearn.ensemble import RandomForestClassifier\n",
    "model10 = RandomForestClassifier()\n",
    "model10.fit(x_train, y_train)"
   ]
  },
  {
   "cell_type": "code",
   "execution_count": null,
   "metadata": {
    "colab": {
     "base_uri": "https://localhost:8080/"
    },
    "executionInfo": {
     "elapsed": 3683,
     "status": "ok",
     "timestamp": 1682560441077,
     "user": {
      "displayName": "허신 - Business Intelligence",
      "userId": "11511914061488776232"
     },
     "user_tz": -540
    },
    "id": "Nmsb79V-9dHn",
    "outputId": "c4d256cc-f9d2-43a9-835e-89246a23f3a8"
   },
   "outputs": [],
   "source": []
  },
  {
   "cell_type": "markdown",
   "metadata": {
    "id": "iaIIPxB09dHn"
   },
   "source": [
    "#### 3) 변수중요도 상위 5개 분석"
   ]
  },
  {
   "cell_type": "code",
   "execution_count": 1619,
   "metadata": {
    "colab": {
     "base_uri": "https://localhost:8080/",
     "height": 1000
    },
    "executionInfo": {
     "elapsed": 11603,
     "status": "ok",
     "timestamp": 1682560452679,
     "user": {
      "displayName": "허신 - Business Intelligence",
      "userId": "11511914061488776232"
     },
     "user_tz": -540
    },
    "id": "qM0H4ow69dHn",
    "outputId": "6407277c-c590-40dc-c6e8-3df49e70007b"
   },
   "outputs": [
    {
     "data": {
      "text/html": [
       "<div>\n",
       "<style scoped>\n",
       "    .dataframe tbody tr th:only-of-type {\n",
       "        vertical-align: middle;\n",
       "    }\n",
       "\n",
       "    .dataframe tbody tr th {\n",
       "        vertical-align: top;\n",
       "    }\n",
       "\n",
       "    .dataframe thead th {\n",
       "        text-align: right;\n",
       "    }\n",
       "</style>\n",
       "<table border=\"1\" class=\"dataframe\">\n",
       "  <thead>\n",
       "    <tr style=\"text-align: right;\">\n",
       "      <th></th>\n",
       "      <th>feature</th>\n",
       "      <th>Importances</th>\n",
       "    </tr>\n",
       "  </thead>\n",
       "  <tbody>\n",
       "    <tr>\n",
       "      <th>504</th>\n",
       "      <td>fBodyAccMag-mad()</td>\n",
       "      <td>0.045067</td>\n",
       "    </tr>\n",
       "    <tr>\n",
       "      <th>215</th>\n",
       "      <td>tGravityAccMag-mad()</td>\n",
       "      <td>0.042512</td>\n",
       "    </tr>\n",
       "    <tr>\n",
       "      <th>271</th>\n",
       "      <td>fBodyAcc-mad()-X</td>\n",
       "      <td>0.038220</td>\n",
       "    </tr>\n",
       "    <tr>\n",
       "      <th>202</th>\n",
       "      <td>tBodyAccMag-mad()</td>\n",
       "      <td>0.036642</td>\n",
       "    </tr>\n",
       "    <tr>\n",
       "      <th>502</th>\n",
       "      <td>fBodyAccMag-mean()</td>\n",
       "      <td>0.034656</td>\n",
       "    </tr>\n",
       "  </tbody>\n",
       "</table>\n",
       "</div>"
      ],
      "text/plain": [
       "                  feature  Importances\n",
       "504     fBodyAccMag-mad()     0.045067\n",
       "215  tGravityAccMag-mad()     0.042512\n",
       "271      fBodyAcc-mad()-X     0.038220\n",
       "202     tBodyAccMag-mad()     0.036642\n",
       "502    fBodyAccMag-mean()     0.034656"
      ]
     },
     "execution_count": 1619,
     "metadata": {},
     "output_type": "execute_result"
    }
   ],
   "source": [
    "df10 = pd.DataFrame()\n",
    "df10['feature'] = list(x)\n",
    "df10['Importances'] = model10.feature_importances_\n",
    "df10.sort_values(by = 'Importances', ascending=False, inplace=True)\n",
    "df10[:5]"
   ]
  },
  {
   "cell_type": "markdown",
   "metadata": {
    "id": "Nthekk_59dHn"
   },
   "source": [
    "* 상위 변수 선정"
   ]
  },
  {
   "cell_type": "code",
   "execution_count": 1620,
   "metadata": {
    "colab": {
     "base_uri": "https://localhost:8080/",
     "height": 221
    },
    "executionInfo": {
     "elapsed": 8,
     "status": "ok",
     "timestamp": 1682560452680,
     "user": {
      "displayName": "허신 - Business Intelligence",
      "userId": "11511914061488776232"
     },
     "user_tz": -540
    },
    "id": "MXi9qonB9dHn",
    "outputId": "291a948d-3bf1-408c-f14e-d070defe6af7"
   },
   "outputs": [
    {
     "data": {
      "text/plain": [
       "['fBodyAccMag-mad()',\n",
       " 'tGravityAccMag-mad()',\n",
       " 'fBodyAcc-mad()-X',\n",
       " 'tBodyAccMag-mad()',\n",
       " 'fBodyAccMag-mean()']"
      ]
     },
     "execution_count": 1620,
     "metadata": {},
     "output_type": "execute_result"
    }
   ],
   "source": [
    "cols=list(df10.iloc[:5,:1]['feature'])\n",
    "cols"
   ]
  },
  {
   "cell_type": "code",
   "execution_count": null,
   "metadata": {},
   "outputs": [],
   "source": []
  },
  {
   "cell_type": "markdown",
   "metadata": {
    "id": "i_17C3kg9dHn"
   },
   "source": [
    "* 데이터 탐색하기"
   ]
  },
  {
   "cell_type": "code",
   "execution_count": 1621,
   "metadata": {
    "executionInfo": {
     "elapsed": 7,
     "status": "ok",
     "timestamp": 1682560452680,
     "user": {
      "displayName": "허신 - Business Intelligence",
      "userId": "11511914061488776232"
     },
     "user_tz": -540
    },
    "id": "M_pKdZdp9dHn"
   },
   "outputs": [
    {
     "data": {
      "text/html": [
       "<div>\n",
       "<style scoped>\n",
       "    .dataframe tbody tr th:only-of-type {\n",
       "        vertical-align: middle;\n",
       "    }\n",
       "\n",
       "    .dataframe tbody tr th {\n",
       "        vertical-align: top;\n",
       "    }\n",
       "\n",
       "    .dataframe thead th {\n",
       "        text-align: right;\n",
       "    }\n",
       "</style>\n",
       "<table border=\"1\" class=\"dataframe\">\n",
       "  <thead>\n",
       "    <tr style=\"text-align: right;\">\n",
       "      <th></th>\n",
       "      <th>feature_name</th>\n",
       "      <th>feature_importance</th>\n",
       "    </tr>\n",
       "  </thead>\n",
       "  <tbody>\n",
       "    <tr>\n",
       "      <th>0</th>\n",
       "      <td>fBodyAccMag-mad()</td>\n",
       "      <td>0.045067</td>\n",
       "    </tr>\n",
       "    <tr>\n",
       "      <th>1</th>\n",
       "      <td>tGravityAccMag-mad()</td>\n",
       "      <td>0.042512</td>\n",
       "    </tr>\n",
       "    <tr>\n",
       "      <th>2</th>\n",
       "      <td>fBodyAcc-mad()-X</td>\n",
       "      <td>0.038220</td>\n",
       "    </tr>\n",
       "    <tr>\n",
       "      <th>3</th>\n",
       "      <td>tBodyAccMag-mad()</td>\n",
       "      <td>0.036642</td>\n",
       "    </tr>\n",
       "    <tr>\n",
       "      <th>4</th>\n",
       "      <td>fBodyAccMag-mean()</td>\n",
       "      <td>0.034656</td>\n",
       "    </tr>\n",
       "  </tbody>\n",
       "</table>\n",
       "</div>"
      ],
      "text/plain": [
       "           feature_name  feature_importance\n",
       "0     fBodyAccMag-mad()            0.045067\n",
       "1  tGravityAccMag-mad()            0.042512\n",
       "2      fBodyAcc-mad()-X            0.038220\n",
       "3     tBodyAccMag-mad()            0.036642\n",
       "4    fBodyAccMag-mean()            0.034656"
      ]
     },
     "execution_count": 1621,
     "metadata": {},
     "output_type": "execute_result"
    },
    {
     "data": {
      "image/png": "[encoded data removed]",
      "text/plain": [
       "<Figure size 720x360 with 1 Axes>"
      ]
     },
     "metadata": {
      "needs_background": "light"
     },
     "output_type": "display_data"
    }
   ],
   "source": [
    "plot_feature_importance(model10.feature_importances_, x_train.columns, topn=5)"
   ]
  },
  {
   "cell_type": "code",
   "execution_count": null,
   "metadata": {
    "colab": {
     "base_uri": "https://localhost:8080/",
     "height": 718
    },
    "executionInfo": {
     "elapsed": 2145,
     "status": "ok",
     "timestamp": 1682560454818,
     "user": {
      "displayName": "허신 - Business Intelligence",
      "userId": "11511914061488776232"
     },
     "user_tz": -540
    },
    "id": "sGMV1ZtO9dHo",
    "outputId": "36e9686a-5d72-4877-8366-6c44769ebaba"
   },
   "outputs": [],
   "source": []
  },
  {
   "cell_type": "code",
   "execution_count": 1622,
   "metadata": {
    "colab": {
     "base_uri": "https://localhost:8080/",
     "height": 718
    },
    "executionInfo": {
     "elapsed": 14,
     "status": "ok",
     "timestamp": 1682560454819,
     "user": {
      "displayName": "허신 - Business Intelligence",
      "userId": "11511914061488776232"
     },
     "user_tz": -540
    },
    "id": "c2_tqHcN9dHo",
    "outputId": "aa70a6e9-68f6-422b-903e-d1571ed3eb1a"
   },
   "outputs": [
    {
     "data": {
      "text/html": [
       "<div>\n",
       "<style scoped>\n",
       "    .dataframe tbody tr th:only-of-type {\n",
       "        vertical-align: middle;\n",
       "    }\n",
       "\n",
       "    .dataframe tbody tr th {\n",
       "        vertical-align: top;\n",
       "    }\n",
       "\n",
       "    .dataframe thead th {\n",
       "        text-align: right;\n",
       "    }\n",
       "</style>\n",
       "<table border=\"1\" class=\"dataframe\">\n",
       "  <thead>\n",
       "    <tr style=\"text-align: right;\">\n",
       "      <th></th>\n",
       "      <th>feature</th>\n",
       "      <th>Importances</th>\n",
       "    </tr>\n",
       "  </thead>\n",
       "  <tbody>\n",
       "    <tr>\n",
       "      <th>0</th>\n",
       "      <td>fBodyAccMag-mad()</td>\n",
       "      <td>0.045067</td>\n",
       "    </tr>\n",
       "    <tr>\n",
       "      <th>1</th>\n",
       "      <td>tGravityAccMag-mad()</td>\n",
       "      <td>0.042512</td>\n",
       "    </tr>\n",
       "    <tr>\n",
       "      <th>2</th>\n",
       "      <td>fBodyAcc-mad()-X</td>\n",
       "      <td>0.038220</td>\n",
       "    </tr>\n",
       "    <tr>\n",
       "      <th>3</th>\n",
       "      <td>tBodyAccMag-mad()</td>\n",
       "      <td>0.036642</td>\n",
       "    </tr>\n",
       "    <tr>\n",
       "      <th>4</th>\n",
       "      <td>fBodyAccMag-mean()</td>\n",
       "      <td>0.034656</td>\n",
       "    </tr>\n",
       "    <tr>\n",
       "      <th>...</th>\n",
       "      <td>...</td>\n",
       "      <td>...</td>\n",
       "    </tr>\n",
       "    <tr>\n",
       "      <th>556</th>\n",
       "      <td>fBodyAcc-entropy()-Y</td>\n",
       "      <td>0.000014</td>\n",
       "    </tr>\n",
       "    <tr>\n",
       "      <th>557</th>\n",
       "      <td>tBodyAccJerk-arCoeff()-Y,1</td>\n",
       "      <td>0.000012</td>\n",
       "    </tr>\n",
       "    <tr>\n",
       "      <th>558</th>\n",
       "      <td>tBodyGyro-arCoeff()-Z,3</td>\n",
       "      <td>0.000011</td>\n",
       "    </tr>\n",
       "    <tr>\n",
       "      <th>559</th>\n",
       "      <td>fBodyAcc-maxInds-Z</td>\n",
       "      <td>0.000000</td>\n",
       "    </tr>\n",
       "    <tr>\n",
       "      <th>560</th>\n",
       "      <td>tBodyAcc-arCoeff()-Y,4</td>\n",
       "      <td>0.000000</td>\n",
       "    </tr>\n",
       "  </tbody>\n",
       "</table>\n",
       "<p>561 rows × 2 columns</p>\n",
       "</div>"
      ],
      "text/plain": [
       "                        feature  Importances\n",
       "0             fBodyAccMag-mad()     0.045067\n",
       "1          tGravityAccMag-mad()     0.042512\n",
       "2              fBodyAcc-mad()-X     0.038220\n",
       "3             tBodyAccMag-mad()     0.036642\n",
       "4            fBodyAccMag-mean()     0.034656\n",
       "..                          ...          ...\n",
       "556        fBodyAcc-entropy()-Y     0.000014\n",
       "557  tBodyAccJerk-arCoeff()-Y,1     0.000012\n",
       "558     tBodyGyro-arCoeff()-Z,3     0.000011\n",
       "559          fBodyAcc-maxInds-Z     0.000000\n",
       "560      tBodyAcc-arCoeff()-Y,4     0.000000\n",
       "\n",
       "[561 rows x 2 columns]"
      ]
     },
     "execution_count": 1622,
     "metadata": {},
     "output_type": "execute_result"
    }
   ],
   "source": [
    "df10.to_csv('df_feature_imp10.csv',index=False)\n",
    "df_feature_imp10=pd.read_csv('df_feature_imp10.csv')\n",
    "df_feature_imp10"
   ]
  },
  {
   "cell_type": "code",
   "execution_count": null,
   "metadata": {},
   "outputs": [],
   "source": []
  },
  {
   "cell_type": "markdown",
   "metadata": {
    "id": "cJCZAfdq9dHo"
   },
   "source": [
    "#### 4) feature 그룹별 분석"
   ]
  },
  {
   "cell_type": "markdown",
   "metadata": {
    "id": "Sj2yDZmj9dHo"
   },
   "source": [
    "* 결과 merge"
   ]
  },
  {
   "cell_type": "code",
   "execution_count": 1623,
   "metadata": {
    "colab": {
     "base_uri": "https://localhost:8080/",
     "height": 221
    },
    "executionInfo": {
     "elapsed": 11,
     "status": "ok",
     "timestamp": 1682560454819,
     "user": {
      "displayName": "허신 - Business Intelligence",
      "userId": "11511914061488776232"
     },
     "user_tz": -540
    },
    "id": "bABUyB4Q9dHp",
    "outputId": "2f2fb760-99c7-4aff-848e-29ce0a7d70a4"
   },
   "outputs": [
    {
     "data": {
      "text/html": [
       "<div>\n",
       "<style scoped>\n",
       "    .dataframe tbody tr th:only-of-type {\n",
       "        vertical-align: middle;\n",
       "    }\n",
       "\n",
       "    .dataframe tbody tr th {\n",
       "        vertical-align: top;\n",
       "    }\n",
       "\n",
       "    .dataframe thead th {\n",
       "        text-align: right;\n",
       "    }\n",
       "</style>\n",
       "<table border=\"1\" class=\"dataframe\">\n",
       "  <thead>\n",
       "    <tr style=\"text-align: right;\">\n",
       "      <th></th>\n",
       "      <th>feature</th>\n",
       "      <th>Importances</th>\n",
       "      <th>sensor</th>\n",
       "      <th>agg</th>\n",
       "      <th>axis</th>\n",
       "      <th>feature_name</th>\n",
       "    </tr>\n",
       "  </thead>\n",
       "  <tbody>\n",
       "    <tr>\n",
       "      <th>0</th>\n",
       "      <td>fBodyAccMag-mad()</td>\n",
       "      <td>0.045067</td>\n",
       "      <td>fBodyAccMag</td>\n",
       "      <td>mad()</td>\n",
       "      <td>NaN</td>\n",
       "      <td>fBodyAccMag-mad()</td>\n",
       "    </tr>\n",
       "    <tr>\n",
       "      <th>1</th>\n",
       "      <td>tGravityAccMag-mad()</td>\n",
       "      <td>0.042512</td>\n",
       "      <td>tGravityAccMag</td>\n",
       "      <td>mad()</td>\n",
       "      <td>NaN</td>\n",
       "      <td>tGravityAccMag-mad()</td>\n",
       "    </tr>\n",
       "    <tr>\n",
       "      <th>2</th>\n",
       "      <td>fBodyAcc-mad()-X</td>\n",
       "      <td>0.038220</td>\n",
       "      <td>fBodyAcc</td>\n",
       "      <td>mad()</td>\n",
       "      <td>X</td>\n",
       "      <td>fBodyAcc-mad()-X</td>\n",
       "    </tr>\n",
       "    <tr>\n",
       "      <th>3</th>\n",
       "      <td>tBodyAccMag-mad()</td>\n",
       "      <td>0.036642</td>\n",
       "      <td>tBodyAccMag</td>\n",
       "      <td>mad()</td>\n",
       "      <td>NaN</td>\n",
       "      <td>tBodyAccMag-mad()</td>\n",
       "    </tr>\n",
       "    <tr>\n",
       "      <th>4</th>\n",
       "      <td>fBodyAccMag-mean()</td>\n",
       "      <td>0.034656</td>\n",
       "      <td>fBodyAccMag</td>\n",
       "      <td>mean()</td>\n",
       "      <td>NaN</td>\n",
       "      <td>fBodyAccMag-mean()</td>\n",
       "    </tr>\n",
       "  </tbody>\n",
       "</table>\n",
       "</div>"
      ],
      "text/plain": [
       "                feature  Importances          sensor     agg axis  \\\n",
       "0     fBodyAccMag-mad()     0.045067     fBodyAccMag   mad()  NaN   \n",
       "1  tGravityAccMag-mad()     0.042512  tGravityAccMag   mad()  NaN   \n",
       "2      fBodyAcc-mad()-X     0.038220        fBodyAcc   mad()    X   \n",
       "3     tBodyAccMag-mad()     0.036642     tBodyAccMag   mad()  NaN   \n",
       "4    fBodyAccMag-mean()     0.034656     fBodyAccMag  mean()  NaN   \n",
       "\n",
       "           feature_name  \n",
       "0     fBodyAccMag-mad()  \n",
       "1  tGravityAccMag-mad()  \n",
       "2      fBodyAcc-mad()-X  \n",
       "3     tBodyAccMag-mad()  \n",
       "4    fBodyAccMag-mean()  "
      ]
     },
     "execution_count": 1623,
     "metadata": {},
     "output_type": "execute_result"
    }
   ],
   "source": [
    "df_feature_imp10.head()\n",
    "df_feature.head()\n",
    "df10 = pd.merge(df_feature_imp10, df_feature, left_on='feature', right_on='feature_name', how='inner')\n",
    "df10.head()"
   ]
  },
  {
   "cell_type": "code",
   "execution_count": 1624,
   "metadata": {},
   "outputs": [
    {
     "data": {
      "text/html": [
       "<div>\n",
       "<style scoped>\n",
       "    .dataframe tbody tr th:only-of-type {\n",
       "        vertical-align: middle;\n",
       "    }\n",
       "\n",
       "    .dataframe tbody tr th {\n",
       "        vertical-align: top;\n",
       "    }\n",
       "\n",
       "    .dataframe thead th {\n",
       "        text-align: right;\n",
       "    }\n",
       "</style>\n",
       "<table border=\"1\" class=\"dataframe\">\n",
       "  <thead>\n",
       "    <tr style=\"text-align: right;\">\n",
       "      <th></th>\n",
       "      <th>feature</th>\n",
       "      <th>Importances</th>\n",
       "      <th>sensor</th>\n",
       "      <th>agg</th>\n",
       "      <th>axis</th>\n",
       "    </tr>\n",
       "  </thead>\n",
       "  <tbody>\n",
       "    <tr>\n",
       "      <th>0</th>\n",
       "      <td>fBodyAccMag-mad()</td>\n",
       "      <td>0.045067</td>\n",
       "      <td>fBodyAccMag</td>\n",
       "      <td>mad()</td>\n",
       "      <td>NaN</td>\n",
       "    </tr>\n",
       "    <tr>\n",
       "      <th>1</th>\n",
       "      <td>tGravityAccMag-mad()</td>\n",
       "      <td>0.042512</td>\n",
       "      <td>tGravityAccMag</td>\n",
       "      <td>mad()</td>\n",
       "      <td>NaN</td>\n",
       "    </tr>\n",
       "    <tr>\n",
       "      <th>2</th>\n",
       "      <td>fBodyAcc-mad()-X</td>\n",
       "      <td>0.038220</td>\n",
       "      <td>fBodyAcc</td>\n",
       "      <td>mad()</td>\n",
       "      <td>X</td>\n",
       "    </tr>\n",
       "    <tr>\n",
       "      <th>3</th>\n",
       "      <td>tBodyAccMag-mad()</td>\n",
       "      <td>0.036642</td>\n",
       "      <td>tBodyAccMag</td>\n",
       "      <td>mad()</td>\n",
       "      <td>NaN</td>\n",
       "    </tr>\n",
       "    <tr>\n",
       "      <th>4</th>\n",
       "      <td>fBodyAccMag-mean()</td>\n",
       "      <td>0.034656</td>\n",
       "      <td>fBodyAccMag</td>\n",
       "      <td>mean()</td>\n",
       "      <td>NaN</td>\n",
       "    </tr>\n",
       "  </tbody>\n",
       "</table>\n",
       "</div>"
      ],
      "text/plain": [
       "                feature  Importances          sensor     agg axis\n",
       "0     fBodyAccMag-mad()     0.045067     fBodyAccMag   mad()  NaN\n",
       "1  tGravityAccMag-mad()     0.042512  tGravityAccMag   mad()  NaN\n",
       "2      fBodyAcc-mad()-X     0.038220        fBodyAcc   mad()    X\n",
       "3     tBodyAccMag-mad()     0.036642     tBodyAccMag   mad()  NaN\n",
       "4    fBodyAccMag-mean()     0.034656     fBodyAccMag  mean()  NaN"
      ]
     },
     "execution_count": 1624,
     "metadata": {},
     "output_type": "execute_result"
    }
   ],
   "source": [
    "df10.drop(['feature_name'], axis=1, inplace=True)\n",
    "df10.head()"
   ]
  },
  {
   "cell_type": "code",
   "execution_count": null,
   "metadata": {},
   "outputs": [],
   "source": []
  },
  {
   "cell_type": "markdown",
   "metadata": {
    "id": "AKilLuwy9dHp"
   },
   "source": [
    "* sensor 별 중요도"
   ]
  },
  {
   "cell_type": "code",
   "execution_count": 1625,
   "metadata": {
    "colab": {
     "base_uri": "https://localhost:8080/",
     "height": 666
    },
    "executionInfo": {
     "elapsed": 11,
     "status": "ok",
     "timestamp": 1682560454820,
     "user": {
      "displayName": "허신 - Business Intelligence",
      "userId": "11511914061488776232"
     },
     "user_tz": -540
    },
    "id": "I5_fKeaD9dHp",
    "outputId": "76935182-7fa6-4061-c220-3fb66fd804e9"
   },
   "outputs": [
    {
     "data": {
      "text/html": [
       "<div>\n",
       "<style scoped>\n",
       "    .dataframe tbody tr th:only-of-type {\n",
       "        vertical-align: middle;\n",
       "    }\n",
       "\n",
       "    .dataframe tbody tr th {\n",
       "        vertical-align: top;\n",
       "    }\n",
       "\n",
       "    .dataframe thead th {\n",
       "        text-align: right;\n",
       "    }\n",
       "</style>\n",
       "<table border=\"1\" class=\"dataframe\">\n",
       "  <thead>\n",
       "    <tr style=\"text-align: right;\">\n",
       "      <th></th>\n",
       "      <th>Importances</th>\n",
       "    </tr>\n",
       "    <tr>\n",
       "      <th>sensor</th>\n",
       "      <th></th>\n",
       "    </tr>\n",
       "  </thead>\n",
       "  <tbody>\n",
       "    <tr>\n",
       "      <th>fBodyAcc</th>\n",
       "      <td>0.193609</td>\n",
       "    </tr>\n",
       "    <tr>\n",
       "      <th>fBodyAccMag</th>\n",
       "      <td>0.175918</td>\n",
       "    </tr>\n",
       "    <tr>\n",
       "      <th>tBodyAccMag</th>\n",
       "      <td>0.135072</td>\n",
       "    </tr>\n",
       "    <tr>\n",
       "      <th>tGravityAccMag</th>\n",
       "      <td>0.100168</td>\n",
       "    </tr>\n",
       "    <tr>\n",
       "      <th>tBodyAcc</th>\n",
       "      <td>0.096988</td>\n",
       "    </tr>\n",
       "    <tr>\n",
       "      <th>fBodyAccJerk</th>\n",
       "      <td>0.069679</td>\n",
       "    </tr>\n",
       "    <tr>\n",
       "      <th>tGravityAcc</th>\n",
       "      <td>0.048022</td>\n",
       "    </tr>\n",
       "    <tr>\n",
       "      <th>tBodyAccJerk</th>\n",
       "      <td>0.045903</td>\n",
       "    </tr>\n",
       "    <tr>\n",
       "      <th>fBodyGyro</th>\n",
       "      <td>0.045765</td>\n",
       "    </tr>\n",
       "    <tr>\n",
       "      <th>tBodyGyro</th>\n",
       "      <td>0.024814</td>\n",
       "    </tr>\n",
       "  </tbody>\n",
       "</table>\n",
       "</div>"
      ],
      "text/plain": [
       "                Importances\n",
       "sensor                     \n",
       "fBodyAcc           0.193609\n",
       "fBodyAccMag        0.175918\n",
       "tBodyAccMag        0.135072\n",
       "tGravityAccMag     0.100168\n",
       "tBodyAcc           0.096988\n",
       "fBodyAccJerk       0.069679\n",
       "tGravityAcc        0.048022\n",
       "tBodyAccJerk       0.045903\n",
       "fBodyGyro          0.045765\n",
       "tBodyGyro          0.024814"
      ]
     },
     "execution_count": 1625,
     "metadata": {},
     "output_type": "execute_result"
    }
   ],
   "source": [
    "# sensor 별 중요도 합계\n",
    "sorted_df = df10.groupby('sensor')[['Importances']].sum().sort_values(by='Importances', ascending=False)\n",
    "\n",
    "# 상위 변수 그룹별 비교 분석\n",
    "sorted_df[:10]"
   ]
  },
  {
   "cell_type": "markdown",
   "metadata": {
    "id": "xGlda0cA9dHp"
   },
   "source": [
    "* sensor + agg 별 중요도"
   ]
  },
  {
   "cell_type": "code",
   "execution_count": 1626,
   "metadata": {
    "colab": {
     "base_uri": "https://localhost:8080/",
     "height": 649
    },
    "executionInfo": {
     "elapsed": 2703,
     "status": "ok",
     "timestamp": 1682560457513,
     "user": {
      "displayName": "허신 - Business Intelligence",
      "userId": "11511914061488776232"
     },
     "user_tz": -540
    },
    "id": "iSAe-r5s9dHp",
    "outputId": "11df918a-b23b-4038-ee16-c4868e194b0b"
   },
   "outputs": [
    {
     "data": {
      "text/html": [
       "<div>\n",
       "<style scoped>\n",
       "    .dataframe tbody tr th:only-of-type {\n",
       "        vertical-align: middle;\n",
       "    }\n",
       "\n",
       "    .dataframe tbody tr th {\n",
       "        vertical-align: top;\n",
       "    }\n",
       "\n",
       "    .dataframe thead th {\n",
       "        text-align: right;\n",
       "    }\n",
       "</style>\n",
       "<table border=\"1\" class=\"dataframe\">\n",
       "  <thead>\n",
       "    <tr style=\"text-align: right;\">\n",
       "      <th></th>\n",
       "      <th></th>\n",
       "      <th>Importances</th>\n",
       "    </tr>\n",
       "    <tr>\n",
       "      <th>sensor</th>\n",
       "      <th>agg</th>\n",
       "      <th></th>\n",
       "    </tr>\n",
       "  </thead>\n",
       "  <tbody>\n",
       "    <tr>\n",
       "      <th>fBodyAcc</th>\n",
       "      <th>bandsEnergy()</th>\n",
       "      <td>0.063050</td>\n",
       "    </tr>\n",
       "    <tr>\n",
       "      <th>fBodyAccMag</th>\n",
       "      <th>mad()</th>\n",
       "      <td>0.045067</td>\n",
       "    </tr>\n",
       "    <tr>\n",
       "      <th>tGravityAccMag</th>\n",
       "      <th>mad()</th>\n",
       "      <td>0.042512</td>\n",
       "    </tr>\n",
       "    <tr>\n",
       "      <th>fBodyAccJerk</th>\n",
       "      <th>bandsEnergy()</th>\n",
       "      <td>0.042169</td>\n",
       "    </tr>\n",
       "    <tr>\n",
       "      <th>fBodyAcc</th>\n",
       "      <th>mad()</th>\n",
       "      <td>0.038759</td>\n",
       "    </tr>\n",
       "    <tr>\n",
       "      <th>tBodyAccMag</th>\n",
       "      <th>mad()</th>\n",
       "      <td>0.036642</td>\n",
       "    </tr>\n",
       "    <tr>\n",
       "      <th>fBodyAccMag</th>\n",
       "      <th>mean()</th>\n",
       "      <td>0.034656</td>\n",
       "    </tr>\n",
       "    <tr>\n",
       "      <th>tGravityAccMag</th>\n",
       "      <th>std()</th>\n",
       "      <td>0.031023</td>\n",
       "    </tr>\n",
       "    <tr>\n",
       "      <th>fBodyAccMag</th>\n",
       "      <th>sma()</th>\n",
       "      <td>0.030203</td>\n",
       "    </tr>\n",
       "    <tr>\n",
       "      <th>tBodyAccMag</th>\n",
       "      <th>std()</th>\n",
       "      <td>0.029449</td>\n",
       "    </tr>\n",
       "  </tbody>\n",
       "</table>\n",
       "</div>"
      ],
      "text/plain": [
       "                              Importances\n",
       "sensor         agg                       \n",
       "fBodyAcc       bandsEnergy()     0.063050\n",
       "fBodyAccMag    mad()             0.045067\n",
       "tGravityAccMag mad()             0.042512\n",
       "fBodyAccJerk   bandsEnergy()     0.042169\n",
       "fBodyAcc       mad()             0.038759\n",
       "tBodyAccMag    mad()             0.036642\n",
       "fBodyAccMag    mean()            0.034656\n",
       "tGravityAccMag std()             0.031023\n",
       "fBodyAccMag    sma()             0.030203\n",
       "tBodyAccMag    std()             0.029449"
      ]
     },
     "execution_count": 1626,
     "metadata": {},
     "output_type": "execute_result"
    }
   ],
   "source": [
    "# sensor+agge별 중요도 합계\n",
    "sorted_df = df10.groupby(['sensor','agg'])[['Importances']].sum().sort_values(by='Importances', ascending=False)\n",
    "sorted_df[:10]"
   ]
  },
  {
   "cell_type": "code",
   "execution_count": null,
   "metadata": {
    "colab": {
     "base_uri": "https://localhost:8080/",
     "height": 666
    },
    "executionInfo": {
     "elapsed": 34,
     "status": "ok",
     "timestamp": 1682560457513,
     "user": {
      "displayName": "허신 - Business Intelligence",
      "userId": "11511914061488776232"
     },
     "user_tz": -540
    },
    "id": "Yn9k60Zb9dHp",
    "outputId": "5a98b8cc-bb54-483d-e18a-c40ddca6bcf8"
   },
   "outputs": [],
   "source": []
  },
  {
   "cell_type": "code",
   "execution_count": null,
   "metadata": {},
   "outputs": [],
   "source": []
  },
  {
   "cell_type": "code",
   "execution_count": null,
   "metadata": {},
   "outputs": [],
   "source": []
  },
  {
   "cell_type": "code",
   "execution_count": null,
   "metadata": {},
   "outputs": [],
   "source": []
  },
  {
   "cell_type": "code",
   "execution_count": null,
   "metadata": {},
   "outputs": [],
   "source": []
  },
  {
   "cell_type": "markdown",
   "metadata": {
    "id": "2zqwV3BEBx4E"
   },
   "source": [
    "## 5.특성 중요도 저장하기"
   ]
  },
  {
   "cell_type": "markdown",
   "metadata": {
    "id": "2h6R82t7-PN6"
   },
   "source": [
    "* **세부 요구사항**\n",
    "    - 지금까지 변수 중요도를 다양한 관점에서 뽑고 분석을 해 보았습니다.\n",
    "        - 관점1 : 6개 행동 구분\n",
    "        - 관점2 : 동적, 정적 행동 구분\n",
    "        - 관점3 : Standing 여부 구분\n",
    "        - 관점4 : Sitting 여부 구분\n",
    "        - 관점5 : Laying 여부 구분\n",
    "        - 관점6 : Walking 여부 구분\n",
    "        - 관점7 : Walking_upstairs 여부 구분\n",
    "        - 관점8 : Walking_downstairs 여부 구분\n",
    "    - 모든 관점의 변수 중요도를 하나로 합친 후 저장\n",
    "        - merge를 이용하여 features와 합칩니다.\n",
    "        - joblib 패키지의 dump를 이용하여 결과를 저장합니다."
   ]
  },
  {
   "cell_type": "markdown",
   "metadata": {
    "id": "a96bPONJD21Z"
   },
   "source": [
    "### (1) 하나로 합치기\n",
    "* 합치기 위해서는 중요도 결과에서 feature_importance 칼럼 이름을 수정해야 합니다.\n",
    "* pd.merge를 이용해서 하나씩 합치는 작업을 반복 합니다."
   ]
  },
  {
   "cell_type": "code",
   "execution_count": 1627,
   "metadata": {},
   "outputs": [],
   "source": [
    "df_feature_imp=pd.read_csv('df_feature_imp.csv')\n",
    "df_feature_imp4=pd.read_csv('df_feature_imp4.csv')\n",
    "df_feature_imp5=pd.read_csv('df_feature_imp5.csv')\n",
    "df_feature_imp6=pd.read_csv('df_feature_imp6.csv')\n",
    "df_feature_imp7=pd.read_csv('df_feature_imp7.csv')\n",
    "df_feature_imp8=pd.read_csv('df_feature_imp8.csv')\n",
    "df_feature_imp9=pd.read_csv('df_feature_imp9.csv')\n",
    "df_feature_imp10=pd.read_csv('df_feature_imp10.csv')"
   ]
  },
  {
   "cell_type": "code",
   "execution_count": null,
   "metadata": {},
   "outputs": [],
   "source": []
  },
  {
   "cell_type": "code",
   "execution_count": 1628,
   "metadata": {},
   "outputs": [
    {
     "data": {
      "text/plain": [
       "['df_feature_imp',\n",
       " 'df_feature_imp4',\n",
       " 'df_feature_imp5',\n",
       " 'df_feature_imp6',\n",
       " 'df_feature_imp7',\n",
       " 'df_feature_imp8',\n",
       " 'df_feature_imp9',\n",
       " 'df_feature_imp10']"
      ]
     },
     "execution_count": 1628,
     "metadata": {},
     "output_type": "execute_result"
    }
   ],
   "source": [
    "cols=['df_feature_imp', 'df_feature_imp4', 'df_feature_imp5', 'df_feature_imp6', 'df_feature_imp7', 'df_feature_imp8', 'df_feature_imp9', 'df_feature_imp10']\n",
    "cols"
   ]
  },
  {
   "cell_type": "code",
   "execution_count": null,
   "metadata": {},
   "outputs": [],
   "source": []
  },
  {
   "cell_type": "markdown",
   "metadata": {
    "id": "O10eFjXiEQfR"
   },
   "source": [
    "#### 1) 이름변경"
   ]
  },
  {
   "cell_type": "code",
   "execution_count": 1629,
   "metadata": {
    "executionInfo": {
     "elapsed": 649,
     "status": "ok",
     "timestamp": 1682560509242,
     "user": {
      "displayName": "허신 - Business Intelligence",
      "userId": "11511914061488776232"
     },
     "user_tz": -540
    },
    "id": "F3Dt49RhETJX"
   },
   "outputs": [
    {
     "data": {
      "text/html": [
       "<div>\n",
       "<style scoped>\n",
       "    .dataframe tbody tr th:only-of-type {\n",
       "        vertical-align: middle;\n",
       "    }\n",
       "\n",
       "    .dataframe tbody tr th {\n",
       "        vertical-align: top;\n",
       "    }\n",
       "\n",
       "    .dataframe thead th {\n",
       "        text-align: right;\n",
       "    }\n",
       "</style>\n",
       "<table border=\"1\" class=\"dataframe\">\n",
       "  <thead>\n",
       "    <tr style=\"text-align: right;\">\n",
       "      <th></th>\n",
       "      <th>feature</th>\n",
       "      <th>imp10</th>\n",
       "    </tr>\n",
       "  </thead>\n",
       "  <tbody>\n",
       "    <tr>\n",
       "      <th>0</th>\n",
       "      <td>fBodyAccMag-mad()</td>\n",
       "      <td>0.045067</td>\n",
       "    </tr>\n",
       "    <tr>\n",
       "      <th>1</th>\n",
       "      <td>tGravityAccMag-mad()</td>\n",
       "      <td>0.042512</td>\n",
       "    </tr>\n",
       "    <tr>\n",
       "      <th>2</th>\n",
       "      <td>fBodyAcc-mad()-X</td>\n",
       "      <td>0.038220</td>\n",
       "    </tr>\n",
       "    <tr>\n",
       "      <th>3</th>\n",
       "      <td>tBodyAccMag-mad()</td>\n",
       "      <td>0.036642</td>\n",
       "    </tr>\n",
       "    <tr>\n",
       "      <th>4</th>\n",
       "      <td>fBodyAccMag-mean()</td>\n",
       "      <td>0.034656</td>\n",
       "    </tr>\n",
       "    <tr>\n",
       "      <th>...</th>\n",
       "      <td>...</td>\n",
       "      <td>...</td>\n",
       "    </tr>\n",
       "    <tr>\n",
       "      <th>556</th>\n",
       "      <td>fBodyAcc-entropy()-Y</td>\n",
       "      <td>0.000014</td>\n",
       "    </tr>\n",
       "    <tr>\n",
       "      <th>557</th>\n",
       "      <td>tBodyAccJerk-arCoeff()-Y,1</td>\n",
       "      <td>0.000012</td>\n",
       "    </tr>\n",
       "    <tr>\n",
       "      <th>558</th>\n",
       "      <td>tBodyGyro-arCoeff()-Z,3</td>\n",
       "      <td>0.000011</td>\n",
       "    </tr>\n",
       "    <tr>\n",
       "      <th>559</th>\n",
       "      <td>fBodyAcc-maxInds-Z</td>\n",
       "      <td>0.000000</td>\n",
       "    </tr>\n",
       "    <tr>\n",
       "      <th>560</th>\n",
       "      <td>tBodyAcc-arCoeff()-Y,4</td>\n",
       "      <td>0.000000</td>\n",
       "    </tr>\n",
       "  </tbody>\n",
       "</table>\n",
       "<p>561 rows × 2 columns</p>\n",
       "</div>"
      ],
      "text/plain": [
       "                        feature     imp10\n",
       "0             fBodyAccMag-mad()  0.045067\n",
       "1          tGravityAccMag-mad()  0.042512\n",
       "2              fBodyAcc-mad()-X  0.038220\n",
       "3             tBodyAccMag-mad()  0.036642\n",
       "4            fBodyAccMag-mean()  0.034656\n",
       "..                          ...       ...\n",
       "556        fBodyAcc-entropy()-Y  0.000014\n",
       "557  tBodyAccJerk-arCoeff()-Y,1  0.000012\n",
       "558     tBodyGyro-arCoeff()-Z,3  0.000011\n",
       "559          fBodyAcc-maxInds-Z  0.000000\n",
       "560      tBodyAcc-arCoeff()-Y,4  0.000000\n",
       "\n",
       "[561 rows x 2 columns]"
      ]
     },
     "execution_count": 1629,
     "metadata": {},
     "output_type": "execute_result"
    }
   ],
   "source": [
    "#! 이름변경 imp_activity\n",
    "df_feature_imp.rename(columns={'Importances':'imp'},inplace=True)\n",
    "df_feature_imp4.rename(columns={'Importances':'imp4'},inplace=True)\n",
    "df_feature_imp5.rename(columns={'Importances':'imp5'},inplace=True)\n",
    "df_feature_imp6.rename(columns={'Importances':'imp6'},inplace=True)\n",
    "df_feature_imp7.rename(columns={'Importances':'imp7'},inplace=True)\n",
    "df_feature_imp8.rename(columns={'Importances':'imp8'},inplace=True)\n",
    "df_feature_imp9.rename(columns={'Importances':'imp9'},inplace=True)\n",
    "df_feature_imp10.rename(columns={'Importances':'imp10'},inplace=True)\n",
    "df_feature_imp10"
   ]
  },
  {
   "cell_type": "code",
   "execution_count": null,
   "metadata": {},
   "outputs": [],
   "source": []
  },
  {
   "cell_type": "markdown",
   "metadata": {},
   "source": [
    "#### 2) 합치기"
   ]
  },
  {
   "cell_type": "code",
   "execution_count": 1630,
   "metadata": {},
   "outputs": [
    {
     "data": {
      "text/html": [
       "<div>\n",
       "<style scoped>\n",
       "    .dataframe tbody tr th:only-of-type {\n",
       "        vertical-align: middle;\n",
       "    }\n",
       "\n",
       "    .dataframe tbody tr th {\n",
       "        vertical-align: top;\n",
       "    }\n",
       "\n",
       "    .dataframe thead th {\n",
       "        text-align: right;\n",
       "    }\n",
       "</style>\n",
       "<table border=\"1\" class=\"dataframe\">\n",
       "  <thead>\n",
       "    <tr style=\"text-align: right;\">\n",
       "      <th></th>\n",
       "      <th>sensor</th>\n",
       "      <th>agg</th>\n",
       "      <th>axis</th>\n",
       "      <th>feature_name</th>\n",
       "    </tr>\n",
       "  </thead>\n",
       "  <tbody>\n",
       "    <tr>\n",
       "      <th>0</th>\n",
       "      <td>tBodyAcc</td>\n",
       "      <td>mean()</td>\n",
       "      <td>X</td>\n",
       "      <td>tBodyAcc-mean()-X</td>\n",
       "    </tr>\n",
       "    <tr>\n",
       "      <th>1</th>\n",
       "      <td>tBodyAcc</td>\n",
       "      <td>mean()</td>\n",
       "      <td>Y</td>\n",
       "      <td>tBodyAcc-mean()-Y</td>\n",
       "    </tr>\n",
       "    <tr>\n",
       "      <th>2</th>\n",
       "      <td>tBodyAcc</td>\n",
       "      <td>mean()</td>\n",
       "      <td>Z</td>\n",
       "      <td>tBodyAcc-mean()-Z</td>\n",
       "    </tr>\n",
       "    <tr>\n",
       "      <th>3</th>\n",
       "      <td>tBodyAcc</td>\n",
       "      <td>std()</td>\n",
       "      <td>X</td>\n",
       "      <td>tBodyAcc-std()-X</td>\n",
       "    </tr>\n",
       "    <tr>\n",
       "      <th>4</th>\n",
       "      <td>tBodyAcc</td>\n",
       "      <td>std()</td>\n",
       "      <td>Y</td>\n",
       "      <td>tBodyAcc-std()-Y</td>\n",
       "    </tr>\n",
       "    <tr>\n",
       "      <th>...</th>\n",
       "      <td>...</td>\n",
       "      <td>...</td>\n",
       "      <td>...</td>\n",
       "      <td>...</td>\n",
       "    </tr>\n",
       "    <tr>\n",
       "      <th>556</th>\n",
       "      <td>angle</td>\n",
       "      <td>tBodyGyroMean</td>\n",
       "      <td>gravityMean</td>\n",
       "      <td>angle(tBodyGyroMean,gravityMean)</td>\n",
       "    </tr>\n",
       "    <tr>\n",
       "      <th>557</th>\n",
       "      <td>angle</td>\n",
       "      <td>tBodyGyroJerkMean</td>\n",
       "      <td>gravityMean</td>\n",
       "      <td>angle(tBodyGyroJerkMean,gravityMean)</td>\n",
       "    </tr>\n",
       "    <tr>\n",
       "      <th>558</th>\n",
       "      <td>angle</td>\n",
       "      <td>X</td>\n",
       "      <td>gravityMean</td>\n",
       "      <td>angle(X,gravityMean)</td>\n",
       "    </tr>\n",
       "    <tr>\n",
       "      <th>559</th>\n",
       "      <td>angle</td>\n",
       "      <td>Y</td>\n",
       "      <td>gravityMean</td>\n",
       "      <td>angle(Y,gravityMean)</td>\n",
       "    </tr>\n",
       "    <tr>\n",
       "      <th>560</th>\n",
       "      <td>angle</td>\n",
       "      <td>Z</td>\n",
       "      <td>gravityMean</td>\n",
       "      <td>angle(Z,gravityMean)</td>\n",
       "    </tr>\n",
       "  </tbody>\n",
       "</table>\n",
       "<p>561 rows × 4 columns</p>\n",
       "</div>"
      ],
      "text/plain": [
       "       sensor                agg         axis  \\\n",
       "0    tBodyAcc             mean()            X   \n",
       "1    tBodyAcc             mean()            Y   \n",
       "2    tBodyAcc             mean()            Z   \n",
       "3    tBodyAcc              std()            X   \n",
       "4    tBodyAcc              std()            Y   \n",
       "..        ...                ...          ...   \n",
       "556     angle      tBodyGyroMean  gravityMean   \n",
       "557     angle  tBodyGyroJerkMean  gravityMean   \n",
       "558     angle                  X  gravityMean   \n",
       "559     angle                  Y  gravityMean   \n",
       "560     angle                  Z  gravityMean   \n",
       "\n",
       "                             feature_name  \n",
       "0                       tBodyAcc-mean()-X  \n",
       "1                       tBodyAcc-mean()-Y  \n",
       "2                       tBodyAcc-mean()-Z  \n",
       "3                        tBodyAcc-std()-X  \n",
       "4                        tBodyAcc-std()-Y  \n",
       "..                                    ...  \n",
       "556      angle(tBodyGyroMean,gravityMean)  \n",
       "557  angle(tBodyGyroJerkMean,gravityMean)  \n",
       "558                  angle(X,gravityMean)  \n",
       "559                  angle(Y,gravityMean)  \n",
       "560                  angle(Z,gravityMean)  \n",
       "\n",
       "[561 rows x 4 columns]"
      ]
     },
     "execution_count": 1630,
     "metadata": {},
     "output_type": "execute_result"
    }
   ],
   "source": [
    "df_feature"
   ]
  },
  {
   "cell_type": "code",
   "execution_count": null,
   "metadata": {},
   "outputs": [],
   "source": []
  },
  {
   "cell_type": "code",
   "execution_count": 1631,
   "metadata": {},
   "outputs": [
    {
     "data": {
      "text/html": [
       "<div>\n",
       "<style scoped>\n",
       "    .dataframe tbody tr th:only-of-type {\n",
       "        vertical-align: middle;\n",
       "    }\n",
       "\n",
       "    .dataframe tbody tr th {\n",
       "        vertical-align: top;\n",
       "    }\n",
       "\n",
       "    .dataframe thead th {\n",
       "        text-align: right;\n",
       "    }\n",
       "</style>\n",
       "<table border=\"1\" class=\"dataframe\">\n",
       "  <thead>\n",
       "    <tr style=\"text-align: right;\">\n",
       "      <th></th>\n",
       "      <th>sensor</th>\n",
       "      <th>agg</th>\n",
       "      <th>axis</th>\n",
       "      <th>feature</th>\n",
       "      <th>imp</th>\n",
       "    </tr>\n",
       "  </thead>\n",
       "  <tbody>\n",
       "    <tr>\n",
       "      <th>0</th>\n",
       "      <td>tBodyAcc</td>\n",
       "      <td>mean()</td>\n",
       "      <td>X</td>\n",
       "      <td>tBodyAcc-mean()-X</td>\n",
       "      <td>0.000293</td>\n",
       "    </tr>\n",
       "    <tr>\n",
       "      <th>1</th>\n",
       "      <td>tBodyAcc</td>\n",
       "      <td>mean()</td>\n",
       "      <td>Y</td>\n",
       "      <td>tBodyAcc-mean()-Y</td>\n",
       "      <td>0.000373</td>\n",
       "    </tr>\n",
       "    <tr>\n",
       "      <th>2</th>\n",
       "      <td>tBodyAcc</td>\n",
       "      <td>mean()</td>\n",
       "      <td>Z</td>\n",
       "      <td>tBodyAcc-mean()-Z</td>\n",
       "      <td>0.000242</td>\n",
       "    </tr>\n",
       "    <tr>\n",
       "      <th>3</th>\n",
       "      <td>tBodyAcc</td>\n",
       "      <td>std()</td>\n",
       "      <td>X</td>\n",
       "      <td>tBodyAcc-std()-X</td>\n",
       "      <td>0.006984</td>\n",
       "    </tr>\n",
       "    <tr>\n",
       "      <th>4</th>\n",
       "      <td>tBodyAcc</td>\n",
       "      <td>std()</td>\n",
       "      <td>Y</td>\n",
       "      <td>tBodyAcc-std()-Y</td>\n",
       "      <td>0.000276</td>\n",
       "    </tr>\n",
       "    <tr>\n",
       "      <th>...</th>\n",
       "      <td>...</td>\n",
       "      <td>...</td>\n",
       "      <td>...</td>\n",
       "      <td>...</td>\n",
       "      <td>...</td>\n",
       "    </tr>\n",
       "    <tr>\n",
       "      <th>556</th>\n",
       "      <td>angle</td>\n",
       "      <td>tBodyGyroMean</td>\n",
       "      <td>gravityMean</td>\n",
       "      <td>angle(tBodyGyroMean,gravityMean)</td>\n",
       "      <td>0.000488</td>\n",
       "    </tr>\n",
       "    <tr>\n",
       "      <th>557</th>\n",
       "      <td>angle</td>\n",
       "      <td>tBodyGyroJerkMean</td>\n",
       "      <td>gravityMean</td>\n",
       "      <td>angle(tBodyGyroJerkMean,gravityMean)</td>\n",
       "      <td>0.000448</td>\n",
       "    </tr>\n",
       "    <tr>\n",
       "      <th>558</th>\n",
       "      <td>angle</td>\n",
       "      <td>X</td>\n",
       "      <td>gravityMean</td>\n",
       "      <td>angle(X,gravityMean)</td>\n",
       "      <td>0.024073</td>\n",
       "    </tr>\n",
       "    <tr>\n",
       "      <th>559</th>\n",
       "      <td>angle</td>\n",
       "      <td>Y</td>\n",
       "      <td>gravityMean</td>\n",
       "      <td>angle(Y,gravityMean)</td>\n",
       "      <td>0.033649</td>\n",
       "    </tr>\n",
       "    <tr>\n",
       "      <th>560</th>\n",
       "      <td>angle</td>\n",
       "      <td>Z</td>\n",
       "      <td>gravityMean</td>\n",
       "      <td>angle(Z,gravityMean)</td>\n",
       "      <td>0.008471</td>\n",
       "    </tr>\n",
       "  </tbody>\n",
       "</table>\n",
       "<p>561 rows × 5 columns</p>\n",
       "</div>"
      ],
      "text/plain": [
       "       sensor                agg         axis  \\\n",
       "0    tBodyAcc             mean()            X   \n",
       "1    tBodyAcc             mean()            Y   \n",
       "2    tBodyAcc             mean()            Z   \n",
       "3    tBodyAcc              std()            X   \n",
       "4    tBodyAcc              std()            Y   \n",
       "..        ...                ...          ...   \n",
       "556     angle      tBodyGyroMean  gravityMean   \n",
       "557     angle  tBodyGyroJerkMean  gravityMean   \n",
       "558     angle                  X  gravityMean   \n",
       "559     angle                  Y  gravityMean   \n",
       "560     angle                  Z  gravityMean   \n",
       "\n",
       "                                  feature       imp  \n",
       "0                       tBodyAcc-mean()-X  0.000293  \n",
       "1                       tBodyAcc-mean()-Y  0.000373  \n",
       "2                       tBodyAcc-mean()-Z  0.000242  \n",
       "3                        tBodyAcc-std()-X  0.006984  \n",
       "4                        tBodyAcc-std()-Y  0.000276  \n",
       "..                                    ...       ...  \n",
       "556      angle(tBodyGyroMean,gravityMean)  0.000488  \n",
       "557  angle(tBodyGyroJerkMean,gravityMean)  0.000448  \n",
       "558                  angle(X,gravityMean)  0.024073  \n",
       "559                  angle(Y,gravityMean)  0.033649  \n",
       "560                  angle(Z,gravityMean)  0.008471  \n",
       "\n",
       "[561 rows x 5 columns]"
      ]
     },
     "execution_count": 1631,
     "metadata": {},
     "output_type": "execute_result"
    }
   ],
   "source": [
    "df11 = pd.merge(df_feature, df_feature_imp, left_on='feature_name', right_on='feature', how='inner')\n",
    "df11.drop(['feature_name'], axis=1, inplace=True)\n",
    "df11"
   ]
  },
  {
   "cell_type": "code",
   "execution_count": 1632,
   "metadata": {},
   "outputs": [
    {
     "data": {
      "text/html": [
       "<div>\n",
       "<style scoped>\n",
       "    .dataframe tbody tr th:only-of-type {\n",
       "        vertical-align: middle;\n",
       "    }\n",
       "\n",
       "    .dataframe tbody tr th {\n",
       "        vertical-align: top;\n",
       "    }\n",
       "\n",
       "    .dataframe thead th {\n",
       "        text-align: right;\n",
       "    }\n",
       "</style>\n",
       "<table border=\"1\" class=\"dataframe\">\n",
       "  <thead>\n",
       "    <tr style=\"text-align: right;\">\n",
       "      <th></th>\n",
       "      <th>sensor</th>\n",
       "      <th>agg</th>\n",
       "      <th>axis</th>\n",
       "      <th>feature</th>\n",
       "      <th>imp</th>\n",
       "      <th>imp4</th>\n",
       "      <th>imp5</th>\n",
       "      <th>imp6</th>\n",
       "      <th>imp7</th>\n",
       "      <th>imp8</th>\n",
       "      <th>imp9</th>\n",
       "      <th>imp10</th>\n",
       "    </tr>\n",
       "  </thead>\n",
       "  <tbody>\n",
       "    <tr>\n",
       "      <th>0</th>\n",
       "      <td>tBodyAcc</td>\n",
       "      <td>mean()</td>\n",
       "      <td>X</td>\n",
       "      <td>tBodyAcc-mean()-X</td>\n",
       "      <td>0.000283</td>\n",
       "      <td>0.000000</td>\n",
       "      <td>0.000237</td>\n",
       "      <td>0.000355</td>\n",
       "      <td>0.000103</td>\n",
       "      <td>0.000047</td>\n",
       "      <td>0.000226</td>\n",
       "      <td>0.000144</td>\n",
       "    </tr>\n",
       "    <tr>\n",
       "      <th>1</th>\n",
       "      <td>tBodyAcc</td>\n",
       "      <td>mean()</td>\n",
       "      <td>Y</td>\n",
       "      <td>tBodyAcc-mean()-Y</td>\n",
       "      <td>0.000375</td>\n",
       "      <td>0.000000</td>\n",
       "      <td>0.000373</td>\n",
       "      <td>0.000802</td>\n",
       "      <td>0.000071</td>\n",
       "      <td>0.000027</td>\n",
       "      <td>0.000942</td>\n",
       "      <td>0.000213</td>\n",
       "    </tr>\n",
       "    <tr>\n",
       "      <th>2</th>\n",
       "      <td>tBodyAcc</td>\n",
       "      <td>mean()</td>\n",
       "      <td>Z</td>\n",
       "      <td>tBodyAcc-mean()-Z</td>\n",
       "      <td>0.000169</td>\n",
       "      <td>0.000000</td>\n",
       "      <td>0.000356</td>\n",
       "      <td>0.000348</td>\n",
       "      <td>0.000031</td>\n",
       "      <td>0.000099</td>\n",
       "      <td>0.000664</td>\n",
       "      <td>0.000155</td>\n",
       "    </tr>\n",
       "    <tr>\n",
       "      <th>3</th>\n",
       "      <td>tBodyAcc</td>\n",
       "      <td>std()</td>\n",
       "      <td>X</td>\n",
       "      <td>tBodyAcc-std()-X</td>\n",
       "      <td>0.006005</td>\n",
       "      <td>0.000019</td>\n",
       "      <td>0.004929</td>\n",
       "      <td>0.000873</td>\n",
       "      <td>0.000574</td>\n",
       "      <td>0.010405</td>\n",
       "      <td>0.001171</td>\n",
       "      <td>0.008771</td>\n",
       "    </tr>\n",
       "    <tr>\n",
       "      <th>4</th>\n",
       "      <td>tBodyAcc</td>\n",
       "      <td>std()</td>\n",
       "      <td>Y</td>\n",
       "      <td>tBodyAcc-std()-Y</td>\n",
       "      <td>0.000350</td>\n",
       "      <td>0.000000</td>\n",
       "      <td>0.000076</td>\n",
       "      <td>0.000618</td>\n",
       "      <td>0.000024</td>\n",
       "      <td>0.000304</td>\n",
       "      <td>0.000462</td>\n",
       "      <td>0.000652</td>\n",
       "    </tr>\n",
       "    <tr>\n",
       "      <th>...</th>\n",
       "      <td>...</td>\n",
       "      <td>...</td>\n",
       "      <td>...</td>\n",
       "      <td>...</td>\n",
       "      <td>...</td>\n",
       "      <td>...</td>\n",
       "      <td>...</td>\n",
       "      <td>...</td>\n",
       "      <td>...</td>\n",
       "      <td>...</td>\n",
       "      <td>...</td>\n",
       "      <td>...</td>\n",
       "    </tr>\n",
       "    <tr>\n",
       "      <th>556</th>\n",
       "      <td>angle</td>\n",
       "      <td>tBodyGyroMean</td>\n",
       "      <td>gravityMean</td>\n",
       "      <td>angle(tBodyGyroMean,gravityMean)</td>\n",
       "      <td>0.000544</td>\n",
       "      <td>0.000000</td>\n",
       "      <td>0.000717</td>\n",
       "      <td>0.001150</td>\n",
       "      <td>0.000015</td>\n",
       "      <td>0.000328</td>\n",
       "      <td>0.000879</td>\n",
       "      <td>0.000578</td>\n",
       "    </tr>\n",
       "    <tr>\n",
       "      <th>557</th>\n",
       "      <td>angle</td>\n",
       "      <td>tBodyGyroJerkMean</td>\n",
       "      <td>gravityMean</td>\n",
       "      <td>angle(tBodyGyroJerkMean,gravityMean)</td>\n",
       "      <td>0.000576</td>\n",
       "      <td>0.000000</td>\n",
       "      <td>0.003163</td>\n",
       "      <td>0.001425</td>\n",
       "      <td>0.000027</td>\n",
       "      <td>0.000166</td>\n",
       "      <td>0.000844</td>\n",
       "      <td>0.000051</td>\n",
       "    </tr>\n",
       "    <tr>\n",
       "      <th>558</th>\n",
       "      <td>angle</td>\n",
       "      <td>X</td>\n",
       "      <td>gravityMean</td>\n",
       "      <td>angle(X,gravityMean)</td>\n",
       "      <td>0.026346</td>\n",
       "      <td>0.000020</td>\n",
       "      <td>0.018236</td>\n",
       "      <td>0.028717</td>\n",
       "      <td>0.116251</td>\n",
       "      <td>0.002866</td>\n",
       "      <td>0.020683</td>\n",
       "      <td>0.001292</td>\n",
       "    </tr>\n",
       "    <tr>\n",
       "      <th>559</th>\n",
       "      <td>angle</td>\n",
       "      <td>Y</td>\n",
       "      <td>gravityMean</td>\n",
       "      <td>angle(Y,gravityMean)</td>\n",
       "      <td>0.023692</td>\n",
       "      <td>0.000010</td>\n",
       "      <td>0.055001</td>\n",
       "      <td>0.066231</td>\n",
       "      <td>0.051360</td>\n",
       "      <td>0.002967</td>\n",
       "      <td>0.039096</td>\n",
       "      <td>0.002277</td>\n",
       "    </tr>\n",
       "    <tr>\n",
       "      <th>560</th>\n",
       "      <td>angle</td>\n",
       "      <td>Z</td>\n",
       "      <td>gravityMean</td>\n",
       "      <td>angle(Z,gravityMean)</td>\n",
       "      <td>0.006664</td>\n",
       "      <td>0.000010</td>\n",
       "      <td>0.020851</td>\n",
       "      <td>0.020567</td>\n",
       "      <td>0.031184</td>\n",
       "      <td>0.000493</td>\n",
       "      <td>0.022452</td>\n",
       "      <td>0.001281</td>\n",
       "    </tr>\n",
       "  </tbody>\n",
       "</table>\n",
       "<p>561 rows × 12 columns</p>\n",
       "</div>"
      ],
      "text/plain": [
       "       sensor                agg         axis  \\\n",
       "0    tBodyAcc             mean()            X   \n",
       "1    tBodyAcc             mean()            Y   \n",
       "2    tBodyAcc             mean()            Z   \n",
       "3    tBodyAcc              std()            X   \n",
       "4    tBodyAcc              std()            Y   \n",
       "..        ...                ...          ...   \n",
       "556     angle      tBodyGyroMean  gravityMean   \n",
       "557     angle  tBodyGyroJerkMean  gravityMean   \n",
       "558     angle                  X  gravityMean   \n",
       "559     angle                  Y  gravityMean   \n",
       "560     angle                  Z  gravityMean   \n",
       "\n",
       "                                  feature       imp      imp4      imp5  \\\n",
       "0                       tBodyAcc-mean()-X  0.000283  0.000000  0.000237   \n",
       "1                       tBodyAcc-mean()-Y  0.000375  0.000000  0.000373   \n",
       "2                       tBodyAcc-mean()-Z  0.000169  0.000000  0.000356   \n",
       "3                        tBodyAcc-std()-X  0.006005  0.000019  0.004929   \n",
       "4                        tBodyAcc-std()-Y  0.000350  0.000000  0.000076   \n",
       "..                                    ...       ...       ...       ...   \n",
       "556      angle(tBodyGyroMean,gravityMean)  0.000544  0.000000  0.000717   \n",
       "557  angle(tBodyGyroJerkMean,gravityMean)  0.000576  0.000000  0.003163   \n",
       "558                  angle(X,gravityMean)  0.026346  0.000020  0.018236   \n",
       "559                  angle(Y,gravityMean)  0.023692  0.000010  0.055001   \n",
       "560                  angle(Z,gravityMean)  0.006664  0.000010  0.020851   \n",
       "\n",
       "         imp6      imp7      imp8      imp9     imp10  \n",
       "0    0.000355  0.000103  0.000047  0.000226  0.000144  \n",
       "1    0.000802  0.000071  0.000027  0.000942  0.000213  \n",
       "2    0.000348  0.000031  0.000099  0.000664  0.000155  \n",
       "3    0.000873  0.000574  0.010405  0.001171  0.008771  \n",
       "4    0.000618  0.000024  0.000304  0.000462  0.000652  \n",
       "..        ...       ...       ...       ...       ...  \n",
       "556  0.001150  0.000015  0.000328  0.000879  0.000578  \n",
       "557  0.001425  0.000027  0.000166  0.000844  0.000051  \n",
       "558  0.028717  0.116251  0.002866  0.020683  0.001292  \n",
       "559  0.066231  0.051360  0.002967  0.039096  0.002277  \n",
       "560  0.020567  0.031184  0.000493  0.022452  0.001281  \n",
       "\n",
       "[561 rows x 12 columns]"
      ]
     },
     "execution_count": 1632,
     "metadata": {},
     "output_type": "execute_result"
    }
   ],
   "source": [
    "result = pd.merge(df11, df_feature_imp4, on='feature', how='inner')\n",
    "result = pd.merge(result, df_feature_imp5, on='feature', how='inner')\n",
    "result = pd.merge(result, df_feature_imp6, on='feature', how='inner')\n",
    "result = pd.merge(result, df_feature_imp7, on='feature', how='inner')\n",
    "result = pd.merge(result, df_feature_imp8, on='feature', how='inner')\n",
    "result = pd.merge(result, df_feature_imp9, on='feature', how='inner')\n",
    "result = pd.merge(result, df_feature_imp10, on='feature', how='inner')\n",
    "df18"
   ]
  },
  {
   "cell_type": "code",
   "execution_count": null,
   "metadata": {},
   "outputs": [],
   "source": []
  },
  {
   "cell_type": "code",
   "execution_count": null,
   "metadata": {},
   "outputs": [],
   "source": []
  },
  {
   "cell_type": "markdown",
   "metadata": {
    "id": "fQxizopUGMzc"
   },
   "source": [
    "### (2) 저장하기\n",
    "* joblib.dump를 이용하시오.\n",
    "* 저장할 파일의 확장자는 보통 .pkl 입니다."
   ]
  },
  {
   "cell_type": "code",
   "execution_count": null,
   "metadata": {},
   "outputs": [],
   "source": [
    "import joblib"
   ]
  },
  {
   "cell_type": "code",
   "execution_count": 1633,
   "metadata": {
    "colab": {
     "base_uri": "https://localhost:8080/"
    },
    "executionInfo": {
     "elapsed": 756,
     "status": "ok",
     "timestamp": 1682560510541,
     "user": {
      "displayName": "허신 - Business Intelligence",
      "userId": "11511914061488776232"
     },
     "user_tz": -540
    },
    "id": "ZzelwBJ-vaRn",
    "outputId": "a275df36-f7b9-449e-cd9c-356d56b20508"
   },
   "outputs": [
    {
     "data": {
      "text/html": [
       "<div>\n",
       "<style scoped>\n",
       "    .dataframe tbody tr th:only-of-type {\n",
       "        vertical-align: middle;\n",
       "    }\n",
       "\n",
       "    .dataframe tbody tr th {\n",
       "        vertical-align: top;\n",
       "    }\n",
       "\n",
       "    .dataframe thead th {\n",
       "        text-align: right;\n",
       "    }\n",
       "</style>\n",
       "<table border=\"1\" class=\"dataframe\">\n",
       "  <thead>\n",
       "    <tr style=\"text-align: right;\">\n",
       "      <th></th>\n",
       "      <th>sensor</th>\n",
       "      <th>agg</th>\n",
       "      <th>axis</th>\n",
       "      <th>feature</th>\n",
       "      <th>imp</th>\n",
       "      <th>imp4</th>\n",
       "      <th>imp5</th>\n",
       "      <th>imp6</th>\n",
       "      <th>imp7</th>\n",
       "      <th>imp8</th>\n",
       "      <th>imp9</th>\n",
       "      <th>imp10</th>\n",
       "    </tr>\n",
       "  </thead>\n",
       "  <tbody>\n",
       "    <tr>\n",
       "      <th>0</th>\n",
       "      <td>tBodyAcc</td>\n",
       "      <td>mean()</td>\n",
       "      <td>X</td>\n",
       "      <td>tBodyAcc-mean()-X</td>\n",
       "      <td>0.000283</td>\n",
       "      <td>0.000000</td>\n",
       "      <td>0.000237</td>\n",
       "      <td>0.000355</td>\n",
       "      <td>0.000103</td>\n",
       "      <td>0.000047</td>\n",
       "      <td>0.000226</td>\n",
       "      <td>0.000144</td>\n",
       "    </tr>\n",
       "    <tr>\n",
       "      <th>1</th>\n",
       "      <td>tBodyAcc</td>\n",
       "      <td>mean()</td>\n",
       "      <td>Y</td>\n",
       "      <td>tBodyAcc-mean()-Y</td>\n",
       "      <td>0.000375</td>\n",
       "      <td>0.000000</td>\n",
       "      <td>0.000373</td>\n",
       "      <td>0.000802</td>\n",
       "      <td>0.000071</td>\n",
       "      <td>0.000027</td>\n",
       "      <td>0.000942</td>\n",
       "      <td>0.000213</td>\n",
       "    </tr>\n",
       "    <tr>\n",
       "      <th>2</th>\n",
       "      <td>tBodyAcc</td>\n",
       "      <td>mean()</td>\n",
       "      <td>Z</td>\n",
       "      <td>tBodyAcc-mean()-Z</td>\n",
       "      <td>0.000169</td>\n",
       "      <td>0.000000</td>\n",
       "      <td>0.000356</td>\n",
       "      <td>0.000348</td>\n",
       "      <td>0.000031</td>\n",
       "      <td>0.000099</td>\n",
       "      <td>0.000664</td>\n",
       "      <td>0.000155</td>\n",
       "    </tr>\n",
       "    <tr>\n",
       "      <th>3</th>\n",
       "      <td>tBodyAcc</td>\n",
       "      <td>std()</td>\n",
       "      <td>X</td>\n",
       "      <td>tBodyAcc-std()-X</td>\n",
       "      <td>0.006005</td>\n",
       "      <td>0.000019</td>\n",
       "      <td>0.004929</td>\n",
       "      <td>0.000873</td>\n",
       "      <td>0.000574</td>\n",
       "      <td>0.010405</td>\n",
       "      <td>0.001171</td>\n",
       "      <td>0.008771</td>\n",
       "    </tr>\n",
       "    <tr>\n",
       "      <th>4</th>\n",
       "      <td>tBodyAcc</td>\n",
       "      <td>std()</td>\n",
       "      <td>Y</td>\n",
       "      <td>tBodyAcc-std()-Y</td>\n",
       "      <td>0.000350</td>\n",
       "      <td>0.000000</td>\n",
       "      <td>0.000076</td>\n",
       "      <td>0.000618</td>\n",
       "      <td>0.000024</td>\n",
       "      <td>0.000304</td>\n",
       "      <td>0.000462</td>\n",
       "      <td>0.000652</td>\n",
       "    </tr>\n",
       "    <tr>\n",
       "      <th>...</th>\n",
       "      <td>...</td>\n",
       "      <td>...</td>\n",
       "      <td>...</td>\n",
       "      <td>...</td>\n",
       "      <td>...</td>\n",
       "      <td>...</td>\n",
       "      <td>...</td>\n",
       "      <td>...</td>\n",
       "      <td>...</td>\n",
       "      <td>...</td>\n",
       "      <td>...</td>\n",
       "      <td>...</td>\n",
       "    </tr>\n",
       "    <tr>\n",
       "      <th>556</th>\n",
       "      <td>angle</td>\n",
       "      <td>tBodyGyroMean</td>\n",
       "      <td>gravityMean</td>\n",
       "      <td>angle(tBodyGyroMean,gravityMean)</td>\n",
       "      <td>0.000544</td>\n",
       "      <td>0.000000</td>\n",
       "      <td>0.000717</td>\n",
       "      <td>0.001150</td>\n",
       "      <td>0.000015</td>\n",
       "      <td>0.000328</td>\n",
       "      <td>0.000879</td>\n",
       "      <td>0.000578</td>\n",
       "    </tr>\n",
       "    <tr>\n",
       "      <th>557</th>\n",
       "      <td>angle</td>\n",
       "      <td>tBodyGyroJerkMean</td>\n",
       "      <td>gravityMean</td>\n",
       "      <td>angle(tBodyGyroJerkMean,gravityMean)</td>\n",
       "      <td>0.000576</td>\n",
       "      <td>0.000000</td>\n",
       "      <td>0.003163</td>\n",
       "      <td>0.001425</td>\n",
       "      <td>0.000027</td>\n",
       "      <td>0.000166</td>\n",
       "      <td>0.000844</td>\n",
       "      <td>0.000051</td>\n",
       "    </tr>\n",
       "    <tr>\n",
       "      <th>558</th>\n",
       "      <td>angle</td>\n",
       "      <td>X</td>\n",
       "      <td>gravityMean</td>\n",
       "      <td>angle(X,gravityMean)</td>\n",
       "      <td>0.026346</td>\n",
       "      <td>0.000020</td>\n",
       "      <td>0.018236</td>\n",
       "      <td>0.028717</td>\n",
       "      <td>0.116251</td>\n",
       "      <td>0.002866</td>\n",
       "      <td>0.020683</td>\n",
       "      <td>0.001292</td>\n",
       "    </tr>\n",
       "    <tr>\n",
       "      <th>559</th>\n",
       "      <td>angle</td>\n",
       "      <td>Y</td>\n",
       "      <td>gravityMean</td>\n",
       "      <td>angle(Y,gravityMean)</td>\n",
       "      <td>0.023692</td>\n",
       "      <td>0.000010</td>\n",
       "      <td>0.055001</td>\n",
       "      <td>0.066231</td>\n",
       "      <td>0.051360</td>\n",
       "      <td>0.002967</td>\n",
       "      <td>0.039096</td>\n",
       "      <td>0.002277</td>\n",
       "    </tr>\n",
       "    <tr>\n",
       "      <th>560</th>\n",
       "      <td>angle</td>\n",
       "      <td>Z</td>\n",
       "      <td>gravityMean</td>\n",
       "      <td>angle(Z,gravityMean)</td>\n",
       "      <td>0.006664</td>\n",
       "      <td>0.000010</td>\n",
       "      <td>0.020851</td>\n",
       "      <td>0.020567</td>\n",
       "      <td>0.031184</td>\n",
       "      <td>0.000493</td>\n",
       "      <td>0.022452</td>\n",
       "      <td>0.001281</td>\n",
       "    </tr>\n",
       "  </tbody>\n",
       "</table>\n",
       "<p>561 rows × 12 columns</p>\n",
       "</div>"
      ],
      "text/plain": [
       "       sensor                agg         axis  \\\n",
       "0    tBodyAcc             mean()            X   \n",
       "1    tBodyAcc             mean()            Y   \n",
       "2    tBodyAcc             mean()            Z   \n",
       "3    tBodyAcc              std()            X   \n",
       "4    tBodyAcc              std()            Y   \n",
       "..        ...                ...          ...   \n",
       "556     angle      tBodyGyroMean  gravityMean   \n",
       "557     angle  tBodyGyroJerkMean  gravityMean   \n",
       "558     angle                  X  gravityMean   \n",
       "559     angle                  Y  gravityMean   \n",
       "560     angle                  Z  gravityMean   \n",
       "\n",
       "                                  feature       imp      imp4      imp5  \\\n",
       "0                       tBodyAcc-mean()-X  0.000283  0.000000  0.000237   \n",
       "1                       tBodyAcc-mean()-Y  0.000375  0.000000  0.000373   \n",
       "2                       tBodyAcc-mean()-Z  0.000169  0.000000  0.000356   \n",
       "3                        tBodyAcc-std()-X  0.006005  0.000019  0.004929   \n",
       "4                        tBodyAcc-std()-Y  0.000350  0.000000  0.000076   \n",
       "..                                    ...       ...       ...       ...   \n",
       "556      angle(tBodyGyroMean,gravityMean)  0.000544  0.000000  0.000717   \n",
       "557  angle(tBodyGyroJerkMean,gravityMean)  0.000576  0.000000  0.003163   \n",
       "558                  angle(X,gravityMean)  0.026346  0.000020  0.018236   \n",
       "559                  angle(Y,gravityMean)  0.023692  0.000010  0.055001   \n",
       "560                  angle(Z,gravityMean)  0.006664  0.000010  0.020851   \n",
       "\n",
       "         imp6      imp7      imp8      imp9     imp10  \n",
       "0    0.000355  0.000103  0.000047  0.000226  0.000144  \n",
       "1    0.000802  0.000071  0.000027  0.000942  0.000213  \n",
       "2    0.000348  0.000031  0.000099  0.000664  0.000155  \n",
       "3    0.000873  0.000574  0.010405  0.001171  0.008771  \n",
       "4    0.000618  0.000024  0.000304  0.000462  0.000652  \n",
       "..        ...       ...       ...       ...       ...  \n",
       "556  0.001150  0.000015  0.000328  0.000879  0.000578  \n",
       "557  0.001425  0.000027  0.000166  0.000844  0.000051  \n",
       "558  0.028717  0.116251  0.002866  0.020683  0.001292  \n",
       "559  0.066231  0.051360  0.002967  0.039096  0.002277  \n",
       "560  0.020567  0.031184  0.000493  0.022452  0.001281  \n",
       "\n",
       "[561 rows x 12 columns]"
      ]
     },
     "execution_count": 1633,
     "metadata": {},
     "output_type": "execute_result"
    }
   ],
   "source": [
    "#! 추가\n",
    "# df18.to_csv('df_feature_imp_total.pkl',index=False)\n",
    "\n",
    "df18.to_csv('df_feature_imp_total.csv',index=False)\n",
    "df_feature_imp_total=pd.read_csv('df_feature_imp_total.csv')\n",
    "df_feature_imp_total"
   ]
  },
  {
   "cell_type": "code",
   "execution_count": null,
   "metadata": {},
   "outputs": [],
   "source": []
  }
 ],
 "metadata": {
  "colab": {
   "provenance": [],
   "toc_visible": true
  },
  "kernelspec": {
   "display_name": "Python 3 (ipykernel)",
   "language": "python",
   "name": "python3"
  },
  "language_info": {
   "codemirror_mode": {
    "name": "ipython",
    "version": 3
   },
   "file_extension": ".py",
   "mimetype": "text/x-python",
   "name": "python",
   "nbconvert_exporter": "python",
   "pygments_lexer": "ipython3",
   "version": "3.9.7"
  }
 },
 "nbformat": 4,
 "nbformat_minor": 4
}
