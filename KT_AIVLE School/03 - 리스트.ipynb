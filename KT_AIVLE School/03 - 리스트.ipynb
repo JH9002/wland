{
 "cells": [
  {
   "cell_type": "markdown",
   "metadata": {
    "id": "b3TDAdnvnSbh"
   },
   "source": [
    "<center><img src='https://raw.githubusercontent.com/Jangrae/img/master/title4.png' width=500/></center>"
   ]
  },
  {
   "cell_type": "markdown",
   "metadata": {
    "id": "VHcAusnqwv_K",
    "tags": []
   },
   "source": [
    "# 3.리스트(List) 자료형\n",
    "\n",
    "- 리스트는 여러 값을 묶어서 갖는 컨테이너 자료형 중의 하나입니다.\n",
    "- **대괄호([ ])** 안에 콤마로 구분해 값을 나열하며, 이 값을 **요소**라고 부릅니다.\n",
    "- 이 세상 온갖 데이터(숫자, 문자, 파일, 이미지 등등)가 리스트의 요소가 될 수 있습니다.\n",
    "- 당연히 리스트가 리스트의 요소가 될 수도 있습니다.\n",
    "- Python에서 가장 많이 사용되는 자료형이 리스트라고 생각해도 됩니다."
   ]
  },
  {
   "cell_type": "markdown",
   "metadata": {
    "id": "xJT4d2qlLGhy"
   },
   "source": [
    "**[참고] Python과 괄호**\n",
    "\n",
    "- Python은 여러 값을 묶어서 가질 수 있는 **컨테이너 자료형**을 제공합니다.\n",
    "- **문자열(String), 리스트(List), 튜플(Tuple), 집합(Set), 딕셔너리(Dictionary)** 가 컨테이너 자료형입니다.\n",
    "- 여러 값을 묶기 위해서는 당연히 **괄호**가 필요합니다.\n",
    "- 어떤 괄호를 사용하는가에 따라 자료형이 결정됩니다.\n",
    "- Python은 우리가 아는 모든 괄호를 다 사용합니다.\n",
    "    - **대괄호**로 값을 묶으면 **리스트**가 됩니다. ex) [1, 2, 3, 4]\n",
    "    - **소괄호**로 묶으면 **튜플**이 됩니다. ex) (1, 2, 3, 4)\n",
    "    - **중괄호**로 묶으면 **집합**이 됩니다. ex) {1, 2, 3, 4}\n",
    "    - 그런데 **딕셔너리**에 사용할 더 이상의 괄호가 없습니다. 그래서..."
   ]
  },
  {
   "cell_type": "markdown",
   "metadata": {
    "id": "6aQMbMnQHzUI"
   },
   "source": [
    "<img src='https://raw.githubusercontent.com/jangrae/img/master/container.png' width=500 align = \"left\"/>"
   ]
  },
  {
   "cell_type": "markdown",
   "metadata": {
    "id": "tqlzU37B4Cr9"
   },
   "source": [
    "## 3.1.일반 변수와 리스트 비교\n",
    "\n",
    "- 일반 변수와 리스트 특징을 비교하면 왜  리스트가 필요한 지 알 수 있습니다."
   ]
  },
  {
   "cell_type": "markdown",
   "metadata": {
    "id": "l3L6bDwMGnqO"
   },
   "source": [
    "**1) 일반 변수**\n",
    "\n",
    "- 일반 변수를 사용한다면 5명 학생 성적을 처리하기 위해 **5개 변수**가 필요합니다.\n",
    "- 50명 학생 성적을 처리한다면 **50개 변수**가 필요합니다."
   ]
  },
  {
   "cell_type": "code",
   "execution_count": 2,
   "metadata": {
    "id": "69Ne6pGSFQpK"
   },
   "outputs": [],
   "source": [
    "# 개별 값을 갖는 기존 변수\n",
    "score1 = 85\n",
    "score2 = 90\n",
    "score3 = 80\n",
    "score4 = 75\n",
    "score5 = 95"
   ]
  },
  {
   "cell_type": "markdown",
   "metadata": {
    "id": "JeigrxSVG2w9"
   },
   "source": [
    "- 합을 구하려면 모든 변수를 다음과 같이 더해야 하니 정말 **번거롭습니다.**\n",
    "- 5개 정도 되니 참고 썼지, 만일 변수가 50개 라면...상상하기 싫습니다.\n",
    "- 5개 값 중에서 최댓값을 구하는 것은 어떻게 해야 할지 모르겠습니다."
   ]
  },
  {
   "cell_type": "code",
   "execution_count": 3,
   "metadata": {
    "id": "Rok8QsLHA4mn"
   },
   "outputs": [
    {
     "data": {
      "text/plain": [
       "425"
      ]
     },
     "execution_count": 3,
     "metadata": {},
     "output_type": "execute_result"
    }
   ],
   "source": [
    "# 변수들의 합\n",
    "score_sum = score1 + score2 + score3 + score4 + score5\n",
    "\n",
    "# 확인\n",
    "score_sum"
   ]
  },
  {
   "cell_type": "markdown",
   "metadata": {
    "id": "8-sYQ8zBjYTi"
   },
   "source": [
    "**2) 리스트**\n",
    "\n",
    "- 리스트를 사용한다면 5명이든 50명이든 학생 성적을 **리스트 하나**로 처리할 수 있습니다."
   ]
  },
  {
   "cell_type": "code",
   "execution_count": 4,
   "metadata": {
    "id": "y0qQdE-XQVlG"
   },
   "outputs": [
    {
     "data": {
      "text/plain": [
       "[85, 95, 80, 75, 95]"
      ]
     },
     "execution_count": 4,
     "metadata": {},
     "output_type": "execute_result"
    }
   ],
   "source": [
    "# 리스트 만들기\n",
    "score = [85, 95, 80, 75, 95]\n",
    "\n",
    "# 확인\n",
    "score"
   ]
  },
  {
   "cell_type": "markdown",
   "metadata": {
    "id": "QQl1K2fJG8FH"
   },
   "source": [
    "- sum() 함수로 합을 **쉽게** 구할 수 있습니다."
   ]
  },
  {
   "cell_type": "code",
   "execution_count": 5,
   "metadata": {
    "id": "08HIOnMUP4qN"
   },
   "outputs": [
    {
     "data": {
      "text/plain": [
       "430"
      ]
     },
     "execution_count": 5,
     "metadata": {},
     "output_type": "execute_result"
    }
   ],
   "source": [
    "# 리스트 요소의 합\n",
    "score_sum = sum(score)\n",
    "\n",
    "# 확인\n",
    "score_sum"
   ]
  },
  {
   "cell_type": "markdown",
   "metadata": {
    "id": "oTfiIL_XHCbJ"
   },
   "source": [
    "- max() 함수로 최댓값을 **쉽게** 구할 수 있습니다."
   ]
  },
  {
   "cell_type": "code",
   "execution_count": 7,
   "metadata": {
    "id": "PkaEdMzDCXR3"
   },
   "outputs": [
    {
     "data": {
      "text/plain": [
       "95"
      ]
     },
     "execution_count": 7,
     "metadata": {},
     "output_type": "execute_result"
    }
   ],
   "source": [
    "# 리스트 요소 중 가장 큰 값\n",
    "score_max = max(score)\n",
    "\n",
    "# 확인\n",
    "score_max"
   ]
  },
  {
   "cell_type": "markdown",
   "metadata": {
    "id": "EKI7qiBtjWSP"
   },
   "source": [
    "## 3.2.리스트 만들기\n",
    "\n",
    "- 값을 대괄호 안에 나열만 하면 되니 리스트 만들기는 쉽습니다."
   ]
  },
  {
   "cell_type": "markdown",
   "metadata": {
    "id": "EmNRUb_X8LYr"
   },
   "source": [
    "### 3.2.1.다양한 형태의 리스트"
   ]
  },
  {
   "cell_type": "markdown",
   "metadata": {
    "id": "bTBoZYrs7fCY"
   },
   "source": [
    "**1) 비어있는 리스트 만들기**\n",
    "\n",
    "- 이후 요소를 받기 위해 비어있는 리스트를 만드는 경우가 있습니다.\n",
    "- list() 함수는 다른 자료형을 리스트로 변환하는 함수입니다."
   ]
  },
  {
   "cell_type": "code",
   "execution_count": 8,
   "metadata": {
    "id": "V7L3uB_fPX3o"
   },
   "outputs": [
    {
     "name": "stdout",
     "output_type": "stream",
     "text": [
      "[]\n",
      "[]\n"
     ]
    }
   ],
   "source": [
    "# 빈 리스트 만들기\n",
    "score1 = []\n",
    "score2 = list()\n",
    "\n",
    "# 확인\n",
    "print(score1)\n",
    "print(score2)"
   ]
  },
  {
   "cell_type": "markdown",
   "metadata": {
    "id": "VPN0uG3VPgZx"
   },
   "source": [
    "**2) 같은 자료형을 요소로 갖는 리스트**\n",
    "\n",
    "- 같은 자료형의 데이터를 요소로 갖는 리스트가 가장 일반적인 리스트 유형입니다.\n",
    "- 문자열에 포함된 문자 개수를 확인했던 len() 함수로 리스트 요소 개수를 확인할 수 있습니다."
   ]
  },
  {
   "cell_type": "code",
   "execution_count": 9,
   "metadata": {
    "id": "dT2EGSLIPgZ0"
   },
   "outputs": [
    {
     "name": "stdout",
     "output_type": "stream",
     "text": [
      "[85, 95, 90, 75]\n",
      "4\n"
     ]
    }
   ],
   "source": [
    "# 리스트 만들기\n",
    "score = [85, 95, 90, 75]\n",
    "\n",
    "# 확인\n",
    "print(score)\n",
    "print(len(score))"
   ]
  },
  {
   "cell_type": "markdown",
   "metadata": {
    "id": "3nzvAydjx7UP"
   },
   "source": [
    "**3) 여러 자료형을 요소로 갖는 리스트**\n",
    "\n",
    "- 여러 자료형의 값을 요소로 갖는 리스트를 만들 수 있습니다."
   ]
  },
  {
   "cell_type": "code",
   "execution_count": 10,
   "metadata": {
    "id": "lm_UxmjSFQpN"
   },
   "outputs": [
    {
     "name": "stdout",
     "output_type": "stream",
     "text": [
      "['홍길동', 85, '한사랑', 95, '일지매', 90, '박여인', 75]\n",
      "8\n"
     ]
    }
   ],
   "source": [
    "# 리스트 만들기\n",
    "member = ['홍길동', 85, '한사랑', 95, '일지매', 90,'박여인', 75]\n",
    "\n",
    "# 확인\n",
    "print(member)\n",
    "print(len(member))"
   ]
  },
  {
   "cell_type": "markdown",
   "metadata": {
    "id": "W4jrvSVk4AzQ"
   },
   "source": [
    "**4) 리스트를 요소로 갖는 리스트**\n",
    "\n",
    "- 리스트를 요소로 갖는 리스트(List of List)를 만들 수 있습니다.\n",
    "- 아래 리스트와 같은 형태를 2차원 리스트라고 부릅니다.\n",
    "- len() 함수로 확인한 요소의 개수는 9가 아니고 3입니다.\n",
    "- 요소 3개씩을 갖는 리스트 3개가 score 리스트의 요소입니다."
   ]
  },
  {
   "cell_type": "code",
   "execution_count": 15,
   "metadata": {
    "id": "VVFeuF8MvM98"
   },
   "outputs": [
    {
     "name": "stdout",
     "output_type": "stream",
     "text": [
      "[[80, 90, 75], [85, 70, 99], [90, 75, 80]]\n",
      "3\n",
      "75\n"
     ]
    }
   ],
   "source": [
    "# 2차원 리스트 만들기\n",
    "score = [[80, 90, 75],\n",
    "         [85, 70, 99],\n",
    "         [90, 75, 80]]\n",
    "\n",
    "# 확인\n",
    "print(score)\n",
    "print(len(score))\n",
    "print(score[2][1])"
   ]
  },
  {
   "cell_type": "markdown",
   "metadata": {
    "id": "S6ycuNmOPopd"
   },
   "source": [
    "### 3.2.2.range() 함수로 리스트 만들기\n",
    "\n",
    "- 다음과 같이 일련의 요소를 직접 나열하는 것은 정말 번거롭습니다.\n",
    "- 혹시 입력하다가 빼먹은 숫자가 없는지 불안하기까지 합니다."
   ]
  },
  {
   "cell_type": "code",
   "execution_count": 16,
   "metadata": {
    "id": "HzigMLJPBF-k"
   },
   "outputs": [
    {
     "data": {
      "text/plain": [
       "[1, 2, 3, 4, 5, 6, 7, 8, 9, 10, 11, 12, 13, 14, 16, 17, 18, 19, 20]"
      ]
     },
     "execution_count": 16,
     "metadata": {},
     "output_type": "execute_result"
    }
   ],
   "source": [
    "# 리스트 만들기\n",
    "nums = [1, 2, 3, 4, 5, 6, 7, 8, 9, 10, 11, 12, 13, 14, 16, 17, 18, 19, 20]\n",
    "\n",
    "# 확인\n",
    "nums"
   ]
  },
  {
   "cell_type": "markdown",
   "metadata": {
    "id": "MtdgpIKgBGkj"
   },
   "source": [
    "\n",
    "- **연속된 정수**로 리스트를 만들 때는 **range()** 함수를 사용하면 편리합니다.\n",
    "- range() 함수로 리스트를 만드는 것이 아니라 이 함수로 얻은 값을 리스트로 변환합니다.\n",
    "- range() 함수는 튜플, 집합, 딕셔너리 등을 만들 때도 사용됩니다."
   ]
  },
  {
   "cell_type": "markdown",
   "metadata": {
    "id": "JwxLhp4tAyUs"
   },
   "source": [
    "**1) 기본 사용법**\n",
    "\n",
    "- **range(*n*)**: 0 부터 n-1 까지의 정수 범위가 됩니다."
   ]
  },
  {
   "cell_type": "code",
   "execution_count": 22,
   "metadata": {
    "id": "YgZ0cR0X8LY0"
   },
   "outputs": [
    {
     "data": {
      "text/plain": [
       "[0, 1, 2, 3, 4, 5, 6, 7, 8, 9, 10, 11, 12, 13, 14, 15, 16, 17, 18, 19]"
      ]
     },
     "execution_count": 22,
     "metadata": {},
     "output_type": "execute_result"
    }
   ],
   "source": [
    "# 0 ~ 9 정수를 요소로 갖는 리스트\n",
    "nums = list(range(20)) #★\n",
    "\n",
    "# 확인\n",
    "nums"
   ]
  },
  {
   "cell_type": "markdown",
   "metadata": {
    "id": "gfzXdiXFM2V1"
   },
   "source": [
    "\n",
    "- **range(*m*, *n*)**: m 부터 n-1 까지의 정수 범위가 됩니다."
   ]
  },
  {
   "cell_type": "code",
   "execution_count": 24,
   "metadata": {
    "id": "Uem_FllPPnN9"
   },
   "outputs": [
    {
     "data": {
      "text/plain": [
       "[0, 1, 2, 3, 4, 5, 6, 7, 8, 9, 10, 11, 12, 13, 14, 15, 16, 17, 18, 19]"
      ]
     },
     "execution_count": 24,
     "metadata": {},
     "output_type": "execute_result"
    }
   ],
   "source": [
    "# 위 결과와 동일\n",
    "nums = list(range(0,20))\n",
    "\n",
    "# 확인\n",
    "nums"
   ]
  },
  {
   "cell_type": "code",
   "execution_count": 31,
   "metadata": {
    "id": "Cu_7n2T1hEVX"
   },
   "outputs": [
    {
     "data": {
      "text/plain": [
       "[-5, -4, -3, -2, -1, 0, 1, 2, 3, 4, 5]"
      ]
     },
     "execution_count": 31,
     "metadata": {},
     "output_type": "execute_result"
    }
   ],
   "source": [
    "# -5 ~ 5 사이 정수를 요소로 갖는 리스트\n",
    "nums = list(range(-5,6))\n",
    "\n",
    "# 확인\n",
    "nums"
   ]
  },
  {
   "cell_type": "markdown",
   "metadata": {
    "id": "nEZr0dyC4uUC"
   },
   "source": [
    "**2) 증가값 지정**\n",
    "\n",
    "- **range(*m, n, x*)**: m 부터 n-1 까지 x 만큼씩 증가하는 정수가 됩니다.\n",
    "- x를 음수로 설정하면 점점 작아지는 일련의 정수를 얻을 수 있습니다."
   ]
  },
  {
   "cell_type": "code",
   "execution_count": 32,
   "metadata": {
    "id": "PZOI8JTc4tvi"
   },
   "outputs": [
    {
     "data": {
      "text/plain": [
       "[0, 2, 4, 6, 8]"
      ]
     },
     "execution_count": 32,
     "metadata": {},
     "output_type": "execute_result"
    }
   ],
   "source": [
    "# 0 ~ 9 사이, 2씩 증가하는 정수를 요소로 갖는 리스트\n",
    "nums = list(range(0,10,2))\n",
    "\n",
    "# 확인\n",
    "nums"
   ]
  },
  {
   "cell_type": "code",
   "execution_count": 27,
   "metadata": {
    "id": "x9st1_HYM2XU"
   },
   "outputs": [
    {
     "data": {
      "text/plain": [
       "[0, 3, 6, 9]"
      ]
     },
     "execution_count": 27,
     "metadata": {},
     "output_type": "execute_result"
    }
   ],
   "source": [
    "# 0 ~ 9 사이, 3씩 증가하는 정수를 요소로 갖는 리스트\n",
    "nums = list(range(0,10,3))\n",
    "\n",
    "# 확인\n",
    "nums"
   ]
  },
  {
   "cell_type": "code",
   "execution_count": 35,
   "metadata": {
    "id": "OJvmrNjrMxiJ"
   },
   "outputs": [
    {
     "data": {
      "text/plain": [
       "[9, 8, 7, 6, 5, 4, 3, 2, 1, 0]"
      ]
     },
     "execution_count": 35,
     "metadata": {},
     "output_type": "execute_result"
    }
   ],
   "source": [
    "# 9 ~ 0 사이, 1씩 감소하는 정수를 요소로 갖는 리스트\n",
    "nums = list(range(9,-1,-1))\n",
    "# nums = list(range(0,10,1))[::-1] # 동일\n",
    "\n",
    "# 확인\n",
    "nums"
   ]
  },
  {
   "cell_type": "code",
   "execution_count": null,
   "metadata": {},
   "outputs": [],
   "source": []
  },
  {
   "cell_type": "markdown",
   "metadata": {
    "id": "-ixv_I614xe-"
   },
   "source": [
    "**[참고] 조금은 낯선 방법**\n",
    "\n",
    "- range() 함수에 지정한 마지막 값이 만들어지는 값에 포함되지 않음이 조금 불편합니다.\n",
    "- 불편한 함수도 계속 사용하다 보면 익숙해 지니 절대 염려하지 마세요.\n",
    "- 마지막 값이 포함되지 않으므로 다음과 같이 사용하는 경우도 있습니다."
   ]
  },
  {
   "cell_type": "code",
   "execution_count": 36,
   "metadata": {
    "id": "f94EZtW75ISe"
   },
   "outputs": [
    {
     "data": {
      "text/plain": [
       "[1, 2, 3, 4, 5, 6, 7, 8, 9, 10]"
      ]
     },
     "execution_count": 36,
     "metadata": {},
     "output_type": "execute_result"
    }
   ],
   "source": [
    "# 1부터 10까지의 정수를 갖는 리스트 만들기\n",
    "nums = list(range(1, 10 + 1))\n",
    "\n",
    "# 확인\n",
    "nums"
   ]
  },
  {
   "cell_type": "markdown",
   "metadata": {
    "id": "CW4CsRNy8LY3"
   },
   "source": [
    "### 3.2.3.문자열로 리스트 만들기\n",
    "\n",
    "- 자주 사용될 기능은 아니지만 문자열의 특징으로 알고 있으면 좋을 것입니다."
   ]
  },
  {
   "cell_type": "code",
   "execution_count": 2,
   "metadata": {
    "id": "6qrjNkSz8LY3"
   },
   "outputs": [
    {
     "data": {
      "text/plain": [
       "'PYTHON'"
      ]
     },
     "execution_count": 2,
     "metadata": {},
     "output_type": "execute_result"
    }
   ],
   "source": [
    "# 단순 문자열\n",
    "var_str = ('PYTHON')\n",
    "\n",
    "# 확인\n",
    "var_str"
   ]
  },
  {
   "cell_type": "code",
   "execution_count": 3,
   "metadata": {
    "id": "Kgiv604vNK57"
   },
   "outputs": [
    {
     "data": {
      "text/plain": [
       "['PYTHON']"
      ]
     },
     "execution_count": 3,
     "metadata": {},
     "output_type": "execute_result"
    }
   ],
   "source": [
    "# 문자열 하나를 요소로 갖는 리스트\n",
    "list_str = ['PYTHON']\n",
    "\n",
    "# 확인\n",
    "list_str"
   ]
  },
  {
   "cell_type": "code",
   "execution_count": 40,
   "metadata": {
    "id": "fNBOQcdNNMb0"
   },
   "outputs": [
    {
     "data": {
      "text/plain": [
       "['P', 'Y', 'T', 'H', 'O', 'N']"
      ]
     },
     "execution_count": 40,
     "metadata": {},
     "output_type": "execute_result"
    }
   ],
   "source": [
    "# 개별 문자를 요소로 갖는 리스트 #1\n",
    "list_str = list('PYTHON') #★\n",
    "\n",
    "# 확인\n",
    "list_str    # ['P', 'Y', 'T', 'H', 'O', 'N']"
   ]
  },
  {
   "cell_type": "code",
   "execution_count": 42,
   "metadata": {
    "id": "A2SW5goaNPru"
   },
   "outputs": [
    {
     "data": {
      "text/plain": [
       "['1', '2', '3', '4', '5', '6', '7', '8', '9']"
      ]
     },
     "execution_count": 42,
     "metadata": {},
     "output_type": "execute_result"
    }
   ],
   "source": [
    "# 개별 문자를 요소로 갖는 리스트 #2\n",
    "list_str = list('123456789')\n",
    "\n",
    "# 확인\n",
    "list_str    # ['1', '2', '3', '4', '5', '6', '7', '8', '9']"
   ]
  },
  {
   "cell_type": "code",
   "execution_count": 4,
   "metadata": {},
   "outputs": [
    {
     "data": {
      "text/plain": [
       "['PY', 'THON']"
      ]
     },
     "execution_count": 4,
     "metadata": {},
     "output_type": "execute_result"
    }
   ],
   "source": [
    "aa='PY THON'\n",
    "aa.split()"
   ]
  },
  {
   "cell_type": "code",
   "execution_count": null,
   "metadata": {},
   "outputs": [],
   "source": []
  },
  {
   "cell_type": "markdown",
   "metadata": {
    "id": "8yJZo2gyQGsl",
    "tags": []
   },
   "source": [
    "## 3.3.리스트 인덱싱(Indexing)\n",
    "\n",
    "- 특정 요소, 즉 리스트 안에서 특정 값을 찾을 때 사용하는 데이터를 **인덱스**라고합니다.\n",
    "- 이러한 인덱스로 특정 요소를 찾는 과정을 **인덱싱**이라고 합니다.\n",
    "- **대괄호**, 즉 **[ ]** 안에 인덱스를 지정합니다.\n",
    "- **0부터 시작**하는 **순방향 인덱스**를 사용해 원하는 위치의 요소를 확인합니다.\n",
    "- 0부터 시작함이 매우 낯설지만 자주 사용해 익숙해져야 합니다.\n",
    "- **역방향 인덱스**는 **-1**부터 시작됩니다..\n",
    "\n",
    "<img src='https://raw.githubusercontent.com/jangrae/img/master/list_indexing.png' width=540 align = \"left\"/>"
   ]
  },
  {
   "cell_type": "code",
   "execution_count": 5,
   "metadata": {
    "id": "8HlzJIPSFQpO",
    "scrolled": true
   },
   "outputs": [
    {
     "data": {
      "text/plain": [
       "'홍길동'"
      ]
     },
     "execution_count": 5,
     "metadata": {},
     "output_type": "execute_result"
    }
   ],
   "source": [
    "# 리스트 만들기\n",
    "member = ['홍길동', 85, '한사랑', 95, '일지매', 90, '박여인', 75]\n",
    "\n",
    "# 인덱싱\n",
    "member[0]\n",
    "\n",
    "\n"
   ]
  },
  {
   "cell_type": "markdown",
   "metadata": {
    "id": "IQ287ldPOamE"
   },
   "source": [
    "- 리스트를 요소로 갖는 리스트에 대한 인덱싱은 다음과 같습니다."
   ]
  },
  {
   "cell_type": "code",
   "execution_count": 7,
   "metadata": {
    "id": "68b-MBUWwMHT"
   },
   "outputs": [
    {
     "data": {
      "text/plain": [
       "[90, 100, 85]"
      ]
     },
     "execution_count": 7,
     "metadata": {},
     "output_type": "execute_result"
    }
   ],
   "source": [
    "# 리스트를 요소로 갖는 리스트\n",
    "score = [80, [90, 100, 85], 85, 90]\n",
    "\n",
    "# 인덱싱\n",
    "\n",
    "score[1]\n",
    "\n",
    "\n"
   ]
  },
  {
   "cell_type": "markdown",
   "metadata": {
    "id": "l-mJjYG9FQpP"
   },
   "source": [
    "## 3.4.리스트 슬라이싱(Slicing)\n",
    "\n",
    "- 인덱스를 사용해 특정 **범위**의 요소를 찾는 과정을 **슬라이싱**이라고 합니다.\n",
    "- 대괄호안에 [m:n] 형태로 범위를 지정하여 요소를 확인합니다.\n",
    "- 인덱스 m 부터 n-1 까지, 즉 **인덱스 n의 요소는 결과에 포함되지 않습니다.**\n",
    "\n",
    "<img src='https://raw.githubusercontent.com/jangrae/img/master/list_indexing.png' width=540 align = \"left\"/>"
   ]
  },
  {
   "cell_type": "code",
   "execution_count": 50,
   "metadata": {
    "id": "SxCJ0jmQFQpS"
   },
   "outputs": [
    {
     "name": "stdout",
     "output_type": "stream",
     "text": [
      "한사랑\n",
      "박여인\n",
      "75\n"
     ]
    }
   ],
   "source": [
    "# 리스트 만들기\n",
    "member = ['홍길동', 85, '한사랑', 95, '일지매', 90,'박여인', 75]\n",
    "\n",
    "\n",
    "print(member[2])\n",
    "print(member[-2])\n",
    "print(member[-1])\n",
    "\n",
    "\n"
   ]
  },
  {
   "cell_type": "code",
   "execution_count": 55,
   "metadata": {},
   "outputs": [
    {
     "name": "stdout",
     "output_type": "stream",
     "text": [
      "['한사랑', 95]\n",
      "['한사랑', 95, '일지매', 90, '박여인', 75]\n"
     ]
    }
   ],
   "source": [
    "# 슬라이싱\n",
    "print(member[2:4])\n",
    "print(member[2:])"
   ]
  },
  {
   "cell_type": "code",
   "execution_count": null,
   "metadata": {},
   "outputs": [],
   "source": []
  },
  {
   "cell_type": "markdown",
   "metadata": {
    "id": "C3j8e6B2OxLT"
   },
   "source": [
    "- 리스트를 요소로 갖는 리스트에 대한 슬라이싱은 다음과 같습니다."
   ]
  },
  {
   "cell_type": "code",
   "execution_count": 57,
   "metadata": {
    "id": "HYND_XGSPICe"
   },
   "outputs": [
    {
     "name": "stdout",
     "output_type": "stream",
     "text": [
      "[80, [90, 100, 85]]\n",
      "85\n",
      "85\n",
      "\n",
      "[80, [90, 100, 85]]\n",
      "[90, 100]\n"
     ]
    }
   ],
   "source": [
    "# 리스트를 요소로 갖는 리스트\n",
    "score = [80, [90, 100, 85], 85, 90]\n",
    "\n",
    "# 슬라이싱\n",
    "print(score[:2])\n",
    "print(score[2])\n",
    "print(score[1][2])\n",
    "print()\n",
    "\n",
    "print(score[:2])\n",
    "print(score[1][:2])"
   ]
  },
  {
   "cell_type": "code",
   "execution_count": null,
   "metadata": {},
   "outputs": [],
   "source": []
  },
  {
   "cell_type": "markdown",
   "metadata": {
    "id": "8qgj8OuGz2y2"
   },
   "source": [
    "<img src='https://raw.githubusercontent.com/jangrae/img/master/practice_01.png' width=120 align = \"left\"/>"
   ]
  },
  {
   "cell_type": "markdown",
   "metadata": {
    "id": "Ebbpf7hhQSGO"
   },
   "source": [
    "[문1] 다음 셀의 코드를 수정해서 원하는 내용이 제대로 출력되게 하세요."
   ]
  },
  {
   "cell_type": "code",
   "execution_count": 58,
   "metadata": {
    "id": "g-mLNR9RQSGb"
   },
   "outputs": [
    {
     "data": {
      "text/plain": [
       "[1, 2, 3, 4, 5, 6, 7, 8, 9, 10]"
      ]
     },
     "execution_count": 58,
     "metadata": {},
     "output_type": "execute_result"
    }
   ],
   "source": [
    "# 1 ~ 10 정수를 갖는 리스트\n",
    "a = list(range(1, 11))\n",
    "\n",
    "# 확인\n",
    "a"
   ]
  },
  {
   "cell_type": "code",
   "execution_count": 59,
   "metadata": {
    "id": "QUtl8Fp8FHkq"
   },
   "outputs": [
    {
     "data": {
      "text/plain": [
       "[2, 4, 6, 8, 10]"
      ]
     },
     "execution_count": 59,
     "metadata": {},
     "output_type": "execute_result"
    }
   ],
   "source": [
    "# 2 ~ 10 짝수를 갖는 리스트\n",
    "b = list(range(2, 11, 2))\n",
    "\n",
    "# 확인\n",
    "b"
   ]
  },
  {
   "cell_type": "code",
   "execution_count": 62,
   "metadata": {
    "id": "J6h6vZJvFI_h"
   },
   "outputs": [
    {
     "data": {
      "text/plain": [
       "[5, 6, 7, 8]"
      ]
     },
     "execution_count": 62,
     "metadata": {},
     "output_type": "execute_result"
    }
   ],
   "source": [
    "# 리스트 a에서 5 ~ 8 정수만 가져와 리스트 c 만들기\n",
    "c = a[4:8]\n",
    "\n",
    "# 확인\n",
    "c"
   ]
  },
  {
   "cell_type": "markdown",
   "metadata": {
    "id": "Jw-kBQPeHzUR"
   },
   "source": [
    "### ※ 대괄호에 주의보!\n",
    "\n",
    "<img src='https://raw.githubusercontent.com/jangrae/img/master/list.png' width=700 align = \"left\"/>"
   ]
  },
  {
   "cell_type": "markdown",
   "metadata": {
    "id": "yMmFHYlBxNP8"
   },
   "source": [
    "## 3.5.리스트 연산\n",
    "\n",
    "- 리스트 연산은 문자열 연산과 같은 결과를 보여줍니다.\n",
    "- **더하기**는 **결합**을, **곱하기**는 **반복**을 의미합니다.\n",
    "- 빼기와 나누기 연산은 불가능합니다."
   ]
  },
  {
   "cell_type": "markdown",
   "metadata": {
    "id": "-4n58nNAn_1y"
   },
   "source": [
    "**1) 리스트 더하기**\n",
    "\n",
    "- 리스트를 더하면 두 리스트가 연결되는 결과를 보입니다."
   ]
  },
  {
   "cell_type": "code",
   "execution_count": 72,
   "metadata": {
    "id": "E-FBnP9ZxPL7"
   },
   "outputs": [
    {
     "data": {
      "text/plain": [
       "[90, 80, 95, 70, 70, 75, 90, 100]"
      ]
     },
     "execution_count": 72,
     "metadata": {},
     "output_type": "execute_result"
    }
   ],
   "source": [
    "# 리스트 만들기\n",
    "score1 = [90, 80, 95, 70]\n",
    "score2 = [70, 75, 90, 100]\n",
    "\n",
    "# 두 리스트 더하기\n",
    "score3 = score1+ score2\n",
    "\n",
    "# 확인\n",
    "score3"
   ]
  },
  {
   "cell_type": "code",
   "execution_count": 73,
   "metadata": {},
   "outputs": [
    {
     "name": "stdout",
     "output_type": "stream",
     "text": [
      "[90 80 95 70]\n",
      "[ 70  75  90 100]\n",
      "[160 155 185 170]\n"
     ]
    }
   ],
   "source": [
    "import numpy as np\n",
    "\n",
    "print(np.array(score1))\n",
    "print(np.array(score2))\n",
    "print(np.array(score1)+np.array(score2))"
   ]
  },
  {
   "cell_type": "code",
   "execution_count": null,
   "metadata": {},
   "outputs": [],
   "source": []
  },
  {
   "cell_type": "markdown",
   "metadata": {
    "id": "4NYb66waQWlk"
   },
   "source": [
    "- 다음과 같이 복합 대입 연산자를 사용해 리스트를 연결할 수 있습니다."
   ]
  },
  {
   "cell_type": "code",
   "execution_count": 67,
   "metadata": {
    "id": "ejcesqmYxlxI",
    "scrolled": true
   },
   "outputs": [
    {
     "data": {
      "text/plain": [
       "[90, 80, 95, 70, 70, 75, 90, 100]"
      ]
     },
     "execution_count": 67,
     "metadata": {},
     "output_type": "execute_result"
    }
   ],
   "source": [
    "# 빈 리스트 만들기\n",
    "score = []\n",
    "\n",
    "# 리스트 연결\n",
    "score = score + [90, 80, 95, 70]\n",
    "score += [70, 75, 90, 100]\n",
    "\n",
    "# 확인\n",
    "score     # [90, 80, 95, 70, 70, 75, 90, 100]"
   ]
  },
  {
   "cell_type": "markdown",
   "metadata": {
    "id": "Mg2ZeHMPoCWZ"
   },
   "source": [
    "**2) 리스트 반복**\n",
    "\n",
    "- 리스트에 양의 정수를 곱하면 그 수 만큼 요소가 반복됩니다."
   ]
  },
  {
   "cell_type": "code",
   "execution_count": 70,
   "metadata": {
    "id": "0uYMqFwExntS"
   },
   "outputs": [
    {
     "name": "stdout",
     "output_type": "stream",
     "text": [
      "[90, 80, 95, 70]\n",
      "[90, 80, 95, 70, 90, 80, 95, 70]\n",
      "[90, 80, 95, 70, 90, 80, 95, 70, 90, 80, 95, 70]\n"
     ]
    }
   ],
   "source": [
    "# 리스트 만들기\n",
    "score1 = [90, 80, 95, 70]\n",
    "\n",
    "# 리스트 요소를 곱한 수 만큼 반복하기\n",
    "score2 = score1 * 2\n",
    "score3 = score1 * 3\n",
    "\n",
    "# 확인\n",
    "print(score1)\n",
    "print(score2)\n",
    "print(score3)"
   ]
  },
  {
   "cell_type": "markdown",
   "metadata": {
    "id": "0qvqP1VjQyZy"
   },
   "source": [
    "- 정수 0을 곱하면 리스트 요소가 모두 제거되어 빈 리스트가 됩니다."
   ]
  },
  {
   "cell_type": "code",
   "execution_count": 74,
   "metadata": {
    "id": "rvr1wRfO-39D"
   },
   "outputs": [
    {
     "name": "stdout",
     "output_type": "stream",
     "text": [
      "[90, 80, 95, 70]\n",
      "[]\n"
     ]
    }
   ],
   "source": [
    "# 리스트 만들기\n",
    "score1 = [90, 80, 95, 70]\n",
    "\n",
    "# 리스트에 0 곱하기\n",
    "score0 = score1 * 0\n",
    "\n",
    "# 확인\n",
    "print(score1)\n",
    "print(score0)"
   ]
  },
  {
   "cell_type": "code",
   "execution_count": null,
   "metadata": {},
   "outputs": [],
   "source": []
  },
  {
   "cell_type": "markdown",
   "metadata": {
    "id": "JsYZKykl128t"
   },
   "source": [
    "<img src='https://raw.githubusercontent.com/jangrae/img/master/practice_01.png' width=120 align = \"left\"/>"
   ]
  },
  {
   "cell_type": "markdown",
   "metadata": {
    "id": "-IljGu8d37Gm"
   },
   "source": [
    "[문1] 다음 셀에서 만든 세 리스트를 합해 새로운 리스트 a_all을 만드세요."
   ]
  },
  {
   "cell_type": "code",
   "execution_count": 75,
   "metadata": {
    "id": "7Cj5_sWJ128u"
   },
   "outputs": [
    {
     "name": "stdout",
     "output_type": "stream",
     "text": [
      "[1, 2, 3, 4]\n",
      "[5, 6, 7, 8, 9]\n",
      "[10, 11, 12, 13, 14]\n"
     ]
    }
   ],
   "source": [
    "# 두 리스트 만들기\n",
    "a1 = list(range(1, 5))\n",
    "a2 = list(range(5, 10))\n",
    "a3 = list(range(10, 15))\n",
    "\n",
    "# 확인\n",
    "print(a1)\n",
    "print(a2)\n",
    "print(a3)"
   ]
  },
  {
   "cell_type": "code",
   "execution_count": 76,
   "metadata": {
    "id": "yO1Y3M7a9_AQ"
   },
   "outputs": [
    {
     "data": {
      "text/plain": [
       "[1, 2, 3, 4, 5, 6, 7, 8, 9, 10, 11, 12, 13, 14]"
      ]
     },
     "execution_count": 76,
     "metadata": {},
     "output_type": "execute_result"
    }
   ],
   "source": [
    "# 리스트 합치기\n",
    "a_all = a1 + a2 + a3\n",
    "\n",
    "# 확인\n",
    "a_all"
   ]
  },
  {
   "cell_type": "code",
   "execution_count": 81,
   "metadata": {},
   "outputs": [
    {
     "name": "stdout",
     "output_type": "stream",
     "text": [
      "[0, 0, 0, 0, 0, 0, 0, 0, 0, 0, 1, 1, 1, 1, 1, 1, 1, 1, 1, 1]\n"
     ]
    }
   ],
   "source": [
    "a = [0] * 10\n",
    "b = [1] * 10\n",
    "c = a + b\n",
    "print(c)"
   ]
  },
  {
   "cell_type": "code",
   "execution_count": 83,
   "metadata": {},
   "outputs": [
    {
     "name": "stdout",
     "output_type": "stream",
     "text": [
      "[0, 0, 0, 0, 0, 0, 0, 0, 0, 0, 1, 1, 1, 1, 1, 1, 1, 1, 1, 1]\n"
     ]
    }
   ],
   "source": [
    "c = [0] * 10 + [1] * 10\n",
    "print(c)"
   ]
  },
  {
   "cell_type": "code",
   "execution_count": null,
   "metadata": {},
   "outputs": [],
   "source": []
  },
  {
   "cell_type": "markdown",
   "metadata": {
    "id": "TzkT7GQvx8rx"
   },
   "source": [
    "## 3.6.요소 변경, 추가, 삭제\n",
    "\n",
    "- 인덱싱 또는 슬라이싱 결과에 대해 요소를 변경하거나 삭제할 수 있습니다.\n",
    "- **append()**, **insert()** 메서드를 사용해 요소를 추가할 수 있습니다."
   ]
  },
  {
   "cell_type": "markdown",
   "metadata": {
    "id": "zLj_-ikEG9tK"
   },
   "source": [
    "### 3.6.1.변경"
   ]
  },
  {
   "cell_type": "markdown",
   "metadata": {
    "id": "YjXrqI_5oUxc"
   },
   "source": [
    "**1) 범위 내 변경**\n",
    "\n",
    "- 기존 요소의 값이 변경됩니다."
   ]
  },
  {
   "cell_type": "code",
   "execution_count": 77,
   "metadata": {
    "id": "V1c5gES5FQpU",
    "scrolled": true
   },
   "outputs": [
    {
     "data": {
      "text/plain": [
       "[0, 1, 2, 3, 4, 5, 6, 7, 8, 9]"
      ]
     },
     "execution_count": 77,
     "metadata": {},
     "output_type": "execute_result"
    }
   ],
   "source": [
    "# range() 함수로 리스트 만들기\n",
    "nums = list(range(10))\n",
    "\n",
    "# 확인\n",
    "nums"
   ]
  },
  {
   "cell_type": "code",
   "execution_count": 78,
   "metadata": {
    "id": "wH6a50jAORfr"
   },
   "outputs": [
    {
     "data": {
      "text/plain": [
       "[0, 10, 2, 3, 4, 5, 6, 7, 8, 9]"
      ]
     },
     "execution_count": 78,
     "metadata": {},
     "output_type": "execute_result"
    }
   ],
   "source": [
    "# 특정 요소 값 변경\n",
    "nums[1] = 10\n",
    "\n",
    "# 확인\n",
    "nums"
   ]
  },
  {
   "cell_type": "code",
   "execution_count": 79,
   "metadata": {
    "id": "3g2rHio18t7g"
   },
   "outputs": [
    {
     "data": {
      "text/plain": [
       "[0, 10, 20, 30, 4, 5, 6, 7, 8, 9]"
      ]
     },
     "execution_count": 79,
     "metadata": {},
     "output_type": "execute_result"
    }
   ],
   "source": [
    "# 범위내 요소 값 변경\n",
    "nums[2:4] = [20, 30]\n",
    "\n",
    "# 확인\n",
    "nums"
   ]
  },
  {
   "cell_type": "code",
   "execution_count": 80,
   "metadata": {
    "id": "vWM0ETU88rmd"
   },
   "outputs": [
    {
     "data": {
      "text/plain": [
       "[0, 10, 20, 30, 40, 50, 7, 8, 9]"
      ]
     },
     "execution_count": 80,
     "metadata": {},
     "output_type": "execute_result"
    }
   ],
   "source": [
    "# 범위내 요소 값 변경\n",
    "nums[4:7] = [40, 50] # 3개값을 2개로 변경 가능 #★\n",
    "\n",
    "# 확인\n",
    "nums"
   ]
  },
  {
   "cell_type": "code",
   "execution_count": null,
   "metadata": {},
   "outputs": [],
   "source": []
  },
  {
   "cell_type": "markdown",
   "metadata": {
    "id": "Nk98n7gdoZVp"
   },
   "source": [
    "**2) 범위 밖 변경**\n",
    "\n",
    "- 범위를 벗어나는 요소 값을 변경하면 요소가 추가됩니다.\n",
    "- 범위가 꼭 연결되지 않아도 됩니다."
   ]
  },
  {
   "cell_type": "code",
   "execution_count": 82,
   "metadata": {
    "id": "6Ijhgtxd_dTa"
   },
   "outputs": [
    {
     "data": {
      "text/plain": [
       "[0, 10, 20, 30, 40, 50, 70, 80, 90, 100]"
      ]
     },
     "execution_count": 82,
     "metadata": {},
     "output_type": "execute_result"
    }
   ],
   "source": [
    "# 범위를 벗어나는 요소 값 변경\n",
    "nums[6:] = [70, 80, 90, 100] #★\n",
    "\n",
    "# 확인\n",
    "nums"
   ]
  },
  {
   "cell_type": "code",
   "execution_count": 84,
   "metadata": {
    "id": "JbatDmJLATTA"
   },
   "outputs": [
    {
     "data": {
      "text/plain": [
       "[0, 10, 20, 30, 40, 50, 70, 80, 90, 100, 110, 120]"
      ]
     },
     "execution_count": 84,
     "metadata": {},
     "output_type": "execute_result"
    }
   ],
   "source": [
    "# 범위를 완전히 벗어나는 요소 값 변경\n",
    "nums[600:] = [110, 120]  #★\n",
    "\n",
    "# 확인\n",
    "nums"
   ]
  },
  {
   "cell_type": "code",
   "execution_count": null,
   "metadata": {},
   "outputs": [],
   "source": []
  },
  {
   "cell_type": "markdown",
   "metadata": {
    "id": "LJgR2XP3HBMy",
    "tags": []
   },
   "source": [
    "### 3.6.2.추가"
   ]
  },
  {
   "cell_type": "markdown",
   "metadata": {
    "id": "Jf6yHua8Qtg1"
   },
   "source": [
    "**1) 뒤에 요소 하나 추가**\n",
    "\n",
    "- **append()** 메서드를 사용해서 맨 뒤에 요소 **하나**를 추가할 수 있습니다."
   ]
  },
  {
   "cell_type": "code",
   "execution_count": 100,
   "metadata": {
    "id": "uhEgr1o4HC_I"
   },
   "outputs": [
    {
     "data": {
      "text/plain": [
       "[0, 1, 2, 3, 4]"
      ]
     },
     "execution_count": 100,
     "metadata": {},
     "output_type": "execute_result"
    }
   ],
   "source": [
    "# 0 ~ 4 정수를 갖는 리스트 만들기\n",
    "nums = list(range(5))\n",
    "\n",
    "# 확인\n",
    "nums"
   ]
  },
  {
   "cell_type": "code",
   "execution_count": 101,
   "metadata": {},
   "outputs": [
    {
     "name": "stdout",
     "output_type": "stream",
     "text": [
      "None\n"
     ]
    }
   ],
   "source": [
    "# nums = list(range(5))\n",
    "# nums = nums.append(5) # none #★\n",
    "# print(nums)"
   ]
  },
  {
   "cell_type": "code",
   "execution_count": 93,
   "metadata": {
    "id": "S17m2Dwe82J4"
   },
   "outputs": [
    {
     "data": {
      "text/plain": [
       "[0, 1, 2, 3, 4, 5, 7]"
      ]
     },
     "execution_count": 93,
     "metadata": {},
     "output_type": "execute_result"
    }
   ],
   "source": [
    "# 맨 뒤에 요소 하나 추가\n",
    "nums.append(5)\n",
    "\n",
    "# 맨 뒤에 요소 하나 더 추가\n",
    "nums.append(7)\n",
    "# nums += 7\n",
    "\n",
    "# 확인\n",
    "nums"
   ]
  },
  {
   "cell_type": "code",
   "execution_count": null,
   "metadata": {
    "id": "-qEtaAu9Bu0R"
   },
   "outputs": [],
   "source": [
    "# 맨 뒤에 리스트 하나를 요소로 추가 # 요소는 하나만 추가 가능\n",
    "nums.append([7, 8])\n",
    "\n",
    "# 확인\n",
    "nums"
   ]
  },
  {
   "cell_type": "code",
   "execution_count": null,
   "metadata": {},
   "outputs": [],
   "source": []
  },
  {
   "cell_type": "markdown",
   "metadata": {
    "id": "f4Qt8o4Q8LZN"
   },
   "source": [
    "**2) 중간에 요소 추가**\n",
    "\n",
    "- **insert()** 메서드를 사용하면 원하는 위치에 요소를 추가할 수 있습니다."
   ]
  },
  {
   "cell_type": "code",
   "execution_count": 116,
   "metadata": {
    "id": "tLKEhHbO8LZN"
   },
   "outputs": [
    {
     "data": {
      "text/plain": [
       "[10, 20, 40, 50]"
      ]
     },
     "execution_count": 116,
     "metadata": {},
     "output_type": "execute_result"
    }
   ],
   "source": [
    "# 리스트 만들기\n",
    "nums = [10, 20, 40, 50]\n",
    "\n",
    "# 확인\n",
    "nums"
   ]
  },
  {
   "cell_type": "code",
   "execution_count": 117,
   "metadata": {
    "id": "f_B7vZG_88pN"
   },
   "outputs": [
    {
     "data": {
      "text/plain": [
       "[10, 20, 100, 40, 50]"
      ]
     },
     "execution_count": 117,
     "metadata": {},
     "output_type": "execute_result"
    }
   ],
   "source": [
    "# 특정 위치에 요소 추가\n",
    "nums.insert(2,100) # 원래 있던애를 뒤로 민다 #★\n",
    "# .insert(밀려는 숫자 인덱스 번호, 넣는 숫자)\n",
    "\n",
    "# 확인\n",
    "nums"
   ]
  },
  {
   "cell_type": "code",
   "execution_count": 118,
   "metadata": {},
   "outputs": [
    {
     "data": {
      "text/plain": [
       "[10, 20, 100, 40, 200, 50]"
      ]
     },
     "execution_count": 118,
     "metadata": {},
     "output_type": "execute_result"
    }
   ],
   "source": [
    "# 특정 위치에 요소 추가\n",
    "nums.insert(-1,200) # 원래 있던애를 뒤로 민다 #★\n",
    "\n",
    "# 확인\n",
    "nums"
   ]
  },
  {
   "cell_type": "code",
   "execution_count": 119,
   "metadata": {},
   "outputs": [
    {
     "data": {
      "text/plain": [
       "[10, 20, 100, 40, 200, 50, 200]"
      ]
     },
     "execution_count": 119,
     "metadata": {},
     "output_type": "execute_result"
    }
   ],
   "source": [
    "# 특정 위치에 요소 추가\n",
    "nums.insert(5000,200) # 맨뒤에 추가 / append도 가능 #★\n",
    "\n",
    "# 확인\n",
    "nums"
   ]
  },
  {
   "cell_type": "code",
   "execution_count": null,
   "metadata": {},
   "outputs": [],
   "source": []
  },
  {
   "cell_type": "markdown",
   "metadata": {
    "id": "zAfXKWDf8LZS"
   },
   "source": [
    "**3) 뒤에 리스트 붙이기 #1**\n",
    "\n",
    "- 리스트에 리스트를 더하면 리스트가 연결됩니다."
   ]
  },
  {
   "cell_type": "code",
   "execution_count": 120,
   "metadata": {
    "id": "vtm95_7Y8LZS"
   },
   "outputs": [
    {
     "data": {
      "text/plain": [
       "[0, 1, 2, 3, 4]"
      ]
     },
     "execution_count": 120,
     "metadata": {},
     "output_type": "execute_result"
    }
   ],
   "source": [
    "# 리스트 만들기\n",
    "nums = list(range(5))\n",
    "\n",
    "# 확인\n",
    "nums"
   ]
  },
  {
   "cell_type": "code",
   "execution_count": 121,
   "metadata": {
    "id": "f5w6-Y9u9AUj"
   },
   "outputs": [
    {
     "data": {
      "text/plain": [
       "[0, 1, 2, 3, 4, 5, 6, 7, 8, 9]"
      ]
     },
     "execution_count": 121,
     "metadata": {},
     "output_type": "execute_result"
    }
   ],
   "source": [
    "# 리스트 더하기\n",
    "nums = nums + [5, 6, 7, 8, 9]\n",
    "\n",
    "# 확인\n",
    "nums"
   ]
  },
  {
   "cell_type": "code",
   "execution_count": null,
   "metadata": {},
   "outputs": [],
   "source": []
  },
  {
   "cell_type": "markdown",
   "metadata": {
    "id": "vNf6-_GyIggb"
   },
   "source": [
    "**4) 뒤에 리스트 붙이기 #2**\n",
    "\n",
    "- **extend()** 메서드 사용해 리스트 뒤에 리스트를 붙일 수 있습니다."
   ]
  },
  {
   "cell_type": "code",
   "execution_count": 122,
   "metadata": {
    "id": "QUq7AfPa8LZT"
   },
   "outputs": [
    {
     "data": {
      "text/plain": [
       "[0, 1, 2, 3, 4]"
      ]
     },
     "execution_count": 122,
     "metadata": {},
     "output_type": "execute_result"
    }
   ],
   "source": [
    "# 리스트 만들기\n",
    "nums = list(range(5))\n",
    "\n",
    "# 확인\n",
    "nums"
   ]
  },
  {
   "cell_type": "code",
   "execution_count": 123,
   "metadata": {
    "id": "3U6dADF59E2Z"
   },
   "outputs": [
    {
     "data": {
      "text/plain": [
       "[0, 1, 2, 3, 4, 5, 6, 7, 8, 9]"
      ]
     },
     "execution_count": 123,
     "metadata": {},
     "output_type": "execute_result"
    }
   ],
   "source": [
    "# extend 메서드를 사용해서 다른 리스트 연결\n",
    "nums.extend([5, 6, 7, 8, 9])\n",
    "\n",
    "# 확인\n",
    "nums"
   ]
  },
  {
   "cell_type": "code",
   "execution_count": null,
   "metadata": {},
   "outputs": [],
   "source": []
  },
  {
   "cell_type": "markdown",
   "metadata": {
    "id": "AvIr03DvHDW6"
   },
   "source": [
    "### 3.6.3.삭제"
   ]
  },
  {
   "cell_type": "code",
   "execution_count": 124,
   "metadata": {
    "id": "VC-QhlA6NmW3"
   },
   "outputs": [
    {
     "data": {
      "text/plain": [
       "[10, 20, 30, 40, 50, 60, 70, 80, 90]"
      ]
     },
     "execution_count": 124,
     "metadata": {},
     "output_type": "execute_result"
    }
   ],
   "source": [
    "# 리스트 만들기\n",
    "nums = list(range(10, 100, 10))\n",
    "\n",
    "# 확인\n",
    "nums"
   ]
  },
  {
   "cell_type": "markdown",
   "metadata": {
    "id": "UFIhiTf_I0LW"
   },
   "source": [
    "**1) 특정 요소 삭제**\n",
    "\n",
    "- **del** 다음에 인덱싱 구문을 추가해 해당 요소를 삭제합니다."
   ]
  },
  {
   "cell_type": "code",
   "execution_count": 125,
   "metadata": {
    "id": "opg83ZyRIzYu"
   },
   "outputs": [
    {
     "data": {
      "text/plain": [
       "[10, 20, 30, 40, 50, 60, 70, 90]"
      ]
     },
     "execution_count": 125,
     "metadata": {},
     "output_type": "execute_result"
    }
   ],
   "source": [
    "# del문으로 특정 요소 삭제\n",
    "#      [10, 20, 30, 40, 50, 60, 70, 80, 90]\n",
    "# 인덱스 0   1   2   3   4   5   6   7   8\n",
    "\n",
    "del nums[7] #★\n",
    "\n",
    "# 확인\n",
    "nums"
   ]
  },
  {
   "cell_type": "code",
   "execution_count": 138,
   "metadata": {},
   "outputs": [
    {
     "data": {
      "text/plain": [
       "[10, 20, 30, 40, 50, 60, 80, 90]"
      ]
     },
     "execution_count": 138,
     "metadata": {},
     "output_type": "execute_result"
    }
   ],
   "source": [
    "nums = list(range(10, 100, 10))\n",
    "nums.pop(6)\n",
    "nums"
   ]
  },
  {
   "cell_type": "markdown",
   "metadata": {},
   "source": [
    "- pop()이 제거한 요소의 값을 반환 #★\n",
    "- del은 단순히 요소를 제거하고 반환 값이 없다"
   ]
  },
  {
   "cell_type": "code",
   "execution_count": null,
   "metadata": {},
   "outputs": [],
   "source": []
  },
  {
   "cell_type": "markdown",
   "metadata": {
    "id": "2bj4mZRuI7hD"
   },
   "source": [
    "**2) 범위 삭제**\n",
    "\n",
    "- **del** 다음에 슬라이싱 구문을 추가해 해당 범위 요소를 삭제합니다."
   ]
  },
  {
   "cell_type": "code",
   "execution_count": 128,
   "metadata": {
    "id": "rbL1W9L_I6i2"
   },
   "outputs": [
    {
     "data": {
      "text/plain": [
       "[10, 20, 30, 40]"
      ]
     },
     "execution_count": 128,
     "metadata": {},
     "output_type": "execute_result"
    }
   ],
   "source": [
    "# 범위 지정하여 여러 요소 삭제\n",
    "#      [10, 20, 30, 40, 50, 60, 70, 90]\n",
    "# 인덱스 0   1   2   3   4   5   6   7\n",
    "\n",
    "del nums[4:]\n",
    "\n",
    "# 확인\n",
    "nums"
   ]
  },
  {
   "cell_type": "markdown",
   "metadata": {
    "id": "-nvXRROTJFIo"
   },
   "source": [
    "**3) 전체 삭제**\n",
    "\n",
    "- [ ]를 대입하거나 **clear()** 메서드로 초기화합니다."
   ]
  },
  {
   "cell_type": "code",
   "execution_count": 129,
   "metadata": {
    "id": "CG_grn26JEu7"
   },
   "outputs": [
    {
     "data": {
      "text/plain": [
       "[]"
      ]
     },
     "execution_count": 129,
     "metadata": {},
     "output_type": "execute_result"
    }
   ],
   "source": [
    "# 모든 요소 삭제\n",
    "nums = [] # 다른 공간에 새로선언\n",
    "\n",
    "# 또는\n",
    "#nums.clear() # 같은 공간에 다시선언, id 같음\n",
    "\n",
    "# 확인\n",
    "nums"
   ]
  },
  {
   "cell_type": "code",
   "execution_count": null,
   "metadata": {},
   "outputs": [],
   "source": []
  },
  {
   "cell_type": "markdown",
   "metadata": {
    "id": "jj_t3OI3FjUc"
   },
   "source": [
    "<img src='https://raw.githubusercontent.com/jangrae/img/master/practice_01.png' width=120 align=\"left\"/>"
   ]
  },
  {
   "cell_type": "markdown",
   "metadata": {
    "id": "87zx1LJVRcxZ"
   },
   "source": [
    "[문1] **len()** 함수를 사용하여 score에 들어있는 요소의 개수를 구하세요."
   ]
  },
  {
   "cell_type": "code",
   "execution_count": 142,
   "metadata": {
    "id": "gZ8vClU2Rcxb"
   },
   "outputs": [
    {
     "name": "stdout",
     "output_type": "stream",
     "text": [
      "9\n"
     ]
    }
   ],
   "source": [
    "# 리스트 만들기\n",
    "score = [75, 46, 93, -82, -77, 130, 100, 75, -10]\n",
    "\n",
    "# 요소 개수 확인\n",
    "print(len(score))"
   ]
  },
  {
   "cell_type": "markdown",
   "metadata": {
    "id": "bbTG7L0BRcxf"
   },
   "source": [
    "[문2] 75와 -77을 인덱싱해서 출력하세요."
   ]
  },
  {
   "cell_type": "code",
   "execution_count": 143,
   "metadata": {
    "id": "Jp9fP6ejRcxf"
   },
   "outputs": [
    {
     "name": "stdout",
     "output_type": "stream",
     "text": [
      "75 -77\n"
     ]
    }
   ],
   "source": [
    "# 인덱싱\n",
    "print(score[0], score[4])"
   ]
  },
  {
   "cell_type": "markdown",
   "metadata": {
    "id": "cdHVc0WBRcxi"
   },
   "source": [
    "[문3] **append()** 메서드를 이용하여 마지막에 숫자 80을 추가하세요."
   ]
  },
  {
   "cell_type": "code",
   "execution_count": 144,
   "metadata": {
    "id": "aQ0ZwqcjRcxj"
   },
   "outputs": [
    {
     "data": {
      "text/plain": [
       "[75, 46, 93, -82, -77, 130, 100, 75, -10, 80]"
      ]
     },
     "execution_count": 144,
     "metadata": {},
     "output_type": "execute_result"
    }
   ],
   "source": [
    "# 요소 추가\n",
    "score.append(80)\n",
    "\n",
    "# 확인\n",
    "score"
   ]
  },
  {
   "cell_type": "markdown",
   "metadata": {
    "id": "733E-uNuRcxm"
   },
   "source": [
    "[문4] 처음부터 3번째까지(75, 46, 93)의 요소를 슬라이싱 하세요."
   ]
  },
  {
   "cell_type": "code",
   "execution_count": 145,
   "metadata": {
    "id": "yUIsl_ZhRcxn"
   },
   "outputs": [
    {
     "data": {
      "text/plain": [
       "[75, 46, 93]"
      ]
     },
     "execution_count": 145,
     "metadata": {},
     "output_type": "execute_result"
    }
   ],
   "source": [
    "# 슬라이싱\n",
    "score[:3]"
   ]
  },
  {
   "cell_type": "markdown",
   "metadata": {
    "id": "vyoYYRQDRcxq"
   },
   "source": [
    "[문5] 끝에서 5번째 요소 값(130)을 30으로 변경하세요."
   ]
  },
  {
   "cell_type": "code",
   "execution_count": 146,
   "metadata": {
    "id": "e7OH757gRcxr"
   },
   "outputs": [
    {
     "data": {
      "text/plain": [
       "[75, 46, 93, -82, -77, 30, 100, 75, -10, 80]"
      ]
     },
     "execution_count": 146,
     "metadata": {},
     "output_type": "execute_result"
    }
   ],
   "source": [
    "# 요소 변경\n",
    "score[-5]=30\n",
    "\n",
    "# 확인\n",
    "score"
   ]
  },
  {
   "cell_type": "markdown",
   "metadata": {
    "id": "gVegAtRkRcxx"
   },
   "source": [
    "[문6] 두 번째 요소 값(46)을 삭제하세요."
   ]
  },
  {
   "cell_type": "code",
   "execution_count": 147,
   "metadata": {
    "id": "3dlcR4y2Rcxx"
   },
   "outputs": [
    {
     "data": {
      "text/plain": [
       "[75, 93, -82, -77, 30, 100, 75, -10, 80]"
      ]
     },
     "execution_count": 147,
     "metadata": {},
     "output_type": "execute_result"
    }
   ],
   "source": [
    "# 요소 삭제\n",
    "del score[1]\n",
    "\n",
    "# 확인\n",
    "score"
   ]
  },
  {
   "cell_type": "code",
   "execution_count": 148,
   "metadata": {},
   "outputs": [
    {
     "data": {
      "text/plain": [
       "[75, 93, -77, 30, 100, 75, -10, 80]"
      ]
     },
     "execution_count": 148,
     "metadata": {},
     "output_type": "execute_result"
    }
   ],
   "source": [
    "score.remove(-82)\n",
    "score"
   ]
  },
  {
   "cell_type": "code",
   "execution_count": null,
   "metadata": {},
   "outputs": [],
   "source": []
  },
  {
   "cell_type": "markdown",
   "metadata": {
    "id": "c7OpS3iNFQpr"
   },
   "source": [
    "## 3.7.리스트 복사\n",
    "\n",
    "- 리스트 = 리스트 형태는 우리가 생각하는 복사가 아닙니다.\n",
    "- **범위를 지정한 복사가 완전한(?) 복사입니다.**"
   ]
  },
  {
   "cell_type": "code",
   "execution_count": 149,
   "metadata": {
    "id": "gfiMNt0hwv_b"
   },
   "outputs": [
    {
     "name": "stdout",
     "output_type": "stream",
     "text": [
      "[0, 1, 2, 3, 4, 5, 6, 7, 8, 9]\n",
      "[0, 1, 2, 3, 4, 5, 6, 7, 8, 9]\n"
     ]
    }
   ],
   "source": [
    "# 리스트 복사\n",
    "nums = list(range(10))\n",
    "nums_copy_1 = nums                  # 그냥 복사본(바로가기) # 같은곳 가리킴 / 같이 변경됨11111111\n",
    "nums_copy_2 = nums[:]               # nums.copy()와 동일(새파일) / # 전체 범위를 지정하여 복사 # 독립적 존재 #★\n",
    "\n",
    "# 확인\n",
    "print(nums_copy_1)\n",
    "print(nums_copy_2)\n",
    "\n",
    "# 완전히 복사해서 = 독립적인 복사 = 깊은 복사 ( 주소값이 다름 )"
   ]
  },
  {
   "cell_type": "code",
   "execution_count": null,
   "metadata": {},
   "outputs": [],
   "source": []
  },
  {
   "cell_type": "markdown",
   "metadata": {
    "id": "x7xCSgxTaB-G"
   },
   "source": [
    "- 원본이든 복사본이든 한 쪽 변경이 다른 쪽에 영향을 준다면 완전한 복사가 아닙니다."
   ]
  },
  {
   "cell_type": "code",
   "execution_count": 150,
   "metadata": {
    "id": "5Hc08trpaB-G"
   },
   "outputs": [
    {
     "name": "stdout",
     "output_type": "stream",
     "text": [
      "['a', 1, 2, 3, 4, 5, 6, 7, 8, 9]\n",
      "[0, 1, 2, 3, 4, 5, 6, 7, 8, 9]\n",
      "['a', 1, 2, 3, 4, 5, 6, 7, 8, 9]\n"
     ]
    }
   ],
   "source": [
    "# copy_1의 첫번째 값 변경 후 원본과 비교\n",
    "nums_copy_1[0] = 'a'\n",
    "\n",
    "# 확인\n",
    "print(nums_copy_1)\n",
    "print(nums_copy_2)\n",
    "print(nums)"
   ]
  },
  {
   "attachments": {
    "995b8489-67d2-4df3-b1df-df7b726685fc.png": {
     "image/png": "[encoded data removed]"
    }
   },
   "cell_type": "markdown",
   "metadata": {},
   "source": [
    "![image.png](attachment:995b8489-67d2-4df3-b1df-df7b726685fc.png)"
   ]
  },
  {
   "cell_type": "code",
   "execution_count": null,
   "metadata": {},
   "outputs": [],
   "source": []
  },
  {
   "cell_type": "markdown",
   "metadata": {
    "id": "JbROXt4jaB-H"
   },
   "source": [
    "- 원본이든 복사본이든 한 쪽 변경이 다른 쪽에 영향을 주지 않을 때 완전한 복사입니다."
   ]
  },
  {
   "cell_type": "code",
   "execution_count": 151,
   "metadata": {
    "id": "rnIsLSzEaB-I"
   },
   "outputs": [
    {
     "name": "stdout",
     "output_type": "stream",
     "text": [
      "['a', 1, 2, 3, 4, 5, 6, 7, 8, 9]\n",
      "['b', 1, 2, 3, 4, 5, 6, 7, 8, 9]\n",
      "['a', 1, 2, 3, 4, 5, 6, 7, 8, 9]\n"
     ]
    }
   ],
   "source": [
    "# copy_2의 첫번째 값 변경 후 원본과 비교\n",
    "nums_copy_2[0] = 'b'\n",
    "\n",
    "# 확인\n",
    "print(nums_copy_1)\n",
    "print(nums_copy_2)\n",
    "print(nums)"
   ]
  },
  {
   "cell_type": "code",
   "execution_count": null,
   "metadata": {},
   "outputs": [],
   "source": []
  },
  {
   "cell_type": "markdown",
   "metadata": {
    "id": "HZHsNja-kNNh"
   },
   "source": [
    "- 범위를 지정한 복사 방법 외에도 **copy()** 메서드를 사용하는 방법도 있습니다.\n",
    "- 다음 두 구문이 완전히 복사하는 방법이 됩니다."
   ]
  },
  {
   "cell_type": "code",
   "execution_count": null,
   "metadata": {
    "id": "mpGTSMsikDep"
   },
   "outputs": [],
   "source": [
    "nums = list(range(10))\n",
    "\n",
    "# 완전 복사 방법\n",
    "nums_copy_2 = nums.copy()\n",
    "nums_copy_2 = nums[:]"
   ]
  },
  {
   "cell_type": "markdown",
   "metadata": {
    "id": "8psc5wH1bz7r",
    "tags": []
   },
   "source": [
    "## 3.8.리스트 관련 메서드\n",
    "\n",
    "- 다음 메서드들은 알아두면 편리하게 쓰일 때가 있습니다.\n",
    "- 문자열 관련 메서드에 의한 변경은 변수에 바로 반영되지 않습니다.\n",
    "- 하지만 리스트 관련 메서드에 의한 변경은 변수에 바로 반영이 됩니다."
   ]
  },
  {
   "cell_type": "code",
   "execution_count": 152,
   "metadata": {
    "id": "62-zcWnqbQPr"
   },
   "outputs": [
    {
     "name": "stdout",
     "output_type": "stream",
     "text": [
      "I have a Dream.\n",
      "['D', 'C', 'B', 'A']\n"
     ]
    }
   ],
   "source": [
    "# 변수 선언\n",
    "a = 'I have a Dream.'\n",
    "b = ['A', 'B', 'C', 'D']\n",
    "\n",
    "# 메서드 사용\n",
    "a.upper()\n",
    "b.reverse()\n",
    "\n",
    "# 확인\n",
    "print(a) # 문자열, 변경전값 출력 / 변수로 받아주면됨 #★\n",
    "print(b) # 리스트, 변경사항 출력"
   ]
  },
  {
   "cell_type": "code",
   "execution_count": 154,
   "metadata": {},
   "outputs": [
    {
     "name": "stdout",
     "output_type": "stream",
     "text": [
      "[3, 2, 1]\n"
     ]
    }
   ],
   "source": [
    "a=[1,2,3]\n",
    "a.reverse()\n",
    "print(a)"
   ]
  },
  {
   "cell_type": "code",
   "execution_count": null,
   "metadata": {},
   "outputs": [],
   "source": []
  },
  {
   "cell_type": "markdown",
   "metadata": {
    "id": "XNULZh1MX_2u"
   },
   "source": [
    "**1) count(), index() 메서드: 요소 개수와 위치 조회**"
   ]
  },
  {
   "cell_type": "code",
   "execution_count": 155,
   "metadata": {
    "id": "0JBaN3Ui4pYC"
   },
   "outputs": [
    {
     "data": {
      "text/plain": [
       "[90, 80, 95, 70, 100, 65, 70, 100]"
      ]
     },
     "execution_count": 155,
     "metadata": {},
     "output_type": "execute_result"
    }
   ],
   "source": [
    "# 리스트 만들기\n",
    "score = [90, 80, 95, 70, 100, 65, 70, 100]\n",
    "\n",
    "# 확인\n",
    "score"
   ]
  },
  {
   "cell_type": "code",
   "execution_count": 158,
   "metadata": {
    "id": "w4seSVNv-xoR"
   },
   "outputs": [
    {
     "data": {
      "text/plain": [
       "2"
      ]
     },
     "execution_count": 158,
     "metadata": {},
     "output_type": "execute_result"
    }
   ],
   "source": [
    "# 100점이 몇 개인지 확인\n",
    "score.count(100)  #★"
   ]
  },
  {
   "cell_type": "code",
   "execution_count": 159,
   "metadata": {
    "id": "NRgUy1At-0i3"
   },
   "outputs": [
    {
     "data": {
      "text/plain": [
       "4"
      ]
     },
     "execution_count": 159,
     "metadata": {},
     "output_type": "execute_result"
    }
   ],
   "source": [
    "# 100점이 처음 나타나는 위치\n",
    "score.index(100) #★"
   ]
  },
  {
   "cell_type": "code",
   "execution_count": null,
   "metadata": {},
   "outputs": [],
   "source": []
  },
  {
   "cell_type": "markdown",
   "metadata": {
    "id": "ob9B5-RBYHjv"
   },
   "source": [
    "**2) append() 메서드: 요소 하나 추가**"
   ]
  },
  {
   "cell_type": "code",
   "execution_count": 160,
   "metadata": {
    "id": "SRnHwnwczxOV"
   },
   "outputs": [
    {
     "data": {
      "text/plain": [
       "[90, 80, 95, 70, 100]"
      ]
     },
     "execution_count": 160,
     "metadata": {},
     "output_type": "execute_result"
    }
   ],
   "source": [
    "# 리스트 만들기\n",
    "score = [90, 80, 95, 70, 100]\n",
    "score"
   ]
  },
  {
   "cell_type": "code",
   "execution_count": 161,
   "metadata": {
    "id": "c7OOodXl-4VT"
   },
   "outputs": [
    {
     "data": {
      "text/plain": [
       "[90, 80, 95, 70, 100, 85]"
      ]
     },
     "execution_count": 161,
     "metadata": {},
     "output_type": "execute_result"
    }
   ],
   "source": [
    "# 리스트 맨 뒤에 새로운 요소 추가\n",
    "score.append(85)\n",
    "\n",
    "# 확인\n",
    "score"
   ]
  },
  {
   "cell_type": "code",
   "execution_count": 162,
   "metadata": {
    "id": "pnT88RL3-5Pl"
   },
   "outputs": [
    {
     "data": {
      "text/plain": [
       "[90, 80, 95, 70, 100, 85, [85, 95, 90, 70, 85]]"
      ]
     },
     "execution_count": 162,
     "metadata": {},
     "output_type": "execute_result"
    }
   ],
   "source": [
    "# 리스트에 리스트를 요소로 추가\n",
    "score.append([85, 95, 90, 70, 85])\n",
    "\n",
    "# 확인\n",
    "score"
   ]
  },
  {
   "cell_type": "code",
   "execution_count": null,
   "metadata": {},
   "outputs": [],
   "source": []
  },
  {
   "cell_type": "markdown",
   "metadata": {
    "id": "p4kFpt0AYLV5"
   },
   "source": [
    "**3) reverse(), sort() 메서드: 요소 순서 변경**"
   ]
  },
  {
   "cell_type": "code",
   "execution_count": 168,
   "metadata": {
    "id": "Aul7Tcc01LLf"
   },
   "outputs": [
    {
     "data": {
      "text/plain": [
       "['홍길동', '일지매', '박여인', '한사랑', '강우동']"
      ]
     },
     "execution_count": 168,
     "metadata": {},
     "output_type": "execute_result"
    }
   ],
   "source": [
    "# 리스트 만들기\n",
    "member = ['홍길동', '일지매', '박여인', '한사랑', '강우동']\n",
    "\n",
    "# 확인\n",
    "member"
   ]
  },
  {
   "cell_type": "code",
   "execution_count": 169,
   "metadata": {
    "id": "YqJNZedK_B0t"
   },
   "outputs": [
    {
     "data": {
      "text/plain": [
       "['강우동', '한사랑', '박여인', '일지매', '홍길동']"
      ]
     },
     "execution_count": 169,
     "metadata": {},
     "output_type": "execute_result"
    }
   ],
   "source": [
    "# 요소 뒤집기\n",
    "member.reverse()  #★\n",
    "\n",
    "# 확인\n",
    "member"
   ]
  },
  {
   "cell_type": "code",
   "execution_count": 170,
   "metadata": {
    "id": "ah3i9cXI_A_Y"
   },
   "outputs": [
    {
     "data": {
      "text/plain": [
       "['강우동', '박여인', '일지매', '한사랑', '홍길동']"
      ]
     },
     "execution_count": 170,
     "metadata": {},
     "output_type": "execute_result"
    }
   ],
   "source": [
    "# 리스트 안의 요소를 오름차순으로 정렬\n",
    "member.sort()  #★\n",
    "\n",
    "# 확인\n",
    "member"
   ]
  },
  {
   "cell_type": "code",
   "execution_count": 171,
   "metadata": {
    "id": "zGcjchw6_AQY"
   },
   "outputs": [
    {
     "data": {
      "text/plain": [
       "['홍길동', '한사랑', '일지매', '박여인', '강우동']"
      ]
     },
     "execution_count": 171,
     "metadata": {},
     "output_type": "execute_result"
    }
   ],
   "source": [
    "# 리스트 안의 요소를 내림차순으로 정렬\n",
    "member.sort(reverse=True) # \n",
    "\n",
    "# 확인\n",
    "member"
   ]
  },
  {
   "cell_type": "code",
   "execution_count": null,
   "metadata": {},
   "outputs": [],
   "source": []
  },
  {
   "cell_type": "markdown",
   "metadata": {
    "id": "ANppY_D2YOy9"
   },
   "source": [
    "**4) insert() 메서드: 지정한 위치에 요소 추가**"
   ]
  },
  {
   "cell_type": "code",
   "execution_count": 182,
   "metadata": {
    "id": "CMbKG-Cf3DMz"
   },
   "outputs": [
    {
     "data": {
      "text/plain": [
       "['일지매', '박여인', '한사랑']"
      ]
     },
     "execution_count": 182,
     "metadata": {},
     "output_type": "execute_result"
    }
   ],
   "source": [
    "# 리스트 만들기\n",
    "member = ['일지매', '박여인', '한사랑']\n",
    "\n",
    "# 확인\n",
    "member"
   ]
  },
  {
   "cell_type": "code",
   "execution_count": 183,
   "metadata": {
    "id": "sZ3UvY_R_MBW"
   },
   "outputs": [
    {
     "data": {
      "text/plain": [
       "['일지매', '박여인', '한국인', '한사랑']"
      ]
     },
     "execution_count": 183,
     "metadata": {},
     "output_type": "execute_result"
    }
   ],
   "source": [
    "# '박여인'과 '한사랑' 사이에 '한국인' 삽입\n",
    "member.insert(2,'한국인')\n",
    "\n",
    "# 확인\n",
    "member"
   ]
  },
  {
   "cell_type": "code",
   "execution_count": 184,
   "metadata": {
    "id": "K_vAwRKD_K8J"
   },
   "outputs": [
    {
     "data": {
      "text/plain": [
       "['일지매', '박여인', '한국인', '강우동', '한사랑']"
      ]
     },
     "execution_count": 184,
     "metadata": {},
     "output_type": "execute_result"
    }
   ],
   "source": [
    "# 마지막 요소 '한사랑' 앞에 '강우동' 삽입\n",
    "member.insert(-1,'강우동')\n",
    "\n",
    "# 확인\n",
    "member"
   ]
  },
  {
   "cell_type": "code",
   "execution_count": 185,
   "metadata": {
    "id": "I1w_G176_J4g"
   },
   "outputs": [
    {
     "data": {
      "text/plain": [
       "['홍길동', '일지매', '박여인', '한국인', '강우동', '한사랑']"
      ]
     },
     "execution_count": 185,
     "metadata": {},
     "output_type": "execute_result"
    }
   ],
   "source": [
    "# 맨 앞 요소 '일지매' 앞에 '홍길동' 삽입\n",
    "member.insert(0, '홍길동')\n",
    "member"
   ]
  },
  {
   "cell_type": "code",
   "execution_count": null,
   "metadata": {},
   "outputs": [],
   "source": []
  },
  {
   "cell_type": "markdown",
   "metadata": {
    "id": "IR_iL5FUYVsz"
   },
   "source": [
    "**5) remove(), pop(), clear() 메서드: 요소 삭제**"
   ]
  },
  {
   "cell_type": "code",
   "execution_count": 202,
   "metadata": {
    "id": "uNxypQSz3tya"
   },
   "outputs": [
    {
     "data": {
      "text/plain": [
       "['홍길동', '일지매', '박여인', '한사랑', '박여인', '강우동']"
      ]
     },
     "execution_count": 202,
     "metadata": {},
     "output_type": "execute_result"
    }
   ],
   "source": [
    "# 리스트 만들기\n",
    "member = ['홍길동', '일지매', '박여인', '한사랑', '박여인', '강우동']\n",
    "\n",
    "# 확인\n",
    "member"
   ]
  },
  {
   "cell_type": "code",
   "execution_count": 203,
   "metadata": {
    "id": "ivJ4f7De_TuS"
   },
   "outputs": [
    {
     "data": {
      "text/plain": [
       "['홍길동', '일지매', '한사랑', '박여인', '강우동']"
      ]
     },
     "execution_count": 203,
     "metadata": {},
     "output_type": "execute_result"
    }
   ],
   "source": [
    "# 첫 번째 '박여인' 삭제\n",
    "member.remove('박여인') # 값 삭제 #★\n",
    "\n",
    "# 확인\n",
    "member"
   ]
  },
  {
   "cell_type": "code",
   "execution_count": 205,
   "metadata": {},
   "outputs": [
    {
     "name": "stdout",
     "output_type": "stream",
     "text": [
      "['홍길동', '일지매', '강우동']\n"
     ]
    }
   ],
   "source": [
    "# del 이용\n",
    "del member[2]  # 인덱스 값 삭제 #★\n",
    "\n",
    "# 확인\n",
    "print(member)"
   ]
  },
  {
   "cell_type": "code",
   "execution_count": 204,
   "metadata": {
    "id": "S3FA5xcv_TAi"
   },
   "outputs": [
    {
     "name": "stdout",
     "output_type": "stream",
     "text": [
      "한사랑\n",
      "['홍길동', '일지매', '박여인', '강우동']\n"
     ]
    }
   ],
   "source": [
    "# 3번째 요소 삭제\n",
    "del_member = member.pop(2)  #★ 지우고 그요소 반환함\n",
    "\n",
    "# 확인\n",
    "print(del_member)\n",
    "print(member)"
   ]
  },
  {
   "cell_type": "code",
   "execution_count": null,
   "metadata": {},
   "outputs": [],
   "source": []
  },
  {
   "cell_type": "code",
   "execution_count": 206,
   "metadata": {
    "id": "1AGDAbaG_SC1"
   },
   "outputs": [
    {
     "data": {
      "text/plain": [
       "[]"
      ]
     },
     "execution_count": 206,
     "metadata": {},
     "output_type": "execute_result"
    }
   ],
   "source": [
    "# 모든 요소 삭제\n",
    "member.clear()\n",
    "\n",
    "# 확인\n",
    "member"
   ]
  },
  {
   "cell_type": "code",
   "execution_count": null,
   "metadata": {},
   "outputs": [],
   "source": []
  },
  {
   "cell_type": "markdown",
   "metadata": {
    "id": "sLM79gotJSPB"
   },
   "source": [
    "<img src='https://raw.githubusercontent.com/jangrae/img/master/practice_01.png' width=120 align=\"left\"/>"
   ]
  },
  {
   "cell_type": "markdown",
   "metadata": {
    "id": "fJVOJxdpJSPG"
   },
   "source": [
    "[문1] 아래 코드를 실행하기 전에 결과를 예측해 보고, 실행 후에 결과와 비교해 보세요."
   ]
  },
  {
   "cell_type": "code",
   "execution_count": 212,
   "metadata": {
    "id": "U_zW4veIHao9"
   },
   "outputs": [
    {
     "name": "stdout",
     "output_type": "stream",
     "text": [
      "['홍길동', '일지매', '박여인', '한사랑', '박여인', '강우동']\n",
      "['홍길동', '일지매', '박여인']\n",
      "['한사랑', '박여인', '강우동']\n"
     ]
    }
   ],
   "source": [
    "# 리스트 만들기\n",
    "del_member = []\n",
    "member = ['홍길동', '일지매', '박여인', '한사랑', '박여인', '강우동']\n",
    "print(member)\n",
    "\n",
    "# 요소 삭제\n",
    "del_member.append(member.pop(0))\n",
    "del_member.append(member.pop(0))\n",
    "del_member.append(member.pop(0))\n",
    "\n",
    "# 확인 #★\n",
    "print(del_member)\n",
    "print(member)"
   ]
  },
  {
   "cell_type": "code",
   "execution_count": null,
   "metadata": {},
   "outputs": [],
   "source": []
  },
  {
   "cell_type": "markdown",
   "metadata": {
    "id": "62nC9rgLZgr2"
   },
   "source": [
    "**6) extend() 메서드: 리스트 연결**"
   ]
  },
  {
   "cell_type": "code",
   "execution_count": 213,
   "metadata": {
    "id": "s1qNdsr85Gqd"
   },
   "outputs": [
    {
     "data": {
      "text/plain": [
       "[90, 80, 95, 70, 100]"
      ]
     },
     "execution_count": 213,
     "metadata": {},
     "output_type": "execute_result"
    }
   ],
   "source": [
    "# 리스트 만들기\n",
    "score = [90, 80, 95, 70, 100]\n",
    "\n",
    "# 확인\n",
    "score"
   ]
  },
  {
   "cell_type": "code",
   "execution_count": 214,
   "metadata": {
    "id": "LQPAyHoK_bSf"
   },
   "outputs": [
    {
     "data": {
      "text/plain": [
       "[90, 80, 95, 70, 100, 65, 70, 100]"
      ]
     },
     "execution_count": 214,
     "metadata": {},
     "output_type": "execute_result"
    }
   ],
   "source": [
    "# 리스트에 리스트 붙이기\n",
    "score.extend([65, 70, 100])\n",
    "\n",
    "# 확인\n",
    "score"
   ]
  },
  {
   "cell_type": "code",
   "execution_count": 215,
   "metadata": {
    "id": "_e23FHOH_af5"
   },
   "outputs": [
    {
     "data": {
      "text/plain": [
       "[90, 80, 95, 70, 100, 65, 70, 100, 80, 95, 75]"
      ]
     },
     "execution_count": 215,
     "metadata": {},
     "output_type": "execute_result"
    }
   ],
   "source": [
    "# 두 리스트 연결\n",
    "add_score = [80, 95, 75]\n",
    "score.extend(add_score)\n",
    "\n",
    "# 확인\n",
    "score"
   ]
  },
  {
   "cell_type": "code",
   "execution_count": null,
   "metadata": {},
   "outputs": [],
   "source": []
  }
 ],
 "metadata": {
  "colab": {
   "provenance": []
  },
  "kernelspec": {
   "display_name": "Python 3 (ipykernel)",
   "language": "python",
   "name": "python3"
  },
  "language_info": {
   "codemirror_mode": {
    "name": "ipython",
    "version": 3
   },
   "file_extension": ".py",
   "mimetype": "text/x-python",
   "name": "python",
   "nbconvert_exporter": "python",
   "pygments_lexer": "ipython3",
   "version": "3.9.7"
  }
 },
 "nbformat": 4,
 "nbformat_minor": 4
}
