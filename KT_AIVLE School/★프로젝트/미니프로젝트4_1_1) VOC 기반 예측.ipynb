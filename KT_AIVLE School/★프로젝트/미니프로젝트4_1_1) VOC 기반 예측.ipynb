{
 "cells": [
  {
   "cell_type": "markdown",
   "metadata": {},
   "source": [
    "**AIVLE School 미니프로젝트**\n",
    "### **VOC를 제기한 고객의 <span style=\"color:darkgreen\">해지 여부</span> 예측 문제**\n",
    "---"
   ]
  },
  {
   "cell_type": "markdown",
   "metadata": {
    "tags": []
   },
   "source": [
    "#### **<span style=\"color:red\">[미션 안내]</span>**\n",
    "* VOC를 제기한 고객의 데이터를 읽어들여 데이터를 분석 및 전처리한 후 머신러닝과 딥러닝으로 해지 여부를 예측하고 결과를 분석하세요."
   ]
  },
  {
   "cell_type": "markdown",
   "metadata": {},
   "source": [
    "#### **<span style=\"color:red\">[유의 사항]</span>**\n",
    "* 각 문항의 답안코드는 반드시 '#여기에 답안코드를 작성하세요'로 표시된 cell에 작성해야 합니다.\n",
    "* 제공된 cell을 추가/삭제하고 다른 cell에 답안코드를 작성 시 채점되지 않습니다.\n",
    "* 반드시 문제에 제시된 가이드를 읽고 답안 작성하세요.\n",
    "* 문제에 변수명이 제시된 경우 반드시 해당 변수명을 사용하세요.\n",
    "* 문제와 데이터는 제3자에게 공유하거나 개인적인 용도로 사용하는 등 외부로 유출할 수 없으며 유출로 인한 책임은 응시자 본인에게 있습니다."
   ]
  },
  {
   "cell_type": "code",
   "execution_count": 818,
   "metadata": {},
   "outputs": [],
   "source": [
    "# 코드실행시 경고 메시지 무시\n",
    "import warnings\n",
    "warnings.filterwarnings(action='ignore')"
   ]
  },
  {
   "cell_type": "markdown",
   "metadata": {},
   "source": [
    "<br>"
   ]
  },
  {
   "cell_type": "markdown",
   "metadata": {},
   "source": [
    "## **<span style=\"color:black\">1. 필요한 라이브러리 설치</span>**"
   ]
  },
  {
   "cell_type": "markdown",
   "metadata": {},
   "source": [
    "<Br>\n",
    "<font color=blue>1-1. pip 이용해서 seaborn을 설치하세요.</font>"
   ]
  },
  {
   "cell_type": "code",
   "execution_count": 819,
   "metadata": {},
   "outputs": [
    {
     "name": "stdout",
     "output_type": "stream",
     "text": [
      "Requirement already satisfied: seaborn in c:\\users\\wl\\anaconda3\\lib\\site-packages (0.12.2)\n",
      "Requirement already satisfied: numpy!=1.24.0,>=1.17 in c:\\users\\wl\\anaconda3\\lib\\site-packages (from seaborn) (1.22.4)\n",
      "Requirement already satisfied: pandas>=0.25 in c:\\users\\wl\\anaconda3\\lib\\site-packages (from seaborn) (1.5.3)\n",
      "Requirement already satisfied: matplotlib!=3.6.1,>=3.1 in c:\\users\\wl\\anaconda3\\lib\\site-packages (from seaborn) (3.7.1)\n",
      "Requirement already satisfied: contourpy>=1.0.1 in c:\\users\\wl\\anaconda3\\lib\\site-packages (from matplotlib!=3.6.1,>=3.1->seaborn) (1.2.0)\n",
      "Requirement already satisfied: cycler>=0.10 in c:\\users\\wl\\anaconda3\\lib\\site-packages (from matplotlib!=3.6.1,>=3.1->seaborn) (0.10.0)\n",
      "Requirement already satisfied: fonttools>=4.22.0 in c:\\users\\wl\\anaconda3\\lib\\site-packages (from matplotlib!=3.6.1,>=3.1->seaborn) (4.25.0)\n",
      "Requirement already satisfied: kiwisolver>=1.0.1 in c:\\users\\wl\\anaconda3\\lib\\site-packages (from matplotlib!=3.6.1,>=3.1->seaborn) (1.3.1)\n",
      "Requirement already satisfied: packaging>=20.0 in c:\\users\\wl\\anaconda3\\lib\\site-packages (from matplotlib!=3.6.1,>=3.1->seaborn) (23.2)\n",
      "Requirement already satisfied: pillow>=6.2.0 in c:\\users\\wl\\anaconda3\\lib\\site-packages (from matplotlib!=3.6.1,>=3.1->seaborn) (10.2.0)\n",
      "Requirement already satisfied: pyparsing>=2.3.1 in c:\\users\\wl\\anaconda3\\lib\\site-packages (from matplotlib!=3.6.1,>=3.1->seaborn) (3.0.4)\n",
      "Requirement already satisfied: python-dateutil>=2.7 in c:\\users\\wl\\anaconda3\\lib\\site-packages (from matplotlib!=3.6.1,>=3.1->seaborn) (2.8.2)\n",
      "Requirement already satisfied: importlib-resources>=3.2.0 in c:\\users\\wl\\anaconda3\\lib\\site-packages (from matplotlib!=3.6.1,>=3.1->seaborn) (6.4.0)\n",
      "Requirement already satisfied: pytz>=2020.1 in c:\\users\\wl\\anaconda3\\lib\\site-packages (from pandas>=0.25->seaborn) (2021.3)\n",
      "Requirement already satisfied: six in c:\\users\\wl\\anaconda3\\lib\\site-packages (from cycler>=0.10->matplotlib!=3.6.1,>=3.1->seaborn) (1.16.0)\n",
      "Requirement already satisfied: zipp>=3.1.0 in c:\\users\\wl\\anaconda3\\lib\\site-packages (from importlib-resources>=3.2.0->matplotlib!=3.6.1,>=3.1->seaborn) (3.6.0)\n"
     ]
    },
    {
     "name": "stderr",
     "output_type": "stream",
     "text": [
      "WARNING: Ignoring invalid distribution -atplotlib (c:\\users\\wl\\anaconda3\\lib\\site-packages)\n",
      "WARNING: Ignoring invalid distribution -illow (c:\\users\\wl\\anaconda3\\lib\\site-packages)\n",
      "WARNING: Ignoring invalid distribution -atplotlib (c:\\users\\wl\\anaconda3\\lib\\site-packages)\n",
      "WARNING: Ignoring invalid distribution -illow (c:\\users\\wl\\anaconda3\\lib\\site-packages)\n",
      "DEPRECATION: pyodbc 4.0.0-unsupported has a non-standard version number. pip 24.1 will enforce this behaviour change. A possible replacement is to upgrade to a newer version of pyodbc or contact the author to suggest that they release a version with a conforming version number. Discussion can be found at https://github.com/pypa/pip/issues/12063\n"
     ]
    }
   ],
   "source": [
    "# 여기에 답안코드를 작성하세요.\n",
    "!pip install seaborn"
   ]
  },
  {
   "cell_type": "markdown",
   "metadata": {},
   "source": [
    "<br>\n",
    "<font color=blue>1-2. numpy 별칭을 np로, pandas 별칭을 pd로 해서 임포트 하세요</font>"
   ]
  },
  {
   "cell_type": "code",
   "execution_count": 820,
   "metadata": {},
   "outputs": [],
   "source": [
    "# 여기에 답안코드를 작성하세요.\n",
    "import numpy as np\n",
    "import pandas as pd\n"
   ]
  },
  {
   "cell_type": "markdown",
   "metadata": {},
   "source": [
    "<br>\n",
    "<font color=blue>1-3. matplotlib 라이브러리를 plt로, seaborn을 sns로 해서 임포트 하세요"
   ]
  },
  {
   "cell_type": "code",
   "execution_count": 821,
   "metadata": {},
   "outputs": [],
   "source": [
    "# 여기에 답안코드를 작성하세요.\n",
    "import matplotlib.pyplot as plt\n",
    "import seaborn as sns\n"
   ]
  },
  {
   "cell_type": "markdown",
   "metadata": {},
   "source": [
    "<br>"
   ]
  },
  {
   "cell_type": "markdown",
   "metadata": {},
   "source": [
    "## **<span style=\"color:black\">2. Tabular 데이터 로딩</span>**"
   ]
  },
  {
   "cell_type": "markdown",
   "metadata": {},
   "source": [
    "<br>\n",
    "<font color=blue>2-1. pandas read_csv 함수를 사용하여 voc_data.csv 파일을 읽어온 후 df에 저장하세요.</font>"
   ]
  },
  {
   "cell_type": "code",
   "execution_count": 822,
   "metadata": {},
   "outputs": [],
   "source": [
    "# 여기에 답안코드를 작성하세요.\n",
    "df = pd.read_csv('voc_data.csv')"
   ]
  },
  {
   "cell_type": "markdown",
   "metadata": {},
   "source": [
    "<br>"
   ]
  },
  {
   "cell_type": "markdown",
   "metadata": {},
   "source": [
    "## **<span style=\"color:black\">3. 데이터의 구성 확인</span>**"
   ]
  },
  {
   "cell_type": "markdown",
   "metadata": {},
   "source": [
    "<br>\n",
    "<font color=blue>3-1. \"df\" DataFrame 이용해서 읽어들인 파일의 앞부분 5줄, 뒷부분 5줄을 출력하세요</font>"
   ]
  },
  {
   "cell_type": "code",
   "execution_count": 823,
   "metadata": {},
   "outputs": [
    {
     "data": {
      "text/html": [
       "<div>\n",
       "<style scoped>\n",
       "    .dataframe tbody tr th:only-of-type {\n",
       "        vertical-align: middle;\n",
       "    }\n",
       "\n",
       "    .dataframe tbody tr th {\n",
       "        vertical-align: top;\n",
       "    }\n",
       "\n",
       "    .dataframe thead th {\n",
       "        text-align: right;\n",
       "    }\n",
       "</style>\n",
       "<table border=\"1\" class=\"dataframe\">\n",
       "  <thead>\n",
       "    <tr style=\"text-align: right;\">\n",
       "      <th></th>\n",
       "      <th>voc_trt_perd_itg_cd</th>\n",
       "      <th>voc_prod_sbt_id</th>\n",
       "      <th>voc_wjt_sorc_id</th>\n",
       "      <th>voc_type_itg_cd</th>\n",
       "      <th>voc_sttus_itg_cd</th>\n",
       "      <th>voc_trt_reslt_itg_cd</th>\n",
       "      <th>cust_clas_itg_cd</th>\n",
       "      <th>bprod_sbt_id</th>\n",
       "      <th>age_itg_cd</th>\n",
       "      <th>cont_sttus_itg_cd</th>\n",
       "      <th>...</th>\n",
       "      <th>voc_dupl_tmscnt</th>\n",
       "      <th>oos_cause_type_itg_cd</th>\n",
       "      <th>voc_trt_need_time_itg_cd</th>\n",
       "      <th>engt_cperd_type_itg_cd</th>\n",
       "      <th>engt_tgt_div_itg_cd</th>\n",
       "      <th>cont_fns_pam_date</th>\n",
       "      <th>voc_mis_pbls_yn</th>\n",
       "      <th>fclt_oos_yn</th>\n",
       "      <th>cust_snsry_base_conf_need_time</th>\n",
       "      <th>trm_yn</th>\n",
       "    </tr>\n",
       "  </thead>\n",
       "  <tbody>\n",
       "    <tr>\n",
       "      <th>0</th>\n",
       "      <td>_</td>\n",
       "      <td>1000665328</td>\n",
       "      <td>2153</td>\n",
       "      <td>10009</td>\n",
       "      <td>10002</td>\n",
       "      <td>_</td>\n",
       "      <td>F</td>\n",
       "      <td>1000001126</td>\n",
       "      <td>36</td>\n",
       "      <td>10001</td>\n",
       "      <td>...</td>\n",
       "      <td>0</td>\n",
       "      <td>_</td>\n",
       "      <td>10001</td>\n",
       "      <td>_</td>\n",
       "      <td>_</td>\n",
       "      <td>99991231</td>\n",
       "      <td>N</td>\n",
       "      <td>_</td>\n",
       "      <td>0</td>\n",
       "      <td>N</td>\n",
       "    </tr>\n",
       "    <tr>\n",
       "      <th>1</th>\n",
       "      <td>_</td>\n",
       "      <td>1001028714</td>\n",
       "      <td>3311</td>\n",
       "      <td>10009</td>\n",
       "      <td>10002</td>\n",
       "      <td>10081</td>\n",
       "      <td>G</td>\n",
       "      <td>1000852226</td>\n",
       "      <td>32</td>\n",
       "      <td>10001</td>\n",
       "      <td>...</td>\n",
       "      <td>0</td>\n",
       "      <td>_</td>\n",
       "      <td>10001</td>\n",
       "      <td>15098</td>\n",
       "      <td>15244</td>\n",
       "      <td>20220319</td>\n",
       "      <td>N</td>\n",
       "      <td>_</td>\n",
       "      <td>0</td>\n",
       "      <td>N</td>\n",
       "    </tr>\n",
       "    <tr>\n",
       "      <th>2</th>\n",
       "      <td>_</td>\n",
       "      <td>1001028567</td>\n",
       "      <td>1575</td>\n",
       "      <td>10009</td>\n",
       "      <td>10002</td>\n",
       "      <td>_</td>\n",
       "      <td>G</td>\n",
       "      <td>1000851875</td>\n",
       "      <td>52</td>\n",
       "      <td>10001</td>\n",
       "      <td>...</td>\n",
       "      <td>0</td>\n",
       "      <td>10268</td>\n",
       "      <td>10001</td>\n",
       "      <td>15097</td>\n",
       "      <td>15244</td>\n",
       "      <td>20220508</td>\n",
       "      <td>N</td>\n",
       "      <td>N</td>\n",
       "      <td>0</td>\n",
       "      <td>N</td>\n",
       "    </tr>\n",
       "    <tr>\n",
       "      <th>3</th>\n",
       "      <td>10000</td>\n",
       "      <td>1000665328</td>\n",
       "      <td>3546</td>\n",
       "      <td>10009</td>\n",
       "      <td>10002</td>\n",
       "      <td>_</td>\n",
       "      <td>_</td>\n",
       "      <td>1000001126</td>\n",
       "      <td>_</td>\n",
       "      <td>10001</td>\n",
       "      <td>...</td>\n",
       "      <td>0</td>\n",
       "      <td>_</td>\n",
       "      <td>10001</td>\n",
       "      <td>_</td>\n",
       "      <td>_</td>\n",
       "      <td>99991231</td>\n",
       "      <td>N</td>\n",
       "      <td>_</td>\n",
       "      <td>0</td>\n",
       "      <td>N</td>\n",
       "    </tr>\n",
       "    <tr>\n",
       "      <th>4</th>\n",
       "      <td>_</td>\n",
       "      <td>1000779276</td>\n",
       "      <td>3086</td>\n",
       "      <td>10009</td>\n",
       "      <td>10002</td>\n",
       "      <td>_</td>\n",
       "      <td>G</td>\n",
       "      <td>1000764639</td>\n",
       "      <td>50</td>\n",
       "      <td>10001</td>\n",
       "      <td>...</td>\n",
       "      <td>0</td>\n",
       "      <td>_</td>\n",
       "      <td>10001</td>\n",
       "      <td>_</td>\n",
       "      <td>_</td>\n",
       "      <td>99991231</td>\n",
       "      <td>N</td>\n",
       "      <td>_</td>\n",
       "      <td>0</td>\n",
       "      <td>N</td>\n",
       "    </tr>\n",
       "  </tbody>\n",
       "</table>\n",
       "<p>5 rows × 24 columns</p>\n",
       "</div>"
      ],
      "text/plain": [
       "  voc_trt_perd_itg_cd  voc_prod_sbt_id  voc_wjt_sorc_id  voc_type_itg_cd  \\\n",
       "0                   _       1000665328             2153            10009   \n",
       "1                   _       1001028714             3311            10009   \n",
       "2                   _       1001028567             1575            10009   \n",
       "3               10000       1000665328             3546            10009   \n",
       "4                   _       1000779276             3086            10009   \n",
       "\n",
       "   voc_sttus_itg_cd voc_trt_reslt_itg_cd cust_clas_itg_cd  bprod_sbt_id  \\\n",
       "0             10002                    _                F    1000001126   \n",
       "1             10002                10081                G    1000852226   \n",
       "2             10002                    _                G    1000851875   \n",
       "3             10002                    _                _    1000001126   \n",
       "4             10002                    _                G    1000764639   \n",
       "\n",
       "  age_itg_cd cont_sttus_itg_cd  ...  voc_dupl_tmscnt  oos_cause_type_itg_cd  \\\n",
       "0         36             10001  ...                0                      _   \n",
       "1         32             10001  ...                0                      _   \n",
       "2         52             10001  ...                0                  10268   \n",
       "3          _             10001  ...                0                      _   \n",
       "4         50             10001  ...                0                      _   \n",
       "\n",
       "  voc_trt_need_time_itg_cd  engt_cperd_type_itg_cd  engt_tgt_div_itg_cd  \\\n",
       "0                    10001                       _                    _   \n",
       "1                    10001                   15098                15244   \n",
       "2                    10001                   15097                15244   \n",
       "3                    10001                       _                    _   \n",
       "4                    10001                       _                    _   \n",
       "\n",
       "  cont_fns_pam_date  voc_mis_pbls_yn fclt_oos_yn  \\\n",
       "0          99991231                N           _   \n",
       "1          20220319                N           _   \n",
       "2          20220508                N           N   \n",
       "3          99991231                N           _   \n",
       "4          99991231                N           _   \n",
       "\n",
       "  cust_snsry_base_conf_need_time  trm_yn  \n",
       "0                              0       N  \n",
       "1                              0       N  \n",
       "2                              0       N  \n",
       "3                              0       N  \n",
       "4                              0       N  \n",
       "\n",
       "[5 rows x 24 columns]"
      ]
     },
     "execution_count": 823,
     "metadata": {},
     "output_type": "execute_result"
    }
   ],
   "source": [
    "# 여기에 답안코드를 작성하세요.\n",
    "df.head()\n"
   ]
  },
  {
   "cell_type": "code",
   "execution_count": 824,
   "metadata": {},
   "outputs": [
    {
     "data": {
      "text/html": [
       "<div>\n",
       "<style scoped>\n",
       "    .dataframe tbody tr th:only-of-type {\n",
       "        vertical-align: middle;\n",
       "    }\n",
       "\n",
       "    .dataframe tbody tr th {\n",
       "        vertical-align: top;\n",
       "    }\n",
       "\n",
       "    .dataframe thead th {\n",
       "        text-align: right;\n",
       "    }\n",
       "</style>\n",
       "<table border=\"1\" class=\"dataframe\">\n",
       "  <thead>\n",
       "    <tr style=\"text-align: right;\">\n",
       "      <th></th>\n",
       "      <th>voc_trt_perd_itg_cd</th>\n",
       "      <th>voc_prod_sbt_id</th>\n",
       "      <th>voc_wjt_sorc_id</th>\n",
       "      <th>voc_type_itg_cd</th>\n",
       "      <th>voc_sttus_itg_cd</th>\n",
       "      <th>voc_trt_reslt_itg_cd</th>\n",
       "      <th>cust_clas_itg_cd</th>\n",
       "      <th>bprod_sbt_id</th>\n",
       "      <th>age_itg_cd</th>\n",
       "      <th>cont_sttus_itg_cd</th>\n",
       "      <th>...</th>\n",
       "      <th>voc_dupl_tmscnt</th>\n",
       "      <th>oos_cause_type_itg_cd</th>\n",
       "      <th>voc_trt_need_time_itg_cd</th>\n",
       "      <th>engt_cperd_type_itg_cd</th>\n",
       "      <th>engt_tgt_div_itg_cd</th>\n",
       "      <th>cont_fns_pam_date</th>\n",
       "      <th>voc_mis_pbls_yn</th>\n",
       "      <th>fclt_oos_yn</th>\n",
       "      <th>cust_snsry_base_conf_need_time</th>\n",
       "      <th>trm_yn</th>\n",
       "    </tr>\n",
       "  </thead>\n",
       "  <tbody>\n",
       "    <tr>\n",
       "      <th>9995</th>\n",
       "      <td>_</td>\n",
       "      <td>1000811136</td>\n",
       "      <td>2123</td>\n",
       "      <td>10009</td>\n",
       "      <td>10002</td>\n",
       "      <td>_</td>\n",
       "      <td>G</td>\n",
       "      <td>1000809259</td>\n",
       "      <td>17</td>\n",
       "      <td>10001</td>\n",
       "      <td>...</td>\n",
       "      <td>0</td>\n",
       "      <td>_</td>\n",
       "      <td>10001</td>\n",
       "      <td>_</td>\n",
       "      <td>_</td>\n",
       "      <td>99991231</td>\n",
       "      <td>N</td>\n",
       "      <td>_</td>\n",
       "      <td>0</td>\n",
       "      <td>N</td>\n",
       "    </tr>\n",
       "    <tr>\n",
       "      <th>9996</th>\n",
       "      <td>_</td>\n",
       "      <td>1001047799</td>\n",
       "      <td>2153</td>\n",
       "      <td>10009</td>\n",
       "      <td>10002</td>\n",
       "      <td>_</td>\n",
       "      <td>I</td>\n",
       "      <td>1001046521</td>\n",
       "      <td>35</td>\n",
       "      <td>10001</td>\n",
       "      <td>...</td>\n",
       "      <td>0</td>\n",
       "      <td>_</td>\n",
       "      <td>10001</td>\n",
       "      <td>_</td>\n",
       "      <td>_</td>\n",
       "      <td>99991231</td>\n",
       "      <td>N</td>\n",
       "      <td>_</td>\n",
       "      <td>0</td>\n",
       "      <td>N</td>\n",
       "    </tr>\n",
       "    <tr>\n",
       "      <th>9997</th>\n",
       "      <td>_</td>\n",
       "      <td>1001027819</td>\n",
       "      <td>379</td>\n",
       "      <td>10009</td>\n",
       "      <td>10002</td>\n",
       "      <td>_</td>\n",
       "      <td>G</td>\n",
       "      <td>1000720809</td>\n",
       "      <td>51</td>\n",
       "      <td>10001</td>\n",
       "      <td>...</td>\n",
       "      <td>0</td>\n",
       "      <td>10270</td>\n",
       "      <td>10001</td>\n",
       "      <td>15097</td>\n",
       "      <td>15244</td>\n",
       "      <td>20180903</td>\n",
       "      <td>N</td>\n",
       "      <td>N</td>\n",
       "      <td>0</td>\n",
       "      <td>N</td>\n",
       "    </tr>\n",
       "    <tr>\n",
       "      <th>9998</th>\n",
       "      <td>_</td>\n",
       "      <td>1001027819</td>\n",
       "      <td>314</td>\n",
       "      <td>10009</td>\n",
       "      <td>10002</td>\n",
       "      <td>_</td>\n",
       "      <td>I</td>\n",
       "      <td>1000720809</td>\n",
       "      <td>_</td>\n",
       "      <td>10001</td>\n",
       "      <td>...</td>\n",
       "      <td>0</td>\n",
       "      <td>_</td>\n",
       "      <td>10001</td>\n",
       "      <td>15097</td>\n",
       "      <td>15244</td>\n",
       "      <td>20210412</td>\n",
       "      <td>N</td>\n",
       "      <td>_</td>\n",
       "      <td>0</td>\n",
       "      <td>N</td>\n",
       "    </tr>\n",
       "    <tr>\n",
       "      <th>9999</th>\n",
       "      <td>_</td>\n",
       "      <td>1001047802</td>\n",
       "      <td>2266</td>\n",
       "      <td>10009</td>\n",
       "      <td>10002</td>\n",
       "      <td>_</td>\n",
       "      <td>G</td>\n",
       "      <td>1001046524</td>\n",
       "      <td>27</td>\n",
       "      <td>10001</td>\n",
       "      <td>...</td>\n",
       "      <td>0</td>\n",
       "      <td>_</td>\n",
       "      <td>10001</td>\n",
       "      <td>_</td>\n",
       "      <td>_</td>\n",
       "      <td>99991231</td>\n",
       "      <td>N</td>\n",
       "      <td>_</td>\n",
       "      <td>0</td>\n",
       "      <td>N</td>\n",
       "    </tr>\n",
       "  </tbody>\n",
       "</table>\n",
       "<p>5 rows × 24 columns</p>\n",
       "</div>"
      ],
      "text/plain": [
       "     voc_trt_perd_itg_cd  voc_prod_sbt_id  voc_wjt_sorc_id  voc_type_itg_cd  \\\n",
       "9995                   _       1000811136             2123            10009   \n",
       "9996                   _       1001047799             2153            10009   \n",
       "9997                   _       1001027819              379            10009   \n",
       "9998                   _       1001027819              314            10009   \n",
       "9999                   _       1001047802             2266            10009   \n",
       "\n",
       "      voc_sttus_itg_cd voc_trt_reslt_itg_cd cust_clas_itg_cd  bprod_sbt_id  \\\n",
       "9995             10002                    _                G    1000809259   \n",
       "9996             10002                    _                I    1001046521   \n",
       "9997             10002                    _                G    1000720809   \n",
       "9998             10002                    _                I    1000720809   \n",
       "9999             10002                    _                G    1001046524   \n",
       "\n",
       "     age_itg_cd cont_sttus_itg_cd  ...  voc_dupl_tmscnt  \\\n",
       "9995         17             10001  ...                0   \n",
       "9996         35             10001  ...                0   \n",
       "9997         51             10001  ...                0   \n",
       "9998          _             10001  ...                0   \n",
       "9999         27             10001  ...                0   \n",
       "\n",
       "      oos_cause_type_itg_cd voc_trt_need_time_itg_cd  engt_cperd_type_itg_cd  \\\n",
       "9995                      _                    10001                       _   \n",
       "9996                      _                    10001                       _   \n",
       "9997                  10270                    10001                   15097   \n",
       "9998                      _                    10001                   15097   \n",
       "9999                      _                    10001                       _   \n",
       "\n",
       "      engt_tgt_div_itg_cd cont_fns_pam_date  voc_mis_pbls_yn fclt_oos_yn  \\\n",
       "9995                    _          99991231                N           _   \n",
       "9996                    _          99991231                N           _   \n",
       "9997                15244          20180903                N           N   \n",
       "9998                15244          20210412                N           _   \n",
       "9999                    _          99991231                N           _   \n",
       "\n",
       "     cust_snsry_base_conf_need_time  trm_yn  \n",
       "9995                              0       N  \n",
       "9996                              0       N  \n",
       "9997                              0       N  \n",
       "9998                              0       N  \n",
       "9999                              0       N  \n",
       "\n",
       "[5 rows x 24 columns]"
      ]
     },
     "execution_count": 824,
     "metadata": {},
     "output_type": "execute_result"
    }
   ],
   "source": [
    "# 여기에 답안코드를 작성하세요.\n",
    "df.tail()\n"
   ]
  },
  {
   "cell_type": "markdown",
   "metadata": {},
   "source": [
    "<br>\n",
    "<font color=blue>3-2. 데이터프레임 정보(컬럼정보, Null 여부, 타입) 출력하세요</font>"
   ]
  },
  {
   "cell_type": "code",
   "execution_count": 825,
   "metadata": {},
   "outputs": [
    {
     "name": "stdout",
     "output_type": "stream",
     "text": [
      "<class 'pandas.core.frame.DataFrame'>\n",
      "RangeIndex: 10000 entries, 0 to 9999\n",
      "Data columns (total 24 columns):\n",
      " #   Column                          Non-Null Count  Dtype \n",
      "---  ------                          --------------  ----- \n",
      " 0   voc_trt_perd_itg_cd             10000 non-null  object\n",
      " 1   voc_prod_sbt_id                 10000 non-null  int64 \n",
      " 2   voc_wjt_sorc_id                 10000 non-null  int64 \n",
      " 3   voc_type_itg_cd                 10000 non-null  int64 \n",
      " 4   voc_sttus_itg_cd                10000 non-null  int64 \n",
      " 5   voc_trt_reslt_itg_cd            10000 non-null  object\n",
      " 6   cust_clas_itg_cd                10000 non-null  object\n",
      " 7   bprod_sbt_id                    10000 non-null  int64 \n",
      " 8   age_itg_cd                      10000 non-null  object\n",
      " 9   cont_sttus_itg_cd               10000 non-null  object\n",
      " 10  new_date                        10000 non-null  int64 \n",
      " 11  opn_nfl_chg_date                10000 non-null  int64 \n",
      " 12  cust_dtl_ctg_itg_cd             10000 non-null  object\n",
      " 13  voc_trt_degr_div_itg_cd         10000 non-null  int64 \n",
      " 14  voc_dupl_tmscnt                 10000 non-null  int64 \n",
      " 15  oos_cause_type_itg_cd           10000 non-null  object\n",
      " 16  voc_trt_need_time_itg_cd        10000 non-null  int64 \n",
      " 17  engt_cperd_type_itg_cd          10000 non-null  object\n",
      " 18  engt_tgt_div_itg_cd             10000 non-null  object\n",
      " 19  cont_fns_pam_date               10000 non-null  int64 \n",
      " 20  voc_mis_pbls_yn                 10000 non-null  object\n",
      " 21  fclt_oos_yn                     10000 non-null  object\n",
      " 22  cust_snsry_base_conf_need_time  10000 non-null  int64 \n",
      " 23  trm_yn                          10000 non-null  object\n",
      "dtypes: int64(12), object(12)\n",
      "memory usage: 1.8+ MB\n"
     ]
    }
   ],
   "source": [
    "# 여기에 답안코드를 작성하세요.\n",
    "df.info()\n"
   ]
  },
  {
   "cell_type": "markdown",
   "metadata": {},
   "source": [
    "<br>\n",
    "<font color=blue>3-3. 데이터프레임 인덱스를 확인하세요</font>"
   ]
  },
  {
   "cell_type": "code",
   "execution_count": 879,
   "metadata": {},
   "outputs": [
    {
     "data": {
      "text/plain": [
       "[0, 1, 2, 3, 4]"
      ]
     },
     "execution_count": 879,
     "metadata": {},
     "output_type": "execute_result"
    }
   ],
   "source": [
    "# 여기에 답안코드를 작성하세요.\n",
    "list(df.index)[:5]\n"
   ]
  },
  {
   "cell_type": "markdown",
   "metadata": {},
   "source": [
    "<br>\n",
    "<font color=blue>3-4. 데이터프레임 컬럼을 확인하세요</font>"
   ]
  },
  {
   "cell_type": "code",
   "execution_count": 827,
   "metadata": {},
   "outputs": [
    {
     "data": {
      "text/plain": [
       "Index(['voc_trt_perd_itg_cd', 'voc_prod_sbt_id', 'voc_wjt_sorc_id',\n",
       "       'voc_type_itg_cd', 'voc_sttus_itg_cd', 'voc_trt_reslt_itg_cd',\n",
       "       'cust_clas_itg_cd', 'bprod_sbt_id', 'age_itg_cd', 'cont_sttus_itg_cd',\n",
       "       'new_date', 'opn_nfl_chg_date', 'cust_dtl_ctg_itg_cd',\n",
       "       'voc_trt_degr_div_itg_cd', 'voc_dupl_tmscnt', 'oos_cause_type_itg_cd',\n",
       "       'voc_trt_need_time_itg_cd', 'engt_cperd_type_itg_cd',\n",
       "       'engt_tgt_div_itg_cd', 'cont_fns_pam_date', 'voc_mis_pbls_yn',\n",
       "       'fclt_oos_yn', 'cust_snsry_base_conf_need_time', 'trm_yn'],\n",
       "      dtype='object')"
      ]
     },
     "execution_count": 827,
     "metadata": {},
     "output_type": "execute_result"
    }
   ],
   "source": [
    "# 여기에 답안코드를 작성하세요.\n",
    "df.columns\n"
   ]
  },
  {
   "cell_type": "markdown",
   "metadata": {},
   "source": [
    "<br>\n",
    "<font color=blue>3-5. 데이터프레임 값(value)을 확인하세요</font>"
   ]
  },
  {
   "cell_type": "code",
   "execution_count": 828,
   "metadata": {},
   "outputs": [
    {
     "data": {
      "text/plain": [
       "array([['_', 1000665328, 2153, ..., '_', 0, 'N'],\n",
       "       ['_', 1001028714, 3311, ..., '_', 0, 'N'],\n",
       "       ['_', 1001028567, 1575, ..., 'N', 0, 'N'],\n",
       "       ...,\n",
       "       ['_', 1001027819, 379, ..., 'N', 0, 'N'],\n",
       "       ['_', 1001027819, 314, ..., '_', 0, 'N'],\n",
       "       ['_', 1001047802, 2266, ..., '_', 0, 'N']], dtype=object)"
      ]
     },
     "execution_count": 828,
     "metadata": {},
     "output_type": "execute_result"
    }
   ],
   "source": [
    "# 여기에 답안코드를 작성하세요.\n",
    "df.values\n"
   ]
  },
  {
   "cell_type": "markdown",
   "metadata": {},
   "source": [
    "<br>\n",
    "<font color=blue>3-6. 데이터프레임의 계산 가능한 값들에 대한 통계치를 확인하세요</font>"
   ]
  },
  {
   "cell_type": "code",
   "execution_count": 829,
   "metadata": {},
   "outputs": [
    {
     "data": {
      "text/html": [
       "<div>\n",
       "<style scoped>\n",
       "    .dataframe tbody tr th:only-of-type {\n",
       "        vertical-align: middle;\n",
       "    }\n",
       "\n",
       "    .dataframe tbody tr th {\n",
       "        vertical-align: top;\n",
       "    }\n",
       "\n",
       "    .dataframe thead th {\n",
       "        text-align: right;\n",
       "    }\n",
       "</style>\n",
       "<table border=\"1\" class=\"dataframe\">\n",
       "  <thead>\n",
       "    <tr style=\"text-align: right;\">\n",
       "      <th></th>\n",
       "      <th>voc_prod_sbt_id</th>\n",
       "      <th>voc_wjt_sorc_id</th>\n",
       "      <th>voc_type_itg_cd</th>\n",
       "      <th>voc_sttus_itg_cd</th>\n",
       "      <th>bprod_sbt_id</th>\n",
       "      <th>new_date</th>\n",
       "      <th>opn_nfl_chg_date</th>\n",
       "      <th>voc_trt_degr_div_itg_cd</th>\n",
       "      <th>voc_dupl_tmscnt</th>\n",
       "      <th>voc_trt_need_time_itg_cd</th>\n",
       "      <th>cont_fns_pam_date</th>\n",
       "      <th>cust_snsry_base_conf_need_time</th>\n",
       "    </tr>\n",
       "  </thead>\n",
       "  <tbody>\n",
       "    <tr>\n",
       "      <th>count</th>\n",
       "      <td>1.000000e+04</td>\n",
       "      <td>10000.00000</td>\n",
       "      <td>10000.00000</td>\n",
       "      <td>10000.000000</td>\n",
       "      <td>1.000000e+04</td>\n",
       "      <td>1.000000e+04</td>\n",
       "      <td>1.000000e+04</td>\n",
       "      <td>10000.000000</td>\n",
       "      <td>10000.000000</td>\n",
       "      <td>10000.000000</td>\n",
       "      <td>1.000000e+04</td>\n",
       "      <td>10000.00000</td>\n",
       "    </tr>\n",
       "    <tr>\n",
       "      <th>mean</th>\n",
       "      <td>9.907267e+08</td>\n",
       "      <td>1578.29170</td>\n",
       "      <td>10008.52360</td>\n",
       "      <td>10002.043400</td>\n",
       "      <td>8.838173e+08</td>\n",
       "      <td>1.744283e+07</td>\n",
       "      <td>1.744505e+07</td>\n",
       "      <td>20001.074200</td>\n",
       "      <td>0.008800</td>\n",
       "      <td>10002.656800</td>\n",
       "      <td>7.004469e+07</td>\n",
       "      <td>193.88010</td>\n",
       "    </tr>\n",
       "    <tr>\n",
       "      <th>std</th>\n",
       "      <td>1.005780e+08</td>\n",
       "      <td>1078.63717</td>\n",
       "      <td>1.57927</td>\n",
       "      <td>0.314843</td>\n",
       "      <td>3.214229e+08</td>\n",
       "      <td>6.849207e+06</td>\n",
       "      <td>6.850077e+06</td>\n",
       "      <td>0.262109</td>\n",
       "      <td>0.103555</td>\n",
       "      <td>6.576864</td>\n",
       "      <td>3.863802e+07</td>\n",
       "      <td>6970.03853</td>\n",
       "    </tr>\n",
       "    <tr>\n",
       "      <th>min</th>\n",
       "      <td>-9.980000e+02</td>\n",
       "      <td>126.00000</td>\n",
       "      <td>10003.00000</td>\n",
       "      <td>10002.000000</td>\n",
       "      <td>-9.980000e+02</td>\n",
       "      <td>1.010100e+04</td>\n",
       "      <td>1.010100e+04</td>\n",
       "      <td>20001.000000</td>\n",
       "      <td>0.000000</td>\n",
       "      <td>10001.000000</td>\n",
       "      <td>2.001063e+07</td>\n",
       "      <td>0.00000</td>\n",
       "    </tr>\n",
       "    <tr>\n",
       "      <th>25%</th>\n",
       "      <td>1.000782e+09</td>\n",
       "      <td>360.00000</td>\n",
       "      <td>10009.00000</td>\n",
       "      <td>10002.000000</td>\n",
       "      <td>1.000003e+09</td>\n",
       "      <td>2.008053e+07</td>\n",
       "      <td>2.008123e+07</td>\n",
       "      <td>20001.000000</td>\n",
       "      <td>0.000000</td>\n",
       "      <td>10001.000000</td>\n",
       "      <td>2.021102e+07</td>\n",
       "      <td>0.00000</td>\n",
       "    </tr>\n",
       "    <tr>\n",
       "      <th>50%</th>\n",
       "      <td>1.001028e+09</td>\n",
       "      <td>2056.00000</td>\n",
       "      <td>10009.00000</td>\n",
       "      <td>10002.000000</td>\n",
       "      <td>1.000749e+09</td>\n",
       "      <td>2.014121e+07</td>\n",
       "      <td>2.015031e+07</td>\n",
       "      <td>20001.000000</td>\n",
       "      <td>0.000000</td>\n",
       "      <td>10001.000000</td>\n",
       "      <td>9.999123e+07</td>\n",
       "      <td>0.00000</td>\n",
       "    </tr>\n",
       "    <tr>\n",
       "      <th>75%</th>\n",
       "      <td>1.001036e+09</td>\n",
       "      <td>2153.00000</td>\n",
       "      <td>10009.00000</td>\n",
       "      <td>10002.000000</td>\n",
       "      <td>1.001044e+09</td>\n",
       "      <td>2.018010e+07</td>\n",
       "      <td>2.018032e+07</td>\n",
       "      <td>20001.000000</td>\n",
       "      <td>0.000000</td>\n",
       "      <td>10001.000000</td>\n",
       "      <td>9.999123e+07</td>\n",
       "      <td>0.00000</td>\n",
       "    </tr>\n",
       "    <tr>\n",
       "      <th>max</th>\n",
       "      <td>1.001079e+09</td>\n",
       "      <td>3856.00000</td>\n",
       "      <td>10017.00000</td>\n",
       "      <td>10005.000000</td>\n",
       "      <td>1.001078e+09</td>\n",
       "      <td>2.020041e+07</td>\n",
       "      <td>2.020041e+07</td>\n",
       "      <td>20002.000000</td>\n",
       "      <td>3.000000</td>\n",
       "      <td>10038.000000</td>\n",
       "      <td>9.999123e+07</td>\n",
       "      <td>367991.00000</td>\n",
       "    </tr>\n",
       "  </tbody>\n",
       "</table>\n",
       "</div>"
      ],
      "text/plain": [
       "       voc_prod_sbt_id  voc_wjt_sorc_id  voc_type_itg_cd  voc_sttus_itg_cd  \\\n",
       "count     1.000000e+04      10000.00000      10000.00000      10000.000000   \n",
       "mean      9.907267e+08       1578.29170      10008.52360      10002.043400   \n",
       "std       1.005780e+08       1078.63717          1.57927          0.314843   \n",
       "min      -9.980000e+02        126.00000      10003.00000      10002.000000   \n",
       "25%       1.000782e+09        360.00000      10009.00000      10002.000000   \n",
       "50%       1.001028e+09       2056.00000      10009.00000      10002.000000   \n",
       "75%       1.001036e+09       2153.00000      10009.00000      10002.000000   \n",
       "max       1.001079e+09       3856.00000      10017.00000      10005.000000   \n",
       "\n",
       "       bprod_sbt_id      new_date  opn_nfl_chg_date  voc_trt_degr_div_itg_cd  \\\n",
       "count  1.000000e+04  1.000000e+04      1.000000e+04             10000.000000   \n",
       "mean   8.838173e+08  1.744283e+07      1.744505e+07             20001.074200   \n",
       "std    3.214229e+08  6.849207e+06      6.850077e+06                 0.262109   \n",
       "min   -9.980000e+02  1.010100e+04      1.010100e+04             20001.000000   \n",
       "25%    1.000003e+09  2.008053e+07      2.008123e+07             20001.000000   \n",
       "50%    1.000749e+09  2.014121e+07      2.015031e+07             20001.000000   \n",
       "75%    1.001044e+09  2.018010e+07      2.018032e+07             20001.000000   \n",
       "max    1.001078e+09  2.020041e+07      2.020041e+07             20002.000000   \n",
       "\n",
       "       voc_dupl_tmscnt  voc_trt_need_time_itg_cd  cont_fns_pam_date  \\\n",
       "count     10000.000000              10000.000000       1.000000e+04   \n",
       "mean          0.008800              10002.656800       7.004469e+07   \n",
       "std           0.103555                  6.576864       3.863802e+07   \n",
       "min           0.000000              10001.000000       2.001063e+07   \n",
       "25%           0.000000              10001.000000       2.021102e+07   \n",
       "50%           0.000000              10001.000000       9.999123e+07   \n",
       "75%           0.000000              10001.000000       9.999123e+07   \n",
       "max           3.000000              10038.000000       9.999123e+07   \n",
       "\n",
       "       cust_snsry_base_conf_need_time  \n",
       "count                     10000.00000  \n",
       "mean                        193.88010  \n",
       "std                        6970.03853  \n",
       "min                           0.00000  \n",
       "25%                           0.00000  \n",
       "50%                           0.00000  \n",
       "75%                           0.00000  \n",
       "max                      367991.00000  "
      ]
     },
     "execution_count": 829,
     "metadata": {},
     "output_type": "execute_result"
    }
   ],
   "source": [
    "# 여기에 답안코드를 작성하세요.\n",
    "df.describe()\n"
   ]
  },
  {
   "cell_type": "markdown",
   "metadata": {},
   "source": [
    "<br>\n",
    "<font color=blue>3-7. DataFrame 컬럼 항목에 Null 존재하는지 확인하세요.  (null값의 합계 포함)</font>"
   ]
  },
  {
   "cell_type": "code",
   "execution_count": 830,
   "metadata": {},
   "outputs": [
    {
     "data": {
      "text/plain": [
       "voc_trt_perd_itg_cd               0\n",
       "voc_prod_sbt_id                   0\n",
       "voc_wjt_sorc_id                   0\n",
       "voc_type_itg_cd                   0\n",
       "voc_sttus_itg_cd                  0\n",
       "voc_trt_reslt_itg_cd              0\n",
       "cust_clas_itg_cd                  0\n",
       "bprod_sbt_id                      0\n",
       "age_itg_cd                        0\n",
       "cont_sttus_itg_cd                 0\n",
       "new_date                          0\n",
       "opn_nfl_chg_date                  0\n",
       "cust_dtl_ctg_itg_cd               0\n",
       "voc_trt_degr_div_itg_cd           0\n",
       "voc_dupl_tmscnt                   0\n",
       "oos_cause_type_itg_cd             0\n",
       "voc_trt_need_time_itg_cd          0\n",
       "engt_cperd_type_itg_cd            0\n",
       "engt_tgt_div_itg_cd               0\n",
       "cont_fns_pam_date                 0\n",
       "voc_mis_pbls_yn                   0\n",
       "fclt_oos_yn                       0\n",
       "cust_snsry_base_conf_need_time    0\n",
       "trm_yn                            0\n",
       "dtype: int64"
      ]
     },
     "execution_count": 830,
     "metadata": {},
     "output_type": "execute_result"
    }
   ],
   "source": [
    "# 여기에 답안코드를 작성하세요.\n",
    "df.isna().sum()\n"
   ]
  },
  {
   "cell_type": "markdown",
   "metadata": {},
   "source": [
    "<br>\n",
    "<font color=blue>3-8. voc_trt_perd_itg_cd 컬럼의 데이터를 확인하세요</font>"
   ]
  },
  {
   "cell_type": "code",
   "execution_count": 831,
   "metadata": {},
   "outputs": [
    {
     "data": {
      "text/plain": [
       "0           _\n",
       "1           _\n",
       "2           _\n",
       "3       10000\n",
       "4           _\n",
       "        ...  \n",
       "9995        _\n",
       "9996        _\n",
       "9997        _\n",
       "9998        _\n",
       "9999        _\n",
       "Name: voc_trt_perd_itg_cd, Length: 10000, dtype: object"
      ]
     },
     "execution_count": 831,
     "metadata": {},
     "output_type": "execute_result"
    }
   ],
   "source": [
    "# 여기에 답안코드를 작성하세요.\n",
    "df['voc_trt_perd_itg_cd']\n"
   ]
  },
  {
   "cell_type": "markdown",
   "metadata": {},
   "source": [
    "<br>\n",
    "<font color=blue>3-9. voc_trt_perd_itg_cd 컬럼 데이터별 건수를 나열하세요</font>"
   ]
  },
  {
   "cell_type": "code",
   "execution_count": 832,
   "metadata": {},
   "outputs": [
    {
     "data": {
      "text/plain": [
       "_        5422\n",
       "10000    4283\n",
       "10001     163\n",
       "10002      58\n",
       "10003      25\n",
       "10004      16\n",
       "10005      10\n",
       "10006       6\n",
       "10008       3\n",
       "10009       3\n",
       "10016       2\n",
       "10011       2\n",
       "10012       2\n",
       "10007       2\n",
       "10014       1\n",
       "10013       1\n",
       "10015       1\n",
       "Name: voc_trt_perd_itg_cd, dtype: int64"
      ]
     },
     "execution_count": 832,
     "metadata": {},
     "output_type": "execute_result"
    }
   ],
   "source": [
    "# 여기에 답안코드를 작성하세요.\n",
    "df['voc_trt_perd_itg_cd'].value_counts()\n"
   ]
  },
  {
   "cell_type": "markdown",
   "metadata": {},
   "source": [
    "### 컬럼에서  '_' 값이 차지하는 비율\n",
    "- voc_trt_perd_itg_cd : 0.54\n",
    "- voc_trt_reslt_itg_cd : 0.88\n",
    "- oos_cause_type_itg_cd : 0.9\n",
    "- engt_cperd_type_itg_cd : 0.63\n",
    "- engt_tgt_div_itg_cd : 0.63\n",
    "- fclt_oos_yn : 0.90  \n",
    "- cust_clas_itg_cd : 0.2\n",
    "- age_itg_cd : 0.22\n",
    "- cont_sttus_itg_cd : 0.11\n",
    "- cust_dtl_ctg_itg_cd : 0.11\n",
    "- voc_mis_pbls_yn : 0.008\n"
   ]
  },
  {
   "cell_type": "markdown",
   "metadata": {},
   "source": [
    "## **<span style=\"color:black\">4. 데이터 결측치 처리</span>**"
   ]
  },
  {
   "cell_type": "markdown",
   "metadata": {},
   "source": [
    "<br>\n",
    "<font color=blue>4-1. voc_trt_perd_itg_cd 컬럼에서 '_' 값이 차지하는 비율이 50%가 넘는 것을 확인하고, 이 voc_trt_perd_itg_cd 컬럼을 삭제하세요. (컬럼이 삭제된 데이터를 df1에 저장하세요)</font>"
   ]
  },
  {
   "cell_type": "code",
   "execution_count": 882,
   "metadata": {},
   "outputs": [
    {
     "name": "stdout",
     "output_type": "stream",
     "text": [
      "54.22\n"
     ]
    },
    {
     "data": {
      "text/plain": [
       "Index(['voc_prod_sbt_id', 'voc_wjt_sorc_id', 'voc_type_itg_cd',\n",
       "       'voc_sttus_itg_cd', 'voc_trt_reslt_itg_cd', 'cust_clas_itg_cd',\n",
       "       'bprod_sbt_id', 'age_itg_cd', 'cont_sttus_itg_cd', 'new_date',\n",
       "       'opn_nfl_chg_date', 'cust_dtl_ctg_itg_cd', 'voc_trt_degr_div_itg_cd',\n",
       "       'voc_dupl_tmscnt', 'oos_cause_type_itg_cd', 'voc_trt_need_time_itg_cd',\n",
       "       'engt_cperd_type_itg_cd', 'engt_tgt_div_itg_cd', 'cont_fns_pam_date',\n",
       "       'voc_mis_pbls_yn', 'fclt_oos_yn', 'cust_snsry_base_conf_need_time',\n",
       "       'trm_yn'],\n",
       "      dtype='object')"
      ]
     },
     "execution_count": 882,
     "metadata": {},
     "output_type": "execute_result"
    }
   ],
   "source": [
    "# 여기에 답안코드를 작성하세요.\n",
    "print(len(df['voc_trt_perd_itg_cd'].loc[ df['voc_trt_perd_itg_cd']=='_' , ]) / len(df['voc_trt_perd_itg_cd']) * 100)\n",
    "# df['voc_trt_perd_itg_cd'].value_counts(normalize = True) # 답\n",
    "\n",
    "df1 = df.drop('voc_trt_perd_itg_cd', axis=1)\n",
    "df1.columns"
   ]
  },
  {
   "cell_type": "code",
   "execution_count": null,
   "metadata": {},
   "outputs": [],
   "source": []
  },
  {
   "cell_type": "markdown",
   "metadata": {},
   "source": [
    "<br>\n",
    "<font color=blue>4-2. 'df1' DataFrame에서 '_' 값이 50% 이상되는 나머지 컬럼도 삭제하세요</font>"
   ]
  },
  {
   "cell_type": "code",
   "execution_count": 834,
   "metadata": {},
   "outputs": [
    {
     "data": {
      "text/plain": [
       "Index(['voc_prod_sbt_id', 'voc_wjt_sorc_id', 'voc_type_itg_cd',\n",
       "       'voc_sttus_itg_cd', 'cust_clas_itg_cd', 'bprod_sbt_id', 'age_itg_cd',\n",
       "       'cont_sttus_itg_cd', 'new_date', 'opn_nfl_chg_date',\n",
       "       'cust_dtl_ctg_itg_cd', 'voc_trt_degr_div_itg_cd', 'voc_dupl_tmscnt',\n",
       "       'voc_trt_need_time_itg_cd', 'cont_fns_pam_date', 'voc_mis_pbls_yn',\n",
       "       'cust_snsry_base_conf_need_time', 'trm_yn'],\n",
       "      dtype='object')"
      ]
     },
     "execution_count": 834,
     "metadata": {},
     "output_type": "execute_result"
    }
   ],
   "source": [
    "# 여기에 답안코드를 작성하세요.\n",
    "df1 = df1.drop(['voc_trt_reslt_itg_cd','oos_cause_type_itg_cd','engt_cperd_type_itg_cd','engt_tgt_div_itg_cd','fclt_oos_yn'], axis=1)\n",
    "df1.columns"
   ]
  },
  {
   "cell_type": "markdown",
   "metadata": {},
   "source": [
    "<br>\n",
    "<font color=blue>4-3. 'df1' DataFrame의 'cust_clas_itg_cd' 컬럼에 '_' 값이 몇 개 있는지 확인하여 출력하세요 </font>"
   ]
  },
  {
   "cell_type": "code",
   "execution_count": null,
   "metadata": {},
   "outputs": [],
   "source": [
    "# df1.loc[ df1['cust_clas_itg_cd']=='_' ,  ]"
   ]
  },
  {
   "cell_type": "code",
   "execution_count": 835,
   "metadata": {},
   "outputs": [
    {
     "data": {
      "text/plain": [
       "1934"
      ]
     },
     "execution_count": 835,
     "metadata": {},
     "output_type": "execute_result"
    }
   ],
   "source": [
    "# 여기에 답안코드를 작성하세요.\n",
    "len(df1['cust_clas_itg_cd'].loc[ df1['cust_clas_itg_cd']=='_' ,  ])\n",
    "\n",
    "# 답\n",
    "# count = (df1['cust_clas_itg_cd'] == '_').sum()\n",
    "# print(count)"
   ]
  },
  {
   "cell_type": "code",
   "execution_count": 889,
   "metadata": {},
   "outputs": [
    {
     "data": {
      "text/plain": [
       "1934"
      ]
     },
     "execution_count": 889,
     "metadata": {},
     "output_type": "execute_result"
    }
   ],
   "source": [
    "(df1['cust_clas_itg_cd'] == '_').sum()"
   ]
  },
  {
   "cell_type": "code",
   "execution_count": 887,
   "metadata": {},
   "outputs": [],
   "source": []
  },
  {
   "cell_type": "markdown",
   "metadata": {},
   "source": [
    "<br>\n",
    "<font color=blue>4-4. df1의 남아있는 '_'값을 null로 변경: DataFrame replace 함수를 사용해서 모든 컬럼에 대해 '_'값을 null로 변경하고 df2에 저장하세요.</font>"
   ]
  },
  {
   "cell_type": "code",
   "execution_count": 836,
   "metadata": {},
   "outputs": [],
   "source": [
    "# 여기에 답안코드를 작성하세요.\n",
    "df2 = df1.replace('_', np.nan)"
   ]
  },
  {
   "cell_type": "markdown",
   "metadata": {},
   "source": [
    "<br>\n",
    "<font color=blue>4-5. df2의 컬럼별 Null 갯수를 확인해보세요.</font>"
   ]
  },
  {
   "cell_type": "code",
   "execution_count": 837,
   "metadata": {},
   "outputs": [
    {
     "data": {
      "text/plain": [
       "voc_prod_sbt_id                      0\n",
       "voc_wjt_sorc_id                      0\n",
       "voc_type_itg_cd                      0\n",
       "voc_sttus_itg_cd                     0\n",
       "cust_clas_itg_cd                  1934\n",
       "bprod_sbt_id                         0\n",
       "age_itg_cd                        2129\n",
       "cont_sttus_itg_cd                 1168\n",
       "new_date                             0\n",
       "opn_nfl_chg_date                     0\n",
       "cust_dtl_ctg_itg_cd               1168\n",
       "voc_trt_degr_div_itg_cd              0\n",
       "voc_dupl_tmscnt                      0\n",
       "voc_trt_need_time_itg_cd             0\n",
       "cont_fns_pam_date                    0\n",
       "voc_mis_pbls_yn                     86\n",
       "cust_snsry_base_conf_need_time       0\n",
       "trm_yn                               0\n",
       "dtype: int64"
      ]
     },
     "execution_count": 837,
     "metadata": {},
     "output_type": "execute_result"
    }
   ],
   "source": [
    "# 여기에 답안코드를 작성하세요.\n",
    "df2.isna().sum()\n"
   ]
  },
  {
   "cell_type": "markdown",
   "metadata": {},
   "source": [
    "<br>\n",
    "<font color=blue>4-6. df2 데이터프레임 컬럼들의 데이터타입을 확인하세요.</font>"
   ]
  },
  {
   "cell_type": "code",
   "execution_count": 838,
   "metadata": {},
   "outputs": [
    {
     "data": {
      "text/plain": [
       "voc_prod_sbt_id                    int64\n",
       "voc_wjt_sorc_id                    int64\n",
       "voc_type_itg_cd                    int64\n",
       "voc_sttus_itg_cd                   int64\n",
       "cust_clas_itg_cd                  object\n",
       "bprod_sbt_id                       int64\n",
       "age_itg_cd                        object\n",
       "cont_sttus_itg_cd                 object\n",
       "new_date                           int64\n",
       "opn_nfl_chg_date                   int64\n",
       "cust_dtl_ctg_itg_cd               object\n",
       "voc_trt_degr_div_itg_cd            int64\n",
       "voc_dupl_tmscnt                    int64\n",
       "voc_trt_need_time_itg_cd           int64\n",
       "cont_fns_pam_date                  int64\n",
       "voc_mis_pbls_yn                   object\n",
       "cust_snsry_base_conf_need_time     int64\n",
       "trm_yn                            object\n",
       "dtype: object"
      ]
     },
     "execution_count": 838,
     "metadata": {},
     "output_type": "execute_result"
    }
   ],
   "source": [
    "# 여기에 답안코드를 작성하세요.\n",
    "df2.dtypes\n"
   ]
  },
  {
   "cell_type": "markdown",
   "metadata": {},
   "source": [
    "<br>\n",
    "<font color=blue>4-7. df2 데이터프레임에 대해 먼저, 'cust_clas_itg_cd' 컬럼의 최빈값을 확인하는 코드로 확인하고 다음으로, 이 컬럼의 Null 값을 최빈값으로 변경하세요(fillna 함수 사용). 처리된 데이터프레임은 df3에 저장하세요</font>"
   ]
  },
  {
   "cell_type": "code",
   "execution_count": 839,
   "metadata": {},
   "outputs": [
    {
     "name": "stdout",
     "output_type": "stream",
     "text": [
      "0    L\n",
      "Name: cust_clas_itg_cd, dtype: object\n"
     ]
    }
   ],
   "source": [
    "# 여기에 답안코드를 작성하세요.\n",
    "print(df2['cust_clas_itg_cd'].mode())\n",
    "df2['cust_clas_itg_cd'].fillna(df2['cust_clas_itg_cd'].mode()[0], inplace=True) #! mode()[0]\n",
    "df3=df2"
   ]
  },
  {
   "cell_type": "markdown",
   "metadata": {},
   "source": [
    "<br>\n",
    "<font color=blue>4-8. df3에 대해 'age_itg_cd'의 null 값을 중앙값(median)으로 변경하고 데이터 타입을 정수(int)로 변경하세요. 데이터 처리 후 데이터프레임을 df4에 저장하세요.</font>"
   ]
  },
  {
   "cell_type": "code",
   "execution_count": 840,
   "metadata": {},
   "outputs": [],
   "source": [
    "# 여기에 답안코드를 작성하세요.\n",
    "df3['age_itg_cd'].fillna( df3['age_itg_cd'].median(),inplace=True )\n",
    "df3['age_itg_cd'] = df3['age_itg_cd'].astype(int)\n",
    "df4=df3"
   ]
  },
  {
   "cell_type": "markdown",
   "metadata": {},
   "source": [
    "<br>\n",
    "<font color=blue>4-9. df4에 대해 'cont_sttus_itg_cd'의 null 값을 최빈값(mode)으로 변경하세요. 데이터 처리 후 데이터프레임을 df5에 저장하세요.</font>"
   ]
  },
  {
   "cell_type": "code",
   "execution_count": 841,
   "metadata": {},
   "outputs": [],
   "source": [
    "# 여기에 답안코드를 작성하세요.\n",
    "df4['cont_sttus_itg_cd'].fillna(df4['cont_sttus_itg_cd'].mode()[0], inplace=True)\n",
    "df5=df4\n",
    "\n",
    "# 답 굳이x\n",
    "# df4.replace({'cont_sttus_itg_cd' : {np.nan : df4['cont_sttus_itg_cd'].mode()}}, inplace = True)\n",
    "# df5 = df4"
   ]
  },
  {
   "cell_type": "markdown",
   "metadata": {},
   "source": [
    "<br>\n",
    "<font color=blue>4-10. df5에 대해 'cust_dtl_ctg_itg_cd'의 null 값을 최빈값(mode)으로 변경하세요</font>"
   ]
  },
  {
   "cell_type": "code",
   "execution_count": 842,
   "metadata": {},
   "outputs": [],
   "source": [
    "# 여기에 답안코드를 작성하세요.\n",
    "df5['cust_dtl_ctg_itg_cd'].fillna(df4['cust_dtl_ctg_itg_cd'].mode()[0], inplace=True)\n"
   ]
  },
  {
   "cell_type": "code",
   "execution_count": 874,
   "metadata": {},
   "outputs": [
    {
     "data": {
      "text/plain": [
       "10003    6339\n",
       "10002    1329\n",
       "90029    1160\n",
       "10019     389\n",
       "90056     368\n",
       "90027     217\n",
       "90024     119\n",
       "10018      25\n",
       "10011      25\n",
       "90030      24\n",
       "10001       4\n",
       "10004       1\n",
       "Name: cust_dtl_ctg_itg_cd, dtype: int64"
      ]
     },
     "execution_count": 874,
     "metadata": {},
     "output_type": "execute_result"
    }
   ],
   "source": [
    "# 답\n",
    "df5['cust_dtl_ctg_itg_cd'].value_counts()\n",
    "# df5['cust_dtl_ctg_itg_cd'].replace(np.nan,'10003', inplace=True)"
   ]
  },
  {
   "cell_type": "markdown",
   "metadata": {},
   "source": [
    "<br>\n",
    "<font color=blue>4-11. df5에 대해 다음 날짜 관련 컬럼을 확인 후 삭제하세요. (날짜 관련 컬럼: new_date, opn_nfl_chg_date, cont_fns_pam_date)</font>"
   ]
  },
  {
   "cell_type": "code",
   "execution_count": 843,
   "metadata": {},
   "outputs": [
    {
     "name": "stdout",
     "output_type": "stream",
     "text": [
      "      new_date  opn_nfl_chg_date  cont_fns_pam_date\n",
      "0     19881005          19881005           99991231\n",
      "1     20130817          20130817           20220319\n",
      "2     20190509          20190509           20220508\n",
      "3     20190731          20190731           99991231\n",
      "4     20180403          20180403           99991231\n",
      "...        ...               ...                ...\n",
      "9995  20180313          20180313           99991231\n",
      "9996  20141208          20181130           99991231\n",
      "9997  20150904          20150904           20180903\n",
      "9998  20160206          20160206           20210412\n",
      "9999  20200409          20200409           99991231\n",
      "\n",
      "[10000 rows x 3 columns]\n"
     ]
    }
   ],
   "source": [
    "# 여기에 답안코드를 작성하세요.\n",
    "print(df5[['new_date', 'opn_nfl_chg_date', 'cont_fns_pam_date']])\n",
    "df5.drop(['new_date', 'opn_nfl_chg_date', 'cont_fns_pam_date'], axis=1, inplace=True)"
   ]
  },
  {
   "cell_type": "code",
   "execution_count": null,
   "metadata": {},
   "outputs": [],
   "source": []
  },
  {
   "cell_type": "markdown",
   "metadata": {},
   "source": [
    "<br>\n",
    "<font color=blue>4-12. df5에 대해 'voc_mis_pbls_yn' 컬럼을 삭제하세요.</font>"
   ]
  },
  {
   "cell_type": "code",
   "execution_count": 844,
   "metadata": {},
   "outputs": [],
   "source": [
    "# 여기에 답안코드를 작성하세요.\n",
    "df5.drop('voc_mis_pbls_yn', axis=1, inplace=True)\n"
   ]
  },
  {
   "cell_type": "markdown",
   "metadata": {},
   "source": [
    "## **<span style=\"color:black\">5. 라벨 인코딩, 원핫 인코딩</span>**"
   ]
  },
  {
   "cell_type": "markdown",
   "metadata": {},
   "source": [
    "<br>\n",
    "<font color=blue>5-1. df5에 대해 object 타입 컬럼을 cat_cols에 저장하세요. 그 중 cat_cols의 cust_clas_itg_cd 컬럼에 대해 LabelEncoder를 적용해보세요. (적용 후 df5에 저장)</font>"
   ]
  },
  {
   "cell_type": "code",
   "execution_count": 845,
   "metadata": {},
   "outputs": [
    {
     "name": "stdout",
     "output_type": "stream",
     "text": [
      "<class 'pandas.core.frame.DataFrame'>\n",
      "RangeIndex: 10000 entries, 0 to 9999\n",
      "Data columns (total 14 columns):\n",
      " #   Column                          Non-Null Count  Dtype \n",
      "---  ------                          --------------  ----- \n",
      " 0   voc_prod_sbt_id                 10000 non-null  int64 \n",
      " 1   voc_wjt_sorc_id                 10000 non-null  int64 \n",
      " 2   voc_type_itg_cd                 10000 non-null  int64 \n",
      " 3   voc_sttus_itg_cd                10000 non-null  int64 \n",
      " 4   cust_clas_itg_cd                10000 non-null  object\n",
      " 5   bprod_sbt_id                    10000 non-null  int64 \n",
      " 6   age_itg_cd                      10000 non-null  int32 \n",
      " 7   cont_sttus_itg_cd               10000 non-null  object\n",
      " 8   cust_dtl_ctg_itg_cd             10000 non-null  object\n",
      " 9   voc_trt_degr_div_itg_cd         10000 non-null  int64 \n",
      " 10  voc_dupl_tmscnt                 10000 non-null  int64 \n",
      " 11  voc_trt_need_time_itg_cd        10000 non-null  int64 \n",
      " 12  cust_snsry_base_conf_need_time  10000 non-null  int64 \n",
      " 13  trm_yn                          10000 non-null  object\n",
      "dtypes: int32(1), int64(9), object(4)\n",
      "memory usage: 1.0+ MB\n"
     ]
    }
   ],
   "source": [
    "df5.info()"
   ]
  },
  {
   "cell_type": "code",
   "execution_count": 932,
   "metadata": {},
   "outputs": [
    {
     "data": {
      "text/html": [
       "<div>\n",
       "<style scoped>\n",
       "    .dataframe tbody tr th:only-of-type {\n",
       "        vertical-align: middle;\n",
       "    }\n",
       "\n",
       "    .dataframe tbody tr th {\n",
       "        vertical-align: top;\n",
       "    }\n",
       "\n",
       "    .dataframe thead th {\n",
       "        text-align: right;\n",
       "    }\n",
       "</style>\n",
       "<table border=\"1\" class=\"dataframe\">\n",
       "  <thead>\n",
       "    <tr style=\"text-align: right;\">\n",
       "      <th></th>\n",
       "      <th>cont_sttus_itg_cd</th>\n",
       "      <th>cust_dtl_ctg_itg_cd</th>\n",
       "      <th>trm_yn</th>\n",
       "    </tr>\n",
       "  </thead>\n",
       "  <tbody>\n",
       "    <tr>\n",
       "      <th>0</th>\n",
       "      <td>10001</td>\n",
       "      <td>10003</td>\n",
       "      <td>N</td>\n",
       "    </tr>\n",
       "    <tr>\n",
       "      <th>1</th>\n",
       "      <td>10001</td>\n",
       "      <td>10002</td>\n",
       "      <td>N</td>\n",
       "    </tr>\n",
       "    <tr>\n",
       "      <th>2</th>\n",
       "      <td>10001</td>\n",
       "      <td>10003</td>\n",
       "      <td>N</td>\n",
       "    </tr>\n",
       "    <tr>\n",
       "      <th>3</th>\n",
       "      <td>10001</td>\n",
       "      <td>90024</td>\n",
       "      <td>N</td>\n",
       "    </tr>\n",
       "    <tr>\n",
       "      <th>4</th>\n",
       "      <td>10001</td>\n",
       "      <td>90024</td>\n",
       "      <td>N</td>\n",
       "    </tr>\n",
       "    <tr>\n",
       "      <th>...</th>\n",
       "      <td>...</td>\n",
       "      <td>...</td>\n",
       "      <td>...</td>\n",
       "    </tr>\n",
       "    <tr>\n",
       "      <th>9995</th>\n",
       "      <td>10001</td>\n",
       "      <td>10003</td>\n",
       "      <td>N</td>\n",
       "    </tr>\n",
       "    <tr>\n",
       "      <th>9996</th>\n",
       "      <td>10001</td>\n",
       "      <td>10003</td>\n",
       "      <td>N</td>\n",
       "    </tr>\n",
       "    <tr>\n",
       "      <th>9997</th>\n",
       "      <td>10001</td>\n",
       "      <td>90029</td>\n",
       "      <td>N</td>\n",
       "    </tr>\n",
       "    <tr>\n",
       "      <th>9998</th>\n",
       "      <td>10001</td>\n",
       "      <td>90029</td>\n",
       "      <td>N</td>\n",
       "    </tr>\n",
       "    <tr>\n",
       "      <th>9999</th>\n",
       "      <td>10001</td>\n",
       "      <td>10003</td>\n",
       "      <td>N</td>\n",
       "    </tr>\n",
       "  </tbody>\n",
       "</table>\n",
       "<p>10000 rows × 3 columns</p>\n",
       "</div>"
      ],
      "text/plain": [
       "     cont_sttus_itg_cd cust_dtl_ctg_itg_cd trm_yn\n",
       "0                10001               10003      N\n",
       "1                10001               10002      N\n",
       "2                10001               10003      N\n",
       "3                10001               90024      N\n",
       "4                10001               90024      N\n",
       "...                ...                 ...    ...\n",
       "9995             10001               10003      N\n",
       "9996             10001               10003      N\n",
       "9997             10001               90029      N\n",
       "9998             10001               90029      N\n",
       "9999             10001               10003      N\n",
       "\n",
       "[10000 rows x 3 columns]"
      ]
     },
     "execution_count": 932,
     "metadata": {},
     "output_type": "execute_result"
    }
   ],
   "source": [
    "df5.select_dtypes(include='object') #!"
   ]
  },
  {
   "cell_type": "code",
   "execution_count": 846,
   "metadata": {},
   "outputs": [
    {
     "data": {
      "text/html": [
       "<div>\n",
       "<style scoped>\n",
       "    .dataframe tbody tr th:only-of-type {\n",
       "        vertical-align: middle;\n",
       "    }\n",
       "\n",
       "    .dataframe tbody tr th {\n",
       "        vertical-align: top;\n",
       "    }\n",
       "\n",
       "    .dataframe thead th {\n",
       "        text-align: right;\n",
       "    }\n",
       "</style>\n",
       "<table border=\"1\" class=\"dataframe\">\n",
       "  <thead>\n",
       "    <tr style=\"text-align: right;\">\n",
       "      <th></th>\n",
       "      <th>voc_prod_sbt_id</th>\n",
       "      <th>voc_wjt_sorc_id</th>\n",
       "      <th>voc_type_itg_cd</th>\n",
       "      <th>voc_sttus_itg_cd</th>\n",
       "      <th>cust_clas_itg_cd</th>\n",
       "      <th>bprod_sbt_id</th>\n",
       "      <th>age_itg_cd</th>\n",
       "      <th>cont_sttus_itg_cd</th>\n",
       "      <th>cust_dtl_ctg_itg_cd</th>\n",
       "      <th>voc_trt_degr_div_itg_cd</th>\n",
       "      <th>voc_dupl_tmscnt</th>\n",
       "      <th>voc_trt_need_time_itg_cd</th>\n",
       "      <th>cust_snsry_base_conf_need_time</th>\n",
       "      <th>trm_yn</th>\n",
       "    </tr>\n",
       "  </thead>\n",
       "  <tbody>\n",
       "    <tr>\n",
       "      <th>0</th>\n",
       "      <td>1000665328</td>\n",
       "      <td>2153</td>\n",
       "      <td>10009</td>\n",
       "      <td>10002</td>\n",
       "      <td>0</td>\n",
       "      <td>1000001126</td>\n",
       "      <td>36</td>\n",
       "      <td>10001</td>\n",
       "      <td>10003</td>\n",
       "      <td>20001</td>\n",
       "      <td>0</td>\n",
       "      <td>10001</td>\n",
       "      <td>0</td>\n",
       "      <td>N</td>\n",
       "    </tr>\n",
       "    <tr>\n",
       "      <th>1</th>\n",
       "      <td>1001028714</td>\n",
       "      <td>3311</td>\n",
       "      <td>10009</td>\n",
       "      <td>10002</td>\n",
       "      <td>1</td>\n",
       "      <td>1000852226</td>\n",
       "      <td>32</td>\n",
       "      <td>10001</td>\n",
       "      <td>10002</td>\n",
       "      <td>20001</td>\n",
       "      <td>0</td>\n",
       "      <td>10001</td>\n",
       "      <td>0</td>\n",
       "      <td>N</td>\n",
       "    </tr>\n",
       "    <tr>\n",
       "      <th>2</th>\n",
       "      <td>1001028567</td>\n",
       "      <td>1575</td>\n",
       "      <td>10009</td>\n",
       "      <td>10002</td>\n",
       "      <td>1</td>\n",
       "      <td>1000851875</td>\n",
       "      <td>52</td>\n",
       "      <td>10001</td>\n",
       "      <td>10003</td>\n",
       "      <td>20001</td>\n",
       "      <td>0</td>\n",
       "      <td>10001</td>\n",
       "      <td>0</td>\n",
       "      <td>N</td>\n",
       "    </tr>\n",
       "    <tr>\n",
       "      <th>3</th>\n",
       "      <td>1000665328</td>\n",
       "      <td>3546</td>\n",
       "      <td>10009</td>\n",
       "      <td>10002</td>\n",
       "      <td>5</td>\n",
       "      <td>1000001126</td>\n",
       "      <td>49</td>\n",
       "      <td>10001</td>\n",
       "      <td>90024</td>\n",
       "      <td>20001</td>\n",
       "      <td>0</td>\n",
       "      <td>10001</td>\n",
       "      <td>0</td>\n",
       "      <td>N</td>\n",
       "    </tr>\n",
       "    <tr>\n",
       "      <th>4</th>\n",
       "      <td>1000779276</td>\n",
       "      <td>3086</td>\n",
       "      <td>10009</td>\n",
       "      <td>10002</td>\n",
       "      <td>1</td>\n",
       "      <td>1000764639</td>\n",
       "      <td>50</td>\n",
       "      <td>10001</td>\n",
       "      <td>90024</td>\n",
       "      <td>20001</td>\n",
       "      <td>0</td>\n",
       "      <td>10001</td>\n",
       "      <td>0</td>\n",
       "      <td>N</td>\n",
       "    </tr>\n",
       "    <tr>\n",
       "      <th>...</th>\n",
       "      <td>...</td>\n",
       "      <td>...</td>\n",
       "      <td>...</td>\n",
       "      <td>...</td>\n",
       "      <td>...</td>\n",
       "      <td>...</td>\n",
       "      <td>...</td>\n",
       "      <td>...</td>\n",
       "      <td>...</td>\n",
       "      <td>...</td>\n",
       "      <td>...</td>\n",
       "      <td>...</td>\n",
       "      <td>...</td>\n",
       "      <td>...</td>\n",
       "    </tr>\n",
       "    <tr>\n",
       "      <th>9995</th>\n",
       "      <td>1000811136</td>\n",
       "      <td>2123</td>\n",
       "      <td>10009</td>\n",
       "      <td>10002</td>\n",
       "      <td>1</td>\n",
       "      <td>1000809259</td>\n",
       "      <td>17</td>\n",
       "      <td>10001</td>\n",
       "      <td>10003</td>\n",
       "      <td>20001</td>\n",
       "      <td>0</td>\n",
       "      <td>10001</td>\n",
       "      <td>0</td>\n",
       "      <td>N</td>\n",
       "    </tr>\n",
       "    <tr>\n",
       "      <th>9996</th>\n",
       "      <td>1001047799</td>\n",
       "      <td>2153</td>\n",
       "      <td>10009</td>\n",
       "      <td>10002</td>\n",
       "      <td>3</td>\n",
       "      <td>1001046521</td>\n",
       "      <td>35</td>\n",
       "      <td>10001</td>\n",
       "      <td>10003</td>\n",
       "      <td>20001</td>\n",
       "      <td>0</td>\n",
       "      <td>10001</td>\n",
       "      <td>0</td>\n",
       "      <td>N</td>\n",
       "    </tr>\n",
       "    <tr>\n",
       "      <th>9997</th>\n",
       "      <td>1001027819</td>\n",
       "      <td>379</td>\n",
       "      <td>10009</td>\n",
       "      <td>10002</td>\n",
       "      <td>1</td>\n",
       "      <td>1000720809</td>\n",
       "      <td>51</td>\n",
       "      <td>10001</td>\n",
       "      <td>90029</td>\n",
       "      <td>20001</td>\n",
       "      <td>0</td>\n",
       "      <td>10001</td>\n",
       "      <td>0</td>\n",
       "      <td>N</td>\n",
       "    </tr>\n",
       "    <tr>\n",
       "      <th>9998</th>\n",
       "      <td>1001027819</td>\n",
       "      <td>314</td>\n",
       "      <td>10009</td>\n",
       "      <td>10002</td>\n",
       "      <td>3</td>\n",
       "      <td>1000720809</td>\n",
       "      <td>49</td>\n",
       "      <td>10001</td>\n",
       "      <td>90029</td>\n",
       "      <td>20001</td>\n",
       "      <td>0</td>\n",
       "      <td>10001</td>\n",
       "      <td>0</td>\n",
       "      <td>N</td>\n",
       "    </tr>\n",
       "    <tr>\n",
       "      <th>9999</th>\n",
       "      <td>1001047802</td>\n",
       "      <td>2266</td>\n",
       "      <td>10009</td>\n",
       "      <td>10002</td>\n",
       "      <td>1</td>\n",
       "      <td>1001046524</td>\n",
       "      <td>27</td>\n",
       "      <td>10001</td>\n",
       "      <td>10003</td>\n",
       "      <td>20001</td>\n",
       "      <td>0</td>\n",
       "      <td>10001</td>\n",
       "      <td>0</td>\n",
       "      <td>N</td>\n",
       "    </tr>\n",
       "  </tbody>\n",
       "</table>\n",
       "<p>10000 rows × 14 columns</p>\n",
       "</div>"
      ],
      "text/plain": [
       "      voc_prod_sbt_id  voc_wjt_sorc_id  voc_type_itg_cd  voc_sttus_itg_cd  \\\n",
       "0          1000665328             2153            10009             10002   \n",
       "1          1001028714             3311            10009             10002   \n",
       "2          1001028567             1575            10009             10002   \n",
       "3          1000665328             3546            10009             10002   \n",
       "4          1000779276             3086            10009             10002   \n",
       "...               ...              ...              ...               ...   \n",
       "9995       1000811136             2123            10009             10002   \n",
       "9996       1001047799             2153            10009             10002   \n",
       "9997       1001027819              379            10009             10002   \n",
       "9998       1001027819              314            10009             10002   \n",
       "9999       1001047802             2266            10009             10002   \n",
       "\n",
       "      cust_clas_itg_cd  bprod_sbt_id  age_itg_cd cont_sttus_itg_cd  \\\n",
       "0                    0    1000001126          36             10001   \n",
       "1                    1    1000852226          32             10001   \n",
       "2                    1    1000851875          52             10001   \n",
       "3                    5    1000001126          49             10001   \n",
       "4                    1    1000764639          50             10001   \n",
       "...                ...           ...         ...               ...   \n",
       "9995                 1    1000809259          17             10001   \n",
       "9996                 3    1001046521          35             10001   \n",
       "9997                 1    1000720809          51             10001   \n",
       "9998                 3    1000720809          49             10001   \n",
       "9999                 1    1001046524          27             10001   \n",
       "\n",
       "     cust_dtl_ctg_itg_cd  voc_trt_degr_div_itg_cd  voc_dupl_tmscnt  \\\n",
       "0                  10003                    20001                0   \n",
       "1                  10002                    20001                0   \n",
       "2                  10003                    20001                0   \n",
       "3                  90024                    20001                0   \n",
       "4                  90024                    20001                0   \n",
       "...                  ...                      ...              ...   \n",
       "9995               10003                    20001                0   \n",
       "9996               10003                    20001                0   \n",
       "9997               90029                    20001                0   \n",
       "9998               90029                    20001                0   \n",
       "9999               10003                    20001                0   \n",
       "\n",
       "      voc_trt_need_time_itg_cd  cust_snsry_base_conf_need_time trm_yn  \n",
       "0                        10001                               0      N  \n",
       "1                        10001                               0      N  \n",
       "2                        10001                               0      N  \n",
       "3                        10001                               0      N  \n",
       "4                        10001                               0      N  \n",
       "...                        ...                             ...    ...  \n",
       "9995                     10001                               0      N  \n",
       "9996                     10001                               0      N  \n",
       "9997                     10001                               0      N  \n",
       "9998                     10001                               0      N  \n",
       "9999                     10001                               0      N  \n",
       "\n",
       "[10000 rows x 14 columns]"
      ]
     },
     "execution_count": 846,
     "metadata": {},
     "output_type": "execute_result"
    }
   ],
   "source": [
    "# 여기에 답안코드를 작성하세요.\n",
    "cat_cols = df5.select_dtypes(include='object')\n",
    "\n",
    "from sklearn.preprocessing import LabelEncoder\n",
    "# LabelEncoder\n",
    "le = LabelEncoder()\n",
    "df5['cust_clas_itg_cd'] = le.fit_transform(cat_cols['cust_clas_itg_cd'])\n",
    "\n",
    "\n",
    "# # 내풀이\n",
    "# cat_cols = list(df5.select_dtypes(include=['object']))\n",
    "# # cat_cols[0]\n",
    "\n",
    "# from sklearn.preprocessing import LabelEncoder\n",
    "# le = LabelEncoder()\n",
    "# df5[cat_cols[0]] = le.fit_transform( df5[cat_cols[0]] )\n",
    "# df5"
   ]
  },
  {
   "cell_type": "markdown",
   "metadata": {},
   "source": [
    "<br>\n",
    "<font color=blue>5-2. df5의 나머지 object 컬럼에 대해서 One-Hot-Encoding될수 있도록 Pandas의 get_dummies 함수를 적용하세요. (적용 후 df6에 저장)</font>"
   ]
  },
  {
   "cell_type": "code",
   "execution_count": 870,
   "metadata": {},
   "outputs": [
    {
     "data": {
      "text/html": [
       "<div>\n",
       "<style scoped>\n",
       "    .dataframe tbody tr th:only-of-type {\n",
       "        vertical-align: middle;\n",
       "    }\n",
       "\n",
       "    .dataframe tbody tr th {\n",
       "        vertical-align: top;\n",
       "    }\n",
       "\n",
       "    .dataframe thead th {\n",
       "        text-align: right;\n",
       "    }\n",
       "</style>\n",
       "<table border=\"1\" class=\"dataframe\">\n",
       "  <thead>\n",
       "    <tr style=\"text-align: right;\">\n",
       "      <th></th>\n",
       "      <th>voc_prod_sbt_id</th>\n",
       "      <th>voc_wjt_sorc_id</th>\n",
       "      <th>voc_type_itg_cd</th>\n",
       "      <th>voc_sttus_itg_cd</th>\n",
       "      <th>cust_clas_itg_cd</th>\n",
       "      <th>bprod_sbt_id</th>\n",
       "      <th>age_itg_cd</th>\n",
       "      <th>voc_trt_degr_div_itg_cd</th>\n",
       "      <th>voc_dupl_tmscnt</th>\n",
       "      <th>voc_trt_need_time_itg_cd</th>\n",
       "      <th>...</th>\n",
       "      <th>cust_dtl_ctg_itg_cd_10004</th>\n",
       "      <th>cust_dtl_ctg_itg_cd_10011</th>\n",
       "      <th>cust_dtl_ctg_itg_cd_10018</th>\n",
       "      <th>cust_dtl_ctg_itg_cd_10019</th>\n",
       "      <th>cust_dtl_ctg_itg_cd_90024</th>\n",
       "      <th>cust_dtl_ctg_itg_cd_90027</th>\n",
       "      <th>cust_dtl_ctg_itg_cd_90029</th>\n",
       "      <th>cust_dtl_ctg_itg_cd_90030</th>\n",
       "      <th>cust_dtl_ctg_itg_cd_90056</th>\n",
       "      <th>trm_yn_Y</th>\n",
       "    </tr>\n",
       "  </thead>\n",
       "  <tbody>\n",
       "    <tr>\n",
       "      <th>0</th>\n",
       "      <td>1000665328</td>\n",
       "      <td>2153</td>\n",
       "      <td>10009</td>\n",
       "      <td>10002</td>\n",
       "      <td>0</td>\n",
       "      <td>1000001126</td>\n",
       "      <td>36</td>\n",
       "      <td>20001</td>\n",
       "      <td>0</td>\n",
       "      <td>10001</td>\n",
       "      <td>...</td>\n",
       "      <td>0</td>\n",
       "      <td>0</td>\n",
       "      <td>0</td>\n",
       "      <td>0</td>\n",
       "      <td>0</td>\n",
       "      <td>0</td>\n",
       "      <td>0</td>\n",
       "      <td>0</td>\n",
       "      <td>0</td>\n",
       "      <td>0</td>\n",
       "    </tr>\n",
       "    <tr>\n",
       "      <th>1</th>\n",
       "      <td>1001028714</td>\n",
       "      <td>3311</td>\n",
       "      <td>10009</td>\n",
       "      <td>10002</td>\n",
       "      <td>1</td>\n",
       "      <td>1000852226</td>\n",
       "      <td>32</td>\n",
       "      <td>20001</td>\n",
       "      <td>0</td>\n",
       "      <td>10001</td>\n",
       "      <td>...</td>\n",
       "      <td>0</td>\n",
       "      <td>0</td>\n",
       "      <td>0</td>\n",
       "      <td>0</td>\n",
       "      <td>0</td>\n",
       "      <td>0</td>\n",
       "      <td>0</td>\n",
       "      <td>0</td>\n",
       "      <td>0</td>\n",
       "      <td>0</td>\n",
       "    </tr>\n",
       "    <tr>\n",
       "      <th>2</th>\n",
       "      <td>1001028567</td>\n",
       "      <td>1575</td>\n",
       "      <td>10009</td>\n",
       "      <td>10002</td>\n",
       "      <td>1</td>\n",
       "      <td>1000851875</td>\n",
       "      <td>52</td>\n",
       "      <td>20001</td>\n",
       "      <td>0</td>\n",
       "      <td>10001</td>\n",
       "      <td>...</td>\n",
       "      <td>0</td>\n",
       "      <td>0</td>\n",
       "      <td>0</td>\n",
       "      <td>0</td>\n",
       "      <td>0</td>\n",
       "      <td>0</td>\n",
       "      <td>0</td>\n",
       "      <td>0</td>\n",
       "      <td>0</td>\n",
       "      <td>0</td>\n",
       "    </tr>\n",
       "    <tr>\n",
       "      <th>3</th>\n",
       "      <td>1000665328</td>\n",
       "      <td>3546</td>\n",
       "      <td>10009</td>\n",
       "      <td>10002</td>\n",
       "      <td>5</td>\n",
       "      <td>1000001126</td>\n",
       "      <td>49</td>\n",
       "      <td>20001</td>\n",
       "      <td>0</td>\n",
       "      <td>10001</td>\n",
       "      <td>...</td>\n",
       "      <td>0</td>\n",
       "      <td>0</td>\n",
       "      <td>0</td>\n",
       "      <td>0</td>\n",
       "      <td>1</td>\n",
       "      <td>0</td>\n",
       "      <td>0</td>\n",
       "      <td>0</td>\n",
       "      <td>0</td>\n",
       "      <td>0</td>\n",
       "    </tr>\n",
       "    <tr>\n",
       "      <th>4</th>\n",
       "      <td>1000779276</td>\n",
       "      <td>3086</td>\n",
       "      <td>10009</td>\n",
       "      <td>10002</td>\n",
       "      <td>1</td>\n",
       "      <td>1000764639</td>\n",
       "      <td>50</td>\n",
       "      <td>20001</td>\n",
       "      <td>0</td>\n",
       "      <td>10001</td>\n",
       "      <td>...</td>\n",
       "      <td>0</td>\n",
       "      <td>0</td>\n",
       "      <td>0</td>\n",
       "      <td>0</td>\n",
       "      <td>1</td>\n",
       "      <td>0</td>\n",
       "      <td>0</td>\n",
       "      <td>0</td>\n",
       "      <td>0</td>\n",
       "      <td>0</td>\n",
       "    </tr>\n",
       "    <tr>\n",
       "      <th>...</th>\n",
       "      <td>...</td>\n",
       "      <td>...</td>\n",
       "      <td>...</td>\n",
       "      <td>...</td>\n",
       "      <td>...</td>\n",
       "      <td>...</td>\n",
       "      <td>...</td>\n",
       "      <td>...</td>\n",
       "      <td>...</td>\n",
       "      <td>...</td>\n",
       "      <td>...</td>\n",
       "      <td>...</td>\n",
       "      <td>...</td>\n",
       "      <td>...</td>\n",
       "      <td>...</td>\n",
       "      <td>...</td>\n",
       "      <td>...</td>\n",
       "      <td>...</td>\n",
       "      <td>...</td>\n",
       "      <td>...</td>\n",
       "      <td>...</td>\n",
       "    </tr>\n",
       "    <tr>\n",
       "      <th>9995</th>\n",
       "      <td>1000811136</td>\n",
       "      <td>2123</td>\n",
       "      <td>10009</td>\n",
       "      <td>10002</td>\n",
       "      <td>1</td>\n",
       "      <td>1000809259</td>\n",
       "      <td>17</td>\n",
       "      <td>20001</td>\n",
       "      <td>0</td>\n",
       "      <td>10001</td>\n",
       "      <td>...</td>\n",
       "      <td>0</td>\n",
       "      <td>0</td>\n",
       "      <td>0</td>\n",
       "      <td>0</td>\n",
       "      <td>0</td>\n",
       "      <td>0</td>\n",
       "      <td>0</td>\n",
       "      <td>0</td>\n",
       "      <td>0</td>\n",
       "      <td>0</td>\n",
       "    </tr>\n",
       "    <tr>\n",
       "      <th>9996</th>\n",
       "      <td>1001047799</td>\n",
       "      <td>2153</td>\n",
       "      <td>10009</td>\n",
       "      <td>10002</td>\n",
       "      <td>3</td>\n",
       "      <td>1001046521</td>\n",
       "      <td>35</td>\n",
       "      <td>20001</td>\n",
       "      <td>0</td>\n",
       "      <td>10001</td>\n",
       "      <td>...</td>\n",
       "      <td>0</td>\n",
       "      <td>0</td>\n",
       "      <td>0</td>\n",
       "      <td>0</td>\n",
       "      <td>0</td>\n",
       "      <td>0</td>\n",
       "      <td>0</td>\n",
       "      <td>0</td>\n",
       "      <td>0</td>\n",
       "      <td>0</td>\n",
       "    </tr>\n",
       "    <tr>\n",
       "      <th>9997</th>\n",
       "      <td>1001027819</td>\n",
       "      <td>379</td>\n",
       "      <td>10009</td>\n",
       "      <td>10002</td>\n",
       "      <td>1</td>\n",
       "      <td>1000720809</td>\n",
       "      <td>51</td>\n",
       "      <td>20001</td>\n",
       "      <td>0</td>\n",
       "      <td>10001</td>\n",
       "      <td>...</td>\n",
       "      <td>0</td>\n",
       "      <td>0</td>\n",
       "      <td>0</td>\n",
       "      <td>0</td>\n",
       "      <td>0</td>\n",
       "      <td>0</td>\n",
       "      <td>1</td>\n",
       "      <td>0</td>\n",
       "      <td>0</td>\n",
       "      <td>0</td>\n",
       "    </tr>\n",
       "    <tr>\n",
       "      <th>9998</th>\n",
       "      <td>1001027819</td>\n",
       "      <td>314</td>\n",
       "      <td>10009</td>\n",
       "      <td>10002</td>\n",
       "      <td>3</td>\n",
       "      <td>1000720809</td>\n",
       "      <td>49</td>\n",
       "      <td>20001</td>\n",
       "      <td>0</td>\n",
       "      <td>10001</td>\n",
       "      <td>...</td>\n",
       "      <td>0</td>\n",
       "      <td>0</td>\n",
       "      <td>0</td>\n",
       "      <td>0</td>\n",
       "      <td>0</td>\n",
       "      <td>0</td>\n",
       "      <td>1</td>\n",
       "      <td>0</td>\n",
       "      <td>0</td>\n",
       "      <td>0</td>\n",
       "    </tr>\n",
       "    <tr>\n",
       "      <th>9999</th>\n",
       "      <td>1001047802</td>\n",
       "      <td>2266</td>\n",
       "      <td>10009</td>\n",
       "      <td>10002</td>\n",
       "      <td>1</td>\n",
       "      <td>1001046524</td>\n",
       "      <td>27</td>\n",
       "      <td>20001</td>\n",
       "      <td>0</td>\n",
       "      <td>10001</td>\n",
       "      <td>...</td>\n",
       "      <td>0</td>\n",
       "      <td>0</td>\n",
       "      <td>0</td>\n",
       "      <td>0</td>\n",
       "      <td>0</td>\n",
       "      <td>0</td>\n",
       "      <td>0</td>\n",
       "      <td>0</td>\n",
       "      <td>0</td>\n",
       "      <td>0</td>\n",
       "    </tr>\n",
       "  </tbody>\n",
       "</table>\n",
       "<p>10000 rows × 29 columns</p>\n",
       "</div>"
      ],
      "text/plain": [
       "      voc_prod_sbt_id  voc_wjt_sorc_id  voc_type_itg_cd  voc_sttus_itg_cd  \\\n",
       "0          1000665328             2153            10009             10002   \n",
       "1          1001028714             3311            10009             10002   \n",
       "2          1001028567             1575            10009             10002   \n",
       "3          1000665328             3546            10009             10002   \n",
       "4          1000779276             3086            10009             10002   \n",
       "...               ...              ...              ...               ...   \n",
       "9995       1000811136             2123            10009             10002   \n",
       "9996       1001047799             2153            10009             10002   \n",
       "9997       1001027819              379            10009             10002   \n",
       "9998       1001027819              314            10009             10002   \n",
       "9999       1001047802             2266            10009             10002   \n",
       "\n",
       "      cust_clas_itg_cd  bprod_sbt_id  age_itg_cd  voc_trt_degr_div_itg_cd  \\\n",
       "0                    0    1000001126          36                    20001   \n",
       "1                    1    1000852226          32                    20001   \n",
       "2                    1    1000851875          52                    20001   \n",
       "3                    5    1000001126          49                    20001   \n",
       "4                    1    1000764639          50                    20001   \n",
       "...                ...           ...         ...                      ...   \n",
       "9995                 1    1000809259          17                    20001   \n",
       "9996                 3    1001046521          35                    20001   \n",
       "9997                 1    1000720809          51                    20001   \n",
       "9998                 3    1000720809          49                    20001   \n",
       "9999                 1    1001046524          27                    20001   \n",
       "\n",
       "      voc_dupl_tmscnt  voc_trt_need_time_itg_cd  ...  \\\n",
       "0                   0                     10001  ...   \n",
       "1                   0                     10001  ...   \n",
       "2                   0                     10001  ...   \n",
       "3                   0                     10001  ...   \n",
       "4                   0                     10001  ...   \n",
       "...               ...                       ...  ...   \n",
       "9995                0                     10001  ...   \n",
       "9996                0                     10001  ...   \n",
       "9997                0                     10001  ...   \n",
       "9998                0                     10001  ...   \n",
       "9999                0                     10001  ...   \n",
       "\n",
       "      cust_dtl_ctg_itg_cd_10004  cust_dtl_ctg_itg_cd_10011  \\\n",
       "0                             0                          0   \n",
       "1                             0                          0   \n",
       "2                             0                          0   \n",
       "3                             0                          0   \n",
       "4                             0                          0   \n",
       "...                         ...                        ...   \n",
       "9995                          0                          0   \n",
       "9996                          0                          0   \n",
       "9997                          0                          0   \n",
       "9998                          0                          0   \n",
       "9999                          0                          0   \n",
       "\n",
       "      cust_dtl_ctg_itg_cd_10018  cust_dtl_ctg_itg_cd_10019  \\\n",
       "0                             0                          0   \n",
       "1                             0                          0   \n",
       "2                             0                          0   \n",
       "3                             0                          0   \n",
       "4                             0                          0   \n",
       "...                         ...                        ...   \n",
       "9995                          0                          0   \n",
       "9996                          0                          0   \n",
       "9997                          0                          0   \n",
       "9998                          0                          0   \n",
       "9999                          0                          0   \n",
       "\n",
       "      cust_dtl_ctg_itg_cd_90024  cust_dtl_ctg_itg_cd_90027  \\\n",
       "0                             0                          0   \n",
       "1                             0                          0   \n",
       "2                             0                          0   \n",
       "3                             1                          0   \n",
       "4                             1                          0   \n",
       "...                         ...                        ...   \n",
       "9995                          0                          0   \n",
       "9996                          0                          0   \n",
       "9997                          0                          0   \n",
       "9998                          0                          0   \n",
       "9999                          0                          0   \n",
       "\n",
       "      cust_dtl_ctg_itg_cd_90029  cust_dtl_ctg_itg_cd_90030  \\\n",
       "0                             0                          0   \n",
       "1                             0                          0   \n",
       "2                             0                          0   \n",
       "3                             0                          0   \n",
       "4                             0                          0   \n",
       "...                         ...                        ...   \n",
       "9995                          0                          0   \n",
       "9996                          0                          0   \n",
       "9997                          1                          0   \n",
       "9998                          1                          0   \n",
       "9999                          0                          0   \n",
       "\n",
       "      cust_dtl_ctg_itg_cd_90056  trm_yn_Y  \n",
       "0                             0         0  \n",
       "1                             0         0  \n",
       "2                             0         0  \n",
       "3                             0         0  \n",
       "4                             0         0  \n",
       "...                         ...       ...  \n",
       "9995                          0         0  \n",
       "9996                          0         0  \n",
       "9997                          0         0  \n",
       "9998                          0         0  \n",
       "9999                          0         0  \n",
       "\n",
       "[10000 rows x 29 columns]"
      ]
     },
     "execution_count": 870,
     "metadata": {},
     "output_type": "execute_result"
    }
   ],
   "source": [
    "# 여기에 답안코드를 작성하세요.\n",
    "df6 = pd.get_dummies(df5, columns=['cont_sttus_itg_cd', 'cust_dtl_ctg_itg_cd','trm_yn'], drop_first=True)\n",
    "df6"
   ]
  },
  {
   "cell_type": "code",
   "execution_count": 872,
   "metadata": {},
   "outputs": [
    {
     "data": {
      "text/plain": [
       "0    9776\n",
       "1     224\n",
       "Name: trm_yn_Y, dtype: int64"
      ]
     },
     "execution_count": 872,
     "metadata": {},
     "output_type": "execute_result"
    }
   ],
   "source": [
    "df6['trm_yn_Y'].value_counts()"
   ]
  },
  {
   "cell_type": "code",
   "execution_count": 850,
   "metadata": {},
   "outputs": [],
   "source": [
    "# label encoder\n",
    "# df5['trm_yn'] = le.fit_transform( df5['trm_yn'] ) #!\n",
    "# df6=df5\n",
    "# df6"
   ]
  },
  {
   "cell_type": "markdown",
   "metadata": {},
   "source": [
    "## **<span style=\"color:black\">6. x,y 데이터 분리</span>**"
   ]
  },
  {
   "cell_type": "markdown",
   "metadata": {},
   "source": [
    "<br>\n",
    "<font color=blue>6-1. df6에 대해 X, y 값을 가지고 8:2 비율로 Train , Test Dataset으로 나누세요. (y 클래스 비율에 맞게 분리, y 값은 'trm_yn_Y' 컬럼, random_state는 42)</font>"
   ]
  },
  {
   "cell_type": "code",
   "execution_count": 851,
   "metadata": {},
   "outputs": [],
   "source": [
    "# 여기에 답안코드를 작성하세요.\n",
    "from sklearn.model_selection import train_test_split\n",
    "\n",
    "X = df6.drop('trm_yn_Y', axis=1)\n",
    "y = df6['trm_yn_Y']\n",
    "\n",
    "X_train, X_test, y_train, y_test = train_test_split(X, y, test_size=0.2, stratify=y, random_state=42)"
   ]
  },
  {
   "cell_type": "markdown",
   "metadata": {},
   "source": [
    "<br>"
   ]
  },
  {
   "cell_type": "markdown",
   "metadata": {},
   "source": [
    "## **<span style=\"color:black\">7. 데이터 정규분포화, 표준화</span>**"
   ]
  },
  {
   "cell_type": "markdown",
   "metadata": {},
   "source": [
    "<br>\n",
    "<font color=blue>7-1. 사이킷런의 StandardScaler로 훈련데이터셋은 정규분포화(fit_transform)하고 테스트 데이터셋은 표준화(transform)하세요.</font>"
   ]
  },
  {
   "cell_type": "code",
   "execution_count": 852,
   "metadata": {},
   "outputs": [],
   "source": [
    "# 여기에 답안코드를 작성하세요.\n",
    "from sklearn.preprocessing import StandardScaler\n",
    "Scaler = StandardScaler()\n",
    "X_train_sclaed = Scaler.fit_transform(X_train)\n",
    "X_test_scaled = Scaler.transform(X_test)"
   ]
  },
  {
   "cell_type": "markdown",
   "metadata": {},
   "source": [
    "## **<span style=\"color:black\">8. 머신러닝 모델링 & 모델 성능평가 및 그래프 출력</span>**"
   ]
  },
  {
   "cell_type": "markdown",
   "metadata": {},
   "source": [
    "### 로지스틱 회귀 (LogisticRegression, 분류)"
   ]
  },
  {
   "cell_type": "markdown",
   "metadata": {},
   "source": [
    "<br>\n",
    "<font color=blue>8-1. LogisticRegression 모델을 만들고 학습을 진행하세요 (단, 규제강도C는 10으로 설정, 계산에 사용할 작업수 max_iter는 2000으로 설정하세요)</font>"
   ]
  },
  {
   "cell_type": "code",
   "execution_count": 853,
   "metadata": {},
   "outputs": [
    {
     "data": {
      "text/html": [
       "<style>#sk-container-id-25 {color: black;background-color: white;}#sk-container-id-25 pre{padding: 0;}#sk-container-id-25 div.sk-toggleable {background-color: white;}#sk-container-id-25 label.sk-toggleable__label {cursor: pointer;display: block;width: 100%;margin-bottom: 0;padding: 0.3em;box-sizing: border-box;text-align: center;}#sk-container-id-25 label.sk-toggleable__label-arrow:before {content: \"▸\";float: left;margin-right: 0.25em;color: #696969;}#sk-container-id-25 label.sk-toggleable__label-arrow:hover:before {color: black;}#sk-container-id-25 div.sk-estimator:hover label.sk-toggleable__label-arrow:before {color: black;}#sk-container-id-25 div.sk-toggleable__content {max-height: 0;max-width: 0;overflow: hidden;text-align: left;background-color: #f0f8ff;}#sk-container-id-25 div.sk-toggleable__content pre {margin: 0.2em;color: black;border-radius: 0.25em;background-color: #f0f8ff;}#sk-container-id-25 input.sk-toggleable__control:checked~div.sk-toggleable__content {max-height: 200px;max-width: 100%;overflow: auto;}#sk-container-id-25 input.sk-toggleable__control:checked~label.sk-toggleable__label-arrow:before {content: \"▾\";}#sk-container-id-25 div.sk-estimator input.sk-toggleable__control:checked~label.sk-toggleable__label {background-color: #d4ebff;}#sk-container-id-25 div.sk-label input.sk-toggleable__control:checked~label.sk-toggleable__label {background-color: #d4ebff;}#sk-container-id-25 input.sk-hidden--visually {border: 0;clip: rect(1px 1px 1px 1px);clip: rect(1px, 1px, 1px, 1px);height: 1px;margin: -1px;overflow: hidden;padding: 0;position: absolute;width: 1px;}#sk-container-id-25 div.sk-estimator {font-family: monospace;background-color: #f0f8ff;border: 1px dotted black;border-radius: 0.25em;box-sizing: border-box;margin-bottom: 0.5em;}#sk-container-id-25 div.sk-estimator:hover {background-color: #d4ebff;}#sk-container-id-25 div.sk-parallel-item::after {content: \"\";width: 100%;border-bottom: 1px solid gray;flex-grow: 1;}#sk-container-id-25 div.sk-label:hover label.sk-toggleable__label {background-color: #d4ebff;}#sk-container-id-25 div.sk-serial::before {content: \"\";position: absolute;border-left: 1px solid gray;box-sizing: border-box;top: 0;bottom: 0;left: 50%;z-index: 0;}#sk-container-id-25 div.sk-serial {display: flex;flex-direction: column;align-items: center;background-color: white;padding-right: 0.2em;padding-left: 0.2em;position: relative;}#sk-container-id-25 div.sk-item {position: relative;z-index: 1;}#sk-container-id-25 div.sk-parallel {display: flex;align-items: stretch;justify-content: center;background-color: white;position: relative;}#sk-container-id-25 div.sk-item::before, #sk-container-id-25 div.sk-parallel-item::before {content: \"\";position: absolute;border-left: 1px solid gray;box-sizing: border-box;top: 0;bottom: 0;left: 50%;z-index: -1;}#sk-container-id-25 div.sk-parallel-item {display: flex;flex-direction: column;z-index: 1;position: relative;background-color: white;}#sk-container-id-25 div.sk-parallel-item:first-child::after {align-self: flex-end;width: 50%;}#sk-container-id-25 div.sk-parallel-item:last-child::after {align-self: flex-start;width: 50%;}#sk-container-id-25 div.sk-parallel-item:only-child::after {width: 0;}#sk-container-id-25 div.sk-dashed-wrapped {border: 1px dashed gray;margin: 0 0.4em 0.5em 0.4em;box-sizing: border-box;padding-bottom: 0.4em;background-color: white;}#sk-container-id-25 div.sk-label label {font-family: monospace;font-weight: bold;display: inline-block;line-height: 1.2em;}#sk-container-id-25 div.sk-label-container {text-align: center;}#sk-container-id-25 div.sk-container {/* jupyter's `normalize.less` sets `[hidden] { display: none; }` but bootstrap.min.css set `[hidden] { display: none !important; }` so we also need the `!important` here to be able to override the default hidden behavior on the sphinx rendered scikit-learn.org. See: https://github.com/scikit-learn/scikit-learn/issues/21755 */display: inline-block !important;position: relative;}#sk-container-id-25 div.sk-text-repr-fallback {display: none;}</style><div id=\"sk-container-id-25\" class=\"sk-top-container\"><div class=\"sk-text-repr-fallback\"><pre>LogisticRegression(C=10, max_iter=2000)</pre><b>In a Jupyter environment, please rerun this cell to show the HTML representation or trust the notebook. <br />On GitHub, the HTML representation is unable to render, please try loading this page with nbviewer.org.</b></div><div class=\"sk-container\" hidden><div class=\"sk-item\"><div class=\"sk-estimator sk-toggleable\"><input class=\"sk-toggleable__control sk-hidden--visually\" id=\"sk-estimator-id-25\" type=\"checkbox\" checked><label for=\"sk-estimator-id-25\" class=\"sk-toggleable__label sk-toggleable__label-arrow\">LogisticRegression</label><div class=\"sk-toggleable__content\"><pre>LogisticRegression(C=10, max_iter=2000)</pre></div></div></div></div></div>"
      ],
      "text/plain": [
       "LogisticRegression(C=10, max_iter=2000)"
      ]
     },
     "execution_count": 853,
     "metadata": {},
     "output_type": "execute_result"
    }
   ],
   "source": [
    "# 여기에 답안코드를 작성하세요.\n",
    "from sklearn.linear_model import LogisticRegression\n",
    "lr = LogisticRegression(C=10, max_iter=2000) #!\n",
    "lr.fit(X_train_sclaed, y_train)"
   ]
  },
  {
   "cell_type": "markdown",
   "metadata": {},
   "source": [
    "<br>\n",
    "<font color=blue>8-2. 위 모델의 성능을 평가하려고 합니다. y값을 예측하여 confusion matrix를 구하고 heatmap 그래프로 시각화하세요. 그리고 Scikit-learn의 classification_report를 활용하여 성능을 출력하세요.</font>"
   ]
  },
  {
   "cell_type": "code",
   "execution_count": 854,
   "metadata": {},
   "outputs": [
    {
     "name": "stdout",
     "output_type": "stream",
     "text": [
      "[[1954    2]\n",
      " [  43    1]]\n",
      "Axes(0.125,0.125;0.62x0.755)\n",
      "              precision    recall  f1-score   support\n",
      "\n",
      "           0       0.98      1.00      0.99      1956\n",
      "           1       0.33      0.02      0.04        44\n",
      "\n",
      "    accuracy                           0.98      2000\n",
      "   macro avg       0.66      0.51      0.52      2000\n",
      "weighted avg       0.96      0.98      0.97      2000\n",
      "\n"
     ]
    },
    {
     "data": {
      "image/png": "[encoded data removed]",
      "text/plain": [
       "<Figure size 432x288 with 2 Axes>"
      ]
     },
     "metadata": {
      "needs_background": "light"
     },
     "output_type": "display_data"
    }
   ],
   "source": [
    "# 여기에 답안코드를 작성하세요.\n",
    "from sklearn.metrics import confusion_matrix, classification_report\n",
    "\n",
    "y_pred = lr.predict(X_test_scaled)\n",
    "print(confusion_matrix(y_test, y_pred))\n",
    "print(sns.heatmap(confusion_matrix(y_test, y_pred), annot=True, fmt=\"d\", cmap=\"Blues\"))\n",
    "print(classification_report(y_test, y_pred))"
   ]
  },
  {
   "cell_type": "markdown",
   "metadata": {},
   "source": [
    "<br>\n",
    "<font color=blue>8-3. DecisionTree 모델을 만들고 학습을 진행하세요. (단, max_depth는 10, random_state는 42로 설정)</font>"
   ]
  },
  {
   "cell_type": "code",
   "execution_count": 855,
   "metadata": {},
   "outputs": [
    {
     "data": {
      "text/plain": [
       "0.9745"
      ]
     },
     "execution_count": 855,
     "metadata": {},
     "output_type": "execute_result"
    }
   ],
   "source": [
    "# 여기에 답안코드를 작성하세요.\n",
    "from sklearn.tree import DecisionTreeClassifier\n",
    "dt = DecisionTreeClassifier(max_depth=10, random_state=42) ##\n",
    "dt.fit(X_train_sclaed, y_train)\n",
    "dt.score(X_test_scaled, y_test)"
   ]
  },
  {
   "cell_type": "markdown",
   "metadata": {},
   "source": [
    "<br>\n",
    "<font color=blue>8-4. RandomForest 모델을 만들고 학습을 진행하세요. (단, n_estimators=100, random_state=42 설정)</font>"
   ]
  },
  {
   "cell_type": "code",
   "execution_count": 856,
   "metadata": {},
   "outputs": [
    {
     "data": {
      "text/plain": [
       "0.9775"
      ]
     },
     "execution_count": 856,
     "metadata": {},
     "output_type": "execute_result"
    }
   ],
   "source": [
    "# 여기에 답안코드를 작성하세요.\n",
    "from sklearn.ensemble import RandomForestClassifier\n",
    "rf = RandomForestClassifier(n_estimators=100, random_state=42) ##\n",
    "rf.fit(X_train_sclaed, y_train)\n",
    "rf.score(X_test_scaled, y_test)"
   ]
  },
  {
   "cell_type": "markdown",
   "metadata": {},
   "source": [
    "<br>\n",
    "<font color=blue>8-5. XGBoost 모델을 만들고 학습을 진행하세요. (단, n_estimators=5 설정)</font>"
   ]
  },
  {
   "cell_type": "code",
   "execution_count": 857,
   "metadata": {},
   "outputs": [
    {
     "name": "stdout",
     "output_type": "stream",
     "text": [
      "[[1945   11]\n",
      " [  38    6]]\n"
     ]
    }
   ],
   "source": [
    "# 여기에 답안코드를 작성하세요.\n",
    "from xgboost import XGBClassifier\n",
    "xgb = RandomForestClassifier(n_estimators=5) ##\n",
    "xgb.fit(X_train_sclaed, y_train)\n",
    "xgb.score(X_test_scaled, y_test)\n",
    "\n",
    "y_pred = xgb.predict(X_test_scaled)\n",
    "print(confusion_matrix(y_test, y_pred))"
   ]
  },
  {
   "cell_type": "markdown",
   "metadata": {},
   "source": [
    "<br>\n",
    "<font color=blue>8-6. Light GBM 모델을 만들고 학습을 진행하세요. (단, n_estimators=3 설정)</font>"
   ]
  },
  {
   "cell_type": "code",
   "execution_count": 858,
   "metadata": {},
   "outputs": [
    {
     "name": "stdout",
     "output_type": "stream",
     "text": [
      "[[1956    0]\n",
      " [  44    0]]\n"
     ]
    }
   ],
   "source": [
    "# 여기에 답안코드를 작성하세요.\n",
    "from lightgbm import LGBMClassifier\n",
    "lgbm = LGBMClassifier(n_estimators=5) ##\n",
    "lgbm.fit(X_train_sclaed, y_train)\n",
    "lgbm.score(X_test_scaled, y_test)\n",
    "\n",
    "y_pred = lgbm.predict(X_test_scaled)\n",
    "print(confusion_matrix(y_test, y_pred))"
   ]
  },
  {
   "cell_type": "markdown",
   "metadata": {},
   "source": [
    "<br>\n",
    "<font color=blue>8-7. Linear Regression 모델을 연습으로 만들고 학습을 진행하세요.</font>"
   ]
  },
  {
   "cell_type": "code",
   "execution_count": 859,
   "metadata": {},
   "outputs": [],
   "source": [
    "# 이 데이터로 연습하세요.\n",
    "x_data = np.array([1.6, 2.3, 3.5, 4.6]).reshape(-1,1)\n",
    "y_data = np.array([3.3, 5.5, 7.2, 9.9])"
   ]
  },
  {
   "cell_type": "code",
   "execution_count": 860,
   "metadata": {},
   "outputs": [
    {
     "name": "stdout",
     "output_type": "stream",
     "text": [
      "0.9824368480454886\n",
      "[10.64610266]\n"
     ]
    }
   ],
   "source": [
    "# 여기에 답안코드를 작성하세요.\n",
    "from sklearn.linear_model import LinearRegression\n",
    "linearrg = LinearRegression()\n",
    "linearrg.fit(x_data, y_data)\n",
    "\n",
    "print(linearrg.score(x_data, y_data))\n",
    "print(linearrg.predict([[5]]))"
   ]
  },
  {
   "cell_type": "markdown",
   "metadata": {},
   "source": [
    "<br>"
   ]
  },
  {
   "cell_type": "markdown",
   "metadata": {},
   "source": [
    "## **<span style=\"color:black\">9. 딥러닝 모델링 & 모델 성능평가 및 그래프 출력</span>**"
   ]
  },
  {
   "cell_type": "markdown",
   "metadata": {},
   "source": [
    "<br>\n",
    "<font color=blue>9-1. 아래 가이드대로 해지여부를 분류하는 딥러닝 모델을 만드세요.</font>"
   ]
  },
  {
   "cell_type": "markdown",
   "metadata": {},
   "source": [
    "+ 첫번째 Hidden Layer : unit 64 , activation='relu'\n",
    "+ 두번째 Hidden Layer : unit 32 , activation='relu'\n",
    "+ 세번째 Hidden Layer : unit 16 , activation='relu'\n",
    "+ 각 Hidden Layer 마다 Dropout 0.2 비율로 되도록 하세요.\n",
    "+ EarlyStopping 콜백을 적용하고 ModelCheckpoint 콜백으로 validation performance가 좋은 모델을 h5 모델로 저장하세요.\n",
    "+ batch_size는 10, epochs는 10으로 설정하세요."
   ]
  },
  {
   "cell_type": "code",
   "execution_count": 861,
   "metadata": {},
   "outputs": [
    {
     "data": {
      "text/plain": [
       "8000"
      ]
     },
     "execution_count": 861,
     "metadata": {},
     "output_type": "execute_result"
    }
   ],
   "source": [
    "len(X_train_sclaed)"
   ]
  },
  {
   "cell_type": "code",
   "execution_count": 862,
   "metadata": {},
   "outputs": [
    {
     "data": {
      "text/plain": [
       "9254    0\n",
       "1561    0\n",
       "1670    0\n",
       "6087    0\n",
       "6669    0\n",
       "       ..\n",
       "5734    0\n",
       "5191    0\n",
       "5390    0\n",
       "860     0\n",
       "7270    1\n",
       "Name: trm_yn_Y, Length: 8000, dtype: uint8"
      ]
     },
     "execution_count": 862,
     "metadata": {},
     "output_type": "execute_result"
    }
   ],
   "source": [
    "y_train"
   ]
  },
  {
   "cell_type": "code",
   "execution_count": 895,
   "metadata": {},
   "outputs": [
    {
     "name": "stdout",
     "output_type": "stream",
     "text": [
      "Epoch 1/10\n",
      "800/800 [==============================] - 1s 961us/step - loss: 0.1433 - accuracy: 0.9710 - val_loss: 0.0975 - val_accuracy: 0.9780\n",
      "Epoch 2/10\n",
      "800/800 [==============================] - 1s 831us/step - loss: 0.1052 - accuracy: 0.9774 - val_loss: 0.0944 - val_accuracy: 0.9780\n",
      "Epoch 3/10\n",
      "800/800 [==============================] - 1s 867us/step - loss: 0.1002 - accuracy: 0.9778 - val_loss: 0.0912 - val_accuracy: 0.9780\n",
      "Epoch 4/10\n",
      "800/800 [==============================] - 1s 799us/step - loss: 0.0965 - accuracy: 0.9776 - val_loss: 0.0950 - val_accuracy: 0.9780\n",
      "Epoch 5/10\n",
      "800/800 [==============================] - 1s 813us/step - loss: 0.0928 - accuracy: 0.9776 - val_loss: 0.0933 - val_accuracy: 0.9785\n",
      "Epoch 6/10\n",
      "800/800 [==============================] - 1s 801us/step - loss: 0.0934 - accuracy: 0.9778 - val_loss: 0.0955 - val_accuracy: 0.9785\n",
      "Epoch 7/10\n",
      "800/800 [==============================] - 1s 815us/step - loss: 0.0935 - accuracy: 0.9780 - val_loss: 0.0950 - val_accuracy: 0.9780\n"
     ]
    }
   ],
   "source": [
    "# 여기에 답안코드를 작성하세요.\n",
    "from keras.models import Sequential\n",
    "from keras.layers import Dense, Dropout\n",
    "from keras.callbacks import EarlyStopping, ModelCheckpoint\n",
    "from keras.backend import clear_session\n",
    "from keras.optimizers import Adam\n",
    "\n",
    "model = Sequential([Dense(64, input_shape=(X_train_sclaed.shape[1],), activation='relu'),\n",
    "                   Dropout(0.2),\n",
    "                   Dense(32, activation='relu'),\n",
    "                   Dropout(0.2),\n",
    "                   Dense(16, activation='relu'),\n",
    "                   Dropout(0.2),\n",
    "                   Dense(1, activation='sigmoid')\n",
    "                   ])\n",
    "\n",
    "model.compile(optimizer='adam', loss='binary_crossentropy', metrics=['accuracy']) #!\n",
    "\n",
    "# EarlyStopping 및 ModelCheckpoint 콜백 설정\n",
    "es = EarlyStopping(monitor='val_loss', patience=4,  mode='min', restore_best_weights=True)\n",
    "mc = ModelCheckpoint(\"best_model.h5\", monitor='val_loss', save_best_only=True)\n",
    "    \n",
    "hist = model.fit(X_train_sclaed, y_train, \n",
    "                 epochs=10, batch_size=10, \n",
    "                 callbacks=[es, mc],\n",
    "                 validation_data=(X_test_scaled, y_test)).history\n",
    "hist\n",
    "\n",
    "model.save('voc_model1.h5')"
   ]
  },
  {
   "cell_type": "code",
   "execution_count": 894,
   "metadata": {},
   "outputs": [],
   "source": [
    "# 답 tensorflow\n",
    "\n",
    "# import tensorflow as tf\n",
    "# from tensorflow import keras\n",
    "# from tensorflow.keras.models import Sequential, load_model\n",
    "# from tensorflow.keras.layers import Dense, Dropout\n",
    "# from tensorflow.keras.callbacks import EarlyStopping, ModelCheckpoint\n",
    "\n",
    "# try:\n",
    "#     model = Sequential()\n",
    "\n",
    "#     model.add(Dense(64, activation='relu', input_shape=(X_train.shape[1],)))\n",
    "#     model.add(Dropout(0.2))\n",
    "#     model.add(Dense(32, activation='relu'))\n",
    "#     model.add(Dropout(0.2))\n",
    "#     model.add(Dense(16, activation='relu'))\n",
    "#     model.add(Dropout(0.2))\n",
    "#     model.add(Dense(1, activation='sigmoid'))\n",
    "\n",
    "#     model.compile(optimizer='adam', loss='binary_crossentropy', metrics=['acc'])\n",
    "\n",
    "#     es = EarlyStopping(monitor='val_loss', patience=4, mode='min', verbose=1)\n",
    "#     mc = ModelCheckpoint('best_model.keras', monitor='val_loss', save_best_only=True, verbose=1)\n",
    "\n",
    "\n",
    "#     history = model.fit(X_train, y_train, \n",
    "#                         batch_size=10, \n",
    "#                         epochs=10, \n",
    "#                         callbacks=[es, mc],\n",
    "#                         validation_data=(X_test, y_test), \n",
    "#                         verbose=1)\n",
    "\n",
    "# except ModuleNotFoundError:\n",
    "#     print(\"필요한 모듈이 설치되어 있지 않습니다.\")"
   ]
  },
  {
   "cell_type": "markdown",
   "metadata": {},
   "source": [
    "<br>\n",
    "<font color=blue>9-2. y_train, y_test를 원핫 인코딩 후 다중 분류하는 딥러닝 모델을 만드세요. 9-1과 동일한 가이드 적용</font>"
   ]
  },
  {
   "cell_type": "code",
   "execution_count": 865,
   "metadata": {},
   "outputs": [
    {
     "data": {
      "text/plain": [
       "0    7820\n",
       "1     180\n",
       "Name: trm_yn_Y, dtype: int64"
      ]
     },
     "execution_count": 865,
     "metadata": {},
     "output_type": "execute_result"
    }
   ],
   "source": [
    "y_train.value_counts()"
   ]
  },
  {
   "cell_type": "code",
   "execution_count": 867,
   "metadata": {},
   "outputs": [
    {
     "data": {
      "text/plain": [
       "9254    0\n",
       "1561    0\n",
       "1670    0\n",
       "6087    0\n",
       "6669    0\n",
       "       ..\n",
       "5734    0\n",
       "5191    0\n",
       "5390    0\n",
       "860     0\n",
       "7270    1\n",
       "Name: trm_yn_Y, Length: 8000, dtype: uint8"
      ]
     },
     "execution_count": 867,
     "metadata": {},
     "output_type": "execute_result"
    }
   ],
   "source": [
    "y_train"
   ]
  },
  {
   "cell_type": "code",
   "execution_count": 868,
   "metadata": {},
   "outputs": [
    {
     "data": {
      "text/plain": [
       "array([[1., 0.],\n",
       "       [1., 0.],\n",
       "       [1., 0.],\n",
       "       ...,\n",
       "       [1., 0.],\n",
       "       [1., 0.],\n",
       "       [0., 1.]], dtype=float32)"
      ]
     },
     "execution_count": 868,
     "metadata": {},
     "output_type": "execute_result"
    }
   ],
   "source": [
    "to_categorical(y_train)"
   ]
  },
  {
   "cell_type": "code",
   "execution_count": 869,
   "metadata": {},
   "outputs": [
    {
     "data": {
      "text/plain": [
       "array([[ 0.10530589, -1.15108438,  0.30047611, ..., -0.36224539,\n",
       "        -0.05006262, -0.1956702 ],\n",
       "       [ 0.10533456,  0.02043876,  0.30047611, ..., -0.36224539,\n",
       "        -0.05006262, -0.1956702 ],\n",
       "       [ 0.10316536, -1.16216261,  0.30047611, ..., -0.36224539,\n",
       "        -0.05006262, -0.1956702 ],\n",
       "       ...,\n",
       "       [ 0.10514028, -1.32279699, -0.96402092, ..., -0.36224539,\n",
       "        -0.05006262, -0.1956702 ],\n",
       "       [ 0.10275518, -1.34772301,  0.30047611, ..., -0.36224539,\n",
       "        -0.05006262, -0.1956702 ],\n",
       "       [ 0.1028634 ,  0.54388527,  0.30047611, ..., -0.36224539,\n",
       "        -0.05006262, -0.1956702 ]])"
      ]
     },
     "execution_count": 869,
     "metadata": {},
     "output_type": "execute_result"
    }
   ],
   "source": [
    "X_train_sclaed"
   ]
  },
  {
   "cell_type": "code",
   "execution_count": 749,
   "metadata": {},
   "outputs": [
    {
     "data": {
      "text/plain": [
       "28"
      ]
     },
     "execution_count": 749,
     "metadata": {},
     "output_type": "execute_result"
    }
   ],
   "source": [
    "X_train_sclaed.shape[1]"
   ]
  },
  {
   "cell_type": "code",
   "execution_count": 896,
   "metadata": {},
   "outputs": [
    {
     "name": "stdout",
     "output_type": "stream",
     "text": [
      "Epoch 1/10\n",
      "800/800 [==============================] - 1s 960us/step - loss: 0.1441 - accuracy: 0.9743 - val_loss: 0.0908 - val_accuracy: 0.9780\n",
      "Epoch 2/10\n",
      "800/800 [==============================] - 1s 812us/step - loss: 0.1067 - accuracy: 0.9768 - val_loss: 0.0905 - val_accuracy: 0.9775\n",
      "Epoch 3/10\n",
      "800/800 [==============================] - 1s 826us/step - loss: 0.1015 - accuracy: 0.9772 - val_loss: 0.0903 - val_accuracy: 0.9780\n",
      "Epoch 4/10\n",
      "800/800 [==============================] - 1s 831us/step - loss: 0.0972 - accuracy: 0.9776 - val_loss: 0.0902 - val_accuracy: 0.9775\n",
      "Epoch 5/10\n",
      "800/800 [==============================] - 1s 799us/step - loss: 0.0958 - accuracy: 0.9772 - val_loss: 0.0905 - val_accuracy: 0.9780\n",
      "Epoch 6/10\n",
      "800/800 [==============================] - 1s 832us/step - loss: 0.0931 - accuracy: 0.9774 - val_loss: 0.0892 - val_accuracy: 0.9770\n",
      "Epoch 7/10\n",
      "800/800 [==============================] - 1s 820us/step - loss: 0.0931 - accuracy: 0.9775 - val_loss: 0.0906 - val_accuracy: 0.9785\n",
      "Epoch 8/10\n",
      "800/800 [==============================] - 1s 821us/step - loss: 0.0922 - accuracy: 0.9772 - val_loss: 0.0892 - val_accuracy: 0.9780\n",
      "Epoch 9/10\n",
      "800/800 [==============================] - 1s 783us/step - loss: 0.0903 - accuracy: 0.9778 - val_loss: 0.0908 - val_accuracy: 0.9780\n",
      "Epoch 10/10\n",
      "800/800 [==============================] - 1s 845us/step - loss: 0.0891 - accuracy: 0.9775 - val_loss: 0.0919 - val_accuracy: 0.9775\n"
     ]
    }
   ],
   "source": [
    "# 여기에 답안코드를 작성하세요.\n",
    "from keras.utils import to_categorical # 정수인코딩 선행되어 있어서함\n",
    "y_train_ohe = to_categorical(y_train)\n",
    "y_test_ohe = to_categorical(y_test)\n",
    "\n",
    "model = Sequential([Dense(64, input_shape=(X_train_sclaed.shape[1],), activation='relu'),\n",
    "                   Dropout(0.2),\n",
    "                   Dense(32, activation='relu'),\n",
    "                   Dropout(0.2),\n",
    "                   Dense(16, activation='relu'),\n",
    "                   Dropout(0.2),\n",
    "                   Dense(2, activation='softmax') #!\n",
    "                   ])\n",
    "\n",
    "model.compile(optimizer='adam', loss='categorical_crossentropy', metrics=['accuracy']) #! loss 잘맞춰야함\n",
    "\n",
    "# EarlyStopping 및 ModelCheckpoint 콜백 설정\n",
    "es = EarlyStopping(monitor='val_loss', patience=4,  mode='min', restore_best_weights=True)\n",
    "mc = ModelCheckpoint(\"best_model.h5\", monitor='val_loss', save_best_only=True)\n",
    "\n",
    "hist = model.fit(X_train_sclaed, y_train_ohe, \n",
    "                 epochs=10, batch_size=10, \n",
    "                 callbacks=[es, mc], \n",
    "                 validation_data=(X_test_scaled, y_test_ohe)).history\n",
    "\n",
    "model.save('voc_model2.h5')"
   ]
  },
  {
   "cell_type": "code",
   "execution_count": 893,
   "metadata": {},
   "outputs": [],
   "source": [
    "# 답 tensorflow\n",
    "# 여기에 답안코드를 작성하세요.\n",
    "\n",
    "# from keras.utils import to_categorical\n",
    "# y_train_ohe = to_categorical(y_train)\n",
    "# y_test_ohe = to_categorical(y_test)\n",
    "\n",
    "# model = Sequential()\n",
    "# model.add(Dense(64,activation='relu',input_shape=(X_train.shape[1],)))\n",
    "# model.add(Dropout(0.2))\n",
    "# model.add(Dense(32,activation='relu'))\n",
    "# model.add(Dropout(0.2))\n",
    "# model.add(Dense(16,activation='relu'))\n",
    "# model.add(Dropout(0.2))\n",
    "# model.add(Dense(2,activation='softmax'))\n",
    "\n",
    "# model.compile(optimizer='adam', loss='categorical_crossentropy',metrics=['acc'])\n",
    "\n",
    "# history = model.fit(X_train, y_train_ohe, \n",
    "# batch_size=10, epochs=10, callbacks=[es,mc], \n",
    "# validation_data=(X_test, y_test_ohe), verbose=1)\n",
    "\n",
    "# model.save('voc_model.h5')"
   ]
  },
  {
   "cell_type": "code",
   "execution_count": null,
   "metadata": {},
   "outputs": [],
   "source": []
  },
  {
   "cell_type": "code",
   "execution_count": 725,
   "metadata": {},
   "outputs": [],
   "source": [
    "# 참고\n",
    "# Y 레이블 One-Hot-Encoding 되지 않았으면 loss='sparse_categorical_crossentropy' 사용\n",
    "# model.compile(optimizer='adam', loss='sparse_categorical_crossentropy',metrics=['acc'])\n",
    "# history = model.fit(X_train, y_train, batch_size=batch_size, epochs=epochs, callbacks=[es,mc], validation_data=(X_test_scaled, y_test), verbose=1)"
   ]
  },
  {
   "cell_type": "code",
   "execution_count": null,
   "metadata": {},
   "outputs": [],
   "source": [
    "# from sklearn.preprocessing import OneHotEncoder\n",
    "# oh_encoder = OneHotEncoder()\n",
    "# y_train_encoded = oh_encoder.fit_transform([y_train]) # 2차원 입력해야함\n",
    "# y_test_encoded = oh_encoder.fit_transform([y_test])\n"
   ]
  },
  {
   "cell_type": "markdown",
   "metadata": {},
   "source": [
    "<br>\n",
    "<font color=blue>9-3. 모델 성능을 평가해서 그래프로 표현하세요. 학습 정확도와 검증정확도를 그래프로 표시하고 xlabel에는 Epochs, ylabel에는 Accuracy, 범례에는 Train과 Validation으로 표시하세요..</font>"
   ]
  },
  {
   "cell_type": "code",
   "execution_count": 897,
   "metadata": {},
   "outputs": [
    {
     "data": {
      "image/png": "[encoded data removed]",
      "text/plain": [
       "<Figure size 576x432 with 1 Axes>"
      ]
     },
     "metadata": {
      "needs_background": "light"
     },
     "output_type": "display_data"
    }
   ],
   "source": [
    "# 여기에 답안코드를 작성하세요.\n",
    "\n",
    "# 정확도 그래프 생성\n",
    "plt.figure(figsize=(8, 6))\n",
    "\n",
    "plt.plot(hist['accuracy'])\n",
    "plt.plot(hist['val_accuracy'])\n",
    "\n",
    "# model.fit 마지막에 .history 안했을때\n",
    "# plt.plot(hist.history['accuracy']) \n",
    "# plt.plot(hist.history['val_accuracy'])\n",
    "\n",
    "plt.title('Model Accuracy')\n",
    "plt.xlabel('Epochs')\n",
    "plt.ylabel('Accuracy')\n",
    "plt.legend(['Train','Validation'], loc='lower right')\n",
    "plt.grid(True)\n",
    "plt.show()\n"
   ]
  },
  {
   "cell_type": "markdown",
   "metadata": {},
   "source": [
    "<br>\n",
    "<font color=blue>9-4. 모델 성능을 평가해서 그래프로 표현하세요. 학습 손실과 검증 손실을 그래프로 표시하고 xlabel에는 Epochs, ylabel에는 Loss, 범례에는 Train Loss와 Validation Loss로 표시하세요.</font>"
   ]
  },
  {
   "cell_type": "code",
   "execution_count": 899,
   "metadata": {},
   "outputs": [
    {
     "data": {
      "text/plain": [
       "{'loss': [0.1440826952457428,\n",
       "  0.10668212175369263,\n",
       "  0.10152652859687805,\n",
       "  0.09719175100326538,\n",
       "  0.09579309076070786,\n",
       "  0.09312056750059128,\n",
       "  0.093146912753582,\n",
       "  0.09218069911003113,\n",
       "  0.09032213687896729,\n",
       "  0.08909977972507477],\n",
       " 'accuracy': [0.9742500185966492,\n",
       "  0.9767500162124634,\n",
       "  0.9772499799728394,\n",
       "  0.9776250123977661,\n",
       "  0.9772499799728394,\n",
       "  0.9773749709129333,\n",
       "  0.9775000214576721,\n",
       "  0.9772499799728394,\n",
       "  0.9777500033378601,\n",
       "  0.9775000214576721],\n",
       " 'val_loss': [0.09076370298862457,\n",
       "  0.09050259739160538,\n",
       "  0.09026633948087692,\n",
       "  0.09024380892515182,\n",
       "  0.09047155827283859,\n",
       "  0.08919641375541687,\n",
       "  0.0905982255935669,\n",
       "  0.0891861617565155,\n",
       "  0.09077786654233932,\n",
       "  0.09191625565290451],\n",
       " 'val_accuracy': [0.9779999852180481,\n",
       "  0.9775000214576721,\n",
       "  0.9779999852180481,\n",
       "  0.9775000214576721,\n",
       "  0.9779999852180481,\n",
       "  0.9769999980926514,\n",
       "  0.9785000085830688,\n",
       "  0.9779999852180481,\n",
       "  0.9779999852180481,\n",
       "  0.9775000214576721]}"
      ]
     },
     "execution_count": 899,
     "metadata": {},
     "output_type": "execute_result"
    }
   ],
   "source": [
    "hist"
   ]
  },
  {
   "cell_type": "code",
   "execution_count": 900,
   "metadata": {},
   "outputs": [
    {
     "data": {
      "text/plain": [
       "[0.1440826952457428,\n",
       " 0.10668212175369263,\n",
       " 0.10152652859687805,\n",
       " 0.09719175100326538,\n",
       " 0.09579309076070786,\n",
       " 0.09312056750059128,\n",
       " 0.093146912753582,\n",
       " 0.09218069911003113,\n",
       " 0.09032213687896729,\n",
       " 0.08909977972507477]"
      ]
     },
     "execution_count": 900,
     "metadata": {},
     "output_type": "execute_result"
    }
   ],
   "source": [
    "hist['loss']"
   ]
  },
  {
   "cell_type": "code",
   "execution_count": 901,
   "metadata": {},
   "outputs": [
    {
     "data": {
      "image/png": "[encoded data removed]",
      "text/plain": [
       "<Figure size 720x360 with 1 Axes>"
      ]
     },
     "metadata": {
      "needs_background": "light"
     },
     "output_type": "display_data"
    }
   ],
   "source": [
    "# 여기에 답안코드를 작성하세요.\n",
    "\n",
    "plt.figure(figsize=(10,5))\n",
    "plt.plot(hist['loss'], 'b', label='Train Loss')\n",
    "plt.plot(hist['val_loss'], 'y', label='validaton Loss')\n",
    "\n",
    "plt.xlabel('Epochs')\n",
    "plt.ylabel('Loss')\n",
    "plt.grid()\n",
    "plt.legend()\n",
    "plt.show()"
   ]
  },
  {
   "cell_type": "markdown",
   "metadata": {},
   "source": [
    "<br>\n",
    "<font color=blue>9-5. y값을 예측하여 y_test_pred에 저장하고 정확도를 출력하세요..</font>"
   ]
  },
  {
   "cell_type": "code",
   "execution_count": 929,
   "metadata": {},
   "outputs": [
    {
     "name": "stdout",
     "output_type": "stream",
     "text": [
      "200/200 [==============================] - 0s 487us/step\n"
     ]
    },
    {
     "data": {
      "text/plain": [
       "0.9775"
      ]
     },
     "execution_count": 929,
     "metadata": {},
     "output_type": "execute_result"
    }
   ],
   "source": [
    "# 여기에 답안코드를 작성하세요.\n",
    "from sklearn.metrics import accuracy_score\n",
    "\n",
    "y_test_pred = model.predict(X_test_scaled, batch_size=10)\n",
    "y_test_pred = np.argmax(y_test_pred, axis=1) #! 원핫인코딩해서 argmax 해줘야됨\n",
    "\n",
    "y_test = np.argmax(y_test_ohe, axis=1) #! 원핫인코딩해서 argmax 해줘야됨\n",
    "\n",
    "accuracy_score(y_test_pred, y_test)"
   ]
  },
  {
   "cell_type": "code",
   "execution_count": null,
   "metadata": {},
   "outputs": [],
   "source": []
  },
  {
   "cell_type": "code",
   "execution_count": 930,
   "metadata": {},
   "outputs": [
    {
     "name": "stdout",
     "output_type": "stream",
     "text": [
      "200/200 [==============================] - 0s 499us/step\n"
     ]
    },
    {
     "data": {
      "text/plain": [
       "array([[9.3958318e-01, 6.0416795e-02],\n",
       "       [9.9993563e-01, 6.4413216e-05],\n",
       "       [9.5430887e-01, 4.5691118e-02],\n",
       "       ...,\n",
       "       [9.7898543e-01, 2.1014512e-02],\n",
       "       [9.6727204e-01, 3.2727912e-02],\n",
       "       [9.9996459e-01, 3.5418514e-05]], dtype=float32)"
      ]
     },
     "execution_count": 930,
     "metadata": {},
     "output_type": "execute_result"
    }
   ],
   "source": [
    "model.predict(X_test_scaled, batch_size=10) # 0/1일 확률중 큰값 인덱스 필요해서 argmax"
   ]
  },
  {
   "cell_type": "code",
   "execution_count": null,
   "metadata": {},
   "outputs": [],
   "source": []
  },
  {
   "cell_type": "code",
   "execution_count": 922,
   "metadata": {},
   "outputs": [
    {
     "data": {
      "text/plain": [
       "array([[1., 0.],\n",
       "       [1., 0.],\n",
       "       [1., 0.],\n",
       "       [1., 0.],\n",
       "       [1., 0.],\n",
       "       [1., 0.],\n",
       "       [1., 0.],\n",
       "       [0., 1.]], dtype=float32)"
      ]
     },
     "execution_count": 922,
     "metadata": {},
     "output_type": "execute_result"
    }
   ],
   "source": [
    "y_test_ohe[310:318]"
   ]
  },
  {
   "cell_type": "code",
   "execution_count": null,
   "metadata": {},
   "outputs": [],
   "source": []
  },
  {
   "cell_type": "code",
   "execution_count": 924,
   "metadata": {},
   "outputs": [
    {
     "data": {
      "text/plain": [
       "array([1., 0.], dtype=float32)"
      ]
     },
     "execution_count": 924,
     "metadata": {},
     "output_type": "execute_result"
    }
   ],
   "source": [
    "y_test_ohe[316]"
   ]
  },
  {
   "cell_type": "code",
   "execution_count": 923,
   "metadata": {},
   "outputs": [
    {
     "data": {
      "text/plain": [
       "array([0., 1.], dtype=float32)"
      ]
     },
     "execution_count": 923,
     "metadata": {},
     "output_type": "execute_result"
    }
   ],
   "source": [
    "y_test_ohe[317]"
   ]
  },
  {
   "cell_type": "code",
   "execution_count": null,
   "metadata": {},
   "outputs": [],
   "source": []
  },
  {
   "cell_type": "code",
   "execution_count": 926,
   "metadata": {},
   "outputs": [
    {
     "data": {
      "text/plain": [
       "0"
      ]
     },
     "execution_count": 926,
     "metadata": {},
     "output_type": "execute_result"
    }
   ],
   "source": [
    "np.argmax(y_test_ohe[316])"
   ]
  },
  {
   "cell_type": "code",
   "execution_count": 927,
   "metadata": {},
   "outputs": [
    {
     "data": {
      "text/plain": [
       "1"
      ]
     },
     "execution_count": 927,
     "metadata": {},
     "output_type": "execute_result"
    }
   ],
   "source": [
    "np.argmax(y_test_ohe[317])"
   ]
  },
  {
   "cell_type": "code",
   "execution_count": null,
   "metadata": {},
   "outputs": [],
   "source": []
  }
 ],
 "metadata": {
  "kernelspec": {
   "display_name": "Python 3 (ipykernel)",
   "language": "python",
   "name": "python3"
  },
  "language_info": {
   "codemirror_mode": {
    "name": "ipython",
    "version": 3
   },
   "file_extension": ".py",
   "mimetype": "text/x-python",
   "name": "python",
   "nbconvert_exporter": "python",
   "pygments_lexer": "ipython3",
   "version": "3.9.7"
  }
 },
 "nbformat": 4,
 "nbformat_minor": 4
}
