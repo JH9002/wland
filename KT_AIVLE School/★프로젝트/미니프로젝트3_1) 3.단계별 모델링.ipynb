{
 "cells": [
  {
   "cell_type": "code",
   "execution_count": 151,
   "metadata": {},
   "outputs": [],
   "source": [
    "# 알고리즘 4개"
   ]
  },
  {
   "cell_type": "code",
   "execution_count": null,
   "metadata": {},
   "outputs": [],
   "source": []
  },
  {
   "cell_type": "markdown",
   "metadata": {
    "id": "NbI_RoQ9AP5r"
   },
   "source": [
    "#**스마트폰 센서 데이터 기반 모션 분류**\n",
    "# 단계3 : 단계별 모델링\n"
   ]
  },
  {
   "cell_type": "markdown",
   "metadata": {
    "id": "D67PlTu4JGAY"
   },
   "source": [
    "## 0.미션"
   ]
  },
  {
   "cell_type": "markdown",
   "metadata": {
    "id": "wc1FlP4E09oQ"
   },
   "source": [
    "단계별로 나눠서 모델링을 수행하고자 합니다.  \n",
    "\n",
    "* 단계1 : 정적(0), 동적(1) 행동 분류 모델 생성\n",
    "* 단계2 : 세부 동작에 대한 분류모델 생성\n",
    "    * 단계1 모델에서 0으로 예측 -> 정적 행동 3가지 분류 모델링\n",
    "    * 단계1 모델에서 1으로 예측 -> 동적 행동 3가지 분류 모델링 \n",
    "* 모델 통합\n",
    "    * 두 단계 모델을 통합하고, 새로운 데이터에 대해서 최종 예측결과와 성능평가가 나오도록 함수로 만들기\n",
    "* 성능 비교\n",
    "    * 기본 모델링의 성능과 비교\n",
    "    * 모든 모델링은 [다양한 알고리즘 + 성능 튜닝]을 수행해야 합니다.\n",
    "    * 성능 가이드\n",
    "            * Accuracy : 0.980~1.00\n"
   ]
  },
  {
   "cell_type": "markdown",
   "metadata": {
    "id": "NCptKiLOAn7l"
   },
   "source": [
    "## 1.환경설정"
   ]
  },
  {
   "cell_type": "markdown",
   "metadata": {
    "id": "yfvvK98cpklr"
   },
   "source": [
    "* 세부 요구사항\n",
    "    - 경로 설정 : 다음의 두가지 방법 중 하나를 선택하여 폴더를 준비하고 데이터를 로딩하시오.\n",
    "        * 1) 로컬 수행(Ananconda)\n",
    "            * 제공된 압축파일을 다운받아 압축을 풀고\n",
    "            * anaconda의 root directory(보통 C:/Users/< ID > 에 project 폴더를 만들고, 복사해 넣습니다.\n",
    "        * 2) 구글콜랩\n",
    "            * 구글 드라이브 바로 밑에 project 폴더를 만들고, \n",
    "            * 데이터 파일을 복사해 넣습니다.\n",
    "    \n",
    "    - 기본적으로 필요한 라이브러리를 import 하도록 코드가 작성되어 있습니다. \n",
    "        * 필요하다고 판단되는 라이브러리를 추가하세요.\n"
   ]
  },
  {
   "cell_type": "markdown",
   "metadata": {
    "id": "6qsy44YpolGu"
   },
   "source": [
    "### (1) 경로 설정"
   ]
  },
  {
   "cell_type": "markdown",
   "metadata": {
    "id": "gklxNfgNpkls"
   },
   "source": [
    "#### 1) 로컬 수행(Anaconda)\n",
    "* project 폴더에 필요한 파일들을 넣고, 본 파일을 열었다면, 별도 경로 지정이 필요하지 않습니다."
   ]
  },
  {
   "cell_type": "code",
   "execution_count": 152,
   "metadata": {
    "executionInfo": {
     "elapsed": 2,
     "status": "ok",
     "timestamp": 1682563171817,
     "user": {
      "displayName": "허신 - Business Intelligence",
      "userId": "11511914061488776232"
     },
     "user_tz": -540
    },
    "id": "PNI6X2yxpkls"
   },
   "outputs": [],
   "source": [
    "path = 'C:/Users/wl/Desktop/본수업 시작/미니프로젝트/3차 - 240404/1일차/'"
   ]
  },
  {
   "cell_type": "markdown",
   "metadata": {
    "id": "7rWT4biQpkls"
   },
   "source": [
    "#### 2) 구글 콜랩 수행"
   ]
  },
  {
   "cell_type": "markdown",
   "metadata": {
    "id": "3OpMHqwdpkls"
   },
   "source": [
    "* 구글 드라이브 연결"
   ]
  },
  {
   "cell_type": "code",
   "execution_count": 153,
   "metadata": {
    "colab": {
     "base_uri": "https://localhost:8080/"
    },
    "executionInfo": {
     "elapsed": 26960,
     "status": "ok",
     "timestamp": 1682563199892,
     "user": {
      "displayName": "허신 - Business Intelligence",
      "userId": "11511914061488776232"
     },
     "user_tz": -540
    },
    "id": "CLasRk8Spklt",
    "outputId": "89c291cd-3306-46dc-d390-83a5d2cfd7d6"
   },
   "outputs": [],
   "source": [
    "# from google.colab import drive\n",
    "# drive.mount('/content/drive')"
   ]
  },
  {
   "cell_type": "code",
   "execution_count": 154,
   "metadata": {
    "executionInfo": {
     "elapsed": 1,
     "status": "ok",
     "timestamp": 1682563203274,
     "user": {
      "displayName": "허신 - Business Intelligence",
      "userId": "11511914061488776232"
     },
     "user_tz": -540
    },
    "id": "CAVyyXi9pklt"
   },
   "outputs": [],
   "source": [
    "# path = '/content/drive/MyDrive/project/'"
   ]
  },
  {
   "cell_type": "markdown",
   "metadata": {
    "id": "KnzVh2LmkLDU"
   },
   "source": [
    "### (2) 라이브러리 불러오기"
   ]
  },
  {
   "cell_type": "markdown",
   "metadata": {
    "id": "yZZpUzXun1mw"
   },
   "source": [
    "#### 1) 라이브러리 로딩"
   ]
  },
  {
   "cell_type": "code",
   "execution_count": 155,
   "metadata": {
    "executionInfo": {
     "elapsed": 2246,
     "status": "ok",
     "timestamp": 1682563218112,
     "user": {
      "displayName": "허신 - Business Intelligence",
      "userId": "11511914061488776232"
     },
     "user_tz": -540
    },
    "id": "3rsQerEaELwI"
   },
   "outputs": [],
   "source": [
    "import pandas as pd\n",
    "import numpy as np\n",
    "import matplotlib.pyplot as plt\n",
    "import seaborn as sns\n",
    "\n",
    "import warnings\n",
    "\n",
    "warnings.filterwarnings(action='ignore')\n",
    "%config InlineBackend.figure_format='retina'\n",
    "# 필요하다고 판단되는 라이브러리를 추가하세요."
   ]
  },
  {
   "cell_type": "code",
   "execution_count": null,
   "metadata": {},
   "outputs": [],
   "source": []
  },
  {
   "cell_type": "markdown",
   "metadata": {
    "id": "mlBhkYHQ491o"
   },
   "source": [
    "#### 2) 제공 함수 생성\n",
    "* 변수 중요도를 시각화할 수 있는 함수를 제공합니다.\n",
    "* 입력 : \n",
    "    * importance : 트리모델의 변수 중요도(예: model.feature_importances_)\n",
    "    * names : 변수 이름 목록(예 : x_train.columns\n",
    "    * result_only  : 변수 중요도 순으로 데이터프레임만 return할지, 그래프도 포함할지 결정. False이면 결과 데이터프레임 + 그래프\n",
    "    * topn : 중요도 상위 n개만 표시. all 이면 전체.\n",
    "* 출력 : \n",
    "    * 중요도 그래프 : 중요도 내림차순으로 정렬\n",
    "    * 중요도 데이터프레임 : 중요도 내림차순으로 정렬"
   ]
  },
  {
   "cell_type": "code",
   "execution_count": 156,
   "metadata": {
    "executionInfo": {
     "elapsed": 855,
     "status": "ok",
     "timestamp": 1682563221306,
     "user": {
      "displayName": "허신 - Business Intelligence",
      "userId": "11511914061488776232"
     },
     "user_tz": -540
    },
    "id": "EyMZDIT-aDHZ"
   },
   "outputs": [],
   "source": [
    "# 변수의 특성 중요도 계산하기\n",
    "def plot_feature_importance(importance, names, result_only = False, topn = 'all'):\n",
    "    feature_importance = np.array(importance)\n",
    "    feature_name = np.array(names)\n",
    "\n",
    "    data={'feature_name':feature_name,'feature_importance':feature_importance}\n",
    "    fi_temp = pd.DataFrame(data)\n",
    "\n",
    "    #변수의 특성 중요도 순으로 정렬하기\n",
    "    fi_temp.sort_values(by=['feature_importance'], ascending=False,inplace=True)\n",
    "    fi_temp.reset_index(drop=True, inplace = True)\n",
    "\n",
    "    if topn == 'all' :\n",
    "        fi_df = fi_temp.copy()\n",
    "    else :\n",
    "        fi_df = fi_temp.iloc[:topn]\n",
    "\n",
    "    #변수의 특성 중요도 그래프로 그리기\n",
    "    if result_only == False :\n",
    "        plt.figure(figsize=(10,20))\n",
    "        sns.barplot(x='feature_importance', y='feature_name', data = fi_df)\n",
    "\n",
    "        plt.xlabel('importance')\n",
    "        plt.ylabel('feature name')\n",
    "        plt.grid()\n",
    "\n",
    "    return fi_df"
   ]
  },
  {
   "cell_type": "code",
   "execution_count": null,
   "metadata": {},
   "outputs": [],
   "source": []
  },
  {
   "cell_type": "markdown",
   "metadata": {
    "id": "t3pKgA7_qfRB"
   },
   "source": [
    "### (3) 데이터 불러오기"
   ]
  },
  {
   "cell_type": "markdown",
   "metadata": {
    "id": "HwIACQyupklv"
   },
   "source": [
    "* 주어진 데이터셋\n",
    "    * data01_train.csv : 학습 및 검증용\n",
    "    * data01_test.csv : 테스트용\n",
    "    * feature.csv : feature 이름을 계층구조로 정리한 데이터\n",
    "\n",
    "* 세부 요구사항\n",
    "    * 칼럼 삭제 : data01_train.csv와 data01_test.csv 에서 'subject' 칼럼은 불필요하므로 삭제합니다."
   ]
  },
  {
   "cell_type": "markdown",
   "metadata": {
    "id": "fmgUEGOipvG5"
   },
   "source": [
    "#### 1) 데이터로딩"
   ]
  },
  {
   "cell_type": "code",
   "execution_count": 157,
   "metadata": {
    "executionInfo": {
     "elapsed": 401,
     "status": "ok",
     "timestamp": 1682563226268,
     "user": {
      "displayName": "허신 - Business Intelligence",
      "userId": "11511914061488776232"
     },
     "user_tz": -540
    },
    "id": "HdZCcSs6qfRC"
   },
   "outputs": [
    {
     "data": {
      "text/html": [
       "<div>\n",
       "<style scoped>\n",
       "    .dataframe tbody tr th:only-of-type {\n",
       "        vertical-align: middle;\n",
       "    }\n",
       "\n",
       "    .dataframe tbody tr th {\n",
       "        vertical-align: top;\n",
       "    }\n",
       "\n",
       "    .dataframe thead th {\n",
       "        text-align: right;\n",
       "    }\n",
       "</style>\n",
       "<table border=\"1\" class=\"dataframe\">\n",
       "  <thead>\n",
       "    <tr style=\"text-align: right;\">\n",
       "      <th></th>\n",
       "      <th>tBodyAcc-mean()-X</th>\n",
       "      <th>tBodyAcc-mean()-Y</th>\n",
       "      <th>tBodyAcc-mean()-Z</th>\n",
       "      <th>tBodyAcc-std()-X</th>\n",
       "      <th>tBodyAcc-std()-Y</th>\n",
       "      <th>tBodyAcc-std()-Z</th>\n",
       "      <th>tBodyAcc-mad()-X</th>\n",
       "      <th>tBodyAcc-mad()-Y</th>\n",
       "      <th>tBodyAcc-mad()-Z</th>\n",
       "      <th>tBodyAcc-max()-X</th>\n",
       "      <th>...</th>\n",
       "      <th>fBodyBodyGyroJerkMag-kurtosis()</th>\n",
       "      <th>angle(tBodyAccMean,gravity)</th>\n",
       "      <th>angle(tBodyAccJerkMean),gravityMean)</th>\n",
       "      <th>angle(tBodyGyroMean,gravityMean)</th>\n",
       "      <th>angle(tBodyGyroJerkMean,gravityMean)</th>\n",
       "      <th>angle(X,gravityMean)</th>\n",
       "      <th>angle(Y,gravityMean)</th>\n",
       "      <th>angle(Z,gravityMean)</th>\n",
       "      <th>subject</th>\n",
       "      <th>Activity</th>\n",
       "    </tr>\n",
       "  </thead>\n",
       "  <tbody>\n",
       "    <tr>\n",
       "      <th>0</th>\n",
       "      <td>0.288508</td>\n",
       "      <td>-0.009196</td>\n",
       "      <td>-0.103362</td>\n",
       "      <td>-0.988986</td>\n",
       "      <td>-0.962797</td>\n",
       "      <td>-0.967422</td>\n",
       "      <td>-0.989000</td>\n",
       "      <td>-0.962596</td>\n",
       "      <td>-0.965650</td>\n",
       "      <td>-0.929747</td>\n",
       "      <td>...</td>\n",
       "      <td>-0.816696</td>\n",
       "      <td>-0.042494</td>\n",
       "      <td>-0.044218</td>\n",
       "      <td>0.307873</td>\n",
       "      <td>0.072790</td>\n",
       "      <td>-0.601120</td>\n",
       "      <td>0.331298</td>\n",
       "      <td>0.165163</td>\n",
       "      <td>21</td>\n",
       "      <td>STANDING</td>\n",
       "    </tr>\n",
       "    <tr>\n",
       "      <th>1</th>\n",
       "      <td>0.265757</td>\n",
       "      <td>-0.016576</td>\n",
       "      <td>-0.098163</td>\n",
       "      <td>-0.989551</td>\n",
       "      <td>-0.994636</td>\n",
       "      <td>-0.987435</td>\n",
       "      <td>-0.990189</td>\n",
       "      <td>-0.993870</td>\n",
       "      <td>-0.987558</td>\n",
       "      <td>-0.937337</td>\n",
       "      <td>...</td>\n",
       "      <td>-0.693515</td>\n",
       "      <td>-0.062899</td>\n",
       "      <td>0.388459</td>\n",
       "      <td>-0.765014</td>\n",
       "      <td>0.771524</td>\n",
       "      <td>0.345205</td>\n",
       "      <td>-0.769186</td>\n",
       "      <td>-0.147944</td>\n",
       "      <td>15</td>\n",
       "      <td>LAYING</td>\n",
       "    </tr>\n",
       "    <tr>\n",
       "      <th>2</th>\n",
       "      <td>0.278709</td>\n",
       "      <td>-0.014511</td>\n",
       "      <td>-0.108717</td>\n",
       "      <td>-0.997720</td>\n",
       "      <td>-0.981088</td>\n",
       "      <td>-0.994008</td>\n",
       "      <td>-0.997934</td>\n",
       "      <td>-0.982187</td>\n",
       "      <td>-0.995017</td>\n",
       "      <td>-0.942584</td>\n",
       "      <td>...</td>\n",
       "      <td>-0.829311</td>\n",
       "      <td>0.000265</td>\n",
       "      <td>-0.525022</td>\n",
       "      <td>-0.891875</td>\n",
       "      <td>0.021528</td>\n",
       "      <td>-0.833564</td>\n",
       "      <td>0.202434</td>\n",
       "      <td>-0.032755</td>\n",
       "      <td>11</td>\n",
       "      <td>STANDING</td>\n",
       "    </tr>\n",
       "    <tr>\n",
       "      <th>3</th>\n",
       "      <td>0.289795</td>\n",
       "      <td>-0.035536</td>\n",
       "      <td>-0.150354</td>\n",
       "      <td>-0.231727</td>\n",
       "      <td>-0.006412</td>\n",
       "      <td>-0.338117</td>\n",
       "      <td>-0.273557</td>\n",
       "      <td>0.014245</td>\n",
       "      <td>-0.347916</td>\n",
       "      <td>0.008288</td>\n",
       "      <td>...</td>\n",
       "      <td>-0.408956</td>\n",
       "      <td>-0.255125</td>\n",
       "      <td>0.612804</td>\n",
       "      <td>0.747381</td>\n",
       "      <td>-0.072944</td>\n",
       "      <td>-0.695819</td>\n",
       "      <td>0.287154</td>\n",
       "      <td>0.111388</td>\n",
       "      <td>17</td>\n",
       "      <td>WALKING</td>\n",
       "    </tr>\n",
       "    <tr>\n",
       "      <th>4</th>\n",
       "      <td>0.394807</td>\n",
       "      <td>0.034098</td>\n",
       "      <td>0.091229</td>\n",
       "      <td>0.088489</td>\n",
       "      <td>-0.106636</td>\n",
       "      <td>-0.388502</td>\n",
       "      <td>-0.010469</td>\n",
       "      <td>-0.109680</td>\n",
       "      <td>-0.346372</td>\n",
       "      <td>0.584131</td>\n",
       "      <td>...</td>\n",
       "      <td>-0.563437</td>\n",
       "      <td>-0.044344</td>\n",
       "      <td>-0.845268</td>\n",
       "      <td>-0.974650</td>\n",
       "      <td>-0.887846</td>\n",
       "      <td>-0.705029</td>\n",
       "      <td>0.264952</td>\n",
       "      <td>0.137758</td>\n",
       "      <td>17</td>\n",
       "      <td>WALKING_DOWNSTAIRS</td>\n",
       "    </tr>\n",
       "  </tbody>\n",
       "</table>\n",
       "<p>5 rows × 563 columns</p>\n",
       "</div>"
      ],
      "text/plain": [
       "   tBodyAcc-mean()-X  tBodyAcc-mean()-Y  tBodyAcc-mean()-Z  tBodyAcc-std()-X  \\\n",
       "0           0.288508          -0.009196          -0.103362         -0.988986   \n",
       "1           0.265757          -0.016576          -0.098163         -0.989551   \n",
       "2           0.278709          -0.014511          -0.108717         -0.997720   \n",
       "3           0.289795          -0.035536          -0.150354         -0.231727   \n",
       "4           0.394807           0.034098           0.091229          0.088489   \n",
       "\n",
       "   tBodyAcc-std()-Y  tBodyAcc-std()-Z  tBodyAcc-mad()-X  tBodyAcc-mad()-Y  \\\n",
       "0         -0.962797         -0.967422         -0.989000         -0.962596   \n",
       "1         -0.994636         -0.987435         -0.990189         -0.993870   \n",
       "2         -0.981088         -0.994008         -0.997934         -0.982187   \n",
       "3         -0.006412         -0.338117         -0.273557          0.014245   \n",
       "4         -0.106636         -0.388502         -0.010469         -0.109680   \n",
       "\n",
       "   tBodyAcc-mad()-Z  tBodyAcc-max()-X  ...  fBodyBodyGyroJerkMag-kurtosis()  \\\n",
       "0         -0.965650         -0.929747  ...                        -0.816696   \n",
       "1         -0.987558         -0.937337  ...                        -0.693515   \n",
       "2         -0.995017         -0.942584  ...                        -0.829311   \n",
       "3         -0.347916          0.008288  ...                        -0.408956   \n",
       "4         -0.346372          0.584131  ...                        -0.563437   \n",
       "\n",
       "   angle(tBodyAccMean,gravity)  angle(tBodyAccJerkMean),gravityMean)  \\\n",
       "0                    -0.042494                             -0.044218   \n",
       "1                    -0.062899                              0.388459   \n",
       "2                     0.000265                             -0.525022   \n",
       "3                    -0.255125                              0.612804   \n",
       "4                    -0.044344                             -0.845268   \n",
       "\n",
       "   angle(tBodyGyroMean,gravityMean)  angle(tBodyGyroJerkMean,gravityMean)  \\\n",
       "0                          0.307873                              0.072790   \n",
       "1                         -0.765014                              0.771524   \n",
       "2                         -0.891875                              0.021528   \n",
       "3                          0.747381                             -0.072944   \n",
       "4                         -0.974650                             -0.887846   \n",
       "\n",
       "   angle(X,gravityMean)  angle(Y,gravityMean)  angle(Z,gravityMean)  subject  \\\n",
       "0             -0.601120              0.331298              0.165163       21   \n",
       "1              0.345205             -0.769186             -0.147944       15   \n",
       "2             -0.833564              0.202434             -0.032755       11   \n",
       "3             -0.695819              0.287154              0.111388       17   \n",
       "4             -0.705029              0.264952              0.137758       17   \n",
       "\n",
       "             Activity  \n",
       "0            STANDING  \n",
       "1              LAYING  \n",
       "2            STANDING  \n",
       "3             WALKING  \n",
       "4  WALKING_DOWNSTAIRS  \n",
       "\n",
       "[5 rows x 563 columns]"
      ]
     },
     "execution_count": 157,
     "metadata": {},
     "output_type": "execute_result"
    }
   ],
   "source": [
    "df_train = pd.read_csv(path +'data01_train.csv')\n",
    "df_test = pd.read_csv(path +'data01_test.csv')\n",
    "df_feature = pd.read_csv(path +'features.csv')\n",
    "df_train.head()"
   ]
  },
  {
   "cell_type": "code",
   "execution_count": null,
   "metadata": {
    "executionInfo": {
     "elapsed": 2486,
     "status": "ok",
     "timestamp": 1682563231480,
     "user": {
      "displayName": "허신 - Business Intelligence",
      "userId": "11511914061488776232"
     },
     "user_tz": -540
    },
    "id": "V8tUE_fyqfRC"
   },
   "outputs": [],
   "source": []
  },
  {
   "cell_type": "code",
   "execution_count": null,
   "metadata": {
    "executionInfo": {
     "elapsed": 12,
     "status": "ok",
     "timestamp": 1682563231480,
     "user": {
      "displayName": "허신 - Business Intelligence",
      "userId": "11511914061488776232"
     },
     "user_tz": -540
    },
    "id": "FcUbOi_-qfRC"
   },
   "outputs": [],
   "source": []
  },
  {
   "cell_type": "markdown",
   "metadata": {
    "id": "aI7qJqz3pr3m"
   },
   "source": [
    "#### 2) 기본 정보 조회"
   ]
  },
  {
   "cell_type": "code",
   "execution_count": 158,
   "metadata": {},
   "outputs": [
    {
     "data": {
      "text/plain": [
       "(5881, 563)"
      ]
     },
     "execution_count": 158,
     "metadata": {},
     "output_type": "execute_result"
    }
   ],
   "source": [
    "df_train.shape"
   ]
  },
  {
   "cell_type": "code",
   "execution_count": 159,
   "metadata": {},
   "outputs": [
    {
     "data": {
      "text/plain": [
       "(1471, 563)"
      ]
     },
     "execution_count": 159,
     "metadata": {},
     "output_type": "execute_result"
    }
   ],
   "source": [
    "df_test.shape"
   ]
  },
  {
   "cell_type": "code",
   "execution_count": null,
   "metadata": {},
   "outputs": [],
   "source": []
  },
  {
   "cell_type": "code",
   "execution_count": 160,
   "metadata": {
    "colab": {
     "base_uri": "https://localhost:8080/"
    },
    "executionInfo": {
     "elapsed": 5,
     "status": "ok",
     "timestamp": 1682563234971,
     "user": {
      "displayName": "허신 - Business Intelligence",
      "userId": "11511914061488776232"
     },
     "user_tz": -540
    },
    "id": "yFVSAGNhpr3m",
    "outputId": "366974f3-8fb1-47f9-f9aa-56a51a6b4820"
   },
   "outputs": [
    {
     "data": {
      "text/html": [
       "<div>\n",
       "<style scoped>\n",
       "    .dataframe tbody tr th:only-of-type {\n",
       "        vertical-align: middle;\n",
       "    }\n",
       "\n",
       "    .dataframe tbody tr th {\n",
       "        vertical-align: top;\n",
       "    }\n",
       "\n",
       "    .dataframe thead th {\n",
       "        text-align: right;\n",
       "    }\n",
       "</style>\n",
       "<table border=\"1\" class=\"dataframe\">\n",
       "  <thead>\n",
       "    <tr style=\"text-align: right;\">\n",
       "      <th></th>\n",
       "      <th>tBodyAcc-mean()-X</th>\n",
       "      <th>tBodyAcc-mean()-Y</th>\n",
       "      <th>tBodyAcc-mean()-Z</th>\n",
       "      <th>tBodyAcc-std()-X</th>\n",
       "      <th>tBodyAcc-std()-Y</th>\n",
       "      <th>tBodyAcc-std()-Z</th>\n",
       "      <th>tBodyAcc-mad()-X</th>\n",
       "      <th>tBodyAcc-mad()-Y</th>\n",
       "      <th>tBodyAcc-mad()-Z</th>\n",
       "      <th>tBodyAcc-max()-X</th>\n",
       "      <th>...</th>\n",
       "      <th>fBodyBodyGyroJerkMag-skewness()</th>\n",
       "      <th>fBodyBodyGyroJerkMag-kurtosis()</th>\n",
       "      <th>angle(tBodyAccMean,gravity)</th>\n",
       "      <th>angle(tBodyAccJerkMean),gravityMean)</th>\n",
       "      <th>angle(tBodyGyroMean,gravityMean)</th>\n",
       "      <th>angle(tBodyGyroJerkMean,gravityMean)</th>\n",
       "      <th>angle(X,gravityMean)</th>\n",
       "      <th>angle(Y,gravityMean)</th>\n",
       "      <th>angle(Z,gravityMean)</th>\n",
       "      <th>subject</th>\n",
       "    </tr>\n",
       "  </thead>\n",
       "  <tbody>\n",
       "    <tr>\n",
       "      <th>count</th>\n",
       "      <td>5881.000000</td>\n",
       "      <td>5881.000000</td>\n",
       "      <td>5881.000000</td>\n",
       "      <td>5881.000000</td>\n",
       "      <td>5881.000000</td>\n",
       "      <td>5881.000000</td>\n",
       "      <td>5881.000000</td>\n",
       "      <td>5881.000000</td>\n",
       "      <td>5881.000000</td>\n",
       "      <td>5881.000000</td>\n",
       "      <td>...</td>\n",
       "      <td>5881.000000</td>\n",
       "      <td>5881.000000</td>\n",
       "      <td>5881.000000</td>\n",
       "      <td>5881.000000</td>\n",
       "      <td>5881.000000</td>\n",
       "      <td>5881.000000</td>\n",
       "      <td>5881.000000</td>\n",
       "      <td>5881.000000</td>\n",
       "      <td>5881.000000</td>\n",
       "      <td>5881.000000</td>\n",
       "    </tr>\n",
       "    <tr>\n",
       "      <th>mean</th>\n",
       "      <td>0.274811</td>\n",
       "      <td>-0.017799</td>\n",
       "      <td>-0.109396</td>\n",
       "      <td>-0.603138</td>\n",
       "      <td>-0.509815</td>\n",
       "      <td>-0.604058</td>\n",
       "      <td>-0.628151</td>\n",
       "      <td>-0.525944</td>\n",
       "      <td>-0.605374</td>\n",
       "      <td>-0.465490</td>\n",
       "      <td>...</td>\n",
       "      <td>-0.305883</td>\n",
       "      <td>-0.623548</td>\n",
       "      <td>0.008524</td>\n",
       "      <td>-0.001185</td>\n",
       "      <td>0.009340</td>\n",
       "      <td>-0.007099</td>\n",
       "      <td>-0.491501</td>\n",
       "      <td>0.059299</td>\n",
       "      <td>-0.054594</td>\n",
       "      <td>17.381568</td>\n",
       "    </tr>\n",
       "    <tr>\n",
       "      <th>std</th>\n",
       "      <td>0.067614</td>\n",
       "      <td>0.039422</td>\n",
       "      <td>0.058373</td>\n",
       "      <td>0.448807</td>\n",
       "      <td>0.501815</td>\n",
       "      <td>0.417319</td>\n",
       "      <td>0.424345</td>\n",
       "      <td>0.485115</td>\n",
       "      <td>0.413043</td>\n",
       "      <td>0.544995</td>\n",
       "      <td>...</td>\n",
       "      <td>0.322808</td>\n",
       "      <td>0.310371</td>\n",
       "      <td>0.339730</td>\n",
       "      <td>0.447197</td>\n",
       "      <td>0.608190</td>\n",
       "      <td>0.476738</td>\n",
       "      <td>0.509069</td>\n",
       "      <td>0.297340</td>\n",
       "      <td>0.278479</td>\n",
       "      <td>8.938316</td>\n",
       "    </tr>\n",
       "    <tr>\n",
       "      <th>min</th>\n",
       "      <td>-0.503823</td>\n",
       "      <td>-0.684893</td>\n",
       "      <td>-1.000000</td>\n",
       "      <td>-1.000000</td>\n",
       "      <td>-0.999844</td>\n",
       "      <td>-0.999667</td>\n",
       "      <td>-1.000000</td>\n",
       "      <td>-0.999419</td>\n",
       "      <td>-1.000000</td>\n",
       "      <td>-1.000000</td>\n",
       "      <td>...</td>\n",
       "      <td>-0.979261</td>\n",
       "      <td>-0.999765</td>\n",
       "      <td>-0.976580</td>\n",
       "      <td>-1.000000</td>\n",
       "      <td>-1.000000</td>\n",
       "      <td>-1.000000</td>\n",
       "      <td>-1.000000</td>\n",
       "      <td>-1.000000</td>\n",
       "      <td>-0.980143</td>\n",
       "      <td>1.000000</td>\n",
       "    </tr>\n",
       "    <tr>\n",
       "      <th>25%</th>\n",
       "      <td>0.262919</td>\n",
       "      <td>-0.024877</td>\n",
       "      <td>-0.121051</td>\n",
       "      <td>-0.992774</td>\n",
       "      <td>-0.977680</td>\n",
       "      <td>-0.980127</td>\n",
       "      <td>-0.993602</td>\n",
       "      <td>-0.977865</td>\n",
       "      <td>-0.980112</td>\n",
       "      <td>-0.936067</td>\n",
       "      <td>...</td>\n",
       "      <td>-0.541969</td>\n",
       "      <td>-0.845985</td>\n",
       "      <td>-0.122361</td>\n",
       "      <td>-0.294369</td>\n",
       "      <td>-0.481718</td>\n",
       "      <td>-0.373345</td>\n",
       "      <td>-0.811397</td>\n",
       "      <td>-0.018203</td>\n",
       "      <td>-0.141555</td>\n",
       "      <td>8.000000</td>\n",
       "    </tr>\n",
       "    <tr>\n",
       "      <th>50%</th>\n",
       "      <td>0.277154</td>\n",
       "      <td>-0.017221</td>\n",
       "      <td>-0.108781</td>\n",
       "      <td>-0.943933</td>\n",
       "      <td>-0.844575</td>\n",
       "      <td>-0.856352</td>\n",
       "      <td>-0.948501</td>\n",
       "      <td>-0.849266</td>\n",
       "      <td>-0.849896</td>\n",
       "      <td>-0.878729</td>\n",
       "      <td>...</td>\n",
       "      <td>-0.342923</td>\n",
       "      <td>-0.712677</td>\n",
       "      <td>0.010278</td>\n",
       "      <td>0.005146</td>\n",
       "      <td>0.011448</td>\n",
       "      <td>-0.000847</td>\n",
       "      <td>-0.709441</td>\n",
       "      <td>0.182893</td>\n",
       "      <td>0.003951</td>\n",
       "      <td>19.000000</td>\n",
       "    </tr>\n",
       "    <tr>\n",
       "      <th>75%</th>\n",
       "      <td>0.288526</td>\n",
       "      <td>-0.010920</td>\n",
       "      <td>-0.098163</td>\n",
       "      <td>-0.242130</td>\n",
       "      <td>-0.034499</td>\n",
       "      <td>-0.262690</td>\n",
       "      <td>-0.291138</td>\n",
       "      <td>-0.068857</td>\n",
       "      <td>-0.268539</td>\n",
       "      <td>-0.013690</td>\n",
       "      <td>...</td>\n",
       "      <td>-0.127371</td>\n",
       "      <td>-0.501158</td>\n",
       "      <td>0.154985</td>\n",
       "      <td>0.285030</td>\n",
       "      <td>0.499857</td>\n",
       "      <td>0.356236</td>\n",
       "      <td>-0.511330</td>\n",
       "      <td>0.248435</td>\n",
       "      <td>0.111932</td>\n",
       "      <td>26.000000</td>\n",
       "    </tr>\n",
       "    <tr>\n",
       "      <th>max</th>\n",
       "      <td>1.000000</td>\n",
       "      <td>1.000000</td>\n",
       "      <td>1.000000</td>\n",
       "      <td>1.000000</td>\n",
       "      <td>0.916238</td>\n",
       "      <td>1.000000</td>\n",
       "      <td>1.000000</td>\n",
       "      <td>0.967664</td>\n",
       "      <td>1.000000</td>\n",
       "      <td>1.000000</td>\n",
       "      <td>...</td>\n",
       "      <td>0.989538</td>\n",
       "      <td>0.956845</td>\n",
       "      <td>1.000000</td>\n",
       "      <td>1.000000</td>\n",
       "      <td>0.998702</td>\n",
       "      <td>0.996078</td>\n",
       "      <td>0.977344</td>\n",
       "      <td>0.478157</td>\n",
       "      <td>1.000000</td>\n",
       "      <td>30.000000</td>\n",
       "    </tr>\n",
       "  </tbody>\n",
       "</table>\n",
       "<p>8 rows × 562 columns</p>\n",
       "</div>"
      ],
      "text/plain": [
       "       tBodyAcc-mean()-X  tBodyAcc-mean()-Y  tBodyAcc-mean()-Z  \\\n",
       "count        5881.000000        5881.000000        5881.000000   \n",
       "mean            0.274811          -0.017799          -0.109396   \n",
       "std             0.067614           0.039422           0.058373   \n",
       "min            -0.503823          -0.684893          -1.000000   \n",
       "25%             0.262919          -0.024877          -0.121051   \n",
       "50%             0.277154          -0.017221          -0.108781   \n",
       "75%             0.288526          -0.010920          -0.098163   \n",
       "max             1.000000           1.000000           1.000000   \n",
       "\n",
       "       tBodyAcc-std()-X  tBodyAcc-std()-Y  tBodyAcc-std()-Z  tBodyAcc-mad()-X  \\\n",
       "count       5881.000000       5881.000000       5881.000000       5881.000000   \n",
       "mean          -0.603138         -0.509815         -0.604058         -0.628151   \n",
       "std            0.448807          0.501815          0.417319          0.424345   \n",
       "min           -1.000000         -0.999844         -0.999667         -1.000000   \n",
       "25%           -0.992774         -0.977680         -0.980127         -0.993602   \n",
       "50%           -0.943933         -0.844575         -0.856352         -0.948501   \n",
       "75%           -0.242130         -0.034499         -0.262690         -0.291138   \n",
       "max            1.000000          0.916238          1.000000          1.000000   \n",
       "\n",
       "       tBodyAcc-mad()-Y  tBodyAcc-mad()-Z  tBodyAcc-max()-X  ...  \\\n",
       "count       5881.000000       5881.000000       5881.000000  ...   \n",
       "mean          -0.525944         -0.605374         -0.465490  ...   \n",
       "std            0.485115          0.413043          0.544995  ...   \n",
       "min           -0.999419         -1.000000         -1.000000  ...   \n",
       "25%           -0.977865         -0.980112         -0.936067  ...   \n",
       "50%           -0.849266         -0.849896         -0.878729  ...   \n",
       "75%           -0.068857         -0.268539         -0.013690  ...   \n",
       "max            0.967664          1.000000          1.000000  ...   \n",
       "\n",
       "       fBodyBodyGyroJerkMag-skewness()  fBodyBodyGyroJerkMag-kurtosis()  \\\n",
       "count                      5881.000000                      5881.000000   \n",
       "mean                         -0.305883                        -0.623548   \n",
       "std                           0.322808                         0.310371   \n",
       "min                          -0.979261                        -0.999765   \n",
       "25%                          -0.541969                        -0.845985   \n",
       "50%                          -0.342923                        -0.712677   \n",
       "75%                          -0.127371                        -0.501158   \n",
       "max                           0.989538                         0.956845   \n",
       "\n",
       "       angle(tBodyAccMean,gravity)  angle(tBodyAccJerkMean),gravityMean)  \\\n",
       "count                  5881.000000                           5881.000000   \n",
       "mean                      0.008524                             -0.001185   \n",
       "std                       0.339730                              0.447197   \n",
       "min                      -0.976580                             -1.000000   \n",
       "25%                      -0.122361                             -0.294369   \n",
       "50%                       0.010278                              0.005146   \n",
       "75%                       0.154985                              0.285030   \n",
       "max                       1.000000                              1.000000   \n",
       "\n",
       "       angle(tBodyGyroMean,gravityMean)  angle(tBodyGyroJerkMean,gravityMean)  \\\n",
       "count                       5881.000000                           5881.000000   \n",
       "mean                           0.009340                             -0.007099   \n",
       "std                            0.608190                              0.476738   \n",
       "min                           -1.000000                             -1.000000   \n",
       "25%                           -0.481718                             -0.373345   \n",
       "50%                            0.011448                             -0.000847   \n",
       "75%                            0.499857                              0.356236   \n",
       "max                            0.998702                              0.996078   \n",
       "\n",
       "       angle(X,gravityMean)  angle(Y,gravityMean)  angle(Z,gravityMean)  \\\n",
       "count           5881.000000           5881.000000           5881.000000   \n",
       "mean              -0.491501              0.059299             -0.054594   \n",
       "std                0.509069              0.297340              0.278479   \n",
       "min               -1.000000             -1.000000             -0.980143   \n",
       "25%               -0.811397             -0.018203             -0.141555   \n",
       "50%               -0.709441              0.182893              0.003951   \n",
       "75%               -0.511330              0.248435              0.111932   \n",
       "max                0.977344              0.478157              1.000000   \n",
       "\n",
       "           subject  \n",
       "count  5881.000000  \n",
       "mean     17.381568  \n",
       "std       8.938316  \n",
       "min       1.000000  \n",
       "25%       8.000000  \n",
       "50%      19.000000  \n",
       "75%      26.000000  \n",
       "max      30.000000  \n",
       "\n",
       "[8 rows x 562 columns]"
      ]
     },
     "execution_count": 160,
     "metadata": {},
     "output_type": "execute_result"
    }
   ],
   "source": [
    "df_train.describe()"
   ]
  },
  {
   "cell_type": "code",
   "execution_count": 161,
   "metadata": {
    "colab": {
     "base_uri": "https://localhost:8080/",
     "height": 337
    },
    "executionInfo": {
     "elapsed": 1271,
     "status": "ok",
     "timestamp": 1682563238594,
     "user": {
      "displayName": "허신 - Business Intelligence",
      "userId": "11511914061488776232"
     },
     "user_tz": -540
    },
    "id": "xJnnr8K-pr3m",
    "outputId": "8c85ffae-4581-4f12-a373-4ed0fc487eda"
   },
   "outputs": [
    {
     "data": {
      "text/html": [
       "<div>\n",
       "<style scoped>\n",
       "    .dataframe tbody tr th:only-of-type {\n",
       "        vertical-align: middle;\n",
       "    }\n",
       "\n",
       "    .dataframe tbody tr th {\n",
       "        vertical-align: top;\n",
       "    }\n",
       "\n",
       "    .dataframe thead th {\n",
       "        text-align: right;\n",
       "    }\n",
       "</style>\n",
       "<table border=\"1\" class=\"dataframe\">\n",
       "  <thead>\n",
       "    <tr style=\"text-align: right;\">\n",
       "      <th></th>\n",
       "      <th>tBodyAcc-mean()-X</th>\n",
       "      <th>tBodyAcc-mean()-Y</th>\n",
       "      <th>tBodyAcc-mean()-Z</th>\n",
       "      <th>tBodyAcc-std()-X</th>\n",
       "      <th>tBodyAcc-std()-Y</th>\n",
       "      <th>tBodyAcc-std()-Z</th>\n",
       "      <th>tBodyAcc-mad()-X</th>\n",
       "      <th>tBodyAcc-mad()-Y</th>\n",
       "      <th>tBodyAcc-mad()-Z</th>\n",
       "      <th>tBodyAcc-max()-X</th>\n",
       "      <th>...</th>\n",
       "      <th>fBodyBodyGyroJerkMag-skewness()</th>\n",
       "      <th>fBodyBodyGyroJerkMag-kurtosis()</th>\n",
       "      <th>angle(tBodyAccMean,gravity)</th>\n",
       "      <th>angle(tBodyAccJerkMean),gravityMean)</th>\n",
       "      <th>angle(tBodyGyroMean,gravityMean)</th>\n",
       "      <th>angle(tBodyGyroJerkMean,gravityMean)</th>\n",
       "      <th>angle(X,gravityMean)</th>\n",
       "      <th>angle(Y,gravityMean)</th>\n",
       "      <th>angle(Z,gravityMean)</th>\n",
       "      <th>subject</th>\n",
       "    </tr>\n",
       "  </thead>\n",
       "  <tbody>\n",
       "    <tr>\n",
       "      <th>count</th>\n",
       "      <td>1471.000000</td>\n",
       "      <td>1471.000000</td>\n",
       "      <td>1471.000000</td>\n",
       "      <td>1471.000000</td>\n",
       "      <td>1471.000000</td>\n",
       "      <td>1471.000000</td>\n",
       "      <td>1471.000000</td>\n",
       "      <td>1471.000000</td>\n",
       "      <td>1471.000000</td>\n",
       "      <td>1471.000000</td>\n",
       "      <td>...</td>\n",
       "      <td>1471.000000</td>\n",
       "      <td>1471.000000</td>\n",
       "      <td>1471.000000</td>\n",
       "      <td>1471.000000</td>\n",
       "      <td>1471.000000</td>\n",
       "      <td>1471.000000</td>\n",
       "      <td>1471.000000</td>\n",
       "      <td>1471.000000</td>\n",
       "      <td>1471.000000</td>\n",
       "      <td>1471.000000</td>\n",
       "    </tr>\n",
       "    <tr>\n",
       "      <th>mean</th>\n",
       "      <td>0.273198</td>\n",
       "      <td>-0.017281</td>\n",
       "      <td>-0.108123</td>\n",
       "      <td>-0.614634</td>\n",
       "      <td>-0.515427</td>\n",
       "      <td>-0.607533</td>\n",
       "      <td>-0.639950</td>\n",
       "      <td>-0.530760</td>\n",
       "      <td>-0.609256</td>\n",
       "      <td>-0.481055</td>\n",
       "      <td>...</td>\n",
       "      <td>-0.311513</td>\n",
       "      <td>-0.632273</td>\n",
       "      <td>0.009324</td>\n",
       "      <td>0.015666</td>\n",
       "      <td>0.006272</td>\n",
       "      <td>-0.001510</td>\n",
       "      <td>-0.481737</td>\n",
       "      <td>0.055771</td>\n",
       "      <td>-0.064194</td>\n",
       "      <td>17.539089</td>\n",
       "    </tr>\n",
       "    <tr>\n",
       "      <th>std</th>\n",
       "      <td>0.079989</td>\n",
       "      <td>0.045957</td>\n",
       "      <td>0.049082</td>\n",
       "      <td>0.448480</td>\n",
       "      <td>0.506094</td>\n",
       "      <td>0.424243</td>\n",
       "      <td>0.422994</td>\n",
       "      <td>0.489381</td>\n",
       "      <td>0.418536</td>\n",
       "      <td>0.542756</td>\n",
       "      <td>...</td>\n",
       "      <td>0.313792</td>\n",
       "      <td>0.296179</td>\n",
       "      <td>0.324864</td>\n",
       "      <td>0.452616</td>\n",
       "      <td>0.608954</td>\n",
       "      <td>0.483028</td>\n",
       "      <td>0.522714</td>\n",
       "      <td>0.298124</td>\n",
       "      <td>0.281645</td>\n",
       "      <td>9.122876</td>\n",
       "    </tr>\n",
       "    <tr>\n",
       "      <th>min</th>\n",
       "      <td>-1.000000</td>\n",
       "      <td>-1.000000</td>\n",
       "      <td>-0.418354</td>\n",
       "      <td>-0.999717</td>\n",
       "      <td>-0.999873</td>\n",
       "      <td>-1.000000</td>\n",
       "      <td>-0.999867</td>\n",
       "      <td>-1.000000</td>\n",
       "      <td>-0.999879</td>\n",
       "      <td>-0.948723</td>\n",
       "      <td>...</td>\n",
       "      <td>-0.995357</td>\n",
       "      <td>-0.994664</td>\n",
       "      <td>-0.937468</td>\n",
       "      <td>-0.990492</td>\n",
       "      <td>-0.995222</td>\n",
       "      <td>-0.969066</td>\n",
       "      <td>-0.999380</td>\n",
       "      <td>-0.995073</td>\n",
       "      <td>-1.000000</td>\n",
       "      <td>1.000000</td>\n",
       "    </tr>\n",
       "    <tr>\n",
       "      <th>25%</th>\n",
       "      <td>0.263787</td>\n",
       "      <td>-0.024792</td>\n",
       "      <td>-0.120733</td>\n",
       "      <td>-0.992669</td>\n",
       "      <td>-0.979082</td>\n",
       "      <td>-0.981070</td>\n",
       "      <td>-0.993498</td>\n",
       "      <td>-0.979214</td>\n",
       "      <td>-0.980659</td>\n",
       "      <td>-0.936791</td>\n",
       "      <td>...</td>\n",
       "      <td>-0.546342</td>\n",
       "      <td>-0.844547</td>\n",
       "      <td>-0.119166</td>\n",
       "      <td>-0.265533</td>\n",
       "      <td>-0.485998</td>\n",
       "      <td>-0.380300</td>\n",
       "      <td>-0.814060</td>\n",
       "      <td>-0.017413</td>\n",
       "      <td>-0.148445</td>\n",
       "      <td>8.000000</td>\n",
       "    </tr>\n",
       "    <tr>\n",
       "      <th>50%</th>\n",
       "      <td>0.277322</td>\n",
       "      <td>-0.017187</td>\n",
       "      <td>-0.108124</td>\n",
       "      <td>-0.952426</td>\n",
       "      <td>-0.867309</td>\n",
       "      <td>-0.869890</td>\n",
       "      <td>-0.958705</td>\n",
       "      <td>-0.873891</td>\n",
       "      <td>-0.863451</td>\n",
       "      <td>-0.890491</td>\n",
       "      <td>...</td>\n",
       "      <td>-0.347433</td>\n",
       "      <td>-0.706699</td>\n",
       "      <td>0.005049</td>\n",
       "      <td>0.023421</td>\n",
       "      <td>-0.005036</td>\n",
       "      <td>0.002408</td>\n",
       "      <td>-0.708911</td>\n",
       "      <td>0.178814</td>\n",
       "      <td>-0.002243</td>\n",
       "      <td>19.000000</td>\n",
       "    </tr>\n",
       "    <tr>\n",
       "      <th>75%</th>\n",
       "      <td>0.288058</td>\n",
       "      <td>-0.010238</td>\n",
       "      <td>-0.096606</td>\n",
       "      <td>-0.245405</td>\n",
       "      <td>-0.030639</td>\n",
       "      <td>-0.260223</td>\n",
       "      <td>-0.297260</td>\n",
       "      <td>-0.058824</td>\n",
       "      <td>-0.256657</td>\n",
       "      <td>-0.030692</td>\n",
       "      <td>...</td>\n",
       "      <td>-0.125796</td>\n",
       "      <td>-0.516910</td>\n",
       "      <td>0.135698</td>\n",
       "      <td>0.312690</td>\n",
       "      <td>0.518184</td>\n",
       "      <td>0.374583</td>\n",
       "      <td>-0.486534</td>\n",
       "      <td>0.248126</td>\n",
       "      <td>0.096674</td>\n",
       "      <td>26.000000</td>\n",
       "    </tr>\n",
       "    <tr>\n",
       "      <th>max</th>\n",
       "      <td>0.631510</td>\n",
       "      <td>0.359587</td>\n",
       "      <td>0.543939</td>\n",
       "      <td>0.899922</td>\n",
       "      <td>0.782590</td>\n",
       "      <td>0.931308</td>\n",
       "      <td>0.950758</td>\n",
       "      <td>0.602458</td>\n",
       "      <td>0.784041</td>\n",
       "      <td>0.821218</td>\n",
       "      <td>...</td>\n",
       "      <td>0.941113</td>\n",
       "      <td>0.894210</td>\n",
       "      <td>0.980889</td>\n",
       "      <td>0.991899</td>\n",
       "      <td>0.994366</td>\n",
       "      <td>0.979522</td>\n",
       "      <td>1.000000</td>\n",
       "      <td>0.432496</td>\n",
       "      <td>0.992766</td>\n",
       "      <td>30.000000</td>\n",
       "    </tr>\n",
       "  </tbody>\n",
       "</table>\n",
       "<p>8 rows × 562 columns</p>\n",
       "</div>"
      ],
      "text/plain": [
       "       tBodyAcc-mean()-X  tBodyAcc-mean()-Y  tBodyAcc-mean()-Z  \\\n",
       "count        1471.000000        1471.000000        1471.000000   \n",
       "mean            0.273198          -0.017281          -0.108123   \n",
       "std             0.079989           0.045957           0.049082   \n",
       "min            -1.000000          -1.000000          -0.418354   \n",
       "25%             0.263787          -0.024792          -0.120733   \n",
       "50%             0.277322          -0.017187          -0.108124   \n",
       "75%             0.288058          -0.010238          -0.096606   \n",
       "max             0.631510           0.359587           0.543939   \n",
       "\n",
       "       tBodyAcc-std()-X  tBodyAcc-std()-Y  tBodyAcc-std()-Z  tBodyAcc-mad()-X  \\\n",
       "count       1471.000000       1471.000000       1471.000000       1471.000000   \n",
       "mean          -0.614634         -0.515427         -0.607533         -0.639950   \n",
       "std            0.448480          0.506094          0.424243          0.422994   \n",
       "min           -0.999717         -0.999873         -1.000000         -0.999867   \n",
       "25%           -0.992669         -0.979082         -0.981070         -0.993498   \n",
       "50%           -0.952426         -0.867309         -0.869890         -0.958705   \n",
       "75%           -0.245405         -0.030639         -0.260223         -0.297260   \n",
       "max            0.899922          0.782590          0.931308          0.950758   \n",
       "\n",
       "       tBodyAcc-mad()-Y  tBodyAcc-mad()-Z  tBodyAcc-max()-X  ...  \\\n",
       "count       1471.000000       1471.000000       1471.000000  ...   \n",
       "mean          -0.530760         -0.609256         -0.481055  ...   \n",
       "std            0.489381          0.418536          0.542756  ...   \n",
       "min           -1.000000         -0.999879         -0.948723  ...   \n",
       "25%           -0.979214         -0.980659         -0.936791  ...   \n",
       "50%           -0.873891         -0.863451         -0.890491  ...   \n",
       "75%           -0.058824         -0.256657         -0.030692  ...   \n",
       "max            0.602458          0.784041          0.821218  ...   \n",
       "\n",
       "       fBodyBodyGyroJerkMag-skewness()  fBodyBodyGyroJerkMag-kurtosis()  \\\n",
       "count                      1471.000000                      1471.000000   \n",
       "mean                         -0.311513                        -0.632273   \n",
       "std                           0.313792                         0.296179   \n",
       "min                          -0.995357                        -0.994664   \n",
       "25%                          -0.546342                        -0.844547   \n",
       "50%                          -0.347433                        -0.706699   \n",
       "75%                          -0.125796                        -0.516910   \n",
       "max                           0.941113                         0.894210   \n",
       "\n",
       "       angle(tBodyAccMean,gravity)  angle(tBodyAccJerkMean),gravityMean)  \\\n",
       "count                  1471.000000                           1471.000000   \n",
       "mean                      0.009324                              0.015666   \n",
       "std                       0.324864                              0.452616   \n",
       "min                      -0.937468                             -0.990492   \n",
       "25%                      -0.119166                             -0.265533   \n",
       "50%                       0.005049                              0.023421   \n",
       "75%                       0.135698                              0.312690   \n",
       "max                       0.980889                              0.991899   \n",
       "\n",
       "       angle(tBodyGyroMean,gravityMean)  angle(tBodyGyroJerkMean,gravityMean)  \\\n",
       "count                       1471.000000                           1471.000000   \n",
       "mean                           0.006272                             -0.001510   \n",
       "std                            0.608954                              0.483028   \n",
       "min                           -0.995222                             -0.969066   \n",
       "25%                           -0.485998                             -0.380300   \n",
       "50%                           -0.005036                              0.002408   \n",
       "75%                            0.518184                              0.374583   \n",
       "max                            0.994366                              0.979522   \n",
       "\n",
       "       angle(X,gravityMean)  angle(Y,gravityMean)  angle(Z,gravityMean)  \\\n",
       "count           1471.000000           1471.000000           1471.000000   \n",
       "mean              -0.481737              0.055771             -0.064194   \n",
       "std                0.522714              0.298124              0.281645   \n",
       "min               -0.999380             -0.995073             -1.000000   \n",
       "25%               -0.814060             -0.017413             -0.148445   \n",
       "50%               -0.708911              0.178814             -0.002243   \n",
       "75%               -0.486534              0.248126              0.096674   \n",
       "max                1.000000              0.432496              0.992766   \n",
       "\n",
       "           subject  \n",
       "count  1471.000000  \n",
       "mean     17.539089  \n",
       "std       9.122876  \n",
       "min       1.000000  \n",
       "25%       8.000000  \n",
       "50%      19.000000  \n",
       "75%      26.000000  \n",
       "max      30.000000  \n",
       "\n",
       "[8 rows x 562 columns]"
      ]
     },
     "execution_count": 161,
     "metadata": {},
     "output_type": "execute_result"
    }
   ],
   "source": [
    "df_test.describe()"
   ]
  },
  {
   "cell_type": "code",
   "execution_count": null,
   "metadata": {
    "colab": {
     "base_uri": "https://localhost:8080/",
     "height": 438
    },
    "executionInfo": {
     "elapsed": 2989,
     "status": "ok",
     "timestamp": 1682563243613,
     "user": {
      "displayName": "허신 - Business Intelligence",
      "userId": "11511914061488776232"
     },
     "user_tz": -540
    },
    "id": "ajJ1qJkhpr3n",
    "outputId": "6e679fa0-a43b-4484-e474-b25972a5f13c"
   },
   "outputs": [],
   "source": []
  },
  {
   "cell_type": "code",
   "execution_count": 162,
   "metadata": {},
   "outputs": [
    {
     "name": "stdout",
     "output_type": "stream",
     "text": [
      "<class 'pandas.core.frame.DataFrame'>\n",
      "RangeIndex: 5881 entries, 0 to 5880\n",
      "Columns: 563 entries, tBodyAcc-mean()-X to Activity\n",
      "dtypes: float64(561), int64(1), object(1)\n",
      "memory usage: 25.3+ MB\n"
     ]
    }
   ],
   "source": [
    "df_train.info()"
   ]
  },
  {
   "cell_type": "code",
   "execution_count": 163,
   "metadata": {
    "colab": {
     "base_uri": "https://localhost:8080/"
    },
    "executionInfo": {
     "elapsed": 5,
     "status": "ok",
     "timestamp": 1682563243613,
     "user": {
      "displayName": "허신 - Business Intelligence",
      "userId": "11511914061488776232"
     },
     "user_tz": -540
    },
    "id": "Jn78I6JFpr3n",
    "outputId": "00270fef-5351-4183-eb59-5d2342e7b900"
   },
   "outputs": [
    {
     "name": "stdout",
     "output_type": "stream",
     "text": [
      "<class 'pandas.core.frame.DataFrame'>\n",
      "RangeIndex: 1471 entries, 0 to 1470\n",
      "Columns: 563 entries, tBodyAcc-mean()-X to Activity\n",
      "dtypes: float64(561), int64(1), object(1)\n",
      "memory usage: 6.3+ MB\n"
     ]
    }
   ],
   "source": [
    "df_test.info()"
   ]
  },
  {
   "cell_type": "code",
   "execution_count": null,
   "metadata": {},
   "outputs": [],
   "source": []
  },
  {
   "cell_type": "markdown",
   "metadata": {
    "id": "O38e5xai7SIW"
   },
   "source": [
    "## 2.데이터 전처리"
   ]
  },
  {
   "cell_type": "markdown",
   "metadata": {
    "id": "uZwtSLSqcL7G"
   },
   "source": [
    "* 세부 요구사항\n",
    "    - Label 추가 : data 에 Activity_dynamic 를 추가합니다. Activity_dynamic은 과제1에서 is_dynamic과 동일한 값입니다.\n",
    "    - x와 y1, y2로 분할하시오.\n",
    "        * y1 : Activity\n",
    "        * y2 : Activity_dynamic\n",
    "    - train : val = 8 : 2 혹은 7 : 3\n",
    "    - random_state 옵션을 사용하여 다른 모델과 비교를 위해 성능이 재현되도록 합니다."
   ]
  },
  {
   "cell_type": "code",
   "execution_count": 164,
   "metadata": {},
   "outputs": [
    {
     "data": {
      "text/plain": [
       "0                 STANDING\n",
       "1                   LAYING\n",
       "2                 STANDING\n",
       "3                  WALKING\n",
       "4       WALKING_DOWNSTAIRS\n",
       "               ...        \n",
       "5876               SITTING\n",
       "5877      WALKING_UPSTAIRS\n",
       "5878                LAYING\n",
       "5879      WALKING_UPSTAIRS\n",
       "5880               SITTING\n",
       "Name: Activity, Length: 5881, dtype: object"
      ]
     },
     "execution_count": 164,
     "metadata": {},
     "output_type": "execute_result"
    }
   ],
   "source": [
    "df_train['Activity']"
   ]
  },
  {
   "cell_type": "code",
   "execution_count": 165,
   "metadata": {
    "executionInfo": {
     "elapsed": 2,
     "status": "ok",
     "timestamp": 1682563248254,
     "user": {
      "displayName": "허신 - Business Intelligence",
      "userId": "11511914061488776232"
     },
     "user_tz": -540
    },
    "id": "NX0bdnbw7mnz"
   },
   "outputs": [
    {
     "data": {
      "text/plain": [
       "0    3234\n",
       "1    2647\n",
       "Name: Activity_dynamic, dtype: int64"
      ]
     },
     "execution_count": 165,
     "metadata": {},
     "output_type": "execute_result"
    }
   ],
   "source": [
    "df_train['Activity_dynamic'] = df_train['Activity'].replace({'STANDING': 0, 'SITTING': 0, 'LAYING': 0, 'WALKING': 1, 'WALKING_UPSTAIRS': 1, 'WALKING_DOWNSTAIRS': 1})\n",
    "df_train['Activity_dynamic'].value_counts()"
   ]
  },
  {
   "cell_type": "code",
   "execution_count": null,
   "metadata": {},
   "outputs": [],
   "source": []
  },
  {
   "cell_type": "code",
   "execution_count": 166,
   "metadata": {},
   "outputs": [],
   "source": [
    "x = df_train.drop(['Activity', 'Activity_dynamic'], axis=1)\n",
    "y1 = df_train['Activity']\n",
    "y2 = df_train['Activity_dynamic']"
   ]
  },
  {
   "cell_type": "code",
   "execution_count": 167,
   "metadata": {
    "executionInfo": {
     "elapsed": 396,
     "status": "ok",
     "timestamp": 1682563250331,
     "user": {
      "displayName": "허신 - Business Intelligence",
      "userId": "11511914061488776232"
     },
     "user_tz": -540
    },
    "id": "EATFZQZpx5yR"
   },
   "outputs": [],
   "source": [
    "from sklearn.model_selection import train_test_split\n",
    "\n",
    "x_train, x_val, y_train, y_val = train_test_split(x, y1, test_size=0.3, shuffle=True, random_state=1)\n",
    "\n",
    "# 3-1에 추가 모델링시 y2 = df_train['Activity_dynamic'] 적용\n",
    "# x_train2, x_val2, y_train2, y_val2 = train_test_split(x, y2, test_size=0.3, shuffle=True, random_state=1)"
   ]
  },
  {
   "cell_type": "code",
   "execution_count": null,
   "metadata": {},
   "outputs": [],
   "source": []
  },
  {
   "cell_type": "markdown",
   "metadata": {
    "id": "bue7ZTLABQzi"
   },
   "source": [
    "## **3.단계별 모델링**"
   ]
  },
  {
   "cell_type": "markdown",
   "metadata": {
    "id": "cuQX1S5q39Ih"
   },
   "source": [
    "![](https://github.com/DA4BAM/image/blob/main/step%20by%20step.png?raw=true)"
   ]
  },
  {
   "cell_type": "markdown",
   "metadata": {
    "id": "dpEHt7u4CXlb"
   },
   "source": [
    "### (1) 단계1 : 정적/동적 행동 분류 모델"
   ]
  },
  {
   "cell_type": "markdown",
   "metadata": {
    "id": "8onfbGBbh1jr"
   },
   "source": [
    "* 세부 요구사항\n",
    "    * 정적 행동(Laying, Sitting, Standing)과 동적 행동(동적 : Walking, Walking-Up, Walking-Down)을 구분하는 모델 생성.\n",
    "    * 몇가지 모델을 만들고 가장 성능이 좋은 모델을 선정하시오."
   ]
  },
  {
   "cell_type": "markdown",
   "metadata": {
    "id": "cWYtB_nUD6zu"
   },
   "source": [
    "#### 1) Logistic Regression"
   ]
  },
  {
   "cell_type": "code",
   "execution_count": 168,
   "metadata": {
    "colab": {
     "base_uri": "https://localhost:8080/",
     "height": 80
    },
    "executionInfo": {
     "elapsed": 413,
     "status": "ok",
     "timestamp": 1682563266082,
     "user": {
      "displayName": "허신 - Business Intelligence",
      "userId": "11511914061488776232"
     },
     "user_tz": -540
    },
    "id": "77X6alt9EBCb",
    "outputId": "03654580-84a6-4b7b-def3-1a673479263d"
   },
   "outputs": [
    {
     "name": "stdout",
     "output_type": "stream",
     "text": [
      "Accuracy : 0.9807365439093484\n",
      "[[327   2   0   0   1   1]\n",
      " [  0 284   8   0   0   0]\n",
      " [  0  16 315   0   0   0]\n",
      " [  0   0   0 297   0   0]\n",
      " [  0   0   0   3 234   2]\n",
      " [  0   0   0   1   0 274]]\n",
      "                    precision    recall  f1-score   support\n",
      "\n",
      "            LAYING       1.00      0.99      0.99       331\n",
      "           SITTING       0.94      0.97      0.96       292\n",
      "          STANDING       0.98      0.95      0.96       331\n",
      "           WALKING       0.99      1.00      0.99       297\n",
      "WALKING_DOWNSTAIRS       1.00      0.98      0.99       239\n",
      "  WALKING_UPSTAIRS       0.99      1.00      0.99       275\n",
      "\n",
      "          accuracy                           0.98      1765\n",
      "         macro avg       0.98      0.98      0.98      1765\n",
      "      weighted avg       0.98      0.98      0.98      1765\n",
      "\n"
     ]
    },
    {
     "name": "stderr",
     "output_type": "stream",
     "text": [
      "C:\\Users\\wl\\anaconda3\\lib\\site-packages\\sklearn\\linear_model\\_logistic.py:458: ConvergenceWarning: lbfgs failed to converge (status=1):\n",
      "STOP: TOTAL NO. of ITERATIONS REACHED LIMIT.\n",
      "\n",
      "Increase the number of iterations (max_iter) or scale the data as shown in:\n",
      "    https://scikit-learn.org/stable/modules/preprocessing.html\n",
      "Please also refer to the documentation for alternative solver options:\n",
      "    https://scikit-learn.org/stable/modules/linear_model.html#logistic-regression\n",
      "  n_iter_i = _check_optimize_result(\n"
     ]
    }
   ],
   "source": [
    "from sklearn.linear_model import LogisticRegression\n",
    "from sklearn.metrics import accuracy_score, confusion_matrix, classification_report\n",
    "\n",
    "# model_lr = LogisticRegression()\n",
    "model_lr = LogisticRegression()\n",
    "model_lr.fit(x_train, y_train)\n",
    "y_pred = model_lr.predict(x_val)\n",
    "\n",
    "\n",
    "print('Accuracy :',accuracy_score(y_val, y_pred))\n",
    "print(confusion_matrix(y_val, y_pred))\n",
    "print(classification_report(y_val, y_pred))"
   ]
  },
  {
   "cell_type": "code",
   "execution_count": null,
   "metadata": {
    "colab": {
     "base_uri": "https://localhost:8080/"
    },
    "executionInfo": {
     "elapsed": 2,
     "status": "ok",
     "timestamp": 1682563269277,
     "user": {
      "displayName": "허신 - Business Intelligence",
      "userId": "11511914061488776232"
     },
     "user_tz": -540
    },
    "id": "ckjp_JPGEBCb",
    "outputId": "a9ac4ab0-acd8-4466-977a-3e6f8947066f"
   },
   "outputs": [],
   "source": []
  },
  {
   "cell_type": "markdown",
   "metadata": {
    "id": "vaR_-ESwD9yH"
   },
   "source": [
    "#### 2) RandomForest"
   ]
  },
  {
   "cell_type": "code",
   "execution_count": 169,
   "metadata": {
    "colab": {
     "base_uri": "https://localhost:8080/",
     "height": 80
    },
    "executionInfo": {
     "elapsed": 2677,
     "status": "ok",
     "timestamp": 1682563275774,
     "user": {
      "displayName": "허신 - Business Intelligence",
      "userId": "11511914061488776232"
     },
     "user_tz": -540
    },
    "id": "nmDpKFij8-fq",
    "outputId": "7fdef6a9-f3bd-43dd-a065-578cf320dc53"
   },
   "outputs": [
    {
     "name": "stdout",
     "output_type": "stream",
     "text": [
      "Accuracy : 0.9779036827195468\n",
      "[[330   0   0   0   0   1]\n",
      " [  0 280  12   0   0   0]\n",
      " [  0  16 315   0   0   0]\n",
      " [  0   0   0 294   2   1]\n",
      " [  0   0   0   1 234   4]\n",
      " [  0   0   0   0   2 273]]\n",
      "                    precision    recall  f1-score   support\n",
      "\n",
      "            LAYING       1.00      1.00      1.00       331\n",
      "           SITTING       0.95      0.96      0.95       292\n",
      "          STANDING       0.96      0.95      0.96       331\n",
      "           WALKING       1.00      0.99      0.99       297\n",
      "WALKING_DOWNSTAIRS       0.98      0.98      0.98       239\n",
      "  WALKING_UPSTAIRS       0.98      0.99      0.99       275\n",
      "\n",
      "          accuracy                           0.98      1765\n",
      "         macro avg       0.98      0.98      0.98      1765\n",
      "      weighted avg       0.98      0.98      0.98      1765\n",
      "\n"
     ]
    }
   ],
   "source": [
    "from sklearn.ensemble import RandomForestClassifier\n",
    "from sklearn.metrics import accuracy_score, confusion_matrix, classification_report\n",
    "\n",
    "# model_lr = LogisticRegression()\n",
    "model_lr = RandomForestClassifier()\n",
    "model_lr.fit(x_train, y_train)\n",
    "y_pred = model_lr.predict(x_val)\n",
    "\n",
    "\n",
    "print('Accuracy :',accuracy_score(y_val, y_pred))\n",
    "print(confusion_matrix(y_val, y_pred))\n",
    "print(classification_report(y_val, y_pred))"
   ]
  },
  {
   "cell_type": "code",
   "execution_count": null,
   "metadata": {
    "colab": {
     "base_uri": "https://localhost:8080/"
    },
    "executionInfo": {
     "elapsed": 653,
     "status": "ok",
     "timestamp": 1682563278382,
     "user": {
      "displayName": "허신 - Business Intelligence",
      "userId": "11511914061488776232"
     },
     "user_tz": -540
    },
    "id": "HpKJHa9zyHIl",
    "outputId": "227e4d30-e845-4ed0-87c9-c5fc99f9dfab"
   },
   "outputs": [],
   "source": []
  },
  {
   "cell_type": "code",
   "execution_count": null,
   "metadata": {},
   "outputs": [],
   "source": []
  },
  {
   "cell_type": "code",
   "execution_count": null,
   "metadata": {},
   "outputs": [],
   "source": []
  },
  {
   "cell_type": "markdown",
   "metadata": {
    "id": "9sTQeLpjCfV9"
   },
   "source": [
    "### (2) 단계2-1 : 정적 동작 세부 분류"
   ]
  },
  {
   "cell_type": "markdown",
   "metadata": {
    "id": "tr0QtSuTihs0"
   },
   "source": [
    "* 세부 요구사항\n",
    "    * 정적 행동(Laying, Sitting, Standing)인 데이터 추출\n",
    "    * Laying, Sitting, Standing 를 분류하는 모델을 생성\n",
    "    * 몇가지 모델을 만들고 가장 성능이 좋은 모델을 선정하시오."
   ]
  },
  {
   "cell_type": "code",
   "execution_count": 170,
   "metadata": {},
   "outputs": [
    {
     "data": {
      "text/plain": [
       "LAYING                1115\n",
       "STANDING              1087\n",
       "SITTING               1032\n",
       "WALKING                998\n",
       "WALKING_UPSTAIRS       858\n",
       "WALKING_DOWNSTAIRS     791\n",
       "Name: Activity, dtype: int64"
      ]
     },
     "execution_count": 170,
     "metadata": {},
     "output_type": "execute_result"
    }
   ],
   "source": [
    "df_train['Activity'].value_counts()"
   ]
  },
  {
   "cell_type": "code",
   "execution_count": 171,
   "metadata": {
    "executionInfo": {
     "elapsed": 401,
     "status": "ok",
     "timestamp": 1682563282940,
     "user": {
      "displayName": "허신 - Business Intelligence",
      "userId": "11511914061488776232"
     },
     "user_tz": -540
    },
    "id": "jzqSjhjOyRkZ"
   },
   "outputs": [
    {
     "data": {
      "text/html": [
       "<div>\n",
       "<style scoped>\n",
       "    .dataframe tbody tr th:only-of-type {\n",
       "        vertical-align: middle;\n",
       "    }\n",
       "\n",
       "    .dataframe tbody tr th {\n",
       "        vertical-align: top;\n",
       "    }\n",
       "\n",
       "    .dataframe thead th {\n",
       "        text-align: right;\n",
       "    }\n",
       "</style>\n",
       "<table border=\"1\" class=\"dataframe\">\n",
       "  <thead>\n",
       "    <tr style=\"text-align: right;\">\n",
       "      <th></th>\n",
       "      <th>tBodyAcc-mean()-X</th>\n",
       "      <th>tBodyAcc-mean()-Y</th>\n",
       "      <th>tBodyAcc-mean()-Z</th>\n",
       "      <th>tBodyAcc-std()-X</th>\n",
       "      <th>tBodyAcc-std()-Y</th>\n",
       "      <th>tBodyAcc-std()-Z</th>\n",
       "      <th>tBodyAcc-mad()-X</th>\n",
       "      <th>tBodyAcc-mad()-Y</th>\n",
       "      <th>tBodyAcc-mad()-Z</th>\n",
       "      <th>tBodyAcc-max()-X</th>\n",
       "      <th>...</th>\n",
       "      <th>angle(tBodyAccMean,gravity)</th>\n",
       "      <th>angle(tBodyAccJerkMean),gravityMean)</th>\n",
       "      <th>angle(tBodyGyroMean,gravityMean)</th>\n",
       "      <th>angle(tBodyGyroJerkMean,gravityMean)</th>\n",
       "      <th>angle(X,gravityMean)</th>\n",
       "      <th>angle(Y,gravityMean)</th>\n",
       "      <th>angle(Z,gravityMean)</th>\n",
       "      <th>subject</th>\n",
       "      <th>Activity</th>\n",
       "      <th>Activity_dynamic</th>\n",
       "    </tr>\n",
       "  </thead>\n",
       "  <tbody>\n",
       "    <tr>\n",
       "      <th>0</th>\n",
       "      <td>0.288508</td>\n",
       "      <td>-0.009196</td>\n",
       "      <td>-0.103362</td>\n",
       "      <td>-0.988986</td>\n",
       "      <td>-0.962797</td>\n",
       "      <td>-0.967422</td>\n",
       "      <td>-0.989000</td>\n",
       "      <td>-0.962596</td>\n",
       "      <td>-0.965650</td>\n",
       "      <td>-0.929747</td>\n",
       "      <td>...</td>\n",
       "      <td>-0.042494</td>\n",
       "      <td>-0.044218</td>\n",
       "      <td>0.307873</td>\n",
       "      <td>0.072790</td>\n",
       "      <td>-0.601120</td>\n",
       "      <td>0.331298</td>\n",
       "      <td>0.165163</td>\n",
       "      <td>21</td>\n",
       "      <td>STANDING</td>\n",
       "      <td>0</td>\n",
       "    </tr>\n",
       "    <tr>\n",
       "      <th>1</th>\n",
       "      <td>0.265757</td>\n",
       "      <td>-0.016576</td>\n",
       "      <td>-0.098163</td>\n",
       "      <td>-0.989551</td>\n",
       "      <td>-0.994636</td>\n",
       "      <td>-0.987435</td>\n",
       "      <td>-0.990189</td>\n",
       "      <td>-0.993870</td>\n",
       "      <td>-0.987558</td>\n",
       "      <td>-0.937337</td>\n",
       "      <td>...</td>\n",
       "      <td>-0.062899</td>\n",
       "      <td>0.388459</td>\n",
       "      <td>-0.765014</td>\n",
       "      <td>0.771524</td>\n",
       "      <td>0.345205</td>\n",
       "      <td>-0.769186</td>\n",
       "      <td>-0.147944</td>\n",
       "      <td>15</td>\n",
       "      <td>LAYING</td>\n",
       "      <td>0</td>\n",
       "    </tr>\n",
       "    <tr>\n",
       "      <th>2</th>\n",
       "      <td>0.278709</td>\n",
       "      <td>-0.014511</td>\n",
       "      <td>-0.108717</td>\n",
       "      <td>-0.997720</td>\n",
       "      <td>-0.981088</td>\n",
       "      <td>-0.994008</td>\n",
       "      <td>-0.997934</td>\n",
       "      <td>-0.982187</td>\n",
       "      <td>-0.995017</td>\n",
       "      <td>-0.942584</td>\n",
       "      <td>...</td>\n",
       "      <td>0.000265</td>\n",
       "      <td>-0.525022</td>\n",
       "      <td>-0.891875</td>\n",
       "      <td>0.021528</td>\n",
       "      <td>-0.833564</td>\n",
       "      <td>0.202434</td>\n",
       "      <td>-0.032755</td>\n",
       "      <td>11</td>\n",
       "      <td>STANDING</td>\n",
       "      <td>0</td>\n",
       "    </tr>\n",
       "    <tr>\n",
       "      <th>7</th>\n",
       "      <td>0.272026</td>\n",
       "      <td>-0.001329</td>\n",
       "      <td>-0.125491</td>\n",
       "      <td>-0.992068</td>\n",
       "      <td>-0.912985</td>\n",
       "      <td>-0.972451</td>\n",
       "      <td>-0.994752</td>\n",
       "      <td>-0.943141</td>\n",
       "      <td>-0.976428</td>\n",
       "      <td>-0.925446</td>\n",
       "      <td>...</td>\n",
       "      <td>-0.024442</td>\n",
       "      <td>0.076332</td>\n",
       "      <td>0.741277</td>\n",
       "      <td>0.729812</td>\n",
       "      <td>-0.817201</td>\n",
       "      <td>0.037746</td>\n",
       "      <td>0.136129</td>\n",
       "      <td>16</td>\n",
       "      <td>STANDING</td>\n",
       "      <td>0</td>\n",
       "    </tr>\n",
       "    <tr>\n",
       "      <th>8</th>\n",
       "      <td>0.284338</td>\n",
       "      <td>0.021956</td>\n",
       "      <td>-0.006925</td>\n",
       "      <td>-0.980153</td>\n",
       "      <td>-0.838394</td>\n",
       "      <td>-0.782357</td>\n",
       "      <td>-0.983683</td>\n",
       "      <td>-0.816199</td>\n",
       "      <td>-0.743923</td>\n",
       "      <td>-0.914011</td>\n",
       "      <td>...</td>\n",
       "      <td>0.021212</td>\n",
       "      <td>-0.009465</td>\n",
       "      <td>-0.282762</td>\n",
       "      <td>0.563343</td>\n",
       "      <td>-0.782072</td>\n",
       "      <td>0.242834</td>\n",
       "      <td>-0.025285</td>\n",
       "      <td>22</td>\n",
       "      <td>STANDING</td>\n",
       "      <td>0</td>\n",
       "    </tr>\n",
       "    <tr>\n",
       "      <th>...</th>\n",
       "      <td>...</td>\n",
       "      <td>...</td>\n",
       "      <td>...</td>\n",
       "      <td>...</td>\n",
       "      <td>...</td>\n",
       "      <td>...</td>\n",
       "      <td>...</td>\n",
       "      <td>...</td>\n",
       "      <td>...</td>\n",
       "      <td>...</td>\n",
       "      <td>...</td>\n",
       "      <td>...</td>\n",
       "      <td>...</td>\n",
       "      <td>...</td>\n",
       "      <td>...</td>\n",
       "      <td>...</td>\n",
       "      <td>...</td>\n",
       "      <td>...</td>\n",
       "      <td>...</td>\n",
       "      <td>...</td>\n",
       "      <td>...</td>\n",
       "    </tr>\n",
       "    <tr>\n",
       "      <th>5874</th>\n",
       "      <td>0.257476</td>\n",
       "      <td>-0.413865</td>\n",
       "      <td>0.017374</td>\n",
       "      <td>-0.919666</td>\n",
       "      <td>0.075259</td>\n",
       "      <td>-0.630716</td>\n",
       "      <td>-0.937986</td>\n",
       "      <td>0.176796</td>\n",
       "      <td>-0.613510</td>\n",
       "      <td>-0.866296</td>\n",
       "      <td>...</td>\n",
       "      <td>-0.000793</td>\n",
       "      <td>0.267189</td>\n",
       "      <td>-0.186202</td>\n",
       "      <td>0.098099</td>\n",
       "      <td>0.792970</td>\n",
       "      <td>-0.034020</td>\n",
       "      <td>-0.928148</td>\n",
       "      <td>1</td>\n",
       "      <td>LAYING</td>\n",
       "      <td>0</td>\n",
       "    </tr>\n",
       "    <tr>\n",
       "      <th>5875</th>\n",
       "      <td>0.277378</td>\n",
       "      <td>-0.013298</td>\n",
       "      <td>-0.104322</td>\n",
       "      <td>-0.996596</td>\n",
       "      <td>-0.987491</td>\n",
       "      <td>-0.973345</td>\n",
       "      <td>-0.996372</td>\n",
       "      <td>-0.987746</td>\n",
       "      <td>-0.973512</td>\n",
       "      <td>-0.942156</td>\n",
       "      <td>...</td>\n",
       "      <td>0.122320</td>\n",
       "      <td>0.136275</td>\n",
       "      <td>-0.708377</td>\n",
       "      <td>-0.507788</td>\n",
       "      <td>-0.818263</td>\n",
       "      <td>0.222620</td>\n",
       "      <td>0.035430</td>\n",
       "      <td>27</td>\n",
       "      <td>STANDING</td>\n",
       "      <td>0</td>\n",
       "    </tr>\n",
       "    <tr>\n",
       "      <th>5876</th>\n",
       "      <td>0.277194</td>\n",
       "      <td>-0.012389</td>\n",
       "      <td>-0.131974</td>\n",
       "      <td>-0.994046</td>\n",
       "      <td>-0.940578</td>\n",
       "      <td>-0.917337</td>\n",
       "      <td>-0.994261</td>\n",
       "      <td>-0.932830</td>\n",
       "      <td>-0.908088</td>\n",
       "      <td>-0.936219</td>\n",
       "      <td>...</td>\n",
       "      <td>-0.034888</td>\n",
       "      <td>-0.261437</td>\n",
       "      <td>-0.391477</td>\n",
       "      <td>-0.877612</td>\n",
       "      <td>-0.912365</td>\n",
       "      <td>0.114009</td>\n",
       "      <td>0.080146</td>\n",
       "      <td>21</td>\n",
       "      <td>SITTING</td>\n",
       "      <td>0</td>\n",
       "    </tr>\n",
       "    <tr>\n",
       "      <th>5878</th>\n",
       "      <td>0.267981</td>\n",
       "      <td>-0.018348</td>\n",
       "      <td>-0.107440</td>\n",
       "      <td>-0.991303</td>\n",
       "      <td>-0.989881</td>\n",
       "      <td>-0.990313</td>\n",
       "      <td>-0.992386</td>\n",
       "      <td>-0.988852</td>\n",
       "      <td>-0.991237</td>\n",
       "      <td>-0.936099</td>\n",
       "      <td>...</td>\n",
       "      <td>0.060173</td>\n",
       "      <td>0.228739</td>\n",
       "      <td>0.684400</td>\n",
       "      <td>-0.216665</td>\n",
       "      <td>0.620363</td>\n",
       "      <td>-0.437247</td>\n",
       "      <td>-0.571840</td>\n",
       "      <td>19</td>\n",
       "      <td>LAYING</td>\n",
       "      <td>0</td>\n",
       "    </tr>\n",
       "    <tr>\n",
       "      <th>5880</th>\n",
       "      <td>0.283815</td>\n",
       "      <td>-0.040658</td>\n",
       "      <td>-0.138018</td>\n",
       "      <td>-0.992662</td>\n",
       "      <td>-0.747190</td>\n",
       "      <td>-0.920248</td>\n",
       "      <td>-0.993410</td>\n",
       "      <td>-0.768055</td>\n",
       "      <td>-0.924587</td>\n",
       "      <td>-0.935871</td>\n",
       "      <td>...</td>\n",
       "      <td>0.107690</td>\n",
       "      <td>0.122242</td>\n",
       "      <td>-0.077226</td>\n",
       "      <td>-0.078091</td>\n",
       "      <td>-0.740244</td>\n",
       "      <td>0.008346</td>\n",
       "      <td>-0.146143</td>\n",
       "      <td>29</td>\n",
       "      <td>SITTING</td>\n",
       "      <td>0</td>\n",
       "    </tr>\n",
       "  </tbody>\n",
       "</table>\n",
       "<p>3234 rows × 564 columns</p>\n",
       "</div>"
      ],
      "text/plain": [
       "      tBodyAcc-mean()-X  tBodyAcc-mean()-Y  tBodyAcc-mean()-Z  \\\n",
       "0              0.288508          -0.009196          -0.103362   \n",
       "1              0.265757          -0.016576          -0.098163   \n",
       "2              0.278709          -0.014511          -0.108717   \n",
       "7              0.272026          -0.001329          -0.125491   \n",
       "8              0.284338           0.021956          -0.006925   \n",
       "...                 ...                ...                ...   \n",
       "5874           0.257476          -0.413865           0.017374   \n",
       "5875           0.277378          -0.013298          -0.104322   \n",
       "5876           0.277194          -0.012389          -0.131974   \n",
       "5878           0.267981          -0.018348          -0.107440   \n",
       "5880           0.283815          -0.040658          -0.138018   \n",
       "\n",
       "      tBodyAcc-std()-X  tBodyAcc-std()-Y  tBodyAcc-std()-Z  tBodyAcc-mad()-X  \\\n",
       "0            -0.988986         -0.962797         -0.967422         -0.989000   \n",
       "1            -0.989551         -0.994636         -0.987435         -0.990189   \n",
       "2            -0.997720         -0.981088         -0.994008         -0.997934   \n",
       "7            -0.992068         -0.912985         -0.972451         -0.994752   \n",
       "8            -0.980153         -0.838394         -0.782357         -0.983683   \n",
       "...                ...               ...               ...               ...   \n",
       "5874         -0.919666          0.075259         -0.630716         -0.937986   \n",
       "5875         -0.996596         -0.987491         -0.973345         -0.996372   \n",
       "5876         -0.994046         -0.940578         -0.917337         -0.994261   \n",
       "5878         -0.991303         -0.989881         -0.990313         -0.992386   \n",
       "5880         -0.992662         -0.747190         -0.920248         -0.993410   \n",
       "\n",
       "      tBodyAcc-mad()-Y  tBodyAcc-mad()-Z  tBodyAcc-max()-X  ...  \\\n",
       "0            -0.962596         -0.965650         -0.929747  ...   \n",
       "1            -0.993870         -0.987558         -0.937337  ...   \n",
       "2            -0.982187         -0.995017         -0.942584  ...   \n",
       "7            -0.943141         -0.976428         -0.925446  ...   \n",
       "8            -0.816199         -0.743923         -0.914011  ...   \n",
       "...                ...               ...               ...  ...   \n",
       "5874          0.176796         -0.613510         -0.866296  ...   \n",
       "5875         -0.987746         -0.973512         -0.942156  ...   \n",
       "5876         -0.932830         -0.908088         -0.936219  ...   \n",
       "5878         -0.988852         -0.991237         -0.936099  ...   \n",
       "5880         -0.768055         -0.924587         -0.935871  ...   \n",
       "\n",
       "      angle(tBodyAccMean,gravity)  angle(tBodyAccJerkMean),gravityMean)  \\\n",
       "0                       -0.042494                             -0.044218   \n",
       "1                       -0.062899                              0.388459   \n",
       "2                        0.000265                             -0.525022   \n",
       "7                       -0.024442                              0.076332   \n",
       "8                        0.021212                             -0.009465   \n",
       "...                           ...                                   ...   \n",
       "5874                    -0.000793                              0.267189   \n",
       "5875                     0.122320                              0.136275   \n",
       "5876                    -0.034888                             -0.261437   \n",
       "5878                     0.060173                              0.228739   \n",
       "5880                     0.107690                              0.122242   \n",
       "\n",
       "      angle(tBodyGyroMean,gravityMean)  angle(tBodyGyroJerkMean,gravityMean)  \\\n",
       "0                             0.307873                              0.072790   \n",
       "1                            -0.765014                              0.771524   \n",
       "2                            -0.891875                              0.021528   \n",
       "7                             0.741277                              0.729812   \n",
       "8                            -0.282762                              0.563343   \n",
       "...                                ...                                   ...   \n",
       "5874                         -0.186202                              0.098099   \n",
       "5875                         -0.708377                             -0.507788   \n",
       "5876                         -0.391477                             -0.877612   \n",
       "5878                          0.684400                             -0.216665   \n",
       "5880                         -0.077226                             -0.078091   \n",
       "\n",
       "      angle(X,gravityMean)  angle(Y,gravityMean)  angle(Z,gravityMean)  \\\n",
       "0                -0.601120              0.331298              0.165163   \n",
       "1                 0.345205             -0.769186             -0.147944   \n",
       "2                -0.833564              0.202434             -0.032755   \n",
       "7                -0.817201              0.037746              0.136129   \n",
       "8                -0.782072              0.242834             -0.025285   \n",
       "...                    ...                   ...                   ...   \n",
       "5874              0.792970             -0.034020             -0.928148   \n",
       "5875             -0.818263              0.222620              0.035430   \n",
       "5876             -0.912365              0.114009              0.080146   \n",
       "5878              0.620363             -0.437247             -0.571840   \n",
       "5880             -0.740244              0.008346             -0.146143   \n",
       "\n",
       "      subject  Activity  Activity_dynamic  \n",
       "0          21  STANDING                 0  \n",
       "1          15    LAYING                 0  \n",
       "2          11  STANDING                 0  \n",
       "7          16  STANDING                 0  \n",
       "8          22  STANDING                 0  \n",
       "...       ...       ...               ...  \n",
       "5874        1    LAYING                 0  \n",
       "5875       27  STANDING                 0  \n",
       "5876       21   SITTING                 0  \n",
       "5878       19    LAYING                 0  \n",
       "5880       29   SITTING                 0  \n",
       "\n",
       "[3234 rows x 564 columns]"
      ]
     },
     "execution_count": 171,
     "metadata": {},
     "output_type": "execute_result"
    }
   ],
   "source": [
    "df1 = df_train[ (df_train['Activity'] == 'STANDING') | (df_train['Activity'] == 'LAYING') | (df_train['Activity'] == 'SITTING') ]\n",
    "df1"
   ]
  },
  {
   "cell_type": "code",
   "execution_count": null,
   "metadata": {
    "colab": {
     "base_uri": "https://localhost:8080/"
    },
    "executionInfo": {
     "elapsed": 5,
     "status": "ok",
     "timestamp": 1682563291886,
     "user": {
      "displayName": "허신 - Business Intelligence",
      "userId": "11511914061488776232"
     },
     "user_tz": -540
    },
    "id": "ZFKVVQCeyUs4",
    "outputId": "a5cf8ac9-04fd-40da-90d3-d9678e05bb8e"
   },
   "outputs": [],
   "source": []
  },
  {
   "cell_type": "code",
   "execution_count": 172,
   "metadata": {},
   "outputs": [
    {
     "name": "stderr",
     "output_type": "stream",
     "text": [
      "C:\\Users\\wl\\anaconda3\\lib\\site-packages\\pandas\\core\\frame.py:4906: SettingWithCopyWarning: \n",
      "A value is trying to be set on a copy of a slice from a DataFrame\n",
      "\n",
      "See the caveats in the documentation: https://pandas.pydata.org/pandas-docs/stable/user_guide/indexing.html#returning-a-view-versus-a-copy\n",
      "  return super().drop(\n"
     ]
    },
    {
     "data": {
      "text/plain": [
       "Index(['tBodyAcc-mean()-X', 'tBodyAcc-mean()-Y', 'tBodyAcc-mean()-Z',\n",
       "       'tBodyAcc-std()-X', 'tBodyAcc-std()-Y', 'tBodyAcc-std()-Z',\n",
       "       'tBodyAcc-mad()-X', 'tBodyAcc-mad()-Y', 'tBodyAcc-mad()-Z',\n",
       "       'tBodyAcc-max()-X',\n",
       "       ...\n",
       "       'fBodyBodyGyroJerkMag-kurtosis()', 'angle(tBodyAccMean,gravity)',\n",
       "       'angle(tBodyAccJerkMean),gravityMean)',\n",
       "       'angle(tBodyGyroMean,gravityMean)',\n",
       "       'angle(tBodyGyroJerkMean,gravityMean)', 'angle(X,gravityMean)',\n",
       "       'angle(Y,gravityMean)', 'angle(Z,gravityMean)', 'subject', 'Activity'],\n",
       "      dtype='object', length=563)"
      ]
     },
     "execution_count": 172,
     "metadata": {},
     "output_type": "execute_result"
    }
   ],
   "source": [
    "# Activity_dynamic는 모든 정적행동에 동일하여 제거\n",
    "df1.drop('Activity_dynamic', axis=1, inplace=True)\n",
    "df1.columns"
   ]
  },
  {
   "cell_type": "code",
   "execution_count": null,
   "metadata": {},
   "outputs": [],
   "source": []
  },
  {
   "cell_type": "code",
   "execution_count": 126,
   "metadata": {},
   "outputs": [],
   "source": [
    "# train/test분리\n",
    "x = df1.drop(['Activity'], axis=1)\n",
    "y = df1['Activity']\n",
    "\n",
    "from sklearn.model_selection import train_test_split\n",
    "x_train, x_val, y_train, y_val = train_test_split(x, y, test_size=0.3, shuffle=True, random_state=1)"
   ]
  },
  {
   "cell_type": "code",
   "execution_count": null,
   "metadata": {},
   "outputs": [],
   "source": []
  },
  {
   "cell_type": "code",
   "execution_count": 127,
   "metadata": {},
   "outputs": [
    {
     "name": "stdout",
     "output_type": "stream",
     "text": [
      "Accuracy : 0.9660144181256437\n",
      "[[320   0   0]\n",
      " [  1 303  13]\n",
      " [  0  19 315]]\n",
      "              precision    recall  f1-score   support\n",
      "\n",
      "      LAYING       1.00      1.00      1.00       320\n",
      "     SITTING       0.94      0.96      0.95       317\n",
      "    STANDING       0.96      0.94      0.95       334\n",
      "\n",
      "    accuracy                           0.97       971\n",
      "   macro avg       0.97      0.97      0.97       971\n",
      "weighted avg       0.97      0.97      0.97       971\n",
      "\n"
     ]
    },
    {
     "name": "stderr",
     "output_type": "stream",
     "text": [
      "C:\\Users\\wl\\anaconda3\\lib\\site-packages\\sklearn\\linear_model\\_logistic.py:458: ConvergenceWarning: lbfgs failed to converge (status=1):\n",
      "STOP: TOTAL NO. of ITERATIONS REACHED LIMIT.\n",
      "\n",
      "Increase the number of iterations (max_iter) or scale the data as shown in:\n",
      "    https://scikit-learn.org/stable/modules/preprocessing.html\n",
      "Please also refer to the documentation for alternative solver options:\n",
      "    https://scikit-learn.org/stable/modules/linear_model.html#logistic-regression\n",
      "  n_iter_i = _check_optimize_result(\n"
     ]
    }
   ],
   "source": [
    "# 모델구축1 - Logistic Regression\n",
    "from sklearn.linear_model import LogisticRegression\n",
    "from sklearn.metrics import accuracy_score, confusion_matrix, classification_report\n",
    "model_lr = LogisticRegression()\n",
    "model_lr.fit(x_train, y_train)\n",
    "y_pred = model_lr.predict(x_val)\n",
    "\n",
    "\n",
    "print('Accuracy :',accuracy_score(y_val, y_pred))\n",
    "print(confusion_matrix(y_val, y_pred))\n",
    "print(classification_report(y_val, y_pred))"
   ]
  },
  {
   "cell_type": "code",
   "execution_count": 128,
   "metadata": {},
   "outputs": [
    {
     "data": {
      "text/plain": [
       "{'Logistic Regression': 0.966}"
      ]
     },
     "execution_count": 128,
     "metadata": {},
     "output_type": "execute_result"
    }
   ],
   "source": [
    "accuracy_all = {}\n",
    "accuracy_all['Logistic Regression'] = round(accuracy_score(y_val, y_pred), 3)\n",
    "accuracy_all"
   ]
  },
  {
   "cell_type": "code",
   "execution_count": null,
   "metadata": {},
   "outputs": [],
   "source": []
  },
  {
   "cell_type": "code",
   "execution_count": 129,
   "metadata": {},
   "outputs": [
    {
     "name": "stdout",
     "output_type": "stream",
     "text": [
      "Accuracy : 0.964984552008239\n",
      "[[320   0   0]\n",
      " [  0 298  19]\n",
      " [  0  15 319]]\n",
      "              precision    recall  f1-score   support\n",
      "\n",
      "      LAYING       1.00      1.00      1.00       320\n",
      "     SITTING       0.95      0.94      0.95       317\n",
      "    STANDING       0.94      0.96      0.95       334\n",
      "\n",
      "    accuracy                           0.96       971\n",
      "   macro avg       0.97      0.97      0.97       971\n",
      "weighted avg       0.97      0.96      0.96       971\n",
      "\n"
     ]
    }
   ],
   "source": [
    "# 모델구축2 - Random Forest\n",
    "from sklearn.ensemble import RandomForestClassifier\n",
    "from sklearn.metrics import accuracy_score, confusion_matrix, classification_report\n",
    "model_rf = RandomForestClassifier()\n",
    "model_rf.fit(x_train, y_train)\n",
    "y_pred = model_rf.predict(x_val)\n",
    "\n",
    "\n",
    "print('Accuracy :',accuracy_score(y_val, y_pred))\n",
    "print(confusion_matrix(y_val, y_pred))\n",
    "print(classification_report(y_val, y_pred))"
   ]
  },
  {
   "cell_type": "code",
   "execution_count": 130,
   "metadata": {},
   "outputs": [
    {
     "data": {
      "text/plain": [
       "{'Logistic Regression': 0.966, 'Random Forest': 0.965}"
      ]
     },
     "execution_count": 130,
     "metadata": {},
     "output_type": "execute_result"
    }
   ],
   "source": [
    "accuracy_all['Random Forest'] = round(accuracy_score(y_val, y_pred), 3)\n",
    "accuracy_all"
   ]
  },
  {
   "cell_type": "code",
   "execution_count": null,
   "metadata": {},
   "outputs": [],
   "source": []
  },
  {
   "cell_type": "code",
   "execution_count": 131,
   "metadata": {},
   "outputs": [],
   "source": [
    "# 모델구축3 - SVM"
   ]
  },
  {
   "cell_type": "code",
   "execution_count": 132,
   "metadata": {},
   "outputs": [],
   "source": [
    "# 라벨 인코딩\n",
    "from sklearn.preprocessing import LabelEncoder\n",
    "\n",
    "# 라벨 인코더 초기화\n",
    "label_encoder = LabelEncoder()\n",
    "\n",
    "# 라벨 인코더를 훈련 데이터의 타깃 라벨에 맞춰 학습시키고 변환합니다.\n",
    "y_train_encoded = label_encoder.fit_transform(y_train)\n",
    "y_val_encoded = label_encoder.fit_transform(y_val)"
   ]
  },
  {
   "cell_type": "code",
   "execution_count": null,
   "metadata": {},
   "outputs": [],
   "source": []
  },
  {
   "cell_type": "code",
   "execution_count": 133,
   "metadata": {},
   "outputs": [
    {
     "name": "stdout",
     "output_type": "stream",
     "text": [
      "SVM : 0.9495365602471678\n",
      "[[320   0   0]\n",
      " [  2 291  24]\n",
      " [  0  23 311]]\n",
      "              precision    recall  f1-score   support\n",
      "\n",
      "           0       0.99      1.00      1.00       320\n",
      "           1       0.93      0.92      0.92       317\n",
      "           2       0.93      0.93      0.93       334\n",
      "\n",
      "    accuracy                           0.95       971\n",
      "   macro avg       0.95      0.95      0.95       971\n",
      "weighted avg       0.95      0.95      0.95       971\n",
      "\n"
     ]
    }
   ],
   "source": [
    "from sklearn.svm import SVC\n",
    "from sklearn.metrics import accuracy_score, confusion_matrix, classification_report\n",
    "model_svm = SVC(C=1, gamma=0.01, kernel = 'rbf', random_state=1)\n",
    "model_svm.fit(x_train, y_train_encoded)\n",
    "y_pred = model_svm.predict(x_val)\n",
    "\n",
    "\n",
    "print('SVM :',accuracy_score(y_val_encoded, y_pred))\n",
    "print(confusion_matrix(y_val_encoded, y_pred))\n",
    "print(classification_report(y_val_encoded, y_pred))"
   ]
  },
  {
   "cell_type": "code",
   "execution_count": 134,
   "metadata": {},
   "outputs": [
    {
     "data": {
      "text/plain": [
       "{'Logistic Regression': 0.966, 'Random Forest': 0.965, 'SVM': 0.95}"
      ]
     },
     "execution_count": 134,
     "metadata": {},
     "output_type": "execute_result"
    }
   ],
   "source": [
    "accuracy_all['SVM'] = round(accuracy_score(y_val_encoded, y_pred), 3)\n",
    "accuracy_all"
   ]
  },
  {
   "cell_type": "code",
   "execution_count": null,
   "metadata": {},
   "outputs": [],
   "source": []
  },
  {
   "cell_type": "code",
   "execution_count": 135,
   "metadata": {},
   "outputs": [
    {
     "name": "stdout",
     "output_type": "stream",
     "text": [
      "XGBoost : 0.9794026776519053\n",
      "[[320   0   0]\n",
      " [  0 304  13]\n",
      " [  0   7 327]]\n",
      "              precision    recall  f1-score   support\n",
      "\n",
      "           0       1.00      1.00      1.00       320\n",
      "           1       0.98      0.96      0.97       317\n",
      "           2       0.96      0.98      0.97       334\n",
      "\n",
      "    accuracy                           0.98       971\n",
      "   macro avg       0.98      0.98      0.98       971\n",
      "weighted avg       0.98      0.98      0.98       971\n",
      "\n"
     ]
    }
   ],
   "source": [
    "# 모델구축4 - XGBoost\n",
    "from xgboost import XGBClassifier\n",
    "from sklearn.metrics import accuracy_score, confusion_matrix, classification_report\n",
    "model_xgb = XGBClassifier()\n",
    "model_xgb.fit(x_train, y_train_encoded)\n",
    "y_pred = model_xgb.predict(x_val)\n",
    "\n",
    "\n",
    "print('XGBoost :',accuracy_score(y_val_encoded, y_pred))\n",
    "print(confusion_matrix(y_val_encoded, y_pred))\n",
    "print(classification_report(y_val_encoded, y_pred))"
   ]
  },
  {
   "cell_type": "code",
   "execution_count": 137,
   "metadata": {},
   "outputs": [
    {
     "data": {
      "text/plain": [
       "{'Logistic Regression': 0.966,\n",
       " 'Random Forest': 0.965,\n",
       " 'SVM': 0.95,\n",
       " 'XGBoost': 0.979}"
      ]
     },
     "execution_count": 137,
     "metadata": {},
     "output_type": "execute_result"
    }
   ],
   "source": [
    "accuracy_all['XGBoost'] = round(accuracy_score(y_val_encoded, y_pred), 3)\n",
    "accuracy_all"
   ]
  },
  {
   "cell_type": "code",
   "execution_count": null,
   "metadata": {},
   "outputs": [],
   "source": []
  },
  {
   "cell_type": "markdown",
   "metadata": {
    "id": "jjNRQJpRC045"
   },
   "source": [
    "### (3) 단계2-2 : 동적 동작 세부 분류"
   ]
  },
  {
   "cell_type": "markdown",
   "metadata": {
    "id": "Rsy1RELi2qfF"
   },
   "source": [
    "* 세부 요구사항\n",
    "    * 동적 행동(Walking, Walking Upstairs, Walking Downstairs)인 데이터 추출\n",
    "    * Walking, Walking Upstairs, Walking Downstairs 를 분류하는 모델을 생성\n",
    "    * 몇가지 모델을 만들고 가장 성능이 좋은 모델을 선정하시오."
   ]
  },
  {
   "cell_type": "code",
   "execution_count": 138,
   "metadata": {},
   "outputs": [
    {
     "data": {
      "text/plain": [
       "LAYING                1115\n",
       "STANDING              1087\n",
       "SITTING               1032\n",
       "WALKING                998\n",
       "WALKING_UPSTAIRS       858\n",
       "WALKING_DOWNSTAIRS     791\n",
       "Name: Activity, dtype: int64"
      ]
     },
     "execution_count": 138,
     "metadata": {},
     "output_type": "execute_result"
    }
   ],
   "source": [
    "df_train['Activity'].value_counts()"
   ]
  },
  {
   "cell_type": "code",
   "execution_count": 139,
   "metadata": {},
   "outputs": [
    {
     "name": "stderr",
     "output_type": "stream",
     "text": [
      "C:\\Users\\wl\\anaconda3\\lib\\site-packages\\pandas\\core\\frame.py:4906: SettingWithCopyWarning: \n",
      "A value is trying to be set on a copy of a slice from a DataFrame\n",
      "\n",
      "See the caveats in the documentation: https://pandas.pydata.org/pandas-docs/stable/user_guide/indexing.html#returning-a-view-versus-a-copy\n",
      "  return super().drop(\n"
     ]
    },
    {
     "data": {
      "text/plain": [
       "Index(['tBodyAcc-mean()-X', 'tBodyAcc-mean()-Y', 'tBodyAcc-mean()-Z',\n",
       "       'tBodyAcc-std()-X', 'tBodyAcc-std()-Y', 'tBodyAcc-std()-Z',\n",
       "       'tBodyAcc-mad()-X', 'tBodyAcc-mad()-Y', 'tBodyAcc-mad()-Z',\n",
       "       'tBodyAcc-max()-X',\n",
       "       ...\n",
       "       'fBodyBodyGyroJerkMag-kurtosis()', 'angle(tBodyAccMean,gravity)',\n",
       "       'angle(tBodyAccJerkMean),gravityMean)',\n",
       "       'angle(tBodyGyroMean,gravityMean)',\n",
       "       'angle(tBodyGyroJerkMean,gravityMean)', 'angle(X,gravityMean)',\n",
       "       'angle(Y,gravityMean)', 'angle(Z,gravityMean)', 'subject', 'Activity'],\n",
       "      dtype='object', length=563)"
      ]
     },
     "execution_count": 139,
     "metadata": {},
     "output_type": "execute_result"
    }
   ],
   "source": [
    "df2 = df_train[ (df_train['Activity'] == 'WALKING') | (df_train['Activity'] == 'WALKING_UPSTAIRS') | (df_train['Activity'] == 'WALKING_DOWNSTAIRS') ]\n",
    "\n",
    "# Activity_dynamic는 모든 동적행동에 동일하여 제거\n",
    "df2.drop(['Activity_dynamic'], axis=1, inplace=True)\n",
    "df2.columns"
   ]
  },
  {
   "cell_type": "code",
   "execution_count": null,
   "metadata": {},
   "outputs": [],
   "source": []
  },
  {
   "cell_type": "code",
   "execution_count": 140,
   "metadata": {},
   "outputs": [],
   "source": [
    "# train/test분리\n",
    "x = df2.drop(['Activity'], axis=1)\n",
    "y = df2['Activity']\n",
    "\n",
    "from sklearn.model_selection import train_test_split\n",
    "x_train, x_val, y_train, y_val = train_test_split(x, y, test_size=0.3, shuffle=True, random_state=1)"
   ]
  },
  {
   "cell_type": "code",
   "execution_count": 202,
   "metadata": {},
   "outputs": [],
   "source": []
  },
  {
   "cell_type": "code",
   "execution_count": 203,
   "metadata": {},
   "outputs": [
    {
     "name": "stdout",
     "output_type": "stream",
     "text": [
      "Accuracy : 0.9841359773371104\n",
      "[[331   0   0   0   0   0]\n",
      " [  0 284   8   0   0   0]\n",
      " [  0  16 315   0   0   0]\n",
      " [  0   0   0 297   0   0]\n",
      " [  0   0   0   2 235   2]\n",
      " [  0   0   0   0   0 275]]\n",
      "                    precision    recall  f1-score   support\n",
      "\n",
      "            LAYING       1.00      1.00      1.00       331\n",
      "           SITTING       0.95      0.97      0.96       292\n",
      "          STANDING       0.98      0.95      0.96       331\n",
      "           WALKING       0.99      1.00      1.00       297\n",
      "WALKING_DOWNSTAIRS       1.00      0.98      0.99       239\n",
      "  WALKING_UPSTAIRS       0.99      1.00      1.00       275\n",
      "\n",
      "          accuracy                           0.98      1765\n",
      "         macro avg       0.98      0.98      0.98      1765\n",
      "      weighted avg       0.98      0.98      0.98      1765\n",
      "\n"
     ]
    }
   ],
   "source": [
    "# 모델구축1 - Logistic Regression\n",
    "from sklearn.linear_model import LogisticRegression\n",
    "from sklearn.metrics import accuracy_score, confusion_matrix, classification_report\n",
    "model_lr = LogisticRegression(solver='lbfgs', max_iter=300)\n",
    "model_lr.fit(x_train, y_train)\n",
    "y_pred = model_lr.predict(x_val)\n",
    "\n",
    "\n",
    "print('Accuracy :',accuracy_score(y_val, y_pred))\n",
    "print(confusion_matrix(y_val, y_pred))\n",
    "print(classification_report(y_val, y_pred))"
   ]
  },
  {
   "cell_type": "code",
   "execution_count": 142,
   "metadata": {},
   "outputs": [
    {
     "data": {
      "text/plain": [
       "{'Logistic Regression': 0.995}"
      ]
     },
     "execution_count": 142,
     "metadata": {},
     "output_type": "execute_result"
    }
   ],
   "source": [
    "accuracy_all = {}\n",
    "accuracy_all['Logistic Regression'] = round(accuracy_score(y_val, y_pred), 3)\n",
    "accuracy_all"
   ]
  },
  {
   "cell_type": "code",
   "execution_count": null,
   "metadata": {},
   "outputs": [],
   "source": []
  },
  {
   "cell_type": "code",
   "execution_count": 143,
   "metadata": {},
   "outputs": [
    {
     "name": "stdout",
     "output_type": "stream",
     "text": [
      "Accuracy : 0.9849056603773585\n",
      "[[304   2   1]\n",
      " [  2 236   5]\n",
      " [  0   2 243]]\n",
      "                    precision    recall  f1-score   support\n",
      "\n",
      "           WALKING       0.99      0.99      0.99       307\n",
      "WALKING_DOWNSTAIRS       0.98      0.97      0.98       243\n",
      "  WALKING_UPSTAIRS       0.98      0.99      0.98       245\n",
      "\n",
      "          accuracy                           0.98       795\n",
      "         macro avg       0.98      0.98      0.98       795\n",
      "      weighted avg       0.98      0.98      0.98       795\n",
      "\n"
     ]
    }
   ],
   "source": [
    "# 모델구축2 - Random Forest\n",
    "from sklearn.ensemble import RandomForestClassifier\n",
    "from sklearn.metrics import accuracy_score, confusion_matrix, classification_report\n",
    "model_rf = RandomForestClassifier()\n",
    "model_rf.fit(x_train, y_train)\n",
    "y_pred = model_rf.predict(x_val)\n",
    "\n",
    "\n",
    "print('Accuracy :',accuracy_score(y_val, y_pred))\n",
    "print(confusion_matrix(y_val, y_pred))\n",
    "print(classification_report(y_val, y_pred))"
   ]
  },
  {
   "cell_type": "code",
   "execution_count": 144,
   "metadata": {},
   "outputs": [
    {
     "data": {
      "text/plain": [
       "{'Logistic Regression': 0.995, 'Random Forest': 0.985}"
      ]
     },
     "execution_count": 144,
     "metadata": {},
     "output_type": "execute_result"
    }
   ],
   "source": [
    "accuracy_all['Random Forest'] = round(accuracy_score(y_val, y_pred), 3)\n",
    "accuracy_all"
   ]
  },
  {
   "cell_type": "code",
   "execution_count": null,
   "metadata": {},
   "outputs": [],
   "source": []
  },
  {
   "cell_type": "code",
   "execution_count": 145,
   "metadata": {},
   "outputs": [],
   "source": [
    "# 라벨 인코딩\n",
    "from sklearn.preprocessing import LabelEncoder\n",
    "\n",
    "# 라벨 인코더 초기화\n",
    "label_encoder = LabelEncoder()\n",
    "\n",
    "# 라벨 인코더를 훈련 데이터의 타깃 라벨에 맞춰 학습시키고 변환합니다.\n",
    "y_train_encoded = label_encoder.fit_transform(y_train)\n",
    "y_val_encoded = label_encoder.fit_transform(y_val)"
   ]
  },
  {
   "cell_type": "code",
   "execution_count": 146,
   "metadata": {},
   "outputs": [
    {
     "name": "stdout",
     "output_type": "stream",
     "text": [
      "SVM : 1.0\n",
      "[[307   0   0]\n",
      " [  0 243   0]\n",
      " [  0   0 245]]\n",
      "              precision    recall  f1-score   support\n",
      "\n",
      "           0       1.00      1.00      1.00       307\n",
      "           1       1.00      1.00      1.00       243\n",
      "           2       1.00      1.00      1.00       245\n",
      "\n",
      "    accuracy                           1.00       795\n",
      "   macro avg       1.00      1.00      1.00       795\n",
      "weighted avg       1.00      1.00      1.00       795\n",
      "\n"
     ]
    }
   ],
   "source": [
    "from sklearn.svm import SVC\n",
    "from sklearn.metrics import accuracy_score, confusion_matrix, classification_report\n",
    "model_svm = SVC(C=1, gamma=0.01, kernel = 'rbf', random_state=1)\n",
    "model_svm.fit(x_train, y_train_encoded)\n",
    "y_pred = model_svm.predict(x_val)\n",
    "\n",
    "\n",
    "print('SVM :',accuracy_score(y_val_encoded, y_pred))\n",
    "print(confusion_matrix(y_val_encoded, y_pred))\n",
    "print(classification_report(y_val_encoded, y_pred))"
   ]
  },
  {
   "cell_type": "code",
   "execution_count": 147,
   "metadata": {},
   "outputs": [
    {
     "data": {
      "text/plain": [
       "{'Logistic Regression': 0.995, 'Random Forest': 0.985, 'SVM': 1.0}"
      ]
     },
     "execution_count": 147,
     "metadata": {},
     "output_type": "execute_result"
    }
   ],
   "source": [
    "accuracy_all['SVM'] = round(accuracy_score(y_val_encoded, y_pred), 3)\n",
    "accuracy_all"
   ]
  },
  {
   "cell_type": "code",
   "execution_count": null,
   "metadata": {},
   "outputs": [],
   "source": []
  },
  {
   "cell_type": "code",
   "execution_count": 148,
   "metadata": {},
   "outputs": [
    {
     "name": "stdout",
     "output_type": "stream",
     "text": [
      "XGBoost : 0.9949685534591195\n",
      "[[306   0   1]\n",
      " [  1 242   0]\n",
      " [  1   1 243]]\n",
      "              precision    recall  f1-score   support\n",
      "\n",
      "           0       0.99      1.00      1.00       307\n",
      "           1       1.00      1.00      1.00       243\n",
      "           2       1.00      0.99      0.99       245\n",
      "\n",
      "    accuracy                           0.99       795\n",
      "   macro avg       1.00      0.99      0.99       795\n",
      "weighted avg       0.99      0.99      0.99       795\n",
      "\n"
     ]
    }
   ],
   "source": [
    "# 모델구축4 - XGBoost\n",
    "from xgboost import XGBClassifier\n",
    "from sklearn.metrics import accuracy_score, confusion_matrix, classification_report\n",
    "model_xgb = XGBClassifier()\n",
    "model_xgb.fit(x_train, y_train_encoded)\n",
    "y_pred = model_xgb.predict(x_val)\n",
    "\n",
    "\n",
    "print('XGBoost :',accuracy_score(y_val_encoded, y_pred))\n",
    "print(confusion_matrix(y_val_encoded, y_pred))\n",
    "print(classification_report(y_val_encoded, y_pred))"
   ]
  },
  {
   "cell_type": "code",
   "execution_count": 149,
   "metadata": {
    "executionInfo": {
     "elapsed": 1137,
     "status": "ok",
     "timestamp": 1682563297692,
     "user": {
      "displayName": "허신 - Business Intelligence",
      "userId": "11511914061488776232"
     },
     "user_tz": -540
    },
    "id": "a4Kgcm-u-RQO"
   },
   "outputs": [
    {
     "data": {
      "text/plain": [
       "{'Logistic Regression': 0.995,\n",
       " 'Random Forest': 0.985,\n",
       " 'SVM': 1.0,\n",
       " 'XGBoost': 0.995}"
      ]
     },
     "execution_count": 149,
     "metadata": {},
     "output_type": "execute_result"
    }
   ],
   "source": [
    "accuracy_all['XGBoost'] = round(accuracy_score(y_val_encoded, y_pred), 3)\n",
    "accuracy_all"
   ]
  },
  {
   "cell_type": "code",
   "execution_count": null,
   "metadata": {
    "colab": {
     "base_uri": "https://localhost:8080/"
    },
    "executionInfo": {
     "elapsed": 1014,
     "status": "ok",
     "timestamp": 1682563301288,
     "user": {
      "displayName": "허신 - Business Intelligence",
      "userId": "11511914061488776232"
     },
     "user_tz": -540
    },
    "id": "kbmf-ZOq-RQO",
    "outputId": "eae1dd17-4ef5-467b-93e3-0b4733d9346f"
   },
   "outputs": [],
   "source": []
  },
  {
   "cell_type": "code",
   "execution_count": null,
   "metadata": {
    "colab": {
     "base_uri": "https://localhost:8080/"
    },
    "executionInfo": {
     "elapsed": 396,
     "status": "ok",
     "timestamp": 1682563303957,
     "user": {
      "displayName": "허신 - Business Intelligence",
      "userId": "11511914061488776232"
     },
     "user_tz": -540
    },
    "id": "INiQ3sLZ-RQP",
    "outputId": "f8dfc59b-c46a-49d8-b9f8-837144b031fb"
   },
   "outputs": [],
   "source": []
  },
  {
   "cell_type": "code",
   "execution_count": null,
   "metadata": {},
   "outputs": [],
   "source": []
  },
  {
   "cell_type": "markdown",
   "metadata": {
    "id": "ShM5xWkwC3YE"
   },
   "source": [
    "### (4) 분류 모델 합치기\n"
   ]
  },
  {
   "cell_type": "markdown",
   "metadata": {
    "id": "K3i2vaxQ3Gmw"
   },
   "source": [
    "* 세부 요구사항\n",
    "    * 두 단계 모델을 통합하고, 새로운 데이터(test)에 대해서 최종 예측결과와 성능평가가 나오도록 함수로 만들기\n",
    "    * 데이터 파이프라인 구축 : test데이터가 로딩되어 전처리 과정을 거치고, 예측 및 성능 평가 수행"
   ]
  },
  {
   "cell_type": "markdown",
   "metadata": {
    "id": "88hluBpL33eB"
   },
   "source": [
    "![](https://github.com/DA4BAM/image/blob/main/pipeline%20function.png?raw=true)"
   ]
  },
  {
   "cell_type": "markdown",
   "metadata": {
    "id": "Re6LpNYhi5d3"
   },
   "source": [
    "#### 1) 함수 만들어서 분류모델 합치기"
   ]
  },
  {
   "cell_type": "code",
   "execution_count": 26,
   "metadata": {
    "executionInfo": {
     "elapsed": 605,
     "status": "ok",
     "timestamp": 1682563313854,
     "user": {
      "displayName": "허신 - Business Intelligence",
      "userId": "11511914061488776232"
     },
     "user_tz": -540
    },
    "id": "U9fP9x76A-gh"
   },
   "outputs": [],
   "source": [
    "def model_classication(df_train):    "
   ]
  },
  {
   "cell_type": "code",
   "execution_count": 199,
   "metadata": {},
   "outputs": [
    {
     "name": "stderr",
     "output_type": "stream",
     "text": [
      "C:\\Users\\wl\\anaconda3\\lib\\site-packages\\pandas\\core\\frame.py:4906: SettingWithCopyWarning: \n",
      "A value is trying to be set on a copy of a slice from a DataFrame\n",
      "\n",
      "See the caveats in the documentation: https://pandas.pydata.org/pandas-docs/stable/user_guide/indexing.html#returning-a-view-versus-a-copy\n",
      "  return super().drop(\n",
      "C:\\Users\\wl\\anaconda3\\lib\\site-packages\\sklearn\\linear_model\\_logistic.py:458: ConvergenceWarning: lbfgs failed to converge (status=1):\n",
      "STOP: TOTAL NO. of ITERATIONS REACHED LIMIT.\n",
      "\n",
      "Increase the number of iterations (max_iter) or scale the data as shown in:\n",
      "    https://scikit-learn.org/stable/modules/preprocessing.html\n",
      "Please also refer to the documentation for alternative solver options:\n",
      "    https://scikit-learn.org/stable/modules/linear_model.html#logistic-regression\n",
      "  n_iter_i = _check_optimize_result(\n",
      "C:\\Users\\wl\\anaconda3\\lib\\site-packages\\sklearn\\linear_model\\_logistic.py:458: ConvergenceWarning: lbfgs failed to converge (status=1):\n",
      "STOP: TOTAL NO. of ITERATIONS REACHED LIMIT.\n",
      "\n",
      "Increase the number of iterations (max_iter) or scale the data as shown in:\n",
      "    https://scikit-learn.org/stable/modules/preprocessing.html\n",
      "Please also refer to the documentation for alternative solver options:\n",
      "    https://scikit-learn.org/stable/modules/linear_model.html#logistic-regression\n",
      "  n_iter_i = _check_optimize_result(\n"
     ]
    },
    {
     "data": {
      "text/plain": [
       "'model1 : '"
      ]
     },
     "metadata": {},
     "output_type": "display_data"
    },
    {
     "data": {
      "text/plain": [
       "[['logistic regression', 0.966],\n",
       " ['Random Forest', 0.96],\n",
       " ['SVM', 0.95],\n",
       " ['XGBoostt', 0.979]]"
      ]
     },
     "metadata": {},
     "output_type": "display_data"
    },
    {
     "name": "stdout",
     "output_type": "stream",
     "text": [
      "\n"
     ]
    },
    {
     "data": {
      "text/plain": [
       "'model2 : '"
      ]
     },
     "metadata": {},
     "output_type": "display_data"
    },
    {
     "data": {
      "text/plain": [
       "[['logistic regression', 0.995],\n",
       " ['Random Forest', 0.982],\n",
       " ['SVM', 1.0],\n",
       " ['XGBoost', 0.995]]"
      ]
     },
     "metadata": {},
     "output_type": "display_data"
    },
    {
     "name": "stdout",
     "output_type": "stream",
     "text": [
      "\n",
      "avg_total :  [['logistic regression', 0.98], ['Random Forest', 0.971], ['SVM', 0.975], ['XGBoostt', 0.987]]\n"
     ]
    }
   ],
   "source": [
    "\n",
    "\n",
    "#######################################################################################################################################\n",
    "df1 = df_train[ (df_train['Activity'] == 'STANDING') | (df_train['Activity'] == 'LAYING') | (df_train['Activity'] == 'SITTING') ]\n",
    "df2 = df_train[ (df_train['Activity'] == 'WALKING') | (df_train['Activity'] == 'WALKING_UPSTAIRS') | (df_train['Activity'] == 'WALKING_DOWNSTAIRS') ]\n",
    "\n",
    "# Activity_dynamic는 모든 동적행동에 동일하여 제거\n",
    "df1.drop(['Activity_dynamic'], axis=1, inplace=True)\n",
    "df2.drop(['Activity_dynamic'], axis=1, inplace=True)\n",
    "\n",
    "# train/test분리\n",
    "x1 = df1.drop(['Activity'], axis=1)\n",
    "y1 = df1['Activity']\n",
    "\n",
    "x2 = df2.drop(['Activity'], axis=1)\n",
    "y2 = df2['Activity']\n",
    "\n",
    "#######################################################################################################################################\n",
    "from sklearn.model_selection import train_test_split\n",
    "x_train1, x_val1, y_train1, y_val1 = train_test_split(x1, y1, test_size=0.3, shuffle=True, random_state=1)\n",
    "x_train2, x_val2, y_train2, y_val2 = train_test_split(x2, y2, test_size=0.3, shuffle=True, random_state=1)\n",
    "\n",
    "\n",
    "#######################################################################################################################################\n",
    "# 모델구축1 - Logistic Regression\n",
    "from sklearn.linear_model import LogisticRegression\n",
    "from sklearn.metrics import accuracy_score, confusion_matrix, classification_report\n",
    "model_lr = LogisticRegression()\n",
    "\n",
    "# 정적모델\n",
    "model_lr.fit(x_train1, y_train1)\n",
    "y_pred = model_lr.predict(x_val1)\n",
    "accuracy_all_1 = []\n",
    "accuracy_all_1.append(['logistic regression', round(accuracy_score(y_val1, y_pred), 3)])\n",
    "\n",
    "\n",
    "# 동적모델\n",
    "model_lr.fit(x_train2, y_train2)\n",
    "y_pred = model_lr.predict(x_val2)\n",
    "accuracy_all_2 = []\n",
    "accuracy_all_2.append(['logistic regression', round(accuracy_score(y_val2, y_pred), 3)])\n",
    "\n",
    "\n",
    "\n",
    "#######################################################################################################################################\n",
    "# 모델구축2 - Random Forest\n",
    "from sklearn.ensemble import RandomForestClassifier\n",
    "from sklearn.metrics import accuracy_score, confusion_matrix, classification_report\n",
    "model_rf = RandomForestClassifier()\n",
    "\n",
    "# 정적모델\n",
    "model_rf.fit(x_train1, y_train1)\n",
    "y_pred = model_rf.predict(x_val1)\n",
    "accuracy_all_1.append(['Random Forest', round(accuracy_score(y_val1, y_pred), 3)])\n",
    "\n",
    "# 동적모델\n",
    "model_rf.fit(x_train2, y_train2)\n",
    "y_pred = model_rf.predict(x_val2)\n",
    "accuracy_all_2.append(['Random Forest', round(accuracy_score(y_val2, y_pred), 3)])\n",
    "\n",
    "\n",
    "#######################################################################################################################################\n",
    "# 모델구축3 - SVM\n",
    "\n",
    "# 라벨 인코딩\n",
    "from sklearn.preprocessing import LabelEncoder\n",
    "\n",
    "# 라벨 인코더 초기화\n",
    "label_encoder = LabelEncoder()\n",
    "\n",
    "# 라벨 인코더를 훈련 데이터의 타깃 라벨에 맞춰 학습시키고 변환합니다.\n",
    "y_train1_encoded = label_encoder.fit_transform(y_train1)\n",
    "y_train2_encoded = label_encoder.fit_transform(y_train2)\n",
    "\n",
    "y_val1_encoded = label_encoder.fit_transform(y_val1)\n",
    "y_val2_encoded = label_encoder.fit_transform(y_val2)\n",
    "#####################################################################\n",
    "\n",
    "from sklearn.svm import SVC\n",
    "from sklearn.metrics import accuracy_score, confusion_matrix, classification_report\n",
    "model_svm = SVC(C=1, gamma=0.01, kernel = 'rbf', random_state=1)\n",
    "\n",
    "# 정적모델\n",
    "model_svm.fit(x_train1, y_train1_encoded)\n",
    "y_pred = model_svm.predict(x_val1)\n",
    "accuracy_all_1.append(['SVM', round(accuracy_score(y_val1_encoded, y_pred), 3)])\n",
    "\n",
    "# 동적모델\n",
    "model_svm.fit(x_train2, y_train2_encoded)\n",
    "y_pred = model_svm.predict(x_val2)\n",
    "accuracy_all_2.append(['SVM', round(accuracy_score(y_val2_encoded, y_pred), 3)])\n",
    "\n",
    "#######################################################################################################################################\n",
    "# 모델구축4 - XGBoost\n",
    "from xgboost import XGBClassifier\n",
    "from sklearn.metrics import accuracy_score, confusion_matrix, classification_report\n",
    "model_xgb = XGBClassifier()\n",
    "\n",
    "# 정적모델\n",
    "model_xgb.fit(x_train1, y_train1_encoded)\n",
    "y_pred = model_xgb.predict(x_val1)\n",
    "accuracy_all_1.append(['XGBoostt', round(accuracy_score(y_val1_encoded, y_pred), 3)])\n",
    "\n",
    "# 동적모델\n",
    "model_xgb.fit(x_train2, y_train2_encoded)\n",
    "y_pred = model_xgb.predict(x_val2)\n",
    "accuracy_all_2.append(['XGBoost', round(accuracy_score(y_val2_encoded, y_pred), 3)])\n",
    "\n",
    "#######################################################################################################################################\n",
    "display('model1 : ', accuracy_all_1)\n",
    "print()\n",
    "display('model2 : ', accuracy_all_2)\n",
    "print()\n",
    "\n",
    "avg_total=[]\n",
    "for i in range(len(accuracy_all_1)):\n",
    "    avg = (accuracy_all_1[i][1] + accuracy_all_2[i][1])/2\n",
    "    avg = round(avg, 3)\n",
    "    avg_total.append( [ accuracy_all_1[i][0], avg ] )\n",
    "print('avg_total : ', avg_total)"
   ]
  },
  {
   "cell_type": "code",
   "execution_count": null,
   "metadata": {},
   "outputs": [],
   "source": []
  },
  {
   "cell_type": "code",
   "execution_count": null,
   "metadata": {},
   "outputs": [],
   "source": []
  },
  {
   "cell_type": "code",
   "execution_count": 197,
   "metadata": {},
   "outputs": [],
   "source": [
    "# x = df_train.drop(['Activity', 'Activity_dynamic'], axis=1)\n",
    "# y = df_train['Activity']\n",
    "\n",
    "\n",
    "# # 정적+동적모델만 합칠경우 / 정적,동적으로 분류모델 통합안함\n",
    "# x_train_all, x_val_all, y_train_all, y_val_all = train_test_split(x, y, test_size=0.3, shuffle=True, random_state=1)\n",
    "\n",
    "# x_train_stop = x_train_all[ (x_train_all['Activity'] == 'STANDING') | (x_train_all['Activity'] == 'LAYING') | (x_train_all['Activity'] == 'SITTING') ]\n",
    "# x_train_act = x_train_all[ (x_train_all['Activity'] == 'WALKING') | (x_train_all['Activity'] == 'WALKING_UPSTAIRS') | (x_train_all['Activity'] == 'WALKING_DOWNSTAIRS') ]\n",
    "\n",
    "\n"
   ]
  },
  {
   "cell_type": "code",
   "execution_count": null,
   "metadata": {},
   "outputs": [],
   "source": []
  },
  {
   "cell_type": "code",
   "execution_count": null,
   "metadata": {},
   "outputs": [],
   "source": [
    "\n",
    "\n",
    "# 모델구축2 - Random Forest\n",
    "from sklearn.ensemble import RandomForestClassifier\n",
    "from sklearn.metrics import accuracy_score, confusion_matrix, classification_report\n",
    "model_rf = RandomForestClassifier()\n",
    "model_rf.fit(x_train, y_train)\n",
    "y_pred = model_rf.predict(x_val)\n",
    "\n",
    "\n",
    "print('Accuracy :',accuracy_score(y_val, y_pred))\n",
    "print(confusion_matrix(y_val, y_pred))\n",
    "print(classification_report(y_val, y_pred))\n",
    "\n",
    "accuracy_all['Random Forest'] = round(accuracy_score(y_val, y_pred), 3)\n",
    "accuracy_all\n",
    "\n",
    "# 라벨 인코딩\n",
    "from sklearn.preprocessing import LabelEncoder\n",
    "\n",
    "# 라벨 인코더 초기화\n",
    "label_encoder = LabelEncoder()\n",
    "\n",
    "# 라벨 인코더를 훈련 데이터의 타깃 라벨에 맞춰 학습시키고 변환합니다.\n",
    "y_train_encoded = label_encoder.fit_transform(y_train)\n",
    "y_val_encoded = label_encoder.fit_transform(y_val)\n",
    "\n",
    "from sklearn.svm import SVC\n",
    "from sklearn.metrics import accuracy_score, confusion_matrix, classification_report\n",
    "model_svm = SVC(C=1, gamma=0.01, kernel = 'rbf', random_state=1)\n",
    "model_svm.fit(x_train, y_train_encoded)\n",
    "y_pred = model_svm.predict(x_val)\n",
    "\n",
    "\n",
    "print('SVM :',accuracy_score(y_val_encoded, y_pred))\n",
    "print(confusion_matrix(y_val_encoded, y_pred))\n",
    "print(classification_report(y_val_encoded, y_pred))\n",
    "\n",
    "accuracy_all['SVM'] = round(accuracy_score(y_val_encoded, y_pred), 3)\n",
    "accuracy_all\n",
    "\n",
    "# 모델구축4 - XGBoost\n",
    "from xgboost import XGBClassifier\n",
    "from sklearn.metrics import accuracy_score, confusion_matrix, classification_report\n",
    "model_xgb = XGBClassifier()\n",
    "model_xgb.fit(x_train, y_train_encoded)\n",
    "y_pred = model_xgb.predict(x_val)\n",
    "\n",
    "\n",
    "print('XGBoost :',accuracy_score(y_val_encoded, y_pred))\n",
    "print(confusion_matrix(y_val_encoded, y_pred))\n",
    "print(classification_report(y_val_encoded, y_pred))\n",
    "\n",
    "accuracy_all['XGBoost'] = round(accuracy_score(y_val_encoded, y_pred), 3)\n",
    "accuracy_all"
   ]
  },
  {
   "cell_type": "code",
   "execution_count": null,
   "metadata": {},
   "outputs": [],
   "source": []
  },
  {
   "cell_type": "markdown",
   "metadata": {
    "id": "6N5htravVDFe",
    "tags": []
   },
   "source": [
    "#### 2) test 셋으로 예측하고 평가하기"
   ]
  },
  {
   "cell_type": "code",
   "execution_count": null,
   "metadata": {
    "colab": {
     "base_uri": "https://localhost:8080/",
     "height": 337
    },
    "executionInfo": {
     "elapsed": 927,
     "status": "ok",
     "timestamp": 1682563319695,
     "user": {
      "displayName": "허신 - Business Intelligence",
      "userId": "11511914061488776232"
     },
     "user_tz": -540
    },
    "id": "eVLnQbdfUyx9",
    "outputId": "62fb0380-59de-4b89-ea14-a464273821b5"
   },
   "outputs": [],
   "source": []
  },
  {
   "cell_type": "markdown",
   "metadata": {
    "id": "agGUflSTVE58"
   },
   "source": [
    "* 성능 평가"
   ]
  },
  {
   "cell_type": "code",
   "execution_count": null,
   "metadata": {},
   "outputs": [],
   "source": []
  },
  {
   "cell_type": "code",
   "execution_count": null,
   "metadata": {},
   "outputs": [],
   "source": []
  },
  {
   "cell_type": "code",
   "execution_count": null,
   "metadata": {},
   "outputs": [],
   "source": []
  },
  {
   "cell_type": "code",
   "execution_count": null,
   "metadata": {
    "colab": {
     "base_uri": "https://localhost:8080/"
    },
    "executionInfo": {
     "elapsed": 3,
     "status": "ok",
     "timestamp": 1682563322359,
     "user": {
      "displayName": "허신 - Business Intelligence",
      "userId": "11511914061488776232"
     },
     "user_tz": -540
    },
    "id": "ApfVsX_Zzr7r",
    "outputId": "d8332ec6-360d-4372-ab85-af4a772bc0d2"
   },
   "outputs": [],
   "source": []
  }
 ],
 "metadata": {
  "accelerator": "GPU",
  "colab": {
   "provenance": [],
   "toc_visible": true
  },
  "gpuClass": "standard",
  "kernelspec": {
   "display_name": "Python 3 (ipykernel)",
   "language": "python",
   "name": "python3"
  },
  "language_info": {
   "codemirror_mode": {
    "name": "ipython",
    "version": 3
   },
   "file_extension": ".py",
   "mimetype": "text/x-python",
   "name": "python",
   "nbconvert_exporter": "python",
   "pygments_lexer": "ipython3",
   "version": "3.9.7"
  }
 },
 "nbformat": 4,
 "nbformat_minor": 4
}
