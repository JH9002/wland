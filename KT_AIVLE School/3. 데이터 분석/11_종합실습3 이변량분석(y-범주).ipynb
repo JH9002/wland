{
 "cells": [
  {
   "cell_type": "markdown",
   "metadata": {
    "id": "PmZtDSeUdRJ5"
   },
   "source": [
    "# 종합실습3 이변량분석(y-범주) : 직원 이직 분석"
   ]
  },
  {
   "cell_type": "markdown",
   "metadata": {
    "id": "MyNEsMVbu-Ot"
   },
   "source": [
    "![](https://www.talentalign.com/wp-content/uploads/2019/09/main-qimg-2434943004743f79c0abf540cb4f6e2c-cropped.jpg)"
   ]
  },
  {
   "cell_type": "markdown",
   "metadata": {
    "id": "1iek5eZPs8vp"
   },
   "source": [
    "* 직원 이직 분석\n",
    "    * 회사에서 최근 1~2년 사이 이직률이 상승하였습니다.\n",
    "    * 여러분은, 직원들이 이직하는데 중요한 요인이 무엇인지 데이터를 기반으로 한 분석을 의뢰 받았습니다."
   ]
  },
  {
   "cell_type": "markdown",
   "metadata": {
    "id": "4UklllBjdRJ7"
   },
   "source": [
    "# 1.환경준비"
   ]
  },
  {
   "cell_type": "markdown",
   "metadata": {
    "id": "RpVQY2pVdRJ7"
   },
   "source": [
    "* 라이브러리 불러오기"
   ]
  },
  {
   "cell_type": "code",
   "execution_count": 46,
   "metadata": {
    "id": "yROT1tWLdRJ8"
   },
   "outputs": [],
   "source": [
    "import pandas as pd\n",
    "import numpy as np\n",
    "\n",
    "import matplotlib.pyplot as plt\n",
    "import seaborn as sns\n",
    "from statsmodels.graphics.mosaicplot import mosaic      #mosaic plot!\n",
    "\n",
    "import scipy.stats as spst"
   ]
  },
  {
   "cell_type": "markdown",
   "metadata": {
    "id": "JjOJiREMY03m"
   },
   "source": [
    "* 데이터 불러오기 : 다음의 예제 데이터를 사용합니다."
   ]
  },
  {
   "cell_type": "code",
   "execution_count": 47,
   "metadata": {
    "id": "2voHuCQWY03s"
   },
   "outputs": [
    {
     "data": {
      "text/html": [
       "<div>\n",
       "<style scoped>\n",
       "    .dataframe tbody tr th:only-of-type {\n",
       "        vertical-align: middle;\n",
       "    }\n",
       "\n",
       "    .dataframe tbody tr th {\n",
       "        vertical-align: top;\n",
       "    }\n",
       "\n",
       "    .dataframe thead th {\n",
       "        text-align: right;\n",
       "    }\n",
       "</style>\n",
       "<table border=\"1\" class=\"dataframe\">\n",
       "  <thead>\n",
       "    <tr style=\"text-align: right;\">\n",
       "      <th></th>\n",
       "      <th>Attrition</th>\n",
       "      <th>Age</th>\n",
       "      <th>DistanceFromHome</th>\n",
       "      <th>EmployeeNumber</th>\n",
       "      <th>Gender</th>\n",
       "      <th>JobSatisfaction</th>\n",
       "      <th>MaritalStatus</th>\n",
       "      <th>MonthlyIncome</th>\n",
       "      <th>OverTime</th>\n",
       "      <th>PercentSalaryHike</th>\n",
       "      <th>TotalWorkingYears</th>\n",
       "    </tr>\n",
       "  </thead>\n",
       "  <tbody>\n",
       "    <tr>\n",
       "      <th>0</th>\n",
       "      <td>0</td>\n",
       "      <td>27</td>\n",
       "      <td>2</td>\n",
       "      <td>1898</td>\n",
       "      <td>Female</td>\n",
       "      <td>3</td>\n",
       "      <td>Single</td>\n",
       "      <td>6500</td>\n",
       "      <td>No</td>\n",
       "      <td>14</td>\n",
       "      <td>9</td>\n",
       "    </tr>\n",
       "    <tr>\n",
       "      <th>1</th>\n",
       "      <td>0</td>\n",
       "      <td>27</td>\n",
       "      <td>9</td>\n",
       "      <td>1965</td>\n",
       "      <td>Male</td>\n",
       "      <td>4</td>\n",
       "      <td>Single</td>\n",
       "      <td>4105</td>\n",
       "      <td>No</td>\n",
       "      <td>14</td>\n",
       "      <td>7</td>\n",
       "    </tr>\n",
       "    <tr>\n",
       "      <th>2</th>\n",
       "      <td>0</td>\n",
       "      <td>44</td>\n",
       "      <td>2</td>\n",
       "      <td>1703</td>\n",
       "      <td>Female</td>\n",
       "      <td>4</td>\n",
       "      <td>Married</td>\n",
       "      <td>7879</td>\n",
       "      <td>Yes</td>\n",
       "      <td>19</td>\n",
       "      <td>9</td>\n",
       "    </tr>\n",
       "    <tr>\n",
       "      <th>3</th>\n",
       "      <td>0</td>\n",
       "      <td>42</td>\n",
       "      <td>2</td>\n",
       "      <td>1231</td>\n",
       "      <td>Male</td>\n",
       "      <td>1</td>\n",
       "      <td>Married</td>\n",
       "      <td>6272</td>\n",
       "      <td>No</td>\n",
       "      <td>16</td>\n",
       "      <td>10</td>\n",
       "    </tr>\n",
       "    <tr>\n",
       "      <th>4</th>\n",
       "      <td>0</td>\n",
       "      <td>32</td>\n",
       "      <td>1</td>\n",
       "      <td>2016</td>\n",
       "      <td>Female</td>\n",
       "      <td>4</td>\n",
       "      <td>Married</td>\n",
       "      <td>10422</td>\n",
       "      <td>No</td>\n",
       "      <td>19</td>\n",
       "      <td>14</td>\n",
       "    </tr>\n",
       "  </tbody>\n",
       "</table>\n",
       "</div>"
      ],
      "text/plain": [
       "   Attrition  Age  DistanceFromHome  EmployeeNumber  Gender  JobSatisfaction  \\\n",
       "0          0   27                 2            1898  Female                3   \n",
       "1          0   27                 9            1965    Male                4   \n",
       "2          0   44                 2            1703  Female                4   \n",
       "3          0   42                 2            1231    Male                1   \n",
       "4          0   32                 1            2016  Female                4   \n",
       "\n",
       "  MaritalStatus  MonthlyIncome OverTime  PercentSalaryHike  TotalWorkingYears  \n",
       "0        Single           6500       No                 14                  9  \n",
       "1        Single           4105       No                 14                  7  \n",
       "2       Married           7879      Yes                 19                  9  \n",
       "3       Married           6272       No                 16                 10  \n",
       "4       Married          10422       No                 19                 14  "
      ]
     },
     "execution_count": 47,
     "metadata": {},
     "output_type": "execute_result"
    }
   ],
   "source": [
    "# 직원 이직 데이터\n",
    "path = 'https://raw.githubusercontent.com/DA4BAM/dataset/master/Attrition_simple3.csv'\n",
    "data = pd.read_csv(path)\n",
    "data.head()"
   ]
  },
  {
   "cell_type": "markdown",
   "metadata": {
    "id": "QOU6B5XEs30h"
   },
   "source": [
    "> * 변수설명\n",
    "    * Attrition\t:\t이직여부, Yes , No (Target)\n",
    "    * Age\t:\t나이\n",
    "    * DistanceFromHome\t:\t집-직장 거리(마일)\n",
    "    * EmployeeNumber\t:\t사번\n",
    "    * Gender\t:\t성별(Male, Female)\n",
    "    * JobSatisfaction\t:\t직무 만족도, 다음시트 참조\n",
    "    * MaritalStatus\t:\t결혼상태(Married, Single, Divorced)\n",
    "    * MonthlyIncome\t:\t월급(달러)\n",
    "    * OverTime\t:\t야근여부\n",
    "    * PercentSalaryHike\t:\t전년대비 급여인상율(%)\n",
    "    * TotalWorkingYears\t:\t총 근무 연수\n",
    "\n"
   ]
  },
  {
   "cell_type": "code",
   "execution_count": null,
   "metadata": {},
   "outputs": [],
   "source": []
  },
  {
   "cell_type": "code",
   "execution_count": 48,
   "metadata": {},
   "outputs": [
    {
     "data": {
      "text/plain": [
       "0    0.675\n",
       "1    0.325\n",
       "Name: Attrition, dtype: float64"
      ]
     },
     "execution_count": 48,
     "metadata": {},
     "output_type": "execute_result"
    }
   ],
   "source": [
    "data['Attrition'].value_counts(normalize=True)"
   ]
  },
  {
   "cell_type": "markdown",
   "metadata": {},
   "source": [
    "이직률이 32.5%"
   ]
  },
  {
   "cell_type": "code",
   "execution_count": null,
   "metadata": {},
   "outputs": [],
   "source": []
  },
  {
   "cell_type": "markdown",
   "metadata": {
    "id": "6ZrsyRsrvM8V"
   },
   "source": [
    "# 2.범주-->범주"
   ]
  },
  {
   "cell_type": "code",
   "execution_count": 49,
   "metadata": {
    "id": "AkjHp4QVNODn"
   },
   "outputs": [],
   "source": [
    "target = 'Attrition'"
   ]
  },
  {
   "cell_type": "markdown",
   "metadata": {
    "id": "UqdolfhyFXvP"
   },
   "source": [
    "## (1) Gender --> Attrition"
   ]
  },
  {
   "cell_type": "code",
   "execution_count": 50,
   "metadata": {
    "id": "qI49tYAdFXvQ"
   },
   "outputs": [],
   "source": [
    "feature = 'Gender'"
   ]
  },
  {
   "cell_type": "markdown",
   "metadata": {
    "id": "PM6TcghSFXvQ"
   },
   "source": [
    "* 교차표"
   ]
  },
  {
   "cell_type": "code",
   "execution_count": 51,
   "metadata": {
    "colab": {
     "base_uri": "https://localhost:8080/",
     "height": 143
    },
    "executionInfo": {
     "elapsed": 24,
     "status": "ok",
     "timestamp": 1691851969078,
     "user": {
      "displayName": "한기영",
      "userId": "13049187003176135487"
     },
     "user_tz": -540
    },
    "id": "hcGSY29EFXvQ",
    "outputId": "b61946d8-3a82-4470-a5b5-feb09c1cdf72"
   },
   "outputs": [
    {
     "data": {
      "text/html": [
       "<div>\n",
       "<style scoped>\n",
       "    .dataframe tbody tr th:only-of-type {\n",
       "        vertical-align: middle;\n",
       "    }\n",
       "\n",
       "    .dataframe tbody tr th {\n",
       "        vertical-align: top;\n",
       "    }\n",
       "\n",
       "    .dataframe thead th {\n",
       "        text-align: right;\n",
       "    }\n",
       "</style>\n",
       "<table border=\"1\" class=\"dataframe\">\n",
       "  <thead>\n",
       "    <tr style=\"text-align: right;\">\n",
       "      <th>Gender</th>\n",
       "      <th>Female</th>\n",
       "      <th>Male</th>\n",
       "    </tr>\n",
       "    <tr>\n",
       "      <th>Attrition</th>\n",
       "      <th></th>\n",
       "      <th></th>\n",
       "    </tr>\n",
       "  </thead>\n",
       "  <tbody>\n",
       "    <tr>\n",
       "      <th>0</th>\n",
       "      <td>157</td>\n",
       "      <td>248</td>\n",
       "    </tr>\n",
       "    <tr>\n",
       "      <th>1</th>\n",
       "      <td>66</td>\n",
       "      <td>129</td>\n",
       "    </tr>\n",
       "  </tbody>\n",
       "</table>\n",
       "</div>"
      ],
      "text/plain": [
       "Gender     Female  Male\n",
       "Attrition              \n",
       "0             157   248\n",
       "1              66   129"
      ]
     },
     "execution_count": 51,
     "metadata": {},
     "output_type": "execute_result"
    }
   ],
   "source": [
    "# 두 범주별 빈도수를 교차표로 만들어 봅시다.\n",
    "pd.crosstab(data[target], data[feature])"
   ]
  },
  {
   "cell_type": "code",
   "execution_count": 52,
   "metadata": {
    "colab": {
     "base_uri": "https://localhost:8080/",
     "height": 143
    },
    "executionInfo": {
     "elapsed": 24,
     "status": "ok",
     "timestamp": 1691851969079,
     "user": {
      "displayName": "한기영",
      "userId": "13049187003176135487"
     },
     "user_tz": -540
    },
    "id": "w7RrozG3FXvQ",
    "outputId": "0e7492dc-c8ba-42f2-f216-36dae61901f8"
   },
   "outputs": [
    {
     "data": {
      "text/html": [
       "<div>\n",
       "<style scoped>\n",
       "    .dataframe tbody tr th:only-of-type {\n",
       "        vertical-align: middle;\n",
       "    }\n",
       "\n",
       "    .dataframe tbody tr th {\n",
       "        vertical-align: top;\n",
       "    }\n",
       "\n",
       "    .dataframe thead th {\n",
       "        text-align: right;\n",
       "    }\n",
       "</style>\n",
       "<table border=\"1\" class=\"dataframe\">\n",
       "  <thead>\n",
       "    <tr style=\"text-align: right;\">\n",
       "      <th>Gender</th>\n",
       "      <th>Female</th>\n",
       "      <th>Male</th>\n",
       "    </tr>\n",
       "    <tr>\n",
       "      <th>Attrition</th>\n",
       "      <th></th>\n",
       "      <th></th>\n",
       "    </tr>\n",
       "  </thead>\n",
       "  <tbody>\n",
       "    <tr>\n",
       "      <th>0</th>\n",
       "      <td>0.704036</td>\n",
       "      <td>0.657825</td>\n",
       "    </tr>\n",
       "    <tr>\n",
       "      <th>1</th>\n",
       "      <td>0.295964</td>\n",
       "      <td>0.342175</td>\n",
       "    </tr>\n",
       "  </tbody>\n",
       "</table>\n",
       "</div>"
      ],
      "text/plain": [
       "Gender       Female      Male\n",
       "Attrition                    \n",
       "0          0.704036  0.657825\n",
       "1          0.295964  0.342175"
      ]
     },
     "execution_count": 52,
     "metadata": {},
     "output_type": "execute_result"
    }
   ],
   "source": [
    "pd.crosstab(data[target], data[feature], normalize = 'columns')"
   ]
  },
  {
   "cell_type": "code",
   "execution_count": null,
   "metadata": {},
   "outputs": [],
   "source": []
  },
  {
   "cell_type": "markdown",
   "metadata": {
    "id": "zvkh_s1BFXvR"
   },
   "source": [
    "* 시각화"
   ]
  },
  {
   "cell_type": "code",
   "execution_count": 53,
   "metadata": {
    "colab": {
     "base_uri": "https://localhost:8080/",
     "height": 430
    },
    "executionInfo": {
     "elapsed": 598,
     "status": "ok",
     "timestamp": 1691851969655,
     "user": {
      "displayName": "한기영",
      "userId": "13049187003176135487"
     },
     "user_tz": -540
    },
    "id": "y0Mu2da1FXvR",
    "outputId": "31b5f13c-c886-408e-9038-16ef3c92fe48"
   },
   "outputs": [
    {
     "data": {
      "image/png": "[encoded data removed]",
      "text/plain": [
       "<Figure size 432x288 with 3 Axes>"
      ]
     },
     "metadata": {
      "needs_background": "light"
     },
     "output_type": "display_data"
    }
   ],
   "source": [
    "mosaic(data, [ feature,target])\n",
    "plt.axhline(1- data[target].mean(), color = 'r')\n",
    "plt.show()"
   ]
  },
  {
   "cell_type": "markdown",
   "metadata": {},
   "source": [
    "전체평균대비 이직률 여자가 조금낮고 남자가 조금 높다"
   ]
  },
  {
   "cell_type": "code",
   "execution_count": null,
   "metadata": {},
   "outputs": [],
   "source": []
  },
  {
   "cell_type": "markdown",
   "metadata": {
    "id": "7n5wE4ehFXvR"
   },
   "source": [
    "* 수치화 : 카이제곱검정"
   ]
  },
  {
   "cell_type": "code",
   "execution_count": 54,
   "metadata": {
    "colab": {
     "base_uri": "https://localhost:8080/"
    },
    "executionInfo": {
     "elapsed": 31,
     "status": "ok",
     "timestamp": 1691851969655,
     "user": {
      "displayName": "한기영",
      "userId": "13049187003176135487"
     },
     "user_tz": -540
    },
    "id": "5JAWhh1pFXvR",
    "outputId": "1f436d00-5b29-4f1c-bb75-07a463e5b1b1"
   },
   "outputs": [
    {
     "name": "stdout",
     "output_type": "stream",
     "text": [
      "교차표\n",
      " Gender     Female  Male\n",
      "Attrition              \n",
      "0             157   248\n",
      "1              66   129\n",
      "----------------------------------------------------------------------------------------------------\n",
      "카이제곱통계량 1.1614318259891623\n",
      "p-value 0.28116879016055174\n",
      "자유도 1\n"
     ]
    }
   ],
   "source": [
    "# 먼저 집계\n",
    "table = pd.crosstab(data[target], data[feature])\n",
    "print('교차표\\n', table)\n",
    "print('-' * 100)\n",
    "\n",
    "# 카이제곱검정\n",
    "result = spst.chi2_contingency(table)\n",
    "print('카이제곱통계량', result[0])\n",
    "print('p-value', result[1])\n",
    "print('자유도', result[2])\n",
    "# print('기대빈도\\n',result[3])"
   ]
  },
  {
   "cell_type": "markdown",
   "metadata": {
    "id": "JVHKDF5DFXvR"
   },
   "source": [
    "* 파악된 내용을 기술해 봅시다."
   ]
  },
  {
   "cell_type": "markdown",
   "metadata": {
    "id": "LfwV0k0cFXvR"
   },
   "source": [
    "- 카이제곱검정으로는 관련이 없다고 나오나, 그래프로 볼때 약간 관련이 있다고 판단됨."
   ]
  },
  {
   "cell_type": "code",
   "execution_count": null,
   "metadata": {},
   "outputs": [],
   "source": []
  },
  {
   "cell_type": "code",
   "execution_count": null,
   "metadata": {},
   "outputs": [],
   "source": []
  },
  {
   "cell_type": "markdown",
   "metadata": {
    "id": "SKNsDmj2vbTw"
   },
   "source": [
    "## (2) JobSatisfaction --> Attrition"
   ]
  },
  {
   "cell_type": "markdown",
   "metadata": {
    "id": "VOLEhYH7NXMJ"
   },
   "source": [
    "* 교차표"
   ]
  },
  {
   "cell_type": "code",
   "execution_count": 55,
   "metadata": {
    "id": "ts63GHzINXMJ"
   },
   "outputs": [
    {
     "data": {
      "text/html": [
       "<div>\n",
       "<style scoped>\n",
       "    .dataframe tbody tr th:only-of-type {\n",
       "        vertical-align: middle;\n",
       "    }\n",
       "\n",
       "    .dataframe tbody tr th {\n",
       "        vertical-align: top;\n",
       "    }\n",
       "\n",
       "    .dataframe thead th {\n",
       "        text-align: right;\n",
       "    }\n",
       "</style>\n",
       "<table border=\"1\" class=\"dataframe\">\n",
       "  <thead>\n",
       "    <tr style=\"text-align: right;\">\n",
       "      <th>JobSatisfaction</th>\n",
       "      <th>1</th>\n",
       "      <th>2</th>\n",
       "      <th>3</th>\n",
       "      <th>4</th>\n",
       "    </tr>\n",
       "    <tr>\n",
       "      <th>Attrition</th>\n",
       "      <th></th>\n",
       "      <th></th>\n",
       "      <th></th>\n",
       "      <th></th>\n",
       "    </tr>\n",
       "  </thead>\n",
       "  <tbody>\n",
       "    <tr>\n",
       "      <th>0</th>\n",
       "      <td>74</td>\n",
       "      <td>79</td>\n",
       "      <td>114</td>\n",
       "      <td>138</td>\n",
       "    </tr>\n",
       "    <tr>\n",
       "      <th>1</th>\n",
       "      <td>52</td>\n",
       "      <td>37</td>\n",
       "      <td>59</td>\n",
       "      <td>47</td>\n",
       "    </tr>\n",
       "  </tbody>\n",
       "</table>\n",
       "</div>"
      ],
      "text/plain": [
       "JobSatisfaction   1   2    3    4\n",
       "Attrition                        \n",
       "0                74  79  114  138\n",
       "1                52  37   59   47"
      ]
     },
     "execution_count": 55,
     "metadata": {},
     "output_type": "execute_result"
    }
   ],
   "source": [
    "feature='JobSatisfaction'\n",
    "target='Attrition'\n",
    "pd.crosstab(data[target], data[feature])"
   ]
  },
  {
   "cell_type": "code",
   "execution_count": 56,
   "metadata": {
    "id": "tIwOQU7DNXMJ"
   },
   "outputs": [
    {
     "data": {
      "text/html": [
       "<div>\n",
       "<style scoped>\n",
       "    .dataframe tbody tr th:only-of-type {\n",
       "        vertical-align: middle;\n",
       "    }\n",
       "\n",
       "    .dataframe tbody tr th {\n",
       "        vertical-align: top;\n",
       "    }\n",
       "\n",
       "    .dataframe thead th {\n",
       "        text-align: right;\n",
       "    }\n",
       "</style>\n",
       "<table border=\"1\" class=\"dataframe\">\n",
       "  <thead>\n",
       "    <tr style=\"text-align: right;\">\n",
       "      <th>JobSatisfaction</th>\n",
       "      <th>1</th>\n",
       "      <th>2</th>\n",
       "      <th>3</th>\n",
       "      <th>4</th>\n",
       "    </tr>\n",
       "    <tr>\n",
       "      <th>Attrition</th>\n",
       "      <th></th>\n",
       "      <th></th>\n",
       "      <th></th>\n",
       "      <th></th>\n",
       "    </tr>\n",
       "  </thead>\n",
       "  <tbody>\n",
       "    <tr>\n",
       "      <th>0</th>\n",
       "      <td>0.587302</td>\n",
       "      <td>0.681034</td>\n",
       "      <td>0.65896</td>\n",
       "      <td>0.745946</td>\n",
       "    </tr>\n",
       "    <tr>\n",
       "      <th>1</th>\n",
       "      <td>0.412698</td>\n",
       "      <td>0.318966</td>\n",
       "      <td>0.34104</td>\n",
       "      <td>0.254054</td>\n",
       "    </tr>\n",
       "  </tbody>\n",
       "</table>\n",
       "</div>"
      ],
      "text/plain": [
       "JobSatisfaction         1         2        3         4\n",
       "Attrition                                             \n",
       "0                0.587302  0.681034  0.65896  0.745946\n",
       "1                0.412698  0.318966  0.34104  0.254054"
      ]
     },
     "execution_count": 56,
     "metadata": {},
     "output_type": "execute_result"
    }
   ],
   "source": [
    "pd.crosstab(data[target], data[feature], normalize = 'columns')"
   ]
  },
  {
   "cell_type": "code",
   "execution_count": null,
   "metadata": {},
   "outputs": [],
   "source": []
  },
  {
   "cell_type": "markdown",
   "metadata": {
    "id": "z0tKDALXNXMK"
   },
   "source": [
    "* 시각화"
   ]
  },
  {
   "cell_type": "code",
   "execution_count": 57,
   "metadata": {
    "id": "LQ_gMbMZNXMK"
   },
   "outputs": [
    {
     "data": {
      "image/png": "[encoded data removed]",
      "text/plain": [
       "<Figure size 432x288 with 3 Axes>"
      ]
     },
     "metadata": {
      "needs_background": "light"
     },
     "output_type": "display_data"
    }
   ],
   "source": [
    "mosaic(data, [ feature,target])\n",
    "plt.axhline(1- data[target].mean(), color = 'r') # data[target].mean() 이직률\n",
    "plt.show()"
   ]
  },
  {
   "cell_type": "markdown",
   "metadata": {},
   "source": [
    "- 데이터 들어간 순서 / 조절은 정렬하고 집어넣으면됨 data.sort_values() \n",
    "- 1 이직률 / 0 잔존율\n",
    "- x축 1이 이직률 높다"
   ]
  },
  {
   "cell_type": "code",
   "execution_count": null,
   "metadata": {},
   "outputs": [],
   "source": []
  },
  {
   "cell_type": "markdown",
   "metadata": {
    "id": "114FidmrNXMK"
   },
   "source": [
    "* 수치화 : 카이제곱검정"
   ]
  },
  {
   "cell_type": "code",
   "execution_count": 58,
   "metadata": {
    "id": "lYvEp4ogNXMK"
   },
   "outputs": [
    {
     "name": "stdout",
     "output_type": "stream",
     "text": [
      "교차표\n",
      " JobSatisfaction   1   2    3    4\n",
      "Attrition                        \n",
      "0                74  79  114  138\n",
      "1                52  37   59   47\n",
      "----------------------------------------------------------------------------------------------------\n",
      "카이제곱통계량 8.884191097554549\n",
      "p-value 0.03087092125625072\n",
      "자유도 3\n"
     ]
    }
   ],
   "source": [
    "# 먼저 집계\n",
    "table = pd.crosstab(data[target], data[feature])\n",
    "print('교차표\\n', table)\n",
    "print('-' * 100)\n",
    "\n",
    "# 카이제곱검정\n",
    "result = spst.chi2_contingency(table)\n",
    "print('카이제곱통계량', result[0])\n",
    "print('p-value', result[1])\n",
    "print('자유도', result[2])\n",
    "# print('기대빈도\\n',result[3])"
   ]
  },
  {
   "cell_type": "code",
   "execution_count": null,
   "metadata": {},
   "outputs": [],
   "source": []
  },
  {
   "cell_type": "markdown",
   "metadata": {
    "id": "tJ-JzIENNXMK"
   },
   "source": [
    "* 파악된 내용을 기술해 봅시다."
   ]
  },
  {
   "cell_type": "markdown",
   "metadata": {},
   "source": [
    "- 카이제곱 검정시 유효하다\n",
    "- 직무만족따라 이직여부 관련 있다"
   ]
  },
  {
   "cell_type": "code",
   "execution_count": null,
   "metadata": {
    "id": "i4FyQWWUNXMK"
   },
   "outputs": [],
   "source": []
  },
  {
   "cell_type": "markdown",
   "metadata": {
    "id": "xlHc1d0yvbd5"
   },
   "source": [
    "## (3) MaritalStatus --> Attrition"
   ]
  },
  {
   "cell_type": "markdown",
   "metadata": {
    "id": "bXq3KSVSNZAG"
   },
   "source": [
    "* 교차표"
   ]
  },
  {
   "cell_type": "code",
   "execution_count": 59,
   "metadata": {},
   "outputs": [
    {
     "data": {
      "text/plain": [
       "Index(['Attrition', 'Age', 'DistanceFromHome', 'EmployeeNumber', 'Gender',\n",
       "       'JobSatisfaction', 'MaritalStatus', 'MonthlyIncome', 'OverTime',\n",
       "       'PercentSalaryHike', 'TotalWorkingYears'],\n",
       "      dtype='object')"
      ]
     },
     "execution_count": 59,
     "metadata": {},
     "output_type": "execute_result"
    }
   ],
   "source": [
    "data.columns"
   ]
  },
  {
   "cell_type": "code",
   "execution_count": 60,
   "metadata": {},
   "outputs": [
    {
     "data": {
      "text/html": [
       "<div>\n",
       "<style scoped>\n",
       "    .dataframe tbody tr th:only-of-type {\n",
       "        vertical-align: middle;\n",
       "    }\n",
       "\n",
       "    .dataframe tbody tr th {\n",
       "        vertical-align: top;\n",
       "    }\n",
       "\n",
       "    .dataframe thead th {\n",
       "        text-align: right;\n",
       "    }\n",
       "</style>\n",
       "<table border=\"1\" class=\"dataframe\">\n",
       "  <thead>\n",
       "    <tr style=\"text-align: right;\">\n",
       "      <th>MaritalStatus</th>\n",
       "      <th>Divorced</th>\n",
       "      <th>Married</th>\n",
       "      <th>Single</th>\n",
       "    </tr>\n",
       "    <tr>\n",
       "      <th>Attrition</th>\n",
       "      <th></th>\n",
       "      <th></th>\n",
       "      <th></th>\n",
       "    </tr>\n",
       "  </thead>\n",
       "  <tbody>\n",
       "    <tr>\n",
       "      <th>0</th>\n",
       "      <td>89</td>\n",
       "      <td>205</td>\n",
       "      <td>111</td>\n",
       "    </tr>\n",
       "    <tr>\n",
       "      <th>1</th>\n",
       "      <td>23</td>\n",
       "      <td>69</td>\n",
       "      <td>103</td>\n",
       "    </tr>\n",
       "  </tbody>\n",
       "</table>\n",
       "</div>"
      ],
      "text/plain": [
       "MaritalStatus  Divorced  Married  Single\n",
       "Attrition                               \n",
       "0                    89      205     111\n",
       "1                    23       69     103"
      ]
     },
     "execution_count": 60,
     "metadata": {},
     "output_type": "execute_result"
    }
   ],
   "source": [
    "feature='MaritalStatus'\n",
    "target='Attrition'\n",
    "pd.crosstab(data[target], data[feature])"
   ]
  },
  {
   "cell_type": "code",
   "execution_count": null,
   "metadata": {},
   "outputs": [],
   "source": []
  },
  {
   "cell_type": "code",
   "execution_count": 61,
   "metadata": {},
   "outputs": [
    {
     "data": {
      "text/html": [
       "<div>\n",
       "<style scoped>\n",
       "    .dataframe tbody tr th:only-of-type {\n",
       "        vertical-align: middle;\n",
       "    }\n",
       "\n",
       "    .dataframe tbody tr th {\n",
       "        vertical-align: top;\n",
       "    }\n",
       "\n",
       "    .dataframe thead th {\n",
       "        text-align: right;\n",
       "    }\n",
       "</style>\n",
       "<table border=\"1\" class=\"dataframe\">\n",
       "  <thead>\n",
       "    <tr style=\"text-align: right;\">\n",
       "      <th>MaritalStatus</th>\n",
       "      <th>Divorced</th>\n",
       "      <th>Married</th>\n",
       "      <th>Single</th>\n",
       "    </tr>\n",
       "    <tr>\n",
       "      <th>Attrition</th>\n",
       "      <th></th>\n",
       "      <th></th>\n",
       "      <th></th>\n",
       "    </tr>\n",
       "  </thead>\n",
       "  <tbody>\n",
       "    <tr>\n",
       "      <th>0</th>\n",
       "      <td>0.794643</td>\n",
       "      <td>0.748175</td>\n",
       "      <td>0.518692</td>\n",
       "    </tr>\n",
       "    <tr>\n",
       "      <th>1</th>\n",
       "      <td>0.205357</td>\n",
       "      <td>0.251825</td>\n",
       "      <td>0.481308</td>\n",
       "    </tr>\n",
       "  </tbody>\n",
       "</table>\n",
       "</div>"
      ],
      "text/plain": [
       "MaritalStatus  Divorced   Married    Single\n",
       "Attrition                                  \n",
       "0              0.794643  0.748175  0.518692\n",
       "1              0.205357  0.251825  0.481308"
      ]
     },
     "execution_count": 61,
     "metadata": {},
     "output_type": "execute_result"
    }
   ],
   "source": [
    "pd.crosstab(data[target], data[feature], normalize = 'columns')"
   ]
  },
  {
   "cell_type": "code",
   "execution_count": null,
   "metadata": {},
   "outputs": [],
   "source": []
  },
  {
   "cell_type": "markdown",
   "metadata": {
    "id": "8u7adE72NZAH"
   },
   "source": [
    "* 시각화"
   ]
  },
  {
   "cell_type": "code",
   "execution_count": 62,
   "metadata": {
    "id": "yE9f1WRSNZAI"
   },
   "outputs": [
    {
     "data": {
      "image/png": "[encoded data removed]",
      "text/plain": [
       "<Figure size 432x288 with 3 Axes>"
      ]
     },
     "metadata": {
      "needs_background": "light"
     },
     "output_type": "display_data"
    }
   ],
   "source": [
    "mosaic(data, [ feature,target])\n",
    "plt.axhline(1- data[target].mean(), color = 'r')\n",
    "plt.show()"
   ]
  },
  {
   "cell_type": "code",
   "execution_count": null,
   "metadata": {},
   "outputs": [],
   "source": []
  },
  {
   "cell_type": "markdown",
   "metadata": {
    "id": "LIzvz9hfNZAI"
   },
   "source": [
    "* 수치화 : 카이제곱검정"
   ]
  },
  {
   "cell_type": "code",
   "execution_count": 63,
   "metadata": {
    "id": "sWC6uvXSNZAI"
   },
   "outputs": [
    {
     "name": "stdout",
     "output_type": "stream",
     "text": [
      "교차표\n",
      " MaritalStatus  Divorced  Married  Single\n",
      "Attrition                               \n",
      "0                    89      205     111\n",
      "1                    23       69     103\n",
      "----------------------------------------------------------------------------------------------------\n",
      "카이제곱통계량 37.829711907070525\n",
      "p-value 6.100738829354226e-09\n",
      "자유도 2\n"
     ]
    }
   ],
   "source": [
    "# 먼저 집계\n",
    "table = pd.crosstab(data[target], data[feature])\n",
    "print('교차표\\n', table)\n",
    "print('-' * 100)\n",
    "\n",
    "# 카이제곱검정\n",
    "result = spst.chi2_contingency(table)\n",
    "print('카이제곱통계량', result[0])\n",
    "print('p-value', result[1])\n",
    "print('자유도', result[2])\n",
    "# print('기대빈도\\n',result[3])"
   ]
  },
  {
   "cell_type": "code",
   "execution_count": null,
   "metadata": {},
   "outputs": [],
   "source": []
  },
  {
   "cell_type": "markdown",
   "metadata": {
    "id": "_vfiQkHLNZAI"
   },
   "source": [
    "* 파악된 내용을 기술해 봅시다."
   ]
  },
  {
   "cell_type": "markdown",
   "metadata": {},
   "source": [
    "- 카이제곱 검정시 유효하다 / 결혼상태와 이직은 연관이 있다고 볼수있다"
   ]
  },
  {
   "cell_type": "code",
   "execution_count": null,
   "metadata": {
    "id": "FTggbXtWNZAJ"
   },
   "outputs": [],
   "source": []
  },
  {
   "cell_type": "code",
   "execution_count": null,
   "metadata": {},
   "outputs": [],
   "source": []
  },
  {
   "cell_type": "markdown",
   "metadata": {
    "id": "mYFGKfFNvbmo"
   },
   "source": [
    "## (4) OverTime --> Attrition"
   ]
  },
  {
   "cell_type": "markdown",
   "metadata": {
    "id": "fAKOctEvNabG"
   },
   "source": [
    "* 교차표"
   ]
  },
  {
   "cell_type": "code",
   "execution_count": 64,
   "metadata": {
    "id": "VgAmZ1CiNabG"
   },
   "outputs": [
    {
     "data": {
      "text/html": [
       "<div>\n",
       "<style scoped>\n",
       "    .dataframe tbody tr th:only-of-type {\n",
       "        vertical-align: middle;\n",
       "    }\n",
       "\n",
       "    .dataframe tbody tr th {\n",
       "        vertical-align: top;\n",
       "    }\n",
       "\n",
       "    .dataframe thead th {\n",
       "        text-align: right;\n",
       "    }\n",
       "</style>\n",
       "<table border=\"1\" class=\"dataframe\">\n",
       "  <thead>\n",
       "    <tr style=\"text-align: right;\">\n",
       "      <th>OverTime</th>\n",
       "      <th>No</th>\n",
       "      <th>Yes</th>\n",
       "    </tr>\n",
       "    <tr>\n",
       "      <th>Attrition</th>\n",
       "      <th></th>\n",
       "      <th></th>\n",
       "    </tr>\n",
       "  </thead>\n",
       "  <tbody>\n",
       "    <tr>\n",
       "      <th>0</th>\n",
       "      <td>315</td>\n",
       "      <td>90</td>\n",
       "    </tr>\n",
       "    <tr>\n",
       "      <th>1</th>\n",
       "      <td>90</td>\n",
       "      <td>105</td>\n",
       "    </tr>\n",
       "  </tbody>\n",
       "</table>\n",
       "</div>"
      ],
      "text/plain": [
       "OverTime    No  Yes\n",
       "Attrition          \n",
       "0          315   90\n",
       "1           90  105"
      ]
     },
     "execution_count": 64,
     "metadata": {},
     "output_type": "execute_result"
    }
   ],
   "source": [
    "feature='OverTime'\n",
    "target='Attrition'\n",
    "pd.crosstab(data[target], data[feature])"
   ]
  },
  {
   "cell_type": "code",
   "execution_count": 65,
   "metadata": {
    "id": "zTRmRijWNabH"
   },
   "outputs": [
    {
     "data": {
      "text/html": [
       "<div>\n",
       "<style scoped>\n",
       "    .dataframe tbody tr th:only-of-type {\n",
       "        vertical-align: middle;\n",
       "    }\n",
       "\n",
       "    .dataframe tbody tr th {\n",
       "        vertical-align: top;\n",
       "    }\n",
       "\n",
       "    .dataframe thead th {\n",
       "        text-align: right;\n",
       "    }\n",
       "</style>\n",
       "<table border=\"1\" class=\"dataframe\">\n",
       "  <thead>\n",
       "    <tr style=\"text-align: right;\">\n",
       "      <th>OverTime</th>\n",
       "      <th>No</th>\n",
       "      <th>Yes</th>\n",
       "    </tr>\n",
       "    <tr>\n",
       "      <th>Attrition</th>\n",
       "      <th></th>\n",
       "      <th></th>\n",
       "    </tr>\n",
       "  </thead>\n",
       "  <tbody>\n",
       "    <tr>\n",
       "      <th>0</th>\n",
       "      <td>0.777778</td>\n",
       "      <td>0.461538</td>\n",
       "    </tr>\n",
       "    <tr>\n",
       "      <th>1</th>\n",
       "      <td>0.222222</td>\n",
       "      <td>0.538462</td>\n",
       "    </tr>\n",
       "  </tbody>\n",
       "</table>\n",
       "</div>"
      ],
      "text/plain": [
       "OverTime         No       Yes\n",
       "Attrition                    \n",
       "0          0.777778  0.461538\n",
       "1          0.222222  0.538462"
      ]
     },
     "execution_count": 65,
     "metadata": {},
     "output_type": "execute_result"
    }
   ],
   "source": [
    "pd.crosstab(data[target], data[feature], normalize = 'columns')"
   ]
  },
  {
   "cell_type": "code",
   "execution_count": null,
   "metadata": {},
   "outputs": [],
   "source": []
  },
  {
   "cell_type": "markdown",
   "metadata": {
    "id": "wdvhuToANabH"
   },
   "source": [
    "* 시각화"
   ]
  },
  {
   "cell_type": "code",
   "execution_count": 66,
   "metadata": {
    "id": "vxl89A4HNabH"
   },
   "outputs": [
    {
     "data": {
      "image/png": "[encoded data removed]",
      "text/plain": [
       "<Figure size 432x288 with 3 Axes>"
      ]
     },
     "metadata": {
      "needs_background": "light"
     },
     "output_type": "display_data"
    }
   ],
   "source": [
    "mosaic(data, [ feature,target])\n",
    "plt.axhline(1- data[target].mean(), color = 'r')\n",
    "plt.show()"
   ]
  },
  {
   "cell_type": "markdown",
   "metadata": {},
   "source": [
    "- yes가 이직률 높다 / no는 낮다"
   ]
  },
  {
   "cell_type": "code",
   "execution_count": null,
   "metadata": {},
   "outputs": [],
   "source": []
  },
  {
   "cell_type": "markdown",
   "metadata": {
    "id": "WQsch1BXNabH"
   },
   "source": [
    "* 수치화 : 카이제곱검정"
   ]
  },
  {
   "cell_type": "code",
   "execution_count": 67,
   "metadata": {
    "id": "NDiKPKboNabH"
   },
   "outputs": [
    {
     "name": "stdout",
     "output_type": "stream",
     "text": [
      "교차표\n",
      " OverTime    No  Yes\n",
      "Attrition          \n",
      "0          315   90\n",
      "1           90  105\n",
      "----------------------------------------------------------------------------------------------------\n",
      "카이제곱통계량 58.57149427899665\n",
      "p-value 1.9603625783060702e-14\n",
      "자유도 1\n"
     ]
    }
   ],
   "source": [
    "# 먼저 집계\n",
    "table = pd.crosstab(data[target], data[feature])\n",
    "print('교차표\\n', table)\n",
    "print('-' * 100)\n",
    "\n",
    "# 카이제곱검정\n",
    "result = spst.chi2_contingency(table)\n",
    "print('카이제곱통계량', result[0])\n",
    "print('p-value', result[1])\n",
    "print('자유도', result[2])\n",
    "# print('기대빈도\\n',result[3])"
   ]
  },
  {
   "cell_type": "code",
   "execution_count": null,
   "metadata": {},
   "outputs": [],
   "source": []
  },
  {
   "cell_type": "markdown",
   "metadata": {
    "id": "I_1fFy8aNabH"
   },
   "source": [
    "* 파악된 내용을 기술해 봅시다."
   ]
  },
  {
   "cell_type": "markdown",
   "metadata": {
    "id": "A4eqFyaeNabH"
   },
   "source": [
    "- 카이제곱검정시 유효하므로\n",
    "- 야근할수록 이직을 많이하고, 야근을 덜할수록 이직을 적게했다"
   ]
  },
  {
   "cell_type": "code",
   "execution_count": null,
   "metadata": {},
   "outputs": [],
   "source": []
  },
  {
   "cell_type": "markdown",
   "metadata": {},
   "source": [
    "# ====================="
   ]
  },
  {
   "cell_type": "markdown",
   "metadata": {
    "id": "RrPfHO6Gvm3_"
   },
   "source": [
    "# 3.숫자-->범주"
   ]
  },
  {
   "cell_type": "markdown",
   "metadata": {
    "id": "_QT7J092Fd0M"
   },
   "source": [
    "## (1) Age --> Attrition"
   ]
  },
  {
   "cell_type": "code",
   "execution_count": 68,
   "metadata": {
    "id": "BCAUgMoBFd0M"
   },
   "outputs": [],
   "source": [
    "feature = 'Age'"
   ]
  },
  {
   "cell_type": "code",
   "execution_count": 69,
   "metadata": {
    "colab": {
     "base_uri": "https://localhost:8080/",
     "height": 451
    },
    "executionInfo": {
     "elapsed": 555,
     "status": "ok",
     "timestamp": 1691851970923,
     "user": {
      "displayName": "한기영",
      "userId": "13049187003176135487"
     },
     "user_tz": -540
    },
    "id": "CiVoXr0rvm4A",
    "outputId": "b0c469c2-0648-4fbc-cb82-36fa9947ec97"
   },
   "outputs": [
    {
     "data": {
      "image/png": "[encoded data removed]",
      "text/plain": [
       "<Figure size 432x288 with 1 Axes>"
      ]
     },
     "metadata": {
      "needs_background": "light"
     },
     "output_type": "display_data"
    }
   ],
   "source": [
    "sns.kdeplot(x= feature, data = data, hue = target,\n",
    "            common_norm = False)\n",
    "plt.show()"
   ]
  },
  {
   "cell_type": "code",
   "execution_count": 70,
   "metadata": {
    "colab": {
     "base_uri": "https://localhost:8080/",
     "height": 455
    },
    "executionInfo": {
     "elapsed": 722,
     "status": "ok",
     "timestamp": 1691851971640,
     "user": {
      "displayName": "한기영",
      "userId": "13049187003176135487"
     },
     "user_tz": -540
    },
    "id": "c2zMGXckxX4G",
    "outputId": "3c95bdc7-f0d8-49ee-a7e6-e214bf274bca"
   },
   "outputs": [
    {
     "data": {
      "image/png": "[encoded data removed]",
      "text/plain": [
       "<Figure size 432x288 with 1 Axes>"
      ]
     },
     "metadata": {
      "needs_background": "light"
     },
     "output_type": "display_data"
    }
   ],
   "source": [
    "sns.kdeplot(x= feature, data = data, hue = target, multiple = 'fill')\n",
    "plt.axhline(data[target].mean(), color = 'r')\n",
    "plt.show()"
   ]
  },
  {
   "cell_type": "markdown",
   "metadata": {
    "id": "qsVVdfQNxvrD"
   },
   "source": [
    "* 파악된 내용을 기술해 봅시다."
   ]
  },
  {
   "cell_type": "markdown",
   "metadata": {
    "id": "ZgBOiCKnxvrE"
   },
   "source": [
    "나이대 분석결과 이직률이 전체평균보다 높고, 30대 이상은 이직률이 전체평균보다 낮다"
   ]
  },
  {
   "cell_type": "code",
   "execution_count": null,
   "metadata": {},
   "outputs": [],
   "source": []
  },
  {
   "cell_type": "markdown",
   "metadata": {
    "id": "NBQQpvwLvm4A"
   },
   "source": [
    "## (2) DistanceFromHome --> Attrition"
   ]
  },
  {
   "cell_type": "code",
   "execution_count": 80,
   "metadata": {
    "id": "600LgyVXNjdG"
   },
   "outputs": [
    {
     "data": {
      "image/png": "[encoded data removed]",
      "text/plain": [
       "<Figure size 360x576 with 3 Axes>"
      ]
     },
     "metadata": {
      "needs_background": "light"
     },
     "output_type": "display_data"
    }
   ],
   "source": [
    "feature = 'DistanceFromHome' \n",
    "plt.figure(figsize = (5, 8)) \n",
    "plt.subplot(3,1,1) \n",
    "sns.kdeplot(x=feature, data = data, hue ='Attrition', common_norm = False) \n",
    "plt.xlim(data[feature].min(), data[feature].max())\n",
    "plt.grid() \n",
    "\n",
    "plt.subplot(3,1,2) \n",
    "sns.kdeplot(x=feature, data = data, hue ='Attrition', multiple = 'fill')\n",
    "plt.axhline(data['Attrition'].mean(), color = 'r') \n",
    "plt.xlim(data[feature].min(), data[feature].max())\n",
    "plt.grid() \n",
    "\n",
    "plt.subplot(3,1,3) \n",
    "sns.histplot(x=feature, data = data, bins = 30, hue ='Attrition', multiple = 'fill') \n",
    "plt.axhline(data['Attrition'].mean(), color = 'r') \n",
    "plt.xlim(data[feature].min(), data[feature].max())\n",
    "plt.grid() \n",
    "plt.tight_layout() \n",
    "plt.show()"
   ]
  },
  {
   "cell_type": "code",
   "execution_count": null,
   "metadata": {},
   "outputs": [],
   "source": []
  },
  {
   "cell_type": "code",
   "execution_count": 82,
   "metadata": {},
   "outputs": [
    {
     "data": {
      "image/png": "[encoded data removed]",
      "text/plain": [
       "<Figure size 360x576 with 3 Axes>"
      ]
     },
     "metadata": {
      "needs_background": "light"
     },
     "output_type": "display_data"
    }
   ],
   "source": [
    "#2 강사\n",
    "feature = 'DistanceFromHome' \n",
    "plt.figure(figsize = (5, 8)) \n",
    "plt.subplot(3,1,1) \n",
    "sns.kdeplot(x=feature, data = data, hue ='Attrition', common_norm = False) \n",
    "plt.xlim(data[feature].min(), data[feature].max())\n",
    "plt.grid() \n",
    "\n",
    "plt.subplot(3,1,2) \n",
    "sns.kdeplot(x=feature, data = data, hue ='Attrition', multiple = 'fill')\n",
    "plt.axhline(data['Attrition'].mean(), color = 'r') \n",
    "plt.xlim(data[feature].min(), data[feature].max())\n",
    "plt.grid() \n",
    "\n",
    "plt.subplot(3,1,3) \n",
    "sns.histplot(x=feature, data = data, bins = 30, hue ='Attrition', multiple = 'fill') \n",
    "plt.axhline(data['Attrition'].mean(), color = 'r') \n",
    "plt.xlim(data[feature].min(), data[feature].max())\n",
    "plt.grid() \n",
    "plt.tight_layout() \n",
    "plt.show()"
   ]
  },
  {
   "cell_type": "code",
   "execution_count": null,
   "metadata": {
    "id": "bfJr5UL4NjdH"
   },
   "outputs": [],
   "source": []
  },
  {
   "cell_type": "markdown",
   "metadata": {
    "id": "D9sY9fYtNjdI"
   },
   "source": [
    "* 파악된 내용을 기술해 봅시다."
   ]
  },
  {
   "cell_type": "markdown",
   "metadata": {
    "id": "OB74HyiLNjdI"
   },
   "source": [
    "- 집과의 거리가 멀수록 이직을 평균보다 많이하는 추세다\n",
    "- 20마일 떨어진곳에 이직율 적다 이유 추가 분석필요"
   ]
  },
  {
   "cell_type": "code",
   "execution_count": null,
   "metadata": {},
   "outputs": [],
   "source": []
  },
  {
   "cell_type": "markdown",
   "metadata": {
    "id": "Q0mpltaRvm4A",
    "tags": []
   },
   "source": [
    "## (3) MonthlyIncome --> Attrition"
   ]
  },
  {
   "cell_type": "code",
   "execution_count": 83,
   "metadata": {
    "id": "4GtC61rHNliA"
   },
   "outputs": [
    {
     "data": {
      "image/png": "[encoded data removed]",
      "text/plain": [
       "<Figure size 360x576 with 3 Axes>"
      ]
     },
     "metadata": {
      "needs_background": "light"
     },
     "output_type": "display_data"
    }
   ],
   "source": [
    "feature = 'MonthlyIncome' \n",
    "plt.figure(figsize = (5, 8)) \n",
    "plt.subplot(3,1,1) \n",
    "sns.kdeplot(x=feature, data = data, hue ='Attrition', common_norm = False) \n",
    "plt.xlim(data[feature].min(), data[feature].max())\n",
    "plt.grid() \n",
    "\n",
    "plt.subplot(3,1,2) \n",
    "sns.kdeplot(x=feature, data = data, hue ='Attrition', multiple = 'fill')\n",
    "plt.axhline(data['Attrition'].mean(), color = 'r') \n",
    "plt.xlim(data[feature].min(), data[feature].max())\n",
    "plt.grid() \n",
    "\n",
    "plt.subplot(3,1,3) \n",
    "sns.histplot(x=feature, data = data, bins = 30, hue ='Attrition', multiple = 'fill') \n",
    "plt.axhline(data['Attrition'].mean(), color = 'r') \n",
    "plt.xlim(data[feature].min(), data[feature].max())\n",
    "plt.grid() \n",
    "plt.tight_layout() \n",
    "plt.show()"
   ]
  },
  {
   "cell_type": "code",
   "execution_count": null,
   "metadata": {
    "id": "jN0eL9CeNliB"
   },
   "outputs": [],
   "source": []
  },
  {
   "cell_type": "code",
   "execution_count": null,
   "metadata": {
    "id": "RGLIS1bUNliC"
   },
   "outputs": [],
   "source": []
  },
  {
   "cell_type": "markdown",
   "metadata": {
    "id": "Nb0mmJ73NliC"
   },
   "source": [
    "* 파악된 내용을 기술해 봅시다."
   ]
  },
  {
   "cell_type": "markdown",
   "metadata": {
    "id": "sQ4ldSSMNliC"
   },
   "source": [
    "- 수입이 낮을때 이직율이 높은 구간(2500, 700, 10000)이 있고, 수입이 높을수록 이직을 적게한다"
   ]
  },
  {
   "cell_type": "code",
   "execution_count": null,
   "metadata": {},
   "outputs": [],
   "source": []
  },
  {
   "cell_type": "markdown",
   "metadata": {
    "id": "HC_g-Ujmvm4A"
   },
   "source": [
    "## (4) PercentSalaryHike --> Attrition"
   ]
  },
  {
   "cell_type": "code",
   "execution_count": 86,
   "metadata": {
    "id": "MVUOMffTNmvr"
   },
   "outputs": [
    {
     "data": {
      "image/png": "[encoded data removed]",
      "text/plain": [
       "<Figure size 360x576 with 3 Axes>"
      ]
     },
     "metadata": {
      "needs_background": "light"
     },
     "output_type": "display_data"
    }
   ],
   "source": [
    "feature = 'PercentSalaryHike' \n",
    "plt.figure(figsize = (5, 8)) \n",
    "plt.subplot(3,1,1) \n",
    "sns.kdeplot(x=feature, data = data, hue ='Attrition', common_norm = False)\n",
    "plt.xlim(data[feature].min(), data[feature].max())\n",
    "plt.grid() \n",
    "\n",
    "plt.subplot(3,1,2) \n",
    "sns.kdeplot(x=feature, data = data, hue ='Attrition', multiple = 'fill')\n",
    "plt.axhline(data['Attrition'].mean(), color = 'r') \n",
    "plt.xlim(data[feature].min(), data[feature].max())\n",
    "plt.grid() \n",
    "\n",
    "plt.subplot(3,1,3) \n",
    "sns.histplot(x=feature, data = data, bins = 20, hue ='Attrition', multiple = 'fill') \n",
    "plt.axhline(data['Attrition'].mean(), color = 'r') \n",
    "plt.xlim(data[feature].min(), data[feature].max())\n",
    "plt.grid() \n",
    "plt.tight_layout() \n",
    "plt.show()"
   ]
  },
  {
   "cell_type": "code",
   "execution_count": null,
   "metadata": {
    "id": "d_eKqjELNmvr"
   },
   "outputs": [],
   "source": []
  },
  {
   "cell_type": "markdown",
   "metadata": {
    "id": "SV0ul_l6Nmvs"
   },
   "source": [
    "* 파악된 내용을 기술해 봅시다."
   ]
  },
  {
   "cell_type": "markdown",
   "metadata": {},
   "source": [
    "- 급여인상률이 23~24정도 일때 이직율이 높았다"
   ]
  },
  {
   "cell_type": "code",
   "execution_count": null,
   "metadata": {
    "id": "Z-uiofVPNmvs"
   },
   "outputs": [],
   "source": []
  },
  {
   "cell_type": "markdown",
   "metadata": {
    "id": "qa39SQm2v15q"
   },
   "source": [
    "## (5) TotalWorkingYears --> Attrition"
   ]
  },
  {
   "cell_type": "code",
   "execution_count": 85,
   "metadata": {
    "id": "hyqHkbYMNn1t"
   },
   "outputs": [
    {
     "data": {
      "image/png": "[encoded data removed]",
      "text/plain": [
       "<Figure size 360x576 with 3 Axes>"
      ]
     },
     "metadata": {
      "needs_background": "light"
     },
     "output_type": "display_data"
    }
   ],
   "source": [
    "feature = 'TotalWorkingYears' \n",
    "plt.figure(figsize = (5, 8)) \n",
    "plt.subplot(3,1,1) \n",
    "sns.kdeplot(x=feature, data = data, hue ='Attrition', common_norm = False) \n",
    "plt.xlim(data[feature].min(), data[feature].max())\n",
    "plt.grid() \n",
    "\n",
    "plt.subplot(3,1,2) \n",
    "sns.kdeplot(x=feature, data = data, hue ='Attrition', multiple = 'fill')\n",
    "plt.axhline(data['Attrition'].mean(), color = 'r') \n",
    "plt.xlim(data[feature].min(), data[feature].max())\n",
    "plt.grid() \n",
    "\n",
    "plt.subplot(3,1,3) \n",
    "sns.histplot(x=feature, data = data, bins = 30, hue ='Attrition', multiple = 'fill') \n",
    "plt.axhline(data['Attrition'].mean(), color = 'r') \n",
    "plt.xlim(data[feature].min(), data[feature].max())\n",
    "plt.grid() \n",
    "plt.tight_layout() \n",
    "plt.show()"
   ]
  },
  {
   "cell_type": "code",
   "execution_count": null,
   "metadata": {
    "id": "w5F6cOqwNn1u"
   },
   "outputs": [],
   "source": []
  },
  {
   "cell_type": "code",
   "execution_count": null,
   "metadata": {
    "id": "LRny5yKdNn1u"
   },
   "outputs": [],
   "source": []
  },
  {
   "cell_type": "markdown",
   "metadata": {
    "id": "NGWCcmxvNn1v"
   },
   "source": [
    "* 파악된 내용을 기술해 봅시다."
   ]
  },
  {
   "cell_type": "markdown",
   "metadata": {
    "id": "0R0SgrDeNn1v"
   },
   "source": [
    "- 특정연차(1~3, 7, 34)에서 이직율이 높았다\n",
    "- 정년퇴임 사람일수 있다."
   ]
  },
  {
   "cell_type": "code",
   "execution_count": null,
   "metadata": {},
   "outputs": [],
   "source": []
  },
  {
   "cell_type": "markdown",
   "metadata": {
    "id": "jAegTwTNANYZ",
    "tags": []
   },
   "source": [
    "# 4.관계 정리하기"
   ]
  },
  {
   "cell_type": "markdown",
   "metadata": {
    "id": "FlI3Rsn_ANYc"
   },
   "source": [
    "① 강한관계"
   ]
  },
  {
   "cell_type": "markdown",
   "metadata": {
    "id": "DznSWI-gANYc"
   },
   "source": [
    "MaritalStatus, OverTime, age, MonthlyIncome"
   ]
  },
  {
   "cell_type": "markdown",
   "metadata": {
    "id": "Ktdide4rANYd"
   },
   "source": [
    "② 중간관계"
   ]
  },
  {
   "cell_type": "markdown",
   "metadata": {
    "id": "cYOZmmi5ANYd"
   },
   "source": [
    "JobSatisfaction, DistanceFromHome, PercentSalaryHike"
   ]
  },
  {
   "cell_type": "markdown",
   "metadata": {
    "id": "Kop_jo4nANYd"
   },
   "source": [
    "③ 관계없음(약한 관계)"
   ]
  },
  {
   "cell_type": "markdown",
   "metadata": {
    "id": "T_-UxZG1ANYd"
   },
   "source": [
    "Gender, TotalWorkingYears"
   ]
  },
  {
   "cell_type": "code",
   "execution_count": null,
   "metadata": {},
   "outputs": [],
   "source": []
  }
 ],
 "metadata": {
  "colab": {
   "provenance": [],
   "toc_visible": true
  },
  "kernelspec": {
   "display_name": "Python 3 (ipykernel)",
   "language": "python",
   "name": "python3"
  },
  "language_info": {
   "codemirror_mode": {
    "name": "ipython",
    "version": 3
   },
   "file_extension": ".py",
   "mimetype": "text/x-python",
   "name": "python",
   "nbconvert_exporter": "python",
   "pygments_lexer": "ipython3",
   "version": "3.9.7"
  }
 },
 "nbformat": 4,
 "nbformat_minor": 4
}
